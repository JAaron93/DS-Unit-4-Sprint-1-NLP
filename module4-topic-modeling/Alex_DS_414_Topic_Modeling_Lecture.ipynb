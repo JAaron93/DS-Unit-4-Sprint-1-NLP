{
 "cells": [
  {
   "cell_type": "markdown",
   "metadata": {
    "colab_type": "text",
    "id": "cOMBkFKn6uEK"
   },
   "source": [
    "# Topic Modeling (Prepare)\n",
    "\n",
    "On Monday we talked about summarizing your documents using just token counts. Today, we're going to learn about a much more sophisticated approach - learning 'topics' from documents. Topics are a latent structure. They are not directly observable in the data, but we know they're there by reading them.\n",
    "\n",
    "> **latent**: existing but not yet developed or manifest; hidden or concealed.\n",
    "\n",
    "## Use Cases\n",
    "Primary use case: What the are your documents about? Who might want to know that in industry - \n",
    "* Identifying common themes in customer reviews\n",
    "* Grouping job ads into categories \n",
    "* Monitoring communications (Email - State Department, Google) \n",
    "\n",
    "## Learning Objectives\n",
    "*At the end of the lesson you should be able to:*\n",
    "* Part 1: Describe how an LDA Model works\n",
    "* Part 2: Build a LDA Model with Gensim\n",
    "* Part 3: Interpret LDA results & Select the appropriate number of topics"
   ]
  },
  {
   "cell_type": "code",
   "execution_count": 4,
   "metadata": {
    "colab": {},
    "colab_type": "code",
    "id": "rnyNg8sQ6uEL"
   },
   "outputs": [],
   "source": [
    "import re\n",
    "import numpy as np\n",
    "import pandas as pd\n",
    "from pprint import pprint\n",
    "\n",
    "import gensim\n",
    "import gensim.corpora as corpora\n",
    "from gensim.utils import simple_preprocess\n",
    "from gensim.models import CoherenceModel\n",
    "\n",
    "from sklearn.datasets import fetch_20newsgroups\n",
    "from pandarallel import pandarallel\n",
    "\n",
    "\n",
    "import spacy\n",
    "spacy.util.fix_random_seed(0)\n",
    "\n",
    "import pyLDAvis\n",
    "import pyLDAvis.gensim_models as gensimvis\n",
    "import matplotlib.pyplot as plt\n",
    "%matplotlib inline\n",
    "\n",
    "import warnings\n",
    "warnings.filterwarnings(\"ignore\")"
   ]
  },
  {
   "cell_type": "code",
   "execution_count": null,
   "metadata": {},
   "outputs": [],
   "source": []
  },
  {
   "cell_type": "markdown",
   "metadata": {
    "colab_type": "text",
    "id": "xbZjG6U86uEe"
   },
   "source": [
    "# Part 1: Describe how an LDA Model works\n",
    "\n",
    "We are going to focus on a high level of understand for how LDA works, meaning we are going to focus on \"what it does\" instead of \"how it does it\". I realize that this may be unsatisfying to some so I've included some resources that serve as a prerequisite for understanding how LDA works at a mathematical level. \n",
    "\n",
    "LDA is a [**Probabilistic Graphical Model (PGM)**](https://en.wikipedia.org/wiki/Graphical_model)\n",
    "\n",
    "PGM are represented by a graph that expresses the conditional dependence structure between random variables. Here's the LDA representation dependency graph: \n",
    "\n",
    "![](https://filebox.ece.vt.edu/~s14ece6504/projects/alfadda_topic/main_figure_3.png)\n",
    "\n",
    "These image is communicating the hierarchical dependency between probability distributions and their parameters. This is an application of Bayesian Probability - on steroids. \n",
    "\n",
    "\n",
    "In order to understand how LDA works, one must first understand how PGM work. If this is something that you're interested in learning more about here are some resources: \n",
    "\n",
    "This Github repo that has transformed a textbook in a collection of Jupyter Notebooks. This repo is call [**\"Bayesian Methods for Hackers\"**](https://github.com/CamDavidsonPilon/Probabilistic-Programming-and-Bayesian-Methods-for-Hackers) The cool thing about this repo is that each chapter has the same material covered in several notebooks but each notebook is written in a different python package: **PyMC2, PyMC3, Pyro, and Tensorflow Probability.** So you can even learn a new library if you want or stick to what you know. \n",
    "\n",
    "Having said that, [**Pyro**](https://pyro.ai/) is considered a very powerful probabilistic programming library that even combines probabilistic programming with deep learning. "
   ]
  },
  {
   "cell_type": "markdown",
   "metadata": {},
   "source": [
    "### Resources for LDA\n",
    "\n",
    "[**Your Guide to Latent Dirichlet Allocation**](https://medium.com/@lettier/how-does-lda-work-ill-explain-using-emoji-108abf40fa7d) Here's a medium article that works through an example of LDA. This is useful if you'd like to get an exposure of LDA outside of this notebook.\n",
    "\n",
    "[**LDA Topic Modeling**](https://lettier.com/projects/lda-topic-modeling/)This is an interactive data visualization tool that allows us to explore a simple and visual example of LDA. We'll be using this to learn about LDA in class. \n",
    "\n",
    "[**Topic Modeling with Gensim**](https://www.machinelearningplus.com/nlp/topic-modeling-gensim-python/) This is an example of implementing LDA using the same dataset that we are using in the guided project.  "
   ]
  },
  {
   "cell_type": "markdown",
   "metadata": {},
   "source": [
    "# Problem Statement\n",
    "\n",
    "We are going to load some emails. Those emails do belong to topics however those topics are hierarchical.\n",
    "\n",
    "    sci\n",
    "        \\_ electronics, space\n",
    "\n",
    "\n",
    "    talk\n",
    "        \\_politics \n",
    "                  \\_ guns, middle east\n",
    "              \n",
    "So what's the best way to categorize these emails - is it between science and talk? \n",
    "\n",
    "Is it between electronics, space, guns, and the Middle East? \n",
    "\n",
    "The Middle East is a pretty broad topics in and of itself, should that topic be broken down into further sub-topics?\n",
    "\n",
    "\n",
    "Let's learn about Topic Modeling and how it can help us answer this questions!\n",
    "\n",
    "### Load Email Corpus"
   ]
  },
  {
   "cell_type": "code",
   "execution_count": 5,
   "metadata": {},
   "outputs": [],
   "source": [
    "# notice that the categories are hierarchical\n",
    "# so there is a sense in which we 2 topics but also as many as 4 topics  \n",
    "categories = ['sci.electronics', 'sci.space', \n",
    "              'talk.politics.guns', 'talk.politics.mideast']\n",
    "data = fetch_20newsgroups(categories=categories)"
   ]
  },
  {
   "cell_type": "code",
   "execution_count": 6,
   "metadata": {
    "nbgrader": {
     "grade": false,
     "grade_id": "cell-3240b1c818e9dcc2",
     "locked": false,
     "schema_version": 3,
     "solution": true,
     "task": false
    }
   },
   "outputs": [],
   "source": [
    "# create X and Y from data\n",
    "\n",
    "###BEGIN SOLUTION\n",
    "X = data.data\n",
    "Y = data.target\n",
    "target_names = data.target_names\n",
    "###END SOLUTION"
   ]
  },
  {
   "cell_type": "code",
   "execution_count": 7,
   "metadata": {
    "colab": {
     "base_uri": "https://localhost:8080/",
     "height": 419
    },
    "colab_type": "code",
    "id": "qaMsy1XAGLxc",
    "outputId": "0a981642-93ef-4a95-c6a2-c5ca7c5151e0"
   },
   "outputs": [],
   "source": [
    "# loda data into a dataframe \n",
    "\n",
    "\n",
    "data = {\n",
    "    'content': X,\n",
    "    'target': Y,\n",
    "    'target_names': [target_names[target_id] for target_id in Y]\n",
    "}\n",
    "\n",
    "df = pd.DataFrame(data=data)"
   ]
  },
  {
   "cell_type": "code",
   "execution_count": 8,
   "metadata": {
    "colab": {
     "base_uri": "https://localhost:8080/",
     "height": 289
    },
    "colab_type": "code",
    "id": "na2bkOcFGter",
    "nbgrader": {
     "grade": false,
     "grade_id": "cell-6ce62b4e40acee5f",
     "locked": false,
     "schema_version": 3,
     "solution": true,
     "task": false
    },
    "outputId": "6c8d1a19-3719-4e28-d8c6-d3202fdd6257"
   },
   "outputs": [],
   "source": [
    "def clean_data(text):\n",
    "    \"\"\"\n",
    "    Accepts a single text document and performs several regex substitutions in order to clean the document. \n",
    "    \n",
    "    Parameters\n",
    "    ----------\n",
    "    text: string or object \n",
    "    \n",
    "    Returns\n",
    "    -------\n",
    "    text: string or object\n",
    "    \"\"\"\n",
    "    \n",
    "    # order of operations - apply the expression from top to bottom\n",
    "    email_regex = \"From: \\S*@\\S*\\s?\"\n",
    "    non_alpha = '[^a-zA-Z]'\n",
    "    multi_white_spaces = \"[ ]{2,}\"\n",
    "    \n",
    "    text = re.sub(email_regex, \"\", text)\n",
    "    text = re.sub(non_alpha, ' ', text)\n",
    "    text = re.sub(multi_white_spaces, \" \", text)\n",
    "    \n",
    "    # apply case normalization \n",
    "    return text.lower().lstrip().rstrip()"
   ]
  },
  {
   "cell_type": "code",
   "execution_count": 9,
   "metadata": {},
   "outputs": [],
   "source": [
    "# clean our text data and save it to a new column\n",
    "df[\"clean_data\"] = df[\"content\"].apply(clean_data)"
   ]
  },
  {
   "cell_type": "code",
   "execution_count": 10,
   "metadata": {},
   "outputs": [
    {
     "data": {
      "text/html": [
       "<div>\n",
       "<style scoped>\n",
       "    .dataframe tbody tr th:only-of-type {\n",
       "        vertical-align: middle;\n",
       "    }\n",
       "\n",
       "    .dataframe tbody tr th {\n",
       "        vertical-align: top;\n",
       "    }\n",
       "\n",
       "    .dataframe thead th {\n",
       "        text-align: right;\n",
       "    }\n",
       "</style>\n",
       "<table border=\"1\" class=\"dataframe\">\n",
       "  <thead>\n",
       "    <tr style=\"text-align: right;\">\n",
       "      <th></th>\n",
       "      <th>content</th>\n",
       "      <th>target</th>\n",
       "      <th>target_names</th>\n",
       "      <th>clean_data</th>\n",
       "    </tr>\n",
       "  </thead>\n",
       "  <tbody>\n",
       "    <tr>\n",
       "      <th>0</th>\n",
       "      <td>From: webb@itu1 (90-29265  Webber  AH)\\nSubjec...</td>\n",
       "      <td>0</td>\n",
       "      <td>sci.electronics</td>\n",
       "      <td>webber ah subject re adcom cheap products arti...</td>\n",
       "    </tr>\n",
       "    <tr>\n",
       "      <th>1</th>\n",
       "      <td>From: nate@psygate.psych.indiana.edu (Nathan E...</td>\n",
       "      <td>2</td>\n",
       "      <td>talk.politics.guns</td>\n",
       "      <td>nathan engle subject re atf burns dividian ran...</td>\n",
       "    </tr>\n",
       "    <tr>\n",
       "      <th>2</th>\n",
       "      <td>From: ab4z@Virginia.EDU (\"Andi Beyer\")\\nSubjec...</td>\n",
       "      <td>3</td>\n",
       "      <td>talk.politics.mideast</td>\n",
       "      <td>andi beyer subject re israeli terrorism organi...</td>\n",
       "    </tr>\n",
       "    <tr>\n",
       "      <th>3</th>\n",
       "      <td>From: levy@levy.fnal.gov (Mark E. Levy, ext. 8...</td>\n",
       "      <td>0</td>\n",
       "      <td>sci.electronics</td>\n",
       "      <td>mark e levy ext subject sources for intel d c ...</td>\n",
       "    </tr>\n",
       "    <tr>\n",
       "      <th>4</th>\n",
       "      <td>From: wolfone@ccwf.cc.utexas.edu (I am an andr...</td>\n",
       "      <td>2</td>\n",
       "      <td>talk.politics.guns</td>\n",
       "      <td>i am an android subject re atf burns dividian ...</td>\n",
       "    </tr>\n",
       "  </tbody>\n",
       "</table>\n",
       "</div>"
      ],
      "text/plain": [
       "                                             content  target  \\\n",
       "0  From: webb@itu1 (90-29265  Webber  AH)\\nSubjec...       0   \n",
       "1  From: nate@psygate.psych.indiana.edu (Nathan E...       2   \n",
       "2  From: ab4z@Virginia.EDU (\"Andi Beyer\")\\nSubjec...       3   \n",
       "3  From: levy@levy.fnal.gov (Mark E. Levy, ext. 8...       0   \n",
       "4  From: wolfone@ccwf.cc.utexas.edu (I am an andr...       2   \n",
       "\n",
       "            target_names                                         clean_data  \n",
       "0        sci.electronics  webber ah subject re adcom cheap products arti...  \n",
       "1     talk.politics.guns  nathan engle subject re atf burns dividian ran...  \n",
       "2  talk.politics.mideast  andi beyer subject re israeli terrorism organi...  \n",
       "3        sci.electronics  mark e levy ext subject sources for intel d c ...  \n",
       "4     talk.politics.guns  i am an android subject re atf burns dividian ...  "
      ]
     },
     "execution_count": 10,
     "metadata": {},
     "output_type": "execute_result"
    }
   ],
   "source": [
    "df.head()"
   ]
  },
  {
   "cell_type": "markdown",
   "metadata": {},
   "source": [
    "### Create Tokens \n",
    "\n",
    "Before we can use the Gemsim library to create bag-of-words vectors in exactly the right way that the LDA model wants, we must first create tokens. \n",
    "\n",
    "Let's use spaCy to create some lemmas. But first let's initialize our multi-processing library `pandarallel` which will empower us to use the same dataframe that our data is stored in but be able to create tokens in parallel so as to save time.\n",
    "\n",
    "Here's the documentation for [**pandarallel**](https://github.com/nalepae/pandarallel)"
   ]
  },
  {
   "cell_type": "code",
   "execution_count": 11,
   "metadata": {},
   "outputs": [
    {
     "name": "stdout",
     "output_type": "stream",
     "text": [
      "INFO: Pandarallel will run on 10 workers.\n",
      "INFO: Pandarallel will use Memory file system to transfer data between the main process and workers.\n"
     ]
    }
   ],
   "source": [
    "# we mush initalize pandarallel before we can use it\n",
    "pandarallel.initialize(progress_bar=True, nb_workers=10)"
   ]
  },
  {
   "cell_type": "code",
   "execution_count": 12,
   "metadata": {},
   "outputs": [],
   "source": [
    "# load in our spaCy language model\n",
    "nlp = spacy.load(\"en_core_web_lg\")"
   ]
  },
  {
   "cell_type": "code",
   "execution_count": 13,
   "metadata": {
    "colab": {},
    "colab_type": "code",
    "id": "6EBPQXqEKE9P"
   },
   "outputs": [
    {
     "data": {
      "application/vnd.jupyter.widget-view+json": {
       "model_id": "b14c5e3b18d046669c5de9d9c3704306",
       "version_major": 2,
       "version_minor": 0
      },
      "text/plain": [
       "VBox(children=(HBox(children=(IntProgress(value=0, description='0.00%', max=230), Label(value='0 / 230'))), HB…"
      ]
     },
     "metadata": {},
     "output_type": "display_data"
    },
    {
     "name": "stdout",
     "output_type": "stream",
     "text": [
      "CPU times: user 1.29 s, sys: 341 ms, total: 1.63 s\n",
      "Wall time: 19.6 s\n"
     ]
    }
   ],
   "source": [
    "%%time\n",
    "# create our tokens in the form of lemmas \n",
    "df['lemmas'] = df['clean_data'].parallel_apply(lambda x: [token.lemma_ for token in nlp(x) if (token.is_stop != True) and (token.is_punct != True)])"
   ]
  },
  {
   "cell_type": "markdown",
   "metadata": {},
   "source": [
    "### Take a look at our lemmas"
   ]
  },
  {
   "cell_type": "code",
   "execution_count": 14,
   "metadata": {},
   "outputs": [],
   "source": [
    "# print out the lemmeas from the first article"
   ]
  },
  {
   "cell_type": "markdown",
   "metadata": {},
   "source": [
    "### Filter out low quality lemmas"
   ]
  },
  {
   "cell_type": "code",
   "execution_count": 15,
   "metadata": {},
   "outputs": [],
   "source": [
    "def filter_lemmas(lemmas):\n",
    "    \"\"\"\n",
    "    Filter out any lemmas that are 2 characters or smaller\n",
    "    \"\"\"\n",
    "    return [lemmas for lemmas in lemmas if len(lemmas) > 2]"
   ]
  },
  {
   "cell_type": "code",
   "execution_count": 16,
   "metadata": {},
   "outputs": [],
   "source": [
    "# apply filter_lemmas"
   ]
  },
  {
   "cell_type": "markdown",
   "metadata": {},
   "source": [
    "### The two main inputs to the LDA topic model are the dictionary (id2word) and the corpus."
   ]
  },
  {
   "cell_type": "code",
   "execution_count": 17,
   "metadata": {
    "colab": {},
    "colab_type": "code",
    "id": "1klqRpqtJxWc",
    "nbgrader": {
     "grade": false,
     "grade_id": "cell-79d38b90e5c6e38b",
     "locked": false,
     "schema_version": 3,
     "solution": true,
     "task": false
    }
   },
   "outputs": [
    {
     "data": {
      "text/plain": [
       "[('article', 3),\n",
       " ('d', 1),\n",
       " ('drop', 1),\n",
       " ('good', 1),\n",
       " ('hear', 1),\n",
       " ('inside', 3),\n",
       " ('line', 1),\n",
       " ('m', 4),\n",
       " ('organization', 1),\n",
       " ('people', 2),\n",
       " ('point', 1),\n",
       " ('post', 1),\n",
       " ('product', 1),\n",
       " ('s', 4),\n",
       " ('subject', 1),\n",
       " ('sure', 1),\n",
       " ('t', 4),\n",
       " ('think', 1),\n",
       " ('true', 1),\n",
       " ('w', 2),\n",
       " ('want', 2),\n",
       " ('believe', 1),\n",
       " ('child', 2),\n",
       " ('come', 3),\n",
       " ('distribution', 1),\n",
       " ('edu', 4),\n",
       " ('fbi', 5),\n",
       " ('fire', 1),\n",
       " ('get', 3),\n",
       " ('host', 1),\n",
       " ('nntp', 1),\n",
       " ('place', 1),\n",
       " ('set', 1),\n",
       " ('write', 3),\n",
       " ('doubt', 1),\n",
       " ('happen', 1),\n",
       " ('truth', 2),\n",
       " ('c', 2),\n",
       " ('com', 5),\n",
       " ('day', 4),\n",
       " ('j', 1),\n",
       " ('news', 2),\n",
       " ('r', 1),\n",
       " ('stay', 2),\n",
       " ('way', 1),\n",
       " ('action', 2),\n",
       " ('affair', 1),\n",
       " ('agree', 2),\n",
       " ('alive', 1),\n",
       " ('american', 2),\n",
       " ('ample', 1),\n",
       " ('apparently', 1),\n",
       " ('april', 2),\n",
       " ('arlen', 1),\n",
       " ('arm', 2),\n",
       " ('arras', 2),\n",
       " ('bastard', 1),\n",
       " ('batf', 2),\n",
       " ('bill', 2),\n",
       " ('bleed', 4),\n",
       " ('blind', 1),\n",
       " ('bungle', 1),\n",
       " ('chatham', 2),\n",
       " ('choose', 2),\n",
       " ('chopin', 2),\n",
       " ('clem', 1),\n",
       " ('clinton', 2),\n",
       " ('comment', 1),\n",
       " ('common', 1),\n",
       " ('compound', 1),\n",
       " ('congress', 1),\n",
       " ('country', 2),\n",
       " ('course', 1),\n",
       " ('creature', 1),\n",
       " ('cry', 1),\n",
       " ('cube', 1),\n",
       " ('dale', 1),\n",
       " ('de', 2),\n",
       " ('dept', 1),\n",
       " ('deserve', 3),\n",
       " ('devotion', 1),\n",
       " ('die', 3),\n",
       " ('earl', 2),\n",
       " ('early', 1),\n",
       " ('englishman', 2),\n",
       " ('feel', 1),\n",
       " ('find', 1),\n",
       " ('folk', 1),\n",
       " ('foreign', 2),\n",
       " ('gas', 2),\n",
       " ('give', 1),\n",
       " ('go', 2),\n",
       " ('god', 1),\n",
       " ('government', 1),\n",
       " ('gunfire', 1),\n",
       " ('hand', 2),\n",
       " ('handheld', 5),\n",
       " ('haven', 2),\n",
       " ('heart', 4),\n",
       " ('heartless', 2),\n",
       " ('hold', 1),\n",
       " ('human', 2),\n",
       " ('inc', 1),\n",
       " ('investigate', 2),\n",
       " ('jim', 4),\n",
       " ('jmd', 3),\n",
       " ('justice', 1),\n",
       " ('keep', 1),\n",
       " ('kind', 1),\n",
       " ('land', 2),\n",
       " ('lay', 2),\n",
       " ('leave', 1),\n",
       " ('lets', 1),\n",
       " ('likely', 1),\n",
       " ('lre', 1),\n",
       " ('morning', 1),\n",
       " ('motion', 1),\n",
       " ('mr', 1),\n",
       " ('murder', 1),\n",
       " ('noriega', 1),\n",
       " ('nov', 2),\n",
       " ('opinion', 1),\n",
       " ('opportunity', 1),\n",
       " ('pitt', 2),\n",
       " ('plan', 1),\n",
       " ('possible', 2),\n",
       " ('propose', 1),\n",
       " ('qsrinnc', 1),\n",
       " ('quickly', 1),\n",
       " ('rational', 1),\n",
       " ('release', 1),\n",
       " ('religious', 1),\n",
       " ('rethink', 4),\n",
       " ('roby', 5),\n",
       " ('say', 1),\n",
       " ('scott', 2),\n",
       " ('sense', 1),\n",
       " ('smart', 1),\n",
       " ('spectre', 1),\n",
       " ('spov', 1),\n",
       " ('spread', 1),\n",
       " ('start', 3),\n",
       " ('suck', 1),\n",
       " ('take', 1),\n",
       " ('tank', 1),\n",
       " ('tear', 2),\n",
       " ('thing', 1),\n",
       " ('today', 2),\n",
       " ('trial', 3),\n",
       " ('troop', 2),\n",
       " ('udel', 4),\n",
       " ('undeniable', 3),\n",
       " ('unworthy', 1),\n",
       " ('waco', 1),\n",
       " ('walk', 1),\n",
       " ('william', 2),\n",
       " ('world', 1),\n",
       " ('yesterday', 2)]"
      ]
     },
     "execution_count": 17,
     "metadata": {},
     "output_type": "execute_result"
    }
   ],
   "source": [
    "# Create Dictionary\n",
    "\n",
    "# Term Document Frequency\n",
    "\n",
    "# stores (token id, token count) for each doc in the corpus\n",
    "\n",
    "# Human readable format of corpus (term-frequency)\n",
    "\n",
    "\n",
    "### BEGIN SOLUTION\n",
    "# Create Dictionary\n",
    "id2word = corpora.Dictionary(df['lemmas'] )\n",
    "\n",
    "# Term Document Frequency\n",
    "corpus = [id2word.doc2bow(text) for text in df['lemmas']]\n",
    "\n",
    "# stores (token id, token count) for each doc in the corpus\n",
    "doc_id = 5\n",
    "corpus[doc_id]\n",
    "\n",
    "# Human readable format of corpus (term-frequency)\n",
    "[(id2word[word_id], word_count) for word_id, word_count in corpus[doc_id]]\n",
    "\n",
    "### END SOLUTION"
   ]
  },
  {
   "cell_type": "markdown",
   "metadata": {},
   "source": [
    "# Part 2: Estimate a LDA Model with Gensim"
   ]
  },
  {
   "cell_type": "markdown",
   "metadata": {},
   "source": [
    " ### Train an LDA model"
   ]
  },
  {
   "cell_type": "code",
   "execution_count": 18,
   "metadata": {
    "colab": {},
    "colab_type": "code",
    "id": "Fasvjf0VLQ2a"
   },
   "outputs": [],
   "source": [
    "### This cell runs the single-processor version of the model (slower)\n",
    "# %%time\n",
    "# lda_model = gensim.models.ldamodel.LdaModel(corpus=corpus,\n",
    "#                                            id2word=id2word,\n",
    "#                                            num_topics=20, \n",
    "#                                            chunksize=100,\n",
    "#                                            passes=10,\n",
    "#                                            per_word_topics=True)\n",
    "# lda_model.save('lda_model.model')\n",
    "# # https://radimrehurek.com/gensim/models/ldamodel.html"
   ]
  },
  {
   "cell_type": "code",
   "execution_count": 19,
   "metadata": {},
   "outputs": [
    {
     "name": "stdout",
     "output_type": "stream",
     "text": [
      "CPU times: user 7.84 s, sys: 835 ms, total: 8.68 s\n",
      "Wall time: 9.18 s\n"
     ]
    }
   ],
   "source": [
    "%%time\n",
    "\n",
    "num_topics = 2\n",
    "### This cell runs the multi-processor version of the model (faster)\n",
    "lda_multicore_2_topics = gensim.models.ldamulticore.LdaMulticore(corpus=corpus,\n",
    "                                                        id2word=id2word,\n",
    "                                                        num_topics=num_topics, \n",
    "                                                        chunksize=100,\n",
    "                                                        passes=10,# runtime related parameter\n",
    "                                                        per_word_topics=True,\n",
    "                                                        workers=10, # runtime related parameter\n",
    "                                                        random_state=1234, \n",
    "                                                        iterations=20) # runtime related parameter\n",
    "\n",
    "num_topics = 6\n",
    "### This cell runs the multi-processor version of the model (faster)\n",
    "lda_multicore_6_topics = gensim.models.ldamulticore.LdaMulticore(corpus=corpus,\n",
    "                                                        id2word=id2word,\n",
    "                                                        num_topics=num_topics, \n",
    "                                                        chunksize=100,\n",
    "                                                        passes=10,# runtime related parameter\n",
    "                                                        per_word_topics=True,\n",
    "                                                        workers=10, # runtime related parameter\n",
    "                                                        random_state=1234, \n",
    "                                                        iterations=20) # runtime related parameter"
   ]
  },
  {
   "cell_type": "code",
   "execution_count": 20,
   "metadata": {},
   "outputs": [],
   "source": [
    "from gensim import models\n",
    "#lda_multicore =  models.LdaModel.load('lda_multicore.model')"
   ]
  },
  {
   "cell_type": "markdown",
   "metadata": {},
   "source": [
    "# Part 3: Interpret LDA results & Select the appropriate number of topics"
   ]
  },
  {
   "cell_type": "code",
   "execution_count": 22,
   "metadata": {
    "colab": {},
    "colab_type": "code",
    "id": "CYXi480VLaHK"
   },
   "outputs": [
    {
     "data": {
      "text/html": [
       "\n",
       "<link rel=\"stylesheet\" type=\"text/css\" href=\"https://cdn.jsdelivr.net/gh/bmabey/pyLDAvis@3.3.1/pyLDAvis/js/ldavis.v1.0.0.css\">\n",
       "\n",
       "\n",
       "<div id=\"ldavis_el77601405401206196008444218515\"></div>\n",
       "<script type=\"text/javascript\">\n",
       "\n",
       "var ldavis_el77601405401206196008444218515_data = {\"mdsDat\": {\"x\": [0.08278232909468528, -0.08278232909468528], \"y\": [0.0, 0.0], \"topics\": [1, 2], \"cluster\": [1, 1], \"Freq\": [56.76761343142191, 43.23238656857809]}, \"tinfo\": {\"Term\": [\"space\", \"gun\", \"armenian\", \"nasa\", \"launch\", \"israel\", \"turkish\", \"israeli\", \"line\", \"orbit\", \"satellite\", \"weapon\", \"people\", \"edu\", \"firearm\", \"organization\", \"kill\", \"gov\", \"wire\", \"system\", \"moon\", \"earth\", \"subject\", \"arab\", \"circuit\", \"project\", \"shuttle\", \"jew\", \"mission\", \"crime\", \"azerbaijani\", \"sumgait\", \"mamma\", \"azerbaijan\", \"baku\", \"crowd\", \"homicide\", \"crime\", \"karabagh\", \"firearm\", \"handgun\", \"karabakh\", \"farid\", \"nagorno\", \"rkba\", \"gazan\", \"lyuda\", \"azerbaijanis\", \"igor\", \"balcony\", \"pistol\", \"karina\", \"azeri\", \"ifas\", \"gnv\", \"marina\", \"ottoman\", \"criminal\", \"brady\", \"thomasp\", \"gun\", \"armenian\", \"jew\", \"turkish\", \"apartment\", \"weapon\", \"armenia\", \"jews\", \"victim\", \"israeli\", \"israel\", \"arab\", \"genocide\", \"nazi\", \"amendment\", \"soldier\", \"attack\", \"muslim\", \"turkey\", \"palestinian\", \"turk\", \"kill\", \"woman\", \"village\", \"arm\", \"law\", \"people\", \"jewish\", \"right\", \"say\", \"war\", \"government\", \"state\", \"t\", \"s\", \"country\", \"come\", \"go\", \"greek\", \"think\", \"m\", \"don\", \"know\", \"tell\", \"write\", \"edu\", \"time\", \"article\", \"subject\", \"like\", \"line\", \"organization\", \"com\", \"d\", \"post\", \"breaker\", \"satellite\", \"wiring\", \"physicist\", \"baalke\", \"galileo\", \"prong\", \"cec\", \"kelvin\", \"gfci\", \"jpl\", \"shuttle\", \"faq\", \"larc\", \"anania\", \"interface\", \"relay\", \"het\", \"astronaut\", \"sensor\", \"fnal\", \"fuse\", \"observatory\", \"jsc\", \"ariane\", \"nasa\", \"egalon\", \"antenna\", \"comet\", \"measurement\", \"orbit\", \"space\", \"launch\", \"spacecraft\", \"alaska\", \"voltage\", \"lunar\", \"circuit\", \"wire\", \"detector\", \"sci\", \"outlet\", \"audio\", \"moon\", \"propulsion\", \"project\", \"solar\", \"mission\", \"radar\", \"earth\", \"henry\", \"gov\", \"chip\", \"datum\", \"flight\", \"toronto\", \"ground\", \"cost\", \"system\", \"software\", \"line\", \"edu\", \"organization\", \"subject\", \"program\", \"post\", \"host\", \"nntp\", \"c\", \"com\", \"s\", \"write\", \"article\", \"use\", \"university\", \"t\", \"work\", \"like\", \"d\", \"need\", \"m\", \"apr\", \"power\", \"time\", \"know\", \"year\", \"don\", \"good\", \"think\"], \"Freq\": [1346.0, 1476.0, 1306.0, 681.0, 459.0, 896.0, 725.0, 791.0, 2532.0, 333.0, 304.0, 553.0, 1862.0, 3256.0, 450.0, 2182.0, 704.0, 358.0, 284.0, 613.0, 284.0, 300.0, 2400.0, 512.0, 257.0, 264.0, 228.0, 376.0, 249.0, 336.0, 127.96013056158287, 111.09578847351617, 79.61565775090291, 178.3021287340276, 87.4449570503308, 75.11595212140979, 140.2165412055281, 330.6231225893944, 60.72808631604783, 442.9015280465879, 246.80643526638016, 94.5209738068394, 29.508006633651778, 56.430886310713866, 100.99102796765085, 58.7974231797887, 46.13516219049337, 59.494918161824074, 37.62373011164959, 38.95413084723746, 60.225626516243274, 54.53684958286648, 134.2475518899621, 63.418203075928176, 63.40987583449904, 43.715309025210466, 101.20706181863856, 260.08447664069365, 48.73204358651534, 51.1570658727534, 1433.6308001616908, 1267.1750220791241, 366.69041621946957, 700.569121996301, 146.83303019011043, 534.5977967620472, 363.62018496370695, 277.60264171971227, 105.56705248160252, 756.7627633576419, 846.3526648507861, 488.88260086570415, 207.86632831510394, 246.1122718890152, 171.2065401277655, 248.64097753632993, 357.0356595571953, 260.36731960977994, 341.46816494492737, 248.1131323959442, 347.596079946408, 652.7829921396421, 266.5146648412619, 239.03513633646426, 278.86175461253833, 548.1581712743391, 1559.9837164795492, 274.5716957832089, 959.217319434171, 1120.4555992542255, 349.8939453976429, 631.3324147534904, 862.2147002236718, 2631.4277784853125, 2896.7470593222365, 341.44001093819077, 643.8164791490912, 726.6621648031472, 314.0177534611813, 809.7589706017976, 997.9754733278256, 859.8131124659284, 911.6908635551392, 496.3752487711988, 1140.8363810322871, 1477.2384675537505, 748.2905033022556, 879.7878420904929, 1054.174949422957, 752.596027008525, 1047.2552950348484, 911.9001209009843, 774.9829375482972, 711.8536670907997, 620.305560960088, 52.2022373257898, 299.29355426404044, 126.81910888437992, 31.703145943814203, 92.99298633145247, 52.64238020307758, 37.63514961088427, 40.154310893139055, 75.73069690059876, 54.59099349332163, 150.12120109913903, 222.9287461803285, 106.71380244533117, 63.56340680853873, 24.013671542589545, 31.255431782882763, 66.88087474711341, 22.82933727348625, 73.66956053022034, 41.377353619503175, 63.4206848762644, 37.67987357163833, 67.82094344362174, 70.41044648075398, 28.842077032487285, 663.0100178097402, 34.345224643256884, 67.44902840156162, 82.44583769344055, 29.960494217816862, 322.03020532839173, 1280.0942252620691, 440.21626049847737, 146.87525590626655, 143.4277873018815, 119.71272578410841, 200.7028439880986, 246.45658560013814, 270.95859684876564, 136.33963136593732, 188.58467017198336, 141.97383120969002, 105.2776744612066, 268.97060641239193, 99.55753731250705, 250.09382163430985, 138.75463357157008, 234.0360781328845, 130.83908301351264, 279.00488686598044, 214.65462739432633, 322.20136810819935, 157.53180527880764, 260.55252538411685, 173.46811703871728, 178.1879172102806, 309.47227151329264, 275.818411841215, 472.52903228823664, 217.15095079465027, 1485.391630467785, 1778.8343944064031, 1270.5546667183592, 1346.3349760189024, 267.295950637579, 850.3876830029067, 627.4546658420612, 611.3889196448189, 683.8105126103552, 816.9913763983656, 1731.9505901766775, 999.0938198172887, 846.9063593282118, 565.5042660087526, 616.870270155526, 1260.1647947808226, 510.38066183142104, 613.087389371605, 583.0233535358393, 403.7869537498679, 598.1132885380049, 469.72765734008175, 366.8453450453126, 505.3846068746031, 529.3891136048334, 434.8778799820443, 453.60535300690293, 387.418097359575, 395.0716081634922], \"Total\": [1346.0, 1476.0, 1306.0, 681.0, 459.0, 896.0, 725.0, 791.0, 2532.0, 333.0, 304.0, 553.0, 1862.0, 3256.0, 450.0, 2182.0, 704.0, 358.0, 284.0, 613.0, 284.0, 300.0, 2400.0, 512.0, 257.0, 264.0, 228.0, 376.0, 249.0, 336.0, 129.62847423703332, 112.70996953023538, 80.83621614982145, 181.03972899800283, 88.81010500863775, 76.32298001899844, 142.48476232848756, 336.1767983398545, 61.75046997192966, 450.48015917882844, 251.09733556634416, 96.19086888091039, 30.032936495770866, 57.44158307822568, 102.82950038185568, 59.87421187096874, 46.9931489913141, 60.6058996381559, 38.356606371053914, 39.71333605676979, 61.400973846248654, 55.606170630436715, 136.92336938065216, 64.69309042319325, 64.69291021528689, 44.60224990238248, 103.29115875378464, 265.54296870998354, 49.76395858658347, 52.24074974381156, 1476.1473946928697, 1306.1561372262126, 376.03985209243126, 725.0964166946175, 150.03255105159218, 553.900299072868, 375.88203790785633, 287.2867664827379, 108.18808787264358, 791.3822286305688, 896.7293923500196, 512.9352936393802, 214.6191212794632, 255.79278896774056, 176.6373837323501, 258.82594419536315, 376.6137749276628, 272.1369811460805, 360.11006332069746, 259.6537855207957, 367.76273724100736, 704.8499332151928, 280.1298874330419, 250.25145378933257, 294.90804816524826, 602.5612038763503, 1862.9691019883087, 293.2782237470476, 1145.3759216782732, 1375.60365177694, 382.22961169218075, 744.2026414785089, 1061.471493747657, 3891.5925732661353, 4628.697649498914, 380.08131889422646, 842.4798867991348, 992.6821923672042, 343.89357495098466, 1204.8305787652898, 1596.0887618658305, 1313.4184654728313, 1441.0799771599727, 633.687865582477, 2139.930200849576, 3256.0728619601537, 1253.6751101768587, 1726.6942014187048, 2400.509925441859, 1365.68341638013, 2532.646925502633, 2182.4547876193437, 1591.9743139466627, 1294.877020626639, 1470.6932439629945, 53.13854071713424, 304.89567716898046, 129.33337993845203, 32.37793308370837, 95.00145248291699, 53.87983644850123, 38.55922131529557, 41.14172086999558, 77.61468681343213, 55.95647565433713, 153.88645917019326, 228.55630443532465, 109.42784829643456, 65.20563908072356, 24.639105194607215, 32.08216850821068, 68.65697032405092, 23.443000166608, 75.67203019158366, 42.5022964016603, 65.17248182293798, 38.72782300526709, 69.71874548663064, 72.38230879445474, 29.653903189436708, 681.8918164694464, 35.3554142678946, 69.47279612468921, 84.98791401560949, 30.884963785219483, 333.17860338899317, 1346.9911122020567, 459.2751953739837, 151.58882285123636, 148.10966948266775, 123.71610773212262, 209.0956199575648, 257.32548734342237, 284.36485986159414, 141.58622540653806, 197.14874673833572, 147.8280912660698, 109.03856179265868, 284.33243728002674, 103.20354557762877, 264.90891794198626, 144.85277479039834, 249.26188322853483, 137.0435780108699, 300.73234679989787, 232.11293334458537, 358.3378146632719, 168.31564665842902, 292.0776132970648, 191.8659992349221, 198.0291684481533, 374.62851007903646, 328.1546391756921, 613.8054840431516, 249.58129694709305, 2532.646925502633, 3256.0728619601537, 2182.4547876193437, 2400.509925441859, 325.36410290343326, 1470.6932439629945, 995.5632905839741, 965.5977073284256, 1155.1744668898832, 1591.9743139466627, 4628.697649498914, 2139.930200849576, 1726.6942014187048, 956.3929093985839, 1126.5494483917398, 3891.5925732661353, 894.011717780453, 1365.68341638013, 1294.877020626639, 676.682154906578, 1596.0887618658305, 959.1575902240738, 576.6403361176759, 1253.6751101768587, 1441.0799771599727, 1005.5661676895764, 1313.4184654728313, 765.9604157247917, 1204.8305787652898], \"Category\": [\"Default\", \"Default\", \"Default\", \"Default\", \"Default\", \"Default\", \"Default\", \"Default\", \"Default\", \"Default\", \"Default\", \"Default\", \"Default\", \"Default\", \"Default\", \"Default\", \"Default\", \"Default\", \"Default\", \"Default\", \"Default\", \"Default\", \"Default\", \"Default\", \"Default\", \"Default\", \"Default\", \"Default\", \"Default\", \"Default\", \"Topic1\", \"Topic1\", \"Topic1\", \"Topic1\", \"Topic1\", \"Topic1\", \"Topic1\", \"Topic1\", \"Topic1\", \"Topic1\", \"Topic1\", \"Topic1\", \"Topic1\", \"Topic1\", \"Topic1\", \"Topic1\", \"Topic1\", \"Topic1\", \"Topic1\", \"Topic1\", \"Topic1\", \"Topic1\", \"Topic1\", \"Topic1\", \"Topic1\", \"Topic1\", \"Topic1\", \"Topic1\", \"Topic1\", \"Topic1\", \"Topic1\", \"Topic1\", \"Topic1\", \"Topic1\", \"Topic1\", \"Topic1\", \"Topic1\", \"Topic1\", \"Topic1\", \"Topic1\", \"Topic1\", \"Topic1\", \"Topic1\", \"Topic1\", \"Topic1\", \"Topic1\", \"Topic1\", \"Topic1\", \"Topic1\", \"Topic1\", \"Topic1\", \"Topic1\", \"Topic1\", \"Topic1\", \"Topic1\", \"Topic1\", \"Topic1\", \"Topic1\", \"Topic1\", \"Topic1\", \"Topic1\", \"Topic1\", \"Topic1\", \"Topic1\", \"Topic1\", \"Topic1\", \"Topic1\", \"Topic1\", \"Topic1\", \"Topic1\", \"Topic1\", \"Topic1\", \"Topic1\", \"Topic1\", \"Topic1\", \"Topic1\", \"Topic1\", \"Topic1\", \"Topic1\", \"Topic1\", \"Topic1\", \"Topic1\", \"Topic1\", \"Topic1\", \"Topic1\", \"Topic2\", \"Topic2\", \"Topic2\", \"Topic2\", \"Topic2\", \"Topic2\", \"Topic2\", \"Topic2\", \"Topic2\", \"Topic2\", \"Topic2\", \"Topic2\", \"Topic2\", \"Topic2\", \"Topic2\", \"Topic2\", \"Topic2\", \"Topic2\", \"Topic2\", \"Topic2\", \"Topic2\", \"Topic2\", \"Topic2\", \"Topic2\", \"Topic2\", \"Topic2\", \"Topic2\", \"Topic2\", \"Topic2\", \"Topic2\", \"Topic2\", \"Topic2\", \"Topic2\", \"Topic2\", \"Topic2\", \"Topic2\", \"Topic2\", \"Topic2\", \"Topic2\", \"Topic2\", \"Topic2\", \"Topic2\", \"Topic2\", \"Topic2\", \"Topic2\", \"Topic2\", \"Topic2\", \"Topic2\", \"Topic2\", \"Topic2\", \"Topic2\", \"Topic2\", \"Topic2\", \"Topic2\", \"Topic2\", \"Topic2\", \"Topic2\", \"Topic2\", \"Topic2\", \"Topic2\", \"Topic2\", \"Topic2\", \"Topic2\", \"Topic2\", \"Topic2\", \"Topic2\", \"Topic2\", \"Topic2\", \"Topic2\", \"Topic2\", \"Topic2\", \"Topic2\", \"Topic2\", \"Topic2\", \"Topic2\", \"Topic2\", \"Topic2\", \"Topic2\", \"Topic2\", \"Topic2\", \"Topic2\", \"Topic2\", \"Topic2\", \"Topic2\", \"Topic2\", \"Topic2\", \"Topic2\", \"Topic2\", \"Topic2\"], \"logprob\": [30.0, 29.0, 28.0, 27.0, 26.0, 25.0, 24.0, 23.0, 22.0, 21.0, 20.0, 19.0, 18.0, 17.0, 16.0, 15.0, 14.0, 13.0, 12.0, 11.0, 10.0, 9.0, 8.0, 7.0, 6.0, 5.0, 4.0, 3.0, 2.0, 1.0, -7.5503, -7.6917, -8.0248, -7.2186, -7.931, -8.083, -7.4589, -6.6011, -8.2956, -6.3087, -6.8934, -7.8532, -9.0174, -8.369, -7.787, -8.328, -8.5705, -8.3162, -8.7744, -8.7397, -8.304, -8.4032, -7.5024, -8.2523, -8.2524, -8.6244, -7.7849, -6.841, -8.5157, -8.4672, -5.1341, -5.2575, -6.4975, -5.8502, -7.4128, -6.1205, -6.5059, -6.7759, -7.7427, -5.773, -5.6611, -6.2099, -7.0652, -6.8963, -7.2592, -6.886, -6.5242, -6.84, -6.5688, -6.8882, -6.551, -5.9208, -6.8166, -6.9254, -6.7713, -6.0955, -5.0496, -6.7868, -5.5359, -5.3806, -6.5444, -5.9542, -5.6425, -4.5268, -4.4307, -6.5689, -5.9346, -5.8136, -6.6526, -5.7053, -5.4963, -5.6453, -5.5868, -6.1947, -5.3625, -5.1041, -5.7843, -5.6224, -5.4415, -5.7785, -5.4481, -5.5865, -5.7492, -5.8342, -5.9718, -8.1746, -6.4283, -7.2869, -8.6733, -7.5972, -8.1662, -8.5017, -8.4369, -7.8025, -8.1298, -7.1182, -6.7228, -7.4595, -7.9776, -8.9511, -8.6875, -7.9268, -9.0016, -7.8301, -8.4069, -7.9799, -8.5006, -7.9128, -7.8753, -8.7678, -5.6329, -8.5932, -7.9183, -7.7175, -8.7298, -6.355, -4.975, -6.0424, -7.1401, -7.1638, -7.3446, -6.8279, -6.6225, -6.5277, -7.2145, -6.8901, -7.174, -7.4731, -6.5351, -7.5289, -6.6078, -7.197, -6.6742, -7.2557, -6.4984, -6.7606, -6.3545, -7.0701, -6.5669, -6.9737, -6.9468, -6.3948, -6.5099, -5.9716, -6.7491, -4.8262, -4.646, -4.9825, -4.9245, -6.5413, -5.384, -5.688, -5.7139, -5.602, -5.424, -4.6727, -5.2228, -5.3881, -5.792, -5.705, -4.9907, -5.8945, -5.7112, -5.7615, -6.1288, -5.7359, -5.9775, -6.2247, -5.9044, -5.858, -6.0546, -6.0125, -6.1702, -6.1506], \"loglift\": [30.0, 29.0, 28.0, 27.0, 26.0, 25.0, 24.0, 23.0, 22.0, 21.0, 20.0, 19.0, 18.0, 17.0, 16.0, 15.0, 14.0, 13.0, 12.0, 11.0, 10.0, 9.0, 8.0, 7.0, 6.0, 5.0, 4.0, 3.0, 2.0, 1.0, 0.5533, 0.5518, 0.551, 0.551, 0.5507, 0.5503, 0.5502, 0.5495, 0.5495, 0.5492, 0.549, 0.5487, 0.5486, 0.5485, 0.5482, 0.5481, 0.5478, 0.5477, 0.5469, 0.5469, 0.5469, 0.5468, 0.5465, 0.5463, 0.5462, 0.5461, 0.5458, 0.5454, 0.5452, 0.5452, 0.537, 0.5359, 0.541, 0.5318, 0.5446, 0.5307, 0.533, 0.5319, 0.5417, 0.5215, 0.5084, 0.5182, 0.5342, 0.5276, 0.535, 0.5261, 0.5128, 0.522, 0.513, 0.5207, 0.5098, 0.4895, 0.5164, 0.5203, 0.5103, 0.4716, 0.3887, 0.5003, 0.3888, 0.361, 0.4778, 0.4017, 0.3583, 0.1749, 0.0975, 0.459, 0.2973, 0.2543, 0.4753, 0.1688, 0.0966, 0.1425, 0.1084, 0.322, -0.0628, -0.2241, 0.0502, -0.1081, -0.2567, -0.0297, -0.3169, -0.3065, -0.1537, -0.0321, -0.2971, 0.8208, 0.82, 0.8189, 0.8175, 0.8172, 0.8153, 0.8143, 0.8143, 0.814, 0.8139, 0.8138, 0.8136, 0.8135, 0.8131, 0.8129, 0.8125, 0.8124, 0.8121, 0.8118, 0.8118, 0.8113, 0.8111, 0.811, 0.811, 0.8108, 0.8105, 0.8096, 0.809, 0.8082, 0.8082, 0.8045, 0.7876, 0.7962, 0.807, 0.8065, 0.8057, 0.7976, 0.7954, 0.7903, 0.8008, 0.7942, 0.7982, 0.8035, 0.783, 0.8026, 0.781, 0.7956, 0.7756, 0.7922, 0.7636, 0.7604, 0.7323, 0.7724, 0.7244, 0.7378, 0.733, 0.6475, 0.6648, 0.577, 0.6994, 0.305, 0.234, 0.2976, 0.2603, 0.642, 0.2908, 0.3769, 0.3816, 0.3143, 0.1715, -0.1444, 0.0769, 0.1262, 0.3131, 0.2363, -0.289, 0.278, 0.0377, 0.0406, 0.3223, -0.143, 0.1247, 0.3863, -0.0699, -0.1628, 0.0003, -0.2246, 0.157, -0.2764]}, \"token.table\": {\"Topic\": [1, 2, 1, 2, 1, 2, 1, 2, 1, 2, 1, 2, 1, 2, 1, 2, 1, 2, 1, 2, 1, 2, 1, 2, 1, 2, 1, 2, 1, 2, 1, 2, 1, 2, 1, 2, 1, 2, 1, 2, 1, 2, 1, 2, 1, 2, 1, 2, 1, 2, 1, 2, 1, 2, 1, 2, 1, 2, 1, 2, 1, 2, 1, 2, 1, 2, 1, 2, 1, 2, 1, 2, 1, 2, 1, 2, 1, 2, 1, 2, 1, 2, 1, 2, 1, 2, 1, 2, 1, 2, 1, 2, 1, 2, 1, 2, 1, 2, 1, 2, 1, 2, 1, 2, 1, 2, 1, 2, 1, 2, 1, 2, 1, 2, 1, 2, 1, 2, 1, 2, 1, 2, 1, 2, 1, 2, 1, 2, 1, 2, 1, 2, 1, 2, 1, 2, 1, 2, 1, 2, 1, 2, 1, 2, 1, 2, 1, 2, 1, 2, 1, 2, 1, 2, 1, 2, 1, 2, 1, 2, 1, 2, 1, 2, 1, 2, 1, 2, 1, 2, 1, 2, 1, 2, 1, 2, 1, 2, 1, 2, 1, 2, 1, 2, 1, 2, 1, 2, 1, 2, 1, 2, 1, 2, 1, 2, 1, 2, 1, 2, 1, 2, 1, 2, 1, 2, 1, 2, 1, 2, 1, 2, 1, 2, 1, 2, 1, 2, 1, 2, 1, 2, 1, 2, 1, 2, 1, 2, 1, 2, 1, 2, 1, 2, 1, 2, 1, 2, 1, 2, 1, 2, 1, 2, 1, 2, 1, 2, 1, 2, 1, 2, 1, 2, 1, 2, 1, 2, 1, 2, 1, 2, 1, 2, 1, 2, 1, 2, 1, 2, 1, 2, 1, 2, 1, 2, 1, 2, 1, 2, 1, 2, 1, 2, 1, 2, 1, 2, 1, 2, 1, 2, 1, 2, 1, 2, 1, 2, 1, 2, 1, 2, 1, 2, 1, 2, 1, 2, 1, 2, 1, 2, 1, 2], \"Freq\": [0.03375876819835261, 0.9655007704728846, 0.9680849907690428, 0.02830657867745739, 0.04058588946723889, 0.9740613472137334, 0.028788246789583884, 0.9644062674510602, 0.9797873792697869, 0.01999566080142422, 0.5098223743251222, 0.4900133250159662, 0.9533366217217099, 0.04678952744646429, 0.03372237353078765, 0.9779488323928419, 0.946057599091584, 0.054254199231058585, 0.9683889180393103, 0.031924909385911325, 0.9700218556493823, 0.02985860487002834, 0.509644382471989, 0.4905327181292894, 0.026429844619425085, 0.9779042509187281, 0.9479207181643049, 0.053104802138056295, 0.036684269622027525, 0.9629620775782225, 0.9832096025837712, 0.016570948358153446, 0.9874373724861132, 0.015428708945095519, 0.9735025855940787, 0.016500043823628453, 0.9786495950700345, 0.02191006556126943, 0.02105230970399781, 0.9789324012358981, 0.9796182539311074, 0.011259979930242614, 0.9820378712140908, 0.025180458236258738, 0.98464835579239, 0.020094864403926327, 0.018818732816227965, 0.9785741064438541, 0.4077306186208304, 0.5921183506085944, 0.02430622683868565, 0.9722490735474258, 0.06535340129324296, 0.9387124913029443, 0.04274741734121183, 0.9559876969034646, 0.48681689975179177, 0.513199234964147, 0.7644099403331434, 0.23620741945076945, 0.03529913676254012, 0.96484307150943, 0.15846187678657042, 0.8410668844825661, 0.8971764279077803, 0.10260962078710684, 0.9846009648333284, 0.017847751628398703, 0.9791259066775089, 0.018829344359182862, 0.9826660329736978, 0.013102213772982638, 0.5498591670546727, 0.4502358067315649, 0.10955992018276871, 0.8935980989907073, 0.035314169762231076, 0.9605454175326853, 0.6547798912591042, 0.3456628728274806, 0.07315475117360229, 0.9277352535197745, 0.45361392776414927, 0.5463636949847134, 0.02828421108073611, 0.9616631767450277, 0.02741532477064842, 0.977813250153127, 0.9989033208332624, 0.03329677736110875, 0.9833951417694757, 0.0177588287452727, 0.09381547575795685, 0.9016709614514741, 0.030687798654555516, 0.9666656576184988, 0.02582122934883268, 0.9812067152556418, 0.018559818772943156, 0.9836703949659872, 0.9853991920118681, 0.016701681220540138, 0.9691587532368833, 0.032615919580087416, 0.017871032589281577, 0.9829067924104867, 0.9738315959252232, 0.015457644379765446, 0.7323592642136111, 0.2679608862184602, 0.4948036376545261, 0.5052480416155715, 0.10046385987431722, 0.8985934133202818, 0.8478873425474425, 0.1518403640378146, 0.9130731798195258, 0.08723629106555979, 0.17350521450245943, 0.8248170966347687, 0.9714477058020083, 0.02912988239155255, 0.9836822817848596, 0.015930077437811493, 0.07324021007809373, 0.9262732451053031, 0.042656656268099634, 0.9811030941662916, 0.9825612066309298, 0.014036588666156142, 0.3696399852028893, 0.6297942139190533, 0.9738288832374862, 0.01545760132122994, 0.990702869602066, 0.026071128147422788, 0.03116996283290743, 0.9662688478201302, 0.9434284269225577, 0.05575818126019844, 0.9565542068210645, 0.04422641643162121, 0.9759603881287315, 0.023933633496344916, 0.9376761645869331, 0.0647848986441881, 0.9676742281016417, 0.03480842547128208, 0.025993190184304224, 0.9747446319114084, 0.027631061143399468, 0.9670871400189813, 0.987846732627771, 0.016194208731602804, 0.9876197304924571, 0.02079199432615699, 0.9890988603681168, 0.01798361564305667, 0.025768318885413276, 0.9791961176457046, 0.9264383370532819, 0.07377456895370699, 0.6328586993466775, 0.3670858025815706, 0.030672193819372452, 0.9815102022199185, 0.04136953223552269, 0.9580312728226307, 0.9094511835057562, 0.08961745238925334, 0.5513722953419878, 0.4488595179875678, 0.4134014850065256, 0.5863430804533816, 0.038260007558377225, 0.9612826899042277, 0.9788660897890101, 0.021279697604108916, 0.6252785082161322, 0.37466587967259224, 0.9896554268662004, 0.012370692835827505, 0.9864973201194877, 0.022420393639079265, 0.032378215074306375, 0.9713464522291912, 0.06017767259764826, 0.9387716925233128, 0.05275514866855359, 0.9460756661227278, 0.9554012060581892, 0.04409544027960874, 0.9749034932365549, 0.017408990950652767, 0.02786365746163979, 0.9722949945824831, 0.9617159302759877, 0.03909414350715397, 0.40343904153596316, 0.5970306695257477, 0.36661230377134185, 0.632768693797429, 0.028686689441127747, 0.9753474409983435, 0.033015325378374503, 0.9664486156215082, 0.41787807251431036, 0.5823717436027286, 0.9778184427260993, 0.01936274144012078, 0.040587684983369246, 0.9605752112730722, 0.9551179833661145, 0.046215386291908765, 0.8373729861300673, 0.16264359922910923, 0.030885232773032407, 0.988327448737037, 0.9771831982704905, 0.01628638663784151, 0.4215698974242384, 0.5779587303396817, 0.3641784780680777, 0.6364452450046881, 0.17826182877099433, 0.8206191083078532, 0.05662323532379127, 0.9437205887298545, 0.02593413367513526, 0.9854970796551398, 0.038758358325889454, 0.9689589581472364, 0.04378169402089091, 0.9559003194561182, 0.029130327052887577, 0.9758659562717339, 0.8372796929368097, 0.16239209894290574, 0.9822084093080112, 0.019449671471445766, 0.6258779940646196, 0.37418732679320715, 0.019678862146263416, 0.9806632969554602, 0.8141880101533874, 0.18537316302599444, 0.04565081010606264, 0.9586670122273154, 0.023528140469156772, 0.9646537592354276, 0.026251737027441484, 0.9756895595199084, 0.1282147356049017, 0.8694561758207398, 0.041421367375819945, 0.9595950108731621, 0.9620364788935283, 0.03863600316841479, 0.04974049152445306, 0.9502661067358197, 0.032983962181082536, 0.9697284881238265, 0.8120802160749526, 0.18747559512635217, 0.43907337721421474, 0.5607141989851357, 0.9848285867047754, 0.01774465921990586, 0.22971446763758052, 0.7706024339898978, 0.6760728289168911, 0.3237749009636195, 0.7827197378066941, 0.21619476628934897, 0.6722936936329155, 0.3278469246728415, 0.9762493886497381, 0.01914214487548506, 0.596645808733076, 0.40281568637727727, 0.10099522285898134, 0.8988574834449339, 0.9462622630305904, 0.054382888679918986, 0.9469327151136042, 0.0527616468831627, 0.9667679826574486, 0.034478173418596596, 0.4527098217730923, 0.5476901177137214, 0.40882779050074264, 0.5918069806225584, 0.9797751497815606, 0.027729485371176244, 0.9550394068887036, 0.043955788601572135, 0.03233208733547482, 0.9699626200642445, 0.9156799716550059, 0.08371931169417197, 0.9658777958695747, 0.03430220209630265, 0.04571591583547753, 0.9530010147241854, 0.023195867930055323, 0.9819584090390088, 0.9531292874410615, 0.0499768165699433, 0.4295245715048903, 0.5704623215299325, 0.5331949610071443, 0.4668376564821534, 0.567839311173276, 0.43259211972044664], \"Term\": [\"alaska\", \"alaska\", \"amendment\", \"amendment\", \"anania\", \"anania\", \"antenna\", \"antenna\", \"apartment\", \"apartment\", \"apr\", \"apr\", \"arab\", \"arab\", \"ariane\", \"ariane\", \"arm\", \"arm\", \"armenia\", \"armenia\", \"armenian\", \"armenian\", \"article\", \"article\", \"astronaut\", \"astronaut\", \"attack\", \"attack\", \"audio\", \"audio\", \"azerbaijan\", \"azerbaijan\", \"azerbaijani\", \"azerbaijani\", \"azerbaijanis\", \"azerbaijanis\", \"azeri\", \"azeri\", \"baalke\", \"baalke\", \"baku\", \"baku\", \"balcony\", \"balcony\", \"brady\", \"brady\", \"breaker\", \"breaker\", \"c\", \"c\", \"cec\", \"cec\", \"chip\", \"chip\", \"circuit\", \"circuit\", \"com\", \"com\", \"come\", \"come\", \"comet\", \"comet\", \"cost\", \"cost\", \"country\", \"country\", \"crime\", \"crime\", \"criminal\", \"criminal\", \"crowd\", \"crowd\", \"d\", \"d\", \"datum\", \"datum\", \"detector\", \"detector\", \"don\", \"don\", \"earth\", \"earth\", \"edu\", \"edu\", \"egalon\", \"egalon\", \"faq\", \"faq\", \"farid\", \"farid\", \"firearm\", \"firearm\", \"flight\", \"flight\", \"fnal\", \"fnal\", \"fuse\", \"fuse\", \"galileo\", \"galileo\", \"gazan\", \"gazan\", \"genocide\", \"genocide\", \"gfci\", \"gfci\", \"gnv\", \"gnv\", \"go\", \"go\", \"good\", \"good\", \"gov\", \"gov\", \"government\", \"government\", \"greek\", \"greek\", \"ground\", \"ground\", \"gun\", \"gun\", \"handgun\", \"handgun\", \"henry\", \"henry\", \"het\", \"het\", \"homicide\", \"homicide\", \"host\", \"host\", \"ifas\", \"ifas\", \"igor\", \"igor\", \"interface\", \"interface\", \"israel\", \"israel\", \"israeli\", \"israeli\", \"jew\", \"jew\", \"jewish\", \"jewish\", \"jews\", \"jews\", \"jpl\", \"jpl\", \"jsc\", \"jsc\", \"karabagh\", \"karabagh\", \"karabakh\", \"karabakh\", \"karina\", \"karina\", \"kelvin\", \"kelvin\", \"kill\", \"kill\", \"know\", \"know\", \"larc\", \"larc\", \"launch\", \"launch\", \"law\", \"law\", \"like\", \"like\", \"line\", \"line\", \"lunar\", \"lunar\", \"lyuda\", \"lyuda\", \"m\", \"m\", \"mamma\", \"mamma\", \"marina\", \"marina\", \"measurement\", \"measurement\", \"mission\", \"mission\", \"moon\", \"moon\", \"muslim\", \"muslim\", \"nagorno\", \"nagorno\", \"nasa\", \"nasa\", \"nazi\", \"nazi\", \"need\", \"need\", \"nntp\", \"nntp\", \"observatory\", \"observatory\", \"orbit\", \"orbit\", \"organization\", \"organization\", \"ottoman\", \"ottoman\", \"outlet\", \"outlet\", \"palestinian\", \"palestinian\", \"people\", \"people\", \"physicist\", \"physicist\", \"pistol\", \"pistol\", \"post\", \"post\", \"power\", \"power\", \"program\", \"program\", \"project\", \"project\", \"prong\", \"prong\", \"propulsion\", \"propulsion\", \"radar\", \"radar\", \"relay\", \"relay\", \"right\", \"right\", \"rkba\", \"rkba\", \"s\", \"s\", \"satellite\", \"satellite\", \"say\", \"say\", \"sci\", \"sci\", \"sensor\", \"sensor\", \"shuttle\", \"shuttle\", \"software\", \"software\", \"solar\", \"solar\", \"soldier\", \"soldier\", \"space\", \"space\", \"spacecraft\", \"spacecraft\", \"state\", \"state\", \"subject\", \"subject\", \"sumgait\", \"sumgait\", \"system\", \"system\", \"t\", \"t\", \"tell\", \"tell\", \"think\", \"think\", \"thomasp\", \"thomasp\", \"time\", \"time\", \"toronto\", \"toronto\", \"turk\", \"turk\", \"turkey\", \"turkey\", \"turkish\", \"turkish\", \"university\", \"university\", \"use\", \"use\", \"victim\", \"victim\", \"village\", \"village\", \"voltage\", \"voltage\", \"war\", \"war\", \"weapon\", \"weapon\", \"wire\", \"wire\", \"wiring\", \"wiring\", \"woman\", \"woman\", \"work\", \"work\", \"write\", \"write\", \"year\", \"year\"]}, \"R\": 30, \"lambda.step\": 0.01, \"plot.opts\": {\"xlab\": \"PC1\", \"ylab\": \"PC2\"}, \"topic.order\": [1, 2]};\n",
       "\n",
       "function LDAvis_load_lib(url, callback){\n",
       "  var s = document.createElement('script');\n",
       "  s.src = url;\n",
       "  s.async = true;\n",
       "  s.onreadystatechange = s.onload = callback;\n",
       "  s.onerror = function(){console.warn(\"failed to load library \" + url);};\n",
       "  document.getElementsByTagName(\"head\")[0].appendChild(s);\n",
       "}\n",
       "\n",
       "if(typeof(LDAvis) !== \"undefined\"){\n",
       "   // already loaded: just create the visualization\n",
       "   !function(LDAvis){\n",
       "       new LDAvis(\"#\" + \"ldavis_el77601405401206196008444218515\", ldavis_el77601405401206196008444218515_data);\n",
       "   }(LDAvis);\n",
       "}else if(typeof define === \"function\" && define.amd){\n",
       "   // require.js is available: use it to load d3/LDAvis\n",
       "   require.config({paths: {d3: \"https://d3js.org/d3.v5\"}});\n",
       "   require([\"d3\"], function(d3){\n",
       "      window.d3 = d3;\n",
       "      LDAvis_load_lib(\"https://cdn.jsdelivr.net/gh/bmabey/pyLDAvis@3.3.1/pyLDAvis/js/ldavis.v3.0.0.js\", function(){\n",
       "        new LDAvis(\"#\" + \"ldavis_el77601405401206196008444218515\", ldavis_el77601405401206196008444218515_data);\n",
       "      });\n",
       "    });\n",
       "}else{\n",
       "    // require.js not available: dynamically load d3 & LDAvis\n",
       "    LDAvis_load_lib(\"https://d3js.org/d3.v5.js\", function(){\n",
       "         LDAvis_load_lib(\"https://cdn.jsdelivr.net/gh/bmabey/pyLDAvis@3.3.1/pyLDAvis/js/ldavis.v3.0.0.js\", function(){\n",
       "                 new LDAvis(\"#\" + \"ldavis_el77601405401206196008444218515\", ldavis_el77601405401206196008444218515_data);\n",
       "            })\n",
       "         });\n",
       "}\n",
       "</script>"
      ],
      "text/plain": [
       "PreparedData(topic_coordinates=              x    y  topics  cluster       Freq\n",
       "topic                                           \n",
       "0      0.082782  0.0       1        1  56.767613\n",
       "1     -0.082782  0.0       2        1  43.232387, topic_info=         Term         Freq        Total Category  logprob  loglift\n",
       "650     space  1346.000000  1346.000000  Default  30.0000  30.0000\n",
       "507       gun  1476.000000  1476.000000  Default  29.0000  29.0000\n",
       "957  armenian  1306.000000  1306.000000  Default  28.0000  28.0000\n",
       "641      nasa   681.000000   681.000000  Default  27.0000  27.0000\n",
       "638    launch   459.000000   459.000000  Default  26.0000  26.0000\n",
       "..        ...          ...          ...      ...      ...      ...\n",
       "170      know   529.389114  1441.079977   Topic2  -5.8580  -0.1628\n",
       "124      year   434.877880  1005.566168   Topic2  -6.0546   0.0003\n",
       "153       don   453.605353  1313.418465   Topic2  -6.0125  -0.2246\n",
       "38       good   387.418097   765.960416   Topic2  -6.1702   0.1570\n",
       "100     think   395.071608  1204.830579   Topic2  -6.1506  -0.2764\n",
       "\n",
       "[204 rows x 6 columns], token_table=       Topic      Freq       Term\n",
       "term                             \n",
       "1148       1  0.033759     alaska\n",
       "1148       2  0.965501     alaska\n",
       "1280       1  0.968085  amendment\n",
       "1280       2  0.028307  amendment\n",
       "26610      1  0.040586     anania\n",
       "...      ...       ...        ...\n",
       "207        2  0.570462       work\n",
       "208        1  0.533195      write\n",
       "208        2  0.466838      write\n",
       "124        1  0.567839       year\n",
       "124        2  0.432592       year\n",
       "\n",
       "[314 rows x 3 columns], R=30, lambda_step=0.01, plot_opts={'xlab': 'PC1', 'ylab': 'PC2'}, topic_order=[1, 2])"
      ]
     },
     "execution_count": 22,
     "metadata": {},
     "output_type": "execute_result"
    }
   ],
   "source": [
    "pyLDAvis.enable_notebook()\n",
    "vis = pyLDAvis.gensim_models.prepare(lda_multicore_2_topics, corpus, id2word)\n",
    "vis"
   ]
  },
  {
   "cell_type": "code",
   "execution_count": 25,
   "metadata": {},
   "outputs": [
    {
     "data": {
      "text/html": [
       "\n",
       "<link rel=\"stylesheet\" type=\"text/css\" href=\"https://cdn.jsdelivr.net/gh/bmabey/pyLDAvis@3.3.1/pyLDAvis/js/ldavis.v1.0.0.css\">\n",
       "\n",
       "\n",
       "<div id=\"ldavis_el77601405401168073767579544029\"></div>\n",
       "<script type=\"text/javascript\">\n",
       "\n",
       "var ldavis_el77601405401168073767579544029_data = {\"mdsDat\": {\"x\": [-0.13291428569567257, 0.10422774388426366, 0.027189109553677208, -0.06995175916506356, 0.10158209696994899, -0.03013290554715371], \"y\": [0.008792869178400789, -0.022447894261832115, -0.1257467356247407, -0.015937896205304582, 0.0796665846932019, 0.0756730722202748], \"topics\": [1, 2, 3, 4, 5, 6], \"cluster\": [1, 1, 1, 1, 1, 1], \"Freq\": [20.58878771957916, 19.896617410394686, 18.084580090402646, 17.537922029938247, 13.727341567830711, 10.164751181854552]}, \"tinfo\": {\"Term\": [\"armenian\", \"gun\", \"turkish\", \"space\", \"israel\", \"israeli\", \"firearm\", \"nasa\", \"turk\", \"launch\", \"armenia\", \"weapon\", \"law\", \"greek\", \"serdar\", \"argic\", \"satellite\", \"say\", \"arab\", \"edu\", \"genocide\", \"people\", \"v\", \"turkey\", \"fbi\", \"m\", \"wire\", \"henry\", \"right\", \"orbit\", \"sdsu\", \"rc\", \"mane\", \"magpie\", \"pcb\", \"jle\", \"geode\", \"fpu\", \"linknet\", \"baden\", \"sync\", \"payne\", \"composite\", \"cci\", \"repeater\", \"cpu\", \"dial\", \"lcd\", \"nanaimo\", \"babak\", \"lick\", \"steinn\", \"subliminal\", \"teh\", \"dnd\", \"uky\", \"fegmania\", \"cranston\", \"schiewer\", \"sigurdsson\", \"mhz\", \"ic\", \"ftp\", \"rs\", \"mv\", \"audio\", \"xc\", \"relay\", \"pub\", \"ohm\", \"acronym\", \"chip\", \"input\", \"directory\", \"pc\", \"larc\", \"proton\", \"mc\", \"y\", \"output\", \"v\", \"z\", \"q\", \"digital\", \"analog\", \"file\", \"e\", \"digex\", \"k\", \"x\", \"j\", \"f\", \"m\", \"w\", \"n\", \"g\", \"l\", \"r\", \"pat\", \"h\", \"b\", \"d\", \"nasa\", \"o\", \"access\", \"line\", \"space\", \"c\", \"com\", \"p\", \"subject\", \"organization\", \"post\", \"edu\", \"s\", \"t\", \"nntp\", \"write\", \"host\", \"use\", \"article\", \"u\", \"sumgait\", \"mamma\", \"balcony\", \"igor\", \"shagen\", \"microdistrict\", \"lyuda\", \"marina\", \"karina\", \"farid\", \"apartment\", \"emma\", \"azerbadjan\", \"entryway\", \"marriage\", \"gazan\", \"kaan\", \"idf\", \"dorin\", \"unocal\", \"timucin\", \"smash\", \"aunt\", \"pogrom\", \"valery\", \"muslimzade\", \"spence\", \"condenser\", \"being\", \"mamedov\", \"cooper\", \"crowd\", \"plant\", \"shout\", \"iranian\", \"gaza\", \"azerbaijani\", \"steam\", \"israeli\", \"cpr\", \"militia\", \"azerbaijanis\", \"arab\", \"igc\", \"israel\", \"palestinian\", \"apc\", \"soldier\", \"say\", \"door\", \"policy\", \"didn\", \"nuclear\", \"neighbor\", \"go\", \"kill\", \"tell\", \"people\", \"come\", \"t\", \"attack\", \"leave\", \"jew\", \"know\", \"s\", \"state\", \"right\", \"live\", \"happen\", \"don\", \"armenian\", \"think\", \"take\", \"time\", \"like\", \"subject\", \"government\", \"want\", \"line\", \"write\", \"edu\", \"organization\", \"year\", \"ordnance\", \"feustel\", \"cosmo\", \"teknikum\", \"frej\", \"roby\", \"jonas\", \"flax\", \"flygare\", \"chopin\", \"licence\", \"felony\", \"reimer\", \"casper\", \"vojak\", \"englishman\", \"pursuant\", \"chatham\", \"manditory\", \"cult\", \"felon\", \"clem\", \"vxcrna\", \"rethink\", \"caltran\", \"provable\", \"unlawful\", \"koresh\", \"crary\", \"udel\", \"ifas\", \"handheld\", \"arras\", \"jmd\", \"gnv\", \"fbi\", \"firearm\", \"waco\", \"reno\", \"compound\", \"batf\", \"enforcement\", \"gun\", \"jrm\", \"license\", \"atf\", \"ufl\", \"clinton\", \"law\", \"crime\", \"assault\", \"weapon\", \"ban\", \"criminal\", \"miller\", \"federal\", \"amendment\", \"handgun\", \"rkba\", \"stratus\", \"nra\", \"vote\", \"right\", \"bill\", \"fire\", \"believe\", \"control\", \"s\", \"com\", \"t\", \"people\", \"edu\", \"write\", \"state\", \"line\", \"think\", \"subject\", \"organization\", \"article\", \"don\", \"post\", \"good\", \"like\", \"time\", \"m\", \"host\", \"know\", \"adl\", \"zoology\", \"glock\", \"anwar\", \"kipling\", \"sysmgr\", \"kratz\", \"unified\", \"newshost\", \"haine\", \"connor\", \"greig\", \"nickh\", \"larson\", \"skybridge\", \"scl\", \"zoo\", \"misfire\", \"wingert\", \"physicist\", \"relativity\", \"acad\", \"palmer\", \"keefe\", \"misisipi\", \"moonbase\", \"dundee\", \"cadlab\", \"steiner\", \"utoledo\", \"spencer\", \"henry\", \"ether\", \"nsmca\", \"bullock\", \"alaska\", \"revolver\", \"uicvm\", \"toronto\", \"mccall\", \"uic\", \"carnegie\", \"aurora\", \"fred\", \"utzoo\", \"mellon\", \"billion\", \"andy\", \"jason\", \"moon\", \"umd\", \"cmu\", \"auto\", \"nick\", \"edu\", \"space\", \"cost\", \"cop\", \"c\", \"s\", \"organization\", \"article\", \"t\", \"write\", \"line\", \"subject\", \"like\", \"apr\", \"post\", \"work\", \"year\", \"don\", \"university\", \"u\", \"host\", \"thing\", \"time\", \"com\", \"know\", \"nntp\", \"think\", \"d\", \"m\", \"people\", \"yalanci\", \"anania\", \"erzurum\", \"asala\", \"vay\", \"shirak\", \"gfci\", \"hojali\", \"prong\", \"ankara\", \"yalcin\", \"erzincan\", \"appressian\", \"onur\", \"tartar\", \"hovig\", \"ottoman\", \"orbeli\", \"sahak\", \"ohanus\", \"negev\", \"melkonian\", \"osmanli\", \"breaker\", \"sera\", \"receptacle\", \"esin\", \"gunduz\", \"istanbul\", \"bedouin\", \"genocide\", \"serdar\", \"wiring\", \"argic\", \"zuma\", \"extermination\", \"outlet\", \"turkish\", \"bm\", \"turk\", \"kpc\", \"armenian\", \"sdpa\", \"armenia\", \"wire\", \"henrik\", \"massacre\", \"proceed\", \"turkey\", \"ground\", \"mountain\", \"soviet\", \"muslim\", \"neutral\", \"azeri\", \"russian\", \"road\", \"greek\", \"history\", \"escape\", \"s\", \"world\", \"book\", \"nazi\", \"people\", \"subject\", \"edu\", \"war\", \"write\", \"article\", \"line\", \"time\", \"year\", \"t\", \"university\", \"organization\", \"government\", \"work\", \"say\", \"het\", \"tankut\", \"bubblejet\", \"een\", \"enzo\", \"gehrel\", \"atan\", \"canon\", \"guday\", \"ltm\", \"auvm\", \"utrecht\", \"deskjet\", \"symposium\", \"shai\", \"telos\", \"liguori\", \"winged\", \"ninjas\", \"composer\", \"sabri\", \"backer\", \"fredom\", \"odometer\", \"caterpillar\", \"basil\", \"aegean\", \"aweto\", \"msb\", \"unb\", \"baalke\", \"ariane\", \"hizbollah\", \"jake\", \"bony\", \"kelvin\", \"comet\", \"livni\", \"galileo\", \"andi\", \"jpl\", \"sq\", \"satellite\", \"vandalize\", \"jupiter\", \"propulsion\", \"launch\", \"jet\", \"sky\", \"spacecraft\", \"greek\", \"ron\", \"greece\", \"printer\", \"space\", \"israel\", \"nasa\", \"orbit\", \"mission\", \"project\", \"earth\", \"gov\", \"edu\", \"s\", \"write\", \"organization\", \"line\", \"subject\", \"article\", \"new\", \"think\", \"t\", \"university\", \"israeli\", \"apr\", \"people\", \"post\", \"know\", \"year\", \"com\", \"like\", \"time\"], \"Freq\": [1236.0, 1554.0, 675.0, 1352.0, 867.0, 766.0, 479.0, 689.0, 345.0, 450.0, 355.0, 581.0, 629.0, 319.0, 243.0, 243.0, 297.0, 1355.0, 497.0, 3276.0, 201.0, 1848.0, 510.0, 336.0, 273.0, 1620.0, 272.0, 232.0, 1155.0, 335.0, 29.967810165048146, 42.67381158192819, 55.842330362395515, 41.37649732323573, 21.00938306333921, 14.468669584269518, 17.303731575122608, 26.505774114438196, 40.99253004450697, 15.994911909375736, 16.034782767527457, 11.665924175931865, 15.0646419651743, 12.222046244054665, 11.328779794840608, 15.361172002546366, 19.967726397092267, 13.335336910071398, 12.16450379975531, 15.336344207301163, 19.091791251339526, 19.036516502225226, 9.67084229174368, 12.953448565943209, 11.963544401985763, 21.606473882809215, 9.706658649585771, 12.228186741435714, 10.52564267246199, 19.000282174517487, 83.1650012185529, 63.17246115115713, 84.53619919500169, 36.459052961955095, 15.414610509240154, 99.96091802615393, 29.140127104215445, 61.82406339877733, 48.80803235252042, 38.66215864088937, 27.79279514289091, 145.00317928634163, 96.60962922295633, 44.79623045755098, 68.8850344349174, 57.03443435082056, 44.85157968363059, 56.058257062020665, 225.33436279299633, 94.88217453521564, 378.2142053848962, 193.50724289355847, 194.00852936984518, 67.94406163716702, 46.189740705537425, 304.669424593176, 408.82388885501956, 101.86948014815287, 322.536499933885, 396.9486651452893, 272.0618888241636, 242.37167228601524, 844.4555405097722, 319.9774919512868, 294.19736745521, 261.91763306039957, 235.63521536491876, 312.20842474705705, 140.84348154729867, 223.76786053179893, 308.1071991302942, 557.6656006606281, 336.2149291095874, 266.5967382918399, 178.55635678837783, 783.3052881933309, 502.13857495129025, 431.9656180598228, 525.0190903252189, 263.4473591097623, 628.9593485621531, 588.1118662598394, 458.1814276666065, 710.9319222027075, 824.7158779894789, 674.9728408133758, 319.75806740246344, 402.2826540371927, 316.1467872178908, 303.80051981613116, 342.9417297069061, 265.1318739747464, 105.73806180177709, 77.22540137541306, 36.593352802852806, 35.53320831701625, 24.13363098151048, 33.528932600245106, 45.0359211596016, 42.009554892974464, 53.08620612569228, 26.795309351783818, 138.5103110075671, 16.48877319039624, 18.8024862509353, 23.679927202953913, 23.75712211750029, 53.25672290163182, 19.339459228803943, 33.616794430388204, 31.71716269435694, 19.34863952680121, 14.747276368528803, 15.81815105668793, 17.202170946200233, 14.696598592114844, 11.69303912420247, 11.675048321233504, 20.48903902651657, 11.5810228603588, 16.285545863604035, 11.515441680464548, 33.728551342747494, 67.28091740438492, 81.94034683376495, 84.04392810981285, 25.229434435074733, 98.53902052589545, 105.46434547154654, 37.562739160151345, 583.717010240851, 106.06465108916736, 172.10886148808294, 51.537532789253284, 370.6414548648913, 88.67723120998195, 589.441426131374, 190.7046756288737, 81.9334969763785, 183.14936235026056, 732.4696648151315, 89.35348089862642, 181.05193601853088, 263.75695526520275, 120.32241083780394, 110.95142869462359, 471.28301429723234, 357.837026379738, 326.9020181256177, 747.5751688703124, 401.8460695348102, 1274.463260546165, 209.45769896034818, 227.27133880624325, 202.43965275674145, 509.68541939951024, 1119.004377189304, 382.17736918071114, 399.00717095932174, 219.1326360795549, 215.49049741587496, 395.3061433767774, 349.9590550362346, 336.04979419129535, 211.9028399367411, 307.1008276314034, 307.6634888153874, 339.2522315747428, 234.19314947723518, 242.5057194535847, 312.4696862869222, 299.95692274381787, 320.041697333831, 283.3875346738468, 217.87414851306258, 26.51106847601246, 30.888849066772124, 25.258496446871664, 24.750385308649896, 22.748200129106227, 93.80135039807662, 18.817884476877666, 19.776214891997338, 17.748852668627393, 49.0844752695822, 21.970549573657497, 20.85504027929714, 11.578767030713323, 14.98472636228889, 23.453012984697722, 22.840943055620844, 10.685723006947304, 19.877593041499768, 10.540986022270173, 50.99304452592988, 15.974641436411662, 20.757533091823728, 12.102528946649157, 39.528400945105915, 9.463925802678828, 12.26193543370083, 11.2933794528017, 104.96817352964693, 45.27281836395589, 87.78604684618888, 62.76828543766973, 84.92689473829302, 38.535733788421716, 45.885806405821704, 62.42938226086799, 242.69917711854947, 418.6268037849772, 141.03853762021578, 41.34857872351356, 117.69806225422651, 175.68858348210887, 57.72753492527911, 1198.4517210145477, 36.70233473469234, 90.47946042133643, 126.18080182169358, 64.89808152745911, 132.11876734199453, 443.9711200916577, 258.4176831332915, 109.74774689534763, 406.00566292607067, 101.80520955341285, 199.48115833877878, 58.36070340205845, 142.43904085444925, 136.40412984221405, 176.12933176012632, 87.57021138760112, 121.83084207866345, 85.6018226842339, 83.32945969454123, 450.23915505489936, 192.27990571379047, 217.88632855897677, 211.11622350431625, 239.28053113752682, 852.0903102391301, 447.5706997104564, 723.4170058924944, 438.9877392216459, 597.9117546190262, 462.0246373230563, 302.29746497881587, 414.4888265849488, 294.7747871570962, 400.97565004728034, 373.2261038141302, 329.2911359458332, 270.28099971021845, 273.5152651828472, 209.46910660291462, 243.02897586484474, 224.4167588038125, 230.06904913101613, 211.91773822486113, 209.66590306411024, 77.78041527097572, 75.06757740678768, 63.398630265143815, 22.812828960787353, 32.621006395301194, 30.316255397962188, 62.68498140011879, 15.976008867920065, 16.37770132963252, 21.295615787725307, 14.083634654800216, 21.820055451700497, 13.507230331360597, 51.21183475021124, 12.050421645001077, 12.05121575005225, 85.0439694798827, 13.561676842562097, 10.495741151797274, 28.874418763862266, 12.784546607213398, 52.64218201866717, 23.20777262337344, 10.207138656126048, 9.320029246424193, 21.931534237658557, 11.095643765614813, 10.834872136227432, 10.28172546527144, 9.401187657701064, 103.28169672679014, 207.86885840536593, 29.66815629534316, 54.702641800952186, 35.25638292131564, 132.3448040388037, 87.85602016027143, 60.33327101151669, 166.70390513034044, 48.497286169356464, 61.16770697377456, 29.670442355338963, 61.19020880450837, 77.1786280249224, 37.909945109287136, 29.59198565132986, 98.15778091786017, 66.46118061825935, 64.75989258176483, 192.78915787756145, 60.928963555992674, 95.56854342665099, 83.90996996586847, 50.90048431686884, 1062.7827379480573, 498.4256575456185, 171.5541500249402, 71.35736109926285, 399.69915740361563, 1031.276919746288, 567.8967500714249, 478.7696193002043, 793.7660230075788, 532.2547952396974, 578.8219554855535, 545.432266338802, 372.466718185773, 282.93095801863257, 349.9049642410415, 253.7562822283549, 269.6659822306933, 314.14928831570455, 287.4202460717896, 222.81381921330288, 261.6213961711242, 228.57878562216627, 275.16867958618167, 307.2869956079175, 288.2856149415505, 241.61915437480485, 242.06318816782715, 213.37082072146805, 210.06589113074955, 204.52113902180733, 31.585138429701683, 22.370136913345988, 36.656697939325674, 39.49635086103024, 18.634391619565875, 17.743612511721963, 50.31947181317604, 27.411568519600443, 34.77176479995352, 36.78480873638745, 36.02525681004024, 20.187809947027297, 66.46499382517128, 35.99937027164066, 38.20094861719116, 15.847722370152505, 91.76954914382988, 14.0306288104108, 62.75441419185278, 66.08486341607568, 26.601193842476807, 62.543054835199065, 12.180082062369545, 47.15932443682624, 64.71186662440519, 16.791666653996458, 23.661648813538825, 11.247519430909637, 66.34770133407648, 18.79855145042355, 185.8828659538017, 223.9802067746255, 112.85339666936025, 223.93919378562254, 72.47052005155004, 90.65793824048939, 127.91515661122911, 549.0645820027636, 61.20705055415065, 278.6564388214032, 40.13341860528994, 868.6002039231281, 96.04444778014306, 259.37269028664934, 198.8868053367238, 95.14988791579788, 122.06984679078845, 70.66556498041228, 208.81867458646303, 223.09422210437378, 95.89037510351955, 159.76537264620677, 162.67015800260134, 95.8587386646076, 94.63562284126573, 149.89306400975576, 116.12826466349647, 139.40414960376887, 115.4258384610603, 91.7910487718326, 452.954628506718, 188.27815327647008, 130.6976427138433, 115.26432070777574, 255.13651700768798, 278.4884965217451, 283.40257587945683, 133.09247798953868, 224.62859281620106, 208.85581093021287, 228.63416734537086, 170.07620794162636, 160.87914789566034, 214.8801039551668, 149.9920349000518, 159.18082111657304, 138.23988207727294, 138.27079935054604, 138.1881706432428, 19.792347400995173, 21.416528058196075, 21.506943037489364, 15.775460030514845, 28.323271397051887, 27.578708924042257, 16.99777900713699, 29.041103697666884, 33.01887844325254, 10.908806253609074, 17.961033899982066, 11.700789994891714, 11.80386129620584, 11.836872716776307, 35.86809268190895, 17.04408831443903, 12.985934132416716, 15.392974618531802, 12.140741093405536, 17.65555020034597, 9.900870055613312, 12.991855292889296, 8.895579995070714, 17.774592152048236, 11.940281283333624, 24.73388674103403, 9.764375895490312, 11.856390991790203, 12.70013987624501, 12.581889103158353, 81.46457340957085, 24.488045737036085, 22.441309767549157, 77.73539357816439, 61.886772348165856, 61.10972337116727, 66.31133732279832, 47.277172331814164, 40.617865033331995, 29.995952317721123, 107.18501423934805, 28.133819620218294, 189.26666132417307, 26.478293582031714, 72.80004673229, 69.96172895040047, 228.41062906400737, 53.1289930990569, 72.17054749544452, 89.97998320444073, 155.47833378312382, 54.90150706753984, 70.95545436326205, 33.19470267559806, 269.80499279946747, 201.91971719738828, 174.75593834814123, 110.95882465932726, 89.59881769139814, 90.06581594091863, 95.97067610535385, 104.95792758293591, 301.5915268665568, 352.2456219661513, 229.84531990694123, 227.29113160955308, 232.7532461920309, 218.91190089806585, 181.06179420758716, 119.29671121649119, 149.56181894908173, 222.6058935677089, 137.77420090487038, 110.65343985701813, 113.45927367074758, 129.91982591499885, 118.01688851590482, 116.44822476072798, 109.615078783926, 107.41815834806282, 104.4803295686294, 101.69612130372657], \"Total\": [1236.0, 1554.0, 675.0, 1352.0, 867.0, 766.0, 479.0, 689.0, 345.0, 450.0, 355.0, 581.0, 629.0, 319.0, 243.0, 243.0, 297.0, 1355.0, 497.0, 3276.0, 201.0, 1848.0, 510.0, 336.0, 273.0, 1620.0, 272.0, 232.0, 1155.0, 335.0, 31.238926568606033, 45.00995312871555, 58.9960424183123, 43.74679996239711, 22.30007683951459, 15.38686430872855, 18.430263292535297, 28.24271895713858, 43.78166190218346, 17.103187468792456, 17.16857259092845, 12.597285584097461, 16.281439049936594, 13.233576370748573, 12.298422822505945, 16.686614480137248, 21.69340309225006, 14.493405147205918, 13.222299989964615, 16.687046034094017, 20.794334362081283, 20.734790876470623, 10.54011961809859, 14.119583877719416, 13.042246813698444, 23.555747943264066, 10.5875066650353, 13.340563717025884, 11.484323282064276, 20.732932321811592, 91.23341794901933, 69.42070809248246, 93.72429090030752, 40.141274527057654, 16.83935294519177, 112.04622477647362, 32.162621555277745, 69.67009389779241, 54.77454925287983, 43.10209080487758, 30.81891135019224, 170.14353396351572, 112.65095635334075, 50.866206655641086, 79.91660727947102, 66.1266517776628, 51.22316081269151, 65.04480814381365, 287.33859128816016, 114.21221270158667, 510.2626546837342, 249.80444427010204, 252.26753650550984, 80.99194031016091, 53.84276545488073, 436.34913381439424, 622.7633594717463, 130.75995316053599, 478.55485298936355, 648.8327591815332, 422.03333317314554, 369.4515482648716, 1620.3998079097123, 516.3726646061, 476.2886830595386, 414.13441810399047, 367.1678890658853, 523.2920443612117, 197.5206270257742, 373.1678646625933, 573.6729123921511, 1313.4474049495782, 689.083512393644, 510.3560276743853, 298.91715881842504, 2550.473170088157, 1352.1588880140632, 1167.9089414490832, 1628.1855744642376, 554.6194024034703, 2412.0198939427896, 2199.0942075453677, 1485.2249495260146, 3276.6622148496353, 4632.287735637071, 3904.10512778249, 982.0611785267818, 2150.9929220669064, 1013.0257237336804, 962.8790340435143, 1731.2941062271134, 716.8707106877046, 108.76910831751324, 80.10020707137737, 38.05933296156639, 37.00882639048799, 25.17279309332075, 35.02668786706269, 47.0599881637365, 43.91181841014031, 55.500893723066135, 28.127895961475634, 145.77876915505445, 17.455816809740593, 19.908021618940044, 25.095371717342562, 25.260494744624136, 56.695270654259936, 20.59023596245415, 35.833919322238245, 33.84590224622093, 20.763525930769084, 15.828444480716763, 16.98148539841073, 18.471421090246622, 15.815388020192454, 12.596463466689183, 12.594437163899775, 22.133464963688006, 12.530392213166385, 17.632598283792934, 12.468795971806566, 36.54159293959921, 73.80810482477077, 90.83652389164732, 93.6317115258349, 27.465376295444486, 113.84337445183117, 124.31287075320178, 42.04440510434, 766.5201084237673, 126.05751328925808, 215.7773583657606, 59.086815390963636, 497.93057864494284, 106.33403162039811, 867.3799264464232, 252.47619371052104, 99.76711310971798, 251.38323092138836, 1355.7424060121512, 115.72078769716688, 272.96120036289335, 434.2825935590421, 169.8195061920321, 157.36691815041226, 987.7787297277698, 695.4350418143915, 630.1162338323992, 1848.859318873418, 835.0841823000268, 3904.10512778249, 369.8611609511578, 414.58863343467266, 361.88621928309954, 1439.2414875944687, 4632.287735637071, 1063.3429115056033, 1155.8129724077519, 450.61314227393996, 447.9492344582921, 1314.1511673811942, 1236.7699496660978, 1211.6750272629777, 529.614285567179, 1251.1844021219783, 1368.6530185496833, 2412.0198939427896, 739.2172158631614, 851.4043721539925, 2550.473170088157, 2150.9929220669064, 3276.6622148496353, 2199.0942075453677, 991.1486601450415, 27.601706533849384, 32.263241927314965, 26.53616683520451, 26.04965020585905, 23.98192065218708, 98.97797635582458, 19.865011763239913, 20.91706728630729, 18.79537293406575, 52.41522812845124, 23.635545888878426, 22.511970294102394, 12.501761922836268, 16.200523724099025, 25.387466271367586, 24.759725552389988, 11.595110203723397, 21.587081332071854, 11.4519392362532, 55.42734085445291, 17.403078820531295, 22.640451919951, 13.201982476806856, 43.16181287071443, 10.342452425027274, 13.404155639874002, 12.360866941490254, 114.96753326939931, 49.64325062808657, 96.27067494480518, 68.976458238102, 93.67539121126501, 42.26409998360078, 50.41447245106362, 68.94083207834372, 273.399610228708, 479.035330095884, 159.08860692833323, 45.55299742590234, 133.34737716066638, 202.31877362220206, 64.97394269458403, 1554.0184368130995, 40.572496926978474, 106.44671469232314, 151.68630971271992, 75.40247722434964, 164.8036207140243, 629.3380809783994, 348.69225053364005, 135.99191084515334, 581.9975435822631, 127.6098926490334, 277.44003507404125, 67.88050553385453, 193.5075140662673, 184.4799157234627, 261.801899760027, 111.41659392577634, 175.03879639259634, 111.00281814066209, 107.86108634121683, 1155.8129724077519, 368.6536106376741, 475.4025719964537, 461.85060848384694, 568.8600329111779, 4632.287735637071, 1628.1855744642376, 3904.10512778249, 1848.859318873418, 3276.6622148496353, 2150.9929220669064, 1063.3429115056033, 2550.473170088157, 1211.6750272629777, 2412.0198939427896, 2199.0942075453677, 1731.2941062271134, 1314.1511673811942, 1485.2249495260146, 781.0133094176867, 1368.6530185496833, 1251.1844021219783, 1620.3998079097123, 1013.0257237336804, 1439.2414875944687, 80.25150374829177, 78.74453972851495, 66.70082711386344, 24.152585207833546, 34.62397489894145, 32.18071614943064, 66.54534553607533, 17.008001006559965, 17.616656011683855, 22.943389978934107, 15.17622657056358, 23.51935306233549, 14.55931453930982, 55.2038842729577, 13.016547536181157, 13.01783670641835, 92.15398760984897, 14.71500584731454, 11.423213745220892, 31.457446356095957, 13.928572398273886, 57.390329335327024, 25.374638233262345, 11.193459883692903, 10.22576196757967, 24.11975379846215, 12.205040148156218, 11.919214669352522, 11.313195012691667, 10.36187740713935, 114.10387014303546, 232.82227385206016, 32.752528443745085, 61.029232411047836, 39.19927588530536, 149.32976709907737, 99.59012630868061, 68.62435361184971, 198.66849462770517, 54.99301364207325, 70.49895910392762, 33.53408034436311, 73.23310575815917, 94.42788480898966, 43.80657965163778, 33.5535361773082, 131.63787704347155, 84.15311582331658, 81.90100426429203, 287.11970219085833, 76.51674052840471, 133.39264064897986, 119.63144685709187, 64.8221845722163, 3276.6622148496353, 1352.1588880140632, 326.96818912642317, 102.22514250051147, 1167.9089414490832, 4632.287735637071, 2199.0942075453677, 1731.2941062271134, 3904.10512778249, 2150.9929220669064, 2550.473170088157, 2412.0198939427896, 1368.6530185496833, 956.4314350299469, 1485.2249495260146, 886.978578804801, 991.1486601450415, 1314.1511673811942, 1123.7342796221283, 716.8707106877046, 1013.0257237336804, 771.9044607480779, 1251.1844021219783, 1628.1855744642376, 1439.2414875944687, 982.0611785267818, 1211.6750272629777, 1313.4474049495782, 1620.3998079097123, 1848.859318873418, 32.47170729667192, 23.194795356908227, 38.08311008973631, 41.14101289062337, 19.477866342887317, 18.576554044834005, 52.72962605535095, 28.79222234463627, 36.633058822163896, 38.78799975667678, 38.05919840863385, 21.336406423414523, 70.26306757875314, 38.059577401761764, 40.40152080440414, 16.76219117319117, 97.06973281264257, 14.840990085481394, 66.62397486731614, 70.27123796784527, 28.322678984032244, 66.62310180734673, 13.00869478706539, 50.39315766317528, 69.27123851185101, 18.044003717703383, 25.44287912924847, 12.101895725632184, 71.39903376323431, 20.285622799153774, 201.50777817105416, 243.66732846657587, 122.03830447591477, 243.95428433727662, 78.3925599768996, 98.50928225992446, 141.43248681950962, 675.3379757321954, 68.43579204349491, 345.0808030554587, 43.98856848762247, 1236.7699496660978, 113.08703023108424, 355.6712857611952, 272.08879942635355, 118.46326083721235, 160.59916166875456, 84.32907318504903, 336.9476159662531, 370.9506047092527, 128.2612894723336, 252.1799408815321, 260.47931120230623, 130.77375743562442, 129.01367540559264, 255.2646505869539, 184.31302405547788, 319.7831645959502, 226.32643592550625, 143.57443621695006, 4632.287735637071, 690.6047332707291, 314.35567199118384, 246.77334530398477, 1848.859318873418, 2412.0198939427896, 3276.6622148496353, 373.72605640888474, 2150.9929220669064, 1731.2941062271134, 2550.473170088157, 1251.1844021219783, 991.1486601450415, 3904.10512778249, 1123.7342796221283, 2199.0942075453677, 739.2172158631614, 886.978578804801, 1355.7424060121512, 20.998771023878277, 22.7375493218971, 22.83963125770758, 16.755662706152798, 30.161840640829976, 29.431707084554755, 18.21488173706904, 31.217309715486536, 35.51636711418334, 11.766849622688571, 19.39832144235904, 12.643161614500928, 12.768750728165058, 12.842507355547133, 39.04484424438563, 18.600803510017702, 14.199638880548122, 16.89383293008032, 13.337436819142269, 19.50071685224848, 10.945553195570684, 14.395360867969227, 9.866916555325467, 19.75375358243316, 13.270704514995032, 27.490874526679594, 10.897727009860493, 13.275657903295974, 14.25229623843514, 14.121274447512418, 92.57945380332463, 28.104965187614162, 25.680833106760247, 94.18534103848015, 74.7642810871497, 76.01527581993125, 83.86167213867958, 58.33016449284279, 51.32941645112728, 36.58762647933497, 154.07755352725735, 34.05066861714844, 297.2612051675209, 32.099270145338295, 103.76134735526597, 104.24469806634264, 450.1229166587346, 77.10604121904892, 113.78779127826768, 151.6529308614749, 319.7831645959502, 87.18319703173873, 128.9298519942361, 45.08318436164956, 1352.1588880140632, 867.3799264464232, 689.083512393644, 335.6206246077471, 252.73018993618746, 265.1510680808681, 302.69720815692926, 361.3210902464936, 3276.6622148496353, 4632.287735637071, 2150.9929220669064, 2199.0942075453677, 2550.473170088157, 2412.0198939427896, 1731.2941062271134, 640.6994649691252, 1211.6750272629777, 3904.10512778249, 1123.7342796221283, 766.5201084237673, 956.4314350299469, 1848.859318873418, 1485.2249495260146, 1439.2414875944687, 991.1486601450415, 1628.1855744642376, 1368.6530185496833, 1251.1844021219783], \"Category\": [\"Default\", \"Default\", \"Default\", \"Default\", \"Default\", \"Default\", \"Default\", \"Default\", \"Default\", \"Default\", \"Default\", \"Default\", \"Default\", \"Default\", \"Default\", \"Default\", \"Default\", \"Default\", \"Default\", \"Default\", \"Default\", \"Default\", \"Default\", \"Default\", \"Default\", \"Default\", \"Default\", \"Default\", \"Default\", \"Default\", \"Topic1\", \"Topic1\", \"Topic1\", \"Topic1\", \"Topic1\", \"Topic1\", \"Topic1\", \"Topic1\", \"Topic1\", \"Topic1\", \"Topic1\", \"Topic1\", \"Topic1\", \"Topic1\", \"Topic1\", \"Topic1\", \"Topic1\", \"Topic1\", \"Topic1\", \"Topic1\", \"Topic1\", \"Topic1\", \"Topic1\", \"Topic1\", \"Topic1\", \"Topic1\", \"Topic1\", \"Topic1\", \"Topic1\", \"Topic1\", \"Topic1\", \"Topic1\", \"Topic1\", \"Topic1\", \"Topic1\", \"Topic1\", \"Topic1\", \"Topic1\", \"Topic1\", \"Topic1\", \"Topic1\", \"Topic1\", \"Topic1\", \"Topic1\", \"Topic1\", \"Topic1\", \"Topic1\", \"Topic1\", \"Topic1\", \"Topic1\", \"Topic1\", \"Topic1\", \"Topic1\", \"Topic1\", \"Topic1\", \"Topic1\", \"Topic1\", \"Topic1\", \"Topic1\", \"Topic1\", \"Topic1\", \"Topic1\", \"Topic1\", \"Topic1\", \"Topic1\", \"Topic1\", \"Topic1\", \"Topic1\", \"Topic1\", \"Topic1\", \"Topic1\", \"Topic1\", \"Topic1\", \"Topic1\", \"Topic1\", \"Topic1\", \"Topic1\", \"Topic1\", \"Topic1\", \"Topic1\", \"Topic1\", \"Topic1\", \"Topic1\", \"Topic1\", \"Topic1\", \"Topic1\", \"Topic1\", \"Topic1\", \"Topic1\", \"Topic1\", \"Topic1\", \"Topic1\", \"Topic2\", \"Topic2\", \"Topic2\", \"Topic2\", \"Topic2\", \"Topic2\", \"Topic2\", \"Topic2\", \"Topic2\", \"Topic2\", \"Topic2\", \"Topic2\", \"Topic2\", \"Topic2\", \"Topic2\", \"Topic2\", \"Topic2\", \"Topic2\", \"Topic2\", \"Topic2\", \"Topic2\", \"Topic2\", \"Topic2\", \"Topic2\", \"Topic2\", \"Topic2\", \"Topic2\", \"Topic2\", \"Topic2\", \"Topic2\", \"Topic2\", \"Topic2\", \"Topic2\", \"Topic2\", \"Topic2\", \"Topic2\", \"Topic2\", \"Topic2\", \"Topic2\", \"Topic2\", \"Topic2\", \"Topic2\", \"Topic2\", \"Topic2\", \"Topic2\", \"Topic2\", \"Topic2\", \"Topic2\", \"Topic2\", \"Topic2\", \"Topic2\", \"Topic2\", \"Topic2\", \"Topic2\", \"Topic2\", \"Topic2\", \"Topic2\", \"Topic2\", \"Topic2\", \"Topic2\", \"Topic2\", \"Topic2\", \"Topic2\", \"Topic2\", \"Topic2\", \"Topic2\", \"Topic2\", \"Topic2\", \"Topic2\", \"Topic2\", \"Topic2\", \"Topic2\", \"Topic2\", \"Topic2\", \"Topic2\", \"Topic2\", \"Topic2\", \"Topic2\", \"Topic2\", \"Topic2\", \"Topic2\", \"Topic2\", \"Topic2\", \"Topic3\", \"Topic3\", \"Topic3\", \"Topic3\", \"Topic3\", \"Topic3\", \"Topic3\", \"Topic3\", \"Topic3\", \"Topic3\", \"Topic3\", \"Topic3\", \"Topic3\", \"Topic3\", \"Topic3\", \"Topic3\", \"Topic3\", \"Topic3\", \"Topic3\", \"Topic3\", \"Topic3\", \"Topic3\", \"Topic3\", \"Topic3\", \"Topic3\", \"Topic3\", \"Topic3\", \"Topic3\", \"Topic3\", \"Topic3\", \"Topic3\", \"Topic3\", \"Topic3\", \"Topic3\", \"Topic3\", \"Topic3\", \"Topic3\", \"Topic3\", \"Topic3\", \"Topic3\", \"Topic3\", \"Topic3\", \"Topic3\", \"Topic3\", \"Topic3\", \"Topic3\", \"Topic3\", \"Topic3\", \"Topic3\", \"Topic3\", \"Topic3\", \"Topic3\", \"Topic3\", \"Topic3\", \"Topic3\", \"Topic3\", \"Topic3\", \"Topic3\", \"Topic3\", \"Topic3\", \"Topic3\", \"Topic3\", \"Topic3\", \"Topic3\", \"Topic3\", \"Topic3\", \"Topic3\", \"Topic3\", \"Topic3\", \"Topic3\", \"Topic3\", \"Topic3\", \"Topic3\", \"Topic3\", \"Topic3\", \"Topic3\", \"Topic3\", \"Topic3\", \"Topic3\", \"Topic3\", \"Topic3\", \"Topic3\", \"Topic3\", \"Topic3\", \"Topic3\", \"Topic3\", \"Topic3\", \"Topic4\", \"Topic4\", \"Topic4\", \"Topic4\", \"Topic4\", \"Topic4\", \"Topic4\", \"Topic4\", \"Topic4\", \"Topic4\", \"Topic4\", \"Topic4\", \"Topic4\", \"Topic4\", \"Topic4\", \"Topic4\", \"Topic4\", \"Topic4\", \"Topic4\", \"Topic4\", \"Topic4\", \"Topic4\", \"Topic4\", \"Topic4\", \"Topic4\", \"Topic4\", \"Topic4\", \"Topic4\", \"Topic4\", \"Topic4\", \"Topic4\", \"Topic4\", \"Topic4\", \"Topic4\", \"Topic4\", \"Topic4\", \"Topic4\", \"Topic4\", \"Topic4\", \"Topic4\", \"Topic4\", \"Topic4\", \"Topic4\", \"Topic4\", \"Topic4\", \"Topic4\", \"Topic4\", \"Topic4\", \"Topic4\", \"Topic4\", \"Topic4\", \"Topic4\", \"Topic4\", \"Topic4\", \"Topic4\", \"Topic4\", \"Topic4\", \"Topic4\", \"Topic4\", \"Topic4\", \"Topic4\", \"Topic4\", \"Topic4\", \"Topic4\", \"Topic4\", \"Topic4\", \"Topic4\", \"Topic4\", \"Topic4\", \"Topic4\", \"Topic4\", \"Topic4\", \"Topic4\", \"Topic4\", \"Topic4\", \"Topic4\", \"Topic4\", \"Topic4\", \"Topic4\", \"Topic4\", \"Topic4\", \"Topic4\", \"Topic4\", \"Topic4\", \"Topic5\", \"Topic5\", \"Topic5\", \"Topic5\", \"Topic5\", \"Topic5\", \"Topic5\", \"Topic5\", \"Topic5\", \"Topic5\", \"Topic5\", \"Topic5\", \"Topic5\", \"Topic5\", \"Topic5\", \"Topic5\", \"Topic5\", \"Topic5\", \"Topic5\", \"Topic5\", \"Topic5\", \"Topic5\", \"Topic5\", \"Topic5\", \"Topic5\", \"Topic5\", \"Topic5\", \"Topic5\", \"Topic5\", \"Topic5\", \"Topic5\", \"Topic5\", \"Topic5\", \"Topic5\", \"Topic5\", \"Topic5\", \"Topic5\", \"Topic5\", \"Topic5\", \"Topic5\", \"Topic5\", \"Topic5\", \"Topic5\", \"Topic5\", \"Topic5\", \"Topic5\", \"Topic5\", \"Topic5\", \"Topic5\", \"Topic5\", \"Topic5\", \"Topic5\", \"Topic5\", \"Topic5\", \"Topic5\", \"Topic5\", \"Topic5\", \"Topic5\", \"Topic5\", \"Topic5\", \"Topic5\", \"Topic5\", \"Topic5\", \"Topic5\", \"Topic5\", \"Topic5\", \"Topic5\", \"Topic5\", \"Topic5\", \"Topic5\", \"Topic5\", \"Topic5\", \"Topic5\", \"Topic5\", \"Topic5\", \"Topic5\", \"Topic5\", \"Topic5\", \"Topic5\", \"Topic6\", \"Topic6\", \"Topic6\", \"Topic6\", \"Topic6\", \"Topic6\", \"Topic6\", \"Topic6\", \"Topic6\", \"Topic6\", \"Topic6\", \"Topic6\", \"Topic6\", \"Topic6\", \"Topic6\", \"Topic6\", \"Topic6\", \"Topic6\", \"Topic6\", \"Topic6\", \"Topic6\", \"Topic6\", \"Topic6\", \"Topic6\", \"Topic6\", \"Topic6\", \"Topic6\", \"Topic6\", \"Topic6\", \"Topic6\", \"Topic6\", \"Topic6\", \"Topic6\", \"Topic6\", \"Topic6\", \"Topic6\", \"Topic6\", \"Topic6\", \"Topic6\", \"Topic6\", \"Topic6\", \"Topic6\", \"Topic6\", \"Topic6\", \"Topic6\", \"Topic6\", \"Topic6\", \"Topic6\", \"Topic6\", \"Topic6\", \"Topic6\", \"Topic6\", \"Topic6\", \"Topic6\", \"Topic6\", \"Topic6\", \"Topic6\", \"Topic6\", \"Topic6\", \"Topic6\", \"Topic6\", \"Topic6\", \"Topic6\", \"Topic6\", \"Topic6\", \"Topic6\", \"Topic6\", \"Topic6\", \"Topic6\", \"Topic6\", \"Topic6\", \"Topic6\", \"Topic6\", \"Topic6\", \"Topic6\", \"Topic6\", \"Topic6\", \"Topic6\", \"Topic6\", \"Topic6\", \"Topic6\", \"Topic6\"], \"logprob\": [30.0, 29.0, 28.0, 27.0, 26.0, 25.0, 24.0, 23.0, 22.0, 21.0, 20.0, 19.0, 18.0, 17.0, 16.0, 15.0, 14.0, 13.0, 12.0, 11.0, 10.0, 9.0, 8.0, 7.0, 6.0, 5.0, 4.0, 3.0, 2.0, 1.0, -7.9877, -7.6342, -7.3653, -7.6651, -8.3429, -8.7158, -8.5369, -8.1105, -7.6744, -8.6156, -8.6131, -8.9312, -8.6755, -8.8846, -8.9605, -8.656, -8.3937, -8.7974, -8.8893, -8.6576, -8.4386, -8.4415, -9.1187, -8.8265, -8.906, -8.3148, -9.115, -8.8841, -9.034, -8.4434, -6.967, -7.242, -6.9507, -7.7916, -8.6525, -6.7831, -8.0157, -7.2635, -7.4999, -7.733, -8.0631, -6.4111, -6.8172, -7.5857, -7.1554, -7.3442, -7.5845, -7.3614, -5.9702, -6.8352, -5.4524, -6.1225, -6.1199, -7.1692, -7.5551, -5.6686, -5.3746, -6.7641, -5.6116, -5.404, -5.7818, -5.8974, -4.6491, -5.6196, -5.7036, -5.8198, -5.9255, -5.6442, -6.4402, -5.9772, -5.6574, -5.0641, -5.5701, -5.8021, -6.2029, -4.7243, -5.169, -5.3195, -5.1244, -5.814, -4.9438, -5.0109, -5.2606, -4.8213, -4.6728, -4.8732, -5.6203, -5.3907, -5.6316, -5.6715, -5.5503, -5.8076, -6.6927, -7.0069, -7.7538, -7.7832, -8.17, -7.8412, -7.5462, -7.6157, -7.3817, -8.0654, -6.4227, -8.551, -8.4196, -8.189, -8.1858, -7.3785, -8.3915, -7.8386, -7.8968, -8.391, -8.6626, -8.5925, -8.5086, -8.666, -8.8946, -8.8962, -8.3337, -8.9043, -8.5634, -8.9099, -7.8353, -7.1448, -6.9476, -6.9223, -8.1256, -6.7632, -6.6953, -7.7276, -4.9842, -6.6896, -6.2055, -7.4113, -5.4384, -6.8686, -4.9745, -6.1029, -6.9477, -6.1433, -4.7572, -6.861, -6.1549, -5.7786, -6.5635, -6.6445, -5.1982, -5.4736, -5.564, -4.7368, -5.3576, -4.2034, -6.0091, -5.9275, -6.0432, -5.1198, -4.3334, -5.4078, -5.3647, -5.964, -5.9807, -5.374, -5.4958, -5.5364, -5.9975, -5.6265, -5.6246, -5.5269, -5.8975, -5.8626, -5.6091, -5.65, -5.5852, -5.7068, -5.9697, -7.9806, -7.8278, -8.029, -8.0493, -8.1337, -6.717, -8.3233, -8.2737, -8.3818, -7.3646, -8.1684, -8.2206, -8.809, -8.5511, -8.1031, -8.1296, -8.8892, -8.2686, -8.9029, -7.3265, -8.4871, -8.2252, -8.7647, -7.5811, -9.0107, -8.7516, -8.8339, -6.6045, -7.4454, -6.7832, -7.1187, -6.8164, -7.6066, -7.432, -7.1241, -5.7663, -5.2212, -6.3091, -7.5361, -6.49, -6.0894, -7.2024, -4.1694, -7.6553, -6.753, -6.4204, -7.0853, -6.3744, -5.1624, -5.7036, -6.56, -5.2518, -6.6351, -5.9624, -7.1915, -6.2992, -6.3425, -6.0869, -6.7857, -6.4555, -6.8084, -6.8353, -5.1484, -5.9992, -5.8742, -5.9057, -5.7805, -4.5105, -5.1543, -4.6742, -5.1737, -4.8647, -5.1225, -5.5467, -5.2311, -5.5719, -5.2642, -5.336, -5.4612, -5.6587, -5.6468, -5.9136, -5.765, -5.8446, -5.8198, -5.9019, -5.9126, -6.8736, -6.9091, -7.078, -8.1001, -7.7425, -7.8158, -7.0893, -8.4564, -8.4315, -8.169, -8.5824, -8.1446, -8.6242, -7.2915, -8.7384, -8.7383, -6.7843, -8.6202, -8.8765, -7.8645, -8.6792, -7.2639, -8.083, -8.9044, -8.9953, -8.1395, -8.8209, -8.8447, -8.8971, -8.9866, -6.59, -5.8905, -7.8374, -7.2255, -7.6648, -6.342, -6.7518, -7.1276, -6.1112, -7.3459, -7.1138, -7.8373, -7.1135, -6.8813, -7.5922, -7.84, -6.6409, -7.0308, -7.0568, -5.9659, -7.1177, -6.6676, -6.7977, -7.2976, -4.2588, -5.016, -6.0826, -6.9598, -5.2367, -4.2889, -4.8855, -5.0562, -4.5507, -4.9503, -4.8665, -4.9259, -5.3073, -5.5823, -5.3698, -5.6911, -5.6303, -5.4776, -5.5665, -5.8211, -5.6606, -5.7956, -5.6101, -5.4997, -5.5635, -5.7401, -5.7383, -5.8644, -5.88, -5.9068, -7.5298, -7.8748, -7.3809, -7.3063, -8.0575, -8.1065, -7.0641, -7.6715, -7.4337, -7.3774, -7.3983, -7.9774, -6.7858, -7.399, -7.3396, -8.2195, -6.4632, -8.3412, -6.8432, -6.7915, -7.7015, -6.8466, -8.4827, -7.1289, -6.8125, -8.1616, -7.8186, -8.5623, -6.7876, -8.0487, -5.7574, -5.5709, -6.2564, -5.5711, -6.6993, -6.4754, -6.1311, -4.6743, -6.8682, -5.3525, -7.2903, -4.2156, -6.4177, -5.4242, -5.6897, -6.427, -6.1779, -6.7245, -5.641, -5.5749, -6.4193, -5.9088, -5.8908, -6.4196, -6.4324, -5.9726, -6.2278, -6.0451, -6.2338, -6.463, -4.8667, -5.7446, -6.1096, -6.2352, -5.4407, -5.3531, -5.3356, -6.0914, -5.568, -5.6408, -5.5504, -5.8462, -5.9018, -5.6124, -5.9719, -5.9124, -6.0535, -6.0533, -6.0539, -7.6967, -7.6179, -7.6136, -7.9236, -7.3383, -7.365, -7.8489, -7.3133, -7.1849, -8.2924, -7.7938, -8.2224, -8.2136, -8.2108, -7.1022, -7.8462, -8.1181, -7.9481, -8.1854, -7.811, -8.3894, -8.1177, -8.4965, -7.8042, -8.2021, -7.4738, -8.4033, -8.2091, -8.1404, -8.1498, -6.2818, -7.4838, -7.5711, -6.3287, -6.5567, -6.5693, -6.4877, -6.826, -6.9778, -7.281, -6.0075, -7.345, -5.4389, -7.4057, -6.3943, -6.4341, -5.2509, -6.7093, -6.403, -6.1824, -5.6355, -6.6765, -6.42, -7.1796, -5.0843, -5.3741, -5.5186, -5.9729, -6.1867, -6.1815, -6.118, -6.0285, -4.9729, -4.8177, -5.2446, -5.2558, -5.232, -5.2933, -5.4832, -5.9004, -5.6743, -5.2766, -5.7564, -5.9756, -5.9506, -5.8151, -5.9112, -5.9246, -5.985, -6.0053, -6.033, -6.06], \"loglift\": [30.0, 29.0, 28.0, 27.0, 26.0, 25.0, 24.0, 23.0, 22.0, 21.0, 20.0, 19.0, 18.0, 17.0, 16.0, 15.0, 14.0, 13.0, 12.0, 11.0, 10.0, 9.0, 8.0, 7.0, 6.0, 5.0, 4.0, 3.0, 2.0, 1.0, 1.5389, 1.5271, 1.5255, 1.5247, 1.5208, 1.5189, 1.5174, 1.517, 1.5146, 1.5134, 1.5121, 1.5036, 1.5027, 1.5009, 1.4983, 1.4977, 1.4975, 1.4971, 1.497, 1.496, 1.495, 1.495, 1.4944, 1.4942, 1.4941, 1.494, 1.4936, 1.4934, 1.4933, 1.4932, 1.4878, 1.4861, 1.4772, 1.4842, 1.492, 1.4663, 1.4817, 1.4609, 1.4651, 1.4717, 1.4771, 1.4205, 1.4268, 1.4533, 1.4319, 1.4325, 1.4476, 1.4317, 1.3373, 1.395, 1.281, 1.3251, 1.3178, 1.4048, 1.4271, 1.2212, 1.1595, 1.3308, 1.1859, 1.0891, 1.1414, 1.1589, 0.9287, 1.1018, 1.0987, 1.1223, 1.1369, 1.064, 1.2422, 1.069, 0.9588, 0.7238, 0.8628, 0.9311, 1.0652, 0.3999, 0.5898, 0.5858, 0.4486, 0.836, 0.2363, 0.2615, 0.4044, 0.0524, -0.1453, -0.1747, 0.4583, -0.0961, 0.4159, 0.4269, -0.0386, 0.5858, 1.5864, 1.5781, 1.5753, 1.5739, 1.5725, 1.5709, 1.5707, 1.5703, 1.5701, 1.5661, 1.5635, 1.5576, 1.5575, 1.5566, 1.5533, 1.5521, 1.552, 1.5508, 1.5497, 1.544, 1.5439, 1.5437, 1.5434, 1.5413, 1.5402, 1.5388, 1.5374, 1.5358, 1.5351, 1.5351, 1.5345, 1.522, 1.5116, 1.5066, 1.5297, 1.4702, 1.4502, 1.5019, 1.3422, 1.4419, 1.3885, 1.4779, 1.3194, 1.433, 1.2283, 1.334, 1.4177, 1.2979, 0.9989, 1.356, 1.2041, 1.116, 1.2701, 1.2651, 0.8746, 0.9502, 0.9584, 0.7091, 0.8832, 0.4951, 1.046, 1.0135, 1.0337, 0.5765, 0.194, 0.5913, 0.551, 0.8937, 0.8829, 0.4133, 0.3522, 0.3321, 0.6986, 0.21, 0.122, -0.3469, 0.4652, 0.3588, -0.4849, -0.3554, -0.7115, -0.4344, 0.0997, 1.6698, 1.6666, 1.6608, 1.6589, 1.6573, 1.6564, 1.656, 1.654, 1.6528, 1.6445, 1.6371, 1.6337, 1.6334, 1.6321, 1.6309, 1.6294, 1.6284, 1.6276, 1.6272, 1.6267, 1.6245, 1.6233, 1.6232, 1.6222, 1.6213, 1.621, 1.6198, 1.6191, 1.618, 1.6178, 1.6158, 1.6121, 1.6178, 1.616, 1.6109, 1.591, 1.5753, 1.5897, 1.6133, 1.5853, 1.569, 1.5919, 1.4503, 1.6099, 1.5476, 1.526, 1.5601, 1.4891, 1.3612, 1.4105, 1.4957, 1.35, 1.4842, 1.3802, 1.559, 1.4037, 1.4082, 1.3137, 1.4693, 1.3477, 1.4503, 1.4521, 0.7673, 1.0592, 0.9299, 0.9273, 0.8441, 0.017, 0.4187, 0.0243, 0.2723, 0.009, 0.172, 0.4523, -0.1069, 0.2966, -0.0842, -0.0635, 0.0504, 0.1286, 0.0181, 0.3941, -0.0183, -0.0082, -0.2419, 0.1456, -0.2162, 1.7095, 1.693, 1.69, 1.6837, 1.6812, 1.6811, 1.681, 1.6782, 1.6679, 1.6663, 1.6661, 1.6658, 1.6658, 1.6657, 1.6637, 1.6636, 1.6605, 1.6592, 1.6561, 1.6551, 1.6551, 1.6544, 1.6515, 1.6486, 1.6481, 1.6457, 1.6455, 1.6454, 1.6452, 1.6435, 1.6412, 1.6274, 1.6419, 1.6314, 1.6348, 1.6201, 1.6154, 1.612, 1.5654, 1.6151, 1.5988, 1.6184, 1.5611, 1.5391, 1.5962, 1.6152, 1.4473, 1.5048, 1.506, 1.3425, 1.513, 1.4074, 1.3861, 1.499, 0.6149, 0.7428, 1.0958, 1.3813, 0.6685, 0.2386, 0.3869, 0.4554, 0.1478, 0.3442, 0.2578, 0.2542, 0.4394, 0.5228, 0.2951, 0.4894, 0.4391, 0.3097, 0.3773, 0.5722, 0.387, 0.5238, 0.2263, 0.0734, 0.1329, 0.3385, 0.1302, -0.0766, -0.3022, -0.4608, 1.9581, 1.9496, 1.9476, 1.945, 1.9415, 1.9399, 1.939, 1.9366, 1.9336, 1.9328, 1.9309, 1.9304, 1.9302, 1.9301, 1.9298, 1.9297, 1.9296, 1.9296, 1.9259, 1.9244, 1.9231, 1.9226, 1.92, 1.9195, 1.9177, 1.9138, 1.9132, 1.9126, 1.9124, 1.9096, 1.9051, 1.9015, 1.9075, 1.9002, 1.9072, 1.9027, 1.8853, 1.7788, 1.8741, 1.772, 1.8941, 1.6324, 1.8224, 1.67, 1.6724, 1.7666, 1.7115, 1.809, 1.5073, 1.4773, 1.6949, 1.5293, 1.515, 1.6752, 1.6759, 1.4534, 1.5238, 1.1555, 1.3124, 1.5384, -0.3392, 0.6861, 1.1081, 1.2245, 0.0053, -0.1731, -0.4619, 0.9533, -0.2735, -0.1292, -0.4261, -0.0098, 0.1676, -0.9139, -0.028, -0.64, 0.3092, 0.1272, -0.2977, 2.2271, 2.2264, 2.2261, 2.226, 2.2234, 2.2212, 2.2171, 2.214, 2.2133, 2.2105, 2.2093, 2.2088, 2.2077, 2.2047, 2.2014, 2.1988, 2.1969, 2.1932, 2.1922, 2.1868, 2.1859, 2.1837, 2.1826, 2.1807, 2.1806, 2.1806, 2.1764, 2.1732, 2.1709, 2.1708, 2.1583, 2.1485, 2.1514, 2.0943, 2.0972, 2.068, 2.0514, 2.0762, 2.0522, 2.0876, 1.9233, 2.0954, 1.8348, 2.0937, 1.9319, 1.8875, 1.6079, 1.9138, 1.8309, 1.7642, 1.5651, 1.8238, 1.689, 1.9801, 0.6745, 0.8286, 0.9143, 1.1794, 1.2493, 1.2065, 1.1376, 1.05, -0.0993, -0.2902, 0.05, 0.0167, -0.1078, -0.1133, 0.0285, 0.6053, 0.1942, -0.5781, 0.1874, 0.3508, 0.1545, -0.3692, -0.2462, -0.2282, 0.0844, -0.4322, -0.2863, -0.2236]}, \"token.table\": {\"Topic\": [1, 2, 4, 5, 1, 2, 3, 4, 5, 6, 1, 3, 6, 2, 3, 4, 6, 1, 2, 3, 4, 5, 6, 1, 2, 3, 4, 5, 6, 1, 4, 5, 6, 5, 1, 2, 4, 6, 1, 2, 3, 4, 5, 6, 2, 5, 4, 1, 2, 3, 4, 5, 6, 1, 2, 3, 4, 5, 6, 2, 5, 6, 1, 2, 3, 4, 5, 6, 1, 2, 3, 4, 5, 6, 1, 2, 3, 4, 5, 6, 1, 4, 5, 6, 1, 2, 3, 4, 5, 6, 1, 2, 3, 4, 5, 6, 1, 2, 3, 1, 2, 3, 4, 5, 6, 5, 1, 2, 3, 4, 5, 6, 6, 1, 2, 3, 4, 5, 6, 1, 2, 3, 4, 5, 6, 1, 2, 3, 4, 5, 6, 2, 1, 2, 4, 5, 6, 1, 2, 3, 4, 5, 6, 6, 6, 2, 1, 2, 3, 4, 5, 6, 2, 5, 1, 2, 4, 5, 6, 1, 2, 3, 4, 5, 6, 1, 2, 3, 4, 5, 6, 1, 2, 6, 1, 2, 1, 2, 3, 4, 5, 6, 2, 5, 6, 1, 2, 3, 4, 5, 6, 5, 2, 1, 2, 3, 4, 5, 6, 1, 2, 3, 4, 5, 6, 1, 2, 3, 4, 5, 6, 1, 2, 3, 4, 5, 6, 1, 2, 3, 4, 5, 6, 1, 2, 3, 4, 5, 6, 1, 5, 6, 6, 3, 4, 5, 1, 2, 3, 4, 5, 6, 4, 3, 1, 2, 6, 1, 2, 3, 4, 3, 6, 1, 3, 1, 2, 3, 4, 5, 6, 1, 2, 3, 4, 6, 1, 3, 1, 2, 3, 4, 5, 6, 1, 2, 3, 4, 5, 6, 1, 2, 3, 4, 5, 6, 1, 2, 3, 4, 5, 6, 1, 2, 3, 4, 5, 6, 2, 6, 1, 1, 2, 3, 4, 5, 6, 2, 4, 1, 2, 3, 4, 5, 6, 2, 4, 1, 2, 3, 4, 5, 6, 3, 1, 2, 3, 4, 5, 6, 1, 2, 3, 4, 5, 6, 1, 1, 1, 2, 3, 4, 6, 1, 2, 3, 4, 5, 6, 1, 2, 3, 4, 5, 6, 1, 2, 3, 5, 6, 1, 2, 3, 4, 6, 1, 2, 3, 4, 5, 6, 6, 1, 4, 1, 2, 3, 4, 5, 6, 1, 2, 3, 4, 5, 6, 1, 2, 3, 4, 5, 6, 1, 3, 4, 5, 6, 1, 1, 2, 3, 4, 5, 6, 1, 2, 3, 4, 5, 6, 2, 6, 4, 1, 2, 3, 4, 5, 6, 1, 2, 3, 4, 5, 6, 1, 2, 3, 4, 5, 6, 6, 2, 1, 2, 3, 4, 5, 6, 3, 2, 6, 5, 2, 5, 1, 2, 3, 4, 5, 6, 2, 5, 1, 3, 4, 2, 4, 5, 6, 1, 2, 3, 4, 5, 6, 2, 5, 1, 2, 3, 4, 5, 6, 1, 2, 3, 4, 5, 6, 1, 3, 3, 3, 1, 2, 3, 4, 5, 6, 1, 2, 3, 4, 5, 6, 1, 2, 3, 4, 5, 6, 3, 3, 1, 5, 1, 2, 3, 4, 5, 6, 6, 3, 1, 2, 3, 4, 5, 6, 1, 2, 3, 4, 5, 6, 1, 4, 6, 1, 2, 3, 4, 5, 6, 2, 3, 5, 1, 6, 1, 2, 3, 4, 5, 6, 1, 2, 5, 6, 1, 2, 3, 4, 1, 2, 3, 4, 5, 1, 2, 3, 4, 5, 6, 1, 2, 3, 4, 5, 6, 1, 2, 3, 4, 5, 6, 1, 2, 3, 4, 5, 6, 1, 2, 3, 4, 5, 6, 1, 2, 3, 4, 5, 6, 3, 4, 1, 2, 3, 4, 5, 6, 2, 5, 6, 1, 2, 3, 4, 5, 6, 5, 1, 2, 3, 4, 5, 6, 3, 4, 1, 2, 3, 4, 5, 6, 1, 2, 3, 4, 6, 1, 2, 3, 4, 5, 6, 1, 2, 4, 5, 6, 1, 2, 3, 4, 5, 6, 6, 1, 2, 3, 4, 5, 6, 2, 6, 5, 1, 2, 3, 4, 5, 6, 5, 1, 2, 3, 4, 5, 2, 6, 1, 2, 3, 4, 5, 1, 2, 3, 4, 5, 6, 2, 1, 2, 3, 4, 5, 6, 2, 5, 1, 2, 3, 4, 5, 6, 1, 2, 3, 4, 5, 6, 2, 4, 5, 6, 1, 2, 3, 4, 5, 6, 1, 2, 3, 4, 5, 6, 1, 2, 3, 4, 6, 1, 2, 3, 4, 5, 6, 1, 2, 3, 4, 5, 6, 1, 1, 2, 3, 4, 3, 1, 2, 3, 4, 5, 6, 1, 2, 3, 4, 5, 1, 2, 3, 4, 5, 6, 1, 2, 3, 4, 5, 6, 2, 2, 4, 4, 1, 2, 3, 4, 5, 6, 1, 2, 3, 4, 5, 6, 1, 4, 1, 2, 3, 4, 5, 6, 1, 2, 3, 4, 5, 6, 2, 5, 1, 2, 3, 4, 1, 2, 3, 4, 5, 6, 1, 3, 4, 6, 1, 4, 6, 1, 2, 3, 4, 5, 6, 1, 2, 3, 4, 5, 6, 1, 1, 2, 3, 4, 5, 6, 2, 3, 1, 2, 3, 4, 5, 6, 1, 2, 6, 1, 2, 3, 4, 5, 6, 1, 2, 3, 4, 5, 6, 1, 2, 3, 1, 2, 3, 4, 5, 6, 1, 2, 3, 4, 5, 6, 6, 2, 1, 2, 3, 4, 5, 6, 1, 3, 2, 1, 2, 4, 5, 6, 3, 1, 2, 3, 2, 2, 1, 2, 3, 4, 5, 6, 1, 2, 4, 5, 1, 2, 4, 6, 2, 5, 6, 1, 2, 3, 4, 1, 2, 3, 4, 5, 2, 1, 2, 3, 4, 5, 6, 1, 2, 3, 4, 5, 4, 4, 1, 2, 3, 4, 5, 6, 1, 2, 3, 4, 5, 6, 2, 4, 6, 1, 2, 3, 4, 5, 6, 1, 6, 1, 2, 3, 4, 5, 6, 2, 1, 1, 2, 3, 4, 5, 6, 1, 1, 2, 3, 4, 5, 6, 1, 2, 3, 4, 5, 6, 5, 1, 2, 3, 4, 5, 6, 1, 2, 3, 4, 5, 6, 1, 2, 3, 4, 5, 6, 4, 1, 2, 4, 5, 6, 4, 6, 1, 2, 3, 4, 5, 6, 1, 2, 3, 4, 5, 6, 1, 2, 4, 5, 1, 2, 3, 4, 5, 6, 1, 2, 3, 4, 5, 6, 1, 6, 2, 5, 6, 1, 2, 3, 4, 1, 5, 5, 1, 2, 3, 4, 5, 6, 3, 1, 2, 3, 4, 5, 6, 5, 1, 2, 4, 5, 6, 1, 2, 3, 4, 5, 6, 1, 2, 3, 4, 5, 6, 1, 2, 3, 4, 5, 6, 1, 2, 3, 4, 5, 6, 1, 2, 4, 1, 2, 3, 4, 5, 6, 1, 1, 2, 3, 4, 5, 6, 1, 1, 2, 3, 4, 5, 6, 4, 6, 1, 2, 3, 4, 5, 6, 2, 1, 2, 3, 4, 5, 6, 1, 2, 3, 4, 5, 6, 1, 2, 5, 6, 1, 2, 3, 4, 5, 6, 1, 2, 3, 4, 5, 6, 5, 6, 1, 2, 3, 4, 5, 6, 1, 2, 4, 5, 6, 3, 1, 2, 4, 6, 3, 1, 2, 3, 4, 5, 6, 1, 2, 3, 4, 5, 6, 1, 4, 5, 5, 3, 4, 1, 2, 4, 5, 6, 1, 2, 3, 4, 6, 1, 1, 2, 3, 4, 6, 1, 2, 3, 4, 5, 6, 1, 2, 3, 4, 5, 6, 1, 2, 3, 4, 5, 1, 2, 3, 4, 5, 6, 1, 2, 3, 4, 6, 1, 2, 3, 4, 5, 6, 1, 2, 4, 5, 6, 1, 2, 3, 4, 5, 6, 1, 2, 3, 4, 5, 6, 6, 2, 5, 6, 1, 2, 3, 4, 5, 6, 1, 2, 3, 4, 5, 6, 1, 4, 2, 3, 4, 5, 6, 1, 2, 5, 6, 1, 2, 3, 4, 5, 6, 2, 2, 3, 5, 6, 5, 1, 2, 3, 4, 5, 6, 1, 4, 1, 2, 3, 4, 5, 6, 4, 2, 1, 2, 3, 4, 5, 6, 1, 2, 3, 4, 5, 6, 1, 2, 3, 4, 5, 6, 1, 2, 3, 4, 5, 6, 2, 1, 2, 3, 4, 5, 6, 1, 4, 5, 6, 1, 2, 3, 4, 5, 6, 1, 2, 4, 4, 1, 1, 2, 3, 4, 5, 6, 1, 2, 3, 4, 5, 6, 1, 2, 3, 4, 5, 6, 6, 1, 1, 4, 1, 2, 3, 4, 5, 6, 1, 2, 3, 4, 5, 6, 6, 2, 5, 1, 3, 1, 2, 3, 4, 5, 6, 6, 1, 2, 3, 4, 5, 6, 1, 2, 3, 4, 5, 6, 1, 2, 3, 4, 5, 6, 2, 1, 2, 3, 4, 5, 6, 1, 2, 3, 4, 5, 6, 1, 2, 3, 4, 5, 6, 1, 2, 3, 4, 5, 6, 1, 2, 3, 4, 5, 6, 1, 2, 3, 4, 6, 1, 2, 3, 4, 5, 2, 3, 4, 5, 1, 2, 3, 4, 5, 1, 2, 1, 2, 3, 4, 5, 6, 6, 4, 1, 2, 3, 4, 5, 6, 3, 2, 1, 2, 3, 4, 5, 6, 4, 6, 1, 4, 5, 6, 1, 2, 3, 4, 5, 6, 2, 1, 4, 6, 5, 2, 3, 1, 2, 3, 4, 5, 6, 3, 1, 2, 3, 4, 5, 6, 1, 2, 3, 4, 5, 6, 1, 2, 3, 4, 5, 6, 1, 2, 3, 4, 5, 6, 1, 2, 3, 4, 5, 6, 6, 4, 1, 2, 3, 4, 5, 6, 1, 2, 3, 4, 5, 6, 1, 2, 3, 4, 5, 6, 1, 2, 3, 4, 5, 6, 1, 2, 3, 4, 5, 6, 1, 2, 3, 4, 5, 6, 1, 3, 4, 5, 1, 2, 3, 4, 5, 6, 5, 1, 5, 1, 2, 3, 4, 5, 6, 1, 2, 3, 4, 5, 6, 1, 2, 4, 5, 1, 4, 5, 2, 4, 5, 6], \"Freq\": [0.05227361534155422, 0.01742453844718474, 0.9235005377007912, 0.01742453844718474, 0.5988281191603732, 0.030108676382365127, 0.07694439519937755, 0.240869411058921, 0.006690816973858918, 0.043490310330082965, 0.9085330653584343, 0.03244760947708694, 0.03244760947708694, 0.012460825695385003, 0.012460825695385003, 0.9719444042400303, 0.9176225455961403, 0.08035906191454939, 0.013393176985758233, 0.006696588492879117, 0.8839496810600433, 0.006696588492879117, 0.006696588492879117, 0.054206442803183534, 0.1734606169701873, 0.737207622123296, 0.010841288560636706, 0.010841288560636706, 0.005420644280318353, 0.8543394755335734, 0.07429038917683246, 0.018572597294208116, 0.055717791882624344, 0.9484886441754109, 0.027331644499126204, 0.027331644499126204, 0.10932657799650482, 0.8199493349737862, 0.05941550649767662, 0.011883101299535325, 0.11883101299535324, 0.7842846857693314, 0.011883101299535325, 0.011883101299535325, 0.025781169595574846, 0.9539032750362693, 0.9522790128710643, 0.006859709447377564, 0.9534996131854814, 0.020579128342132692, 0.006859709447377564, 0.006859709447377564, 0.006859709447377564, 0.020046686103871905, 0.821914130258748, 0.04009337220774381, 0.010023343051935953, 0.030070029155807858, 0.08018674441548762, 0.028464456063754046, 0.9393270501038835, 0.014232228031877023, 0.17147073380630257, 0.13278526337439284, 0.15265077521780596, 0.2958915711413636, 0.12964860360964342, 0.11814751780556214, 0.008033248351377637, 0.7450837845902758, 0.03614961758119937, 0.03012468131766614, 0.09439066812868724, 0.08434910768946519, 0.008198257331012558, 0.03689215798955651, 0.012297385996518837, 0.004099128665506279, 0.9182048210734065, 0.024594771993037674, 0.07116180314222195, 0.035580901571110976, 0.035580901571110976, 0.8539416377066634, 0.0028115848538625633, 0.23617312772445534, 0.0028115848538625633, 0.005623169707725127, 0.7282004771504039, 0.022492678830900507, 0.003234231233609708, 0.28299523294084944, 0.002425673425207281, 0.003234231233609708, 0.7026367355017091, 0.005659904658816989, 0.04732148562908084, 0.02366074281454042, 0.9227689697670763, 0.19811769633264426, 0.1097444965107942, 0.19003125974763838, 0.2766716517298443, 0.12071894616187362, 0.10454607299186183, 0.9479591594811867, 0.09559392113257677, 0.05147364984061826, 0.8088716403525726, 0.014706757097319502, 0.022060135645979254, 0.007353378548659751, 0.9333027930345198, 0.05933297485478539, 0.0065925527616428215, 0.8306616479669955, 0.08570318590135667, 0.0065925527616428215, 0.0065925527616428215, 0.029740889721190843, 0.565076904702626, 0.11896355888476337, 0.027037172473809854, 0.17303790383238307, 0.08381523466881055, 0.8924887937946574, 0.008924887937946574, 0.008924887937946574, 0.06247421556562602, 0.017849775875893148, 0.008924887937946574, 0.9203406666407724, 0.13655026502663195, 0.013655026502663193, 0.8329566166624548, 0.013655026502663193, 0.013655026502663193, 0.05015403689940672, 0.0417950307495056, 0.18389813529782464, 0.7021565165916941, 0.01671801229980224, 0.00835900614990112, 0.9279153381124202, 0.9039100048684394, 0.9543891584849309, 0.008044219347048135, 0.8446430314400541, 0.008044219347048135, 0.008044219347048135, 0.12870750955277016, 0.008044219347048135, 0.8800609688629886, 0.10154549640726791, 0.00775111628171358, 0.240284604733121, 0.00775111628171358, 0.7363560467627901, 0.01550223256342716, 0.5368913074798579, 0.0575240686585562, 0.128993366082823, 0.14816805563567506, 0.05578091506284238, 0.07321245101998063, 0.08641226180697895, 0.010801532725872368, 0.010801532725872368, 0.010801532725872368, 0.010801532725872368, 0.8749241507956618, 0.8989008581478627, 0.06946682401169088, 0.9030687121519815, 0.9354981361921337, 0.9721662762025771, 0.07052744746641844, 0.08620021357006699, 0.7993110712860757, 0.015672766103648542, 0.023509149155472815, 0.007836383051824271, 0.03637570711071817, 0.03637570711071817, 0.9093926777679543, 0.014828085136587572, 0.07908312072846704, 0.8699143280131375, 0.01977078018211676, 0.00494269504552919, 0.00988539009105838, 0.9366239423909921, 0.9074102263593482, 0.09310369892368327, 0.21435502775452658, 0.4568576854162132, 0.11475572192919099, 0.051964855213218565, 0.06928647361762476, 0.32550881515152247, 0.04611374881313235, 0.520814104242436, 0.08137720378788062, 0.013562867297980103, 0.013562867297980103, 0.022789793237164502, 0.136738759422987, 0.015193195491443, 0.744466579080707, 0.0379829887286075, 0.0531761842200505, 0.043836710446681554, 0.014612236815560519, 0.014612236815560519, 0.014612236815560519, 0.8913464457491916, 0.029224473631121038, 0.0668768551946845, 0.0668768551946845, 0.013375371038936901, 0.013375371038936901, 0.013375371038936901, 0.8292730044140879, 0.17496105494652084, 0.057259981618861366, 0.05407887152892463, 0.222677706295572, 0.4167254217817133, 0.07634664215848182, 0.01984396387072899, 0.9326663019242625, 0.01984396387072899, 0.963237967888635, 0.07653202596848506, 0.8928736362989923, 0.02551067532282835, 0.36989185086980836, 0.029968089769544657, 0.1515529111202687, 0.3424924545090818, 0.04966140590381686, 0.057367486130271206, 0.922879594432, 0.870199796928364, 0.03203350990568902, 0.03203350990568902, 0.9289717872649815, 0.029820409259205892, 0.029820409259205892, 0.029820409259205892, 0.8946122777761767, 0.9258959929602035, 0.904247395942, 0.9067843539653224, 0.9264800411107947, 0.8522216308913196, 0.01175478111574234, 0.01763217167361351, 0.06465129613658287, 0.03526434334722702, 0.02350956223148468, 0.01907842502467704, 0.01907842502467704, 0.9348428262091749, 0.01907842502467704, 0.01907842502467704, 0.04416872964972884, 0.9275433226443056, 0.02427131141093681, 0.05461045067460782, 0.8009532765609148, 0.06067827852734202, 0.018203483558202605, 0.04247479496913942, 0.127443312594247, 0.03748332723360206, 0.04497999268032247, 0.7196798828851595, 0.014993330893440824, 0.059973323573763296, 0.3224448172455734, 0.07185913070044207, 0.2751529107162226, 0.18855344551312578, 0.07615839493038305, 0.06571732465766925, 0.07065155974754488, 0.48138859353411934, 0.16046286451137312, 0.11974840635177098, 0.0862188525732751, 0.08262640038272197, 0.04769759412124907, 0.011924398530312267, 0.011924398530312267, 0.13116838383343493, 0.011924398530312267, 0.7870103030006096, 0.05128016613833853, 0.9230429904900935, 0.9212944847192985, 0.014998420235819548, 0.052494470825368414, 0.8849067939133533, 0.03749605058954887, 0.014998420235819548, 0.007499210117909774, 0.9576715393945073, 0.9224954526677246, 0.24434833167775655, 0.13184262500598376, 0.4201384983524015, 0.10020039500454765, 0.0492212466689006, 0.05449495166913995, 0.9304465751178309, 0.027366075738759734, 0.02934698770397889, 0.05869397540795778, 0.1956465846931926, 0.6945453756608337, 0.00978232923465963, 0.00978232923465963, 0.9421104470459336, 0.1590368779878279, 0.08257684049367987, 0.036700817997191056, 0.5260450579597384, 0.04587602249648882, 0.14986167348853013, 0.007932886933167944, 0.8408860149158022, 0.04759732159900767, 0.007932886933167944, 0.031731547732671776, 0.06346309546534355, 0.8989241057768252, 0.8995122136169561, 0.04028745045290132, 0.02014372522645066, 0.9064676351902797, 0.02014372522645066, 0.02014372522645066, 0.0487535928142456, 0.054489309615921556, 0.739907467416198, 0.022942867206703813, 0.11471433603351906, 0.014339292004189883, 0.02883505979180336, 0.06487888453155756, 0.7172721123211085, 0.08650517937541007, 0.09731832679733633, 0.00360438247397542, 0.013548647568910204, 0.9077593871169838, 0.013548647568910204, 0.040645942706730616, 0.013548647568910204, 0.01804163765723324, 0.01804163765723324, 0.9201235205188952, 0.01804163765723324, 0.01804163765723324, 0.4248361966358455, 0.1355212240164525, 0.15227103822073315, 0.16216865570508082, 0.08374907102140323, 0.04187453551070162, 0.9397943663768639, 0.9219392602880724, 0.046096963014403615, 0.06907944376527586, 0.6078991051344276, 0.11743505440096896, 0.1450668319070793, 0.02993442563161954, 0.027631777506110344, 0.7800553421334822, 0.015295202786931023, 0.0076476013934655114, 0.1911900348366378, 0.0076476013934655114, 0.0076476013934655114, 0.8395897139837876, 0.012346907558585111, 0.012346907558585111, 0.03704072267575534, 0.06173453779292556, 0.049387630234340445, 0.8846737934410032, 0.01965941763202229, 0.058978252896066875, 0.01965941763202229, 0.01965941763202229, 0.9200868662749306, 0.14686286082643393, 0.3005742488416653, 0.2054558156639231, 0.23893750414248835, 0.05174442764869174, 0.05554916497580143, 0.034565958974179446, 0.7690925871754927, 0.051848938461269166, 0.051848938461269166, 0.034565958974179446, 0.051848938461269166, 0.945461573670206, 0.029545674177193938, 0.901267006619535, 0.6567502628075788, 0.06101836182564301, 0.09795052819379536, 0.06583560091714115, 0.05138388364264675, 0.06744134728097385, 0.23125419763934343, 0.02973268255362987, 0.026429051158782108, 0.3501849278538629, 0.04294720813302092, 0.3171486139053853, 0.21698910457653856, 0.09766035649014394, 0.1825027911909565, 0.3244154967156969, 0.08636837777097105, 0.09216696143757334, 0.9549010552787439, 0.9165999033096963, 0.030781570535147965, 0.030781570535147965, 0.892665545519291, 0.030781570535147965, 0.015390785267573983, 0.015390785267573983, 0.928927905575265, 0.9563516440529316, 0.9283253079089776, 0.9373649715470384, 0.026258359615159363, 0.9715593057608964, 0.03482514110272865, 0.13233553619036886, 0.13233553619036886, 0.020895084661637187, 0.6407825962902071, 0.03482514110272865, 0.03930372796726555, 0.9432894712143731, 0.03053199394109602, 0.03053199394109602, 0.9159598182328806, 0.050756638210063376, 0.010151327642012676, 0.9237708154231534, 0.010151327642012676, 0.655024998911366, 0.05142758255915684, 0.07578801640296796, 0.1380424584482631, 0.03789400820148398, 0.04330743794455313, 0.9599011613588013, 0.03555189486514079, 0.014630598765864606, 0.032918847223195366, 0.8888088750262748, 0.04023414660612767, 0.0036576496914661515, 0.02194589814879691, 0.09301964363944978, 0.08785188565948035, 0.7338216331556594, 0.06201309575963319, 0.005167757979969432, 0.015503273939908297, 0.9445094408322301, 0.919377551811349, 0.9328370518284446, 0.9608457844949094, 0.6989815639916797, 0.022917428327596055, 0.11229539880522067, 0.08937797047762461, 0.059585313651749745, 0.01604219982931724, 0.044173088739950385, 0.24400372827782119, 0.45855873072900877, 0.14303666830079173, 0.08203573623133643, 0.027345245410445477, 0.06680091840740611, 0.025050344402777293, 0.8746745253969738, 0.022962815702545852, 0.008350114800925764, 0.004175057400462882, 0.9561569854055201, 0.9576825138370001, 0.9559986076756793, 0.03540735583983998, 0.0847207370596359, 0.04236036852981795, 0.010590092132454487, 0.8154370941989956, 0.021180184264908974, 0.03177027639736346, 0.9121390608236606, 0.95905579597114, 0.9069153704284905, 0.010669592593276359, 0.021339185186552718, 0.03200877777982908, 0.010669592593276359, 0.042678370373105436, 0.6326448335289315, 0.038634798994133225, 0.06761089823973315, 0.1352217964794663, 0.04829349874266653, 0.07726959798826645, 0.15585604811262777, 0.03896401202815694, 0.7987622465772173, 0.008783998232792327, 0.8696158250464403, 0.07027198586233861, 0.008783998232792327, 0.017567996465584653, 0.026351994698376978, 0.9348222415799988, 0.035276311003018826, 0.017638155501509413, 0.03397696223080388, 0.9513549424625087, 0.004962587593770841, 0.05955105112525009, 0.004962587593770841, 0.004962587593770841, 0.9230412924413763, 0.004962587593770841, 0.9223959381462234, 0.018964670808594156, 0.9482335404297079, 0.018964670808594156, 0.014992317835773207, 0.014992317835773207, 0.014992317835773207, 0.9445160236537121, 0.014505191913895227, 0.029010383827790455, 0.8993218986615041, 0.029010383827790455, 0.014505191913895227, 0.10022487528890629, 0.47682743698055413, 0.14476926430619796, 0.15489298908285518, 0.07694030830259473, 0.04656913397262313, 0.2663206855656302, 0.14084267025105443, 0.2676010734770034, 0.2035816779083423, 0.07170172303690044, 0.04737435272080922, 0.4483546750329006, 0.02490859305738337, 0.04704956466394636, 0.17989539430332432, 0.008302864352461123, 0.2906002523361393, 0.01758617050716317, 0.31655106912893705, 0.27732038107449614, 0.1231031935501422, 0.18668396384527058, 0.07846137610888183, 0.007756155650009633, 0.0465369339000578, 0.007756155650009633, 0.007756155650009633, 0.380051626850472, 0.550687051150684, 0.0031271189690786623, 0.05628814144341592, 0.0031271189690786623, 0.012508475876314649, 0.43466953670193403, 0.48470344020719264, 0.04251817630143179, 0.9353998786314993, 0.11322262173671122, 0.06469864099240641, 0.07009019440844028, 0.062002864284389475, 0.6011582058877762, 0.09165640807257575, 0.028156032873099045, 0.028156032873099045, 0.9291490848122685, 0.06434930090345313, 0.04761848266855531, 0.7709046248233685, 0.09781093737324875, 0.014156846198759688, 0.004504451063241719, 0.9089485027293421, 0.6002660497107215, 0.1071903660197717, 0.08843205196631165, 0.07235349706334589, 0.048235664708897265, 0.08575229281581735, 0.0435855381841205, 0.9152963018665303, 0.2520990109716429, 0.015278727937675325, 0.6722640292577143, 0.05347554778186364, 0.0038196819844188313, 0.0038196819844188313, 0.06405097349920078, 0.010675162249866796, 0.9073887912386777, 0.010675162249866796, 0.010675162249866796, 0.04688031228671578, 0.47996510198304254, 0.23886635307993279, 0.10045781204296239, 0.0736690621648391, 0.05804229140260049, 0.008441435707009294, 0.16882871414018588, 0.008441435707009294, 0.801936392165883, 0.016882871414018587, 0.07301706885141983, 0.012885365091427028, 0.004295121697142343, 0.8933853130056073, 0.008590243394284686, 0.004295121697142343, 0.952436691521492, 0.04418396798901313, 0.15464388796154596, 0.11045991997253284, 0.10604152317363152, 0.508115631873651, 0.07511274558132233, 0.07787909339567017, 0.856670027352372, 0.937753247276859, 0.3119367974539953, 0.08686847524035311, 0.2092740539881234, 0.2586311421928695, 0.04244709585608163, 0.09081704229673279, 0.954529144470671, 0.9075101901304612, 0.014404923652864464, 0.014404923652864464, 0.028809847305728928, 0.028809847305728928, 0.948821693051585, 0.027906520383870148, 0.014497700020318072, 0.028995400040636145, 0.9133551012800386, 0.028995400040636145, 0.014497700020318072, 0.009404326956866455, 0.8369850991611145, 0.03761730782746582, 0.009404326956866455, 0.028212980870599366, 0.07523461565493164, 0.9727409245609777, 0.8610668132789748, 0.017753954912968554, 0.008876977456484277, 0.03550790982593711, 0.05326186473890566, 0.02663093236945283, 0.9102369372651412, 0.03640947749060565, 0.009223178628049734, 0.6790565264901617, 0.023057946570124332, 0.016140562599087034, 0.04035140649771758, 0.23288526035825577, 0.007827583300245173, 0.7618847745571968, 0.045660902584763505, 0.018264361033905403, 0.020873555467320462, 0.1448102910545357, 0.014005791777464256, 0.014005791777464256, 0.9243822573126409, 0.028011583554928512, 0.6444988549954368, 0.03554221626813071, 0.08293183795897165, 0.12795197856527055, 0.04502014060629889, 0.06160650819809323, 0.042469453907543524, 0.09555627129197293, 0.010617363476885881, 0.010617363476885881, 0.010617363476885881, 0.8281543511970987, 0.012209862491710488, 0.012209862491710488, 0.17093807488394683, 0.7936410619611818, 0.012209862491710488, 0.20750643849741862, 0.012969152406088664, 0.012969152406088664, 0.06484576203044332, 0.012969152406088664, 0.6873650775226992, 0.005526598951355543, 0.5581864940869099, 0.04697609108652211, 0.011053197902711085, 0.27909324704345495, 0.096715481648722, 0.9098669955813011, 0.03967114804070126, 0.01983557402035063, 0.912436404936129, 0.01983557402035063, 0.956455512156272, 0.21417785553144883, 0.006490238046407541, 0.006490238046407541, 0.07139261851048295, 0.006490238046407541, 0.6944554709656068, 0.024647238295433947, 0.024647238295433947, 0.9119478169310561, 0.024647238295433947, 0.024647238295433947, 0.06746250100273726, 0.019275000286496362, 0.009637500143248181, 0.2023875030082118, 0.009637500143248181, 0.7035375104571172, 0.674948750351883, 0.04388211689594285, 0.07522648610733061, 0.06686798765096054, 0.09194348302007074, 0.05015099073822041, 0.9227674726334408, 0.9549395774499616, 0.01801772787641437, 0.8933788215535051, 0.11839725506383278, 0.013155250562648086, 0.013155250562648086, 0.03946575168794426, 0.013155250562648086, 0.8024702843215332, 0.04457641351968824, 0.5147856787112384, 0.20994052818949946, 0.07764923645365049, 0.12366359879655447, 0.030196925287530745, 0.02888172149265776, 0.9530968092577061, 0.15494272637507106, 0.35435332040935535, 0.14591019075679337, 0.2001054044664595, 0.063922559760119, 0.08059801013232396, 0.008698107818463285, 0.01739621563692657, 0.9133013209386449, 0.026094323455389857, 0.008698107818463285, 0.026094323455389857, 0.04546635793712544, 0.9093271587425088, 0.01502734702095556, 0.01502734702095556, 0.03005469404191112, 0.9467228623202003, 0.6427577329826131, 0.08443004119686867, 0.11711263778920493, 0.059918093752616475, 0.06536519318467252, 0.029959046876308237, 0.8619822487255323, 0.03024499118335201, 0.06048998236670402, 0.04536748677502802, 0.03622933469882163, 0.9238480348199515, 0.018114667349410814, 0.17995084676262105, 0.017772923137048993, 0.008886461568524497, 0.22660476999737467, 0.059983615587540354, 0.5065283094058963, 0.060380900423065716, 0.1382404825475452, 0.70550315231161, 0.03495736340282752, 0.0492581029767115, 0.01112279744635421, 0.8969596770367093, 0.05547667771172541, 0.5475306887200725, 0.12301350275208678, 0.09406914916336047, 0.12542553221781397, 0.05547667771172541, 0.042309156077945484, 0.9308014337148006, 0.03757748664730258, 0.009394371661825645, 0.845493449564308, 0.009394371661825645, 0.04697185830912822, 0.04697185830912822, 0.913710420788786, 0.04809002214677821, 0.9155162401917496, 0.1702403727183552, 0.22503877595387725, 0.17754682648309147, 0.2718000800481894, 0.07890970065915176, 0.07598711915325726, 0.3070018572173161, 0.12233024195632519, 0.1623228210574315, 0.2270166990151035, 0.08978726092307202, 0.09135559735840952, 0.9364651367415376, 0.022840613091257015, 0.022840613091257015, 0.055479961977677565, 0.4860044669244555, 0.14868629810017586, 0.11095992395535513, 0.13759030570464037, 0.05991835893589177, 0.05143136533359348, 0.10286273066718696, 0.01714378844453116, 0.01714378844453116, 0.01714378844453116, 0.8057580568929645, 0.934829657276324, 0.9562263348522496, 0.5208591088940855, 0.12219206583060299, 0.14194027849009438, 0.12959764557791226, 0.031473713926064406, 0.05369045316799222, 0.9372114082685329, 0.022858814835817875, 0.9624024666963379, 0.012484362232782983, 0.9612958919242897, 0.012484362232782983, 0.012484362232782983, 0.012484362232782983, 0.9605360081878095, 0.9492162135712626, 0.01695028952805826, 0.03390057905611652, 0.9564623265590197, 0.9501001560987877, 0.006226682565520237, 0.20548052466216782, 0.012453365131040475, 0.006226682565520237, 0.7596552729934689, 0.012453365131040475, 0.8609449639114064, 0.015374017212703686, 0.030748034425407373, 0.07687008606351843, 0.036368256030069046, 0.036368256030069046, 0.8728381447216572, 0.036368256030069046, 0.03001961700587549, 0.945617935685078, 0.015009808502937745, 0.029803118059320566, 0.029803118059320566, 0.05960623611864113, 0.894093541779617, 0.9097543626654423, 0.01096089593572822, 0.01096089593572822, 0.04384358374291288, 0.02192179187145644, 0.9706884113348286, 0.009268813072638667, 0.7971179242469253, 0.15756982223485733, 0.004634406536319333, 0.013903219608957998, 0.018537626145277333, 0.05892708029413616, 0.01473177007353404, 0.8544426642649743, 0.04419531022060212, 0.01473177007353404, 0.9514097476593917, 0.8801300116836384, 0.3284134753388857, 0.01582715543801859, 0.019783944297523236, 0.2532344870082974, 0.02769752201653253, 0.35611099735541824, 0.11493464136454058, 0.02089720752082556, 0.006965735840275187, 0.6721935085865556, 0.02089720752082556, 0.1706605280867421, 0.04145979301263676, 0.9121154462780088, 0.04145979301263676, 0.023389753933879716, 0.1403385236032783, 0.023389753933879716, 0.023389753933879716, 0.7484721258841509, 0.04677950786775943, 0.07016413238052348, 0.9121337209468052, 0.0038390764908900225, 0.23418366594429138, 0.07678152981780045, 0.011517229472670068, 0.6257694680150737, 0.04990799438157029, 0.9528016094594804, 0.8907705687280003, 0.617272697120222, 0.05458874192219651, 0.1553679577785593, 0.07768397888927965, 0.05248917492518895, 0.039891772943143604, 0.9075576873242697, 0.4876041785310596, 0.026121652421306762, 0.005804811649179281, 0.21768043684422303, 0.007256014561474101, 0.2539605096515935, 0.008104603021595887, 0.26745189971266425, 0.13777825136713007, 0.02431380906478766, 0.4660146737417635, 0.09725523625915064, 0.9532996513226046, 0.006354575737730302, 0.7053579068880635, 0.17157354491871815, 0.03177287868865151, 0.06354575737730302, 0.019063727213190905, 0.007646794124518956, 0.12999550011682226, 0.007646794124518956, 0.022940382373556868, 0.7340922359538198, 0.09940832361874644, 0.1872953023392687, 0.10145162210043722, 0.11081638721740066, 0.204464038387035, 0.20914642094551672, 0.18573450815310813, 0.9082313913258201, 0.09256090394972101, 0.030853634649907, 0.7867676835726286, 0.061707269299814, 0.0154268173249535, 0.9615837313082506, 0.8997230999270608, 0.3258452803113969, 0.08858918558466103, 0.20772636619851553, 0.24642049323549392, 0.039712393537951494, 0.09062571858660727, 0.1081053634583734, 0.03603512115279114, 0.7747551047850094, 0.07207024230558227, 0.01801756057639557, 0.009008780288197784, 0.06554236129104417, 0.016385590322761042, 0.9012074677518573, 0.016385590322761042, 0.11188349575410246, 0.7066326047627524, 0.04122023527782722, 0.11188349575410246, 0.011777210079379206, 0.017665815119068812, 0.5231641942521544, 0.18418514704008432, 0.0627013266519436, 0.0940519899779154, 0.0783766583149295, 0.05878249373619712, 0.05062329019277082, 0.9112192234698747, 0.02846114652078793, 0.9392178351860017, 0.014230573260393965, 0.9048284960595607, 0.023200730668193864, 0.023200730668193864, 0.04640146133638773, 0.02627459547025108, 0.9458854369290388, 0.9433332897173676, 0.24432348308700214, 0.011918218687170837, 0.0059591093435854186, 0.39926032602022304, 0.008938664015378127, 0.3307305685689907, 0.978200386519164, 0.2673828151529381, 0.12868934810932225, 0.16961528920415972, 0.2582881615763076, 0.07230249593421285, 0.10322431809475673, 0.9224599543938612, 0.010301872386216744, 0.030905617158650235, 0.010301872386216744, 0.9477722595319406, 0.010301872386216744, 0.014141022653107405, 0.007070511326553702, 0.014141022653107405, 0.014141022653107405, 0.9050254497988739, 0.049493579285875916, 0.8317849532275128, 0.017511262173210796, 0.017511262173210796, 0.08755631086605398, 0.008755631086605398, 0.04377815543302699, 0.47419906130271794, 0.11359141012194383, 0.061303300700731596, 0.06310633895663546, 0.23259193501159928, 0.05409114767711611, 0.003960769470196305, 0.7565069688074941, 0.0792153894039261, 0.019803847350981525, 0.05545077258274826, 0.0871369283443187, 0.0394094288480988, 0.0394094288480988, 0.9064168635062725, 0.7138494957369749, 0.025313811905566485, 0.12150629714671914, 0.12150629714671914, 0.005062762381113297, 0.015188287143339892, 0.9525861678605222, 0.8634000159529385, 0.012513043709462877, 0.012513043709462877, 0.05005217483785151, 0.012513043709462877, 0.05005217483785151, 0.9417007910389386, 0.03948380455711565, 0.40457377820167817, 0.2374437013777229, 0.11087917718094122, 0.13792287893239027, 0.07031362455376759, 0.9218802973299915, 0.03178897576999971, 0.011008787623718755, 0.9027205851449379, 0.011008787623718755, 0.055043938118593774, 0.011008787623718755, 0.011008787623718755, 0.948443375581339, 0.040298767683377146, 0.6630979046082967, 0.05495286502278701, 0.02930819467881974, 0.1245598273849839, 0.08792458403645922, 0.30837079605090345, 0.1137874771454207, 0.184483838685475, 0.2356545384668476, 0.07877594571606049, 0.07944924439739434, 0.19963097388604023, 0.022181219320671137, 0.022181219320671137, 0.7319802375821475, 0.011858306539259976, 0.047433226157039904, 0.03557491961777993, 0.023716613078519952, 0.8419397642874583, 0.047433226157039904, 0.2828576197819646, 0.03394291437383576, 0.018857174652130975, 0.2979433595036694, 0.03017147944340956, 0.3394291437383576, 0.9554211721687883, 0.027297747776251092, 0.20144909419407916, 0.009592814009241866, 0.009592814009241866, 0.09592814009241865, 0.009592814009241866, 0.6714969806469305, 0.8785088480687899, 0.01952241884597311, 0.03904483769194622, 0.01952241884597311, 0.058567256537919325, 0.8952447526275366, 0.8945760516217077, 0.01825665411472873, 0.01825665411472873, 0.05476996234418619, 0.948675761310807, 0.7690248324748785, 0.09513709267730455, 0.09910113820552557, 0.027748318697547163, 0.007928091056442047, 0.003964045528221024, 0.5962253838214985, 0.05732936382899023, 0.164344176309772, 0.12230264283517917, 0.03057566070879479, 0.028664681914495116, 0.9553442519042918, 0.02221730818382074, 0.02221730818382074, 0.9421412379404972, 0.9598647033967486, 0.9333332683549852, 0.8899083743299584, 0.014353360876289651, 0.014353360876289651, 0.014353360876289651, 0.07176680438144825, 0.021952452231636905, 0.021952452231636905, 0.900050541497113, 0.021952452231636905, 0.021952452231636905, 0.894423631286294, 0.023168628319560382, 0.023168628319560382, 0.9267451327824152, 0.023168628319560382, 0.023168628319560382, 0.010041156056981892, 0.05020578028490946, 0.04016462422792757, 0.8836217330144065, 0.010041156056981892, 0.010041156056981892, 0.05537228040162699, 0.3452115606288933, 0.3893363465739398, 0.07440650178968627, 0.05796785604545326, 0.07786726931478796, 0.16155582724052098, 0.026925971206753493, 0.7898284887314359, 0.008975323735584498, 0.008975323735584498, 0.05425552562682721, 0.09223439356560625, 0.16819212944316433, 0.03255331537609633, 0.6293640972711956, 0.021702210250730884, 0.01010325768234554, 0.01010325768234554, 0.9497062221404808, 0.01010325768234554, 0.01010325768234554, 0.10323090121051173, 0.04588040053800521, 0.18352160215202085, 0.022940200269002606, 0.011470100134501303, 0.6308555073975717, 0.8968325102815013, 0.024912014174486147, 0.024912014174486147, 0.024912014174486147, 0.024912014174486147, 0.035257525784731486, 0.21938016043832922, 0.00783500572994033, 0.09010256589431379, 0.5876254297455247, 0.058762542974552474, 0.17809774501983502, 0.24156530506326715, 0.18392639849321143, 0.2225682122611514, 0.09779185271998214, 0.07598837120846294, 0.9136130281698948, 0.030019223620071703, 0.9456055440322586, 0.015009611810035852, 0.2018426856817294, 0.006728089522724313, 0.013456179045448626, 0.10428538760222686, 0.037004492374983725, 0.6358044598974476, 0.04646900452521166, 0.5399255763881736, 0.1305557746184518, 0.1209669324148367, 0.1017892480076065, 0.05900825971455449, 0.9578274426651964, 0.9218121467204675, 0.13264120535616425, 0.008842747023744284, 0.008842747023744284, 0.8489037142794512, 0.008842747023744284, 0.9603402963963843, 0.02887201157314139, 0.9383403761270952, 0.014436005786570696, 0.008207912043794343, 0.03283164817517737, 0.020519780109485856, 0.004103956021897171, 0.9192861489049663, 0.012311868065691513, 0.953410291461382, 0.025611576108253854, 0.025611576108253854, 0.025611576108253854, 0.9220167398971387, 0.9689633479146613, 0.021360284538301525, 0.897131950608664, 0.04272056907660305, 0.010680142269150763, 0.010680142269150763, 0.021360284538301525, 0.9164164385956876, 0.048232444136615135, 0.11424775763692031, 0.06151802334295709, 0.02636486714698161, 0.14940091383289578, 0.01757657809798774, 0.6327568115275586, 0.9219034438006289, 0.9422026180052196, 0.0119339702533227, 0.7279721854526847, 0.0119339702533227, 0.0119339702533227, 0.1949215141376041, 0.0437578909288499, 0.04758506944704735, 0.18240943288034817, 0.003965422453920613, 0.11499725116369776, 0.634467592627298, 0.01586168981568245, 0.37125814462329587, 0.0251449739386296, 0.00961425474124073, 0.3682999123952218, 0.02588453199564812, 0.19968067539499976, 0.15166208703878598, 0.006594003784295042, 0.006594003784295042, 0.22419612866603145, 0.019782011352885126, 0.5934603405865538, 0.9036090839284245, 0.06134761240986056, 0.00876394462998008, 0.00876394462998008, 0.9026862968879482, 0.01752788925996016, 0.00876394462998008, 0.05873599788853395, 0.029367998944266976, 0.05873599788853395, 0.8223039704394753, 0.11285164804464647, 0.3592444129421246, 0.2840099809123603, 0.07617486243013637, 0.10344734404092593, 0.06394926722529967, 0.04756875486849382, 0.9038063425013827, 0.04756875486849382, 0.8839235944206333, 0.9163342959759857, 0.19995567109304235, 0.017139057522260772, 0.6969883392386047, 0.07426924926313001, 0.005713019174086924, 0.011426038348173849, 0.2607772852867353, 0.14054610447091143, 0.16625070174877724, 0.22595170187801394, 0.11525609747172087, 0.09079527102988083, 0.9487558360181091, 0.9745414083065772, 0.009193786870816767, 0.009193786870816767, 0.009193786870816767, 0.009193786870816767, 0.9343969730970624, 0.9319353670935987, 0.03107451044148664, 0.9322353132445992, 0.17289493441058956, 0.3263231799097646, 0.18518968530200927, 0.20337567099556758, 0.055070238367817416, 0.05711936351638737, 0.06042133090449079, 0.4002913172422515, 0.1378361611258696, 0.19070482566729904, 0.14916516067046162, 0.062309497495256126, 0.9235823836026262, 0.024751543508505516, 0.9405586533232096, 0.9207070203048895, 0.9597057850080857, 0.06348035148486486, 0.5189518733887702, 0.18091900173186487, 0.10474257995002703, 0.08411146571744595, 0.04602325482652703, 0.9139390129487918, 0.16064164194598324, 0.22023450911949313, 0.20080205243247903, 0.29666883875508193, 0.05311538161117187, 0.06995684407325077, 0.10976540492084777, 0.27730207558951014, 0.24346461993721874, 0.1997235187281591, 0.04621701259825169, 0.12379556945960274, 0.1382689871345872, 0.2453675089613773, 0.17903036484478344, 0.21979174255497966, 0.13587125903398742, 0.08152275542039246, 0.9476610300067054, 0.04530159659620691, 0.010067021465823759, 0.020134042931647517, 0.8405962923962839, 0.05033510732911879, 0.03523457513038315, 0.0028978720089488366, 0.06665105620582325, 0.0028978720089488366, 0.005795744017897673, 0.8085062904967254, 0.11301700834900463, 0.0029678203750821454, 0.1572944798793537, 0.035613844500985745, 0.011871281500328582, 0.6202744583921683, 0.17213358175476443, 0.0029614801356781656, 0.10069032461305763, 0.0029614801356781656, 0.005922960271356331, 0.8129262972436565, 0.07403700339195414, 0.36966219438060405, 0.08509205229138432, 0.13949516769079398, 0.3110742239504706, 0.06695768049158111, 0.026504081861250854, 0.03116213739770692, 0.03116213739770692, 0.9140893636660696, 0.020774758265137947, 0.010387379132568974, 0.02652432749721573, 0.02652432749721573, 0.8620406436595113, 0.0397864912458236, 0.0397864912458236, 0.01418460659150765, 0.07092303295753825, 0.8652610020819667, 0.0283692131830153, 0.014572086254628488, 0.014572086254628488, 0.07286043127314244, 0.8743251752777093, 0.029144172509256976, 0.9339546361673078, 0.04245248346215035, 0.03920710656625962, 0.01306903552208654, 0.01306903552208654, 0.797211166847279, 0.01306903552208654, 0.13069035522086542, 0.9205967951632057, 0.9407337166683386, 0.23048153348769645, 0.12102505233330779, 0.13704307396565735, 0.25539845602690686, 0.133483513602913, 0.12280483251467995, 0.8899052187899221, 0.9150661628160298, 0.31571982487081723, 0.11424072610457203, 0.19317068232227635, 0.19732489054426078, 0.1100865178825876, 0.06958298771823933, 0.8685684694357594, 0.9491296849544927, 0.022827621054925553, 0.8674496000871711, 0.022827621054925553, 0.09131048421970221, 0.7407949543834207, 0.011758650069578106, 0.05879325034789053, 0.03723572522033067, 0.12934515076535916, 0.02155752512755986, 0.9526483390940238, 0.031153356305991517, 0.09346006891797455, 0.8099872639557795, 0.9754661863637945, 0.0393895156496108, 0.9059588599410485, 0.08344065784326186, 0.0370847368192275, 0.7695082889989706, 0.027813552614420624, 0.05562710522884125, 0.027813552614420624, 0.9089543953782327, 0.619707474724873, 0.017429272726637052, 0.15492686868121824, 0.1665463838323096, 0.01936585858515228, 0.021302444443667506, 0.025143220983774993, 0.050286441967549986, 0.8862985396780685, 0.018857415737831246, 0.006285805245943748, 0.006285805245943748, 0.1738304439588095, 0.2854107964999372, 0.20201916460077862, 0.18557574422629664, 0.08221710187240991, 0.07047180160492278, 0.01873029691122598, 0.3585513980148973, 0.1685726722010338, 0.053515134032074224, 0.3558756413132936, 0.0481636206288668, 0.046391948381451636, 0.19072245445707894, 0.6975974460321986, 0.03608262651890683, 0.02577330465636202, 0.0034364406208482693, 0.8878979721228181, 0.8754103900212565, 0.17273772422492356, 0.007350541456379726, 0.03307743655370877, 0.01102581218456959, 0.7313788749097827, 0.047778519466468224, 0.032776594342061115, 0.008194148585515279, 0.008194148585515279, 0.008194148585515279, 0.9259387901632266, 0.024582445756545838, 0.22661201161232827, 0.18602478565191127, 0.07215506837407468, 0.28636542760960887, 0.15558436618159852, 0.0732824913174196, 0.13032056640237136, 0.17955278037660052, 0.13032056640237136, 0.17086474261644244, 0.27222518315162014, 0.11728850976213422, 0.1868904336578267, 0.13947047287897515, 0.21478452823362174, 0.24732763857204929, 0.10460285465923137, 0.10692736254054762, 0.6118679958465624, 0.05394302230385311, 0.04777810546912704, 0.11405096144243229, 0.13871062878133658, 0.0354482717996749, 0.9016677931603877, 0.031091992867599574, 0.031091992867599574, 0.031091992867599574, 0.7830483158955723, 0.07308450948358676, 0.0696042947462731, 0.02784171789850924, 0.03480214737313655, 0.010440644211940965, 0.9854732831765742, 0.026274857112417453, 0.9458948560470283, 0.09483945625900796, 0.2199468240900397, 0.14024132361704367, 0.27241120414821435, 0.16243779210319448, 0.11098234243075399, 0.7766074801705158, 0.060046970116277, 0.032025050728681066, 0.06405010145736213, 0.016012525364340533, 0.05604383877519187, 0.043405609499338686, 0.010851402374834672, 0.9223692018609471, 0.010851402374834672, 0.02539858645304597, 0.9524469919892239, 0.012699293226522985, 0.05102525037042678, 0.012756312592606695, 0.918454506667682, 0.012756312592606695], \"Term\": [\"acad\", \"acad\", \"acad\", \"acad\", \"access\", \"access\", \"access\", \"access\", \"access\", \"access\", \"acronym\", \"acronym\", \"acronym\", \"adl\", \"adl\", \"adl\", \"aegean\", \"alaska\", \"alaska\", \"alaska\", \"alaska\", \"alaska\", \"alaska\", \"amendment\", \"amendment\", \"amendment\", \"amendment\", \"amendment\", \"amendment\", \"analog\", \"analog\", \"analog\", \"analog\", \"anania\", \"andi\", \"andi\", \"andi\", \"andi\", \"andy\", \"andy\", \"andy\", \"andy\", \"andy\", \"andy\", \"ankara\", \"ankara\", \"anwar\", \"apartment\", \"apartment\", \"apartment\", \"apartment\", \"apartment\", \"apartment\", \"apc\", \"apc\", \"apc\", \"apc\", \"apc\", \"apc\", \"appressian\", \"appressian\", \"appressian\", \"apr\", \"apr\", \"apr\", \"apr\", \"apr\", \"apr\", \"arab\", \"arab\", \"arab\", \"arab\", \"arab\", \"arab\", \"argic\", \"argic\", \"argic\", \"argic\", \"argic\", \"argic\", \"ariane\", \"ariane\", \"ariane\", \"ariane\", \"armenia\", \"armenia\", \"armenia\", \"armenia\", \"armenia\", \"armenia\", \"armenian\", \"armenian\", \"armenian\", \"armenian\", \"armenian\", \"armenian\", \"arras\", \"arras\", \"arras\", \"article\", \"article\", \"article\", \"article\", \"article\", \"article\", \"asala\", \"assault\", \"assault\", \"assault\", \"assault\", \"assault\", \"assault\", \"atan\", \"atf\", \"atf\", \"atf\", \"atf\", \"atf\", \"atf\", \"attack\", \"attack\", \"attack\", \"attack\", \"attack\", \"attack\", \"audio\", \"audio\", \"audio\", \"audio\", \"audio\", \"audio\", \"aunt\", \"aurora\", \"aurora\", \"aurora\", \"aurora\", \"aurora\", \"auto\", \"auto\", \"auto\", \"auto\", \"auto\", \"auto\", \"auvm\", \"aweto\", \"azerbadjan\", \"azerbaijani\", \"azerbaijani\", \"azerbaijani\", \"azerbaijani\", \"azerbaijani\", \"azerbaijani\", \"azerbaijanis\", \"azerbaijanis\", \"azeri\", \"azeri\", \"azeri\", \"azeri\", \"azeri\", \"b\", \"b\", \"b\", \"b\", \"b\", \"b\", \"baalke\", \"baalke\", \"baalke\", \"baalke\", \"baalke\", \"baalke\", \"babak\", \"backer\", \"backer\", \"baden\", \"balcony\", \"ban\", \"ban\", \"ban\", \"ban\", \"ban\", \"ban\", \"basil\", \"basil\", \"basil\", \"batf\", \"batf\", \"batf\", \"batf\", \"batf\", \"batf\", \"bedouin\", \"being\", \"believe\", \"believe\", \"believe\", \"believe\", \"believe\", \"believe\", \"bill\", \"bill\", \"bill\", \"bill\", \"bill\", \"bill\", \"billion\", \"billion\", \"billion\", \"billion\", \"billion\", \"billion\", \"bm\", \"bm\", \"bm\", \"bm\", \"bm\", \"bm\", \"bony\", \"bony\", \"bony\", \"bony\", \"bony\", \"bony\", \"book\", \"book\", \"book\", \"book\", \"book\", \"book\", \"breaker\", \"breaker\", \"breaker\", \"bubblejet\", \"bullock\", \"bullock\", \"bullock\", \"c\", \"c\", \"c\", \"c\", \"c\", \"c\", \"cadlab\", \"caltran\", \"canon\", \"canon\", \"canon\", \"carnegie\", \"carnegie\", \"carnegie\", \"carnegie\", \"casper\", \"caterpillar\", \"cci\", \"chatham\", \"chip\", \"chip\", \"chip\", \"chip\", \"chip\", \"chip\", \"chopin\", \"chopin\", \"chopin\", \"chopin\", \"chopin\", \"clem\", \"clem\", \"clinton\", \"clinton\", \"clinton\", \"clinton\", \"clinton\", \"clinton\", \"cmu\", \"cmu\", \"cmu\", \"cmu\", \"cmu\", \"cmu\", \"com\", \"com\", \"com\", \"com\", \"com\", \"com\", \"come\", \"come\", \"come\", \"come\", \"come\", \"come\", \"comet\", \"comet\", \"comet\", \"comet\", \"comet\", \"comet\", \"composer\", \"composer\", \"composite\", \"compound\", \"compound\", \"compound\", \"compound\", \"compound\", \"compound\", \"condenser\", \"connor\", \"control\", \"control\", \"control\", \"control\", \"control\", \"control\", \"cooper\", \"cooper\", \"cop\", \"cop\", \"cop\", \"cop\", \"cop\", \"cop\", \"cosmo\", \"cost\", \"cost\", \"cost\", \"cost\", \"cost\", \"cost\", \"cpr\", \"cpr\", \"cpr\", \"cpr\", \"cpr\", \"cpr\", \"cpu\", \"cranston\", \"crary\", \"crary\", \"crary\", \"crary\", \"crary\", \"crime\", \"crime\", \"crime\", \"crime\", \"crime\", \"crime\", \"criminal\", \"criminal\", \"criminal\", \"criminal\", \"criminal\", \"criminal\", \"crowd\", \"crowd\", \"crowd\", \"crowd\", \"crowd\", \"cult\", \"cult\", \"cult\", \"cult\", \"cult\", \"d\", \"d\", \"d\", \"d\", \"d\", \"d\", \"deskjet\", \"dial\", \"dial\", \"didn\", \"didn\", \"didn\", \"didn\", \"didn\", \"didn\", \"digex\", \"digex\", \"digex\", \"digex\", \"digex\", \"digex\", \"digital\", \"digital\", \"digital\", \"digital\", \"digital\", \"digital\", \"directory\", \"directory\", \"directory\", \"directory\", \"directory\", \"dnd\", \"don\", \"don\", \"don\", \"don\", \"don\", \"don\", \"door\", \"door\", \"door\", \"door\", \"door\", \"door\", \"dorin\", \"dorin\", \"dundee\", \"e\", \"e\", \"e\", \"e\", \"e\", \"e\", \"earth\", \"earth\", \"earth\", \"earth\", \"earth\", \"earth\", \"edu\", \"edu\", \"edu\", \"edu\", \"edu\", \"edu\", \"een\", \"emma\", \"enforcement\", \"enforcement\", \"enforcement\", \"enforcement\", \"enforcement\", \"enforcement\", \"englishman\", \"entryway\", \"enzo\", \"erzincan\", \"erzurum\", \"erzurum\", \"escape\", \"escape\", \"escape\", \"escape\", \"escape\", \"escape\", \"esin\", \"esin\", \"ether\", \"ether\", \"ether\", \"extermination\", \"extermination\", \"extermination\", \"extermination\", \"f\", \"f\", \"f\", \"f\", \"f\", \"f\", \"farid\", \"farid\", \"fbi\", \"fbi\", \"fbi\", \"fbi\", \"fbi\", \"fbi\", \"federal\", \"federal\", \"federal\", \"federal\", \"federal\", \"federal\", \"fegmania\", \"felon\", \"felony\", \"feustel\", \"file\", \"file\", \"file\", \"file\", \"file\", \"file\", \"fire\", \"fire\", \"fire\", \"fire\", \"fire\", \"fire\", \"firearm\", \"firearm\", \"firearm\", \"firearm\", \"firearm\", \"firearm\", \"flax\", \"flygare\", \"fpu\", \"fpu\", \"fred\", \"fred\", \"fred\", \"fred\", \"fred\", \"fred\", \"fredom\", \"frej\", \"ftp\", \"ftp\", \"ftp\", \"ftp\", \"ftp\", \"ftp\", \"g\", \"g\", \"g\", \"g\", \"g\", \"g\", \"galileo\", \"galileo\", \"galileo\", \"gaza\", \"gaza\", \"gaza\", \"gaza\", \"gaza\", \"gaza\", \"gazan\", \"gazan\", \"gazan\", \"gehrel\", \"gehrel\", \"genocide\", \"genocide\", \"genocide\", \"genocide\", \"genocide\", \"genocide\", \"geode\", \"gfci\", \"gfci\", \"gfci\", \"glock\", \"glock\", \"glock\", \"glock\", \"gnv\", \"gnv\", \"gnv\", \"gnv\", \"gnv\", \"go\", \"go\", \"go\", \"go\", \"go\", \"go\", \"good\", \"good\", \"good\", \"good\", \"good\", \"good\", \"gov\", \"gov\", \"gov\", \"gov\", \"gov\", \"gov\", \"government\", \"government\", \"government\", \"government\", \"government\", \"government\", \"greece\", \"greece\", \"greece\", \"greece\", \"greece\", \"greece\", \"greek\", \"greek\", \"greek\", \"greek\", \"greek\", \"greek\", \"greig\", \"greig\", \"ground\", \"ground\", \"ground\", \"ground\", \"ground\", \"ground\", \"guday\", \"guday\", \"guday\", \"gun\", \"gun\", \"gun\", \"gun\", \"gun\", \"gun\", \"gunduz\", \"h\", \"h\", \"h\", \"h\", \"h\", \"h\", \"haine\", \"haine\", \"handgun\", \"handgun\", \"handgun\", \"handgun\", \"handgun\", \"handgun\", \"handheld\", \"handheld\", \"handheld\", \"handheld\", \"handheld\", \"happen\", \"happen\", \"happen\", \"happen\", \"happen\", \"happen\", \"henrik\", \"henrik\", \"henrik\", \"henrik\", \"henrik\", \"henry\", \"henry\", \"henry\", \"henry\", \"henry\", \"henry\", \"het\", \"history\", \"history\", \"history\", \"history\", \"history\", \"history\", \"hizbollah\", \"hizbollah\", \"hojali\", \"host\", \"host\", \"host\", \"host\", \"host\", \"host\", \"hovig\", \"ic\", \"ic\", \"ic\", \"ic\", \"ic\", \"idf\", \"idf\", \"ifas\", \"ifas\", \"ifas\", \"ifas\", \"ifas\", \"igc\", \"igc\", \"igc\", \"igc\", \"igc\", \"igc\", \"igor\", \"input\", \"input\", \"input\", \"input\", \"input\", \"input\", \"iranian\", \"iranian\", \"israel\", \"israel\", \"israel\", \"israel\", \"israel\", \"israel\", \"israeli\", \"israeli\", \"israeli\", \"israeli\", \"israeli\", \"israeli\", \"istanbul\", \"istanbul\", \"istanbul\", \"istanbul\", \"j\", \"j\", \"j\", \"j\", \"j\", \"j\", \"jake\", \"jake\", \"jake\", \"jake\", \"jake\", \"jake\", \"jason\", \"jason\", \"jason\", \"jason\", \"jason\", \"jet\", \"jet\", \"jet\", \"jet\", \"jet\", \"jet\", \"jew\", \"jew\", \"jew\", \"jew\", \"jew\", \"jew\", \"jle\", \"jmd\", \"jmd\", \"jmd\", \"jmd\", \"jonas\", \"jpl\", \"jpl\", \"jpl\", \"jpl\", \"jpl\", \"jpl\", \"jrm\", \"jrm\", \"jrm\", \"jrm\", \"jrm\", \"jupiter\", \"jupiter\", \"jupiter\", \"jupiter\", \"jupiter\", \"jupiter\", \"k\", \"k\", \"k\", \"k\", \"k\", \"k\", \"kaan\", \"karina\", \"karina\", \"keefe\", \"kelvin\", \"kelvin\", \"kelvin\", \"kelvin\", \"kelvin\", \"kelvin\", \"kill\", \"kill\", \"kill\", \"kill\", \"kill\", \"kill\", \"kipling\", \"kipling\", \"know\", \"know\", \"know\", \"know\", \"know\", \"know\", \"koresh\", \"koresh\", \"koresh\", \"koresh\", \"koresh\", \"koresh\", \"kpc\", \"kpc\", \"kratz\", \"kratz\", \"kratz\", \"kratz\", \"l\", \"l\", \"l\", \"l\", \"l\", \"l\", \"larc\", \"larc\", \"larc\", \"larc\", \"larson\", \"larson\", \"larson\", \"launch\", \"launch\", \"launch\", \"launch\", \"launch\", \"launch\", \"law\", \"law\", \"law\", \"law\", \"law\", \"law\", \"lcd\", \"leave\", \"leave\", \"leave\", \"leave\", \"leave\", \"leave\", \"licence\", \"licence\", \"license\", \"license\", \"license\", \"license\", \"license\", \"license\", \"lick\", \"lick\", \"liguori\", \"like\", \"like\", \"like\", \"like\", \"like\", \"like\", \"line\", \"line\", \"line\", \"line\", \"line\", \"line\", \"linknet\", \"linknet\", \"linknet\", \"live\", \"live\", \"live\", \"live\", \"live\", \"live\", \"livni\", \"livni\", \"livni\", \"livni\", \"livni\", \"livni\", \"ltm\", \"lyuda\", \"m\", \"m\", \"m\", \"m\", \"m\", \"m\", \"magpie\", \"magpie\", \"mamedov\", \"mamma\", \"mamma\", \"mamma\", \"mamma\", \"mamma\", \"manditory\", \"mane\", \"mane\", \"mane\", \"marina\", \"marriage\", \"massacre\", \"massacre\", \"massacre\", \"massacre\", \"massacre\", \"massacre\", \"mc\", \"mc\", \"mc\", \"mc\", \"mccall\", \"mccall\", \"mccall\", \"mccall\", \"melkonian\", \"melkonian\", \"melkonian\", \"mellon\", \"mellon\", \"mellon\", \"mellon\", \"mhz\", \"mhz\", \"mhz\", \"mhz\", \"mhz\", \"microdistrict\", \"militia\", \"militia\", \"militia\", \"militia\", \"militia\", \"militia\", \"miller\", \"miller\", \"miller\", \"miller\", \"miller\", \"misfire\", \"misisipi\", \"mission\", \"mission\", \"mission\", \"mission\", \"mission\", \"mission\", \"moon\", \"moon\", \"moon\", \"moon\", \"moon\", \"moon\", \"moonbase\", \"moonbase\", \"moonbase\", \"mountain\", \"mountain\", \"mountain\", \"mountain\", \"mountain\", \"mountain\", \"msb\", \"msb\", \"muslim\", \"muslim\", \"muslim\", \"muslim\", \"muslim\", \"muslim\", \"muslimzade\", \"mv\", \"n\", \"n\", \"n\", \"n\", \"n\", \"n\", \"nanaimo\", \"nasa\", \"nasa\", \"nasa\", \"nasa\", \"nasa\", \"nasa\", \"nazi\", \"nazi\", \"nazi\", \"nazi\", \"nazi\", \"nazi\", \"negev\", \"neighbor\", \"neighbor\", \"neighbor\", \"neighbor\", \"neighbor\", \"neighbor\", \"neutral\", \"neutral\", \"neutral\", \"neutral\", \"neutral\", \"neutral\", \"new\", \"new\", \"new\", \"new\", \"new\", \"new\", \"newshost\", \"nick\", \"nick\", \"nick\", \"nick\", \"nick\", \"nickh\", \"ninjas\", \"nntp\", \"nntp\", \"nntp\", \"nntp\", \"nntp\", \"nntp\", \"nra\", \"nra\", \"nra\", \"nra\", \"nra\", \"nra\", \"nsmca\", \"nsmca\", \"nsmca\", \"nsmca\", \"nuclear\", \"nuclear\", \"nuclear\", \"nuclear\", \"nuclear\", \"nuclear\", \"o\", \"o\", \"o\", \"o\", \"o\", \"o\", \"odometer\", \"odometer\", \"ohanus\", \"ohanus\", \"ohanus\", \"ohm\", \"ohm\", \"ohm\", \"ohm\", \"onur\", \"onur\", \"orbeli\", \"orbit\", \"orbit\", \"orbit\", \"orbit\", \"orbit\", \"orbit\", \"ordnance\", \"organization\", \"organization\", \"organization\", \"organization\", \"organization\", \"organization\", \"osmanli\", \"ottoman\", \"ottoman\", \"ottoman\", \"ottoman\", \"ottoman\", \"outlet\", \"outlet\", \"outlet\", \"outlet\", \"outlet\", \"outlet\", \"output\", \"output\", \"output\", \"output\", \"output\", \"output\", \"p\", \"p\", \"p\", \"p\", \"p\", \"p\", \"palestinian\", \"palestinian\", \"palestinian\", \"palestinian\", \"palestinian\", \"palestinian\", \"palmer\", \"palmer\", \"palmer\", \"pat\", \"pat\", \"pat\", \"pat\", \"pat\", \"pat\", \"payne\", \"pc\", \"pc\", \"pc\", \"pc\", \"pc\", \"pc\", \"pcb\", \"people\", \"people\", \"people\", \"people\", \"people\", \"people\", \"physicist\", \"physicist\", \"plant\", \"plant\", \"plant\", \"plant\", \"plant\", \"plant\", \"pogrom\", \"policy\", \"policy\", \"policy\", \"policy\", \"policy\", \"policy\", \"post\", \"post\", \"post\", \"post\", \"post\", \"post\", \"printer\", \"printer\", \"printer\", \"printer\", \"proceed\", \"proceed\", \"proceed\", \"proceed\", \"proceed\", \"proceed\", \"project\", \"project\", \"project\", \"project\", \"project\", \"project\", \"prong\", \"prong\", \"propulsion\", \"propulsion\", \"propulsion\", \"propulsion\", \"propulsion\", \"propulsion\", \"proton\", \"proton\", \"proton\", \"proton\", \"proton\", \"provable\", \"pub\", \"pub\", \"pub\", \"pub\", \"pursuant\", \"q\", \"q\", \"q\", \"q\", \"q\", \"q\", \"r\", \"r\", \"r\", \"r\", \"r\", \"r\", \"rc\", \"rc\", \"rc\", \"receptacle\", \"reimer\", \"relativity\", \"relay\", \"relay\", \"relay\", \"relay\", \"relay\", \"reno\", \"reno\", \"reno\", \"reno\", \"reno\", \"repeater\", \"rethink\", \"rethink\", \"rethink\", \"rethink\", \"rethink\", \"revolver\", \"revolver\", \"revolver\", \"revolver\", \"revolver\", \"revolver\", \"right\", \"right\", \"right\", \"right\", \"right\", \"right\", \"rkba\", \"rkba\", \"rkba\", \"rkba\", \"rkba\", \"road\", \"road\", \"road\", \"road\", \"road\", \"road\", \"roby\", \"roby\", \"roby\", \"roby\", \"roby\", \"ron\", \"ron\", \"ron\", \"ron\", \"ron\", \"ron\", \"rs\", \"rs\", \"rs\", \"rs\", \"rs\", \"russian\", \"russian\", \"russian\", \"russian\", \"russian\", \"russian\", \"s\", \"s\", \"s\", \"s\", \"s\", \"s\", \"sabri\", \"sahak\", \"sahak\", \"sahak\", \"satellite\", \"satellite\", \"satellite\", \"satellite\", \"satellite\", \"satellite\", \"say\", \"say\", \"say\", \"say\", \"say\", \"say\", \"schiewer\", \"scl\", \"sdpa\", \"sdpa\", \"sdpa\", \"sdpa\", \"sdpa\", \"sdsu\", \"sera\", \"sera\", \"sera\", \"serdar\", \"serdar\", \"serdar\", \"serdar\", \"serdar\", \"serdar\", \"shagen\", \"shai\", \"shai\", \"shai\", \"shai\", \"shirak\", \"shout\", \"shout\", \"shout\", \"shout\", \"shout\", \"shout\", \"sigurdsson\", \"sigurdsson\", \"sky\", \"sky\", \"sky\", \"sky\", \"sky\", \"sky\", \"skybridge\", \"smash\", \"soldier\", \"soldier\", \"soldier\", \"soldier\", \"soldier\", \"soldier\", \"soviet\", \"soviet\", \"soviet\", \"soviet\", \"soviet\", \"soviet\", \"space\", \"space\", \"space\", \"space\", \"space\", \"space\", \"spacecraft\", \"spacecraft\", \"spacecraft\", \"spacecraft\", \"spacecraft\", \"spacecraft\", \"spence\", \"spencer\", \"spencer\", \"spencer\", \"spencer\", \"spencer\", \"spencer\", \"sq\", \"sq\", \"sq\", \"sq\", \"state\", \"state\", \"state\", \"state\", \"state\", \"state\", \"steam\", \"steam\", \"steam\", \"steiner\", \"steinn\", \"stratus\", \"stratus\", \"stratus\", \"stratus\", \"stratus\", \"stratus\", \"subject\", \"subject\", \"subject\", \"subject\", \"subject\", \"subject\", \"subliminal\", \"sumgait\", \"sumgait\", \"sumgait\", \"sumgait\", \"sumgait\", \"symposium\", \"sync\", \"sysmgr\", \"sysmgr\", \"t\", \"t\", \"t\", \"t\", \"t\", \"t\", \"take\", \"take\", \"take\", \"take\", \"take\", \"take\", \"tankut\", \"tartar\", \"tartar\", \"teh\", \"teknikum\", \"tell\", \"tell\", \"tell\", \"tell\", \"tell\", \"tell\", \"telos\", \"thing\", \"thing\", \"thing\", \"thing\", \"thing\", \"thing\", \"think\", \"think\", \"think\", \"think\", \"think\", \"think\", \"time\", \"time\", \"time\", \"time\", \"time\", \"time\", \"timucin\", \"toronto\", \"toronto\", \"toronto\", \"toronto\", \"toronto\", \"toronto\", \"turk\", \"turk\", \"turk\", \"turk\", \"turk\", \"turk\", \"turkey\", \"turkey\", \"turkey\", \"turkey\", \"turkey\", \"turkey\", \"turkish\", \"turkish\", \"turkish\", \"turkish\", \"turkish\", \"turkish\", \"u\", \"u\", \"u\", \"u\", \"u\", \"u\", \"udel\", \"udel\", \"udel\", \"udel\", \"udel\", \"ufl\", \"ufl\", \"ufl\", \"ufl\", \"ufl\", \"uic\", \"uic\", \"uic\", \"uic\", \"uicvm\", \"uicvm\", \"uicvm\", \"uicvm\", \"uicvm\", \"uky\", \"uky\", \"umd\", \"umd\", \"umd\", \"umd\", \"umd\", \"umd\", \"unb\", \"unified\", \"university\", \"university\", \"university\", \"university\", \"university\", \"university\", \"unlawful\", \"unocal\", \"use\", \"use\", \"use\", \"use\", \"use\", \"use\", \"utoledo\", \"utrecht\", \"utzoo\", \"utzoo\", \"utzoo\", \"utzoo\", \"v\", \"v\", \"v\", \"v\", \"v\", \"v\", \"valery\", \"vandalize\", \"vandalize\", \"vandalize\", \"vay\", \"vojak\", \"vojak\", \"vote\", \"vote\", \"vote\", \"vote\", \"vote\", \"vote\", \"vxcrna\", \"w\", \"w\", \"w\", \"w\", \"w\", \"w\", \"waco\", \"waco\", \"waco\", \"waco\", \"waco\", \"waco\", \"want\", \"want\", \"want\", \"want\", \"want\", \"want\", \"war\", \"war\", \"war\", \"war\", \"war\", \"war\", \"weapon\", \"weapon\", \"weapon\", \"weapon\", \"weapon\", \"weapon\", \"winged\", \"wingert\", \"wire\", \"wire\", \"wire\", \"wire\", \"wire\", \"wire\", \"wiring\", \"wiring\", \"wiring\", \"wiring\", \"wiring\", \"wiring\", \"work\", \"work\", \"work\", \"work\", \"work\", \"work\", \"world\", \"world\", \"world\", \"world\", \"world\", \"world\", \"write\", \"write\", \"write\", \"write\", \"write\", \"write\", \"x\", \"x\", \"x\", \"x\", \"x\", \"x\", \"xc\", \"xc\", \"xc\", \"xc\", \"y\", \"y\", \"y\", \"y\", \"y\", \"y\", \"yalanci\", \"yalcin\", \"yalcin\", \"year\", \"year\", \"year\", \"year\", \"year\", \"year\", \"z\", \"z\", \"z\", \"z\", \"z\", \"z\", \"zoo\", \"zoo\", \"zoo\", \"zoo\", \"zoology\", \"zoology\", \"zoology\", \"zuma\", \"zuma\", \"zuma\", \"zuma\"]}, \"R\": 30, \"lambda.step\": 0.01, \"plot.opts\": {\"xlab\": \"PC1\", \"ylab\": \"PC2\"}, \"topic.order\": [4, 1, 6, 3, 5, 2]};\n",
       "\n",
       "function LDAvis_load_lib(url, callback){\n",
       "  var s = document.createElement('script');\n",
       "  s.src = url;\n",
       "  s.async = true;\n",
       "  s.onreadystatechange = s.onload = callback;\n",
       "  s.onerror = function(){console.warn(\"failed to load library \" + url);};\n",
       "  document.getElementsByTagName(\"head\")[0].appendChild(s);\n",
       "}\n",
       "\n",
       "if(typeof(LDAvis) !== \"undefined\"){\n",
       "   // already loaded: just create the visualization\n",
       "   !function(LDAvis){\n",
       "       new LDAvis(\"#\" + \"ldavis_el77601405401168073767579544029\", ldavis_el77601405401168073767579544029_data);\n",
       "   }(LDAvis);\n",
       "}else if(typeof define === \"function\" && define.amd){\n",
       "   // require.js is available: use it to load d3/LDAvis\n",
       "   require.config({paths: {d3: \"https://d3js.org/d3.v5\"}});\n",
       "   require([\"d3\"], function(d3){\n",
       "      window.d3 = d3;\n",
       "      LDAvis_load_lib(\"https://cdn.jsdelivr.net/gh/bmabey/pyLDAvis@3.3.1/pyLDAvis/js/ldavis.v3.0.0.js\", function(){\n",
       "        new LDAvis(\"#\" + \"ldavis_el77601405401168073767579544029\", ldavis_el77601405401168073767579544029_data);\n",
       "      });\n",
       "    });\n",
       "}else{\n",
       "    // require.js not available: dynamically load d3 & LDAvis\n",
       "    LDAvis_load_lib(\"https://d3js.org/d3.v5.js\", function(){\n",
       "         LDAvis_load_lib(\"https://cdn.jsdelivr.net/gh/bmabey/pyLDAvis@3.3.1/pyLDAvis/js/ldavis.v3.0.0.js\", function(){\n",
       "                 new LDAvis(\"#\" + \"ldavis_el77601405401168073767579544029\", ldavis_el77601405401168073767579544029_data);\n",
       "            })\n",
       "         });\n",
       "}\n",
       "</script>"
      ],
      "text/plain": [
       "PreparedData(topic_coordinates=              x         y  topics  cluster       Freq\n",
       "topic                                                \n",
       "3     -0.132914  0.008793       1        1  20.588788\n",
       "0      0.104228 -0.022448       2        1  19.896617\n",
       "5      0.027189 -0.125747       3        1  18.084580\n",
       "2     -0.069952 -0.015938       4        1  17.537922\n",
       "4      0.101582  0.079667       5        1  13.727342\n",
       "1     -0.030133  0.075673       6        1  10.164751, topic_info=          Term         Freq        Total Category  logprob  loglift\n",
       "957   armenian  1236.000000  1236.000000  Default  30.0000  30.0000\n",
       "507        gun  1554.000000  1554.000000  Default  29.0000  29.0000\n",
       "1006   turkish   675.000000   675.000000  Default  28.0000  28.0000\n",
       "650      space  1352.000000  1352.000000  Default  27.0000  27.0000\n",
       "1456    israel   867.000000   867.000000  Default  26.0000  26.0000\n",
       "...        ...          ...          ...      ...      ...      ...\n",
       "170       know   116.448225  1439.241488   Topic6  -5.9246  -0.2282\n",
       "124       year   109.615079   991.148660   Topic6  -5.9850   0.0844\n",
       "309        com   107.418158  1628.185574   Topic6  -6.0053  -0.4322\n",
       "51        like   104.480330  1368.653019   Topic6  -6.0330  -0.2863\n",
       "103       time   101.696121  1251.184402   Topic6  -6.0600  -0.2236\n",
       "\n",
       "[537 rows x 6 columns], token_table=      Topic      Freq     Term\n",
       "term                          \n",
       "1146      1  0.052274     acad\n",
       "1146      2  0.017425     acad\n",
       "1146      4  0.923501     acad\n",
       "1146      5  0.017425     acad\n",
       "1512      1  0.598828   access\n",
       "...     ...       ...      ...\n",
       "1046      5  0.012699  zoology\n",
       "1009      2  0.051025     zuma\n",
       "1009      4  0.012756     zuma\n",
       "1009      5  0.918455     zuma\n",
       "1009      6  0.012756     zuma\n",
       "\n",
       "[1628 rows x 3 columns], R=30, lambda_step=0.01, plot_opts={'xlab': 'PC1', 'ylab': 'PC2'}, topic_order=[4, 1, 6, 3, 5, 2])"
      ]
     },
     "execution_count": 25,
     "metadata": {},
     "output_type": "execute_result"
    }
   ],
   "source": [
    "pyLDAvis.enable_notebook()\n",
    "vis = pyLDAvis.gensim_models.prepare(lda_multicore_6_topics, corpus, id2word)\n",
    "vis"
   ]
  },
  {
   "cell_type": "markdown",
   "metadata": {},
   "source": [
    "## What is topic coherence?\n",
    "Topic Coherence measures score a single topic by **measuring the degree of semantic similarity between high scoring words in the topic**. These measurements help distinguish between topics that are semantically interpretable topics and topics that are artifacts of statistical inference.\n",
    "\n",
    "\n",
    "A set of statements or facts is said to be coherent, if they support each other. Thus, a coherent fact set can be interpreted in a context that covers all or most of the facts. An example of a coherent fact set is **“the game is a team sport”**, **“the game is played with a ball”**, **“the game demands great physical efforts”**\n"
   ]
  },
  {
   "cell_type": "code",
   "execution_count": 26,
   "metadata": {
    "colab": {},
    "colab_type": "code",
    "id": "rjtXk8J3LaXC"
   },
   "outputs": [],
   "source": [
    "def compute_coherence_values(dictionary, corpus, texts, limit, start=2, step=3):\n",
    "    \"\"\"\n",
    "    Compute c_v coherence for various number of topics\n",
    "\n",
    "    Parameters:\n",
    "    ----------\n",
    "    dictionary : Gensim dictionary\n",
    "    corpus : Gensim corpus\n",
    "    texts : List of input texts\n",
    "    limit : Max num of topics\n",
    "\n",
    "    Returns:\n",
    "    -------\n",
    "    model_list : List of LDA topic models\n",
    "    coherence_values : Coherence values corresponding to the LDA model with respective number of topics\n",
    "    \"\"\"\n",
    "    coherence_values = []\n",
    "    model_list = []\n",
    "    for num_topics in range(start, limit, step):\n",
    "        model = gensim.models.ldamulticore.LdaMulticore(corpus=corpus,\n",
    "                                                        id2word=id2word,\n",
    "                                                        num_topics=num_topics, \n",
    "                                                        chunksize=100,\n",
    "                                                        passes=10,\n",
    "                                                        random_state=1234,\n",
    "                                                        per_word_topics=True,\n",
    "                                                        workers=10)\n",
    "        model_list.append(model)\n",
    "        coherencemodel = CoherenceModel(model=model, texts=texts, dictionary=dictionary, coherence='c_v')\n",
    "        coherence_values.append(coherencemodel.get_coherence())\n",
    "\n",
    "    return model_list, coherence_values"
   ]
  },
  {
   "cell_type": "code",
   "execution_count": 27,
   "metadata": {},
   "outputs": [
    {
     "name": "stdout",
     "output_type": "stream",
     "text": [
      "CPU times: user 47.8 s, sys: 7.71 s, total: 55.5 s\n",
      "Wall time: 1min 4s\n"
     ]
    }
   ],
   "source": [
    "%%time\n",
    "model_list, coherence_values = compute_coherence_values(dictionary=id2word, corpus=corpus, texts=df['lemmas'], start=2, limit=10, step=1)"
   ]
  },
  {
   "cell_type": "code",
   "execution_count": 28,
   "metadata": {},
   "outputs": [
    {
     "data": {
      "image/png": "[encoded data removed]",
      "text/plain": [
       "<Figure size 1440x360 with 1 Axes>"
      ]
     },
     "metadata": {
      "needs_background": "light"
     },
     "output_type": "display_data"
    }
   ],
   "source": [
    "start=2; limit=10;  step=1;\n",
    "x = range(start, limit, step)\n",
    "\n",
    "plt.figure(figsize=(20,5))\n",
    "plt.grid()\n",
    "plt.title(\"Coherence Score vs. Number of Topics\")\n",
    "plt.xticks(x)\n",
    "plt.plot(x, coherence_values, \"-o\")\n",
    "\n",
    "plt.xlabel(\"Num Topics\")\n",
    "plt.ylabel(\"Coherence score\")\n",
    "\n",
    "plt.show();"
   ]
  },
  {
   "cell_type": "markdown",
   "metadata": {},
   "source": [
    "### Index for Model \n",
    "\n",
    "Due to the probabilistic nature of this model, the modeling results can and usually do vary. Despite this, we will select 8 as the number of topics even if this particular model run doesn't show 8 as having the highest coherence score. Also, even if it doesn't, we  need to ask ourselves how many topics we actually want for our corpus. "
   ]
  },
  {
   "cell_type": "code",
   "execution_count": 29,
   "metadata": {},
   "outputs": [],
   "source": [
    "lda_trained_model = model_list[-2]"
   ]
  },
  {
   "cell_type": "code",
   "execution_count": 30,
   "metadata": {},
   "outputs": [
    {
     "data": {
      "text/plain": [
       "<gensim.models.ldamulticore.LdaMulticore at 0x7fd20bcd20d0>"
      ]
     },
     "execution_count": 30,
     "metadata": {},
     "output_type": "execute_result"
    }
   ],
   "source": [
    "lda_trained_model"
   ]
  },
  {
   "cell_type": "code",
   "execution_count": 31,
   "metadata": {},
   "outputs": [
    {
     "data": {
      "text/html": [
       "\n",
       "<link rel=\"stylesheet\" type=\"text/css\" href=\"https://cdn.jsdelivr.net/gh/bmabey/pyLDAvis@3.3.1/pyLDAvis/js/ldavis.v1.0.0.css\">\n",
       "\n",
       "\n",
       "<div id=\"ldavis_el77601405370328633124205715808\"></div>\n",
       "<script type=\"text/javascript\">\n",
       "\n",
       "var ldavis_el77601405370328633124205715808_data = {\"mdsDat\": {\"x\": [-0.09642235918003757, 0.04179982811990934, 0.02100808750605117, -0.08864794627376099, -0.04130615214970016, 0.19753044792058064, 0.0031006103711042465, -0.03706251631414673], \"y\": [0.04724387957114559, -0.0674586685120832, -0.057514555848238155, 0.11998227732388912, -0.03794809722358119, 0.08660637025156931, -0.07033074584821061, -0.020580459714491205], \"topics\": [1, 2, 3, 4, 5, 6, 7, 8], \"cluster\": [1, 1, 1, 1, 1, 1, 1, 1], \"Freq\": [24.62357946320327, 20.185726977546416, 17.7970422211079, 9.558139417824908, 7.652347168712936, 7.5751881388974525, 6.911102678609909, 5.6968739340972]}, \"tinfo\": {\"Term\": [\"armenian\", \"m\", \"gun\", \"c\", \"turkish\", \"v\", \"space\", \"edu\", \"firearm\", \"israel\", \"wire\", \"launch\", \"law\", \"ground\", \"k\", \"e\", \"n\", \"weapon\", \"d\", \"y\", \"s\", \"w\", \"israeli\", \"q\", \"u\", \"nasa\", \"g\", \"people\", \"line\", \"subject\", \"sumgait\", \"baku\", \"nagorno\", \"mamma\", \"azerbaijanis\", \"karina\", \"farid\", \"lyuda\", \"balcony\", \"igor\", \"marina\", \"microdistrict\", \"agdam\", \"azerbaijani\", \"shagen\", \"hojali\", \"teknikum\", \"azerbadjan\", \"courtyard\", \"entryway\", \"azerbaijan\", \"kaan\", \"frej\", \"idf\", \"ambulance\", \"kelbajar\", \"hilmi\", \"apartment\", \"papa\", \"flax\", \"crowd\", \"dorin\", \"shout\", \"zionist\", \"mob\", \"hernlem\", \"gazan\", \"karabakh\", \"israeli\", \"neighbor\", \"militia\", \"karabagh\", \"town\", \"arab\", \"beat\", \"say\", \"woman\", \"soldier\", \"kill\", \"mother\", \"armenian\", \"jew\", \"people\", \"didn\", \"israel\", \"tell\", \"attack\", \"right\", \"t\", \"human\", \"go\", \"come\", \"leave\", \"civilian\", \"s\", \"know\", \"think\", \"government\", \"state\", \"don\", \"live\", \"child\", \"happen\", \"take\", \"time\", \"like\", \"turkish\", \"year\", \"write\", \"want\", \"way\", \"subject\", \"line\", \"edu\", \"organization\", \"gun\", \"mane\", \"hst\", \"magpie\", \"linknet\", \"fpu\", \"assailant\", \"td\", \"sdsu\", \"lick\", \"acronym\", \"steinn\", \"jle\", \"sigurdsson\", \"arbor\", \"ann\", \"foxvog\", \"baden\", \"dnd\", \"pub\", \"steinly\", \"topaz\", \"prb\", \"payne\", \"astronomical\", \"repeater\", \"sweep\", \"schiewer\", \"dre\", \"gypsy\", \"leech\", \"vancouver\", \"telescope\", \"vlbi\", \"babb\", \"ucsc\", \"directory\", \"hr\", \"centaur\", \"homicide\", \"ftp\", \"anonymous\", \"bony\", \"astronaut\", \"file\", \"digex\", \"jake\", \"shuttle\", \"mission\", \"proton\", \"planetary\", \"space\", \"pat\", \"faq\", \"nasa\", \"solar\", \"astronomy\", \"available\", \"sci\", \"access\", \"handgun\", \"image\", \"star\", \"datum\", \"com\", \"system\", \"rocket\", \"post\", \"line\", \"organization\", \"edu\", \"subject\", \"program\", \"s\", \"nntp\", \"host\", \"gun\", \"write\", \"article\", \"science\", \"control\", \"d\", \"t\", \"university\", \"x\", \"use\", \"m\", \"know\", \"center\", \"like\", \"year\", \"c\", \"apr\", \"don\", \"glock\", \"kratz\", \"adl\", \"greig\", \"sysmgr\", \"anwar\", \"zoology\", \"kipling\", \"relativity\", \"scl\", \"skybridge\", \"cranston\", \"misfire\", \"dong\", \"brent\", \"ltm\", \"mohammed\", \"diaspar\", \"dct\", \"dundee\", \"wingert\", \"werner\", \"nickh\", \"haine\", \"lcd\", \"cadlab\", \"flyback\", \"uxh\", \"switchover\", \"fox\", \"zoo\", \"uicvm\", \"uic\", \"henry\", \"revolver\", \"spencer\", \"acad\", \"toronto\", \"alaska\", \"cop\", \"yigal\", \"utzoo\", \"jason\", \"mpce\", \"umd\", \"stove\", \"auto\", \"nsmca\", \"billion\", \"fred\", \"aurora\", \"andy\", \"mccall\", \"eng\", \"edu\", \"cost\", \"semi\", \"s\", \"like\", \"t\", \"article\", \"organization\", \"line\", \"write\", \"subject\", \"don\", \"thing\", \"apr\", \"work\", \"post\", \"u\", \"host\", \"com\", \"university\", \"time\", \"gun\", \"use\", \"space\", \"know\", \"nntp\", \"think\", \"good\", \"d\", \"m\", \"year\", \"people\", \"yalanci\", \"hovig\", \"vay\", \"onur\", \"yalcin\", \"naftaly\", \"shirak\", \"garfiel\", \"cunixb\", \"belton\", \"anania\", \"tartar\", \"stramer\", \"nstramer\", \"shakala\", \"dir\", \"gunduz\", \"ozonehole\", \"koc\", \"orbeli\", \"heghinian\", \"anneser\", \"salonica\", \"honorary\", \"aiu\", \"kamsarakan\", \"alaa\", \"pkk\", \"terzioglu\", \"fadeley\", \"yassin\", \"ottoman\", \"esin\", \"othman\", \"kk\", \"irgun\", \"persian\", \"istanbul\", \"mutlu\", \"ahmed\", \"asala\", \"forge\", \"serdar\", \"sdpa\", \"argic\", \"turk\", \"genocide\", \"turkish\", \"professor\", \"armenian\", \"empire\", \"massacre\", \"page\", \"urartu\", \"muslim\", \"cyprus\", \"armenia\", \"columbia\", \"russian\", \"history\", \"jews\", \"greek\", \"book\", \"road\", \"adam\", \"turkey\", \"edu\", \"war\", \"article\", \"write\", \"subject\", \"s\", \"university\", \"line\", \"world\", \"organization\", \"apr\", \"time\", \"post\", \"people\", \"com\", \"state\", \"t\", \"een\", \"enzo\", \"tankut\", \"utrecht\", \"egalon\", \"pacastro\", \"atan\", \"backer\", \"liguori\", \"chopin\", \"claudio\", \"oliveira\", \"het\", \"fredom\", \"rimsat\", \"roby\", \"sabri\", \"brainwashing\", \"iridium\", \"korean\", \"basil\", \"tamamidis\", \"sternberg\", \"lawson\", \"hizbollah\", \"ntsb\", \"ither\", \"ilhan\", \"panos\", \"schwarzenegger\", \"pegasus\", \"udel\", \"marketing\", \"canon\", \"vandalize\", \"sensing\", \"idbsu\", \"keithley\", \"venture\", \"feustel\", \"documentary\", \"fbi\", \"launch\", \"koresh\", \"sky\", \"satellite\", \"advertising\", \"oz\", \"cult\", \"baalke\", \"compound\", \"greek\", \"command\", \"zone\", \"commercial\", \"lebanese\", \"gov\", \"batf\", \"market\", \"nasa\", \"edu\", \"de\", \"april\", \"jpl\", \"fire\", \"israel\", \"space\", \"write\", \"s\", \"t\", \"article\", \"news\", \"line\", \"organization\", \"think\", \"subject\", \"people\", \"start\", \"com\", \"c\", \"come\", \"like\", \"post\", \"university\", \"m\", \"host\", \"nntp\", \"wiring\", \"breaker\", \"gfci\", \"grounding\", \"prong\", \"receptacle\", \"cosmo\", \"angmar\", \"nec\", \"gfcis\", \"nm\", \"outlet\", \"bx\", \"nanaimo\", \"wagner\", \"appliance\", \"vdc\", \"flea\", \"joist\", \"sheath\", \"mn\", \"cz\", \"ul\", \"deskjet\", \"conductor\", \"billq\", \"fujitsu\", \"fluorescent\", \"fuse\", \"bj\", \"wire\", \"uv\", \"insulation\", \"bulb\", \"bm\", \"fixture\", \"connect\", \"csa\", \"y\", \"q\", \"printer\", \"neutral\", \"z\", \"ground\", \"cable\", \"circuit\", \"v\", \"voltage\", \"k\", \"c\", \"f\", \"n\", \"g\", \"m\", \"audio\", \"j\", \"e\", \"h\", \"w\", \"l\", \"r\", \"b\", \"u\", \"d\", \"x\", \"o\", \"p\", \"t\", \"s\", \"subject\", \"line\", \"ordnance\", \"casper\", \"ksu\", \"vxcrna\", \"reimer\", \"pursuant\", \"manditory\", \"keefe\", \"geode\", \"ppe\", \"davi\", \"ulan\", \"npl\", \"agee\", \"theodore\", \"questionnaire\", \"kkk\", \"pitargue\", \"blakey\", \"passe\", \"uinpla\", \"sola\", \"biberdorf\", \"lawfully\", \"carbine\", \"osf\", \"sylvain\", \"thine\", \"polonius\", \"louie\", \"titty\", \"boi\", \"license\", \"deaf\", \"detector\", \"heartless\", \"somalia\", \"riddance\", \"ifas\", \"gnv\", \"possess\", \"firearm\", \"ham\", \"amendment\", \"crary\", \"radar\", \"vote\", \"ufl\", \"ulowell\", \"shall\", \"law\", \"section\", \"gun\", \"jrm\", \"weapon\", \"dangerous\", \"enforcement\", \"rkba\", \"federal\", \"handheld\", \"ucsu\", \"clinton\", \"criminal\", \"public\", \"car\", \"owner\", \"illegal\", \"carry\", \"com\", \"s\", \"edu\", \"state\", \"right\", \"organization\", \"t\", \"subject\", \"line\", \"write\", \"people\", \"want\", \"article\", \"post\", \"m\", \"c\", \"government\", \"d\", \"know\", \"don\", \"awesley\", \"oldham\", \"isga\", \"detroit\", \"foke\", \"perijove\", \"caltran\", \"gehrel\", \"knx\", \"pimentel\", \"degan\", \"gca\", \"macedonia\", \"macedonian\", \"msb\", \"opt\", \"jeruseleum\", \"hay\", \"cooper\", \"softquad\", \"brader\", \"leandro\", \"jerusaleum\", \"duteinh\", \"dnewman\", \"radii\", \"frode\", \"gentleman\", \"theref\", \"dublin\", \"fran\", \"rostamian\", \"sy\", \"sq\", \"sniper\", \"trader\", \"venera\", \"cathy\", \"comet\", \"arcade\", \"pisga\", \"convex\", \"interim\", \"avi\", \"jupiter\", \"weaver\", \"biased\", \"mariner\", \"blast\", \"probe\", \"thrace\", \"palestinian\", \"batf\", \"greek\", \"temporary\", \"newspaper\", \"fire\", \"neil\", \"ad\", \"israel\", \"claim\", \"s\", \"gun\", \"line\", \"subject\", \"post\", \"organization\", \"edu\", \"read\", \"orbit\", \"tank\", \"com\", \"israeli\", \"write\", \"host\", \"law\", \"nntp\", \"american\", \"right\", \"people\", \"t\", \"university\", \"article\", \"time\", \"know\", \"need\", \"control\", \"state\", \"good\"], \"Freq\": [1257.0, 1606.0, 1487.0, 1161.0, 685.0, 506.0, 1376.0, 3304.0, 460.0, 865.0, 278.0, 453.0, 610.0, 371.0, 475.0, 617.0, 472.0, 563.0, 1312.0, 283.0, 4633.0, 508.0, 766.0, 247.0, 722.0, 701.0, 412.0, 1841.0, 2558.0, 2422.0, 104.93350160751939, 82.29900412969154, 54.09273078949545, 78.48649718408265, 57.431539268055694, 54.707869833409156, 26.404618322226376, 46.462163704727786, 35.82166128639986, 34.82610698412304, 42.378680571207, 33.166236546158636, 32.6718641046718, 118.33662567321487, 22.73281480389627, 27.888669369496167, 22.282694373510047, 18.78031240175707, 23.215916535354747, 24.14665081734579, 163.47579630090246, 19.575925628856996, 20.398065490964417, 34.16386408164684, 20.55411852264892, 17.8355907063666, 20.38520223068405, 136.86491738152526, 20.517128970701343, 17.58586899819208, 68.60420840144971, 32.029042022337144, 85.23502178848884, 64.68571777407523, 28.99376717174894, 76.11681312367493, 51.844504409251726, 80.10885285101925, 568.2799190138604, 130.9803136634848, 173.9641203300587, 53.45706827251742, 109.18697757854666, 353.0157031013947, 95.7859052458663, 833.4282022967261, 205.68453932082195, 191.20966118582587, 443.6185376046448, 81.19090858578794, 734.7363059518765, 253.15601438198027, 992.3657125981205, 288.9190968479248, 501.0919776837666, 370.60079962824955, 242.07535380277886, 583.6459495695216, 1513.2638185121655, 212.34149151787406, 511.66093359183407, 433.2839952650104, 250.67857748079993, 147.76604517899122, 1374.8274210709826, 553.9557756834296, 480.0597239749967, 344.5433726182419, 431.68246407388585, 471.31093782534066, 246.05623185680446, 233.60675821086312, 235.5750213211557, 257.06275975928025, 376.1844620276963, 379.9857458708543, 281.06363771021336, 312.13473848791295, 400.6474590542605, 291.78641216528194, 287.47032762272767, 377.992149386447, 363.3617695462278, 348.3110670119189, 296.54505674777823, 286.93122555863744, 56.14555584508304, 37.974628648051805, 41.329366028303006, 41.260164205550545, 28.0228304419004, 20.634772940927938, 14.838489552743038, 29.213072082083205, 19.51931403748867, 28.09365630684742, 19.37327487577443, 13.690777674898749, 19.35887503498265, 14.81873163165664, 15.68564535511375, 14.025789882793228, 15.734868940978226, 12.256129014961324, 51.41642554715498, 22.58024204158463, 22.570495270522382, 41.673245003000815, 11.16585157816983, 45.17428214708585, 11.247155662640372, 15.558725828135023, 10.378161528542554, 10.399019769689454, 11.197895567300204, 18.925920493281716, 58.68227953825013, 80.22429028906294, 15.999225241829762, 29.920696222044864, 33.85793599221995, 46.779651633252534, 43.778497194548514, 49.430793505342535, 113.77912713198528, 83.18928272156805, 48.529311603142574, 67.67718704757596, 65.16349202093826, 332.5041328092031, 104.74894895124639, 80.26669163876282, 173.931263054214, 187.94981398924077, 44.365096199434504, 77.14946728209769, 812.3614360954225, 144.41803020615265, 88.93738493236684, 390.6683504410726, 106.27804636585081, 72.84221027052442, 142.34879398290107, 133.23997690941715, 182.3348278447088, 155.4716289949923, 109.58342797075657, 86.3163973693033, 166.12240489010364, 544.4349415991547, 265.1960490071856, 151.43260332448364, 460.46818329799476, 617.5318470078943, 535.0949616329602, 678.6257662576968, 544.2827398897333, 161.2510336748807, 775.7239304851036, 298.4972029056327, 296.27309600439185, 351.017387957689, 422.92552469474765, 357.0569918939898, 163.34445176051454, 198.20139275924416, 293.19038695067724, 465.8671542053859, 260.8738306642633, 203.34909790124038, 227.46271526082256, 250.44581796455864, 215.30502964074788, 173.36658987790204, 203.85618178596474, 189.45269508240366, 186.08931125115072, 181.57609547456852, 181.65535880524263, 68.00303444100696, 68.0580978065413, 80.03958778701825, 23.207268346085446, 32.17465842652268, 23.857024495158555, 76.45690824522255, 33.513574640901545, 13.648295616568129, 12.614282466119551, 12.610198888434484, 13.741467563962047, 14.41160608243741, 14.501440351631002, 22.60429075041257, 11.562964891612753, 13.448299097282788, 10.677611062430477, 11.681671686694893, 11.681294297074636, 10.733413667632725, 10.686662863469271, 14.365582308277686, 22.45947081354764, 14.39247464862936, 11.567763289637364, 11.556440491060204, 16.944609694574435, 9.685398252303168, 21.284625846544664, 86.82869385909206, 65.11539558277617, 66.69852284036182, 210.84786498936464, 92.34951329418742, 101.96195547307822, 52.96699727295458, 167.9642921413807, 129.59783329445852, 87.09113504089615, 37.016886925618415, 38.70215801383483, 70.51806542746402, 24.251056997668133, 66.39358758731686, 47.33919454033339, 95.76188800005619, 52.05417613923448, 102.46679622791187, 75.42427256688791, 59.90483481431032, 65.63425747197181, 46.00183672309229, 78.06465018580467, 1179.9557992343816, 181.10045228374952, 85.80095980594285, 1086.7271013213335, 450.7903563186145, 924.8664869040836, 524.4049879379611, 614.1612040783282, 678.8626565262178, 590.3189177578101, 593.7381920339127, 383.6580174499513, 264.711930709302, 295.5625642718734, 276.4920278288987, 368.5015530341362, 236.09610080057487, 283.2131860098148, 363.00672464418176, 297.83127083325024, 304.51502748286003, 326.37329221201105, 261.34632567707774, 310.6469961088763, 314.69929041436313, 261.9454605584408, 279.50940435881785, 220.26823805093443, 252.72504183731647, 251.89183659383679, 226.01519822624311, 249.28886050622637, 31.245943698174, 16.096122574975283, 18.39822566668262, 38.533377661832866, 38.51945220655847, 22.232971757826707, 17.58266134877326, 19.358448996989935, 18.486163486042962, 17.58204137987406, 21.76439211032216, 39.75068182642544, 16.634931584032763, 16.624082128296717, 10.515468952060319, 27.04859448935673, 11.249687389154893, 12.056139356493858, 10.362911297436947, 13.625569164363094, 8.563903429449375, 12.037784700333814, 12.87978353830686, 9.312102165220965, 11.987208352885604, 9.324508100568373, 11.977985123262084, 12.858023822192736, 17.819357128753595, 8.457082788116784, 46.15236860828946, 86.64799791050933, 23.61976349698242, 22.816190808281096, 46.69039669498352, 21.41682323845464, 41.56447476041111, 57.13288576962464, 31.318599284169, 19.5257356819609, 34.51374492246776, 27.2297637086783, 158.1226480703431, 80.17255629010211, 158.26528860707498, 193.83258960088136, 124.80801837876362, 327.9212753371806, 53.34774195940829, 500.77867654495424, 42.40716987114788, 85.88695270379753, 80.77954399435362, 49.76522783040897, 117.45945071265186, 57.88590953257906, 143.6326109644024, 71.59039358432334, 109.30200485475905, 96.76726381505546, 107.35053351973087, 115.26199479438625, 111.65048519687038, 82.20217232037899, 62.384332330319424, 111.15352766525272, 309.2053299166313, 108.0535782514265, 218.08634521666707, 218.96771207973947, 227.03881057694798, 290.08026225050673, 158.84133509426476, 217.42227268377363, 126.57407132301492, 180.01622977678022, 122.55481294948511, 129.27132709185145, 128.64318414116255, 128.11858553462352, 122.3447674864353, 113.80360856985148, 130.2608069929617, 17.232138256663145, 28.621289330355385, 21.01852424023956, 12.687382143846703, 30.89597495390647, 12.480442767863876, 16.60610268838255, 13.311498159893878, 13.131146157312216, 42.08496569684799, 16.425386056783896, 16.41917781823284, 20.830366122210396, 8.935669325302145, 10.542910123988683, 78.00526505564191, 9.66196832799282, 8.848941072726939, 7.177693086402172, 7.168324411528459, 24.639196835382375, 14.944624755208054, 7.930187152216571, 7.093478578633887, 23.033156830683726, 6.2891045808379635, 6.224668810925839, 7.062777674476912, 13.200035269315356, 7.031458237327766, 15.584583042969852, 72.56901676849246, 18.407545665139043, 26.072496229597476, 27.08126626825641, 28.290500177004816, 19.442406723563444, 14.352645728019583, 32.33122730877278, 22.892663934100693, 24.401414808098536, 136.6256908641986, 219.2135599519048, 60.959992488502685, 63.11663758127609, 122.91042429408766, 26.999749728855985, 25.293579923418406, 30.720088224993603, 46.284873439582846, 52.90995741010615, 98.68386150847681, 51.889099251365636, 35.06745308763076, 57.83656123844024, 57.82288478672444, 93.42814085673395, 63.06173323295861, 47.175980939848195, 129.1658928026345, 280.0444928589174, 61.80303386630846, 69.71751094869222, 55.09904494012945, 91.18724927956382, 123.68857697928874, 151.2157998077437, 182.6260353092775, 242.6758603179042, 209.36828631719794, 149.4349593249734, 88.91163585652447, 167.90395738831617, 156.85376621243898, 124.15854751019265, 150.13825424570211, 124.15745553219412, 81.61543595328493, 109.12341553309456, 95.78533190885196, 86.09264501796704, 88.27119457849409, 87.0180925536126, 82.55392613523456, 84.68089309869838, 80.5561409326173, 79.3323695895004, 122.87039618190613, 49.30283056313979, 52.99143948358062, 35.31140677003063, 36.20216558662382, 18.019413051044186, 21.93494766987834, 24.43155744776564, 44.27993353530455, 15.265805133799418, 22.551150184039983, 132.97872005135287, 12.48640801491969, 11.504635323315284, 9.764909746667676, 9.014069136592646, 13.707150121769331, 9.675157315403307, 8.18274274605873, 18.729353591769225, 12.13774779799645, 8.037054969863984, 21.936805346587178, 11.165849328979716, 63.24172538188591, 7.17630150621544, 7.194374168255929, 11.141983002269724, 32.88898500288481, 7.978273581064318, 235.67619854425618, 42.25463882710967, 26.85290391679617, 28.728327769045524, 54.944868749370904, 18.82654050947568, 82.7006300039098, 15.795146615846768, 202.31227949823295, 177.6272899700616, 36.586521354426914, 97.82353954598781, 169.26333775883793, 234.28082821246394, 69.54475631185768, 164.70201764394983, 291.85581945773106, 81.63209738467117, 247.64598628848717, 497.839548461841, 194.7132289790295, 234.28448687178064, 205.84600013479135, 590.480944809549, 70.92022323459858, 193.80566981051203, 253.9737282872736, 173.74415225033184, 210.10938141019966, 164.1065783993711, 184.30795652706678, 192.37808211093514, 212.15948545698419, 289.89831577588353, 195.7045291143039, 168.08056274651418, 172.43185767451166, 326.62460320765763, 345.9061913594507, 192.71436128110562, 172.04703323547378, 25.451703716403934, 15.832229300419874, 14.620898907770242, 12.708485537529747, 11.492161196225156, 10.250954180317294, 10.48989561490061, 11.596970325091261, 18.05859592092859, 9.557393591119867, 9.543227259642746, 7.498971231126363, 8.371674318889742, 7.483888523433083, 8.48751789325619, 9.341448630612108, 14.051334451618695, 11.103895265842402, 6.606725105902613, 10.28375751783128, 7.374500961750391, 6.4706984100301685, 7.363979445552602, 9.051915987541832, 15.34636025132237, 7.394436239265658, 6.395073234347333, 10.034874737505, 10.024427358987918, 10.008969652560836, 9.150039794153628, 12.640289216073413, 80.12581910690993, 20.055323661650412, 97.59494632854968, 14.296722416159163, 24.385465937291148, 12.076828187589243, 44.693949088965276, 44.35642264243089, 38.89201695529987, 212.87787431218152, 35.188381184922726, 96.60530139426615, 32.97351969798022, 79.61551048516128, 60.651215898225125, 44.638228587452765, 28.600810324689807, 64.68767813100635, 204.97914236189885, 65.0311390402614, 368.2304532058162, 26.541287968410487, 179.09138149717091, 62.001018237111396, 36.15282275603063, 52.55914322145535, 74.34581103714802, 43.97804805795993, 26.836478350997854, 60.074031640215956, 78.0869225430557, 93.17670607451348, 71.06277384660174, 43.10276135823057, 40.8666551154357, 81.46293183347082, 167.94726740161187, 268.7466511861032, 228.1386365766671, 131.1626605719307, 129.90502343908602, 169.60168940159198, 213.5472237762323, 173.448559171092, 172.6992237702206, 159.0588836205172, 135.98607876821103, 91.33725711307794, 105.14446566486026, 93.84416588977231, 94.08438576831477, 88.16750919517798, 82.11098481770593, 86.84316883928375, 83.91224080465341, 81.46731112902876, 15.822985699387438, 19.629020973517918, 9.279447884386371, 19.31123586278073, 9.181018081716076, 7.667377132687407, 7.555751348097555, 25.08918999114943, 7.4725832634502165, 6.7593734839485435, 10.461507277391465, 6.6608967811809565, 7.452383533668562, 14.818419724579496, 11.74951612199915, 5.903190889678375, 5.922666865685927, 5.855880061232481, 29.444352922587004, 5.107881068654032, 10.94293393365171, 5.854554778180248, 5.123294856689417, 5.107278828768365, 5.060872959017924, 4.303688653445819, 4.164407089516373, 5.017167753203148, 4.306027262842548, 5.725286029718626, 10.459907699830833, 5.726573295267753, 27.179908213040388, 25.118825167776954, 19.975221858353073, 16.57576494885188, 10.955070399737014, 10.802171108316161, 54.857156427473306, 10.9665595023582, 10.057890014359312, 23.269346834199336, 13.407907825848158, 10.618671635235645, 54.318658037670396, 37.14862053483132, 15.695293789045337, 16.125208505114486, 28.620886699214864, 49.16055122846309, 10.566172661178836, 69.00444855075663, 55.564961326065976, 79.74836263216223, 25.559757143064243, 32.54141648055282, 88.50781137269678, 15.87157562139581, 31.82920013038467, 107.34421501713938, 63.40689635722465, 249.30968391415107, 131.41744941591455, 168.40774374958244, 163.40688586051593, 116.92460306065264, 139.13849020840814, 160.22790062351865, 60.27514662427459, 55.62689787879126, 42.88499133148388, 102.59827763264445, 75.80980047402349, 113.46124974284544, 82.13482718270889, 67.65825089756171, 79.2801802791339, 58.494915573739355, 81.78634524768732, 95.46400537857151, 116.96866072780463, 79.60081208365514, 90.55673165939614, 81.60174077989033, 80.56555561221795, 66.20131785101793, 63.057965318241145, 68.9484299375804, 60.658863323297204], \"Total\": [1257.0, 1606.0, 1487.0, 1161.0, 685.0, 506.0, 1376.0, 3304.0, 460.0, 865.0, 278.0, 453.0, 610.0, 371.0, 475.0, 617.0, 472.0, 563.0, 1312.0, 283.0, 4633.0, 508.0, 766.0, 247.0, 722.0, 701.0, 412.0, 1841.0, 2558.0, 2422.0, 107.28418364687559, 84.62476908004906, 55.65776570288813, 80.8315296153132, 59.22735924763579, 56.567194579162404, 27.35248925848964, 48.15826790682541, 37.14815624003105, 36.13622475734388, 44.00791677616159, 34.48627133084373, 33.997637133278076, 123.55203801683723, 23.745530921449156, 29.186135922856025, 23.406996987889876, 19.736854128279376, 24.422156189666104, 25.426104128353888, 172.16723262827819, 20.644101327055306, 21.51243851974529, 36.0542486713891, 21.715730186160204, 18.850723869025813, 21.56011466617816, 144.9433422429853, 21.73236178678544, 18.66365425488755, 72.88154850903504, 34.012303553157004, 92.26676634423181, 70.81977665567882, 31.036746202306357, 85.75136441787485, 57.5504889882042, 92.17029173011146, 766.3703972746601, 157.23389613363608, 216.2351156299381, 60.49441062195428, 133.88034560136356, 499.6848466412682, 115.75721669245208, 1349.5719171175765, 276.00168538428284, 254.04653787233815, 686.3330727386334, 97.02187269059912, 1257.2715429470466, 365.5280268410352, 1841.4078660242544, 433.27198168663966, 865.2270938475157, 625.2853179861849, 369.5932705082323, 1133.9978372283194, 3900.767040643489, 317.4592830567013, 986.2993049812991, 829.7587322426531, 417.2359244811144, 207.31710907822213, 4633.997101905535, 1441.513621469566, 1207.1289091675037, 737.3872280315733, 1056.219854774875, 1313.067789943141, 450.93309503615137, 431.47141216790527, 440.63998611688646, 529.1822712271703, 1254.1385295243595, 1378.0060015855738, 685.9057980308959, 993.7576626130408, 2155.3392796524267, 854.7093054570627, 817.9838919501369, 2422.7599524454567, 2558.2365039077067, 3304.414891917364, 2210.410736143578, 1487.6486667337908, 58.275803435838625, 39.56091237053381, 43.23528386606662, 43.23630356358169, 29.401672301369807, 21.65134599425364, 15.700222058594399, 31.0455310660977, 20.826316284163898, 30.10563670190165, 20.76395970590887, 14.677226388245948, 20.76317932501349, 15.931660310444196, 16.874847287126414, 15.13333306683367, 17.00065225860134, 13.257863288478672, 55.681976424498224, 24.491551241713076, 24.49073982526692, 45.21881387104831, 12.11961752435995, 49.06118222302987, 12.261835467704623, 16.977169976575126, 11.334163170949077, 11.357643377878574, 12.263848313720223, 20.733011834583017, 64.76258186765448, 89.0547166397332, 17.539936487726546, 33.07760833848176, 37.670170734710744, 52.44471835016372, 49.04365075362693, 55.612043223933604, 133.00937683019987, 96.16840146672791, 54.92663165177958, 77.818015292933, 75.39940906890497, 443.243490823301, 131.35652829295117, 98.53323216855108, 233.3388192395604, 256.84387415807504, 51.812168010903015, 96.52702985736707, 1376.7106307759616, 198.66444838541796, 114.26432597625113, 701.8393640340713, 148.41659161682585, 94.60283335597268, 217.94604169959933, 201.42730899618576, 299.68711635605393, 248.2688555165172, 158.18897329202102, 118.4023859230332, 297.9968211339455, 1619.4524198413037, 618.266363294883, 279.3485925423977, 1482.4751380290002, 2558.2365039077067, 2210.410736143578, 3304.414891917364, 2422.7599524454567, 334.7993217532226, 4633.997101905535, 979.144907867285, 1011.0073691765357, 1487.6486667337908, 2155.3392796524267, 1739.5653155502562, 366.4862176484124, 554.7928052984543, 1312.650616674183, 3900.767040643489, 1132.8571673573203, 647.827397883138, 965.289633015803, 1606.525957128439, 1441.513621469566, 489.5321611909894, 1378.0060015855738, 993.7576626130408, 1161.1346346569105, 968.9036782487459, 1313.067789943141, 70.24166216181405, 70.302443907921, 82.80892086742955, 24.426240401348416, 33.9932526340435, 25.27040846897776, 81.32462816862486, 35.79617243974022, 14.597353766079747, 13.534792679507655, 13.534749600059719, 14.767536486025659, 15.50856433126757, 15.620388719036086, 24.36610789227528, 12.48901697358098, 14.544133659784535, 11.552350229014243, 12.676897654772644, 12.676505250614868, 11.65222082250317, 11.61456261016995, 15.626738075552483, 24.45729507485062, 15.68527406417685, 12.625436801619227, 12.616500404845914, 18.522804813343058, 10.61163400218275, 23.373907022936276, 95.85990243152796, 72.17203433968004, 74.11534564667936, 240.70503906204348, 104.37259853860415, 117.64273277161477, 60.158583427933955, 204.59326864395814, 156.0390133651037, 105.66790555852455, 42.77787695833098, 44.951789159626735, 85.82581989010117, 27.31971704982103, 80.98372590141541, 56.900647689579266, 124.84546156195157, 63.94479010541998, 136.91359149285975, 98.08240964332445, 76.52452395546233, 85.94826618212451, 56.72831251716414, 110.26168685800901, 3304.414891917364, 334.5199776674318, 131.2507847925767, 4633.997101905535, 1378.0060015855738, 3900.767040643489, 1739.5653155502562, 2210.410736143578, 2558.2365039077067, 2155.3392796524267, 2422.7599524454567, 1313.067789943141, 775.1447957698294, 968.9036782487459, 900.8436408390459, 1482.4751380290002, 722.1005886750203, 1011.0073691765357, 1619.4524198413037, 1132.8571673573203, 1254.1385295243595, 1487.6486667337908, 965.289633015803, 1376.7106307759616, 1441.513621469566, 979.144907867285, 1207.1289091675037, 776.6006753665989, 1312.650616674183, 1606.525957128439, 993.7576626130408, 1841.4078660242544, 32.47908895751242, 16.972756564565305, 19.425170446430847, 40.81465016627048, 40.81121779527283, 23.637844843088647, 18.69393806511888, 20.686611409279912, 19.770811019608836, 18.83025450997043, 23.327725705106005, 42.61893146339557, 17.966953171298595, 17.96529819489285, 11.373275044074035, 29.330355030014452, 12.206433449428298, 13.17967222647059, 11.33576176750379, 14.92330394732896, 9.42085645820338, 13.250924943887156, 14.222386363683487, 10.285629523461447, 13.274700984052343, 10.32605883651073, 13.270618788331813, 14.245716360369393, 19.829818280737292, 9.4177119311258, 51.97925990114413, 99.39496503232388, 26.459339411809548, 25.54185512439139, 54.56644084935915, 24.392353936072833, 49.05525518143415, 71.7730810031426, 37.59605520146521, 22.47589014991909, 42.389308735403, 33.23225840521991, 250.35708215618104, 114.83623131164597, 251.2153346006486, 350.4865290043547, 207.07729582118859, 685.9057980308959, 75.32515863725384, 1257.2715429470466, 58.0205716093696, 162.68707960936504, 150.94398380572542, 78.18778369535178, 266.3617909543117, 97.10797173859211, 363.23209385532664, 138.16556935842766, 260.5048073964738, 229.1664770763682, 280.8025070661362, 320.3827314178823, 315.3372217423427, 187.56429414778447, 116.66233460754617, 337.6662129341199, 3304.414891917364, 375.18871049358137, 1739.5653155502562, 2155.3392796524267, 2422.7599524454567, 4633.997101905535, 1132.8571673573203, 2558.2365039077067, 698.5638173495923, 2210.410736143578, 968.9036782487459, 1254.1385295243595, 1482.4751380290002, 1841.4078660242544, 1619.4524198413037, 1056.219854774875, 3900.767040643489, 18.237173083387194, 30.389205812601496, 22.410192818308495, 13.65185466557315, 33.264027852075294, 13.4681514774181, 17.925623705437186, 14.393746349850593, 14.326037207424598, 45.945639656498194, 17.9707839788122, 17.97056879753825, 22.921852734232928, 9.90931264694467, 11.701123730635997, 86.77177096156139, 10.769314586383816, 9.863703619027175, 8.096412063496228, 8.097100627854262, 27.84278974289149, 16.972964742559885, 9.010269073322727, 8.0773868415229, 26.242484864381485, 7.200486135945161, 7.143878067483097, 8.108786233867436, 15.177080180059649, 8.0861279424012, 17.92695170407397, 85.06052607995984, 21.726255864213027, 31.191116799982446, 32.504477888899714, 35.10658307835705, 23.604640978591462, 17.059410282362933, 41.89402240795032, 28.55497331704938, 31.723577353336452, 247.97260249515637, 453.22104990567055, 103.43318023706937, 116.4237333079896, 302.61826380211534, 38.24937477250858, 36.93150069877718, 49.95501880493557, 94.02282370402453, 118.9683557402131, 320.3827314178823, 120.66856977969564, 64.08590431149966, 150.22782471639619, 153.6657361085801, 365.61044145550613, 181.8229562565848, 108.92319533981572, 701.8393640340713, 3304.414891917364, 187.09119954637646, 238.65320605341128, 158.06000706181507, 449.44974547773273, 865.2270938475157, 1376.7106307759616, 2155.3392796524267, 4633.997101905535, 3900.767040643489, 1739.5653155502562, 500.5063250389326, 2558.2365039077067, 2210.410736143578, 1207.1289091675037, 2422.7599524454567, 1841.4078660242544, 504.37265836759985, 1619.4524198413037, 1161.1346346569105, 829.7587322426531, 1378.0060015855738, 1482.4751380290002, 1132.8571673573203, 1606.525957128439, 1011.0073691765357, 979.144907867285, 126.51709736046746, 51.32132590036268, 55.23129915944123, 36.97927293846976, 37.95948629842356, 19.072780503407095, 23.251329220200056, 25.94217408192037, 47.151565230555136, 16.32952506330519, 24.372885967048333, 144.25499803522084, 13.580869753368704, 12.566247969482752, 10.766310655374518, 9.989473993904731, 15.205581964320045, 10.758718706415793, 9.10012267972345, 20.847643771103236, 13.51955856106854, 8.975370314244413, 24.5587464487353, 12.513696448173457, 71.24190501263895, 8.094428158184574, 8.115838945255796, 12.570713472240634, 37.18939440039858, 9.030252453203174, 278.0400615395368, 48.69975776715886, 31.05808150600723, 33.53153506616984, 66.64973578641455, 21.880978381781972, 105.84889380631613, 18.206146816742383, 283.4751161552303, 247.1145452207355, 45.025802773193014, 133.88323998645836, 247.38611797767248, 371.1671246151594, 95.37158065737128, 255.35307535911664, 506.3230294592081, 121.75632707898963, 475.2347736911899, 1161.1346346569105, 364.3707033202863, 472.2852997611222, 412.3971704126945, 1606.525957128439, 108.6919395382499, 420.53807984756094, 617.2340752950854, 369.45556634643145, 508.53179127986965, 358.82092615235854, 519.0448375552867, 574.3476278332057, 722.1005886750203, 1312.650616674183, 647.827397883138, 511.4978902647251, 556.122605609995, 3900.767040643489, 4633.997101905535, 2422.7599524454567, 2558.2365039077067, 26.56493126988305, 16.98928789646156, 15.827233744853103, 13.785039768601205, 12.495282540686942, 11.186834340194032, 11.47191429081176, 12.71901863360292, 19.937872930649867, 10.567270986915986, 10.564380725856516, 8.356768864490338, 9.329418586294452, 8.377233475799496, 9.503023099729159, 10.4823095159528, 15.773318807294649, 12.470083220398964, 7.423352892291699, 11.5604044421987, 8.297930797308036, 7.289987950401476, 8.297326530054761, 10.20893196774801, 17.31122064222919, 8.355537611958905, 7.268969475529991, 11.476532890335553, 11.474834366298795, 11.473418780834661, 10.49376244069751, 14.669333672152385, 104.1671876203654, 24.050649661925604, 154.24253033458456, 17.6328616885802, 32.958726869836816, 14.597365118964358, 68.88076533336576, 68.83574713574656, 59.33769770447828, 460.27475457056164, 52.86683632384099, 184.04464707107311, 49.84965191366926, 149.40526604420006, 107.30649667510914, 75.63513048145646, 42.867753978428674, 124.52575330392045, 610.688815450717, 138.30520518593875, 1487.6486667337908, 40.58485150727639, 563.8618865263187, 131.2627925418491, 63.65977517105472, 110.1505625203735, 188.5339689719122, 90.03727705054045, 41.71488804055016, 157.88815270205853, 270.83543596795784, 370.49894398108904, 231.65038729646736, 98.63301552180648, 89.74142687206455, 366.5954382028118, 1619.4524198413037, 4633.997101905535, 3304.414891917364, 1056.219854774875, 1133.9978372283194, 2210.410736143578, 3900.767040643489, 2422.7599524454567, 2558.2365039077067, 2155.3392796524267, 1841.4078660242544, 854.7093054570627, 1739.5653155502562, 1482.4751380290002, 1606.525957128439, 1161.1346346569105, 737.3872280315733, 1312.650616674183, 1441.513621469566, 1313.067789943141, 17.02954930089955, 21.36556157641122, 10.24338086709158, 21.460572775223113, 10.276502803124894, 8.58477620462427, 8.47669231033581, 28.151289572668823, 8.484372494028506, 7.749929313826269, 12.016033671220432, 7.673768406816679, 8.605720335316517, 17.18909388879293, 13.663346519112595, 6.8725372393438695, 6.897852810431187, 6.847705307475653, 34.46418736440543, 5.986779829886158, 12.869121373671582, 6.889934132763648, 6.0445259045046065, 6.065209850224464, 6.028227939966708, 5.162920463243485, 5.010829332530922, 6.038751235172318, 5.190085683689755, 6.911327877878718, 12.93185297167857, 6.965708257281939, 35.595377113994545, 32.81166935305665, 26.229143225420017, 21.570357492726927, 13.906130452471928, 13.806540440549322, 82.45451243883744, 14.094594076792113, 12.98505756297478, 34.904154350709035, 18.263406687370647, 13.965550273346743, 102.68861334826553, 68.70757245574916, 23.70054107349978, 24.68207953828656, 57.94362437624191, 132.14327953017795, 13.9411118646816, 245.21217570266612, 181.8229562565848, 320.3827314178823, 56.15608891844781, 84.64405855407259, 449.44974547773273, 26.5138761015969, 94.2003025958059, 865.2270938475157, 335.7193171571659, 4633.997101905535, 1487.6486667337908, 2558.2365039077067, 2422.7599524454567, 1482.4751380290002, 2210.410736143578, 3304.414891917364, 405.9476792917479, 339.3208746350674, 187.3617322569685, 1619.4524198413037, 766.3703972746601, 2155.3392796524267, 1011.0073691765357, 610.688815450717, 979.144907867285, 420.97118870329865, 1133.9978372283194, 1841.4078660242544, 3900.767040643489, 1132.8571673573203, 1739.5653155502562, 1254.1385295243595, 1441.513621469566, 677.6608569209409, 554.7928052984543, 1056.219854774875, 776.6006753665989], \"Category\": [\"Default\", \"Default\", \"Default\", \"Default\", \"Default\", \"Default\", \"Default\", \"Default\", \"Default\", \"Default\", \"Default\", \"Default\", \"Default\", \"Default\", \"Default\", \"Default\", \"Default\", \"Default\", \"Default\", \"Default\", \"Default\", \"Default\", \"Default\", \"Default\", \"Default\", \"Default\", \"Default\", \"Default\", \"Default\", \"Default\", \"Topic1\", \"Topic1\", \"Topic1\", \"Topic1\", \"Topic1\", \"Topic1\", \"Topic1\", \"Topic1\", \"Topic1\", \"Topic1\", \"Topic1\", \"Topic1\", \"Topic1\", \"Topic1\", \"Topic1\", \"Topic1\", \"Topic1\", \"Topic1\", \"Topic1\", \"Topic1\", \"Topic1\", \"Topic1\", \"Topic1\", \"Topic1\", \"Topic1\", \"Topic1\", \"Topic1\", \"Topic1\", \"Topic1\", \"Topic1\", \"Topic1\", \"Topic1\", \"Topic1\", \"Topic1\", \"Topic1\", \"Topic1\", \"Topic1\", \"Topic1\", \"Topic1\", \"Topic1\", \"Topic1\", \"Topic1\", \"Topic1\", \"Topic1\", \"Topic1\", \"Topic1\", \"Topic1\", \"Topic1\", \"Topic1\", \"Topic1\", \"Topic1\", \"Topic1\", \"Topic1\", \"Topic1\", \"Topic1\", \"Topic1\", \"Topic1\", \"Topic1\", \"Topic1\", \"Topic1\", \"Topic1\", \"Topic1\", \"Topic1\", \"Topic1\", \"Topic1\", \"Topic1\", \"Topic1\", \"Topic1\", \"Topic1\", \"Topic1\", \"Topic1\", \"Topic1\", \"Topic1\", \"Topic1\", \"Topic1\", \"Topic1\", \"Topic1\", \"Topic1\", \"Topic1\", \"Topic1\", \"Topic1\", \"Topic1\", \"Topic1\", \"Topic1\", \"Topic1\", \"Topic1\", \"Topic2\", \"Topic2\", \"Topic2\", \"Topic2\", \"Topic2\", \"Topic2\", \"Topic2\", \"Topic2\", \"Topic2\", \"Topic2\", \"Topic2\", \"Topic2\", \"Topic2\", \"Topic2\", \"Topic2\", \"Topic2\", \"Topic2\", \"Topic2\", \"Topic2\", \"Topic2\", \"Topic2\", \"Topic2\", \"Topic2\", \"Topic2\", \"Topic2\", \"Topic2\", \"Topic2\", \"Topic2\", \"Topic2\", \"Topic2\", \"Topic2\", \"Topic2\", \"Topic2\", \"Topic2\", \"Topic2\", \"Topic2\", \"Topic2\", \"Topic2\", \"Topic2\", \"Topic2\", \"Topic2\", \"Topic2\", \"Topic2\", \"Topic2\", \"Topic2\", \"Topic2\", \"Topic2\", \"Topic2\", \"Topic2\", \"Topic2\", \"Topic2\", \"Topic2\", \"Topic2\", \"Topic2\", \"Topic2\", \"Topic2\", \"Topic2\", \"Topic2\", \"Topic2\", \"Topic2\", \"Topic2\", \"Topic2\", \"Topic2\", \"Topic2\", \"Topic2\", \"Topic2\", \"Topic2\", \"Topic2\", \"Topic2\", \"Topic2\", \"Topic2\", \"Topic2\", \"Topic2\", \"Topic2\", \"Topic2\", \"Topic2\", \"Topic2\", \"Topic2\", \"Topic2\", \"Topic2\", \"Topic2\", \"Topic2\", \"Topic2\", \"Topic2\", \"Topic2\", \"Topic2\", \"Topic2\", \"Topic2\", \"Topic2\", \"Topic2\", \"Topic2\", \"Topic2\", \"Topic2\", \"Topic3\", \"Topic3\", \"Topic3\", \"Topic3\", \"Topic3\", \"Topic3\", \"Topic3\", \"Topic3\", \"Topic3\", \"Topic3\", \"Topic3\", \"Topic3\", \"Topic3\", \"Topic3\", \"Topic3\", \"Topic3\", \"Topic3\", \"Topic3\", \"Topic3\", \"Topic3\", \"Topic3\", \"Topic3\", \"Topic3\", \"Topic3\", \"Topic3\", \"Topic3\", \"Topic3\", \"Topic3\", \"Topic3\", \"Topic3\", \"Topic3\", \"Topic3\", \"Topic3\", \"Topic3\", \"Topic3\", \"Topic3\", \"Topic3\", \"Topic3\", \"Topic3\", \"Topic3\", \"Topic3\", \"Topic3\", \"Topic3\", \"Topic3\", \"Topic3\", \"Topic3\", \"Topic3\", \"Topic3\", \"Topic3\", \"Topic3\", \"Topic3\", \"Topic3\", \"Topic3\", \"Topic3\", \"Topic3\", \"Topic3\", \"Topic3\", \"Topic3\", \"Topic3\", \"Topic3\", \"Topic3\", \"Topic3\", \"Topic3\", \"Topic3\", \"Topic3\", \"Topic3\", \"Topic3\", \"Topic3\", \"Topic3\", \"Topic3\", \"Topic3\", \"Topic3\", \"Topic3\", \"Topic3\", \"Topic3\", \"Topic3\", \"Topic3\", \"Topic3\", \"Topic3\", \"Topic3\", \"Topic3\", \"Topic3\", \"Topic3\", \"Topic3\", \"Topic3\", \"Topic3\", \"Topic4\", \"Topic4\", \"Topic4\", \"Topic4\", \"Topic4\", \"Topic4\", \"Topic4\", \"Topic4\", \"Topic4\", \"Topic4\", \"Topic4\", \"Topic4\", \"Topic4\", \"Topic4\", \"Topic4\", \"Topic4\", \"Topic4\", \"Topic4\", \"Topic4\", \"Topic4\", \"Topic4\", \"Topic4\", \"Topic4\", \"Topic4\", \"Topic4\", \"Topic4\", \"Topic4\", \"Topic4\", \"Topic4\", \"Topic4\", \"Topic4\", \"Topic4\", \"Topic4\", \"Topic4\", \"Topic4\", \"Topic4\", \"Topic4\", \"Topic4\", \"Topic4\", \"Topic4\", \"Topic4\", \"Topic4\", \"Topic4\", \"Topic4\", \"Topic4\", \"Topic4\", \"Topic4\", \"Topic4\", \"Topic4\", \"Topic4\", \"Topic4\", \"Topic4\", \"Topic4\", \"Topic4\", \"Topic4\", \"Topic4\", \"Topic4\", \"Topic4\", \"Topic4\", \"Topic4\", \"Topic4\", \"Topic4\", \"Topic4\", \"Topic4\", \"Topic4\", \"Topic4\", \"Topic4\", \"Topic4\", \"Topic4\", \"Topic4\", \"Topic4\", \"Topic4\", \"Topic4\", \"Topic4\", \"Topic4\", \"Topic4\", \"Topic4\", \"Topic4\", \"Topic4\", \"Topic4\", \"Topic4\", \"Topic4\", \"Topic4\", \"Topic5\", \"Topic5\", \"Topic5\", \"Topic5\", \"Topic5\", \"Topic5\", \"Topic5\", \"Topic5\", \"Topic5\", \"Topic5\", \"Topic5\", \"Topic5\", \"Topic5\", \"Topic5\", \"Topic5\", \"Topic5\", \"Topic5\", \"Topic5\", \"Topic5\", \"Topic5\", \"Topic5\", \"Topic5\", \"Topic5\", \"Topic5\", \"Topic5\", \"Topic5\", \"Topic5\", \"Topic5\", \"Topic5\", \"Topic5\", \"Topic5\", \"Topic5\", \"Topic5\", \"Topic5\", \"Topic5\", \"Topic5\", \"Topic5\", \"Topic5\", \"Topic5\", \"Topic5\", \"Topic5\", \"Topic5\", \"Topic5\", \"Topic5\", \"Topic5\", \"Topic5\", \"Topic5\", \"Topic5\", \"Topic5\", \"Topic5\", \"Topic5\", \"Topic5\", \"Topic5\", \"Topic5\", \"Topic5\", \"Topic5\", \"Topic5\", \"Topic5\", \"Topic5\", \"Topic5\", \"Topic5\", \"Topic5\", \"Topic5\", \"Topic5\", \"Topic5\", \"Topic5\", \"Topic5\", \"Topic5\", \"Topic5\", \"Topic5\", \"Topic5\", \"Topic5\", \"Topic5\", \"Topic5\", \"Topic5\", \"Topic5\", \"Topic5\", \"Topic5\", \"Topic5\", \"Topic5\", \"Topic5\", \"Topic5\", \"Topic5\", \"Topic5\", \"Topic5\", \"Topic5\", \"Topic5\", \"Topic6\", \"Topic6\", \"Topic6\", \"Topic6\", \"Topic6\", \"Topic6\", \"Topic6\", \"Topic6\", \"Topic6\", \"Topic6\", \"Topic6\", \"Topic6\", \"Topic6\", \"Topic6\", \"Topic6\", \"Topic6\", \"Topic6\", \"Topic6\", \"Topic6\", \"Topic6\", \"Topic6\", \"Topic6\", \"Topic6\", \"Topic6\", \"Topic6\", \"Topic6\", \"Topic6\", \"Topic6\", \"Topic6\", \"Topic6\", \"Topic6\", \"Topic6\", \"Topic6\", \"Topic6\", \"Topic6\", \"Topic6\", \"Topic6\", \"Topic6\", \"Topic6\", \"Topic6\", \"Topic6\", \"Topic6\", \"Topic6\", \"Topic6\", \"Topic6\", \"Topic6\", \"Topic6\", \"Topic6\", \"Topic6\", \"Topic6\", \"Topic6\", \"Topic6\", \"Topic6\", \"Topic6\", \"Topic6\", \"Topic6\", \"Topic6\", \"Topic6\", \"Topic6\", \"Topic6\", \"Topic6\", \"Topic6\", \"Topic6\", \"Topic6\", \"Topic6\", \"Topic6\", \"Topic6\", \"Topic6\", \"Topic6\", \"Topic6\", \"Topic6\", \"Topic7\", \"Topic7\", \"Topic7\", \"Topic7\", \"Topic7\", \"Topic7\", \"Topic7\", \"Topic7\", \"Topic7\", \"Topic7\", \"Topic7\", \"Topic7\", \"Topic7\", \"Topic7\", \"Topic7\", \"Topic7\", \"Topic7\", \"Topic7\", \"Topic7\", \"Topic7\", \"Topic7\", \"Topic7\", \"Topic7\", \"Topic7\", \"Topic7\", \"Topic7\", \"Topic7\", \"Topic7\", \"Topic7\", \"Topic7\", \"Topic7\", \"Topic7\", \"Topic7\", \"Topic7\", \"Topic7\", \"Topic7\", \"Topic7\", \"Topic7\", \"Topic7\", \"Topic7\", \"Topic7\", \"Topic7\", \"Topic7\", \"Topic7\", \"Topic7\", \"Topic7\", \"Topic7\", \"Topic7\", \"Topic7\", \"Topic7\", \"Topic7\", \"Topic7\", \"Topic7\", \"Topic7\", \"Topic7\", \"Topic7\", \"Topic7\", \"Topic7\", \"Topic7\", \"Topic7\", \"Topic7\", \"Topic7\", \"Topic7\", \"Topic7\", \"Topic7\", \"Topic7\", \"Topic7\", \"Topic7\", \"Topic7\", \"Topic7\", \"Topic7\", \"Topic7\", \"Topic7\", \"Topic7\", \"Topic7\", \"Topic7\", \"Topic7\", \"Topic7\", \"Topic7\", \"Topic7\", \"Topic7\", \"Topic7\", \"Topic7\", \"Topic7\", \"Topic7\", \"Topic7\", \"Topic7\", \"Topic7\", \"Topic8\", \"Topic8\", \"Topic8\", \"Topic8\", \"Topic8\", \"Topic8\", \"Topic8\", \"Topic8\", \"Topic8\", \"Topic8\", \"Topic8\", \"Topic8\", \"Topic8\", \"Topic8\", \"Topic8\", \"Topic8\", \"Topic8\", \"Topic8\", \"Topic8\", \"Topic8\", \"Topic8\", \"Topic8\", \"Topic8\", \"Topic8\", \"Topic8\", \"Topic8\", \"Topic8\", \"Topic8\", \"Topic8\", \"Topic8\", \"Topic8\", \"Topic8\", \"Topic8\", \"Topic8\", \"Topic8\", \"Topic8\", \"Topic8\", \"Topic8\", \"Topic8\", \"Topic8\", \"Topic8\", \"Topic8\", \"Topic8\", \"Topic8\", \"Topic8\", \"Topic8\", \"Topic8\", \"Topic8\", \"Topic8\", \"Topic8\", \"Topic8\", \"Topic8\", \"Topic8\", \"Topic8\", \"Topic8\", \"Topic8\", \"Topic8\", \"Topic8\", \"Topic8\", \"Topic8\", \"Topic8\", \"Topic8\", \"Topic8\", \"Topic8\", \"Topic8\", \"Topic8\", \"Topic8\", \"Topic8\", \"Topic8\", \"Topic8\", \"Topic8\", \"Topic8\", \"Topic8\", \"Topic8\", \"Topic8\", \"Topic8\", \"Topic8\", \"Topic8\", \"Topic8\", \"Topic8\", \"Topic8\", \"Topic8\", \"Topic8\", \"Topic8\", \"Topic8\", \"Topic8\", \"Topic8\", \"Topic8\", \"Topic8\"], \"logprob\": [30.0, 29.0, 28.0, 27.0, 26.0, 25.0, 24.0, 23.0, 22.0, 21.0, 20.0, 19.0, 18.0, 17.0, 16.0, 15.0, 14.0, 13.0, 12.0, 11.0, 10.0, 9.0, 8.0, 7.0, 6.0, 5.0, 4.0, 3.0, 2.0, 1.0, -6.9135, -7.1564, -7.5761, -7.2039, -7.5162, -7.5648, -8.2933, -7.7282, -7.9882, -8.0164, -7.8201, -8.0653, -8.0803, -6.7933, -8.443, -8.2386, -8.463, -8.634, -8.422, -8.3826, -6.4701, -8.5925, -8.5514, -8.0356, -8.5437, -8.6856, -8.552, -6.6478, -8.5455, -8.6997, -7.3384, -8.1001, -7.1214, -7.3973, -8.1997, -7.2345, -7.6185, -7.1834, -5.2242, -6.6917, -6.4079, -7.5879, -6.8737, -5.7003, -7.0047, -4.8412, -6.2404, -6.3134, -5.4718, -7.17, -4.9673, -6.0328, -4.6667, -5.9006, -5.35, -5.6517, -6.0775, -5.1975, -4.2448, -6.2086, -5.3291, -5.4954, -6.0426, -6.5712, -4.3407, -5.2497, -5.3929, -5.7246, -5.4991, -5.4113, -6.0612, -6.1132, -6.1048, -6.0175, -5.6367, -5.6267, -5.9282, -5.8234, -5.5737, -5.8908, -5.9057, -5.6319, -5.6714, -5.7137, -5.8746, -5.9076, -7.3401, -7.7311, -7.6465, -7.6482, -8.035, -8.3411, -8.6708, -7.9934, -8.3967, -8.0325, -8.4042, -8.7513, -8.4049, -8.6722, -8.6153, -8.7272, -8.6122, -8.862, -7.4281, -8.251, -8.2514, -7.6382, -8.9552, -7.5575, -8.9479, -8.6234, -9.0284, -9.0264, -8.9523, -8.4275, -7.2959, -6.9832, -8.5955, -7.9695, -7.8459, -7.5226, -7.5889, -7.4675, -6.6338, -6.9469, -7.4859, -7.1533, -7.1912, -5.5614, -6.7165, -6.9827, -6.2094, -6.1319, -7.5756, -7.0223, -4.6681, -6.3954, -6.8801, -5.4002, -6.702, -7.0798, -6.4098, -6.4759, -6.1622, -6.3216, -6.6714, -6.91, -6.2553, -5.0683, -5.7876, -6.3479, -5.2358, -4.9423, -5.0856, -4.848, -5.0686, -6.2851, -4.7143, -5.6693, -5.6768, -5.5072, -5.3209, -5.4902, -6.2722, -6.0788, -5.6872, -5.2242, -5.804, -6.0531, -5.9411, -5.8448, -5.996, -6.2127, -6.0506, -6.1239, -6.1418, -6.1664, -6.166, -7.0226, -7.0218, -6.8596, -8.0977, -7.7709, -8.07, -6.9054, -7.7302, -8.6285, -8.7073, -8.7076, -8.6217, -8.5741, -8.5679, -8.124, -8.7943, -8.6433, -8.874, -8.7841, -8.7841, -8.8688, -8.8731, -8.5773, -8.1304, -8.5754, -8.7939, -8.7949, -8.4122, -8.9715, -8.1841, -6.7782, -7.066, -7.0419, -5.891, -6.7165, -6.6175, -7.2725, -6.1184, -6.3777, -6.7752, -7.6307, -7.5862, -6.9863, -8.0537, -7.0465, -7.3848, -6.6803, -7.2898, -6.6126, -6.919, -7.1494, -7.058, -7.4134, -6.8846, -4.1689, -6.0431, -6.7901, -4.2512, -5.1311, -4.4125, -4.9799, -4.8219, -4.7217, -4.8615, -4.8557, -5.2924, -5.6635, -5.5532, -5.6199, -5.3327, -5.7779, -5.5959, -5.3477, -5.5456, -5.5234, -5.4541, -5.6763, -5.5035, -5.4905, -5.674, -5.6091, -5.8473, -5.7098, -5.7131, -5.8215, -5.7235, -7.1786, -7.8419, -7.7082, -6.969, -6.9693, -7.5189, -7.7536, -7.6574, -7.7035, -7.7536, -7.5402, -6.9379, -7.809, -7.8096, -8.2676, -7.3228, -8.2001, -8.1309, -8.2822, -8.0085, -8.4729, -8.1324, -8.0648, -8.3892, -8.1366, -8.3878, -8.1374, -8.0665, -7.7402, -8.4855, -6.7885, -6.1586, -7.4584, -7.493, -6.7769, -7.5563, -6.8932, -6.5751, -7.1763, -7.6487, -7.0791, -7.3162, -5.5571, -6.2363, -5.5562, -5.3535, -5.7937, -4.8277, -6.6436, -4.4043, -6.8732, -6.1674, -6.2288, -6.7132, -5.8544, -6.562, -5.6532, -6.3495, -5.9264, -6.0482, -5.9444, -5.8733, -5.9051, -6.2113, -6.4872, -5.9096, -4.8865, -5.9379, -5.2356, -5.2316, -5.1954, -4.9503, -5.5526, -5.2386, -5.7797, -5.4274, -5.8119, -5.7586, -5.7634, -5.7675, -5.8136, -5.886, -5.7509, -7.5513, -7.0439, -7.3527, -7.8575, -6.9675, -7.8739, -7.5883, -7.8095, -7.8231, -6.6584, -7.5993, -7.5997, -7.3617, -8.208, -8.0426, -6.0413, -8.1299, -8.2178, -8.4271, -8.4284, -7.1938, -7.6937, -8.3274, -8.4389, -7.2612, -8.5593, -8.5696, -8.4433, -7.8179, -8.4477, -7.6518, -6.1136, -7.4853, -7.1372, -7.0993, -7.0556, -7.4306, -7.7342, -6.9221, -7.2673, -7.2035, -5.4809, -5.0081, -6.2879, -6.2531, -5.5866, -7.1023, -7.1675, -6.9732, -6.5633, -6.4295, -5.8062, -6.449, -6.8408, -6.3405, -6.3407, -5.8609, -6.254, -6.5442, -5.537, -4.7632, -6.2741, -6.1536, -6.389, -5.8852, -5.5803, -5.3794, -5.1907, -4.9064, -5.054, -5.3912, -5.9105, -5.2747, -5.3428, -5.5765, -5.3865, -5.5766, -5.9961, -5.7056, -5.836, -5.9427, -5.9177, -5.932, -5.9846, -5.9592, -6.0091, -6.0245, -5.5768, -6.49, -6.4178, -6.8238, -6.7988, -7.4965, -7.2999, -7.1921, -6.5974, -7.6624, -7.2722, -5.4978, -7.8633, -7.9452, -8.1092, -8.1892, -7.77, -8.1184, -8.2859, -7.4579, -7.8916, -8.3039, -7.2998, -7.9751, -6.241, -8.4172, -8.4147, -7.9772, -6.8948, -8.3112, -4.9255, -6.6443, -7.0976, -7.0301, -6.3816, -7.4527, -5.9727, -7.6283, -5.0782, -5.2083, -6.7883, -5.8048, -5.2565, -4.9314, -6.146, -5.2838, -4.7117, -5.9857, -4.876, -4.1777, -5.1164, -4.9314, -5.0608, -4.007, -6.1264, -5.1211, -4.8507, -5.2304, -5.0403, -5.2875, -5.1714, -5.1285, -5.0306, -4.7184, -5.1114, -5.2635, -5.238, -4.5992, -4.5418, -5.1268, -5.2402, -7.0594, -7.5342, -7.6138, -7.7539, -7.8546, -7.9688, -7.9458, -7.8455, -7.4026, -8.0389, -8.0404, -8.2815, -8.1714, -8.2835, -8.1576, -8.0618, -7.6535, -7.8889, -8.4081, -7.9657, -8.2982, -8.4289, -8.2996, -8.0932, -7.5653, -8.2955, -8.4407, -7.9902, -7.9912, -7.9927, -8.0825, -7.7593, -5.9126, -7.2977, -5.7154, -7.6362, -7.1022, -7.8049, -6.4964, -6.504, -6.6354, -4.9355, -6.7355, -5.7256, -6.8005, -5.919, -6.1911, -6.4976, -6.9428, -6.1266, -4.9733, -6.1214, -4.3875, -7.0175, -5.1083, -6.1691, -6.7085, -6.3343, -5.9875, -6.5125, -7.0065, -6.2006, -5.9384, -5.7617, -6.0327, -6.5326, -6.5859, -5.8961, -5.1726, -4.7024, -4.8663, -5.4198, -5.4294, -5.1628, -4.9324, -5.1403, -5.1447, -5.2269, -5.3837, -5.7817, -5.6409, -5.7546, -5.752, -5.817, -5.8881, -5.8321, -5.8664, -5.896, -7.3415, -7.126, -7.8752, -7.1423, -7.8859, -8.066, -8.0807, -6.8806, -8.0918, -8.1921, -7.7553, -8.2068, -8.0945, -7.4071, -7.6392, -8.3275, -8.3242, -8.3356, -6.7205, -8.4722, -7.7103, -8.3358, -8.4692, -8.4723, -8.4815, -8.6435, -8.6764, -8.4901, -8.643, -8.3581, -7.7555, -8.3579, -6.8005, -6.8794, -7.1085, -7.2951, -7.7092, -7.7233, -6.0983, -7.7082, -7.7946, -6.9559, -7.5072, -7.7404, -6.1081, -6.4881, -7.3496, -7.3226, -6.7489, -6.2079, -7.7453, -5.8688, -6.0855, -5.7241, -6.862, -6.6205, -5.6199, -7.3385, -6.6426, -5.427, -5.9534, -4.5843, -5.2246, -4.9766, -5.0068, -5.3415, -5.1675, -5.0264, -6.0041, -6.0843, -6.3445, -5.4722, -5.7748, -5.3715, -5.6946, -5.8885, -5.73, -6.0341, -5.6989, -5.5443, -5.3411, -5.726, -5.597, -5.7012, -5.7139, -5.9103, -5.959, -5.8696, -5.9977], \"loglift\": [30.0, 29.0, 28.0, 27.0, 26.0, 25.0, 24.0, 23.0, 22.0, 21.0, 20.0, 19.0, 18.0, 17.0, 16.0, 15.0, 14.0, 13.0, 12.0, 11.0, 10.0, 9.0, 8.0, 7.0, 6.0, 5.0, 4.0, 3.0, 2.0, 1.0, 1.3793, 1.3736, 1.3729, 1.372, 1.3707, 1.368, 1.3662, 1.3656, 1.3651, 1.3645, 1.3637, 1.3624, 1.3617, 1.3583, 1.3579, 1.356, 1.3522, 1.3518, 1.3508, 1.3498, 1.3497, 1.3483, 1.3483, 1.3476, 1.3465, 1.3461, 1.3454, 1.3441, 1.3439, 1.342, 1.341, 1.3414, 1.3222, 1.3109, 1.3334, 1.2823, 1.2971, 1.2612, 1.1024, 1.2188, 1.1839, 1.2778, 1.1976, 1.054, 1.2121, 0.9195, 1.1074, 1.1173, 0.9651, 1.2233, 0.8643, 1.0341, 0.7833, 0.9962, 0.8553, 0.8784, 0.9783, 0.7373, 0.4546, 0.9993, 0.7452, 0.7517, 0.892, 1.0628, 0.1864, 0.4451, 0.4794, 0.6406, 0.5067, 0.3769, 0.7957, 0.7879, 0.7753, 0.6795, 0.1973, 0.1132, 0.5093, 0.2434, -0.2812, 0.3267, 0.3557, -0.4563, -0.5502, -0.8485, -0.6073, -0.2442, 1.563, 1.5593, 1.5551, 1.5534, 1.5522, 1.5521, 1.5437, 1.5394, 1.5354, 1.531, 1.5309, 1.5306, 1.5302, 1.5278, 1.5271, 1.5242, 1.5228, 1.5216, 1.5205, 1.5189, 1.5185, 1.5185, 1.5182, 1.5177, 1.5138, 1.5129, 1.5121, 1.512, 1.5093, 1.509, 1.5016, 1.4958, 1.5083, 1.4999, 1.4935, 1.4859, 1.4866, 1.4824, 1.444, 1.4552, 1.4764, 1.4606, 1.4543, 1.3127, 1.3738, 1.3952, 1.3064, 1.2879, 1.445, 1.3761, 1.0727, 1.2813, 1.3496, 1.0143, 1.2662, 1.3388, 1.1742, 1.1869, 1.1033, 1.1321, 1.2331, 1.2841, 1.0158, 0.5101, 0.7537, 0.9879, 0.431, 0.1789, 0.1817, 0.0172, 0.107, 0.8696, -0.1872, 0.4123, 0.3728, 0.1561, -0.0283, 0.0167, 0.7921, 0.5709, 0.1012, -0.5248, 0.1317, 0.4415, 0.1548, -0.2584, -0.3012, 0.5622, -0.3108, -0.0572, -0.2307, -0.0743, -0.3778, 1.6937, 1.6937, 1.6921, 1.6749, 1.6712, 1.6686, 1.6644, 1.6602, 1.6589, 1.6557, 1.6554, 1.6541, 1.6528, 1.6518, 1.6511, 1.6491, 1.6478, 1.6474, 1.6444, 1.6444, 1.644, 1.6429, 1.642, 1.6409, 1.6401, 1.6386, 1.6384, 1.6371, 1.6348, 1.6325, 1.6272, 1.6232, 1.6207, 1.5937, 1.6038, 1.5831, 1.5988, 1.5289, 1.5405, 1.5328, 1.5815, 1.5764, 1.5297, 1.607, 1.5275, 1.5422, 1.4609, 1.5204, 1.4363, 1.4635, 1.4813, 1.4565, 1.5165, 1.3808, 0.6964, 1.1125, 1.3011, 0.2759, 0.6087, 0.2869, 0.527, 0.4455, 0.3995, 0.4311, 0.3199, 0.4958, 0.6517, 0.5389, 0.545, 0.3341, 0.6082, 0.4536, 0.2307, 0.3902, 0.3107, 0.2092, 0.4196, 0.2373, 0.2043, 0.4076, 0.2632, 0.4661, 0.0786, -0.1267, 0.2452, -0.2735, 2.3091, 2.2947, 2.2935, 2.2903, 2.29, 2.2865, 2.2865, 2.2814, 2.2806, 2.2792, 2.2784, 2.2781, 2.2707, 2.2702, 2.2694, 2.2668, 2.2662, 2.2587, 2.258, 2.2568, 2.2524, 2.2518, 2.2486, 2.2483, 2.2458, 2.2458, 2.2453, 2.2453, 2.2409, 2.2402, 2.2289, 2.2105, 2.2343, 2.2349, 2.1919, 2.2177, 2.1821, 2.1196, 2.1651, 2.2071, 2.1422, 2.1486, 1.8883, 1.9885, 1.8857, 1.7554, 1.8415, 1.6098, 2.0028, 1.4272, 2.0343, 1.709, 1.7226, 1.896, 1.529, 1.8304, 1.42, 1.6903, 1.4793, 1.4856, 1.3862, 1.3255, 1.3095, 1.5228, 1.7218, 1.2366, -0.0212, 1.103, 0.2713, 0.061, -0.0198, -0.4232, 0.3832, -0.1175, 0.6396, -0.1601, 0.2802, 0.0755, -0.0966, -0.3176, -0.2352, 0.1198, -1.0516, 2.5135, 2.5102, 2.506, 2.4969, 2.4963, 2.494, 2.4937, 2.492, 2.4831, 2.4824, 2.4802, 2.4799, 2.4745, 2.4667, 2.4659, 2.4637, 2.4617, 2.4616, 2.4497, 2.4483, 2.4479, 2.4429, 2.4425, 2.4403, 2.4397, 2.4348, 2.4324, 2.432, 2.4306, 2.4304, 2.4301, 2.4113, 2.4044, 2.3909, 2.3876, 2.3543, 2.3762, 2.3974, 2.311, 2.3491, 2.3077, 1.9741, 1.8438, 2.0414, 1.9579, 1.6691, 2.2219, 2.1916, 2.084, 1.8614, 1.7599, 1.3926, 1.7262, 1.9672, 1.6156, 1.5928, 1.2058, 1.5112, 1.7334, 0.8776, 0.1021, 1.4625, 1.3396, 1.5163, 0.975, 0.6249, 0.3614, 0.1019, -0.3793, -0.3547, 0.1156, 0.8422, -0.1535, -0.0755, 0.2957, -0.2109, -0.1266, 0.7489, -0.1272, 0.0751, 0.3044, -0.1778, -0.2652, -0.0489, -0.3728, 0.0404, 0.0571, 2.551, 2.5402, 2.5389, 2.5341, 2.5329, 2.5235, 2.522, 2.5203, 2.5175, 2.5129, 2.5026, 2.4989, 2.4963, 2.492, 2.4827, 2.4775, 2.4765, 2.4741, 2.474, 2.4731, 2.4725, 2.4699, 2.4674, 2.4663, 2.4612, 2.4599, 2.4598, 2.4596, 2.4574, 2.4564, 2.415, 2.4383, 2.4348, 2.4257, 2.3872, 2.4299, 2.3335, 2.4382, 2.243, 2.2501, 2.3727, 2.2665, 2.2008, 2.1202, 2.2645, 2.1418, 2.0294, 2.1805, 1.9285, 1.7334, 1.9536, 1.8792, 1.8854, 1.5794, 2.1533, 1.8056, 1.6923, 1.8258, 1.6964, 1.798, 1.5449, 1.4865, 1.3555, 1.07, 1.3833, 1.4674, 1.4093, 0.1002, -0.0147, 0.0488, -0.119, 2.6292, 2.6015, 2.5928, 2.5907, 2.5884, 2.5847, 2.5826, 2.5797, 2.573, 2.5716, 2.5704, 2.5637, 2.5637, 2.5593, 2.559, 2.5568, 2.5564, 2.556, 2.5555, 2.555, 2.5541, 2.5528, 2.5527, 2.5518, 2.5516, 2.5498, 2.544, 2.5378, 2.5369, 2.5355, 2.535, 2.5232, 2.4096, 2.4904, 2.2143, 2.4623, 2.3708, 2.4825, 2.2395, 2.2326, 2.2496, 1.9009, 2.265, 2.0275, 2.2587, 2.0426, 2.1015, 2.1447, 2.2674, 2.0171, 1.5804, 1.9174, 1.2758, 2.2473, 1.5251, 1.922, 2.1062, 1.9321, 1.7415, 1.9555, 2.2309, 1.7057, 1.4284, 1.2917, 1.4904, 1.8442, 1.8854, 1.1679, 0.4058, -0.1754, -0.001, 0.586, 0.5053, 0.1046, -0.233, 0.0353, -0.0235, 0.0656, 0.0663, 0.4358, -0.134, -0.0878, -0.1656, 0.0941, 0.477, -0.0437, -0.1716, -0.1079, 2.7918, 2.7805, 2.7664, 2.7597, 2.7525, 2.7522, 2.7502, 2.7501, 2.7383, 2.7285, 2.7267, 2.7237, 2.7214, 2.7168, 2.7143, 2.7132, 2.7128, 2.7088, 2.7078, 2.7065, 2.7031, 2.7024, 2.6999, 2.6934, 2.6903, 2.6832, 2.6802, 2.6799, 2.6785, 2.677, 2.6531, 2.6694, 2.5955, 2.5981, 2.5929, 2.6019, 2.6267, 2.6199, 2.4577, 2.6143, 2.6098, 2.4598, 2.5562, 2.5913, 2.2284, 2.2503, 2.4531, 2.4396, 2.1599, 1.8765, 2.5881, 1.5973, 1.6798, 1.4746, 2.0781, 1.9093, 1.2403, 2.3521, 1.7802, 0.7783, 1.1985, -0.0572, 0.4387, 0.1446, 0.1688, 0.3253, 0.0998, -0.1612, 0.9579, 1.057, 1.3907, 0.1062, 0.5518, -0.079, 0.3549, 0.6651, 0.3516, 0.8916, 0.2359, -0.0943, -0.6418, 0.2098, -0.0902, 0.1329, -0.0191, 0.5393, 0.6907, 0.1362, 0.3156]}, \"token.table\": {\"Topic\": [1, 2, 3, 4, 1, 2, 3, 4, 5, 6, 7, 8, 2, 5, 1, 2, 3, 4, 5, 6, 7, 8, 1, 2, 3, 4, 5, 6, 7, 8, 1, 2, 3, 7, 2, 3, 4, 5, 1, 7, 1, 4, 8, 4, 4, 1, 2, 3, 4, 1, 1, 2, 3, 4, 6, 7, 8, 1, 2, 3, 4, 5, 6, 7, 8, 4, 6, 1, 2, 3, 4, 7, 8, 6, 2, 4, 1, 2, 3, 4, 5, 7, 3, 1, 3, 4, 6, 7, 8, 6, 1, 2, 3, 4, 5, 6, 7, 8, 1, 2, 3, 4, 5, 6, 7, 8, 1, 2, 3, 4, 5, 6, 7, 8, 2, 7, 8, 1, 2, 3, 4, 5, 6, 8, 1, 2, 3, 4, 5, 6, 8, 1, 2, 3, 4, 5, 6, 7, 8, 1, 2, 3, 4, 5, 6, 7, 8, 1, 4, 2, 1, 2, 3, 4, 5, 8, 2, 4, 6, 1, 2, 3, 4, 5, 6, 8, 5, 1, 2, 3, 4, 5, 6, 7, 8, 1, 2, 3, 4, 6, 7, 1, 2, 3, 4, 1, 2, 3, 4, 6, 7, 8, 1, 2, 3, 4, 5, 6, 7, 8, 1, 8, 8, 1, 1, 4, 6, 8, 1, 4, 1, 1, 2, 3, 4, 5, 6, 7, 8, 2, 3, 5, 7, 8, 2, 4, 5, 7, 5, 2, 1, 1, 4, 5, 6, 1, 2, 3, 4, 5, 7, 8, 1, 2, 3, 4, 5, 7, 8, 4, 1, 2, 3, 8, 7, 1, 2, 3, 4, 5, 6, 8, 6, 6, 7, 1, 2, 3, 7, 8, 1, 4, 5, 6, 7, 3, 7, 1, 2, 4, 6, 7, 8, 1, 2, 3, 4, 5, 6, 7, 8, 2, 8, 5, 4, 6, 2, 3, 1, 3, 4, 6, 6, 1, 2, 3, 4, 5, 6, 7, 8, 1, 2, 3, 5, 6, 8, 3, 8, 5, 6, 8, 1, 2, 3, 4, 5, 6, 7, 8, 4, 7, 1, 2, 3, 4, 5, 6, 7, 8, 7, 2, 6, 8, 1, 2, 5, 1, 2, 3, 4, 5, 6, 7, 8, 1, 2, 3, 4, 5, 6, 7, 8, 1, 2, 3, 5, 7, 1, 2, 3, 4, 5, 6, 7, 8, 1, 2, 3, 4, 5, 7, 8, 1, 2, 3, 4, 5, 6, 7, 8, 5, 7, 1, 2, 3, 4, 5, 7, 8, 1, 2, 3, 4, 5, 6, 8, 1, 2, 3, 4, 5, 6, 7, 8, 1, 2, 3, 4, 5, 6, 7, 8, 1, 2, 3, 4, 5, 8, 1, 2, 3, 4, 5, 6, 8, 1, 2, 3, 4, 5, 6, 7, 8, 1, 2, 3, 4, 5, 6, 7, 8, 1, 3, 5, 6, 1, 2, 3, 4, 5, 6, 7, 1, 2, 3, 4, 5, 6, 7, 8, 2, 3, 5, 8, 1, 3, 8, 1, 2, 3, 6, 8, 6, 1, 2, 3, 4, 5, 6, 7, 8, 1, 3, 1, 2, 7, 8, 1, 2, 3, 4, 5, 6, 7, 8, 1, 2, 4, 5, 3, 5, 6, 1, 2, 5, 7, 8, 4, 1, 3, 4, 5, 6, 8, 6, 1, 2, 3, 4, 5, 6, 7, 8, 1, 2, 3, 4, 5, 6, 7, 8, 1, 2, 3, 4, 5, 6, 7, 8, 7, 3, 1, 2, 3, 4, 5, 6, 7, 8, 1, 3, 7, 1, 8, 6, 1, 2, 3, 4, 5, 6, 7, 2, 8, 3, 1, 2, 3, 4, 5, 6, 7, 8, 1, 2, 3, 8, 2, 4, 2, 3, 7, 2, 8, 1, 4, 5, 6, 1, 2, 3, 4, 5, 6, 7, 8, 3, 1, 5, 2, 8, 3, 8, 1, 2, 3, 4, 5, 6, 7, 8, 1, 2, 3, 4, 5, 6, 7, 8, 5, 5, 7, 1, 2, 4, 5, 8, 1, 2, 3, 4, 5, 7, 8, 1, 2, 3, 4, 5, 6, 7, 8, 1, 5, 1, 4, 1, 2, 3, 4, 5, 6, 7, 8, 4, 2, 3, 4, 5, 6, 8, 1, 1, 2, 3, 4, 5, 7, 8, 1, 2, 3, 4, 5, 6, 7, 8, 5, 7, 1, 2, 3, 4, 5, 6, 7, 8, 1, 2, 3, 4, 5, 6, 7, 8, 1, 2, 3, 4, 5, 6, 7, 8, 2, 3, 6, 1, 6, 6, 3, 8, 1, 2, 3, 4, 1, 3, 2, 2, 2, 7, 8, 1, 2, 3, 4, 5, 6, 5, 1, 8, 1, 2, 3, 5, 7, 8, 6, 2, 6, 1, 2, 3, 4, 5, 6, 7, 8, 4, 1, 4, 8, 2, 6, 8, 1, 2, 3, 4, 5, 8, 8, 2, 3, 7, 4, 6, 6, 1, 3, 1, 2, 3, 7, 8, 1, 2, 3, 4, 5, 6, 7, 8, 1, 2, 3, 4, 5, 6, 7, 8, 1, 2, 3, 4, 5, 6, 7, 8, 1, 2, 3, 4, 5, 6, 7, 8, 1, 2, 3, 4, 5, 6, 8, 3, 1, 2, 3, 4, 5, 6, 7, 8, 6, 1, 2, 3, 4, 5, 6, 7, 8, 4, 2, 1, 2, 3, 4, 5, 6, 7, 8, 3, 7, 2, 3, 4, 6, 7, 1, 2, 3, 4, 6, 7, 8, 1, 2, 3, 5, 7, 1, 2, 3, 4, 5, 6, 7, 8, 8, 1, 7, 4, 1, 2, 3, 4, 5, 8, 1, 2, 3, 4, 5, 6, 5, 7, 1, 1, 2, 3, 4, 5, 6, 7, 8, 1, 2, 5, 1, 1, 2, 3, 7, 4, 1, 2, 3, 4, 5, 6, 7, 8, 4, 1, 2, 6, 2, 1, 2, 3, 4, 5, 6, 7, 8, 1, 3, 4, 5, 7, 1, 2, 1, 2, 3, 7, 8, 1, 5, 1, 2, 3, 4, 6, 7, 8, 1, 2, 3, 4, 5, 6, 7, 8, 3, 6, 1, 5, 7, 8, 1, 3, 4, 5, 8, 1, 2, 3, 4, 5, 6, 7, 8, 1, 2, 3, 4, 5, 6, 7, 8, 1, 4, 5, 6, 8, 5, 1, 2, 3, 4, 5, 6, 7, 8, 1, 2, 4, 5, 6, 7, 8, 1, 2, 3, 7, 8, 8, 1, 2, 3, 4, 5, 6, 7, 8, 1, 2, 3, 4, 5, 6, 7, 8, 2, 6, 1, 2, 3, 4, 5, 6, 7, 8, 1, 2, 3, 7, 8, 1, 2, 3, 4, 5, 8, 1, 2, 3, 4, 5, 6, 7, 8, 1, 4, 1, 4, 1, 4, 6, 1, 7, 5, 6, 1, 1, 2, 3, 4, 5, 6, 7, 8, 2, 3, 4, 2, 4, 6, 7, 2, 7, 1, 2, 3, 4, 5, 6, 7, 8, 8, 4, 5, 1, 2, 3, 4, 5, 7, 8, 2, 3, 7, 1, 2, 3, 4, 5, 6, 7, 8, 1, 2, 3, 4, 5, 6, 7, 8, 1, 2, 3, 4, 5, 6, 7, 8, 7, 5, 3, 8, 1, 2, 3, 4, 5, 6, 7, 8, 1, 2, 3, 4, 5, 6, 2, 6, 1, 2, 3, 5, 6, 7, 8, 2, 5, 1, 2, 3, 4, 5, 6, 7, 8, 1, 2, 3, 4, 5, 6, 7, 8, 1, 2, 1, 2, 3, 4, 5, 6, 7, 8, 3, 7, 3, 1, 1, 2, 3, 4, 5, 6, 7, 8, 8, 4, 8, 1, 2, 1, 3, 7, 1, 2, 1, 2, 8, 1, 2, 3, 4, 5, 6, 8, 3, 5, 7, 1, 2, 3, 4, 5, 1, 2, 3, 5, 1, 1, 2, 3, 4, 5, 6, 7, 3, 1, 2, 3, 4, 5, 6, 8, 6, 1, 7, 3, 1, 2, 3, 4, 5, 6, 3, 4, 8, 2, 8, 1, 2, 3, 4, 5, 6, 7, 8, 1, 4, 5, 1, 2, 3, 4, 5, 6, 7, 8, 4, 1, 6, 1, 2, 3, 4, 5, 6, 7, 8, 2, 6, 7, 1, 2, 3, 4, 5, 6, 7, 8, 1, 2, 3, 4, 5, 6, 7, 8, 1, 2, 4, 8, 1, 2, 3, 4, 6, 7, 8, 1, 2, 3, 4, 5, 6, 7, 8, 1, 2, 3, 4, 5, 7, 8, 3, 5, 6, 1, 2, 3, 4, 5, 6, 7, 8, 7, 1, 2, 3, 4, 4, 5, 1, 2, 3, 4, 5, 6, 7, 8, 1, 8, 5, 7, 4, 6, 8, 4, 1, 2, 3, 4, 5, 6, 7, 8, 7, 1, 2, 3, 4, 5, 6, 7, 8, 7, 1, 4, 1, 4, 5, 8, 1, 2, 3, 4, 6, 7, 8, 1, 2, 3, 5, 6, 7, 8, 1, 2, 3, 4, 5, 6, 8, 4, 1, 2, 3, 4, 5, 6, 7, 8, 5, 1, 2, 3, 4, 5, 6, 8, 1, 2, 3, 4, 5, 6, 7, 8, 5, 8, 1, 7, 1, 2, 3, 4, 6, 7, 8, 2, 5, 6, 1, 2, 3, 4, 5, 6, 7, 8, 8, 1, 2, 4, 6, 8, 1, 8, 7, 4, 1, 2, 3, 5, 6, 8, 3, 7, 1, 2, 4, 6, 7, 8, 1, 2, 3, 4, 5, 6, 7, 8, 7, 2, 3, 8, 1, 2, 4, 6, 8, 1, 2, 3, 5, 6, 8, 1, 2, 3, 4, 5, 6, 1, 2, 3, 4, 5, 6, 7, 8, 4, 6, 1, 2, 3, 5, 2, 3, 6, 8, 1, 2, 3, 4, 5, 6, 7, 8, 7, 1, 2, 3, 4, 6, 7, 8, 7, 1, 2, 3, 4, 5, 6, 7, 8, 2, 3, 4, 5, 6, 7, 8, 8, 1, 2, 3, 4, 5, 6, 7, 8, 6, 7, 3, 2, 1, 2, 3, 4, 7, 8, 1, 3, 7, 1, 2, 3, 4, 5, 6, 7, 8, 5, 1, 2, 3, 4, 7, 8, 1, 2, 3, 4, 5, 6, 7, 8, 1, 2, 3, 5, 7, 1, 2, 3, 4, 5, 6, 7, 8, 8, 1, 2, 3, 4, 5, 6, 8, 1, 2, 3, 4, 5, 6, 7, 8, 5, 4, 1, 2, 3, 4, 5, 6, 7, 8, 1, 2, 3, 4, 5, 6, 7, 8, 2, 5, 1, 2, 3, 4, 5, 6, 7, 8, 1, 2, 3, 4, 5, 6, 7, 8, 3, 1, 3, 4, 5, 2, 3, 1, 2, 3, 4, 5, 6, 7, 8, 1, 2, 3, 4, 5, 6, 7, 8, 2, 3, 4, 5, 6, 1, 2, 3, 4, 5, 6, 8, 1, 4, 1, 2, 3, 4, 5, 6, 7, 8, 3, 6, 4, 1, 2, 3, 4, 5, 8, 1, 2, 3, 4, 5, 6, 7, 8, 2, 1, 2, 3, 4, 5, 6, 7, 8, 3, 1, 3, 4, 7, 8, 8, 7, 1, 2, 3, 4, 5, 6, 8, 1, 2, 3, 4, 5, 6, 8, 1, 3, 7, 8, 1, 2, 3, 4, 5, 6, 7, 8, 1, 2, 3, 4, 8, 1, 2, 3, 5, 6, 8, 1, 2, 3, 4, 5, 6, 7, 8, 1, 2, 3, 4, 5, 6, 7, 8, 1, 2, 3, 4, 5, 6, 7, 8, 2, 3, 2, 5, 1, 2, 3, 6, 4, 1, 2, 3, 4, 5, 6, 7, 8, 1, 2, 3, 1, 2, 3, 5, 6, 8, 7, 3, 1, 2, 3, 4, 5, 6, 7, 8, 1, 2, 3, 4, 5, 6, 7, 8, 1, 2, 3, 4, 5, 6, 7, 8, 5, 8, 1, 2, 3, 4, 5, 6, 7, 8, 5, 1, 4, 2, 1, 1, 2, 3, 5, 8, 1, 2, 3, 4, 5, 6, 7, 8, 1, 3, 4, 5, 7, 8, 1, 4, 7, 8, 3, 7, 1, 2, 3, 4, 5, 6, 7, 8, 1, 2, 3, 4, 5, 6, 7, 8, 4, 8, 1, 2, 3, 4, 5, 6, 7, 8, 1, 7, 2, 3, 1, 2, 3, 4, 5, 6, 8, 1, 2, 3, 4, 5, 6, 8, 1, 6, 8, 1, 2, 3, 4, 5, 6, 8, 1, 2, 3, 4, 5, 6, 7, 8, 1, 2, 3, 4, 5, 6, 7, 8, 1, 2, 3, 4, 5, 6, 7, 8, 2, 3, 8, 1, 2, 3, 7, 8, 1, 2, 3, 5, 7, 1, 2, 3, 4, 7, 8, 1, 2, 3, 4, 7, 1, 2, 3, 4, 7, 7, 3, 4, 6, 7, 1, 2, 3, 7, 8, 1, 2, 3, 4, 5, 6, 7, 1, 2, 3, 4, 5, 6, 7, 8, 1, 3, 4, 5, 1, 2, 3, 4, 5, 6, 7, 8, 5, 2, 3, 4, 8, 1, 2, 5, 6, 3, 7, 1, 2, 3, 4, 5, 6, 7, 8, 1, 2, 5, 6, 2, 3, 5, 4, 6, 2, 8, 1, 3, 5, 2, 4, 1, 2, 3, 4, 5, 6, 7, 8, 1, 2, 3, 4, 5, 7, 8, 7, 1, 2, 3, 4, 5, 6, 7, 8, 6, 1, 2, 3, 4, 5, 6, 7, 8, 1, 2, 3, 4, 5, 6, 7, 8, 1, 2, 3, 4, 5, 6, 7, 8, 1, 2, 3, 4, 5, 6, 7, 8, 1, 3, 4, 7, 8, 3, 3, 1, 2, 3, 4, 5, 6, 7, 8, 2, 3, 4, 6, 1, 2, 3, 4, 5, 6, 7, 8, 1, 2, 3, 4, 5, 6, 7, 8, 1, 2, 3, 4, 5, 6, 7, 8, 1, 2, 3, 4, 5, 6, 7, 8, 1, 2, 3, 4, 5, 6, 7, 8, 1, 2, 3, 4, 5, 6, 7, 8, 1, 4, 4, 6, 1, 3, 4, 1, 2, 3, 4, 5, 6, 7, 8, 2, 3, 4, 1, 2, 3, 4, 6, 7, 8, 1, 2, 3, 4, 6, 7, 1, 2, 4, 5, 7, 8, 1, 2, 3, 4, 2, 3, 4], \"Freq\": [0.01662273183672841, 0.08311365918364207, 0.8810047873466058, 0.01662273183672841, 0.036704947926193325, 0.6073000475061078, 0.23024012790066722, 0.02002088068701454, 0.013347253791343027, 0.01001044034350727, 0.006673626895671514, 0.0700730824045509, 0.9300583899702528, 0.03321637107036617, 0.0212313543044717, 0.29723896026260377, 0.09554109437012265, 0.11677244867459434, 0.06369406291341509, 0.05307838576117924, 0.01061567715223585, 0.3397016688715472, 0.1885784308535255, 0.025715240570935296, 0.06000222799884902, 0.5314483051326627, 0.12857620285467647, 0.00857174685697843, 0.00857174685697843, 0.05143048114187059, 0.012075993619104395, 0.012075993619104395, 0.9660794895283515, 0.012075993619104395, 0.052288436396546886, 0.15686530918964067, 0.052288436396546886, 0.705893891353383, 0.9706556920598004, 0.8355980551600829, 0.044492119926275754, 0.889842398525515, 0.044492119926275754, 0.9039751640670691, 0.904253237275642, 0.012817307395557248, 0.1345817276533511, 0.8331249807112212, 0.012817307395557248, 0.9670409339209625, 0.23363896035180284, 0.17387085421529513, 0.027167320971139865, 0.005433464194227973, 0.005433464194227973, 0.5270460268401134, 0.021733856776911892, 0.22804410984919207, 0.2161668124612133, 0.19003675820766006, 0.04513373007431926, 0.02850551373114901, 0.0023754594775957506, 0.15202940656612804, 0.13777664970055353, 0.9430837912838032, 0.042867445058354686, 0.011634906024526409, 0.023269812049052818, 0.7679037976187431, 0.023269812049052818, 0.023269812049052818, 0.1396188722943169, 0.925134490432939, 0.9481567286363638, 0.9055971602598031, 0.018206104578553758, 0.8920991243491342, 0.036412209157107515, 0.018206104578553758, 0.018206104578553758, 0.018206104578553758, 0.9497274264269481, 0.945196915428727, 0.00689924755787392, 0.00689924755787392, 0.01379849511574784, 0.01379849511574784, 0.01379849511574784, 0.9009483387705421, 0.1795844147423384, 0.18784116944313559, 0.3054999239294952, 0.12694760352475645, 0.0763749809823738, 0.023738169764791858, 0.058829377243179826, 0.043347962179185136, 0.23465010559073335, 0.14246613553723095, 0.050282165483728575, 0.087993789596525, 0.29331263198841667, 0.046091985026751194, 0.07123306776861547, 0.07542324822559286, 0.706445277203742, 0.014008829859564288, 0.03402144394465613, 0.13608577577862452, 0.020012614085091838, 0.024015136902110205, 0.002001261408509184, 0.06404036507229388, 0.9415214552476094, 0.1418983752993044, 0.7804410641461742, 0.3224325462805202, 0.003980648719512595, 0.003980648719512595, 0.62894249768299, 0.019903243597562976, 0.00796129743902519, 0.011941946158537785, 0.5588713206626884, 0.0027530606929196473, 0.0027530606929196473, 0.39644073978042926, 0.02477754623627683, 0.008259182078758942, 0.005506121385839295, 0.584599249162324, 0.0023861193843360165, 0.0023861193843360165, 0.39848193718411473, 0.006362985024896043, 0.0023861193843360165, 0.0007953731281120054, 0.0031814925124480217, 0.14198949461226146, 0.20522368249626455, 0.301224676829251, 0.12531866326102428, 0.08565358177014962, 0.027593100167564978, 0.060359906616548394, 0.052311919067675273, 0.14154512491469054, 0.8256798953356947, 0.9699166049802859, 0.01326270341304842, 0.8620757218481473, 0.05305081365219368, 0.01326270341304842, 0.03978811023914526, 0.01326270341304842, 0.9172220880335105, 0.020382713067411344, 0.020382713067411344, 0.010570507927993954, 0.7716470787435586, 0.08456406342395163, 0.021141015855987908, 0.021141015855987908, 0.010570507927993954, 0.08456406342395163, 0.948363096277848, 0.6547738265559402, 0.06223057029250672, 0.027056769692394223, 0.12716681755425285, 0.09469869392337979, 0.008117030907718268, 0.01082270787695769, 0.01082270787695769, 0.009200314248216069, 0.23920817045361778, 0.06440219973751247, 0.009200314248216069, 0.6532223116233409, 0.027600942744648208, 0.013067706250378052, 0.18294788750529273, 0.7840623750226831, 0.013067706250378052, 0.03203961081128364, 0.056069318919746376, 0.7689506594708074, 0.00800990270282091, 0.00800990270282091, 0.11213863783949275, 0.00800990270282091, 0.055059499619359506, 0.6515374121624208, 0.1422370406833454, 0.0183531665397865, 0.013764874904839876, 0.050471207984412875, 0.04588291634946625, 0.022941458174733125, 0.1432095378165657, 0.7876524579911114, 0.9395433617937754, 0.962666080243072, 0.9467539061392076, 0.03484983703579905, 0.005808306172633175, 0.005808306172633175, 0.9550631611913952, 0.024281266809950724, 0.9623930684074067, 0.06964423297246779, 0.20545048726877996, 0.1271007251747537, 0.0644209154995327, 0.02959879901329881, 0.33429231826784533, 0.1271007251747537, 0.04004543395916898, 0.3190714639079265, 0.01063571546359755, 0.4892429113254873, 0.01063571546359755, 0.15953573195396326, 0.9069579545477193, 0.03023193181825731, 0.03023193181825731, 0.03023193181825731, 0.9031700075870059, 0.9411403607708598, 0.9689834417442698, 0.9690925107396369, 0.03591594122694939, 0.8978985306737347, 0.03591594122694939, 0.12099682269467699, 0.06599826692436926, 0.04949870019327695, 0.005499855577030772, 0.34649090135293864, 0.10449725596358467, 0.30799191231372325, 0.8293219441778411, 0.034555081007410046, 0.034555081007410046, 0.025916310755557535, 0.034555081007410046, 0.025916310755557535, 0.008638770251852512, 0.9559084817716713, 0.1687725182136246, 0.0843862591068123, 0.04219312955340615, 0.6750900728544984, 0.843645236166667, 0.13146978180715335, 0.04382326060238445, 0.7449954302405357, 0.021911630301192225, 0.03651938383532038, 0.007303876767064075, 0.007303876767064075, 0.8647924057392544, 0.8859110020963227, 0.9429701243583203, 0.24161415773881573, 0.034516308248402246, 0.10354892474520674, 0.10354892474520674, 0.5004864696018326, 0.09002286249457273, 0.03000762083152424, 0.03000762083152424, 0.8252095728669167, 0.01500381041576212, 0.06816942216662204, 0.8862024881660866, 0.0385514843665313, 0.8738336456413761, 0.012850494788843767, 0.025700989577687534, 0.025700989577687534, 0.025700989577687534, 0.07928020631965586, 0.2600390767284712, 0.13319074661702185, 0.3551753243120583, 0.047568123791793517, 0.060252956802938455, 0.022198457769503643, 0.04122570728622105, 0.07770538259479468, 0.8547592085427415, 0.9124361748500752, 0.01948507725504678, 0.9547687854972922, 0.04104061282257669, 0.9439340949192639, 0.08946801851093056, 0.02982267283697685, 0.02982267283697685, 0.8648575122723287, 0.8835958386997583, 0.041338875413171126, 0.16018814222603814, 0.14382483737499122, 0.05081236769535618, 0.08267775082634225, 0.4288908324116505, 0.0757879382574804, 0.016363304851046905, 0.07339712681441198, 0.09436773447567254, 0.010485303830630281, 0.06291182298378169, 0.7339712681441197, 0.020970607661260562, 0.9504621652742332, 0.943764349007387, 0.8335706658638986, 0.06412082045106912, 0.03206041022553456, 0.3712491095036969, 0.04316850110508103, 0.24174360618845378, 0.021584250552540516, 0.004316850110508103, 0.004316850110508103, 0.3064963578460753, 0.004316850110508103, 0.05776600163945623, 0.8664900245918434, 0.31642510492949794, 0.13093452617772328, 0.18276277612307207, 0.06273946046015907, 0.03546143417313339, 0.024550223658323114, 0.22095201292490804, 0.024550223658323114, 0.9417699021589009, 0.07242944054710732, 0.07242944054710732, 0.7967238460181806, 0.017981716585619582, 0.8811041126953595, 0.07192686634247833, 0.3472703398820717, 0.35339863999763765, 0.08783896832311225, 0.09601003514386688, 0.024513200462263882, 0.04698363421933911, 0.020427667051886568, 0.020427667051886568, 0.542330252714263, 0.07648247153662684, 0.041717711747251, 0.09734132741025234, 0.16455319633637894, 0.009270602610500223, 0.05794126631562639, 0.009270602610500223, 0.02176485097337344, 0.02176485097337344, 0.02176485097337344, 0.9141237408816845, 0.02176485097337344, 0.011748438885182566, 0.16447814439255593, 0.10181980367158223, 0.03916146295060855, 0.00783229259012171, 0.6461641386850411, 0.011748438885182566, 0.019580731475304276, 0.7138822292961774, 0.12058821440813808, 0.009647057152651047, 0.053058814339580755, 0.0819999857975339, 0.01447058572897657, 0.009647057152651047, 0.3068039124831798, 0.13404054428876785, 0.062552254001425, 0.12212582924087738, 0.0953177203831238, 0.050637538953534525, 0.03872282390564405, 0.187656762004275, 0.8903340009464372, 0.055645875059152326, 0.13933914371342926, 0.03800158464911707, 0.06333597441519512, 0.06966957185671463, 0.10767115650583171, 0.38001584649117076, 0.2026751181286244, 0.0940900114287919, 0.05066385230781103, 0.20265540923124412, 0.5211139094517706, 0.014475386373660293, 0.07961462505513162, 0.043426159120980884, 0.0926239006235818, 0.33591601292819, 0.22414983950906797, 0.0753341058405132, 0.06730670111980278, 0.03704956024943273, 0.10373876869841163, 0.06360174509485951, 0.5218384370956813, 0.0578481408327776, 0.13256865607511534, 0.06025848003414334, 0.10364458565872654, 0.0289240704163888, 0.04579644482594894, 0.048206784027314674, 0.01212789901270441, 0.1334068891397485, 0.09702319210163528, 0.01212789901270441, 0.08489529308893086, 0.6670344456987425, 0.1491689180775289, 0.25690202557796643, 0.016574324230836546, 0.10773310750043755, 0.4309324300017502, 0.008287162115418273, 0.02486148634625482, 0.05990900831447452, 0.21300980734035385, 0.21966636381973992, 0.03993933887631635, 0.38608027580439136, 0.03993933887631635, 0.019969669438158175, 0.02662622591754423, 0.1933287205399751, 0.03362238618086524, 0.05043357927129785, 0.01681119309043262, 0.44549661689646436, 0.00840559654521631, 0.05043357927129785, 0.2101399136304077, 0.07018341240472101, 0.014036682480944201, 0.014036682480944201, 0.8843109962994846, 0.037789719440235806, 0.05668457916035371, 0.04723714930029476, 0.028342289580176854, 0.009447429860058951, 0.784136678384893, 0.037789719440235806, 0.20007469264185368, 0.3568899922800633, 0.1297781790109321, 0.036049494169703364, 0.02883959533576269, 0.014419797667881346, 0.1189633307600211, 0.11355590663456559, 0.11459953906371449, 0.11459953906371449, 0.057299769531857246, 0.6589473496163583, 0.08704688052788374, 0.02901562684262791, 0.8414531784362095, 0.12302694873421054, 0.02839083432327935, 0.8233341953751012, 0.009463611441093117, 0.009463611441093117, 0.9461824651679295, 0.07174459405189836, 0.16740405278776282, 0.5410738134747335, 0.011957432341983059, 0.10761689107784754, 0.05679780362441953, 0.008968074256487294, 0.03587229702594918, 0.9417677874704663, 0.9480254213861622, 0.04012064123263377, 0.2607841680121195, 0.6619905803384573, 0.04012064123263377, 0.27322864799994206, 0.14399888205402353, 0.17353711427023347, 0.08492241762160362, 0.0073845580540524884, 0.0036922790270262442, 0.28799776410804706, 0.029538232216209954, 0.9467416844394593, 0.013720893977383469, 0.027441787954766938, 0.013720893977383469, 0.05492650422221134, 0.05492650422221134, 0.8788240675553814, 0.12010805207438333, 0.02001800867906389, 0.6205582690509805, 0.08007203471625556, 0.14012606075344722, 0.9104330612511277, 0.06178689444932061, 0.010297815741553435, 0.5972733130100992, 0.24714757779728244, 0.04119126296621374, 0.04119126296621374, 0.8913281257380048, 0.1607434585560957, 0.22321248036462576, 0.19273978679948914, 0.07161082987807106, 0.031996328243393456, 0.2209270283472405, 0.06627810850417215, 0.03275814558252187, 0.1371294915446908, 0.14474779663050696, 0.18283932205958772, 0.007618305085816156, 0.022854915257448465, 0.030473220343264624, 0.4723349153206016, 0.007618305085816156, 0.023490183463579953, 0.5570529221363246, 0.14429684127627687, 0.01677870247398568, 0.18792146770863963, 0.03355740494797136, 0.013422961979188545, 0.02684592395837709, 0.9465770175742356, 0.9466038400556305, 0.11224472370115136, 0.176384565816095, 0.09620976317241545, 0.07482981580076757, 0.3313891842605421, 0.06413984211494364, 0.1229346973869753, 0.026724934214559848, 0.08315783681994189, 0.041578918409970946, 0.8315783681994189, 0.0832221369681326, 0.832221369681326, 0.8790368254142523, 0.006483296130002466, 0.20098218003007645, 0.032416480650012326, 0.09076614582003452, 0.019449888390007396, 0.019449888390007396, 0.6353630207402416, 0.046597078767372443, 0.8853444965800764, 0.9521871984432232, 0.6670175137450195, 0.07616462959718215, 0.14078916380085185, 0.020772171708322407, 0.05770047696756224, 0.004616038157404979, 0.013848114472214937, 0.018464152629619916, 0.007612868678820449, 0.7993512112761471, 0.15987024225522942, 0.022838606036461345, 0.03409437079696704, 0.92054801151811, 0.8961817601190964, 0.019067697023810563, 0.07627078809524225, 0.9051232267893591, 0.8294311445740742, 0.09456688842453267, 0.06304459228302178, 0.7565351073962614, 0.03152229614151089, 0.3587019677182055, 0.13860670514801146, 0.292444916356244, 0.023608834393342614, 0.03960191575657471, 0.046456093483674174, 0.061687599543895216, 0.03884034045356365, 0.9602834007402109, 0.9408360110037233, 0.029401125343866352, 0.8804643417028859, 0.8681399733912739, 0.946633142396872, 0.8243737848270754, 0.051844188907913966, 0.23167871918224053, 0.08748706878210481, 0.04698379619779703, 0.03888314168093547, 0.4115132494565671, 0.08100654516861557, 0.050224058004541654, 0.10531365200272276, 0.20548267158002514, 0.3570980154115312, 0.09351125996793486, 0.0847351223010413, 0.036315052414731985, 0.06899859958799077, 0.048420069886309314, 0.9321620144892865, 0.9319376516234474, 0.03006250489107895, 0.1551173963020146, 0.06894106502311759, 0.7238811827427347, 0.017235266255779397, 0.034470532511558793, 0.09425103974806563, 0.15708506624677607, 0.03141701324935521, 0.015708506624677605, 0.047125519874032816, 0.5655062384883938, 0.07854253312338803, 0.04534666702894558, 0.07255466724631293, 0.7074080056515512, 0.036277333623156466, 0.06348533384052382, 0.018138666811578233, 0.018138666811578233, 0.04534666702894558, 0.9439118112175287, 0.9542862086897501, 0.07558767695868264, 0.9070521235041916, 0.05488915496704947, 0.15917854940444345, 0.09880047894068904, 0.03842240847693463, 0.043911323973639574, 0.5351692609287323, 0.032933492980229684, 0.0411668662252871, 0.8494632304009828, 0.7788957685577027, 0.008751637848962952, 0.008751637848962952, 0.008751637848962952, 0.17503275697925905, 0.008751637848962952, 0.9505533391967294, 0.15727543933310853, 0.036294332153794275, 0.10485029288873901, 0.008065407145287617, 0.5524803894522017, 0.0967848857434514, 0.04435973929908189, 0.2015551903310392, 0.18564293846279925, 0.06364900747295975, 0.010608167912159957, 0.0742571753851197, 0.0053040839560799784, 0.3925022127499184, 0.06895309142903971, 0.8054638939643953, 0.14008067721119918, 0.04512192601599422, 0.7512800681663038, 0.101524333535987, 0.04286582971519451, 0.004512192601599422, 0.004512192601599422, 0.0406097334143948, 0.009024385203198844, 0.23584394265777062, 0.05562357138154968, 0.171320599855173, 0.04449885710523974, 0.2024697998288408, 0.04449885710523974, 0.04672379996050173, 0.19801991411831685, 0.09559507568702566, 0.27592215027846045, 0.07386892212179255, 0.004345230713046621, 0.004345230713046621, 0.0021726153565233106, 0.4627670709394651, 0.08255938354788579, 0.045701795529974866, 0.045701795529974866, 0.8683341150695224, 0.9644413550624066, 0.9294787114414151, 0.8750497753600722, 0.9511353873845143, 0.8757843181109499, 0.06018248822011606, 0.06018248822011606, 0.06018248822011606, 0.8124635909715667, 0.04278274911501629, 0.8984377314153421, 0.9251101484498817, 0.9523267830821819, 0.07732843871563123, 0.07732843871563123, 0.7732843871563124, 0.07136855655825972, 0.07136855655825972, 0.7646631059813541, 0.010195508079751388, 0.06117304847850833, 0.010195508079751388, 0.9082365569296033, 0.9296946964725968, 0.7982710514667715, 0.010398425935633102, 0.8630693526575475, 0.031195277806899305, 0.010398425935633102, 0.06239055561379861, 0.010398425935633102, 0.8625109550864027, 0.08066815952151798, 0.8873497547366979, 0.04607209108875869, 0.16488958915976792, 0.1260920387692343, 0.043647244189350336, 0.06789571318343386, 0.4995184612781205, 0.04122239728994198, 0.01212423449704176, 0.918468454020299, 0.9035544426157378, 0.06950418789351828, 0.9121984960846402, 0.03552235137998323, 0.03552235137998323, 0.8880587844995809, 0.3718418269595792, 0.004829114635838691, 0.004829114635838691, 0.6036393294798363, 0.009658229271677383, 0.009658229271677383, 0.8279857548822052, 0.05015580164836598, 0.05015580164836598, 0.9028044296705876, 0.01810567586167417, 0.9596008206687311, 0.9185815228458282, 0.014236565155538656, 0.9680864305766287, 0.18885536281553733, 0.029054671202390355, 0.05810934240478071, 0.6392027664525879, 0.0726366780059759, 0.5191121979039698, 0.07806960788790171, 0.1703336899372401, 0.04866676855349717, 0.0446112045073724, 0.04156953147277883, 0.05373622361115312, 0.043597313495841214, 0.19314945860585508, 0.19830011083534455, 0.2832858726219208, 0.03219157643430918, 0.04635587006540522, 0.06824614204073547, 0.10172538153241702, 0.0785474464997144, 0.027351516439710257, 0.4348891113913931, 0.1914606150779718, 0.008205454931913077, 0.25436910288930537, 0.010940606575884103, 0.027351516439710257, 0.04376242630353641, 0.46786815242374646, 0.04204032673952504, 0.11662800321287592, 0.09764204920147752, 0.09764204920147752, 0.00406841871672823, 0.11120344492390495, 0.06238242032316619, 0.05618280336252643, 0.0031212668534736903, 0.012485067413894761, 0.35894568814947436, 0.30900541849389535, 0.012485067413894761, 0.24970134827789522, 0.9416103183333248, 0.11315657345339311, 0.10776816519370772, 0.048495674337168476, 0.029636245428269623, 0.03233044955811232, 0.6304437663831902, 0.013471020649213464, 0.024247837168584238, 0.9464761532287804, 0.1929218950803238, 0.235942805481511, 0.21913776235604726, 0.0067220172501854985, 0.006049815525166949, 0.0026888069000741994, 0.24737023480682635, 0.08805842597743004, 0.9011641316501994, 0.8969452099055818, 0.08932061932734972, 0.16781449691805098, 0.0866139338931876, 0.046013652380755915, 0.029773539775783238, 0.4709632655442076, 0.06766713585405282, 0.04060028151243169, 0.8995271117541755, 0.04088759598882616, 0.0756618000649331, 0.11349270009739965, 0.018915450016233275, 0.11349270009739965, 0.6620407505681646, 0.05236258882715604, 0.6243231744776296, 0.13694830924025425, 0.004027891448242772, 0.004027891448242772, 0.12889252634376872, 0.048334697378913265, 0.05553255455730141, 0.16659766367190423, 0.05553255455730141, 0.22213021822920564, 0.4886864801042524, 0.5355846210865607, 0.05446623265287058, 0.11574074438734998, 0.045388527210725484, 0.09077705442145097, 0.02723311632643529, 0.05219680629233431, 0.07942992261876959, 0.876205930393907, 0.11342458390037087, 0.793972087302596, 0.9553271552251588, 0.012463386772832487, 0.08308924515221658, 0.8765915363558849, 0.012463386772832487, 0.00415446225761083, 0.00415446225761083, 0.8862832739272172, 0.01166162202535812, 0.01166162202535812, 0.01166162202535812, 0.06996973215214872, 0.01166162202535812, 0.9161563091554675, 0.04362649091216512, 0.9276388511687489, 0.2574547584476705, 0.08727279947378662, 0.09163643944747595, 0.4232730774478651, 0.06981823957902929, 0.0043636399736893304, 0.026181839842135984, 0.03927275976320398, 0.07621229507555395, 0.038106147537776976, 0.8764413933688704, 0.9593596108100372, 0.00751826693599657, 0.857082430703609, 0.12029227097594512, 0.00751826693599657, 0.8750072107371809, 0.08110722285514982, 0.29277729225761395, 0.2799188300976512, 0.061324973378284006, 0.08011811038130652, 0.04549917379679136, 0.07715077295977665, 0.08110722285514982, 0.9426871786639439, 0.020389999207513054, 0.8971599651305744, 0.061169997622539156, 0.9605440755280349, 0.6678021759475049, 0.05985019501416318, 0.09765031818100307, 0.040950133430743225, 0.07245023606977648, 0.003150010263903325, 0.009450030791709975, 0.047250153958549874, 0.04236455029784029, 0.04236455029784029, 0.04236455029784029, 0.8049264556589655, 0.04236455029784029, 0.943023395380882, 0.027735982217084766, 0.18873193317587625, 0.029035682027057884, 0.05807136405411577, 0.6533028456088025, 0.07258920506764471, 0.9685571814716762, 0.8632611340478503, 0.12257438268372542, 0.23400563966893034, 0.03342937709556148, 0.04457250279408197, 0.022286251397040983, 0.4568681536393402, 0.06685875419112296, 0.03160776567384294, 0.6953708448245447, 0.07585863761722306, 0.012643106269537177, 0.08218019075199165, 0.012643106269537177, 0.018964659404305764, 0.07585863761722306, 0.09659321679028185, 0.8693389511125367, 0.10950859465791903, 0.05475429732895951, 0.05475429732895951, 0.7118058652764737, 0.04099645334028799, 0.04099645334028799, 0.8609255201460477, 0.8645805012272596, 0.8786161636256121, 0.5790387327934212, 0.016180723072071652, 0.01849225493951046, 0.08321514722779706, 0.14331497578120606, 0.03351721207786271, 0.0034672978011582108, 0.12366695490797619, 0.7411559763006268, 0.014353372780469886, 0.03523100591569881, 0.05480378697997593, 0.03784071005760243, 0.014353372780469886, 0.0026097041419036156, 0.0991687573923374, 0.09752960165794616, 0.7941696135004187, 0.05573120094739781, 0.027865600473698904, 0.013932800236849452, 0.8398799564217501, 0.057069742670389466, 0.2068778171801618, 0.11889529722997805, 0.0428023070027921, 0.0546918367257899, 0.46131375325231483, 0.04993602483659078, 0.011889529722997805, 0.07104202151844355, 0.8119088173536405, 0.010148860216920507, 0.010148860216920507, 0.030446580650761522, 0.020297720433841013, 0.030446580650761522, 0.011651505354454951, 0.023303010708909902, 0.8272568801663015, 0.1398180642534594, 0.8271947343750836, 0.8698358989230067, 0.6921493877951728, 0.013678841656031082, 0.019150378318443514, 0.22433300315890975, 0.0027357683312062165, 0.024621914980855947, 0.0027357683312062165, 0.019150378318443514, 0.5413057083717565, 0.010683665296810984, 0.028489774124829288, 0.38105072891959174, 0.003561221765603661, 0.010683665296810984, 0.007122443531207322, 0.017806108828018304, 0.9538586943928115, 0.8791090275986386, 0.006326711092761839, 0.4618499097716142, 0.0822472442059039, 0.006326711092761839, 0.3479691101019011, 0.006326711092761839, 0.006326711092761839, 0.08857395529866574, 0.197117882729365, 0.024639735341170626, 0.04927947068234125, 0.6652728542116069, 0.04927947068234125, 0.029214534135596756, 0.11685813654238703, 0.11685813654238703, 0.009738178045198918, 0.19476356090397837, 0.5258616144407415, 0.05470980121689273, 0.17254629614558475, 0.08627314807279238, 0.06943936308297922, 0.029459123732173007, 0.5218473346842075, 0.048397131845712794, 0.018938008113539788, 0.9687997400879266, 0.8715813208596032, 0.8761139988818331, 0.09918271685454713, 0.8679586285161394, 0.09764534570806567, 0.010849482856451742, 0.9722949919856957, 0.9434690164142606, 0.8206614278146567, 0.05861867341533262, 0.9548704933064314, 0.6469162242587752, 0.07867900024768887, 0.11947551889463866, 0.06847987058595142, 0.02476931489279094, 0.005828074092421398, 0.016027203754158843, 0.04225353717005513, 0.027935947668243418, 0.9498222207202762, 0.027935947668243418, 0.01832628231628093, 0.8613352688652038, 0.09163141158140466, 0.01832628231628093, 0.06339819870612977, 0.8875747818858168, 0.38431825530390684, 0.14914878139050536, 0.21852030761864738, 0.05619093624479504, 0.04856006835969942, 0.029136041015819653, 0.058272082031639305, 0.05619093624479504, 0.8250462842039007, 0.882163916735352, 0.8645069786980041, 0.13535308464761434, 0.01933615494965919, 0.05800846484897757, 0.01933615494965919, 0.5897527259646054, 0.07734461979863676, 0.09668077474829595, 0.014224256575059543, 0.9672494471040489, 0.9477335232303552, 0.07245954208635025, 0.18672266614559488, 0.0557381092971925, 0.04737739290261363, 0.01672143278915775, 0.4570524962369785, 0.04737739290261363, 0.11705002952410426, 0.013238573100805418, 0.30228075246839037, 0.14341787525872535, 0.013238573100805418, 0.48320791817939773, 0.013238573100805418, 0.004412857700268473, 0.026477146201610836, 0.23743680305162163, 0.1899494424412973, 0.050762350997243244, 0.045849865416864866, 0.009824971160756757, 0.018012447128054054, 0.3356865146591892, 0.11134967315524325, 0.8815809556212874, 0.8666169068461044, 0.8925569258604286, 0.8708356109629914, 0.6015781127000275, 0.06471158981235356, 0.08867884529841043, 0.10545592413865024, 0.06471158981235356, 0.014380353291634123, 0.02396725548605687, 0.03595088322908531, 0.5791792123203878, 0.006507631599105481, 0.006507631599105481, 0.013015263198210962, 0.37744263274811796, 0.013015263198210962, 0.9164129240647843, 0.048232259161304435, 0.04799975994573617, 0.08639956790232511, 0.009599951989147235, 0.05759971193488341, 0.01919990397829447, 0.7679961591317788, 0.01919990397829447, 0.9603234545711659, 0.9074386595382171, 0.2757607728578547, 0.1480399938500062, 0.3272844962076118, 0.0624090170151987, 0.06386038950392425, 0.03700999846250155, 0.05370078208284539, 0.03193019475196213, 0.1418946213321237, 0.24157266111088826, 0.2654172118030633, 0.08482405738036045, 0.06567023797189195, 0.06723381506646081, 0.06762470934010302, 0.06567023797189195, 0.02312871169778511, 0.9482771796091896, 0.5455354745702977, 0.06874634029137898, 0.12640456118092264, 0.11309881789872026, 0.031046734325138894, 0.01774099104293651, 0.037699605966240085, 0.05987584476991072, 0.08715797959631807, 0.8715797959631807, 0.9608442382122278, 0.9551838552208495, 0.16370728330471265, 0.1556152883124645, 0.1568602106189642, 0.02427598497674446, 0.052909198026237926, 0.3672520804174162, 0.05851134840548665, 0.020541218057245313, 0.8134124427995999, 0.0581764231709728, 0.8726463475645921, 0.023129257184890464, 0.948299544580509, 0.9649699859845683, 0.012371410076725235, 0.871694099737943, 0.01715978057858945, 0.9609477124010092, 0.9543737371988203, 0.28360657330925787, 0.6482435961354465, 0.19279640056908678, 0.10098859077428356, 0.18361561958960648, 0.0367231239179213, 0.4314967060355752, 0.02754234293844097, 0.02754234293844097, 0.04602725873477244, 0.828490657225904, 0.04602725873477244, 0.4302738740413806, 0.00614676962916258, 0.00614676962916258, 0.5286221881079819, 0.030733848145812905, 0.10576729209395389, 0.017627882015658982, 0.810882572720313, 0.07051152806263593, 0.956902521685073, 0.8046796631208656, 0.013873787295187338, 0.009249191530124892, 0.004624595765062446, 0.02312297882531223, 0.004624595765062446, 0.13873787295187337, 0.9027270159220296, 0.019467079043211835, 0.731962172024765, 0.0350407422777813, 0.007786831617284733, 0.116802474259271, 0.007786831617284733, 0.0817617319814897, 0.8876029454508729, 0.9343762974046872, 0.032219872324299556, 0.8938311696038546, 0.8348632916858597, 0.051534771091719736, 0.020613908436687894, 0.061841725310063676, 0.020613908436687894, 0.010306954218343947, 0.8784864043881898, 0.03660360018284124, 0.03660360018284124, 0.07318851195065408, 0.8782621434078489, 0.44300648218813116, 0.0037542922219333153, 0.018771461109666574, 0.43925218996619786, 0.015017168887733261, 0.0037542922219333153, 0.048805798885133096, 0.026280045553533204, 0.1063941410492479, 0.8245545931316712, 0.05319707052462395, 0.061403562665761455, 0.14398076763006135, 0.07410774804488451, 0.040229920367223025, 0.033877827677661496, 0.4954632297857993, 0.11857239687181523, 0.033877827677661496, 0.9307109064315765, 0.9702150152462533, 0.9549389785353678, 0.02422206685912636, 0.5571075377599063, 0.18950205248610624, 0.007124137311507753, 0.18380274263690002, 0.004274482386904652, 0.012823447160713956, 0.02279723939682481, 0.02120820369610934, 0.9331609626288109, 0.02120820369610934, 0.1711770700864505, 0.2139713376080631, 0.228727981581033, 0.05607524709728551, 0.029513287945939742, 0.13871245334591678, 0.06345356908377044, 0.09739385022160114, 0.8331536851866891, 0.012719903590636475, 0.0508796143625459, 0.012719903590636475, 0.012719903590636475, 0.012719903590636475, 0.05723956615786414, 0.0063599517953182375, 0.03771609990814474, 0.30172879926515794, 0.03771609990814474, 0.6034575985303159, 0.11950711681027679, 0.007469194800642299, 0.074691948006423, 0.0448151688038538, 0.7319810904629453, 0.007469194800642299, 0.0224075844019269, 0.13386444216222104, 0.27172483782182183, 0.2017956516176765, 0.0659332327067656, 0.17781993063339813, 0.029969651230347998, 0.03995953497379733, 0.07991906994759466, 0.24809774435124365, 0.0472567132097607, 0.1772126745366026, 0.0945134264195214, 0.011814178302440175, 0.03544253490732052, 0.38986788398052574, 0.8959003428810609, 0.04102919946993477, 0.9436715878084997, 0.08170394326438486, 0.3043471886598336, 0.2675804141908604, 0.058214059575874215, 0.08068264397358005, 0.049022365958630916, 0.0765974468103608, 0.08068264397358005, 0.8575025255863792, 0.01563849061591086, 0.14074641554319775, 0.8132015120273647, 0.01563849061591086, 0.9462687351792879, 0.8332770713976827, 0.2170096927331452, 0.193549185410643, 0.06842647969063137, 0.06060631058313064, 0.05669622602938027, 0.32844710251503056, 0.06842647969063137, 0.005865126830625546, 0.046804292806609686, 0.9360858561321937, 0.8903446618891555, 0.05564654136807222, 0.9555392448819733, 0.024501006279024955, 0.8730400128865403, 0.9381300581568455, 0.005894126030857838, 0.39785350708290407, 0.21808266314174002, 0.005894126030857838, 0.1856649699720219, 0.014735315077144595, 0.005894126030857838, 0.16503552886401948, 0.9410903324392474, 0.1343641682261121, 0.24203646464973053, 0.2777764285886627, 0.08143282922794673, 0.07102752327104242, 0.05383614821180922, 0.07690878315972746, 0.06288424034824774, 0.8377677565571862, 0.07830284802179795, 0.9004827522506763, 0.10060871792397065, 0.8752958459385447, 0.010060871792397065, 0.010060871792397065, 0.006932168823404255, 0.006932168823404255, 0.020796506470212767, 0.020796506470212767, 0.921978453512766, 0.006932168823404255, 0.020796506470212767, 0.30415778977544683, 0.10138592992514894, 0.08110874394011915, 0.020277185985029787, 0.020277185985029787, 0.43595949867814043, 0.03041577897754468, 0.027077155844715255, 0.08123146753414577, 0.08123146753414577, 0.027077155844715255, 0.6769288961178814, 0.08123146753414577, 0.027077155844715255, 0.9104930527709719, 0.1834127923789739, 0.16722931069847619, 0.08091740840248848, 0.16722931069847619, 0.016183481680497696, 0.3092843165606226, 0.039559621885661034, 0.037761457254494625, 0.8909908698398786, 0.15237440685017611, 0.13912445842842167, 0.06624974210877223, 0.536622911081055, 0.006624974210877222, 0.059624767897895004, 0.03974984526526333, 0.5668560282607887, 0.0040781009227394876, 0.024468605536436924, 0.09379632122300821, 0.012234302768218462, 0.008156201845478975, 0.0040781009227394876, 0.2813889636690246, 0.8565547421354472, 0.06588882631811133, 0.9663008653191685, 0.8650216391649078, 0.03523529276068401, 0.7248403082197854, 0.09563865177899947, 0.005033613251526288, 0.005033613251526288, 0.10067226503052575, 0.03523529276068401, 0.9076194011808075, 0.892510911175375, 0.055781931948460935, 0.5387182374439438, 0.052134022978446166, 0.13522262210034475, 0.06951203063792823, 0.06733977968049297, 0.010861254787176285, 0.07385653255279874, 0.05159096023908735, 0.9318821841495094, 0.020385175783948793, 0.10192587891974397, 0.8561773829258493, 0.020385175783948793, 0.903234044665626, 0.1540231909100459, 0.7701159545502295, 0.8821111940941858, 0.9125550215337088, 0.010359792500376813, 0.7977040225290145, 0.05179896250188406, 0.04143917000150725, 0.020719585000753625, 0.07251854750263768, 0.08714722740896083, 0.8714722740896083, 0.08426346476908632, 0.08426346476908632, 0.10111615772290358, 0.016852692953817264, 0.6572550251988734, 0.06741077181526905, 0.11130034883375715, 0.31029188159714116, 0.24890805284640236, 0.08701663636093741, 0.058685638475981045, 0.042496496827434546, 0.0634074714568071, 0.07892206553666416, 0.9463181186875627, 0.9288169326991308, 0.04422937774757765, 0.022114688873788826, 0.022209487414078254, 0.13325692448446952, 0.022209487414078254, 0.8217510343208954, 0.022209487414078254, 0.007567543378334477, 0.4162148858083962, 0.07567543378334478, 0.11351315067501716, 0.007567543378334477, 0.37080962553838936, 0.05310310754555392, 0.10620621509110784, 0.03982733065916544, 0.7036161749785894, 0.05310310754555392, 0.01327577688638848, 0.10155337179882663, 0.48088508410620845, 0.21804106297983364, 0.047789822022977234, 0.07765846078733801, 0.008960591629308233, 0.03285550264079685, 0.026881774887924696, 0.026343875998172544, 0.9483795359342115, 0.019300485549833903, 0.8492213641926917, 0.03860097109966781, 0.057901456649501706, 0.9159157643973588, 0.01795913263524233, 0.01795913263524233, 0.01795913263524233, 0.21592504189184233, 0.186235348631714, 0.15384659234793766, 0.10526345792227314, 0.018893441165536203, 0.008097189070944089, 0.25101286119926675, 0.05937938652025664, 0.8939079364096987, 0.16186825410972847, 0.048560476232918544, 0.04451376988017533, 0.004046706352743212, 0.7203137307882916, 0.012140119058229636, 0.004046706352743212, 0.8585894154626035, 0.05009201155426304, 0.27165283189042644, 0.14642280300476887, 0.0346790849221821, 0.0346790849221821, 0.3544973125378615, 0.07513801733139455, 0.03275246909317198, 0.3413534298376883, 0.06693204506621339, 0.020079613519864016, 0.013386409013242678, 0.006693204506621339, 0.5354563605297071, 0.020079613519864016, 0.7747553014766168, 0.18228950127047636, 0.20692321765837857, 0.22663019076870033, 0.08868137899644796, 0.036950574581853315, 0.059120919330965305, 0.04926743277580442, 0.14780229832741326, 0.9437533241041883, 0.8803322345198656, 0.9590779414096386, 0.8970924482694241, 0.028743176293444434, 0.019162117528962956, 0.881457406332296, 0.009581058764481478, 0.009581058764481478, 0.03832423505792591, 0.0685055139643549, 0.0685055139643549, 0.8220661675722588, 0.5149921638540279, 0.0846562461129909, 0.10405663584721797, 0.044973630747526416, 0.058201169202681244, 0.007054687176082574, 0.11463866661134184, 0.0723105435548464, 0.9400806497926085, 0.07262786332589374, 0.39037476537667887, 0.009078482915736718, 0.009078482915736718, 0.48115959453404605, 0.03631393166294687, 0.29323278318987916, 0.0799725772336034, 0.03732053604234826, 0.43718342221036527, 0.010663010297813786, 0.005331505148906893, 0.11196160812704477, 0.026657525744534467, 0.03457345593797959, 0.011524485312659866, 0.011524485312659866, 0.8989098543874695, 0.03457345593797959, 0.08949391787683937, 0.5405432639761097, 0.13245099845772226, 0.08949391787683937, 0.11813197159742796, 0.0035797567150735745, 0.010739270145220725, 0.014319026860294298, 0.8613625174048325, 0.34164436691007766, 0.08829011729136839, 0.08445141653956975, 0.4184183819460502, 0.06141921202877801, 0.0038387007517986255, 0.0038387007517986255, 0.29672008198593597, 0.16745802445169913, 0.2345707120863363, 0.06258096274612468, 0.052438530852787234, 0.07466556244882462, 0.0580492378576122, 0.053733309392362226, 0.9285642015364192, 0.9140519507468297, 0.0033044932167541233, 0.482456009646102, 0.05948087790157422, 0.0066089864335082465, 0.40645266566075716, 0.0033044932167541233, 0.0033044932167541233, 0.03304493216754124, 0.6172327605772401, 0.07335659459441389, 0.12522489380258534, 0.05112732350519756, 0.05853708053493634, 0.013337562653529797, 0.03334390663382449, 0.027416101010033472, 0.882288339171902, 0.8656800943371332, 0.024822850610066387, 0.6602878262277658, 0.1985828048805311, 0.009929140244026554, 0.059574841464159325, 0.024822850610066387, 0.009929140244026554, 0.014893710366039831, 0.08731569826917507, 0.44476433805861054, 0.22374647681476112, 0.10641600726555712, 0.060029542560057866, 0.03274338685094065, 0.010914462283646884, 0.03820061799276409, 0.9604875603069002, 0.26994964608226546, 0.008708053099427918, 0.6966442479542334, 0.008708053099427918, 0.9341118996565835, 0.03221075516057185, 0.08676463032513558, 0.1662988747898432, 0.021691157581283895, 0.11568617376684745, 0.007230385860427966, 0.07953424446470762, 0.46997508092781776, 0.04338231516256779, 0.022857006186599766, 0.1066660288707989, 0.6552341773491933, 0.007619002062199922, 0.007619002062199922, 0.022857006186599766, 0.15238004124399843, 0.030476008248799688, 0.028484686127613845, 0.08545405838284154, 0.028484686127613845, 0.7975712115731877, 0.028484686127613845, 0.31954358674820055, 0.003994294834352506, 0.003994294834352506, 0.631098583827696, 0.01198288450305752, 0.015977179337410025, 0.007988589668705012, 0.9686033163918132, 0.9671796344828109, 0.2971272930965287, 0.016060934761974524, 0.04818280428592357, 0.03212186952394905, 0.016060934761974524, 0.008030467380987262, 0.521980379764172, 0.056213271666910834, 0.047967051383815976, 0.9113739762925035, 0.9628789791267308, 0.9212417793301575, 0.021676277160709585, 0.010838138580354793, 0.010838138580354793, 0.010838138580354793, 0.010838138580354793, 0.012856840579620873, 0.7456967536180107, 0.16285331400853106, 0.004285613526540291, 0.0471417487919432, 0.017142454106161165, 0.004285613526540291, 0.004285613526540291, 0.9150814382800528, 0.06871451183270894, 0.22332216345630404, 0.11166108172815202, 0.008589313979088617, 0.5411267806825828, 0.017178627958177234, 0.008589313979088617, 0.017178627958177234, 0.9604906174210006, 0.03812553049887075, 0.03812553049887075, 0.0762510609977415, 0.03812553049887075, 0.762510609977415, 0.8351735226740545, 0.8230466278986877, 0.02695116466713499, 0.7142058636790772, 0.1145424498353237, 0.006737791166783747, 0.013475582333567495, 0.006737791166783747, 0.12128024100210745, 0.7518307535290251, 0.011808860003073693, 0.019681433338456154, 0.153515180039958, 0.051171726679986, 0.003936286667691231, 0.003936286667691231, 0.030340977791687106, 0.15170488895843554, 0.7281834670004906, 0.06068195558337421, 0.02469654787283543, 0.5898116727277168, 0.22590077613093587, 0.021064702597418456, 0.10968172731759265, 0.010169166771167531, 0.00581095244066716, 0.012348273936417716, 0.008500312568744436, 0.07650281311869993, 0.8670318820119325, 0.025500937706233306, 0.017000625137488873, 0.06095392399819137, 0.09143088599728705, 0.030476961999095685, 0.030476961999095685, 0.030476961999095685, 0.761924049977392, 0.008445775751934968, 0.7263367146664073, 0.16891551503869937, 0.008445775751934968, 0.05912043026354478, 0.008445775751934968, 0.008445775751934968, 0.008445775751934968, 0.45799469136100796, 0.10508103308282866, 0.14473425311408478, 0.03172257602500488, 0.16257820212815, 0.037670559029693296, 0.03172257602500488, 0.029739915023442073, 0.4090057558064721, 0.15905779392473915, 0.07763535179659888, 0.10793207444893015, 0.034083812983872676, 0.02272254198924845, 0.12402720835798113, 0.06532730821908929, 0.9390993560598676, 0.04083040678521163, 0.915047046377821, 0.8878758153500772, 0.03514898478679845, 0.03514898478679845, 0.8260011424897635, 0.08787246196699612, 0.9461815722410153, 0.15602040954096952, 0.22453730896901433, 0.24517492927866638, 0.09369479620582032, 0.06191286092895616, 0.07966121439525692, 0.07140616627139611, 0.0672786422094657, 0.9787090364186957, 0.9424421162111581, 0.9423619395413618, 0.056187071528838714, 0.028093535764419357, 0.056187071528838714, 0.028093535764419357, 0.08428060729325806, 0.7585254656393227, 0.8254264954885551, 0.9413632859584816, 0.13262891994156567, 0.42861785103066957, 0.21026536088296996, 0.024261387794188842, 0.10189782873559314, 0.059844756558999145, 0.019409110235351076, 0.02264396194124292, 0.3878724323281834, 0.11946368371773528, 0.23713284858134148, 0.03332677871953988, 0.05357920578756797, 0.08382966647145801, 0.05486100496908873, 0.029994100847585897, 0.4856549698916002, 0.08503686243238136, 0.19275022151339774, 0.08125744632427552, 0.06802948994590509, 0.011338248324317514, 0.026455912756740866, 0.05102211745942881, 0.8837583903292596, 0.05891722602195064, 0.293549805168149, 0.1601180755462631, 0.10674538369750872, 0.021349076739501743, 0.15478080636138764, 0.010674538369750871, 0.021349076739501743, 0.22950257494964374, 0.9370735972804122, 0.023463751099880983, 0.9385500439952393, 0.9554004996884046, 0.9398898975115083, 0.011229051506002253, 0.8983241204801803, 0.03368715451800676, 0.011229051506002253, 0.04491620602400901, 0.5933291400393906, 0.05277590733504014, 0.11674670410478577, 0.060772256931258345, 0.0751656862044511, 0.019191239030923686, 0.03998174798109102, 0.04477955773882194, 0.053422523857683965, 0.01780750795256132, 0.07123003181024529, 0.19588258747817452, 0.17807507952561322, 0.46299520676659434, 0.05042910559454804, 0.9077239007018647, 0.8418373728069759, 0.7707001856578801, 0.08713432964080163, 0.8713432964080163, 0.2786576149111356, 0.1315883181524807, 0.34187161088634693, 0.03354212031337744, 0.06450407752572584, 0.05676358822263874, 0.06579415907624035, 0.02709171256080485, 0.39763773061406665, 0.11017878785764765, 0.23195534285820557, 0.045562656632861805, 0.10272308040863389, 0.02568077010215847, 0.05136154020431694, 0.03562171336751014, 0.14346058043381735, 0.7890331923859953, 0.2998073906098719, 0.1371459340023882, 0.2431948248298163, 0.10285945050179116, 0.062194086349920234, 0.043057444396098626, 0.04624688472173556, 0.06538352667555718, 0.09529470536913841, 0.8576523483222457, 0.9391304698876864, 0.04083175956033419, 0.004887746339984637, 0.06354070241980028, 0.821141385117419, 0.058652956079815646, 0.004887746339984637, 0.004887746339984637, 0.04398971705986173, 0.8141598343684724, 0.022408068835829516, 0.029877425114439356, 0.08963227534331807, 0.014938712557219678, 0.007469356278609839, 0.014938712557219678, 0.09271983557409089, 0.09271983557409089, 0.7881186023797725, 0.2710517869827164, 0.0028531767050812254, 0.0028531767050812254, 0.5535162807857578, 0.11412706820324901, 0.0028531767050812254, 0.05135718069146206, 0.4234951396451972, 0.002961504473043337, 0.00888451341913001, 0.3287269965078104, 0.15695973707129685, 0.011846017892173348, 0.032576549203476704, 0.03553805367652004, 0.4096772484015985, 0.0014579261508953685, 0.004373778452686106, 0.47819977749368087, 0.0743542336956638, 0.0014579261508953685, 0.0014579261508953685, 0.027700596867012, 0.08863031134960486, 0.09278485719411758, 0.3268242731016679, 0.06370303628252849, 0.020772729222563638, 0.2935879063455661, 0.07755152243090425, 0.03739091260061455, 0.9025709025701626, 0.05309240603353897, 0.026546203016769486, 0.04794451319288793, 0.19177805277155172, 0.0719167697893319, 0.6472509281039871, 0.023972256596443964, 0.04702533812499421, 0.05878167265624276, 0.011756334531248552, 0.8582124207811443, 0.011756334531248552, 0.17187780224940874, 0.026442738807601344, 0.0925495858266047, 0.03966410821140202, 0.5949616231710303, 0.06610684701900336, 0.013492482444420788, 0.013492482444420788, 0.9039963237761929, 0.06746241222210395, 0.013492482444420788, 0.013855782355994946, 0.013855782355994946, 0.9006258531396715, 0.05542312942397978, 0.013855782355994946, 0.8435838007073881, 0.04071869067451922, 0.04071869067451922, 0.8958111948394228, 0.8376443232436961, 0.16329290318131537, 0.046655115194661534, 0.09331023038932307, 0.6764991703225922, 0.046655115194661534, 0.012348159940397634, 0.024696319880795268, 0.8149785560662438, 0.012348159940397634, 0.06174079970198817, 0.06174079970198817, 0.012348159940397634, 0.11651954350778733, 0.23039091557221586, 0.2630516967069744, 0.14035308649801656, 0.07326607659959354, 0.04501891453709965, 0.0617906670117054, 0.07061790515623474, 0.3325327662605902, 0.01278972177925347, 0.6394860889626734, 0.01278972177925347, 0.16160952595400566, 0.2351625794330723, 0.2703851684230479, 0.04143833998820658, 0.04765409098643756, 0.1367465219610817, 0.07148113647965634, 0.03522258898997559, 0.9522515671649378, 0.022246055578542933, 0.8675961675631744, 0.022246055578542933, 0.08898422231417173, 0.0205339830391181, 0.0410679660782362, 0.0616019491173543, 0.8624272876429603, 0.917787568962229, 0.05398750405660171, 0.02370028480201053, 0.2824283938906255, 0.027650332269012284, 0.03357540346951492, 0.01580018986800702, 0.5767069301822563, 0.03357540346951492, 0.00790009493400351, 0.061764060119996404, 0.9110198867699469, 0.015441015029999101, 0.015441015029999101, 0.030764991931819346, 0.09229497579545803, 0.8306547821591224, 0.9266327958171041, 0.920714513449801, 0.1438214611056294, 0.7910180360809618, 0.023869753786407197, 0.19095803029125757, 0.7638321211650303, 0.91220398723769, 0.05701274920235563, 0.016426251086750478, 0.09034438097712763, 0.15604938532412954, 0.032852502173500955, 0.008213125543375239, 0.6734762945567696, 0.024639376630125717, 0.016426251086750478, 0.06523370175054576, 0.17706290475148134, 0.03727640100031186, 0.10251010275085762, 0.01863820050015593, 0.5684651152547558, 0.03727640100031186, 0.9430513236248091, 0.025563790156131007, 0.2025438758524226, 0.20647676664567352, 0.013765117776378235, 0.07865781586501848, 0.41295353329134704, 0.041295353329134706, 0.01966445396625462, 0.9288232821898021, 0.341636622107268, 0.14507856555240148, 0.19889803341861492, 0.043289571979345604, 0.05615944472996186, 0.062009386889332885, 0.10646894730055269, 0.047969525706842424, 0.4611012942591183, 0.03198390480410069, 0.05330650800683448, 0.2878551432369062, 0.04531053180580931, 0.015991952402050345, 0.06130248420785966, 0.04264520640546759, 0.3508626549060395, 0.1173617242891282, 0.1907128019698333, 0.09780143690760683, 0.09046632913953633, 0.04034309272438782, 0.08190870341012073, 0.030562949033627135, 0.32100059309745826, 0.1808953618560262, 0.07980677728942331, 0.02660225909647444, 0.0017734839397649626, 0.012414387578354738, 0.3174536252179283, 0.06029845395200873, 0.14554436494522435, 0.02910887298904487, 0.21831654741783652, 0.04366330948356731, 0.5385141502973301, 0.9470868916207119, 0.944026050275019, 0.014386416036061793, 0.07193208018030897, 0.007193208018030897, 0.017983020045077243, 0.007193208018030897, 0.8487985461276458, 0.02157962405409269, 0.007193208018030897, 0.007904070049527298, 0.007904070049527298, 0.007904070049527298, 0.9722006160918576, 0.7463722538983121, 0.01811583140529884, 0.03260849652953791, 0.09420232330755395, 0.04710116165377697, 0.003623166281059767, 0.02536216396741837, 0.03260849652953791, 0.25309608645029763, 0.17650121818244438, 0.3063794730714129, 0.09768620880537802, 0.04107261052044303, 0.06549416272178754, 0.031081975528983917, 0.02886183441977078, 0.30634280603300257, 0.16462347053175372, 0.15746592833472095, 0.18180157180463236, 0.08589050636439324, 0.020041118151691757, 0.04437676162160317, 0.04008223630338351, 0.18604959496894885, 0.19625680466799345, 0.27373880556528635, 0.10160813291321646, 0.0849054261329617, 0.031085593174363026, 0.07377028827945853, 0.052427940726910774, 0.12194606195746426, 0.3133550705995601, 0.11885881988259175, 0.08335553602155785, 0.020067073486671333, 0.3025497233375063, 0.013892589336926308, 0.027785178673852617, 0.0846635158863738, 0.08819116238163938, 0.03880411144792133, 0.024693525466859028, 0.0070552929905311505, 0.7125845920436462, 0.03527646495265575, 0.0070552929905311505, 0.030789040952107737, 0.9544602695153399, 0.9556196091878781, 0.024503066902253286, 0.038476884892237134, 0.057715327338355694, 0.884968352521454, 0.3139598432676334, 0.19018721274866254, 0.22741963005924726, 0.09157162095305975, 0.07043970842543057, 0.02012563097869445, 0.03220100956591112, 0.05333292209354029, 0.023376569177897228, 0.8649330595821975, 0.09350627671158891, 0.0565916960678592, 0.10914112813087132, 0.10509886412602423, 0.016169056019388343, 0.6831426168191574, 0.008084528009694171, 0.024253584029082516, 0.9178227194364902, 0.014120349529792157, 0.014120349529792157, 0.028240699059584314, 0.014120349529792157, 0.014120349529792157, 0.23406083071076178, 0.12483244304573961, 0.015604055380717451, 0.5461419383251108, 0.015604055380717451, 0.046812166142152355, 0.010431890442558012, 0.06259134265534808, 0.907574468502547, 0.010431890442558012, 0.02459279611894497, 0.9345262525199088, 0.02459279611894497], \"Term\": [\"acad\", \"acad\", \"acad\", \"acad\", \"access\", \"access\", \"access\", \"access\", \"access\", \"access\", \"access\", \"access\", \"acronym\", \"acronym\", \"ad\", \"ad\", \"ad\", \"ad\", \"ad\", \"ad\", \"ad\", \"ad\", \"adam\", \"adam\", \"adam\", \"adam\", \"adam\", \"adam\", \"adam\", \"adam\", \"adl\", \"adl\", \"adl\", \"adl\", \"advertising\", \"advertising\", \"advertising\", \"advertising\", \"agdam\", \"agee\", \"ahmed\", \"ahmed\", \"ahmed\", \"aiu\", \"alaa\", \"alaska\", \"alaska\", \"alaska\", \"alaska\", \"ambulance\", \"amendment\", \"amendment\", \"amendment\", \"amendment\", \"amendment\", \"amendment\", \"amendment\", \"american\", \"american\", \"american\", \"american\", \"american\", \"american\", \"american\", \"american\", \"anania\", \"anania\", \"andy\", \"andy\", \"andy\", \"andy\", \"andy\", \"andy\", \"angmar\", \"ann\", \"anneser\", \"anonymous\", \"anonymous\", \"anonymous\", \"anonymous\", \"anonymous\", \"anonymous\", \"anwar\", \"apartment\", \"apartment\", \"apartment\", \"apartment\", \"apartment\", \"apartment\", \"appliance\", \"apr\", \"apr\", \"apr\", \"apr\", \"apr\", \"apr\", \"apr\", \"apr\", \"april\", \"april\", \"april\", \"april\", \"april\", \"april\", \"april\", \"april\", \"arab\", \"arab\", \"arab\", \"arab\", \"arab\", \"arab\", \"arab\", \"arab\", \"arbor\", \"arcade\", \"arcade\", \"argic\", \"argic\", \"argic\", \"argic\", \"argic\", \"argic\", \"argic\", \"armenia\", \"armenia\", \"armenia\", \"armenia\", \"armenia\", \"armenia\", \"armenia\", \"armenian\", \"armenian\", \"armenian\", \"armenian\", \"armenian\", \"armenian\", \"armenian\", \"armenian\", \"article\", \"article\", \"article\", \"article\", \"article\", \"article\", \"article\", \"article\", \"asala\", \"asala\", \"assailant\", \"astronaut\", \"astronaut\", \"astronaut\", \"astronaut\", \"astronaut\", \"astronaut\", \"astronomical\", \"astronomical\", \"astronomical\", \"astronomy\", \"astronomy\", \"astronomy\", \"astronomy\", \"astronomy\", \"astronomy\", \"astronomy\", \"atan\", \"attack\", \"attack\", \"attack\", \"attack\", \"attack\", \"attack\", \"attack\", \"attack\", \"audio\", \"audio\", \"audio\", \"audio\", \"audio\", \"audio\", \"aurora\", \"aurora\", \"aurora\", \"aurora\", \"auto\", \"auto\", \"auto\", \"auto\", \"auto\", \"auto\", \"auto\", \"available\", \"available\", \"available\", \"available\", \"available\", \"available\", \"available\", \"available\", \"avi\", \"avi\", \"awesley\", \"azerbadjan\", \"azerbaijan\", \"azerbaijan\", \"azerbaijan\", \"azerbaijan\", \"azerbaijani\", \"azerbaijani\", \"azerbaijanis\", \"b\", \"b\", \"b\", \"b\", \"b\", \"b\", \"b\", \"b\", \"baalke\", \"baalke\", \"baalke\", \"baalke\", \"baalke\", \"babb\", \"babb\", \"babb\", \"babb\", \"backer\", \"baden\", \"baku\", \"balcony\", \"basil\", \"basil\", \"basil\", \"batf\", \"batf\", \"batf\", \"batf\", \"batf\", \"batf\", \"batf\", \"beat\", \"beat\", \"beat\", \"beat\", \"beat\", \"beat\", \"beat\", \"belton\", \"biased\", \"biased\", \"biased\", \"biased\", \"biberdorf\", \"billion\", \"billion\", \"billion\", \"billion\", \"billion\", \"billion\", \"billion\", \"billq\", \"bj\", \"blakey\", \"blast\", \"blast\", \"blast\", \"blast\", \"blast\", \"bm\", \"bm\", \"bm\", \"bm\", \"bm\", \"boi\", \"boi\", \"bony\", \"bony\", \"bony\", \"bony\", \"bony\", \"bony\", \"book\", \"book\", \"book\", \"book\", \"book\", \"book\", \"book\", \"book\", \"brader\", \"brader\", \"brainwashing\", \"breaker\", \"breaker\", \"brent\", \"brent\", \"bulb\", \"bulb\", \"bulb\", \"bulb\", \"bx\", \"c\", \"c\", \"c\", \"c\", \"c\", \"c\", \"c\", \"c\", \"cable\", \"cable\", \"cable\", \"cable\", \"cable\", \"cable\", \"cadlab\", \"caltran\", \"canon\", \"canon\", \"canon\", \"car\", \"car\", \"car\", \"car\", \"car\", \"car\", \"car\", \"car\", \"carbine\", \"carbine\", \"carry\", \"carry\", \"carry\", \"carry\", \"carry\", \"carry\", \"carry\", \"carry\", \"casper\", \"cathy\", \"cathy\", \"cathy\", \"centaur\", \"centaur\", \"centaur\", \"center\", \"center\", \"center\", \"center\", \"center\", \"center\", \"center\", \"center\", \"child\", \"child\", \"child\", \"child\", \"child\", \"child\", \"child\", \"child\", \"chopin\", \"chopin\", \"chopin\", \"chopin\", \"chopin\", \"circuit\", \"circuit\", \"circuit\", \"circuit\", \"circuit\", \"circuit\", \"circuit\", \"circuit\", \"civilian\", \"civilian\", \"civilian\", \"civilian\", \"civilian\", \"civilian\", \"civilian\", \"claim\", \"claim\", \"claim\", \"claim\", \"claim\", \"claim\", \"claim\", \"claim\", \"claudio\", \"claudio\", \"clinton\", \"clinton\", \"clinton\", \"clinton\", \"clinton\", \"clinton\", \"clinton\", \"columbia\", \"columbia\", \"columbia\", \"columbia\", \"columbia\", \"columbia\", \"columbia\", \"com\", \"com\", \"com\", \"com\", \"com\", \"com\", \"com\", \"com\", \"come\", \"come\", \"come\", \"come\", \"come\", \"come\", \"come\", \"come\", \"comet\", \"comet\", \"comet\", \"comet\", \"comet\", \"comet\", \"command\", \"command\", \"command\", \"command\", \"command\", \"command\", \"command\", \"commercial\", \"commercial\", \"commercial\", \"commercial\", \"commercial\", \"commercial\", \"commercial\", \"commercial\", \"compound\", \"compound\", \"compound\", \"compound\", \"compound\", \"compound\", \"compound\", \"compound\", \"conductor\", \"conductor\", \"conductor\", \"conductor\", \"connect\", \"connect\", \"connect\", \"connect\", \"connect\", \"connect\", \"connect\", \"control\", \"control\", \"control\", \"control\", \"control\", \"control\", \"control\", \"control\", \"convex\", \"convex\", \"convex\", \"convex\", \"cooper\", \"cooper\", \"cooper\", \"cop\", \"cop\", \"cop\", \"cop\", \"cop\", \"cosmo\", \"cost\", \"cost\", \"cost\", \"cost\", \"cost\", \"cost\", \"cost\", \"cost\", \"courtyard\", \"cranston\", \"crary\", \"crary\", \"crary\", \"crary\", \"criminal\", \"criminal\", \"criminal\", \"criminal\", \"criminal\", \"criminal\", \"criminal\", \"criminal\", \"crowd\", \"crowd\", \"crowd\", \"crowd\", \"csa\", \"csa\", \"csa\", \"cult\", \"cult\", \"cult\", \"cult\", \"cult\", \"cunixb\", \"cyprus\", \"cyprus\", \"cyprus\", \"cyprus\", \"cyprus\", \"cyprus\", \"cz\", \"d\", \"d\", \"d\", \"d\", \"d\", \"d\", \"d\", \"d\", \"dangerous\", \"dangerous\", \"dangerous\", \"dangerous\", \"dangerous\", \"dangerous\", \"dangerous\", \"dangerous\", \"datum\", \"datum\", \"datum\", \"datum\", \"datum\", \"datum\", \"datum\", \"datum\", \"davi\", \"dct\", \"de\", \"de\", \"de\", \"de\", \"de\", \"de\", \"de\", \"de\", \"deaf\", \"deaf\", \"deaf\", \"degan\", \"degan\", \"deskjet\", \"detector\", \"detector\", \"detector\", \"detector\", \"detector\", \"detector\", \"detector\", \"detroit\", \"detroit\", \"diaspar\", \"didn\", \"didn\", \"didn\", \"didn\", \"didn\", \"didn\", \"didn\", \"didn\", \"digex\", \"digex\", \"digex\", \"digex\", \"dir\", \"dir\", \"directory\", \"directory\", \"directory\", \"dnd\", \"dnewman\", \"documentary\", \"documentary\", \"documentary\", \"documentary\", \"don\", \"don\", \"don\", \"don\", \"don\", \"don\", \"don\", \"don\", \"dong\", \"dorin\", \"dorin\", \"dre\", \"dublin\", \"dundee\", \"duteinh\", \"e\", \"e\", \"e\", \"e\", \"e\", \"e\", \"e\", \"e\", \"edu\", \"edu\", \"edu\", \"edu\", \"edu\", \"edu\", \"edu\", \"edu\", \"een\", \"egalon\", \"egalon\", \"empire\", \"empire\", \"empire\", \"empire\", \"empire\", \"enforcement\", \"enforcement\", \"enforcement\", \"enforcement\", \"enforcement\", \"enforcement\", \"enforcement\", \"eng\", \"eng\", \"eng\", \"eng\", \"eng\", \"eng\", \"eng\", \"eng\", \"entryway\", \"enzo\", \"esin\", \"esin\", \"f\", \"f\", \"f\", \"f\", \"f\", \"f\", \"f\", \"f\", \"fadeley\", \"faq\", \"faq\", \"faq\", \"faq\", \"faq\", \"faq\", \"farid\", \"fbi\", \"fbi\", \"fbi\", \"fbi\", \"fbi\", \"fbi\", \"fbi\", \"federal\", \"federal\", \"federal\", \"federal\", \"federal\", \"federal\", \"federal\", \"federal\", \"feustel\", \"feustel\", \"file\", \"file\", \"file\", \"file\", \"file\", \"file\", \"file\", \"file\", \"fire\", \"fire\", \"fire\", \"fire\", \"fire\", \"fire\", \"fire\", \"fire\", \"firearm\", \"firearm\", \"firearm\", \"firearm\", \"firearm\", \"firearm\", \"firearm\", \"firearm\", \"fixture\", \"fixture\", \"fixture\", \"flax\", \"flea\", \"fluorescent\", \"flyback\", \"foke\", \"forge\", \"forge\", \"forge\", \"forge\", \"fox\", \"fox\", \"foxvog\", \"fpu\", \"fran\", \"fran\", \"fran\", \"fred\", \"fred\", \"fred\", \"fred\", \"fred\", \"fred\", \"fredom\", \"frej\", \"frode\", \"ftp\", \"ftp\", \"ftp\", \"ftp\", \"ftp\", \"ftp\", \"fujitsu\", \"fuse\", \"fuse\", \"g\", \"g\", \"g\", \"g\", \"g\", \"g\", \"g\", \"g\", \"garfiel\", \"gazan\", \"gazan\", \"gca\", \"gehrel\", \"gehrel\", \"gehrel\", \"genocide\", \"genocide\", \"genocide\", \"genocide\", \"genocide\", \"genocide\", \"gentleman\", \"geode\", \"geode\", \"geode\", \"gfci\", \"gfci\", \"gfcis\", \"glock\", \"glock\", \"gnv\", \"gnv\", \"gnv\", \"gnv\", \"gnv\", \"go\", \"go\", \"go\", \"go\", \"go\", \"go\", \"go\", \"go\", \"good\", \"good\", \"good\", \"good\", \"good\", \"good\", \"good\", \"good\", \"gov\", \"gov\", \"gov\", \"gov\", \"gov\", \"gov\", \"gov\", \"gov\", \"government\", \"government\", \"government\", \"government\", \"government\", \"government\", \"government\", \"government\", \"greek\", \"greek\", \"greek\", \"greek\", \"greek\", \"greek\", \"greek\", \"greig\", \"ground\", \"ground\", \"ground\", \"ground\", \"ground\", \"ground\", \"ground\", \"ground\", \"grounding\", \"gun\", \"gun\", \"gun\", \"gun\", \"gun\", \"gun\", \"gun\", \"gun\", \"gunduz\", \"gypsy\", \"h\", \"h\", \"h\", \"h\", \"h\", \"h\", \"h\", \"h\", \"haine\", \"haine\", \"ham\", \"ham\", \"ham\", \"ham\", \"ham\", \"handgun\", \"handgun\", \"handgun\", \"handgun\", \"handgun\", \"handgun\", \"handgun\", \"handheld\", \"handheld\", \"handheld\", \"handheld\", \"handheld\", \"happen\", \"happen\", \"happen\", \"happen\", \"happen\", \"happen\", \"happen\", \"happen\", \"hay\", \"heartless\", \"heartless\", \"heghinian\", \"henry\", \"henry\", \"henry\", \"henry\", \"henry\", \"henry\", \"hernlem\", \"hernlem\", \"hernlem\", \"hernlem\", \"hernlem\", \"hernlem\", \"het\", \"het\", \"hilmi\", \"history\", \"history\", \"history\", \"history\", \"history\", \"history\", \"history\", \"history\", \"hizbollah\", \"hizbollah\", \"hizbollah\", \"hojali\", \"homicide\", \"homicide\", \"homicide\", \"homicide\", \"honorary\", \"host\", \"host\", \"host\", \"host\", \"host\", \"host\", \"host\", \"host\", \"hovig\", \"hr\", \"hr\", \"hr\", \"hst\", \"human\", \"human\", \"human\", \"human\", \"human\", \"human\", \"human\", \"human\", \"idbsu\", \"idbsu\", \"idbsu\", \"idbsu\", \"idbsu\", \"idf\", \"idf\", \"ifas\", \"ifas\", \"ifas\", \"ifas\", \"ifas\", \"igor\", \"ilhan\", \"illegal\", \"illegal\", \"illegal\", \"illegal\", \"illegal\", \"illegal\", \"illegal\", \"image\", \"image\", \"image\", \"image\", \"image\", \"image\", \"image\", \"image\", \"insulation\", \"insulation\", \"interim\", \"interim\", \"interim\", \"interim\", \"irgun\", \"irgun\", \"irgun\", \"iridium\", \"isga\", \"israel\", \"israel\", \"israel\", \"israel\", \"israel\", \"israel\", \"israel\", \"israel\", \"israeli\", \"israeli\", \"israeli\", \"israeli\", \"israeli\", \"israeli\", \"israeli\", \"israeli\", \"istanbul\", \"istanbul\", \"istanbul\", \"istanbul\", \"istanbul\", \"ither\", \"j\", \"j\", \"j\", \"j\", \"j\", \"j\", \"j\", \"j\", \"jake\", \"jake\", \"jake\", \"jake\", \"jake\", \"jake\", \"jake\", \"jason\", \"jason\", \"jason\", \"jason\", \"jerusaleum\", \"jeruseleum\", \"jew\", \"jew\", \"jew\", \"jew\", \"jew\", \"jew\", \"jew\", \"jew\", \"jews\", \"jews\", \"jews\", \"jews\", \"jews\", \"jews\", \"jews\", \"jews\", \"jle\", \"joist\", \"jpl\", \"jpl\", \"jpl\", \"jpl\", \"jpl\", \"jpl\", \"jpl\", \"jpl\", \"jrm\", \"jrm\", \"jrm\", \"jrm\", \"jrm\", \"jupiter\", \"jupiter\", \"jupiter\", \"jupiter\", \"jupiter\", \"jupiter\", \"k\", \"k\", \"k\", \"k\", \"k\", \"k\", \"k\", \"k\", \"kaan\", \"kamsarakan\", \"karabagh\", \"karabagh\", \"karabakh\", \"karabakh\", \"karabakh\", \"karina\", \"keefe\", \"keithley\", \"keithley\", \"kelbajar\", \"kill\", \"kill\", \"kill\", \"kill\", \"kill\", \"kill\", \"kill\", \"kill\", \"kipling\", \"kipling\", \"kipling\", \"kk\", \"kk\", \"kk\", \"kk\", \"kkk\", \"kkk\", \"know\", \"know\", \"know\", \"know\", \"know\", \"know\", \"know\", \"know\", \"knx\", \"koc\", \"korean\", \"koresh\", \"koresh\", \"koresh\", \"koresh\", \"koresh\", \"koresh\", \"koresh\", \"kratz\", \"kratz\", \"ksu\", \"l\", \"l\", \"l\", \"l\", \"l\", \"l\", \"l\", \"l\", \"launch\", \"launch\", \"launch\", \"launch\", \"launch\", \"launch\", \"launch\", \"launch\", \"law\", \"law\", \"law\", \"law\", \"law\", \"law\", \"law\", \"law\", \"lawfully\", \"lawson\", \"lcd\", \"leandro\", \"leave\", \"leave\", \"leave\", \"leave\", \"leave\", \"leave\", \"leave\", \"leave\", \"lebanese\", \"lebanese\", \"lebanese\", \"lebanese\", \"lebanese\", \"lebanese\", \"leech\", \"leech\", \"license\", \"license\", \"license\", \"license\", \"license\", \"license\", \"license\", \"lick\", \"liguori\", \"like\", \"like\", \"like\", \"like\", \"like\", \"like\", \"like\", \"like\", \"line\", \"line\", \"line\", \"line\", \"line\", \"line\", \"line\", \"line\", \"linknet\", \"linknet\", \"live\", \"live\", \"live\", \"live\", \"live\", \"live\", \"live\", \"live\", \"louie\", \"louie\", \"ltm\", \"lyuda\", \"m\", \"m\", \"m\", \"m\", \"m\", \"m\", \"m\", \"m\", \"macedonia\", \"macedonian\", \"macedonian\", \"magpie\", \"magpie\", \"mamma\", \"mamma\", \"manditory\", \"mane\", \"mane\", \"marina\", \"mariner\", \"mariner\", \"market\", \"market\", \"market\", \"market\", \"market\", \"market\", \"market\", \"marketing\", \"marketing\", \"marketing\", \"massacre\", \"massacre\", \"massacre\", \"massacre\", \"massacre\", \"mccall\", \"mccall\", \"mccall\", \"mccall\", \"microdistrict\", \"militia\", \"militia\", \"militia\", \"militia\", \"militia\", \"militia\", \"militia\", \"misfire\", \"mission\", \"mission\", \"mission\", \"mission\", \"mission\", \"mission\", \"mission\", \"mn\", \"mob\", \"mob\", \"mohammed\", \"mother\", \"mother\", \"mother\", \"mother\", \"mother\", \"mother\", \"mpce\", \"mpce\", \"mpce\", \"msb\", \"msb\", \"muslim\", \"muslim\", \"muslim\", \"muslim\", \"muslim\", \"muslim\", \"muslim\", \"muslim\", \"mutlu\", \"mutlu\", \"mutlu\", \"n\", \"n\", \"n\", \"n\", \"n\", \"n\", \"n\", \"n\", \"naftaly\", \"nagorno\", \"nanaimo\", \"nasa\", \"nasa\", \"nasa\", \"nasa\", \"nasa\", \"nasa\", \"nasa\", \"nasa\", \"nec\", \"nec\", \"nec\", \"need\", \"need\", \"need\", \"need\", \"need\", \"need\", \"need\", \"need\", \"neighbor\", \"neighbor\", \"neighbor\", \"neighbor\", \"neighbor\", \"neighbor\", \"neighbor\", \"neighbor\", \"neil\", \"neil\", \"neil\", \"neil\", \"neutral\", \"neutral\", \"neutral\", \"neutral\", \"neutral\", \"neutral\", \"neutral\", \"news\", \"news\", \"news\", \"news\", \"news\", \"news\", \"news\", \"news\", \"newspaper\", \"newspaper\", \"newspaper\", \"newspaper\", \"newspaper\", \"newspaper\", \"newspaper\", \"nickh\", \"nm\", \"nm\", \"nntp\", \"nntp\", \"nntp\", \"nntp\", \"nntp\", \"nntp\", \"nntp\", \"nntp\", \"npl\", \"nsmca\", \"nsmca\", \"nsmca\", \"nsmca\", \"nstramer\", \"ntsb\", \"o\", \"o\", \"o\", \"o\", \"o\", \"o\", \"o\", \"o\", \"oldham\", \"oldham\", \"oliveira\", \"oliveira\", \"onur\", \"onur\", \"opt\", \"orbeli\", \"orbit\", \"orbit\", \"orbit\", \"orbit\", \"orbit\", \"orbit\", \"orbit\", \"orbit\", \"ordnance\", \"organization\", \"organization\", \"organization\", \"organization\", \"organization\", \"organization\", \"organization\", \"organization\", \"osf\", \"othman\", \"othman\", \"ottoman\", \"ottoman\", \"ottoman\", \"ottoman\", \"outlet\", \"outlet\", \"outlet\", \"outlet\", \"outlet\", \"outlet\", \"outlet\", \"owner\", \"owner\", \"owner\", \"owner\", \"owner\", \"owner\", \"owner\", \"oz\", \"oz\", \"oz\", \"oz\", \"oz\", \"oz\", \"oz\", \"ozonehole\", \"p\", \"p\", \"p\", \"p\", \"p\", \"p\", \"p\", \"p\", \"pacastro\", \"page\", \"page\", \"page\", \"page\", \"page\", \"page\", \"page\", \"palestinian\", \"palestinian\", \"palestinian\", \"palestinian\", \"palestinian\", \"palestinian\", \"palestinian\", \"palestinian\", \"panos\", \"panos\", \"papa\", \"passe\", \"pat\", \"pat\", \"pat\", \"pat\", \"pat\", \"pat\", \"pat\", \"payne\", \"pegasus\", \"pegasus\", \"people\", \"people\", \"people\", \"people\", \"people\", \"people\", \"people\", \"people\", \"perijove\", \"persian\", \"persian\", \"persian\", \"persian\", \"pimentel\", \"pisga\", \"pisga\", \"pitargue\", \"pkk\", \"planetary\", \"planetary\", \"planetary\", \"planetary\", \"planetary\", \"planetary\", \"polonius\", \"polonius\", \"possess\", \"possess\", \"possess\", \"possess\", \"possess\", \"possess\", \"post\", \"post\", \"post\", \"post\", \"post\", \"post\", \"post\", \"post\", \"ppe\", \"prb\", \"prb\", \"prb\", \"printer\", \"printer\", \"printer\", \"printer\", \"printer\", \"probe\", \"probe\", \"probe\", \"probe\", \"probe\", \"probe\", \"professor\", \"professor\", \"professor\", \"professor\", \"professor\", \"professor\", \"program\", \"program\", \"program\", \"program\", \"program\", \"program\", \"program\", \"program\", \"prong\", \"prong\", \"proton\", \"proton\", \"proton\", \"proton\", \"pub\", \"pub\", \"pub\", \"pub\", \"public\", \"public\", \"public\", \"public\", \"public\", \"public\", \"public\", \"public\", \"pursuant\", \"q\", \"q\", \"q\", \"q\", \"q\", \"q\", \"q\", \"questionnaire\", \"r\", \"r\", \"r\", \"r\", \"r\", \"r\", \"r\", \"r\", \"radar\", \"radar\", \"radar\", \"radar\", \"radar\", \"radar\", \"radar\", \"radii\", \"read\", \"read\", \"read\", \"read\", \"read\", \"read\", \"read\", \"read\", \"receptacle\", \"reimer\", \"relativity\", \"repeater\", \"revolver\", \"revolver\", \"revolver\", \"revolver\", \"revolver\", \"revolver\", \"riddance\", \"riddance\", \"riddance\", \"right\", \"right\", \"right\", \"right\", \"right\", \"right\", \"right\", \"right\", \"rimsat\", \"rkba\", \"rkba\", \"rkba\", \"rkba\", \"rkba\", \"rkba\", \"road\", \"road\", \"road\", \"road\", \"road\", \"road\", \"road\", \"road\", \"roby\", \"roby\", \"roby\", \"roby\", \"roby\", \"rocket\", \"rocket\", \"rocket\", \"rocket\", \"rocket\", \"rocket\", \"rocket\", \"rocket\", \"rostamian\", \"russian\", \"russian\", \"russian\", \"russian\", \"russian\", \"russian\", \"russian\", \"s\", \"s\", \"s\", \"s\", \"s\", \"s\", \"s\", \"s\", \"sabri\", \"salonica\", \"satellite\", \"satellite\", \"satellite\", \"satellite\", \"satellite\", \"satellite\", \"satellite\", \"satellite\", \"say\", \"say\", \"say\", \"say\", \"say\", \"say\", \"say\", \"say\", \"schiewer\", \"schwarzenegger\", \"sci\", \"sci\", \"sci\", \"sci\", \"sci\", \"sci\", \"sci\", \"sci\", \"science\", \"science\", \"science\", \"science\", \"science\", \"science\", \"science\", \"science\", \"scl\", \"sdpa\", \"sdpa\", \"sdpa\", \"sdpa\", \"sdsu\", \"sdsu\", \"section\", \"section\", \"section\", \"section\", \"section\", \"section\", \"section\", \"section\", \"semi\", \"semi\", \"semi\", \"semi\", \"semi\", \"semi\", \"semi\", \"semi\", \"sensing\", \"sensing\", \"sensing\", \"sensing\", \"sensing\", \"serdar\", \"serdar\", \"serdar\", \"serdar\", \"serdar\", \"serdar\", \"serdar\", \"shagen\", \"shakala\", \"shall\", \"shall\", \"shall\", \"shall\", \"shall\", \"shall\", \"shall\", \"shall\", \"sheath\", \"sheath\", \"shirak\", \"shout\", \"shout\", \"shout\", \"shout\", \"shout\", \"shout\", \"shuttle\", \"shuttle\", \"shuttle\", \"shuttle\", \"shuttle\", \"shuttle\", \"shuttle\", \"shuttle\", \"sigurdsson\", \"sky\", \"sky\", \"sky\", \"sky\", \"sky\", \"sky\", \"sky\", \"sky\", \"skybridge\", \"sniper\", \"sniper\", \"sniper\", \"sniper\", \"sniper\", \"softquad\", \"sola\", \"solar\", \"solar\", \"solar\", \"solar\", \"solar\", \"solar\", \"solar\", \"soldier\", \"soldier\", \"soldier\", \"soldier\", \"soldier\", \"soldier\", \"soldier\", \"somalia\", \"somalia\", \"somalia\", \"somalia\", \"space\", \"space\", \"space\", \"space\", \"space\", \"space\", \"space\", \"space\", \"spencer\", \"spencer\", \"spencer\", \"spencer\", \"spencer\", \"sq\", \"sq\", \"sq\", \"sq\", \"sq\", \"sq\", \"star\", \"star\", \"star\", \"star\", \"star\", \"star\", \"star\", \"star\", \"start\", \"start\", \"start\", \"start\", \"start\", \"start\", \"start\", \"start\", \"state\", \"state\", \"state\", \"state\", \"state\", \"state\", \"state\", \"state\", \"steinly\", \"steinly\", \"steinn\", \"sternberg\", \"stove\", \"stove\", \"stove\", \"stove\", \"stramer\", \"subject\", \"subject\", \"subject\", \"subject\", \"subject\", \"subject\", \"subject\", \"subject\", \"sumgait\", \"sweep\", \"switchover\", \"sy\", \"sy\", \"sy\", \"sy\", \"sy\", \"sy\", \"sylvain\", \"sysmgr\", \"system\", \"system\", \"system\", \"system\", \"system\", \"system\", \"system\", \"system\", \"t\", \"t\", \"t\", \"t\", \"t\", \"t\", \"t\", \"t\", \"take\", \"take\", \"take\", \"take\", \"take\", \"take\", \"take\", \"take\", \"tamamidis\", \"tamamidis\", \"tank\", \"tank\", \"tank\", \"tank\", \"tank\", \"tank\", \"tank\", \"tank\", \"tankut\", \"tartar\", \"tartar\", \"td\", \"teknikum\", \"telescope\", \"telescope\", \"telescope\", \"telescope\", \"telescope\", \"tell\", \"tell\", \"tell\", \"tell\", \"tell\", \"tell\", \"tell\", \"tell\", \"temporary\", \"temporary\", \"temporary\", \"temporary\", \"temporary\", \"temporary\", \"terzioglu\", \"terzioglu\", \"theodore\", \"theref\", \"thine\", \"thine\", \"thing\", \"thing\", \"thing\", \"thing\", \"thing\", \"thing\", \"thing\", \"thing\", \"think\", \"think\", \"think\", \"think\", \"think\", \"think\", \"think\", \"think\", \"thrace\", \"thrace\", \"time\", \"time\", \"time\", \"time\", \"time\", \"time\", \"time\", \"time\", \"titty\", \"titty\", \"topaz\", \"topaz\", \"toronto\", \"toronto\", \"toronto\", \"toronto\", \"toronto\", \"toronto\", \"toronto\", \"town\", \"town\", \"town\", \"town\", \"town\", \"town\", \"town\", \"trader\", \"trader\", \"trader\", \"turk\", \"turk\", \"turk\", \"turk\", \"turk\", \"turk\", \"turk\", \"turkey\", \"turkey\", \"turkey\", \"turkey\", \"turkey\", \"turkey\", \"turkey\", \"turkey\", \"turkish\", \"turkish\", \"turkish\", \"turkish\", \"turkish\", \"turkish\", \"turkish\", \"turkish\", \"u\", \"u\", \"u\", \"u\", \"u\", \"u\", \"u\", \"u\", \"ucsc\", \"ucsc\", \"ucsc\", \"ucsu\", \"ucsu\", \"ucsu\", \"ucsu\", \"ucsu\", \"udel\", \"udel\", \"udel\", \"udel\", \"udel\", \"ufl\", \"ufl\", \"ufl\", \"ufl\", \"ufl\", \"ufl\", \"uic\", \"uic\", \"uic\", \"uic\", \"uic\", \"uicvm\", \"uicvm\", \"uicvm\", \"uicvm\", \"uicvm\", \"uinpla\", \"ul\", \"ul\", \"ul\", \"ulan\", \"ulowell\", \"ulowell\", \"ulowell\", \"ulowell\", \"ulowell\", \"umd\", \"umd\", \"umd\", \"umd\", \"umd\", \"umd\", \"umd\", \"university\", \"university\", \"university\", \"university\", \"university\", \"university\", \"university\", \"university\", \"urartu\", \"urartu\", \"urartu\", \"urartu\", \"use\", \"use\", \"use\", \"use\", \"use\", \"use\", \"use\", \"use\", \"utrecht\", \"utzoo\", \"utzoo\", \"utzoo\", \"utzoo\", \"uv\", \"uv\", \"uv\", \"uv\", \"uxh\", \"uxh\", \"v\", \"v\", \"v\", \"v\", \"v\", \"v\", \"v\", \"v\", \"vancouver\", \"vancouver\", \"vancouver\", \"vancouver\", \"vandalize\", \"vandalize\", \"vandalize\", \"vay\", \"vdc\", \"venera\", \"venera\", \"venture\", \"venture\", \"venture\", \"vlbi\", \"vlbi\", \"voltage\", \"voltage\", \"voltage\", \"voltage\", \"voltage\", \"voltage\", \"voltage\", \"voltage\", \"vote\", \"vote\", \"vote\", \"vote\", \"vote\", \"vote\", \"vote\", \"vxcrna\", \"w\", \"w\", \"w\", \"w\", \"w\", \"w\", \"w\", \"w\", \"wagner\", \"want\", \"want\", \"want\", \"want\", \"want\", \"want\", \"want\", \"want\", \"war\", \"war\", \"war\", \"war\", \"war\", \"war\", \"war\", \"war\", \"way\", \"way\", \"way\", \"way\", \"way\", \"way\", \"way\", \"way\", \"weapon\", \"weapon\", \"weapon\", \"weapon\", \"weapon\", \"weapon\", \"weapon\", \"weapon\", \"weaver\", \"weaver\", \"weaver\", \"weaver\", \"weaver\", \"werner\", \"wingert\", \"wire\", \"wire\", \"wire\", \"wire\", \"wire\", \"wire\", \"wire\", \"wire\", \"wiring\", \"wiring\", \"wiring\", \"wiring\", \"woman\", \"woman\", \"woman\", \"woman\", \"woman\", \"woman\", \"woman\", \"woman\", \"work\", \"work\", \"work\", \"work\", \"work\", \"work\", \"work\", \"work\", \"world\", \"world\", \"world\", \"world\", \"world\", \"world\", \"world\", \"world\", \"write\", \"write\", \"write\", \"write\", \"write\", \"write\", \"write\", \"write\", \"x\", \"x\", \"x\", \"x\", \"x\", \"x\", \"x\", \"x\", \"y\", \"y\", \"y\", \"y\", \"y\", \"y\", \"y\", \"y\", \"yalanci\", \"yalanci\", \"yalcin\", \"yalcin\", \"yassin\", \"yassin\", \"yassin\", \"year\", \"year\", \"year\", \"year\", \"year\", \"year\", \"year\", \"year\", \"yigal\", \"yigal\", \"yigal\", \"z\", \"z\", \"z\", \"z\", \"z\", \"z\", \"z\", \"zionist\", \"zionist\", \"zionist\", \"zionist\", \"zionist\", \"zionist\", \"zone\", \"zone\", \"zone\", \"zone\", \"zone\", \"zone\", \"zoo\", \"zoo\", \"zoo\", \"zoo\", \"zoology\", \"zoology\", \"zoology\"]}, \"R\": 30, \"lambda.step\": 0.01, \"plot.opts\": {\"xlab\": \"PC1\", \"ylab\": \"PC2\"}, \"topic.order\": [1, 4, 3, 5, 2, 7, 6, 8]};\n",
       "\n",
       "function LDAvis_load_lib(url, callback){\n",
       "  var s = document.createElement('script');\n",
       "  s.src = url;\n",
       "  s.async = true;\n",
       "  s.onreadystatechange = s.onload = callback;\n",
       "  s.onerror = function(){console.warn(\"failed to load library \" + url);};\n",
       "  document.getElementsByTagName(\"head\")[0].appendChild(s);\n",
       "}\n",
       "\n",
       "if(typeof(LDAvis) !== \"undefined\"){\n",
       "   // already loaded: just create the visualization\n",
       "   !function(LDAvis){\n",
       "       new LDAvis(\"#\" + \"ldavis_el77601405370328633124205715808\", ldavis_el77601405370328633124205715808_data);\n",
       "   }(LDAvis);\n",
       "}else if(typeof define === \"function\" && define.amd){\n",
       "   // require.js is available: use it to load d3/LDAvis\n",
       "   require.config({paths: {d3: \"https://d3js.org/d3.v5\"}});\n",
       "   require([\"d3\"], function(d3){\n",
       "      window.d3 = d3;\n",
       "      LDAvis_load_lib(\"https://cdn.jsdelivr.net/gh/bmabey/pyLDAvis@3.3.1/pyLDAvis/js/ldavis.v3.0.0.js\", function(){\n",
       "        new LDAvis(\"#\" + \"ldavis_el77601405370328633124205715808\", ldavis_el77601405370328633124205715808_data);\n",
       "      });\n",
       "    });\n",
       "}else{\n",
       "    // require.js not available: dynamically load d3 & LDAvis\n",
       "    LDAvis_load_lib(\"https://d3js.org/d3.v5.js\", function(){\n",
       "         LDAvis_load_lib(\"https://cdn.jsdelivr.net/gh/bmabey/pyLDAvis@3.3.1/pyLDAvis/js/ldavis.v3.0.0.js\", function(){\n",
       "                 new LDAvis(\"#\" + \"ldavis_el77601405370328633124205715808\", ldavis_el77601405370328633124205715808_data);\n",
       "            })\n",
       "         });\n",
       "}\n",
       "</script>"
      ],
      "text/plain": [
       "PreparedData(topic_coordinates=              x         y  topics  cluster       Freq\n",
       "topic                                                \n",
       "0     -0.096422  0.047244       1        1  24.623579\n",
       "3      0.041800 -0.067459       2        1  20.185727\n",
       "2      0.021008 -0.057515       3        1  17.797042\n",
       "4     -0.088648  0.119982       4        1   9.558139\n",
       "1     -0.041306 -0.037948       5        1   7.652347\n",
       "6      0.197530  0.086606       6        1   7.575188\n",
       "5      0.003101 -0.070331       7        1   6.911103\n",
       "7     -0.037063 -0.020580       8        1   5.696874, topic_info=          Term         Freq        Total Category  logprob  loglift\n",
       "957   armenian  1257.000000  1257.000000  Default  30.0000  30.0000\n",
       "55           m  1606.000000  1606.000000  Default  29.0000  29.0000\n",
       "507        gun  1487.000000  1487.000000  Default  28.0000  28.0000\n",
       "236          c  1161.000000  1161.000000  Default  27.0000  27.0000\n",
       "1006   turkish   685.000000   685.000000  Default  26.0000  26.0000\n",
       "...        ...          ...          ...      ...      ...      ...\n",
       "170       know    80.565556  1441.513621   Topic8  -5.7139  -0.0191\n",
       "268       need    66.201318   677.660857   Topic8  -5.9103   0.5393\n",
       "494    control    63.057965   554.792805   Topic8  -5.9590   0.6907\n",
       "1095     state    68.948430  1056.219855   Topic8  -5.8696   0.1362\n",
       "38        good    60.658863   776.600675   Topic8  -5.9977   0.3156\n",
       "\n",
       "[713 rows x 6 columns], token_table=      Topic      Freq     Term\n",
       "term                          \n",
       "1146      1  0.016623     acad\n",
       "1146      2  0.083114     acad\n",
       "1146      3  0.881005     acad\n",
       "1146      4  0.016623     acad\n",
       "1512      1  0.036705   access\n",
       "...     ...       ...      ...\n",
       "1045      3  0.907574      zoo\n",
       "1045      4  0.010432      zoo\n",
       "1046      2  0.024593  zoology\n",
       "1046      3  0.934526  zoology\n",
       "1046      4  0.024593  zoology\n",
       "\n",
       "[2262 rows x 3 columns], R=30, lambda_step=0.01, plot_opts={'xlab': 'PC1', 'ylab': 'PC2'}, topic_order=[1, 4, 3, 5, 2, 7, 6, 8])"
      ]
     },
     "execution_count": 31,
     "metadata": {},
     "output_type": "execute_result"
    }
   ],
   "source": [
    "# visualize the 3 topics \n",
    "pyLDAvis.enable_notebook()\n",
    "vis = pyLDAvis.gensim_models.prepare(lda_trained_model, corpus, id2word)\n",
    "vis"
   ]
  },
  {
   "cell_type": "markdown",
   "metadata": {},
   "source": [
    "## Create a Topic id/name dictionary \n",
    "\n",
    "When populating your topic id/name dictionary, use the index ordering as shown in the viz tool. \n",
    "\n",
    "We'll use a function to map the the viz tool index ordering with the train LDA model ordering. "
   ]
  },
  {
   "cell_type": "code",
   "execution_count": 32,
   "metadata": {
    "nbgrader": {
     "grade": false,
     "grade_id": "cell-777be73d0d1455f0",
     "locked": false,
     "schema_version": 3,
     "solution": true,
     "task": false
    }
   },
   "outputs": [],
   "source": [
    "# keys - use topic ids from pyLDAvis visualization \n",
    "# values - topic names that you create \n",
    "# save dictionary to `vis_topic_name_dict`\n",
    "###BEGIN SOLUTION\n",
    "# this is the results from a model run however these topic names might not make sense in future model runs\n",
    "# thus these names will likely have to be thought through during each lecture \n",
    "vis_topic_name_dict = {1:\"Guns\", \n",
    "                       2:\"Armenian_Turkish_Conflict\", \n",
    "                       3:\"Armenian_Turkish_Conflict\", \n",
    "                       4:\"Isreal\", \n",
    "                       5:\"Space\", \n",
    "                       6:\"Space\", \n",
    "                       7:\"Space\", \n",
    "                       8:\"Space\"}\n",
    "###END SOLUTION"
   ]
  },
  {
   "cell_type": "code",
   "execution_count": 33,
   "metadata": {},
   "outputs": [],
   "source": [
    "def get_topic_id_lookup_dict(vis, vis_topic_name_dict):\n",
    "    \"\"\"\n",
    "    Both the starting index and the ordering of topic ids bewteen the trained LDA model \n",
    "    and the viz tool are different. So we need to create a look up dictionary that maps \n",
    "    the correct association between topic ids from both sources. \n",
    "    \"\"\"\n",
    "    # value is order of topic ids accoridng to pyLDAvis tool \n",
    "    # key is order of topic ids according to lda model\n",
    "    model_vis_tool_topic_id_lookup = vis.topic_coordinates.topics.to_dict()\n",
    "\n",
    "    # invert dictionary so that \n",
    "    # key is order of topic ids accoridng to pyLDAvis tool \n",
    "    # value is order of topic ids according to lda model\n",
    "    topic_id_lookup =  {v:k for k, v in model_vis_tool_topic_id_lookup.items()}\n",
    "    \n",
    "    # iterate through topic_id_lookup and index vis_topic_name_dict using the keys \n",
    "    # in order to swap the viz topic ids in vis_topic_name_dict for the lda model topic ids \n",
    "    return {v:vis_topic_name_dict[k]  for k, v in topic_id_lookup.items()}"
   ]
  },
  {
   "cell_type": "code",
   "execution_count": 34,
   "metadata": {
    "nbgrader": {
     "grade": false,
     "grade_id": "cell-0718245fd125b36e",
     "locked": false,
     "schema_version": 3,
     "solution": true,
     "task": false
    }
   },
   "outputs": [],
   "source": [
    "###BEING SOLTUION\n",
    "# now we have an updated topic id/name dict\n",
    "# the topic ids correspond to how the lda model has index the topics \n",
    "# now we can use this dictionary with lda model to label our docs \n",
    "topic_name_dict = get_topic_id_lookup_dict(vis, vis_topic_name_dict)\n",
    "###END SOLTUION"
   ]
  },
  {
   "cell_type": "code",
   "execution_count": 35,
   "metadata": {},
   "outputs": [
    {
     "data": {
      "text/plain": [
       "{0: 'Guns',\n",
       " 3: 'Armenian_Turkish_Conflict',\n",
       " 2: 'Armenian_Turkish_Conflict',\n",
       " 4: 'Isreal',\n",
       " 1: 'Space',\n",
       " 6: 'Space',\n",
       " 5: 'Space',\n",
       " 7: 'Space'}"
      ]
     },
     "execution_count": 35,
     "metadata": {},
     "output_type": "execute_result"
    }
   ],
   "source": [
    "topic_name_dict"
   ]
  },
  {
   "cell_type": "markdown",
   "metadata": {},
   "source": [
    "## Assign Each Document a Topic Name\n",
    "\n",
    "Now that we have a topic id/name look up dict that is aligned with the index ordering of the trained LDA model, we can move forward to giving each topic a topic name. \n",
    "\n",
    "The function below has been given to you. However, you highly encouraged to read through it and make sure that you understand what it is doing each step of the way. In fact, a good way to do this is to copy and paste the code inside of the function into a new cell, comment out all the lines of code and line by line, uncomment the code and see the output. "
   ]
  },
  {
   "cell_type": "code",
   "execution_count": 36,
   "metadata": {},
   "outputs": [],
   "source": [
    "def get_topic_ids_for_docs(lda_model, corpus):\n",
    "    \n",
    "    \"\"\"\n",
    "    Passes a Bag-of-Words vector into a trained LDA model in order to get the topic id of that document. \n",
    "    \n",
    "    Parameters\n",
    "    ----------\n",
    "    lda_model: Gensim object\n",
    "        Must be a trained model \n",
    "        \n",
    "    corpus: nested lists of tuples, \n",
    "        i.e. [[(),(), ..., ()], [(),(), ..., ()], ..., [(),(), ..., ()]]\n",
    "        \n",
    "    Returns\n",
    "    -------\n",
    "    topic_id_list: list\n",
    "        Contains topic ids for all document vectors in corpus \n",
    "    \"\"\"\n",
    "    \n",
    "    # store topic ids for each document\n",
    "    doc_topic_ids = []\n",
    "\n",
    "    # iterature through the bow vectors for each doc\n",
    "    for doc_bow in corpus:\n",
    "        \n",
    "        # store the topic ids for the doc\n",
    "        topic_ids = []\n",
    "        # store the topic probabilities for the doc\n",
    "        topic_probs = []\n",
    "\n",
    "        # list of tuples\n",
    "        # each tuple has a topic id and the prob that the doc belongs to that topic \n",
    "        topic_id_prob_tuples = lda_trained_model.get_document_topics(doc_bow)\n",
    "        \n",
    "        # iterate through the topic id/prob pairs \n",
    "        for topic_id_prob in topic_id_prob_tuples:\n",
    "            \n",
    "            # index for topic id\n",
    "            topic_id = topic_id_prob[0]\n",
    "            # index for prob that doc belongs that the corresponding topic\n",
    "            topic_prob = topic_id_prob[1]\n",
    "\n",
    "            # store all topic ids for doc\n",
    "            topic_ids.append(topic_id)\n",
    "            # store all topic probs for doc\n",
    "            topic_probs.append(topic_prob)\n",
    "\n",
    "        # get index for largest prob score\n",
    "        max_topic_prob_ind = np.argmax(topic_probs)\n",
    "        # get corresponding topic id\n",
    "        max_prob_topic_id = topic_ids[max_topic_prob_ind]\n",
    "        # store topic id that had the highest prob for doc being a memebr of that topic\n",
    "        doc_topic_ids.append(max_prob_topic_id)\n",
    "        \n",
    "    return doc_topic_ids"
   ]
  },
  {
   "cell_type": "code",
   "execution_count": 37,
   "metadata": {},
   "outputs": [],
   "source": [
    "# get the topic id for each doc in the corpus \n",
    "topic_id_list = get_topic_ids_for_docs(lda_trained_model, corpus)\n",
    "\n",
    "# creat a feature for document's topic id\n",
    "df[\"topic_id\"] = topic_id_list\n",
    "\n",
    "# iterate through the topic id and use the lookup table to assign each document with a topic name\n",
    "df[\"new_topic_name\"] = df[\"topic_id\"].apply(lambda topic_id: topic_name_dict[topic_id])"
   ]
  },
  {
   "cell_type": "code",
   "execution_count": 38,
   "metadata": {},
   "outputs": [
    {
     "data": {
      "text/html": [
       "<div>\n",
       "<style scoped>\n",
       "    .dataframe tbody tr th:only-of-type {\n",
       "        vertical-align: middle;\n",
       "    }\n",
       "\n",
       "    .dataframe tbody tr th {\n",
       "        vertical-align: top;\n",
       "    }\n",
       "\n",
       "    .dataframe thead th {\n",
       "        text-align: right;\n",
       "    }\n",
       "</style>\n",
       "<table border=\"1\" class=\"dataframe\">\n",
       "  <thead>\n",
       "    <tr style=\"text-align: right;\">\n",
       "      <th></th>\n",
       "      <th>content</th>\n",
       "      <th>target</th>\n",
       "      <th>target_names</th>\n",
       "      <th>clean_data</th>\n",
       "      <th>lemmas</th>\n",
       "      <th>topic_id</th>\n",
       "      <th>new_topic_name</th>\n",
       "    </tr>\n",
       "  </thead>\n",
       "  <tbody>\n",
       "    <tr>\n",
       "      <th>0</th>\n",
       "      <td>From: webb@itu1 (90-29265  Webber  AH)\\nSubjec...</td>\n",
       "      <td>0</td>\n",
       "      <td>sci.electronics</td>\n",
       "      <td>webber ah subject re adcom cheap products arti...</td>\n",
       "      <td>[webber, ah, subject, adcom, cheap, product, a...</td>\n",
       "      <td>2</td>\n",
       "      <td>Armenian_Turkish_Conflict</td>\n",
       "    </tr>\n",
       "    <tr>\n",
       "      <th>1</th>\n",
       "      <td>From: nate@psygate.psych.indiana.edu (Nathan E...</td>\n",
       "      <td>2</td>\n",
       "      <td>talk.politics.guns</td>\n",
       "      <td>nathan engle subject re atf burns dividian ran...</td>\n",
       "      <td>[nathan, engle, subject, atf, burn, dividian, ...</td>\n",
       "      <td>1</td>\n",
       "      <td>Space</td>\n",
       "    </tr>\n",
       "    <tr>\n",
       "      <th>2</th>\n",
       "      <td>From: ab4z@Virginia.EDU (\"Andi Beyer\")\\nSubjec...</td>\n",
       "      <td>3</td>\n",
       "      <td>talk.politics.mideast</td>\n",
       "      <td>andi beyer subject re israeli terrorism organi...</td>\n",
       "      <td>[andi, beyer, subject, israeli, terrorism, org...</td>\n",
       "      <td>7</td>\n",
       "      <td>Space</td>\n",
       "    </tr>\n",
       "    <tr>\n",
       "      <th>3</th>\n",
       "      <td>From: levy@levy.fnal.gov (Mark E. Levy, ext. 8...</td>\n",
       "      <td>0</td>\n",
       "      <td>sci.electronics</td>\n",
       "      <td>mark e levy ext subject sources for intel d c ...</td>\n",
       "      <td>[mark, e, levy, ext, subject, source, intel, d...</td>\n",
       "      <td>3</td>\n",
       "      <td>Armenian_Turkish_Conflict</td>\n",
       "    </tr>\n",
       "    <tr>\n",
       "      <th>4</th>\n",
       "      <td>From: wolfone@ccwf.cc.utexas.edu (I am an andr...</td>\n",
       "      <td>2</td>\n",
       "      <td>talk.politics.guns</td>\n",
       "      <td>i am an android subject re atf burns dividian ...</td>\n",
       "      <td>[android, subject, atf, burn, dividian, ranch,...</td>\n",
       "      <td>2</td>\n",
       "      <td>Armenian_Turkish_Conflict</td>\n",
       "    </tr>\n",
       "  </tbody>\n",
       "</table>\n",
       "</div>"
      ],
      "text/plain": [
       "                                             content  target  \\\n",
       "0  From: webb@itu1 (90-29265  Webber  AH)\\nSubjec...       0   \n",
       "1  From: nate@psygate.psych.indiana.edu (Nathan E...       2   \n",
       "2  From: ab4z@Virginia.EDU (\"Andi Beyer\")\\nSubjec...       3   \n",
       "3  From: levy@levy.fnal.gov (Mark E. Levy, ext. 8...       0   \n",
       "4  From: wolfone@ccwf.cc.utexas.edu (I am an andr...       2   \n",
       "\n",
       "            target_names                                         clean_data  \\\n",
       "0        sci.electronics  webber ah subject re adcom cheap products arti...   \n",
       "1     talk.politics.guns  nathan engle subject re atf burns dividian ran...   \n",
       "2  talk.politics.mideast  andi beyer subject re israeli terrorism organi...   \n",
       "3        sci.electronics  mark e levy ext subject sources for intel d c ...   \n",
       "4     talk.politics.guns  i am an android subject re atf burns dividian ...   \n",
       "\n",
       "                                              lemmas  topic_id  \\\n",
       "0  [webber, ah, subject, adcom, cheap, product, a...         2   \n",
       "1  [nathan, engle, subject, atf, burn, dividian, ...         1   \n",
       "2  [andi, beyer, subject, israeli, terrorism, org...         7   \n",
       "3  [mark, e, levy, ext, subject, source, intel, d...         3   \n",
       "4  [android, subject, atf, burn, dividian, ranch,...         2   \n",
       "\n",
       "              new_topic_name  \n",
       "0  Armenian_Turkish_Conflict  \n",
       "1                      Space  \n",
       "2                      Space  \n",
       "3  Armenian_Turkish_Conflict  \n",
       "4  Armenian_Turkish_Conflict  "
      ]
     },
     "execution_count": 38,
     "metadata": {},
     "output_type": "execute_result"
    }
   ],
   "source": [
    "# cool! so now all of our documents have topic ids and names \n",
    "df.head()"
   ]
  },
  {
   "cell_type": "code",
   "execution_count": 39,
   "metadata": {},
   "outputs": [
    {
     "data": {
      "text/html": [
       "<div>\n",
       "<style scoped>\n",
       "    .dataframe tbody tr th:only-of-type {\n",
       "        vertical-align: middle;\n",
       "    }\n",
       "\n",
       "    .dataframe tbody tr th {\n",
       "        vertical-align: top;\n",
       "    }\n",
       "\n",
       "    .dataframe thead th {\n",
       "        text-align: right;\n",
       "    }\n",
       "</style>\n",
       "<table border=\"1\" class=\"dataframe\">\n",
       "  <thead>\n",
       "    <tr style=\"text-align: right;\">\n",
       "      <th></th>\n",
       "      <th>content</th>\n",
       "      <th>target</th>\n",
       "      <th>target_names</th>\n",
       "      <th>clean_data</th>\n",
       "      <th>lemmas</th>\n",
       "      <th>topic_id</th>\n",
       "      <th>new_topic_name</th>\n",
       "    </tr>\n",
       "  </thead>\n",
       "  <tbody>\n",
       "    <tr>\n",
       "      <th>3</th>\n",
       "      <td>From: levy@levy.fnal.gov (Mark E. Levy, ext. 8...</td>\n",
       "      <td>0</td>\n",
       "      <td>sci.electronics</td>\n",
       "      <td>mark e levy ext subject sources for intel d c ...</td>\n",
       "      <td>[mark, e, levy, ext, subject, source, intel, d...</td>\n",
       "      <td>3</td>\n",
       "      <td>Armenian_Turkish_Conflict</td>\n",
       "    </tr>\n",
       "    <tr>\n",
       "      <th>6</th>\n",
       "      <td>From: fcrary@ucsu.Colorado.EDU (Frank Crary)\\n...</td>\n",
       "      <td>2</td>\n",
       "      <td>talk.politics.guns</td>\n",
       "      <td>frank crary subject re gun control was re we r...</td>\n",
       "      <td>[frank, crary, subject, gun, control, mad, hel...</td>\n",
       "      <td>3</td>\n",
       "      <td>Armenian_Turkish_Conflict</td>\n",
       "    </tr>\n",
       "    <tr>\n",
       "      <th>7</th>\n",
       "      <td>From: phz@cadence.com (Pete Zakel)\\nSubject: R...</td>\n",
       "      <td>2</td>\n",
       "      <td>talk.politics.guns</td>\n",
       "      <td>pete zakel subject re some more about gun cont...</td>\n",
       "      <td>[pete, zakel, subject, gun, control, nntp, pos...</td>\n",
       "      <td>3</td>\n",
       "      <td>Armenian_Turkish_Conflict</td>\n",
       "    </tr>\n",
       "    <tr>\n",
       "      <th>17</th>\n",
       "      <td>From: bill_paxton@fourd.com\\nSubject: Argic\\nO...</td>\n",
       "      <td>3</td>\n",
       "      <td>talk.politics.mideast</td>\n",
       "      <td>subject argic organization th dimension bbs li...</td>\n",
       "      <td>[subject, argic, organization, th, dimension, ...</td>\n",
       "      <td>3</td>\n",
       "      <td>Armenian_Turkish_Conflict</td>\n",
       "    </tr>\n",
       "    <tr>\n",
       "      <th>20</th>\n",
       "      <td>From: ghasting@vdoe386.vak12ed.edu (George Has...</td>\n",
       "      <td>1</td>\n",
       "      <td>sci.space</td>\n",
       "      <td>george hastings subject re soviet space book o...</td>\n",
       "      <td>[george, hastings, subject, soviet, space, boo...</td>\n",
       "      <td>3</td>\n",
       "      <td>Armenian_Turkish_Conflict</td>\n",
       "    </tr>\n",
       "    <tr>\n",
       "      <th>...</th>\n",
       "      <td>...</td>\n",
       "      <td>...</td>\n",
       "      <td>...</td>\n",
       "      <td>...</td>\n",
       "      <td>...</td>\n",
       "      <td>...</td>\n",
       "      <td>...</td>\n",
       "    </tr>\n",
       "    <tr>\n",
       "      <th>2272</th>\n",
       "      <td>From: C.H.A.Wong@bradford.ac.uk (CHA WONG)\\nSu...</td>\n",
       "      <td>1</td>\n",
       "      <td>sci.space</td>\n",
       "      <td>cha wong subject how can you see the launch of...</td>\n",
       "      <td>[cha, wong, subject, launch, space, shuttle, o...</td>\n",
       "      <td>3</td>\n",
       "      <td>Armenian_Turkish_Conflict</td>\n",
       "    </tr>\n",
       "    <tr>\n",
       "      <th>2277</th>\n",
       "      <td>From: whit@carson.u.washington.edu (John Whitm...</td>\n",
       "      <td>0</td>\n",
       "      <td>sci.electronics</td>\n",
       "      <td>john whitmore subject re radar detector detect...</td>\n",
       "      <td>[john, whitmore, subject, radar, detector, det...</td>\n",
       "      <td>3</td>\n",
       "      <td>Armenian_Turkish_Conflict</td>\n",
       "    </tr>\n",
       "    <tr>\n",
       "      <th>2280</th>\n",
       "      <td>From: mcelwre@cnsvax.uwec.edu\\nSubject: LARSON...</td>\n",
       "      <td>1</td>\n",
       "      <td>sci.space</td>\n",
       "      <td>subject larsonian astronomy and physics organi...</td>\n",
       "      <td>[subject, larsonian, astronomy, physics, organ...</td>\n",
       "      <td>3</td>\n",
       "      <td>Armenian_Turkish_Conflict</td>\n",
       "    </tr>\n",
       "    <tr>\n",
       "      <th>2281</th>\n",
       "      <td>From: ken@sugra.uucp (Kenneth Ng)\\nSubject: Re...</td>\n",
       "      <td>1</td>\n",
       "      <td>sci.space</td>\n",
       "      <td>kenneth ng subject re nuclear waste organizati...</td>\n",
       "      <td>[kenneth, ng, subject, nuclear, waste, organiz...</td>\n",
       "      <td>3</td>\n",
       "      <td>Armenian_Turkish_Conflict</td>\n",
       "    </tr>\n",
       "    <tr>\n",
       "      <th>2282</th>\n",
       "      <td>From: pierson@cimill.enet.dec.com (Dave Pierso...</td>\n",
       "      <td>0</td>\n",
       "      <td>sci.electronics</td>\n",
       "      <td>dave pierson subject re swr meter for cb radio...</td>\n",
       "      <td>[dave, pierson, subject, swr, meter, cb, radio...</td>\n",
       "      <td>3</td>\n",
       "      <td>Armenian_Turkish_Conflict</td>\n",
       "    </tr>\n",
       "  </tbody>\n",
       "</table>\n",
       "<p>520 rows × 7 columns</p>\n",
       "</div>"
      ],
      "text/plain": [
       "                                                content  target  \\\n",
       "3     From: levy@levy.fnal.gov (Mark E. Levy, ext. 8...       0   \n",
       "6     From: fcrary@ucsu.Colorado.EDU (Frank Crary)\\n...       2   \n",
       "7     From: phz@cadence.com (Pete Zakel)\\nSubject: R...       2   \n",
       "17    From: bill_paxton@fourd.com\\nSubject: Argic\\nO...       3   \n",
       "20    From: ghasting@vdoe386.vak12ed.edu (George Has...       1   \n",
       "...                                                 ...     ...   \n",
       "2272  From: C.H.A.Wong@bradford.ac.uk (CHA WONG)\\nSu...       1   \n",
       "2277  From: whit@carson.u.washington.edu (John Whitm...       0   \n",
       "2280  From: mcelwre@cnsvax.uwec.edu\\nSubject: LARSON...       1   \n",
       "2281  From: ken@sugra.uucp (Kenneth Ng)\\nSubject: Re...       1   \n",
       "2282  From: pierson@cimill.enet.dec.com (Dave Pierso...       0   \n",
       "\n",
       "               target_names  \\\n",
       "3           sci.electronics   \n",
       "6        talk.politics.guns   \n",
       "7        talk.politics.guns   \n",
       "17    talk.politics.mideast   \n",
       "20                sci.space   \n",
       "...                     ...   \n",
       "2272              sci.space   \n",
       "2277        sci.electronics   \n",
       "2280              sci.space   \n",
       "2281              sci.space   \n",
       "2282        sci.electronics   \n",
       "\n",
       "                                             clean_data  \\\n",
       "3     mark e levy ext subject sources for intel d c ...   \n",
       "6     frank crary subject re gun control was re we r...   \n",
       "7     pete zakel subject re some more about gun cont...   \n",
       "17    subject argic organization th dimension bbs li...   \n",
       "20    george hastings subject re soviet space book o...   \n",
       "...                                                 ...   \n",
       "2272  cha wong subject how can you see the launch of...   \n",
       "2277  john whitmore subject re radar detector detect...   \n",
       "2280  subject larsonian astronomy and physics organi...   \n",
       "2281  kenneth ng subject re nuclear waste organizati...   \n",
       "2282  dave pierson subject re swr meter for cb radio...   \n",
       "\n",
       "                                                 lemmas  topic_id  \\\n",
       "3     [mark, e, levy, ext, subject, source, intel, d...         3   \n",
       "6     [frank, crary, subject, gun, control, mad, hel...         3   \n",
       "7     [pete, zakel, subject, gun, control, nntp, pos...         3   \n",
       "17    [subject, argic, organization, th, dimension, ...         3   \n",
       "20    [george, hastings, subject, soviet, space, boo...         3   \n",
       "...                                                 ...       ...   \n",
       "2272  [cha, wong, subject, launch, space, shuttle, o...         3   \n",
       "2277  [john, whitmore, subject, radar, detector, det...         3   \n",
       "2280  [subject, larsonian, astronomy, physics, organ...         3   \n",
       "2281  [kenneth, ng, subject, nuclear, waste, organiz...         3   \n",
       "2282  [dave, pierson, subject, swr, meter, cb, radio...         3   \n",
       "\n",
       "                 new_topic_name  \n",
       "3     Armenian_Turkish_Conflict  \n",
       "6     Armenian_Turkish_Conflict  \n",
       "7     Armenian_Turkish_Conflict  \n",
       "17    Armenian_Turkish_Conflict  \n",
       "20    Armenian_Turkish_Conflict  \n",
       "...                         ...  \n",
       "2272  Armenian_Turkish_Conflict  \n",
       "2277  Armenian_Turkish_Conflict  \n",
       "2280  Armenian_Turkish_Conflict  \n",
       "2281  Armenian_Turkish_Conflict  \n",
       "2282  Armenian_Turkish_Conflict  \n",
       "\n",
       "[520 rows x 7 columns]"
      ]
     },
     "execution_count": 39,
     "metadata": {},
     "output_type": "execute_result"
    }
   ],
   "source": [
    "# you can mask for all Space articles \n",
    "science_mask = df.topic_id == 3\n",
    "df[science_mask]"
   ]
  },
  {
   "cell_type": "markdown",
   "metadata": {},
   "source": [
    "-----\n",
    "\n",
    "## Where do we go from here?\n",
    "\n",
    "What exactly did we just accomplish?\n",
    "\n",
    "Outside of this guided project (i.e. in your job) you may or may not have access to existing article topic names like we did with this data set. Meaning that we won't always have a point of reference to \"check our answers\". So let's explore 2 possible situations in which you might find yourself using this Unsupervised Learning Topic Model. \n",
    "\n",
    "### 1. You have access to existing document topic labels\n",
    "\n",
    "In this case, why would we bother with Topic Modeling? It could be the case that the current topic labels are actually not helpful for whatever task you're working on. For instance, our email dataset here has topic names however those topic labels are hierarchical, which doesn't suit your needs for some reason. So one option is generate new labels that do suit your needs (like we did here). \n",
    "\n",
    "### 2. Your corpus doesn't have any document topic labels\n",
    "\n",
    "In this case, you don't have any pre-existing topic labels. Maybe you work at Indeed or LinkedIn or Google and your job is to bring some structure to a huge collection of emails and messages that aren't labeled in any meaningful way and so it's difficult to just sort through these documents. This is a perfect use case of Topic Modeling. After you apply topic modeling, you'll then have organized your emails into broad categories and you can start structuring and then analyze your corpus, and maybe even build a supervised learning model to predict the topic of the document!"
   ]
  }
 ],
 "metadata": {
  "celltoolbar": "Create Assignment",
  "colab": {
   "collapsed_sections": [],
   "name": "REFERENCE_LS_DS_414_Topic_Modeling.ipynb",
   "provenance": []
  },
  "environment": {
   "name": "common-cpu.m69",
   "type": "gcloud",
   "uri": "gcr.io/deeplearning-platform-release/base-cpu:m69"
  },
  "kernelspec": {
   "display_name": "Python [conda env:root] *",
   "language": "python",
   "name": "conda-root-py"
  },
  "language_info": {
   "codemirror_mode": {
    "name": "ipython",
    "version": 3
   },
   "file_extension": ".py",
   "mimetype": "text/x-python",
   "name": "python",
   "nbconvert_exporter": "python",
   "pygments_lexer": "ipython3",
   "version": "3.7.10"
  }
 },
 "nbformat": 4,
 "nbformat_minor": 4
}

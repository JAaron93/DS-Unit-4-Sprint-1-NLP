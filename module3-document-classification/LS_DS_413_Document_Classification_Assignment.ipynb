{
 "cells": [
  {
   "cell_type": "markdown",
   "metadata": {},
   "source": [
    "Lambda School Data Science\n",
    "\n",
    "*Unit 4, Sprint 1, Module 3*\n",
    "\n",
    "---"
   ]
  },
  {
   "cell_type": "markdown",
   "metadata": {},
   "source": [
    "# Document Classification (Assignment)\n",
    "\n",
    "This notebook is for you to practice skills during lecture.\n",
    "\n",
    "Today's guided module project and assignment will be different. You already know how to do classification. You ready know how to extract features from documents. So? That means you're ready to combine and practice those skills in a kaggle competition. We we will open with a five minute sprint explaining the competition, and then give you 25 minutes to work. After those twenty five minutes are up, I will give a 5-minute demo an NLP technique that will help you with document classification (*and **maybe** the competition*).\n",
    "\n",
    "Today's all about having fun and practicing your skills.\n",
    "\n",
    "## Sections\n",
    "* <a href=\"#p1\">Part 1</a>: Text Feature Extraction & Classification Pipelines\n",
    "* <a href=\"#p2\">Part 2</a>: Latent Semantic Indexing\n",
    "* <a href=\"#p3\">Part 3</a>: Word Embeddings with Spacy\n",
    "* <a href=\"#p4\">Part 4</a>: Post Lecture Assignment"
   ]
  },
  {
   "cell_type": "markdown",
   "metadata": {},
   "source": [
    "# Text Feature Extraction & Classification Pipelines (Learn)\n",
    "<a id=\"p1\"></a>"
   ]
  },
  {
   "cell_type": "markdown",
   "metadata": {
    "toc-hr-collapsed": true
   },
   "source": [
    "## Follow Along \n",
    "\n",
    "What you should be doing now:\n",
    "1. Join the Kaggle Competition\n",
    "2. Download the data\n",
    "3. Train a model (try using the pipe method I just demoed)"
   ]
  },
  {
   "cell_type": "markdown",
   "metadata": {},
   "source": [
    "### Load Competition Data"
   ]
  },
  {
   "cell_type": "code",
   "execution_count": 1,
   "metadata": {},
   "outputs": [],
   "source": [
    "# Import Statements\n",
    "from sklearn.model_selection import train_test_split\n",
    "from sklearn.pipeline import Pipeline\n",
    "from sklearn.ensemble import RandomForestClassifier\n",
    "from sklearn.model_selection import GridSearchCV, RandomizedSearchCV\n",
    "from sklearn.ensemble import GradientBoostingClassifier\n",
    "from sklearn.feature_extraction.text import TfidfVectorizer\n",
    "from sklearn.metrics import accuracy_score\n",
    "from sklearn.model_selection import cross_val_score\n",
    "from sklearn.metrics import plot_confusion_matrix, classification_report\n",
    "import numpy as np\n",
    "import pandas as pd\n",
    "import seaborn as sns\n",
    "import re\n",
    "import num2words\n",
    "%matplotlib inline\n",
    "pd.options.display.max_colwidth = 750"
   ]
  },
  {
   "cell_type": "code",
   "execution_count": 2,
   "metadata": {},
   "outputs": [],
   "source": [
    "# You may need to change the path\n",
    "train = pd.read_csv('./train.csv')\n",
    "test = pd.read_csv('./test.csv')"
   ]
  },
  {
   "cell_type": "code",
   "execution_count": 3,
   "metadata": {},
   "outputs": [
    {
     "data": {
      "application/vnd.jupyter.widget-view+json": {
       "model_id": "3570fb7ca04d44a2b450f2ae78e45a06",
       "version_major": 2,
       "version_minor": 0
      },
      "text/plain": [
       "Summarize dataset:   0%|          | 0/11 [00:00<?, ?it/s]"
      ]
     },
     "metadata": {},
     "output_type": "display_data"
    },
    {
     "data": {
      "application/vnd.jupyter.widget-view+json": {
       "model_id": "f5835854199b47c0ae7fc3e611c1fb7f",
       "version_major": 2,
       "version_minor": 0
      },
      "text/plain": [
       "Generate report structure:   0%|          | 0/1 [00:00<?, ?it/s]"
      ]
     },
     "metadata": {},
     "output_type": "display_data"
    },
    {
     "data": {
      "application/vnd.jupyter.widget-view+json": {
       "model_id": "935f5fee8b16487cafe616e42b3889ec",
       "version_major": 2,
       "version_minor": 0
      },
      "text/plain": [
       "Render HTML:   0%|          | 0/1 [00:00<?, ?it/s]"
      ]
     },
     "metadata": {},
     "output_type": "display_data"
    },
    {
     "data": {
      "text/html": [
       "<iframe width=\"100%\" height=\"800px\" srcdoc=\"&lt;!doctype html&gt;&lt;html lang=en&gt;&lt;head&gt;&lt;meta charset=utf-8&gt;&lt;meta name=viewport content=&quot;width=device-width, initial-scale=1, shrink-to-fit=no&quot;&gt;&lt;meta name=description content=&quot;Profile report generated with the `pandas-profiling` Python package&quot;&gt;&lt;meta name=author content=&quot;Simon Brugman and the open source community.&quot;&gt;&lt;meta name=generator content=&quot;Pandas Profiling v3.0.0&quot;&gt;&lt;meta name=url content=https://github.com/pandas-profiling/pandas-profiling&gt;&lt;meta name=date content=&quot;2021-06-06 21:12:25.075594&quot;&gt;&lt;title&gt;Pandas Profiling Report&lt;/title&gt;&lt;style&gt;\n",
       "/*!\n",
       " * Bootstrap v3.3.7 (http://getbootstrap.com)\n",
       " * Copyright 2011-2016 Twitter, Inc.\n",
       " * Licensed under MIT (https://github.com/twbs/bootstrap/blob/master/LICENSE)\n",
       " *//*! normalize.css v3.0.3 | MIT License | github.com/necolas/normalize.css */html{font-family:sans-serif;-webkit-text-size-adjust:100%;-ms-text-size-adjust:100%}body{margin:0}article,aside,details,figcaption,figure,footer,header,hgroup,main,menu,nav,section,summary{display:block}audio,canvas,progress,video{display:inline-block;vertical-align:baseline}audio:not([controls]){display:none;height:0}[hidden],template{display:none}a{background-color:transparent}a:active,a:hover{outline:0}abbr[title]{border-bottom:1px dotted}b,strong{font-weight:700}dfn{font-style:italic}h1{margin:.67em 0;font-size:2em}mark{color:#000;background:#ff0}small{font-size:80%}sub,sup{position:relative;font-size:75%;line-height:0;vertical-align:baseline}sup{top:-.5em}sub{bottom:-.25em}img{border:0}svg:not(:root){overflow:hidden}figure{margin:1em 40px}hr{height:0;-webkit-box-sizing:content-box;-moz-box-sizing:content-box;box-sizing:content-box}pre{overflow:auto}code,kbd,pre,samp{font-family:monospace,monospace;font-size:1em}button,input,optgroup,select,textarea{margin:0;font:inherit;color:inherit}button{overflow:visible}button,select{text-transform:none}button,html input[type=button],input[type=reset],input[type=submit]{-webkit-appearance:button;cursor:pointer}button[disabled],html input[disabled]{cursor:default}button::-moz-focus-inner,input::-moz-focus-inner{padding:0;border:0}input{line-height:normal}input[type=checkbox],input[type=radio]{-webkit-box-sizing:border-box;-moz-box-sizing:border-box;box-sizing:border-box;padding:0}input[type=number]::-webkit-inner-spin-button,input[type=number]::-webkit-outer-spin-button{height:auto}input[type=search]{-webkit-box-sizing:content-box;-moz-box-sizing:content-box;box-sizing:content-box;-webkit-appearance:textfield}input[type=search]::-webkit-search-cancel-button,input[type=search]::-webkit-search-decoration{-webkit-appearance:none}fieldset{padding:.35em .625em .75em;margin:0 2px;border:1px solid silver}legend{padding:0;border:0}textarea{overflow:auto}optgroup{font-weight:700}table{border-spacing:0;border-collapse:collapse}td,th{padding:0}/*! Source: https://github.com/h5bp/html5-boilerplate/blob/master/src/css/main.css */@media print{*,:after,:before{color:#000!important;text-shadow:none!important;background:0 0!important;-webkit-box-shadow:none!important;box-shadow:none!important}a,a:visited{text-decoration:underline}a[href]:after{content:&quot; (&quot; attr(href) &quot;)&quot;}abbr[title]:after{content:&quot; (&quot; attr(title) &quot;)&quot;}a[href^=&quot;javascript:&quot;]:after,a[href^=&quot;#&quot;]:after{content:&quot;&quot;}blockquote,pre{border:1px solid #999;page-break-inside:avoid}thead{display:table-header-group}img,tr{page-break-inside:avoid}img{max-width:100%!important}h2,h3,p{orphans:3;widows:3}h2,h3{page-break-after:avoid}.navbar{display:none}.btn&gt;.caret,.dropup&gt;.btn&gt;.caret{border-top-color:#000!important}.label{border:1px solid #000}.table{border-collapse:collapse!important}.table td,.table th{background-color:#fff!important}.table-bordered td,.table-bordered th{border:1px solid #ddd!important}}@font-face{font-family:&#x27;Glyphicons Halflings&#x27;;src:url(../fonts/glyphicons-halflings-regular.eot);src:url(../fonts/glyphicons-halflings-regular.eot?#iefix) format(&#x27;embedded-opentype&#x27;),url(../fonts/glyphicons-halflings-regular.woff2) format(&#x27;woff2&#x27;),url(../fonts/glyphicons-halflings-regular.woff) format(&#x27;woff&#x27;),url(../fonts/glyphicons-halflings-regular.ttf) format(&#x27;truetype&#x27;),url(../fonts/glyphicons-halflings-regular.svg#glyphicons_halflingsregular) format(&#x27;svg&#x27;)}.glyphicon{position:relative;top:1px;display:inline-block;font-family:&#x27;Glyphicons Halflings&#x27;;font-style:normal;font-weight:400;line-height:1;-webkit-font-smoothing:antialiased;-moz-osx-font-smoothing:grayscale}.glyphicon-asterisk:before{content:&quot;\\002a&quot;}.glyphicon-plus:before{content:&quot;\\002b&quot;}.glyphicon-eur:before,.glyphicon-euro:before{content:&quot;\\20ac&quot;}.glyphicon-minus:before{content:&quot;\\2212&quot;}.glyphicon-cloud:before{content:&quot;\\2601&quot;}.glyphicon-envelope:before{content:&quot;\\2709&quot;}.glyphicon-pencil:before{content:&quot;\\270f&quot;}.glyphicon-glass:before{content:&quot;\\e001&quot;}.glyphicon-music:before{content:&quot;\\e002&quot;}.glyphicon-search:before{content:&quot;\\e003&quot;}.glyphicon-heart:before{content:&quot;\\e005&quot;}.glyphicon-star:before{content:&quot;\\e006&quot;}.glyphicon-star-empty:before{content:&quot;\\e007&quot;}.glyphicon-user:before{content:&quot;\\e008&quot;}.glyphicon-film:before{content:&quot;\\e009&quot;}.glyphicon-th-large:before{content:&quot;\\e010&quot;}.glyphicon-th:before{content:&quot;\\e011&quot;}.glyphicon-th-list:before{content:&quot;\\e012&quot;}.glyphicon-ok:before{content:&quot;\\e013&quot;}.glyphicon-remove:before{content:&quot;\\e014&quot;}.glyphicon-zoom-in:before{content:&quot;\\e015&quot;}.glyphicon-zoom-out:before{content:&quot;\\e016&quot;}.glyphicon-off:before{content:&quot;\\e017&quot;}.glyphicon-signal:before{content:&quot;\\e018&quot;}.glyphicon-cog:before{content:&quot;\\e019&quot;}.glyphicon-trash:before{content:&quot;\\e020&quot;}.glyphicon-home:before{content:&quot;\\e021&quot;}.glyphicon-file:before{content:&quot;\\e022&quot;}.glyphicon-time:before{content:&quot;\\e023&quot;}.glyphicon-road:before{content:&quot;\\e024&quot;}.glyphicon-download-alt:before{content:&quot;\\e025&quot;}.glyphicon-download:before{content:&quot;\\e026&quot;}.glyphicon-upload:before{content:&quot;\\e027&quot;}.glyphicon-inbox:before{content:&quot;\\e028&quot;}.glyphicon-play-circle:before{content:&quot;\\e029&quot;}.glyphicon-repeat:before{content:&quot;\\e030&quot;}.glyphicon-refresh:before{content:&quot;\\e031&quot;}.glyphicon-list-alt:before{content:&quot;\\e032&quot;}.glyphicon-lock:before{content:&quot;\\e033&quot;}.glyphicon-flag:before{content:&quot;\\e034&quot;}.glyphicon-headphones:before{content:&quot;\\e035&quot;}.glyphicon-volume-off:before{content:&quot;\\e036&quot;}.glyphicon-volume-down:before{content:&quot;\\e037&quot;}.glyphicon-volume-up:before{content:&quot;\\e038&quot;}.glyphicon-qrcode:before{content:&quot;\\e039&quot;}.glyphicon-barcode:before{content:&quot;\\e040&quot;}.glyphicon-tag:before{content:&quot;\\e041&quot;}.glyphicon-tags:before{content:&quot;\\e042&quot;}.glyphicon-book:before{content:&quot;\\e043&quot;}.glyphicon-bookmark:before{content:&quot;\\e044&quot;}.glyphicon-print:before{content:&quot;\\e045&quot;}.glyphicon-camera:before{content:&quot;\\e046&quot;}.glyphicon-font:before{content:&quot;\\e047&quot;}.glyphicon-bold:before{content:&quot;\\e048&quot;}.glyphicon-italic:before{content:&quot;\\e049&quot;}.glyphicon-text-height:before{content:&quot;\\e050&quot;}.glyphicon-text-width:before{content:&quot;\\e051&quot;}.glyphicon-align-left:before{content:&quot;\\e052&quot;}.glyphicon-align-center:before{content:&quot;\\e053&quot;}.glyphicon-align-right:before{content:&quot;\\e054&quot;}.glyphicon-align-justify:before{content:&quot;\\e055&quot;}.glyphicon-list:before{content:&quot;\\e056&quot;}.glyphicon-indent-left:before{content:&quot;\\e057&quot;}.glyphicon-indent-right:before{content:&quot;\\e058&quot;}.glyphicon-facetime-video:before{content:&quot;\\e059&quot;}.glyphicon-picture:before{content:&quot;\\e060&quot;}.glyphicon-map-marker:before{content:&quot;\\e062&quot;}.glyphicon-adjust:before{content:&quot;\\e063&quot;}.glyphicon-tint:before{content:&quot;\\e064&quot;}.glyphicon-edit:before{content:&quot;\\e065&quot;}.glyphicon-share:before{content:&quot;\\e066&quot;}.glyphicon-check:before{content:&quot;\\e067&quot;}.glyphicon-move:before{content:&quot;\\e068&quot;}.glyphicon-step-backward:before{content:&quot;\\e069&quot;}.glyphicon-fast-backward:before{content:&quot;\\e070&quot;}.glyphicon-backward:before{content:&quot;\\e071&quot;}.glyphicon-play:before{content:&quot;\\e072&quot;}.glyphicon-pause:before{content:&quot;\\e073&quot;}.glyphicon-stop:before{content:&quot;\\e074&quot;}.glyphicon-forward:before{content:&quot;\\e075&quot;}.glyphicon-fast-forward:before{content:&quot;\\e076&quot;}.glyphicon-step-forward:before{content:&quot;\\e077&quot;}.glyphicon-eject:before{content:&quot;\\e078&quot;}.glyphicon-chevron-left:before{content:&quot;\\e079&quot;}.glyphicon-chevron-right:before{content:&quot;\\e080&quot;}.glyphicon-plus-sign:before{content:&quot;\\e081&quot;}.glyphicon-minus-sign:before{content:&quot;\\e082&quot;}.glyphicon-remove-sign:before{content:&quot;\\e083&quot;}.glyphicon-ok-sign:before{content:&quot;\\e084&quot;}.glyphicon-question-sign:before{content:&quot;\\e085&quot;}.glyphicon-info-sign:before{content:&quot;\\e086&quot;}.glyphicon-screenshot:before{content:&quot;\\e087&quot;}.glyphicon-remove-circle:before{content:&quot;\\e088&quot;}.glyphicon-ok-circle:before{content:&quot;\\e089&quot;}.glyphicon-ban-circle:before{content:&quot;\\e090&quot;}.glyphicon-arrow-left:before{content:&quot;\\e091&quot;}.glyphicon-arrow-right:before{content:&quot;\\e092&quot;}.glyphicon-arrow-up:before{content:&quot;\\e093&quot;}.glyphicon-arrow-down:before{content:&quot;\\e094&quot;}.glyphicon-share-alt:before{content:&quot;\\e095&quot;}.glyphicon-resize-full:before{content:&quot;\\e096&quot;}.glyphicon-resize-small:before{content:&quot;\\e097&quot;}.glyphicon-exclamation-sign:before{content:&quot;\\e101&quot;}.glyphicon-gift:before{content:&quot;\\e102&quot;}.glyphicon-leaf:before{content:&quot;\\e103&quot;}.glyphicon-fire:before{content:&quot;\\e104&quot;}.glyphicon-eye-open:before{content:&quot;\\e105&quot;}.glyphicon-eye-close:before{content:&quot;\\e106&quot;}.glyphicon-warning-sign:before{content:&quot;\\e107&quot;}.glyphicon-plane:before{content:&quot;\\e108&quot;}.glyphicon-calendar:before{content:&quot;\\e109&quot;}.glyphicon-random:before{content:&quot;\\e110&quot;}.glyphicon-comment:before{content:&quot;\\e111&quot;}.glyphicon-magnet:before{content:&quot;\\e112&quot;}.glyphicon-chevron-up:before{content:&quot;\\e113&quot;}.glyphicon-chevron-down:before{content:&quot;\\e114&quot;}.glyphicon-retweet:before{content:&quot;\\e115&quot;}.glyphicon-shopping-cart:before{content:&quot;\\e116&quot;}.glyphicon-folder-close:before{content:&quot;\\e117&quot;}.glyphicon-folder-open:before{content:&quot;\\e118&quot;}.glyphicon-resize-vertical:before{content:&quot;\\e119&quot;}.glyphicon-resize-horizontal:before{content:&quot;\\e120&quot;}.glyphicon-hdd:before{content:&quot;\\e121&quot;}.glyphicon-bullhorn:before{content:&quot;\\e122&quot;}.glyphicon-bell:before{content:&quot;\\e123&quot;}.glyphicon-certificate:before{content:&quot;\\e124&quot;}.glyphicon-thumbs-up:before{content:&quot;\\e125&quot;}.glyphicon-thumbs-down:before{content:&quot;\\e126&quot;}.glyphicon-hand-right:before{content:&quot;\\e127&quot;}.glyphicon-hand-left:before{content:&quot;\\e128&quot;}.glyphicon-hand-up:before{content:&quot;\\e129&quot;}.glyphicon-hand-down:before{content:&quot;\\e130&quot;}.glyphicon-circle-arrow-right:before{content:&quot;\\e131&quot;}.glyphicon-circle-arrow-left:before{content:&quot;\\e132&quot;}.glyphicon-circle-arrow-up:before{content:&quot;\\e133&quot;}.glyphicon-circle-arrow-down:before{content:&quot;\\e134&quot;}.glyphicon-globe:before{content:&quot;\\e135&quot;}.glyphicon-wrench:before{content:&quot;\\e136&quot;}.glyphicon-tasks:before{content:&quot;\\e137&quot;}.glyphicon-filter:before{content:&quot;\\e138&quot;}.glyphicon-briefcase:before{content:&quot;\\e139&quot;}.glyphicon-fullscreen:before{content:&quot;\\e140&quot;}.glyphicon-dashboard:before{content:&quot;\\e141&quot;}.glyphicon-paperclip:before{content:&quot;\\e142&quot;}.glyphicon-heart-empty:before{content:&quot;\\e143&quot;}.glyphicon-link:before{content:&quot;\\e144&quot;}.glyphicon-phone:before{content:&quot;\\e145&quot;}.glyphicon-pushpin:before{content:&quot;\\e146&quot;}.glyphicon-usd:before{content:&quot;\\e148&quot;}.glyphicon-gbp:before{content:&quot;\\e149&quot;}.glyphicon-sort:before{content:&quot;\\e150&quot;}.glyphicon-sort-by-alphabet:before{content:&quot;\\e151&quot;}.glyphicon-sort-by-alphabet-alt:before{content:&quot;\\e152&quot;}.glyphicon-sort-by-order:before{content:&quot;\\e153&quot;}.glyphicon-sort-by-order-alt:before{content:&quot;\\e154&quot;}.glyphicon-sort-by-attributes:before{content:&quot;\\e155&quot;}.glyphicon-sort-by-attributes-alt:before{content:&quot;\\e156&quot;}.glyphicon-unchecked:before{content:&quot;\\e157&quot;}.glyphicon-expand:before{content:&quot;\\e158&quot;}.glyphicon-collapse-down:before{content:&quot;\\e159&quot;}.glyphicon-collapse-up:before{content:&quot;\\e160&quot;}.glyphicon-log-in:before{content:&quot;\\e161&quot;}.glyphicon-flash:before{content:&quot;\\e162&quot;}.glyphicon-log-out:before{content:&quot;\\e163&quot;}.glyphicon-new-window:before{content:&quot;\\e164&quot;}.glyphicon-record:before{content:&quot;\\e165&quot;}.glyphicon-save:before{content:&quot;\\e166&quot;}.glyphicon-open:before{content:&quot;\\e167&quot;}.glyphicon-saved:before{content:&quot;\\e168&quot;}.glyphicon-import:before{content:&quot;\\e169&quot;}.glyphicon-export:before{content:&quot;\\e170&quot;}.glyphicon-send:before{content:&quot;\\e171&quot;}.glyphicon-floppy-disk:before{content:&quot;\\e172&quot;}.glyphicon-floppy-saved:before{content:&quot;\\e173&quot;}.glyphicon-floppy-remove:before{content:&quot;\\e174&quot;}.glyphicon-floppy-save:before{content:&quot;\\e175&quot;}.glyphicon-floppy-open:before{content:&quot;\\e176&quot;}.glyphicon-credit-card:before{content:&quot;\\e177&quot;}.glyphicon-transfer:before{content:&quot;\\e178&quot;}.glyphicon-cutlery:before{content:&quot;\\e179&quot;}.glyphicon-header:before{content:&quot;\\e180&quot;}.glyphicon-compressed:before{content:&quot;\\e181&quot;}.glyphicon-earphone:before{content:&quot;\\e182&quot;}.glyphicon-phone-alt:before{content:&quot;\\e183&quot;}.glyphicon-tower:before{content:&quot;\\e184&quot;}.glyphicon-stats:before{content:&quot;\\e185&quot;}.glyphicon-sd-video:before{content:&quot;\\e186&quot;}.glyphicon-hd-video:before{content:&quot;\\e187&quot;}.glyphicon-subtitles:before{content:&quot;\\e188&quot;}.glyphicon-sound-stereo:before{content:&quot;\\e189&quot;}.glyphicon-sound-dolby:before{content:&quot;\\e190&quot;}.glyphicon-sound-5-1:before{content:&quot;\\e191&quot;}.glyphicon-sound-6-1:before{content:&quot;\\e192&quot;}.glyphicon-sound-7-1:before{content:&quot;\\e193&quot;}.glyphicon-copyright-mark:before{content:&quot;\\e194&quot;}.glyphicon-registration-mark:before{content:&quot;\\e195&quot;}.glyphicon-cloud-download:before{content:&quot;\\e197&quot;}.glyphicon-cloud-upload:before{content:&quot;\\e198&quot;}.glyphicon-tree-conifer:before{content:&quot;\\e199&quot;}.glyphicon-tree-deciduous:before{content:&quot;\\e200&quot;}.glyphicon-cd:before{content:&quot;\\e201&quot;}.glyphicon-save-file:before{content:&quot;\\e202&quot;}.glyphicon-open-file:before{content:&quot;\\e203&quot;}.glyphicon-level-up:before{content:&quot;\\e204&quot;}.glyphicon-copy:before{content:&quot;\\e205&quot;}.glyphicon-paste:before{content:&quot;\\e206&quot;}.glyphicon-alert:before{content:&quot;\\e209&quot;}.glyphicon-equalizer:before{content:&quot;\\e210&quot;}.glyphicon-king:before{content:&quot;\\e211&quot;}.glyphicon-queen:before{content:&quot;\\e212&quot;}.glyphicon-pawn:before{content:&quot;\\e213&quot;}.glyphicon-bishop:before{content:&quot;\\e214&quot;}.glyphicon-knight:before{content:&quot;\\e215&quot;}.glyphicon-baby-formula:before{content:&quot;\\e216&quot;}.glyphicon-tent:before{content:&quot;\\26fa&quot;}.glyphicon-blackboard:before{content:&quot;\\e218&quot;}.glyphicon-bed:before{content:&quot;\\e219&quot;}.glyphicon-apple:before{content:&quot;\\f8ff&quot;}.glyphicon-erase:before{content:&quot;\\e221&quot;}.glyphicon-hourglass:before{content:&quot;\\231b&quot;}.glyphicon-lamp:before{content:&quot;\\e223&quot;}.glyphicon-duplicate:before{content:&quot;\\e224&quot;}.glyphicon-piggy-bank:before{content:&quot;\\e225&quot;}.glyphicon-scissors:before{content:&quot;\\e226&quot;}.glyphicon-bitcoin:before{content:&quot;\\e227&quot;}.glyphicon-btc:before{content:&quot;\\e227&quot;}.glyphicon-xbt:before{content:&quot;\\e227&quot;}.glyphicon-yen:before{content:&quot;\\00a5&quot;}.glyphicon-jpy:before{content:&quot;\\00a5&quot;}.glyphicon-ruble:before{content:&quot;\\20bd&quot;}.glyphicon-rub:before{content:&quot;\\20bd&quot;}.glyphicon-scale:before{content:&quot;\\e230&quot;}.glyphicon-ice-lolly:before{content:&quot;\\e231&quot;}.glyphicon-ice-lolly-tasted:before{content:&quot;\\e232&quot;}.glyphicon-education:before{content:&quot;\\e233&quot;}.glyphicon-option-horizontal:before{content:&quot;\\e234&quot;}.glyphicon-option-vertical:before{content:&quot;\\e235&quot;}.glyphicon-menu-hamburger:before{content:&quot;\\e236&quot;}.glyphicon-modal-window:before{content:&quot;\\e237&quot;}.glyphicon-oil:before{content:&quot;\\e238&quot;}.glyphicon-grain:before{content:&quot;\\e239&quot;}.glyphicon-sunglasses:before{content:&quot;\\e240&quot;}.glyphicon-text-size:before{content:&quot;\\e241&quot;}.glyphicon-text-color:before{content:&quot;\\e242&quot;}.glyphicon-text-background:before{content:&quot;\\e243&quot;}.glyphicon-object-align-top:before{content:&quot;\\e244&quot;}.glyphicon-object-align-bottom:before{content:&quot;\\e245&quot;}.glyphicon-object-align-horizontal:before{content:&quot;\\e246&quot;}.glyphicon-object-align-left:before{content:&quot;\\e247&quot;}.glyphicon-object-align-vertical:before{content:&quot;\\e248&quot;}.glyphicon-object-align-right:before{content:&quot;\\e249&quot;}.glyphicon-triangle-right:before{content:&quot;\\e250&quot;}.glyphicon-triangle-left:before{content:&quot;\\e251&quot;}.glyphicon-triangle-bottom:before{content:&quot;\\e252&quot;}.glyphicon-triangle-top:before{content:&quot;\\e253&quot;}.glyphicon-console:before{content:&quot;\\e254&quot;}.glyphicon-superscript:before{content:&quot;\\e255&quot;}.glyphicon-subscript:before{content:&quot;\\e256&quot;}.glyphicon-menu-left:before{content:&quot;\\e257&quot;}.glyphicon-menu-right:before{content:&quot;\\e258&quot;}.glyphicon-menu-down:before{content:&quot;\\e259&quot;}.glyphicon-menu-up:before{content:&quot;\\e260&quot;}*{-webkit-box-sizing:border-box;-moz-box-sizing:border-box;box-sizing:border-box}:after,:before{-webkit-box-sizing:border-box;-moz-box-sizing:border-box;box-sizing:border-box}html{font-size:10px;-webkit-tap-highlight-color:rgba(0,0,0,0)}body{font-family:&quot;Helvetica Neue&quot;,Helvetica,Arial,sans-serif;font-size:14px;line-height:1.42857143;color:#333;background-color:#fff}button,input,select,textarea{font-family:inherit;font-size:inherit;line-height:inherit}a{color:#337ab7;text-decoration:none}a:focus,a:hover{color:#23527c;text-decoration:underline}a:focus{outline:5px auto -webkit-focus-ring-color;outline-offset:-2px}figure{margin:0}img{vertical-align:middle}.carousel-inner&gt;.item&gt;a&gt;img,.carousel-inner&gt;.item&gt;img,.img-responsive,.thumbnail a&gt;img,.thumbnail&gt;img{display:block;max-width:100%;height:auto}.img-rounded{border-radius:6px}.img-thumbnail{display:inline-block;max-width:100%;height:auto;padding:4px;line-height:1.42857143;background-color:#fff;border:1px solid #ddd;border-radius:4px;-webkit-transition:all .2s ease-in-out;-o-transition:all .2s ease-in-out;transition:all .2s ease-in-out}.img-circle{border-radius:50%}hr{margin-top:20px;margin-bottom:20px;border:0;border-top:1px solid #eee}.sr-only{position:absolute;width:1px;height:1px;padding:0;margin:-1px;overflow:hidden;clip:rect(0,0,0,0);border:0}.sr-only-focusable:active,.sr-only-focusable:focus{position:static;width:auto;height:auto;margin:0;overflow:visible;clip:auto}[role=button]{cursor:pointer}.h1,.h2,.h3,.h4,.h5,.h6,h1,h2,h3,h4,h5,h6{font-family:inherit;font-weight:500;line-height:1.1;color:inherit}.h1 .small,.h1 small,.h2 .small,.h2 small,.h3 .small,.h3 small,.h4 .small,.h4 small,.h5 .small,.h5 small,.h6 .small,.h6 small,h1 .small,h1 small,h2 .small,h2 small,h3 .small,h3 small,h4 .small,h4 small,h5 .small,h5 small,h6 .small,h6 small{font-weight:400;line-height:1;color:#777}.h1,.h2,.h3,h1,h2,h3{margin-top:20px;margin-bottom:10px}.h1 .small,.h1 small,.h2 .small,.h2 small,.h3 .small,.h3 small,h1 .small,h1 small,h2 .small,h2 small,h3 .small,h3 small{font-size:65%}.h4,.h5,.h6,h4,h5,h6{margin-top:10px;margin-bottom:10px}.h4 .small,.h4 small,.h5 .small,.h5 small,.h6 .small,.h6 small,h4 .small,h4 small,h5 .small,h5 small,h6 .small,h6 small{font-size:75%}.h1,h1{font-size:36px}.h2,h2{font-size:30px}.h3,h3{font-size:24px}.h4,h4{font-size:18px}.h5,h5{font-size:14px}.h6,h6{font-size:12px}p{margin:0 0 10px}.lead{margin-bottom:20px;font-size:16px;font-weight:300;line-height:1.4}@media (min-width:768px){.lead{font-size:21px}}.small,small{font-size:85%}.mark,mark{padding:.2em;background-color:#fcf8e3}.text-left{text-align:left}.text-right{text-align:right}.text-center{text-align:center}.text-justify{text-align:justify}.text-nowrap{white-space:nowrap}.text-lowercase{text-transform:lowercase}.text-uppercase{text-transform:uppercase}.text-capitalize{text-transform:capitalize}.text-muted{color:#777}.text-primary{color:#337ab7}a.text-primary:focus,a.text-primary:hover{color:#286090}.text-success{color:#3c763d}a.text-success:focus,a.text-success:hover{color:#2b542c}.text-info{color:#31708f}a.text-info:focus,a.text-info:hover{color:#245269}.text-warning{color:#8a6d3b}a.text-warning:focus,a.text-warning:hover{color:#66512c}.text-danger{color:#a94442}a.text-danger:focus,a.text-danger:hover{color:#843534}.bg-primary{color:#fff;background-color:#337ab7}a.bg-primary:focus,a.bg-primary:hover{background-color:#286090}.bg-success{background-color:#dff0d8}a.bg-success:focus,a.bg-success:hover{background-color:#c1e2b3}.bg-info{background-color:#d9edf7}a.bg-info:focus,a.bg-info:hover{background-color:#afd9ee}.bg-warning{background-color:#fcf8e3}a.bg-warning:focus,a.bg-warning:hover{background-color:#f7ecb5}.bg-danger{background-color:#f2dede}a.bg-danger:focus,a.bg-danger:hover{background-color:#e4b9b9}.page-header{padding-bottom:9px;margin:40px 0 20px;border-bottom:1px solid #eee}ol,ul{margin-top:0;margin-bottom:10px}ol ol,ol ul,ul ol,ul ul{margin-bottom:0}.list-unstyled{padding-left:0;list-style:none}.list-inline{padding-left:0;margin-left:-5px;list-style:none}.list-inline&gt;li{display:inline-block;padding-right:5px;padding-left:5px}dl{margin-top:0;margin-bottom:20px}dd,dt{line-height:1.42857143}dt{font-weight:700}dd{margin-left:0}@media (min-width:768px){.dl-horizontal dt{float:left;width:160px;overflow:hidden;clear:left;text-align:right;text-overflow:ellipsis;white-space:nowrap}.dl-horizontal dd{margin-left:180px}}abbr[data-original-title],abbr[title]{cursor:help;border-bottom:1px dotted #777}.initialism{font-size:90%;text-transform:uppercase}blockquote{padding:10px 20px;margin:0 0 20px;font-size:17.5px;border-left:5px solid #eee}blockquote ol:last-child,blockquote p:last-child,blockquote ul:last-child{margin-bottom:0}blockquote .small,blockquote footer,blockquote small{display:block;font-size:80%;line-height:1.42857143;color:#777}blockquote .small:before,blockquote footer:before,blockquote small:before{content:&#x27;\\2014 \\00A0&#x27;}.blockquote-reverse,blockquote.pull-right{padding-right:15px;padding-left:0;text-align:right;border-right:5px solid #eee;border-left:0}.blockquote-reverse .small:before,.blockquote-reverse footer:before,.blockquote-reverse small:before,blockquote.pull-right .small:before,blockquote.pull-right footer:before,blockquote.pull-right small:before{content:&#x27;&#x27;}.blockquote-reverse .small:after,.blockquote-reverse footer:after,.blockquote-reverse small:after,blockquote.pull-right .small:after,blockquote.pull-right footer:after,blockquote.pull-right small:after{content:&#x27;\\00A0 \\2014&#x27;}address{margin-bottom:20px;font-style:normal;line-height:1.42857143}code,kbd,pre,samp{font-family:Menlo,Monaco,Consolas,&quot;Courier New&quot;,monospace}code{padding:2px 4px;font-size:90%;color:#c7254e;background-color:#f9f2f4;border-radius:4px}kbd{padding:2px 4px;font-size:90%;color:#fff;background-color:#333;border-radius:3px;-webkit-box-shadow:inset 0 -1px 0 rgba(0,0,0,.25);box-shadow:inset 0 -1px 0 rgba(0,0,0,.25)}kbd kbd{padding:0;font-size:100%;font-weight:700;-webkit-box-shadow:none;box-shadow:none}pre{display:block;padding:9.5px;margin:0 0 10px;font-size:13px;line-height:1.42857143;color:#333;word-break:break-all;word-wrap:break-word;background-color:#f5f5f5;border:1px solid #ccc;border-radius:4px}pre code{padding:0;font-size:inherit;color:inherit;white-space:pre-wrap;background-color:transparent;border-radius:0}.pre-scrollable{max-height:340px;overflow-y:scroll}.container{padding-right:15px;padding-left:15px;margin-right:auto;margin-left:auto}@media (min-width:768px){.container{width:750px}}@media (min-width:992px){.container{width:970px}}@media (min-width:1200px){.container{width:1170px}}.container-fluid{padding-right:15px;padding-left:15px;margin-right:auto;margin-left:auto}.row{margin-right:-15px;margin-left:-15px}.col-lg-1,.col-lg-10,.col-lg-11,.col-lg-12,.col-lg-2,.col-lg-3,.col-lg-4,.col-lg-5,.col-lg-6,.col-lg-7,.col-lg-8,.col-lg-9,.col-md-1,.col-md-10,.col-md-11,.col-md-12,.col-md-2,.col-md-3,.col-md-4,.col-md-5,.col-md-6,.col-md-7,.col-md-8,.col-md-9,.col-sm-1,.col-sm-10,.col-sm-11,.col-sm-12,.col-sm-2,.col-sm-3,.col-sm-4,.col-sm-5,.col-sm-6,.col-sm-7,.col-sm-8,.col-sm-9,.col-xs-1,.col-xs-10,.col-xs-11,.col-xs-12,.col-xs-2,.col-xs-3,.col-xs-4,.col-xs-5,.col-xs-6,.col-xs-7,.col-xs-8,.col-xs-9{position:relative;min-height:1px;padding-right:15px;padding-left:15px}.col-xs-1,.col-xs-10,.col-xs-11,.col-xs-12,.col-xs-2,.col-xs-3,.col-xs-4,.col-xs-5,.col-xs-6,.col-xs-7,.col-xs-8,.col-xs-9{float:left}.col-xs-12{width:100%}.col-xs-11{width:91.66666667%}.col-xs-10{width:83.33333333%}.col-xs-9{width:75%}.col-xs-8{width:66.66666667%}.col-xs-7{width:58.33333333%}.col-xs-6{width:50%}.col-xs-5{width:41.66666667%}.col-xs-4{width:33.33333333%}.col-xs-3{width:25%}.col-xs-2{width:16.66666667%}.col-xs-1{width:8.33333333%}.col-xs-pull-12{right:100%}.col-xs-pull-11{right:91.66666667%}.col-xs-pull-10{right:83.33333333%}.col-xs-pull-9{right:75%}.col-xs-pull-8{right:66.66666667%}.col-xs-pull-7{right:58.33333333%}.col-xs-pull-6{right:50%}.col-xs-pull-5{right:41.66666667%}.col-xs-pull-4{right:33.33333333%}.col-xs-pull-3{right:25%}.col-xs-pull-2{right:16.66666667%}.col-xs-pull-1{right:8.33333333%}.col-xs-pull-0{right:auto}.col-xs-push-12{left:100%}.col-xs-push-11{left:91.66666667%}.col-xs-push-10{left:83.33333333%}.col-xs-push-9{left:75%}.col-xs-push-8{left:66.66666667%}.col-xs-push-7{left:58.33333333%}.col-xs-push-6{left:50%}.col-xs-push-5{left:41.66666667%}.col-xs-push-4{left:33.33333333%}.col-xs-push-3{left:25%}.col-xs-push-2{left:16.66666667%}.col-xs-push-1{left:8.33333333%}.col-xs-push-0{left:auto}.col-xs-offset-12{margin-left:100%}.col-xs-offset-11{margin-left:91.66666667%}.col-xs-offset-10{margin-left:83.33333333%}.col-xs-offset-9{margin-left:75%}.col-xs-offset-8{margin-left:66.66666667%}.col-xs-offset-7{margin-left:58.33333333%}.col-xs-offset-6{margin-left:50%}.col-xs-offset-5{margin-left:41.66666667%}.col-xs-offset-4{margin-left:33.33333333%}.col-xs-offset-3{margin-left:25%}.col-xs-offset-2{margin-left:16.66666667%}.col-xs-offset-1{margin-left:8.33333333%}.col-xs-offset-0{margin-left:0}@media (min-width:768px){.col-sm-1,.col-sm-10,.col-sm-11,.col-sm-12,.col-sm-2,.col-sm-3,.col-sm-4,.col-sm-5,.col-sm-6,.col-sm-7,.col-sm-8,.col-sm-9{float:left}.col-sm-12{width:100%}.col-sm-11{width:91.66666667%}.col-sm-10{width:83.33333333%}.col-sm-9{width:75%}.col-sm-8{width:66.66666667%}.col-sm-7{width:58.33333333%}.col-sm-6{width:50%}.col-sm-5{width:41.66666667%}.col-sm-4{width:33.33333333%}.col-sm-3{width:25%}.col-sm-2{width:16.66666667%}.col-sm-1{width:8.33333333%}.col-sm-pull-12{right:100%}.col-sm-pull-11{right:91.66666667%}.col-sm-pull-10{right:83.33333333%}.col-sm-pull-9{right:75%}.col-sm-pull-8{right:66.66666667%}.col-sm-pull-7{right:58.33333333%}.col-sm-pull-6{right:50%}.col-sm-pull-5{right:41.66666667%}.col-sm-pull-4{right:33.33333333%}.col-sm-pull-3{right:25%}.col-sm-pull-2{right:16.66666667%}.col-sm-pull-1{right:8.33333333%}.col-sm-pull-0{right:auto}.col-sm-push-12{left:100%}.col-sm-push-11{left:91.66666667%}.col-sm-push-10{left:83.33333333%}.col-sm-push-9{left:75%}.col-sm-push-8{left:66.66666667%}.col-sm-push-7{left:58.33333333%}.col-sm-push-6{left:50%}.col-sm-push-5{left:41.66666667%}.col-sm-push-4{left:33.33333333%}.col-sm-push-3{left:25%}.col-sm-push-2{left:16.66666667%}.col-sm-push-1{left:8.33333333%}.col-sm-push-0{left:auto}.col-sm-offset-12{margin-left:100%}.col-sm-offset-11{margin-left:91.66666667%}.col-sm-offset-10{margin-left:83.33333333%}.col-sm-offset-9{margin-left:75%}.col-sm-offset-8{margin-left:66.66666667%}.col-sm-offset-7{margin-left:58.33333333%}.col-sm-offset-6{margin-left:50%}.col-sm-offset-5{margin-left:41.66666667%}.col-sm-offset-4{margin-left:33.33333333%}.col-sm-offset-3{margin-left:25%}.col-sm-offset-2{margin-left:16.66666667%}.col-sm-offset-1{margin-left:8.33333333%}.col-sm-offset-0{margin-left:0}}@media (min-width:992px){.col-md-1,.col-md-10,.col-md-11,.col-md-12,.col-md-2,.col-md-3,.col-md-4,.col-md-5,.col-md-6,.col-md-7,.col-md-8,.col-md-9{float:left}.col-md-12{width:100%}.col-md-11{width:91.66666667%}.col-md-10{width:83.33333333%}.col-md-9{width:75%}.col-md-8{width:66.66666667%}.col-md-7{width:58.33333333%}.col-md-6{width:50%}.col-md-5{width:41.66666667%}.col-md-4{width:33.33333333%}.col-md-3{width:25%}.col-md-2{width:16.66666667%}.col-md-1{width:8.33333333%}.col-md-pull-12{right:100%}.col-md-pull-11{right:91.66666667%}.col-md-pull-10{right:83.33333333%}.col-md-pull-9{right:75%}.col-md-pull-8{right:66.66666667%}.col-md-pull-7{right:58.33333333%}.col-md-pull-6{right:50%}.col-md-pull-5{right:41.66666667%}.col-md-pull-4{right:33.33333333%}.col-md-pull-3{right:25%}.col-md-pull-2{right:16.66666667%}.col-md-pull-1{right:8.33333333%}.col-md-pull-0{right:auto}.col-md-push-12{left:100%}.col-md-push-11{left:91.66666667%}.col-md-push-10{left:83.33333333%}.col-md-push-9{left:75%}.col-md-push-8{left:66.66666667%}.col-md-push-7{left:58.33333333%}.col-md-push-6{left:50%}.col-md-push-5{left:41.66666667%}.col-md-push-4{left:33.33333333%}.col-md-push-3{left:25%}.col-md-push-2{left:16.66666667%}.col-md-push-1{left:8.33333333%}.col-md-push-0{left:auto}.col-md-offset-12{margin-left:100%}.col-md-offset-11{margin-left:91.66666667%}.col-md-offset-10{margin-left:83.33333333%}.col-md-offset-9{margin-left:75%}.col-md-offset-8{margin-left:66.66666667%}.col-md-offset-7{margin-left:58.33333333%}.col-md-offset-6{margin-left:50%}.col-md-offset-5{margin-left:41.66666667%}.col-md-offset-4{margin-left:33.33333333%}.col-md-offset-3{margin-left:25%}.col-md-offset-2{margin-left:16.66666667%}.col-md-offset-1{margin-left:8.33333333%}.col-md-offset-0{margin-left:0}}@media (min-width:1200px){.col-lg-1,.col-lg-10,.col-lg-11,.col-lg-12,.col-lg-2,.col-lg-3,.col-lg-4,.col-lg-5,.col-lg-6,.col-lg-7,.col-lg-8,.col-lg-9{float:left}.col-lg-12{width:100%}.col-lg-11{width:91.66666667%}.col-lg-10{width:83.33333333%}.col-lg-9{width:75%}.col-lg-8{width:66.66666667%}.col-lg-7{width:58.33333333%}.col-lg-6{width:50%}.col-lg-5{width:41.66666667%}.col-lg-4{width:33.33333333%}.col-lg-3{width:25%}.col-lg-2{width:16.66666667%}.col-lg-1{width:8.33333333%}.col-lg-pull-12{right:100%}.col-lg-pull-11{right:91.66666667%}.col-lg-pull-10{right:83.33333333%}.col-lg-pull-9{right:75%}.col-lg-pull-8{right:66.66666667%}.col-lg-pull-7{right:58.33333333%}.col-lg-pull-6{right:50%}.col-lg-pull-5{right:41.66666667%}.col-lg-pull-4{right:33.33333333%}.col-lg-pull-3{right:25%}.col-lg-pull-2{right:16.66666667%}.col-lg-pull-1{right:8.33333333%}.col-lg-pull-0{right:auto}.col-lg-push-12{left:100%}.col-lg-push-11{left:91.66666667%}.col-lg-push-10{left:83.33333333%}.col-lg-push-9{left:75%}.col-lg-push-8{left:66.66666667%}.col-lg-push-7{left:58.33333333%}.col-lg-push-6{left:50%}.col-lg-push-5{left:41.66666667%}.col-lg-push-4{left:33.33333333%}.col-lg-push-3{left:25%}.col-lg-push-2{left:16.66666667%}.col-lg-push-1{left:8.33333333%}.col-lg-push-0{left:auto}.col-lg-offset-12{margin-left:100%}.col-lg-offset-11{margin-left:91.66666667%}.col-lg-offset-10{margin-left:83.33333333%}.col-lg-offset-9{margin-left:75%}.col-lg-offset-8{margin-left:66.66666667%}.col-lg-offset-7{margin-left:58.33333333%}.col-lg-offset-6{margin-left:50%}.col-lg-offset-5{margin-left:41.66666667%}.col-lg-offset-4{margin-left:33.33333333%}.col-lg-offset-3{margin-left:25%}.col-lg-offset-2{margin-left:16.66666667%}.col-lg-offset-1{margin-left:8.33333333%}.col-lg-offset-0{margin-left:0}}table{background-color:transparent}caption{padding-top:8px;padding-bottom:8px;color:#777;text-align:left}th{text-align:left}.table{width:100%;max-width:100%;margin-bottom:20px}.table&gt;tbody&gt;tr&gt;td,.table&gt;tbody&gt;tr&gt;th,.table&gt;tfoot&gt;tr&gt;td,.table&gt;tfoot&gt;tr&gt;th,.table&gt;thead&gt;tr&gt;td,.table&gt;thead&gt;tr&gt;th{padding:8px;line-height:1.42857143;vertical-align:top;border-top:1px solid #ddd}.table&gt;thead&gt;tr&gt;th{vertical-align:bottom;border-bottom:2px solid #ddd}.table&gt;caption+thead&gt;tr:first-child&gt;td,.table&gt;caption+thead&gt;tr:first-child&gt;th,.table&gt;colgroup+thead&gt;tr:first-child&gt;td,.table&gt;colgroup+thead&gt;tr:first-child&gt;th,.table&gt;thead:first-child&gt;tr:first-child&gt;td,.table&gt;thead:first-child&gt;tr:first-child&gt;th{border-top:0}.table&gt;tbody+tbody{border-top:2px solid #ddd}.table .table{background-color:#fff}.table-condensed&gt;tbody&gt;tr&gt;td,.table-condensed&gt;tbody&gt;tr&gt;th,.table-condensed&gt;tfoot&gt;tr&gt;td,.table-condensed&gt;tfoot&gt;tr&gt;th,.table-condensed&gt;thead&gt;tr&gt;td,.table-condensed&gt;thead&gt;tr&gt;th{padding:5px}.table-bordered{border:1px solid #ddd}.table-bordered&gt;tbody&gt;tr&gt;td,.table-bordered&gt;tbody&gt;tr&gt;th,.table-bordered&gt;tfoot&gt;tr&gt;td,.table-bordered&gt;tfoot&gt;tr&gt;th,.table-bordered&gt;thead&gt;tr&gt;td,.table-bordered&gt;thead&gt;tr&gt;th{border:1px solid #ddd}.table-bordered&gt;thead&gt;tr&gt;td,.table-bordered&gt;thead&gt;tr&gt;th{border-bottom-width:2px}.table-striped&gt;tbody&gt;tr:nth-of-type(odd){background-color:#f9f9f9}.table-hover&gt;tbody&gt;tr:hover{background-color:#f5f5f5}table col[class*=col-]{position:static;display:table-column;float:none}table td[class*=col-],table th[class*=col-]{position:static;display:table-cell;float:none}.table&gt;tbody&gt;tr.active&gt;td,.table&gt;tbody&gt;tr.active&gt;th,.table&gt;tbody&gt;tr&gt;td.active,.table&gt;tbody&gt;tr&gt;th.active,.table&gt;tfoot&gt;tr.active&gt;td,.table&gt;tfoot&gt;tr.active&gt;th,.table&gt;tfoot&gt;tr&gt;td.active,.table&gt;tfoot&gt;tr&gt;th.active,.table&gt;thead&gt;tr.active&gt;td,.table&gt;thead&gt;tr.active&gt;th,.table&gt;thead&gt;tr&gt;td.active,.table&gt;thead&gt;tr&gt;th.active{background-color:#f5f5f5}.table-hover&gt;tbody&gt;tr.active:hover&gt;td,.table-hover&gt;tbody&gt;tr.active:hover&gt;th,.table-hover&gt;tbody&gt;tr:hover&gt;.active,.table-hover&gt;tbody&gt;tr&gt;td.active:hover,.table-hover&gt;tbody&gt;tr&gt;th.active:hover{background-color:#e8e8e8}.table&gt;tbody&gt;tr.success&gt;td,.table&gt;tbody&gt;tr.success&gt;th,.table&gt;tbody&gt;tr&gt;td.success,.table&gt;tbody&gt;tr&gt;th.success,.table&gt;tfoot&gt;tr.success&gt;td,.table&gt;tfoot&gt;tr.success&gt;th,.table&gt;tfoot&gt;tr&gt;td.success,.table&gt;tfoot&gt;tr&gt;th.success,.table&gt;thead&gt;tr.success&gt;td,.table&gt;thead&gt;tr.success&gt;th,.table&gt;thead&gt;tr&gt;td.success,.table&gt;thead&gt;tr&gt;th.success{background-color:#dff0d8}.table-hover&gt;tbody&gt;tr.success:hover&gt;td,.table-hover&gt;tbody&gt;tr.success:hover&gt;th,.table-hover&gt;tbody&gt;tr:hover&gt;.success,.table-hover&gt;tbody&gt;tr&gt;td.success:hover,.table-hover&gt;tbody&gt;tr&gt;th.success:hover{background-color:#d0e9c6}.table&gt;tbody&gt;tr.info&gt;td,.table&gt;tbody&gt;tr.info&gt;th,.table&gt;tbody&gt;tr&gt;td.info,.table&gt;tbody&gt;tr&gt;th.info,.table&gt;tfoot&gt;tr.info&gt;td,.table&gt;tfoot&gt;tr.info&gt;th,.table&gt;tfoot&gt;tr&gt;td.info,.table&gt;tfoot&gt;tr&gt;th.info,.table&gt;thead&gt;tr.info&gt;td,.table&gt;thead&gt;tr.info&gt;th,.table&gt;thead&gt;tr&gt;td.info,.table&gt;thead&gt;tr&gt;th.info{background-color:#d9edf7}.table-hover&gt;tbody&gt;tr.info:hover&gt;td,.table-hover&gt;tbody&gt;tr.info:hover&gt;th,.table-hover&gt;tbody&gt;tr:hover&gt;.info,.table-hover&gt;tbody&gt;tr&gt;td.info:hover,.table-hover&gt;tbody&gt;tr&gt;th.info:hover{background-color:#c4e3f3}.table&gt;tbody&gt;tr.warning&gt;td,.table&gt;tbody&gt;tr.warning&gt;th,.table&gt;tbody&gt;tr&gt;td.warning,.table&gt;tbody&gt;tr&gt;th.warning,.table&gt;tfoot&gt;tr.warning&gt;td,.table&gt;tfoot&gt;tr.warning&gt;th,.table&gt;tfoot&gt;tr&gt;td.warning,.table&gt;tfoot&gt;tr&gt;th.warning,.table&gt;thead&gt;tr.warning&gt;td,.table&gt;thead&gt;tr.warning&gt;th,.table&gt;thead&gt;tr&gt;td.warning,.table&gt;thead&gt;tr&gt;th.warning{background-color:#fcf8e3}.table-hover&gt;tbody&gt;tr.warning:hover&gt;td,.table-hover&gt;tbody&gt;tr.warning:hover&gt;th,.table-hover&gt;tbody&gt;tr:hover&gt;.warning,.table-hover&gt;tbody&gt;tr&gt;td.warning:hover,.table-hover&gt;tbody&gt;tr&gt;th.warning:hover{background-color:#faf2cc}.table&gt;tbody&gt;tr.danger&gt;td,.table&gt;tbody&gt;tr.danger&gt;th,.table&gt;tbody&gt;tr&gt;td.danger,.table&gt;tbody&gt;tr&gt;th.danger,.table&gt;tfoot&gt;tr.danger&gt;td,.table&gt;tfoot&gt;tr.danger&gt;th,.table&gt;tfoot&gt;tr&gt;td.danger,.table&gt;tfoot&gt;tr&gt;th.danger,.table&gt;thead&gt;tr.danger&gt;td,.table&gt;thead&gt;tr.danger&gt;th,.table&gt;thead&gt;tr&gt;td.danger,.table&gt;thead&gt;tr&gt;th.danger{background-color:#f2dede}.table-hover&gt;tbody&gt;tr.danger:hover&gt;td,.table-hover&gt;tbody&gt;tr.danger:hover&gt;th,.table-hover&gt;tbody&gt;tr:hover&gt;.danger,.table-hover&gt;tbody&gt;tr&gt;td.danger:hover,.table-hover&gt;tbody&gt;tr&gt;th.danger:hover{background-color:#ebcccc}.table-responsive{min-height:.01%;overflow-x:auto}@media screen and (max-width:767px){.table-responsive{width:100%;margin-bottom:15px;overflow-y:hidden;-ms-overflow-style:-ms-autohiding-scrollbar;border:1px solid #ddd}.table-responsive&gt;.table{margin-bottom:0}.table-responsive&gt;.table&gt;tbody&gt;tr&gt;td,.table-responsive&gt;.table&gt;tbody&gt;tr&gt;th,.table-responsive&gt;.table&gt;tfoot&gt;tr&gt;td,.table-responsive&gt;.table&gt;tfoot&gt;tr&gt;th,.table-responsive&gt;.table&gt;thead&gt;tr&gt;td,.table-responsive&gt;.table&gt;thead&gt;tr&gt;th{white-space:nowrap}.table-responsive&gt;.table-bordered{border:0}.table-responsive&gt;.table-bordered&gt;tbody&gt;tr&gt;td:first-child,.table-responsive&gt;.table-bordered&gt;tbody&gt;tr&gt;th:first-child,.table-responsive&gt;.table-bordered&gt;tfoot&gt;tr&gt;td:first-child,.table-responsive&gt;.table-bordered&gt;tfoot&gt;tr&gt;th:first-child,.table-responsive&gt;.table-bordered&gt;thead&gt;tr&gt;td:first-child,.table-responsive&gt;.table-bordered&gt;thead&gt;tr&gt;th:first-child{border-left:0}.table-responsive&gt;.table-bordered&gt;tbody&gt;tr&gt;td:last-child,.table-responsive&gt;.table-bordered&gt;tbody&gt;tr&gt;th:last-child,.table-responsive&gt;.table-bordered&gt;tfoot&gt;tr&gt;td:last-child,.table-responsive&gt;.table-bordered&gt;tfoot&gt;tr&gt;th:last-child,.table-responsive&gt;.table-bordered&gt;thead&gt;tr&gt;td:last-child,.table-responsive&gt;.table-bordered&gt;thead&gt;tr&gt;th:last-child{border-right:0}.table-responsive&gt;.table-bordered&gt;tbody&gt;tr:last-child&gt;td,.table-responsive&gt;.table-bordered&gt;tbody&gt;tr:last-child&gt;th,.table-responsive&gt;.table-bordered&gt;tfoot&gt;tr:last-child&gt;td,.table-responsive&gt;.table-bordered&gt;tfoot&gt;tr:last-child&gt;th{border-bottom:0}}fieldset{min-width:0;padding:0;margin:0;border:0}legend{display:block;width:100%;padding:0;margin-bottom:20px;font-size:21px;line-height:inherit;color:#333;border:0;border-bottom:1px solid #e5e5e5}label{display:inline-block;max-width:100%;margin-bottom:5px;font-weight:700}input[type=search]{-webkit-box-sizing:border-box;-moz-box-sizing:border-box;box-sizing:border-box}input[type=checkbox],input[type=radio]{margin:4px 0 0;margin-top:1px\\9;line-height:normal}input[type=file]{display:block}input[type=range]{display:block;width:100%}select[multiple],select[size]{height:auto}input[type=file]:focus,input[type=checkbox]:focus,input[type=radio]:focus{outline:5px auto -webkit-focus-ring-color;outline-offset:-2px}output{display:block;padding-top:7px;font-size:14px;line-height:1.42857143;color:#555}.form-control{display:block;width:100%;height:34px;padding:6px 12px;font-size:14px;line-height:1.42857143;color:#555;background-color:#fff;background-image:none;border:1px solid #ccc;border-radius:4px;-webkit-box-shadow:inset 0 1px 1px rgba(0,0,0,.075);box-shadow:inset 0 1px 1px rgba(0,0,0,.075);-webkit-transition:border-color ease-in-out .15s,-webkit-box-shadow ease-in-out .15s;-o-transition:border-color ease-in-out .15s,box-shadow ease-in-out .15s;transition:border-color ease-in-out .15s,box-shadow ease-in-out .15s}.form-control:focus{border-color:#66afe9;outline:0;-webkit-box-shadow:inset 0 1px 1px rgba(0,0,0,.075),0 0 8px rgba(102,175,233,.6);box-shadow:inset 0 1px 1px rgba(0,0,0,.075),0 0 8px rgba(102,175,233,.6)}.form-control::-moz-placeholder{color:#999;opacity:1}.form-control:-ms-input-placeholder{color:#999}.form-control::-webkit-input-placeholder{color:#999}.form-control::-ms-expand{background-color:transparent;border:0}.form-control[disabled],.form-control[readonly],fieldset[disabled] .form-control{background-color:#eee;opacity:1}.form-control[disabled],fieldset[disabled] .form-control{cursor:not-allowed}textarea.form-control{height:auto}input[type=search]{-webkit-appearance:none}@media screen and (-webkit-min-device-pixel-ratio:0){input[type=date].form-control,input[type=time].form-control,input[type=datetime-local].form-control,input[type=month].form-control{line-height:34px}.input-group-sm input[type=date],.input-group-sm input[type=time],.input-group-sm input[type=datetime-local],.input-group-sm input[type=month],input[type=date].input-sm,input[type=time].input-sm,input[type=datetime-local].input-sm,input[type=month].input-sm{line-height:30px}.input-group-lg input[type=date],.input-group-lg input[type=time],.input-group-lg input[type=datetime-local],.input-group-lg input[type=month],input[type=date].input-lg,input[type=time].input-lg,input[type=datetime-local].input-lg,input[type=month].input-lg{line-height:46px}}.form-group{margin-bottom:15px}.checkbox,.radio{position:relative;display:block;margin-top:10px;margin-bottom:10px}.checkbox label,.radio label{min-height:20px;padding-left:20px;margin-bottom:0;font-weight:400;cursor:pointer}.checkbox input[type=checkbox],.checkbox-inline input[type=checkbox],.radio input[type=radio],.radio-inline input[type=radio]{position:absolute;margin-top:4px\\9;margin-left:-20px}.checkbox+.checkbox,.radio+.radio{margin-top:-5px}.checkbox-inline,.radio-inline{position:relative;display:inline-block;padding-left:20px;margin-bottom:0;font-weight:400;vertical-align:middle;cursor:pointer}.checkbox-inline+.checkbox-inline,.radio-inline+.radio-inline{margin-top:0;margin-left:10px}fieldset[disabled] input[type=checkbox],fieldset[disabled] input[type=radio],input[type=checkbox].disabled,input[type=checkbox][disabled],input[type=radio].disabled,input[type=radio][disabled]{cursor:not-allowed}.checkbox-inline.disabled,.radio-inline.disabled,fieldset[disabled] .checkbox-inline,fieldset[disabled] .radio-inline{cursor:not-allowed}.checkbox.disabled label,.radio.disabled label,fieldset[disabled] .checkbox label,fieldset[disabled] .radio label{cursor:not-allowed}.form-control-static{min-height:34px;padding-top:7px;padding-bottom:7px;margin-bottom:0}.form-control-static.input-lg,.form-control-static.input-sm{padding-right:0;padding-left:0}.input-sm{height:30px;padding:5px 10px;font-size:12px;line-height:1.5;border-radius:3px}select.input-sm{height:30px;line-height:30px}select[multiple].input-sm,textarea.input-sm{height:auto}.form-group-sm .form-control{height:30px;padding:5px 10px;font-size:12px;line-height:1.5;border-radius:3px}.form-group-sm select.form-control{height:30px;line-height:30px}.form-group-sm select[multiple].form-control,.form-group-sm textarea.form-control{height:auto}.form-group-sm .form-control-static{height:30px;min-height:32px;padding:6px 10px;font-size:12px;line-height:1.5}.input-lg{height:46px;padding:10px 16px;font-size:18px;line-height:1.3333333;border-radius:6px}select.input-lg{height:46px;line-height:46px}select[multiple].input-lg,textarea.input-lg{height:auto}.form-group-lg .form-control{height:46px;padding:10px 16px;font-size:18px;line-height:1.3333333;border-radius:6px}.form-group-lg select.form-control{height:46px;line-height:46px}.form-group-lg select[multiple].form-control,.form-group-lg textarea.form-control{height:auto}.form-group-lg .form-control-static{height:46px;min-height:38px;padding:11px 16px;font-size:18px;line-height:1.3333333}.has-feedback{position:relative}.has-feedback .form-control{padding-right:42.5px}.form-control-feedback{position:absolute;top:0;right:0;z-index:2;display:block;width:34px;height:34px;line-height:34px;text-align:center;pointer-events:none}.form-group-lg .form-control+.form-control-feedback,.input-group-lg+.form-control-feedback,.input-lg+.form-control-feedback{width:46px;height:46px;line-height:46px}.form-group-sm .form-control+.form-control-feedback,.input-group-sm+.form-control-feedback,.input-sm+.form-control-feedback{width:30px;height:30px;line-height:30px}.has-success .checkbox,.has-success .checkbox-inline,.has-success .control-label,.has-success .help-block,.has-success .radio,.has-success .radio-inline,.has-success.checkbox label,.has-success.checkbox-inline label,.has-success.radio label,.has-success.radio-inline label{color:#3c763d}.has-success .form-control{border-color:#3c763d;-webkit-box-shadow:inset 0 1px 1px rgba(0,0,0,.075);box-shadow:inset 0 1px 1px rgba(0,0,0,.075)}.has-success .form-control:focus{border-color:#2b542c;-webkit-box-shadow:inset 0 1px 1px rgba(0,0,0,.075),0 0 6px #67b168;box-shadow:inset 0 1px 1px rgba(0,0,0,.075),0 0 6px #67b168}.has-success .input-group-addon{color:#3c763d;background-color:#dff0d8;border-color:#3c763d}.has-success .form-control-feedback{color:#3c763d}.has-warning .checkbox,.has-warning .checkbox-inline,.has-warning .control-label,.has-warning .help-block,.has-warning .radio,.has-warning .radio-inline,.has-warning.checkbox label,.has-warning.checkbox-inline label,.has-warning.radio label,.has-warning.radio-inline label{color:#8a6d3b}.has-warning .form-control{border-color:#8a6d3b;-webkit-box-shadow:inset 0 1px 1px rgba(0,0,0,.075);box-shadow:inset 0 1px 1px rgba(0,0,0,.075)}.has-warning .form-control:focus{border-color:#66512c;-webkit-box-shadow:inset 0 1px 1px rgba(0,0,0,.075),0 0 6px #c0a16b;box-shadow:inset 0 1px 1px rgba(0,0,0,.075),0 0 6px #c0a16b}.has-warning .input-group-addon{color:#8a6d3b;background-color:#fcf8e3;border-color:#8a6d3b}.has-warning .form-control-feedback{color:#8a6d3b}.has-error .checkbox,.has-error .checkbox-inline,.has-error .control-label,.has-error .help-block,.has-error .radio,.has-error .radio-inline,.has-error.checkbox label,.has-error.checkbox-inline label,.has-error.radio label,.has-error.radio-inline label{color:#a94442}.has-error .form-control{border-color:#a94442;-webkit-box-shadow:inset 0 1px 1px rgba(0,0,0,.075);box-shadow:inset 0 1px 1px rgba(0,0,0,.075)}.has-error .form-control:focus{border-color:#843534;-webkit-box-shadow:inset 0 1px 1px rgba(0,0,0,.075),0 0 6px #ce8483;box-shadow:inset 0 1px 1px rgba(0,0,0,.075),0 0 6px #ce8483}.has-error .input-group-addon{color:#a94442;background-color:#f2dede;border-color:#a94442}.has-error .form-control-feedback{color:#a94442}.has-feedback label~.form-control-feedback{top:25px}.has-feedback label.sr-only~.form-control-feedback{top:0}.help-block{display:block;margin-top:5px;margin-bottom:10px;color:#737373}@media (min-width:768px){.form-inline .form-group{display:inline-block;margin-bottom:0;vertical-align:middle}.form-inline .form-control{display:inline-block;width:auto;vertical-align:middle}.form-inline .form-control-static{display:inline-block}.form-inline .input-group{display:inline-table;vertical-align:middle}.form-inline .input-group .form-control,.form-inline .input-group .input-group-addon,.form-inline .input-group .input-group-btn{width:auto}.form-inline .input-group&gt;.form-control{width:100%}.form-inline .control-label{margin-bottom:0;vertical-align:middle}.form-inline .checkbox,.form-inline .radio{display:inline-block;margin-top:0;margin-bottom:0;vertical-align:middle}.form-inline .checkbox label,.form-inline .radio label{padding-left:0}.form-inline .checkbox input[type=checkbox],.form-inline .radio input[type=radio]{position:relative;margin-left:0}.form-inline .has-feedback .form-control-feedback{top:0}}.form-horizontal .checkbox,.form-horizontal .checkbox-inline,.form-horizontal .radio,.form-horizontal .radio-inline{padding-top:7px;margin-top:0;margin-bottom:0}.form-horizontal .checkbox,.form-horizontal .radio{min-height:27px}.form-horizontal .form-group{margin-right:-15px;margin-left:-15px}@media (min-width:768px){.form-horizontal .control-label{padding-top:7px;margin-bottom:0;text-align:right}}.form-horizontal .has-feedback .form-control-feedback{right:15px}@media (min-width:768px){.form-horizontal .form-group-lg .control-label{padding-top:11px;font-size:18px}}@media (min-width:768px){.form-horizontal .form-group-sm .control-label{padding-top:6px;font-size:12px}}.btn{display:inline-block;padding:6px 12px;margin-bottom:0;font-size:14px;font-weight:400;line-height:1.42857143;text-align:center;white-space:nowrap;vertical-align:middle;-ms-touch-action:manipulation;touch-action:manipulation;cursor:pointer;-webkit-user-select:none;-moz-user-select:none;-ms-user-select:none;user-select:none;background-image:none;border:1px solid transparent;border-radius:4px}.btn.active.focus,.btn.active:focus,.btn.focus,.btn:active.focus,.btn:active:focus,.btn:focus{outline:5px auto -webkit-focus-ring-color;outline-offset:-2px}.btn.focus,.btn:focus,.btn:hover{color:#333;text-decoration:none}.btn.active,.btn:active{background-image:none;outline:0;-webkit-box-shadow:inset 0 3px 5px rgba(0,0,0,.125);box-shadow:inset 0 3px 5px rgba(0,0,0,.125)}.btn.disabled,.btn[disabled],fieldset[disabled] .btn{cursor:not-allowed;filter:alpha(opacity=65);-webkit-box-shadow:none;box-shadow:none;opacity:.65}a.btn.disabled,fieldset[disabled] a.btn{pointer-events:none}.btn-default{color:#333;background-color:#fff;border-color:#ccc}.btn-default.focus,.btn-default:focus{color:#333;background-color:#e6e6e6;border-color:#8c8c8c}.btn-default:hover{color:#333;background-color:#e6e6e6;border-color:#adadad}.btn-default.active,.btn-default:active,.open&gt;.dropdown-toggle.btn-default{color:#333;background-color:#e6e6e6;border-color:#adadad}.btn-default.active.focus,.btn-default.active:focus,.btn-default.active:hover,.btn-default:active.focus,.btn-default:active:focus,.btn-default:active:hover,.open&gt;.dropdown-toggle.btn-default.focus,.open&gt;.dropdown-toggle.btn-default:focus,.open&gt;.dropdown-toggle.btn-default:hover{color:#333;background-color:#d4d4d4;border-color:#8c8c8c}.btn-default.active,.btn-default:active,.open&gt;.dropdown-toggle.btn-default{background-image:none}.btn-default.disabled.focus,.btn-default.disabled:focus,.btn-default.disabled:hover,.btn-default[disabled].focus,.btn-default[disabled]:focus,.btn-default[disabled]:hover,fieldset[disabled] .btn-default.focus,fieldset[disabled] .btn-default:focus,fieldset[disabled] .btn-default:hover{background-color:#fff;border-color:#ccc}.btn-default .badge{color:#fff;background-color:#333}.btn-primary{color:#fff;background-color:#337ab7;border-color:#2e6da4}.btn-primary.focus,.btn-primary:focus{color:#fff;background-color:#286090;border-color:#122b40}.btn-primary:hover{color:#fff;background-color:#286090;border-color:#204d74}.btn-primary.active,.btn-primary:active,.open&gt;.dropdown-toggle.btn-primary{color:#fff;background-color:#286090;border-color:#204d74}.btn-primary.active.focus,.btn-primary.active:focus,.btn-primary.active:hover,.btn-primary:active.focus,.btn-primary:active:focus,.btn-primary:active:hover,.open&gt;.dropdown-toggle.btn-primary.focus,.open&gt;.dropdown-toggle.btn-primary:focus,.open&gt;.dropdown-toggle.btn-primary:hover{color:#fff;background-color:#204d74;border-color:#122b40}.btn-primary.active,.btn-primary:active,.open&gt;.dropdown-toggle.btn-primary{background-image:none}.btn-primary.disabled.focus,.btn-primary.disabled:focus,.btn-primary.disabled:hover,.btn-primary[disabled].focus,.btn-primary[disabled]:focus,.btn-primary[disabled]:hover,fieldset[disabled] .btn-primary.focus,fieldset[disabled] .btn-primary:focus,fieldset[disabled] .btn-primary:hover{background-color:#337ab7;border-color:#2e6da4}.btn-primary .badge{color:#337ab7;background-color:#fff}.btn-success{color:#fff;background-color:#5cb85c;border-color:#4cae4c}.btn-success.focus,.btn-success:focus{color:#fff;background-color:#449d44;border-color:#255625}.btn-success:hover{color:#fff;background-color:#449d44;border-color:#398439}.btn-success.active,.btn-success:active,.open&gt;.dropdown-toggle.btn-success{color:#fff;background-color:#449d44;border-color:#398439}.btn-success.active.focus,.btn-success.active:focus,.btn-success.active:hover,.btn-success:active.focus,.btn-success:active:focus,.btn-success:active:hover,.open&gt;.dropdown-toggle.btn-success.focus,.open&gt;.dropdown-toggle.btn-success:focus,.open&gt;.dropdown-toggle.btn-success:hover{color:#fff;background-color:#398439;border-color:#255625}.btn-success.active,.btn-success:active,.open&gt;.dropdown-toggle.btn-success{background-image:none}.btn-success.disabled.focus,.btn-success.disabled:focus,.btn-success.disabled:hover,.btn-success[disabled].focus,.btn-success[disabled]:focus,.btn-success[disabled]:hover,fieldset[disabled] .btn-success.focus,fieldset[disabled] .btn-success:focus,fieldset[disabled] .btn-success:hover{background-color:#5cb85c;border-color:#4cae4c}.btn-success .badge{color:#5cb85c;background-color:#fff}.btn-info{color:#fff;background-color:#5bc0de;border-color:#46b8da}.btn-info.focus,.btn-info:focus{color:#fff;background-color:#31b0d5;border-color:#1b6d85}.btn-info:hover{color:#fff;background-color:#31b0d5;border-color:#269abc}.btn-info.active,.btn-info:active,.open&gt;.dropdown-toggle.btn-info{color:#fff;background-color:#31b0d5;border-color:#269abc}.btn-info.active.focus,.btn-info.active:focus,.btn-info.active:hover,.btn-info:active.focus,.btn-info:active:focus,.btn-info:active:hover,.open&gt;.dropdown-toggle.btn-info.focus,.open&gt;.dropdown-toggle.btn-info:focus,.open&gt;.dropdown-toggle.btn-info:hover{color:#fff;background-color:#269abc;border-color:#1b6d85}.btn-info.active,.btn-info:active,.open&gt;.dropdown-toggle.btn-info{background-image:none}.btn-info.disabled.focus,.btn-info.disabled:focus,.btn-info.disabled:hover,.btn-info[disabled].focus,.btn-info[disabled]:focus,.btn-info[disabled]:hover,fieldset[disabled] .btn-info.focus,fieldset[disabled] .btn-info:focus,fieldset[disabled] .btn-info:hover{background-color:#5bc0de;border-color:#46b8da}.btn-info .badge{color:#5bc0de;background-color:#fff}.btn-warning{color:#fff;background-color:#f0ad4e;border-color:#eea236}.btn-warning.focus,.btn-warning:focus{color:#fff;background-color:#ec971f;border-color:#985f0d}.btn-warning:hover{color:#fff;background-color:#ec971f;border-color:#d58512}.btn-warning.active,.btn-warning:active,.open&gt;.dropdown-toggle.btn-warning{color:#fff;background-color:#ec971f;border-color:#d58512}.btn-warning.active.focus,.btn-warning.active:focus,.btn-warning.active:hover,.btn-warning:active.focus,.btn-warning:active:focus,.btn-warning:active:hover,.open&gt;.dropdown-toggle.btn-warning.focus,.open&gt;.dropdown-toggle.btn-warning:focus,.open&gt;.dropdown-toggle.btn-warning:hover{color:#fff;background-color:#d58512;border-color:#985f0d}.btn-warning.active,.btn-warning:active,.open&gt;.dropdown-toggle.btn-warning{background-image:none}.btn-warning.disabled.focus,.btn-warning.disabled:focus,.btn-warning.disabled:hover,.btn-warning[disabled].focus,.btn-warning[disabled]:focus,.btn-warning[disabled]:hover,fieldset[disabled] .btn-warning.focus,fieldset[disabled] .btn-warning:focus,fieldset[disabled] .btn-warning:hover{background-color:#f0ad4e;border-color:#eea236}.btn-warning .badge{color:#f0ad4e;background-color:#fff}.btn-danger{color:#fff;background-color:#d9534f;border-color:#d43f3a}.btn-danger.focus,.btn-danger:focus{color:#fff;background-color:#c9302c;border-color:#761c19}.btn-danger:hover{color:#fff;background-color:#c9302c;border-color:#ac2925}.btn-danger.active,.btn-danger:active,.open&gt;.dropdown-toggle.btn-danger{color:#fff;background-color:#c9302c;border-color:#ac2925}.btn-danger.active.focus,.btn-danger.active:focus,.btn-danger.active:hover,.btn-danger:active.focus,.btn-danger:active:focus,.btn-danger:active:hover,.open&gt;.dropdown-toggle.btn-danger.focus,.open&gt;.dropdown-toggle.btn-danger:focus,.open&gt;.dropdown-toggle.btn-danger:hover{color:#fff;background-color:#ac2925;border-color:#761c19}.btn-danger.active,.btn-danger:active,.open&gt;.dropdown-toggle.btn-danger{background-image:none}.btn-danger.disabled.focus,.btn-danger.disabled:focus,.btn-danger.disabled:hover,.btn-danger[disabled].focus,.btn-danger[disabled]:focus,.btn-danger[disabled]:hover,fieldset[disabled] .btn-danger.focus,fieldset[disabled] .btn-danger:focus,fieldset[disabled] .btn-danger:hover{background-color:#d9534f;border-color:#d43f3a}.btn-danger .badge{color:#d9534f;background-color:#fff}.btn-link{font-weight:400;color:#337ab7;border-radius:0}.btn-link,.btn-link.active,.btn-link:active,.btn-link[disabled],fieldset[disabled] .btn-link{background-color:transparent;-webkit-box-shadow:none;box-shadow:none}.btn-link,.btn-link:active,.btn-link:focus,.btn-link:hover{border-color:transparent}.btn-link:focus,.btn-link:hover{color:#23527c;text-decoration:underline;background-color:transparent}.btn-link[disabled]:focus,.btn-link[disabled]:hover,fieldset[disabled] .btn-link:focus,fieldset[disabled] .btn-link:hover{color:#777;text-decoration:none}.btn-group-lg&gt;.btn,.btn-lg{padding:10px 16px;font-size:18px;line-height:1.3333333;border-radius:6px}.btn-group-sm&gt;.btn,.btn-sm{padding:5px 10px;font-size:12px;line-height:1.5;border-radius:3px}.btn-group-xs&gt;.btn,.btn-xs{padding:1px 5px;font-size:12px;line-height:1.5;border-radius:3px}.btn-block{display:block;width:100%}.btn-block+.btn-block{margin-top:5px}input[type=button].btn-block,input[type=reset].btn-block,input[type=submit].btn-block{width:100%}.fade{opacity:0;-webkit-transition:opacity .15s linear;-o-transition:opacity .15s linear;transition:opacity .15s linear}.fade.in{opacity:1}.collapse{display:none}.collapse.in{display:block}tr.collapse.in{display:table-row}tbody.collapse.in{display:table-row-group}.collapsing{position:relative;height:0;overflow:hidden;-webkit-transition-timing-function:ease;-o-transition-timing-function:ease;transition-timing-function:ease;-webkit-transition-duration:.35s;-o-transition-duration:.35s;transition-duration:.35s;-webkit-transition-property:height,visibility;-o-transition-property:height,visibility;transition-property:height,visibility}.caret{display:inline-block;width:0;height:0;margin-left:2px;vertical-align:middle;border-top:4px dashed;border-top:4px solid\\9;border-right:4px solid transparent;border-left:4px solid transparent}.dropdown,.dropup{position:relative}.dropdown-toggle:focus{outline:0}.dropdown-menu{position:absolute;top:100%;left:0;z-index:1000;display:none;float:left;min-width:160px;padding:5px 0;margin:2px 0 0;font-size:14px;text-align:left;list-style:none;background-color:#fff;-webkit-background-clip:padding-box;background-clip:padding-box;border:1px solid #ccc;border:1px solid rgba(0,0,0,.15);border-radius:4px;-webkit-box-shadow:0 6px 12px rgba(0,0,0,.175);box-shadow:0 6px 12px rgba(0,0,0,.175)}.dropdown-menu.pull-right{right:0;left:auto}.dropdown-menu .divider{height:1px;margin:9px 0;overflow:hidden;background-color:#e5e5e5}.dropdown-menu&gt;li&gt;a{display:block;padding:3px 20px;clear:both;font-weight:400;line-height:1.42857143;color:#333;white-space:nowrap}.dropdown-menu&gt;li&gt;a:focus,.dropdown-menu&gt;li&gt;a:hover{color:#262626;text-decoration:none;background-color:#f5f5f5}.dropdown-menu&gt;.active&gt;a,.dropdown-menu&gt;.active&gt;a:focus,.dropdown-menu&gt;.active&gt;a:hover{color:#fff;text-decoration:none;background-color:#337ab7;outline:0}.dropdown-menu&gt;.disabled&gt;a,.dropdown-menu&gt;.disabled&gt;a:focus,.dropdown-menu&gt;.disabled&gt;a:hover{color:#777}.dropdown-menu&gt;.disabled&gt;a:focus,.dropdown-menu&gt;.disabled&gt;a:hover{text-decoration:none;cursor:not-allowed;background-color:transparent;background-image:none;filter:progid:DXImageTransform.Microsoft.gradient(enabled=false)}.open&gt;.dropdown-menu{display:block}.open&gt;a{outline:0}.dropdown-menu-right{right:0;left:auto}.dropdown-menu-left{right:auto;left:0}.dropdown-header{display:block;padding:3px 20px;font-size:12px;line-height:1.42857143;color:#777;white-space:nowrap}.dropdown-backdrop{position:fixed;top:0;right:0;bottom:0;left:0;z-index:990}.pull-right&gt;.dropdown-menu{right:0;left:auto}.dropup .caret,.navbar-fixed-bottom .dropdown .caret{content:&quot;&quot;;border-top:0;border-bottom:4px dashed;border-bottom:4px solid\\9}.dropup .dropdown-menu,.navbar-fixed-bottom .dropdown .dropdown-menu{top:auto;bottom:100%;margin-bottom:2px}@media (min-width:768px){.navbar-right .dropdown-menu{right:0;left:auto}.navbar-right .dropdown-menu-left{right:auto;left:0}}.btn-group,.btn-group-vertical{position:relative;display:inline-block;vertical-align:middle}.btn-group-vertical&gt;.btn,.btn-group&gt;.btn{position:relative;float:left}.btn-group-vertical&gt;.btn.active,.btn-group-vertical&gt;.btn:active,.btn-group-vertical&gt;.btn:focus,.btn-group-vertical&gt;.btn:hover,.btn-group&gt;.btn.active,.btn-group&gt;.btn:active,.btn-group&gt;.btn:focus,.btn-group&gt;.btn:hover{z-index:2}.btn-group .btn+.btn,.btn-group .btn+.btn-group,.btn-group .btn-group+.btn,.btn-group .btn-group+.btn-group{margin-left:-1px}.btn-toolbar{margin-left:-5px}.btn-toolbar .btn,.btn-toolbar .btn-group,.btn-toolbar .input-group{float:left}.btn-toolbar&gt;.btn,.btn-toolbar&gt;.btn-group,.btn-toolbar&gt;.input-group{margin-left:5px}.btn-group&gt;.btn:not(:first-child):not(:last-child):not(.dropdown-toggle){border-radius:0}.btn-group&gt;.btn:first-child{margin-left:0}.btn-group&gt;.btn:first-child:not(:last-child):not(.dropdown-toggle){border-top-right-radius:0;border-bottom-right-radius:0}.btn-group&gt;.btn:last-child:not(:first-child),.btn-group&gt;.dropdown-toggle:not(:first-child){border-top-left-radius:0;border-bottom-left-radius:0}.btn-group&gt;.btn-group{float:left}.btn-group&gt;.btn-group:not(:first-child):not(:last-child)&gt;.btn{border-radius:0}.btn-group&gt;.btn-group:first-child:not(:last-child)&gt;.btn:last-child,.btn-group&gt;.btn-group:first-child:not(:last-child)&gt;.dropdown-toggle{border-top-right-radius:0;border-bottom-right-radius:0}.btn-group&gt;.btn-group:last-child:not(:first-child)&gt;.btn:first-child{border-top-left-radius:0;border-bottom-left-radius:0}.btn-group .dropdown-toggle:active,.btn-group.open .dropdown-toggle{outline:0}.btn-group&gt;.btn+.dropdown-toggle{padding-right:8px;padding-left:8px}.btn-group&gt;.btn-lg+.dropdown-toggle{padding-right:12px;padding-left:12px}.btn-group.open .dropdown-toggle{-webkit-box-shadow:inset 0 3px 5px rgba(0,0,0,.125);box-shadow:inset 0 3px 5px rgba(0,0,0,.125)}.btn-group.open .dropdown-toggle.btn-link{-webkit-box-shadow:none;box-shadow:none}.btn .caret{margin-left:0}.btn-lg .caret{border-width:5px 5px 0;border-bottom-width:0}.dropup .btn-lg .caret{border-width:0 5px 5px}.btn-group-vertical&gt;.btn,.btn-group-vertical&gt;.btn-group,.btn-group-vertical&gt;.btn-group&gt;.btn{display:block;float:none;width:100%;max-width:100%}.btn-group-vertical&gt;.btn-group&gt;.btn{float:none}.btn-group-vertical&gt;.btn+.btn,.btn-group-vertical&gt;.btn+.btn-group,.btn-group-vertical&gt;.btn-group+.btn,.btn-group-vertical&gt;.btn-group+.btn-group{margin-top:-1px;margin-left:0}.btn-group-vertical&gt;.btn:not(:first-child):not(:last-child){border-radius:0}.btn-group-vertical&gt;.btn:first-child:not(:last-child){border-top-left-radius:4px;border-top-right-radius:4px;border-bottom-right-radius:0;border-bottom-left-radius:0}.btn-group-vertical&gt;.btn:last-child:not(:first-child){border-top-left-radius:0;border-top-right-radius:0;border-bottom-right-radius:4px;border-bottom-left-radius:4px}.btn-group-vertical&gt;.btn-group:not(:first-child):not(:last-child)&gt;.btn{border-radius:0}.btn-group-vertical&gt;.btn-group:first-child:not(:last-child)&gt;.btn:last-child,.btn-group-vertical&gt;.btn-group:first-child:not(:last-child)&gt;.dropdown-toggle{border-bottom-right-radius:0;border-bottom-left-radius:0}.btn-group-vertical&gt;.btn-group:last-child:not(:first-child)&gt;.btn:first-child{border-top-left-radius:0;border-top-right-radius:0}.btn-group-justified{display:table;width:100%;table-layout:fixed;border-collapse:separate}.btn-group-justified&gt;.btn,.btn-group-justified&gt;.btn-group{display:table-cell;float:none;width:1%}.btn-group-justified&gt;.btn-group .btn{width:100%}.btn-group-justified&gt;.btn-group .dropdown-menu{left:auto}[data-toggle=buttons]&gt;.btn input[type=checkbox],[data-toggle=buttons]&gt;.btn input[type=radio],[data-toggle=buttons]&gt;.btn-group&gt;.btn input[type=checkbox],[data-toggle=buttons]&gt;.btn-group&gt;.btn input[type=radio]{position:absolute;clip:rect(0,0,0,0);pointer-events:none}.input-group{position:relative;display:table;border-collapse:separate}.input-group[class*=col-]{float:none;padding-right:0;padding-left:0}.input-group .form-control{position:relative;z-index:2;float:left;width:100%;margin-bottom:0}.input-group .form-control:focus{z-index:3}.input-group-lg&gt;.form-control,.input-group-lg&gt;.input-group-addon,.input-group-lg&gt;.input-group-btn&gt;.btn{height:46px;padding:10px 16px;font-size:18px;line-height:1.3333333;border-radius:6px}select.input-group-lg&gt;.form-control,select.input-group-lg&gt;.input-group-addon,select.input-group-lg&gt;.input-group-btn&gt;.btn{height:46px;line-height:46px}select[multiple].input-group-lg&gt;.form-control,select[multiple].input-group-lg&gt;.input-group-addon,select[multiple].input-group-lg&gt;.input-group-btn&gt;.btn,textarea.input-group-lg&gt;.form-control,textarea.input-group-lg&gt;.input-group-addon,textarea.input-group-lg&gt;.input-group-btn&gt;.btn{height:auto}.input-group-sm&gt;.form-control,.input-group-sm&gt;.input-group-addon,.input-group-sm&gt;.input-group-btn&gt;.btn{height:30px;padding:5px 10px;font-size:12px;line-height:1.5;border-radius:3px}select.input-group-sm&gt;.form-control,select.input-group-sm&gt;.input-group-addon,select.input-group-sm&gt;.input-group-btn&gt;.btn{height:30px;line-height:30px}select[multiple].input-group-sm&gt;.form-control,select[multiple].input-group-sm&gt;.input-group-addon,select[multiple].input-group-sm&gt;.input-group-btn&gt;.btn,textarea.input-group-sm&gt;.form-control,textarea.input-group-sm&gt;.input-group-addon,textarea.input-group-sm&gt;.input-group-btn&gt;.btn{height:auto}.input-group .form-control,.input-group-addon,.input-group-btn{display:table-cell}.input-group .form-control:not(:first-child):not(:last-child),.input-group-addon:not(:first-child):not(:last-child),.input-group-btn:not(:first-child):not(:last-child){border-radius:0}.input-group-addon,.input-group-btn{width:1%;white-space:nowrap;vertical-align:middle}.input-group-addon{padding:6px 12px;font-size:14px;font-weight:400;line-height:1;color:#555;text-align:center;background-color:#eee;border:1px solid #ccc;border-radius:4px}.input-group-addon.input-sm{padding:5px 10px;font-size:12px;border-radius:3px}.input-group-addon.input-lg{padding:10px 16px;font-size:18px;border-radius:6px}.input-group-addon input[type=checkbox],.input-group-addon input[type=radio]{margin-top:0}.input-group .form-control:first-child,.input-group-addon:first-child,.input-group-btn:first-child&gt;.btn,.input-group-btn:first-child&gt;.btn-group&gt;.btn,.input-group-btn:first-child&gt;.dropdown-toggle,.input-group-btn:last-child&gt;.btn-group:not(:last-child)&gt;.btn,.input-group-btn:last-child&gt;.btn:not(:last-child):not(.dropdown-toggle){border-top-right-radius:0;border-bottom-right-radius:0}.input-group-addon:first-child{border-right:0}.input-group .form-control:last-child,.input-group-addon:last-child,.input-group-btn:first-child&gt;.btn-group:not(:first-child)&gt;.btn,.input-group-btn:first-child&gt;.btn:not(:first-child),.input-group-btn:last-child&gt;.btn,.input-group-btn:last-child&gt;.btn-group&gt;.btn,.input-group-btn:last-child&gt;.dropdown-toggle{border-top-left-radius:0;border-bottom-left-radius:0}.input-group-addon:last-child{border-left:0}.input-group-btn{position:relative;font-size:0;white-space:nowrap}.input-group-btn&gt;.btn{position:relative}.input-group-btn&gt;.btn+.btn{margin-left:-1px}.input-group-btn&gt;.btn:active,.input-group-btn&gt;.btn:focus,.input-group-btn&gt;.btn:hover{z-index:2}.input-group-btn:first-child&gt;.btn,.input-group-btn:first-child&gt;.btn-group{margin-right:-1px}.input-group-btn:last-child&gt;.btn,.input-group-btn:last-child&gt;.btn-group{z-index:2;margin-left:-1px}.nav{padding-left:0;margin-bottom:0;list-style:none}.nav&gt;li{position:relative;display:block}.nav&gt;li&gt;a{position:relative;display:block;padding:10px 15px}.nav&gt;li&gt;a:focus,.nav&gt;li&gt;a:hover{text-decoration:none;background-color:#eee}.nav&gt;li.disabled&gt;a{color:#777}.nav&gt;li.disabled&gt;a:focus,.nav&gt;li.disabled&gt;a:hover{color:#777;text-decoration:none;cursor:not-allowed;background-color:transparent}.nav .open&gt;a,.nav .open&gt;a:focus,.nav .open&gt;a:hover{background-color:#eee;border-color:#337ab7}.nav .nav-divider{height:1px;margin:9px 0;overflow:hidden;background-color:#e5e5e5}.nav&gt;li&gt;a&gt;img{max-width:none}.nav-tabs{border-bottom:1px solid #ddd}.nav-tabs&gt;li{float:left;margin-bottom:-1px}.nav-tabs&gt;li&gt;a{margin-right:2px;line-height:1.42857143;border:1px solid transparent;border-radius:4px 4px 0 0}.nav-tabs&gt;li&gt;a:hover{border-color:#eee #eee #ddd}.nav-tabs&gt;li.active&gt;a,.nav-tabs&gt;li.active&gt;a:focus,.nav-tabs&gt;li.active&gt;a:hover{color:#555;cursor:default;background-color:#fff;border:1px solid #ddd;border-bottom-color:transparent}.nav-tabs.nav-justified{width:100%;border-bottom:0}.nav-tabs.nav-justified&gt;li{float:none}.nav-tabs.nav-justified&gt;li&gt;a{margin-bottom:5px;text-align:center}.nav-tabs.nav-justified&gt;.dropdown .dropdown-menu{top:auto;left:auto}@media (min-width:768px){.nav-tabs.nav-justified&gt;li{display:table-cell;width:1%}.nav-tabs.nav-justified&gt;li&gt;a{margin-bottom:0}}.nav-tabs.nav-justified&gt;li&gt;a{margin-right:0;border-radius:4px}.nav-tabs.nav-justified&gt;.active&gt;a,.nav-tabs.nav-justified&gt;.active&gt;a:focus,.nav-tabs.nav-justified&gt;.active&gt;a:hover{border:1px solid #ddd}@media (min-width:768px){.nav-tabs.nav-justified&gt;li&gt;a{border-bottom:1px solid #ddd;border-radius:4px 4px 0 0}.nav-tabs.nav-justified&gt;.active&gt;a,.nav-tabs.nav-justified&gt;.active&gt;a:focus,.nav-tabs.nav-justified&gt;.active&gt;a:hover{border-bottom-color:#fff}}.nav-pills&gt;li{float:left}.nav-pills&gt;li&gt;a{border-radius:4px}.nav-pills&gt;li+li{margin-left:2px}.nav-pills&gt;li.active&gt;a,.nav-pills&gt;li.active&gt;a:focus,.nav-pills&gt;li.active&gt;a:hover{color:#fff;background-color:#337ab7}.nav-stacked&gt;li{float:none}.nav-stacked&gt;li+li{margin-top:2px;margin-left:0}.nav-justified{width:100%}.nav-justified&gt;li{float:none}.nav-justified&gt;li&gt;a{margin-bottom:5px;text-align:center}.nav-justified&gt;.dropdown .dropdown-menu{top:auto;left:auto}@media (min-width:768px){.nav-justified&gt;li{display:table-cell;width:1%}.nav-justified&gt;li&gt;a{margin-bottom:0}}.nav-tabs-justified{border-bottom:0}.nav-tabs-justified&gt;li&gt;a{margin-right:0;border-radius:4px}.nav-tabs-justified&gt;.active&gt;a,.nav-tabs-justified&gt;.active&gt;a:focus,.nav-tabs-justified&gt;.active&gt;a:hover{border:1px solid #ddd}@media (min-width:768px){.nav-tabs-justified&gt;li&gt;a{border-bottom:1px solid #ddd;border-radius:4px 4px 0 0}.nav-tabs-justified&gt;.active&gt;a,.nav-tabs-justified&gt;.active&gt;a:focus,.nav-tabs-justified&gt;.active&gt;a:hover{border-bottom-color:#fff}}.tab-content&gt;.tab-pane{display:none}.tab-content&gt;.active{display:block}.nav-tabs .dropdown-menu{margin-top:-1px;border-top-left-radius:0;border-top-right-radius:0}.navbar{position:relative;min-height:50px;margin-bottom:20px;border:1px solid transparent}@media (min-width:768px){.navbar{border-radius:4px}}@media (min-width:768px){.navbar-header{float:left}}.navbar-collapse{padding-right:15px;padding-left:15px;overflow-x:visible;-webkit-overflow-scrolling:touch;border-top:1px solid transparent;-webkit-box-shadow:inset 0 1px 0 rgba(255,255,255,.1);box-shadow:inset 0 1px 0 rgba(255,255,255,.1)}.navbar-collapse.in{overflow-y:auto}@media (min-width:768px){.navbar-collapse{width:auto;border-top:0;-webkit-box-shadow:none;box-shadow:none}.navbar-collapse.collapse{display:block!important;height:auto!important;padding-bottom:0;overflow:visible!important}.navbar-collapse.in{overflow-y:visible}.navbar-fixed-bottom .navbar-collapse,.navbar-fixed-top .navbar-collapse,.navbar-static-top .navbar-collapse{padding-right:0;padding-left:0}}.navbar-fixed-bottom .navbar-collapse,.navbar-fixed-top .navbar-collapse{max-height:340px}@media (max-device-width:480px) and (orientation:landscape){.navbar-fixed-bottom .navbar-collapse,.navbar-fixed-top .navbar-collapse{max-height:200px}}.container-fluid&gt;.navbar-collapse,.container-fluid&gt;.navbar-header,.container&gt;.navbar-collapse,.container&gt;.navbar-header{margin-right:-15px;margin-left:-15px}@media (min-width:768px){.container-fluid&gt;.navbar-collapse,.container-fluid&gt;.navbar-header,.container&gt;.navbar-collapse,.container&gt;.navbar-header{margin-right:0;margin-left:0}}.navbar-static-top{z-index:1000;border-width:0 0 1px}@media (min-width:768px){.navbar-static-top{border-radius:0}}.navbar-fixed-bottom,.navbar-fixed-top{position:fixed;right:0;left:0;z-index:1030}@media (min-width:768px){.navbar-fixed-bottom,.navbar-fixed-top{border-radius:0}}.navbar-fixed-top{top:0;border-width:0 0 1px}.navbar-fixed-bottom{bottom:0;margin-bottom:0;border-width:1px 0 0}.navbar-brand{float:left;height:50px;padding:15px 15px;font-size:18px;line-height:20px}.navbar-brand:focus,.navbar-brand:hover{text-decoration:none}.navbar-brand&gt;img{display:block}@media (min-width:768px){.navbar&gt;.container .navbar-brand,.navbar&gt;.container-fluid .navbar-brand{margin-left:-15px}}.navbar-toggle{position:relative;float:right;padding:9px 10px;margin-top:8px;margin-right:15px;margin-bottom:8px;background-color:transparent;background-image:none;border:1px solid transparent;border-radius:4px}.navbar-toggle:focus{outline:0}.navbar-toggle .icon-bar{display:block;width:22px;height:2px;border-radius:1px}.navbar-toggle .icon-bar+.icon-bar{margin-top:4px}@media (min-width:768px){.navbar-toggle{display:none}}.navbar-nav{margin:7.5px -15px}.navbar-nav&gt;li&gt;a{padding-top:10px;padding-bottom:10px;line-height:20px}@media (max-width:767px){.navbar-nav .open .dropdown-menu{position:static;float:none;width:auto;margin-top:0;background-color:transparent;border:0;-webkit-box-shadow:none;box-shadow:none}.navbar-nav .open .dropdown-menu .dropdown-header,.navbar-nav .open .dropdown-menu&gt;li&gt;a{padding:5px 15px 5px 25px}.navbar-nav .open .dropdown-menu&gt;li&gt;a{line-height:20px}.navbar-nav .open .dropdown-menu&gt;li&gt;a:focus,.navbar-nav .open .dropdown-menu&gt;li&gt;a:hover{background-image:none}}@media (min-width:768px){.navbar-nav{float:left;margin:0}.navbar-nav&gt;li{float:left}.navbar-nav&gt;li&gt;a{padding-top:15px;padding-bottom:15px}}.navbar-form{padding:10px 15px;margin-top:8px;margin-right:-15px;margin-bottom:8px;margin-left:-15px;border-top:1px solid transparent;border-bottom:1px solid transparent;-webkit-box-shadow:inset 0 1px 0 rgba(255,255,255,.1),0 1px 0 rgba(255,255,255,.1);box-shadow:inset 0 1px 0 rgba(255,255,255,.1),0 1px 0 rgba(255,255,255,.1)}@media (min-width:768px){.navbar-form .form-group{display:inline-block;margin-bottom:0;vertical-align:middle}.navbar-form .form-control{display:inline-block;width:auto;vertical-align:middle}.navbar-form .form-control-static{display:inline-block}.navbar-form .input-group{display:inline-table;vertical-align:middle}.navbar-form .input-group .form-control,.navbar-form .input-group .input-group-addon,.navbar-form .input-group .input-group-btn{width:auto}.navbar-form .input-group&gt;.form-control{width:100%}.navbar-form .control-label{margin-bottom:0;vertical-align:middle}.navbar-form .checkbox,.navbar-form .radio{display:inline-block;margin-top:0;margin-bottom:0;vertical-align:middle}.navbar-form .checkbox label,.navbar-form .radio label{padding-left:0}.navbar-form .checkbox input[type=checkbox],.navbar-form .radio input[type=radio]{position:relative;margin-left:0}.navbar-form .has-feedback .form-control-feedback{top:0}}@media (max-width:767px){.navbar-form .form-group{margin-bottom:5px}.navbar-form .form-group:last-child{margin-bottom:0}}@media (min-width:768px){.navbar-form{width:auto;padding-top:0;padding-bottom:0;margin-right:0;margin-left:0;border:0;-webkit-box-shadow:none;box-shadow:none}}.navbar-nav&gt;li&gt;.dropdown-menu{margin-top:0;border-top-left-radius:0;border-top-right-radius:0}.navbar-fixed-bottom .navbar-nav&gt;li&gt;.dropdown-menu{margin-bottom:0;border-top-left-radius:4px;border-top-right-radius:4px;border-bottom-right-radius:0;border-bottom-left-radius:0}.navbar-btn{margin-top:8px;margin-bottom:8px}.navbar-btn.btn-sm{margin-top:10px;margin-bottom:10px}.navbar-btn.btn-xs{margin-top:14px;margin-bottom:14px}.navbar-text{margin-top:15px;margin-bottom:15px}@media (min-width:768px){.navbar-text{float:left;margin-right:15px;margin-left:15px}}@media (min-width:768px){.navbar-left{float:left!important}.navbar-right{float:right!important;margin-right:-15px}.navbar-right~.navbar-right{margin-right:0}}.navbar-default{background-color:#f8f8f8;border-color:#e7e7e7}.navbar-default .navbar-brand{color:#777}.navbar-default .navbar-brand:focus,.navbar-default .navbar-brand:hover{color:#5e5e5e;background-color:transparent}.navbar-default .navbar-text{color:#777}.navbar-default .navbar-nav&gt;li&gt;a{color:#777}.navbar-default .navbar-nav&gt;li&gt;a:focus,.navbar-default .navbar-nav&gt;li&gt;a:hover{color:#333;background-color:transparent}.navbar-default .navbar-nav&gt;.active&gt;a,.navbar-default .navbar-nav&gt;.active&gt;a:focus,.navbar-default .navbar-nav&gt;.active&gt;a:hover{color:#555;background-color:#e7e7e7}.navbar-default .navbar-nav&gt;.disabled&gt;a,.navbar-default .navbar-nav&gt;.disabled&gt;a:focus,.navbar-default .navbar-nav&gt;.disabled&gt;a:hover{color:#ccc;background-color:transparent}.navbar-default .navbar-toggle{border-color:#ddd}.navbar-default .navbar-toggle:focus,.navbar-default .navbar-toggle:hover{background-color:#ddd}.navbar-default .navbar-toggle .icon-bar{background-color:#888}.navbar-default .navbar-collapse,.navbar-default .navbar-form{border-color:#e7e7e7}.navbar-default .navbar-nav&gt;.open&gt;a,.navbar-default .navbar-nav&gt;.open&gt;a:focus,.navbar-default .navbar-nav&gt;.open&gt;a:hover{color:#555;background-color:#e7e7e7}@media (max-width:767px){.navbar-default .navbar-nav .open .dropdown-menu&gt;li&gt;a{color:#777}.navbar-default .navbar-nav .open .dropdown-menu&gt;li&gt;a:focus,.navbar-default .navbar-nav .open .dropdown-menu&gt;li&gt;a:hover{color:#333;background-color:transparent}.navbar-default .navbar-nav .open .dropdown-menu&gt;.active&gt;a,.navbar-default .navbar-nav .open .dropdown-menu&gt;.active&gt;a:focus,.navbar-default .navbar-nav .open .dropdown-menu&gt;.active&gt;a:hover{color:#555;background-color:#e7e7e7}.navbar-default .navbar-nav .open .dropdown-menu&gt;.disabled&gt;a,.navbar-default .navbar-nav .open .dropdown-menu&gt;.disabled&gt;a:focus,.navbar-default .navbar-nav .open .dropdown-menu&gt;.disabled&gt;a:hover{color:#ccc;background-color:transparent}}.navbar-default .navbar-link{color:#777}.navbar-default .navbar-link:hover{color:#333}.navbar-default .btn-link{color:#777}.navbar-default .btn-link:focus,.navbar-default .btn-link:hover{color:#333}.navbar-default .btn-link[disabled]:focus,.navbar-default .btn-link[disabled]:hover,fieldset[disabled] .navbar-default .btn-link:focus,fieldset[disabled] .navbar-default .btn-link:hover{color:#ccc}.navbar-inverse{background-color:#222;border-color:#080808}.navbar-inverse .navbar-brand{color:#9d9d9d}.navbar-inverse .navbar-brand:focus,.navbar-inverse .navbar-brand:hover{color:#fff;background-color:transparent}.navbar-inverse .navbar-text{color:#9d9d9d}.navbar-inverse .navbar-nav&gt;li&gt;a{color:#9d9d9d}.navbar-inverse .navbar-nav&gt;li&gt;a:focus,.navbar-inverse .navbar-nav&gt;li&gt;a:hover{color:#fff;background-color:transparent}.navbar-inverse .navbar-nav&gt;.active&gt;a,.navbar-inverse .navbar-nav&gt;.active&gt;a:focus,.navbar-inverse .navbar-nav&gt;.active&gt;a:hover{color:#fff;background-color:#080808}.navbar-inverse .navbar-nav&gt;.disabled&gt;a,.navbar-inverse .navbar-nav&gt;.disabled&gt;a:focus,.navbar-inverse .navbar-nav&gt;.disabled&gt;a:hover{color:#444;background-color:transparent}.navbar-inverse .navbar-toggle{border-color:#333}.navbar-inverse .navbar-toggle:focus,.navbar-inverse .navbar-toggle:hover{background-color:#333}.navbar-inverse .navbar-toggle .icon-bar{background-color:#fff}.navbar-inverse .navbar-collapse,.navbar-inverse .navbar-form{border-color:#101010}.navbar-inverse .navbar-nav&gt;.open&gt;a,.navbar-inverse .navbar-nav&gt;.open&gt;a:focus,.navbar-inverse .navbar-nav&gt;.open&gt;a:hover{color:#fff;background-color:#080808}@media (max-width:767px){.navbar-inverse .navbar-nav .open .dropdown-menu&gt;.dropdown-header{border-color:#080808}.navbar-inverse .navbar-nav .open .dropdown-menu .divider{background-color:#080808}.navbar-inverse .navbar-nav .open .dropdown-menu&gt;li&gt;a{color:#9d9d9d}.navbar-inverse .navbar-nav .open .dropdown-menu&gt;li&gt;a:focus,.navbar-inverse .navbar-nav .open .dropdown-menu&gt;li&gt;a:hover{color:#fff;background-color:transparent}.navbar-inverse .navbar-nav .open .dropdown-menu&gt;.active&gt;a,.navbar-inverse .navbar-nav .open .dropdown-menu&gt;.active&gt;a:focus,.navbar-inverse .navbar-nav .open .dropdown-menu&gt;.active&gt;a:hover{color:#fff;background-color:#080808}.navbar-inverse .navbar-nav .open .dropdown-menu&gt;.disabled&gt;a,.navbar-inverse .navbar-nav .open .dropdown-menu&gt;.disabled&gt;a:focus,.navbar-inverse .navbar-nav .open .dropdown-menu&gt;.disabled&gt;a:hover{color:#444;background-color:transparent}}.navbar-inverse .navbar-link{color:#9d9d9d}.navbar-inverse .navbar-link:hover{color:#fff}.navbar-inverse .btn-link{color:#9d9d9d}.navbar-inverse .btn-link:focus,.navbar-inverse .btn-link:hover{color:#fff}.navbar-inverse .btn-link[disabled]:focus,.navbar-inverse .btn-link[disabled]:hover,fieldset[disabled] .navbar-inverse .btn-link:focus,fieldset[disabled] .navbar-inverse .btn-link:hover{color:#444}.breadcrumb{padding:8px 15px;margin-bottom:20px;list-style:none;background-color:#f5f5f5;border-radius:4px}.breadcrumb&gt;li{display:inline-block}.breadcrumb&gt;li+li:before{padding:0 5px;color:#ccc;content:&quot;/\\00a0&quot;}.breadcrumb&gt;.active{color:#777}.pagination{display:inline-block;padding-left:0;margin:20px 0;border-radius:4px}.pagination&gt;li{display:inline}.pagination&gt;li&gt;a,.pagination&gt;li&gt;span{position:relative;float:left;padding:6px 12px;margin-left:-1px;line-height:1.42857143;color:#337ab7;text-decoration:none;background-color:#fff;border:1px solid #ddd}.pagination&gt;li:first-child&gt;a,.pagination&gt;li:first-child&gt;span{margin-left:0;border-top-left-radius:4px;border-bottom-left-radius:4px}.pagination&gt;li:last-child&gt;a,.pagination&gt;li:last-child&gt;span{border-top-right-radius:4px;border-bottom-right-radius:4px}.pagination&gt;li&gt;a:focus,.pagination&gt;li&gt;a:hover,.pagination&gt;li&gt;span:focus,.pagination&gt;li&gt;span:hover{z-index:2;color:#23527c;background-color:#eee;border-color:#ddd}.pagination&gt;.active&gt;a,.pagination&gt;.active&gt;a:focus,.pagination&gt;.active&gt;a:hover,.pagination&gt;.active&gt;span,.pagination&gt;.active&gt;span:focus,.pagination&gt;.active&gt;span:hover{z-index:3;color:#fff;cursor:default;background-color:#337ab7;border-color:#337ab7}.pagination&gt;.disabled&gt;a,.pagination&gt;.disabled&gt;a:focus,.pagination&gt;.disabled&gt;a:hover,.pagination&gt;.disabled&gt;span,.pagination&gt;.disabled&gt;span:focus,.pagination&gt;.disabled&gt;span:hover{color:#777;cursor:not-allowed;background-color:#fff;border-color:#ddd}.pagination-lg&gt;li&gt;a,.pagination-lg&gt;li&gt;span{padding:10px 16px;font-size:18px;line-height:1.3333333}.pagination-lg&gt;li:first-child&gt;a,.pagination-lg&gt;li:first-child&gt;span{border-top-left-radius:6px;border-bottom-left-radius:6px}.pagination-lg&gt;li:last-child&gt;a,.pagination-lg&gt;li:last-child&gt;span{border-top-right-radius:6px;border-bottom-right-radius:6px}.pagination-sm&gt;li&gt;a,.pagination-sm&gt;li&gt;span{padding:5px 10px;font-size:12px;line-height:1.5}.pagination-sm&gt;li:first-child&gt;a,.pagination-sm&gt;li:first-child&gt;span{border-top-left-radius:3px;border-bottom-left-radius:3px}.pagination-sm&gt;li:last-child&gt;a,.pagination-sm&gt;li:last-child&gt;span{border-top-right-radius:3px;border-bottom-right-radius:3px}.pager{padding-left:0;margin:20px 0;text-align:center;list-style:none}.pager li{display:inline}.pager li&gt;a,.pager li&gt;span{display:inline-block;padding:5px 14px;background-color:#fff;border:1px solid #ddd;border-radius:15px}.pager li&gt;a:focus,.pager li&gt;a:hover{text-decoration:none;background-color:#eee}.pager .next&gt;a,.pager .next&gt;span{float:right}.pager .previous&gt;a,.pager .previous&gt;span{float:left}.pager .disabled&gt;a,.pager .disabled&gt;a:focus,.pager .disabled&gt;a:hover,.pager .disabled&gt;span{color:#777;cursor:not-allowed;background-color:#fff}.label{display:inline;padding:.2em .6em .3em;font-size:75%;font-weight:700;line-height:1;color:#fff;text-align:center;white-space:nowrap;vertical-align:baseline;border-radius:.25em}a.label:focus,a.label:hover{color:#fff;text-decoration:none;cursor:pointer}.label:empty{display:none}.btn .label{position:relative;top:-1px}.label-default{background-color:#777}.label-default[href]:focus,.label-default[href]:hover{background-color:#5e5e5e}.label-primary{background-color:#337ab7}.label-primary[href]:focus,.label-primary[href]:hover{background-color:#286090}.label-success{background-color:#5cb85c}.label-success[href]:focus,.label-success[href]:hover{background-color:#449d44}.label-info{background-color:#5bc0de}.label-info[href]:focus,.label-info[href]:hover{background-color:#31b0d5}.label-warning{background-color:#f0ad4e}.label-warning[href]:focus,.label-warning[href]:hover{background-color:#ec971f}.label-danger{background-color:#d9534f}.label-danger[href]:focus,.label-danger[href]:hover{background-color:#c9302c}.badge{display:inline-block;min-width:10px;padding:3px 7px;font-size:12px;font-weight:700;line-height:1;color:#fff;text-align:center;white-space:nowrap;vertical-align:middle;background-color:#777;border-radius:10px}.badge:empty{display:none}.btn .badge{position:relative;top:-1px}.btn-group-xs&gt;.btn .badge,.btn-xs .badge{top:0;padding:1px 5px}a.badge:focus,a.badge:hover{color:#fff;text-decoration:none;cursor:pointer}.list-group-item.active&gt;.badge,.nav-pills&gt;.active&gt;a&gt;.badge{color:#337ab7;background-color:#fff}.list-group-item&gt;.badge{float:right}.list-group-item&gt;.badge+.badge{margin-right:5px}.nav-pills&gt;li&gt;a&gt;.badge{margin-left:3px}.jumbotron{padding-top:30px;padding-bottom:30px;margin-bottom:30px;color:inherit;background-color:#eee}.jumbotron .h1,.jumbotron h1{color:inherit}.jumbotron p{margin-bottom:15px;font-size:21px;font-weight:200}.jumbotron&gt;hr{border-top-color:#d5d5d5}.container .jumbotron,.container-fluid .jumbotron{padding-right:15px;padding-left:15px;border-radius:6px}.jumbotron .container{max-width:100%}@media screen and (min-width:768px){.jumbotron{padding-top:48px;padding-bottom:48px}.container .jumbotron,.container-fluid .jumbotron{padding-right:60px;padding-left:60px}.jumbotron .h1,.jumbotron h1{font-size:63px}}.thumbnail{display:block;padding:4px;margin-bottom:20px;line-height:1.42857143;background-color:#fff;border:1px solid #ddd;border-radius:4px;-webkit-transition:border .2s ease-in-out;-o-transition:border .2s ease-in-out;transition:border .2s ease-in-out}.thumbnail a&gt;img,.thumbnail&gt;img{margin-right:auto;margin-left:auto}a.thumbnail.active,a.thumbnail:focus,a.thumbnail:hover{border-color:#337ab7}.thumbnail .caption{padding:9px;color:#333}.alert{padding:15px;margin-bottom:20px;border:1px solid transparent;border-radius:4px}.alert h4{margin-top:0;color:inherit}.alert .alert-link{font-weight:700}.alert&gt;p,.alert&gt;ul{margin-bottom:0}.alert&gt;p+p{margin-top:5px}.alert-dismissable,.alert-dismissible{padding-right:35px}.alert-dismissable .close,.alert-dismissible .close{position:relative;top:-2px;right:-21px;color:inherit}.alert-success{color:#3c763d;background-color:#dff0d8;border-color:#d6e9c6}.alert-success hr{border-top-color:#c9e2b3}.alert-success .alert-link{color:#2b542c}.alert-info{color:#31708f;background-color:#d9edf7;border-color:#bce8f1}.alert-info hr{border-top-color:#a6e1ec}.alert-info .alert-link{color:#245269}.alert-warning{color:#8a6d3b;background-color:#fcf8e3;border-color:#faebcc}.alert-warning hr{border-top-color:#f7e1b5}.alert-warning .alert-link{color:#66512c}.alert-danger{color:#a94442;background-color:#f2dede;border-color:#ebccd1}.alert-danger hr{border-top-color:#e4b9c0}.alert-danger .alert-link{color:#843534}@-webkit-keyframes progress-bar-stripes{from{background-position:40px 0}to{background-position:0 0}}@-o-keyframes progress-bar-stripes{from{background-position:40px 0}to{background-position:0 0}}@keyframes progress-bar-stripes{from{background-position:40px 0}to{background-position:0 0}}.progress{height:20px;margin-bottom:20px;overflow:hidden;background-color:#f5f5f5;border-radius:4px;-webkit-box-shadow:inset 0 1px 2px rgba(0,0,0,.1);box-shadow:inset 0 1px 2px rgba(0,0,0,.1)}.progress-bar{float:left;width:0;height:100%;font-size:12px;line-height:20px;color:#fff;text-align:center;background-color:#337ab7;-webkit-box-shadow:inset 0 -1px 0 rgba(0,0,0,.15);box-shadow:inset 0 -1px 0 rgba(0,0,0,.15);-webkit-transition:width .6s ease;-o-transition:width .6s ease;transition:width .6s ease}.progress-bar-striped,.progress-striped .progress-bar{background-image:-webkit-linear-gradient(45deg,rgba(255,255,255,.15) 25%,transparent 25%,transparent 50%,rgba(255,255,255,.15) 50%,rgba(255,255,255,.15) 75%,transparent 75%,transparent);background-image:-o-linear-gradient(45deg,rgba(255,255,255,.15) 25%,transparent 25%,transparent 50%,rgba(255,255,255,.15) 50%,rgba(255,255,255,.15) 75%,transparent 75%,transparent);background-image:linear-gradient(45deg,rgba(255,255,255,.15) 25%,transparent 25%,transparent 50%,rgba(255,255,255,.15) 50%,rgba(255,255,255,.15) 75%,transparent 75%,transparent);-webkit-background-size:40px 40px;background-size:40px 40px}.progress-bar.active,.progress.active .progress-bar{-webkit-animation:progress-bar-stripes 2s linear infinite;-o-animation:progress-bar-stripes 2s linear infinite;animation:progress-bar-stripes 2s linear infinite}.progress-bar-success{background-color:#5cb85c}.progress-striped .progress-bar-success{background-image:-webkit-linear-gradient(45deg,rgba(255,255,255,.15) 25%,transparent 25%,transparent 50%,rgba(255,255,255,.15) 50%,rgba(255,255,255,.15) 75%,transparent 75%,transparent);background-image:-o-linear-gradient(45deg,rgba(255,255,255,.15) 25%,transparent 25%,transparent 50%,rgba(255,255,255,.15) 50%,rgba(255,255,255,.15) 75%,transparent 75%,transparent);background-image:linear-gradient(45deg,rgba(255,255,255,.15) 25%,transparent 25%,transparent 50%,rgba(255,255,255,.15) 50%,rgba(255,255,255,.15) 75%,transparent 75%,transparent)}.progress-bar-info{background-color:#5bc0de}.progress-striped .progress-bar-info{background-image:-webkit-linear-gradient(45deg,rgba(255,255,255,.15) 25%,transparent 25%,transparent 50%,rgba(255,255,255,.15) 50%,rgba(255,255,255,.15) 75%,transparent 75%,transparent);background-image:-o-linear-gradient(45deg,rgba(255,255,255,.15) 25%,transparent 25%,transparent 50%,rgba(255,255,255,.15) 50%,rgba(255,255,255,.15) 75%,transparent 75%,transparent);background-image:linear-gradient(45deg,rgba(255,255,255,.15) 25%,transparent 25%,transparent 50%,rgba(255,255,255,.15) 50%,rgba(255,255,255,.15) 75%,transparent 75%,transparent)}.progress-bar-warning{background-color:#f0ad4e}.progress-striped .progress-bar-warning{background-image:-webkit-linear-gradient(45deg,rgba(255,255,255,.15) 25%,transparent 25%,transparent 50%,rgba(255,255,255,.15) 50%,rgba(255,255,255,.15) 75%,transparent 75%,transparent);background-image:-o-linear-gradient(45deg,rgba(255,255,255,.15) 25%,transparent 25%,transparent 50%,rgba(255,255,255,.15) 50%,rgba(255,255,255,.15) 75%,transparent 75%,transparent);background-image:linear-gradient(45deg,rgba(255,255,255,.15) 25%,transparent 25%,transparent 50%,rgba(255,255,255,.15) 50%,rgba(255,255,255,.15) 75%,transparent 75%,transparent)}.progress-bar-danger{background-color:#d9534f}.progress-striped .progress-bar-danger{background-image:-webkit-linear-gradient(45deg,rgba(255,255,255,.15) 25%,transparent 25%,transparent 50%,rgba(255,255,255,.15) 50%,rgba(255,255,255,.15) 75%,transparent 75%,transparent);background-image:-o-linear-gradient(45deg,rgba(255,255,255,.15) 25%,transparent 25%,transparent 50%,rgba(255,255,255,.15) 50%,rgba(255,255,255,.15) 75%,transparent 75%,transparent);background-image:linear-gradient(45deg,rgba(255,255,255,.15) 25%,transparent 25%,transparent 50%,rgba(255,255,255,.15) 50%,rgba(255,255,255,.15) 75%,transparent 75%,transparent)}.media{margin-top:15px}.media:first-child{margin-top:0}.media,.media-body{overflow:hidden;zoom:1}.media-body{width:10000px}.media-object{display:block}.media-object.img-thumbnail{max-width:none}.media-right,.media&gt;.pull-right{padding-left:10px}.media-left,.media&gt;.pull-left{padding-right:10px}.media-body,.media-left,.media-right{display:table-cell;vertical-align:top}.media-middle{vertical-align:middle}.media-bottom{vertical-align:bottom}.media-heading{margin-top:0;margin-bottom:5px}.media-list{padding-left:0;list-style:none}.list-group{padding-left:0;margin-bottom:20px}.list-group-item{position:relative;display:block;padding:10px 15px;margin-bottom:-1px;background-color:#fff;border:1px solid #ddd}.list-group-item:first-child{border-top-left-radius:4px;border-top-right-radius:4px}.list-group-item:last-child{margin-bottom:0;border-bottom-right-radius:4px;border-bottom-left-radius:4px}a.list-group-item,button.list-group-item{color:#555}a.list-group-item .list-group-item-heading,button.list-group-item .list-group-item-heading{color:#333}a.list-group-item:focus,a.list-group-item:hover,button.list-group-item:focus,button.list-group-item:hover{color:#555;text-decoration:none;background-color:#f5f5f5}button.list-group-item{width:100%;text-align:left}.list-group-item.disabled,.list-group-item.disabled:focus,.list-group-item.disabled:hover{color:#777;cursor:not-allowed;background-color:#eee}.list-group-item.disabled .list-group-item-heading,.list-group-item.disabled:focus .list-group-item-heading,.list-group-item.disabled:hover .list-group-item-heading{color:inherit}.list-group-item.disabled .list-group-item-text,.list-group-item.disabled:focus .list-group-item-text,.list-group-item.disabled:hover .list-group-item-text{color:#777}.list-group-item.active,.list-group-item.active:focus,.list-group-item.active:hover{z-index:2;color:#fff;background-color:#337ab7;border-color:#337ab7}.list-group-item.active .list-group-item-heading,.list-group-item.active .list-group-item-heading&gt;.small,.list-group-item.active .list-group-item-heading&gt;small,.list-group-item.active:focus .list-group-item-heading,.list-group-item.active:focus .list-group-item-heading&gt;.small,.list-group-item.active:focus .list-group-item-heading&gt;small,.list-group-item.active:hover .list-group-item-heading,.list-group-item.active:hover .list-group-item-heading&gt;.small,.list-group-item.active:hover .list-group-item-heading&gt;small{color:inherit}.list-group-item.active .list-group-item-text,.list-group-item.active:focus .list-group-item-text,.list-group-item.active:hover .list-group-item-text{color:#c7ddef}.list-group-item-success{color:#3c763d;background-color:#dff0d8}a.list-group-item-success,button.list-group-item-success{color:#3c763d}a.list-group-item-success .list-group-item-heading,button.list-group-item-success .list-group-item-heading{color:inherit}a.list-group-item-success:focus,a.list-group-item-success:hover,button.list-group-item-success:focus,button.list-group-item-success:hover{color:#3c763d;background-color:#d0e9c6}a.list-group-item-success.active,a.list-group-item-success.active:focus,a.list-group-item-success.active:hover,button.list-group-item-success.active,button.list-group-item-success.active:focus,button.list-group-item-success.active:hover{color:#fff;background-color:#3c763d;border-color:#3c763d}.list-group-item-info{color:#31708f;background-color:#d9edf7}a.list-group-item-info,button.list-group-item-info{color:#31708f}a.list-group-item-info .list-group-item-heading,button.list-group-item-info .list-group-item-heading{color:inherit}a.list-group-item-info:focus,a.list-group-item-info:hover,button.list-group-item-info:focus,button.list-group-item-info:hover{color:#31708f;background-color:#c4e3f3}a.list-group-item-info.active,a.list-group-item-info.active:focus,a.list-group-item-info.active:hover,button.list-group-item-info.active,button.list-group-item-info.active:focus,button.list-group-item-info.active:hover{color:#fff;background-color:#31708f;border-color:#31708f}.list-group-item-warning{color:#8a6d3b;background-color:#fcf8e3}a.list-group-item-warning,button.list-group-item-warning{color:#8a6d3b}a.list-group-item-warning .list-group-item-heading,button.list-group-item-warning .list-group-item-heading{color:inherit}a.list-group-item-warning:focus,a.list-group-item-warning:hover,button.list-group-item-warning:focus,button.list-group-item-warning:hover{color:#8a6d3b;background-color:#faf2cc}a.list-group-item-warning.active,a.list-group-item-warning.active:focus,a.list-group-item-warning.active:hover,button.list-group-item-warning.active,button.list-group-item-warning.active:focus,button.list-group-item-warning.active:hover{color:#fff;background-color:#8a6d3b;border-color:#8a6d3b}.list-group-item-danger{color:#a94442;background-color:#f2dede}a.list-group-item-danger,button.list-group-item-danger{color:#a94442}a.list-group-item-danger .list-group-item-heading,button.list-group-item-danger .list-group-item-heading{color:inherit}a.list-group-item-danger:focus,a.list-group-item-danger:hover,button.list-group-item-danger:focus,button.list-group-item-danger:hover{color:#a94442;background-color:#ebcccc}a.list-group-item-danger.active,a.list-group-item-danger.active:focus,a.list-group-item-danger.active:hover,button.list-group-item-danger.active,button.list-group-item-danger.active:focus,button.list-group-item-danger.active:hover{color:#fff;background-color:#a94442;border-color:#a94442}.list-group-item-heading{margin-top:0;margin-bottom:5px}.list-group-item-text{margin-bottom:0;line-height:1.3}.panel{margin-bottom:20px;background-color:#fff;border:1px solid transparent;border-radius:4px;-webkit-box-shadow:0 1px 1px rgba(0,0,0,.05);box-shadow:0 1px 1px rgba(0,0,0,.05)}.panel-body{padding:15px}.panel-heading{padding:10px 15px;border-bottom:1px solid transparent;border-top-left-radius:3px;border-top-right-radius:3px}.panel-heading&gt;.dropdown .dropdown-toggle{color:inherit}.panel-title{margin-top:0;margin-bottom:0;font-size:16px;color:inherit}.panel-title&gt;.small,.panel-title&gt;.small&gt;a,.panel-title&gt;a,.panel-title&gt;small,.panel-title&gt;small&gt;a{color:inherit}.panel-footer{padding:10px 15px;background-color:#f5f5f5;border-top:1px solid #ddd;border-bottom-right-radius:3px;border-bottom-left-radius:3px}.panel&gt;.list-group,.panel&gt;.panel-collapse&gt;.list-group{margin-bottom:0}.panel&gt;.list-group .list-group-item,.panel&gt;.panel-collapse&gt;.list-group .list-group-item{border-width:1px 0;border-radius:0}.panel&gt;.list-group:first-child .list-group-item:first-child,.panel&gt;.panel-collapse&gt;.list-group:first-child .list-group-item:first-child{border-top:0;border-top-left-radius:3px;border-top-right-radius:3px}.panel&gt;.list-group:last-child .list-group-item:last-child,.panel&gt;.panel-collapse&gt;.list-group:last-child .list-group-item:last-child{border-bottom:0;border-bottom-right-radius:3px;border-bottom-left-radius:3px}.panel&gt;.panel-heading+.panel-collapse&gt;.list-group .list-group-item:first-child{border-top-left-radius:0;border-top-right-radius:0}.panel-heading+.list-group .list-group-item:first-child{border-top-width:0}.list-group+.panel-footer{border-top-width:0}.panel&gt;.panel-collapse&gt;.table,.panel&gt;.table,.panel&gt;.table-responsive&gt;.table{margin-bottom:0}.panel&gt;.panel-collapse&gt;.table caption,.panel&gt;.table caption,.panel&gt;.table-responsive&gt;.table caption{padding-right:15px;padding-left:15px}.panel&gt;.table-responsive:first-child&gt;.table:first-child,.panel&gt;.table:first-child{border-top-left-radius:3px;border-top-right-radius:3px}.panel&gt;.table-responsive:first-child&gt;.table:first-child&gt;tbody:first-child&gt;tr:first-child,.panel&gt;.table-responsive:first-child&gt;.table:first-child&gt;thead:first-child&gt;tr:first-child,.panel&gt;.table:first-child&gt;tbody:first-child&gt;tr:first-child,.panel&gt;.table:first-child&gt;thead:first-child&gt;tr:first-child{border-top-left-radius:3px;border-top-right-radius:3px}.panel&gt;.table-responsive:first-child&gt;.table:first-child&gt;tbody:first-child&gt;tr:first-child td:first-child,.panel&gt;.table-responsive:first-child&gt;.table:first-child&gt;tbody:first-child&gt;tr:first-child th:first-child,.panel&gt;.table-responsive:first-child&gt;.table:first-child&gt;thead:first-child&gt;tr:first-child td:first-child,.panel&gt;.table-responsive:first-child&gt;.table:first-child&gt;thead:first-child&gt;tr:first-child th:first-child,.panel&gt;.table:first-child&gt;tbody:first-child&gt;tr:first-child td:first-child,.panel&gt;.table:first-child&gt;tbody:first-child&gt;tr:first-child th:first-child,.panel&gt;.table:first-child&gt;thead:first-child&gt;tr:first-child td:first-child,.panel&gt;.table:first-child&gt;thead:first-child&gt;tr:first-child th:first-child{border-top-left-radius:3px}.panel&gt;.table-responsive:first-child&gt;.table:first-child&gt;tbody:first-child&gt;tr:first-child td:last-child,.panel&gt;.table-responsive:first-child&gt;.table:first-child&gt;tbody:first-child&gt;tr:first-child th:last-child,.panel&gt;.table-responsive:first-child&gt;.table:first-child&gt;thead:first-child&gt;tr:first-child td:last-child,.panel&gt;.table-responsive:first-child&gt;.table:first-child&gt;thead:first-child&gt;tr:first-child th:last-child,.panel&gt;.table:first-child&gt;tbody:first-child&gt;tr:first-child td:last-child,.panel&gt;.table:first-child&gt;tbody:first-child&gt;tr:first-child th:last-child,.panel&gt;.table:first-child&gt;thead:first-child&gt;tr:first-child td:last-child,.panel&gt;.table:first-child&gt;thead:first-child&gt;tr:first-child th:last-child{border-top-right-radius:3px}.panel&gt;.table-responsive:last-child&gt;.table:last-child,.panel&gt;.table:last-child{border-bottom-right-radius:3px;border-bottom-left-radius:3px}.panel&gt;.table-responsive:last-child&gt;.table:last-child&gt;tbody:last-child&gt;tr:last-child,.panel&gt;.table-responsive:last-child&gt;.table:last-child&gt;tfoot:last-child&gt;tr:last-child,.panel&gt;.table:last-child&gt;tbody:last-child&gt;tr:last-child,.panel&gt;.table:last-child&gt;tfoot:last-child&gt;tr:last-child{border-bottom-right-radius:3px;border-bottom-left-radius:3px}.panel&gt;.table-responsive:last-child&gt;.table:last-child&gt;tbody:last-child&gt;tr:last-child td:first-child,.panel&gt;.table-responsive:last-child&gt;.table:last-child&gt;tbody:last-child&gt;tr:last-child th:first-child,.panel&gt;.table-responsive:last-child&gt;.table:last-child&gt;tfoot:last-child&gt;tr:last-child td:first-child,.panel&gt;.table-responsive:last-child&gt;.table:last-child&gt;tfoot:last-child&gt;tr:last-child th:first-child,.panel&gt;.table:last-child&gt;tbody:last-child&gt;tr:last-child td:first-child,.panel&gt;.table:last-child&gt;tbody:last-child&gt;tr:last-child th:first-child,.panel&gt;.table:last-child&gt;tfoot:last-child&gt;tr:last-child td:first-child,.panel&gt;.table:last-child&gt;tfoot:last-child&gt;tr:last-child th:first-child{border-bottom-left-radius:3px}.panel&gt;.table-responsive:last-child&gt;.table:last-child&gt;tbody:last-child&gt;tr:last-child td:last-child,.panel&gt;.table-responsive:last-child&gt;.table:last-child&gt;tbody:last-child&gt;tr:last-child th:last-child,.panel&gt;.table-responsive:last-child&gt;.table:last-child&gt;tfoot:last-child&gt;tr:last-child td:last-child,.panel&gt;.table-responsive:last-child&gt;.table:last-child&gt;tfoot:last-child&gt;tr:last-child th:last-child,.panel&gt;.table:last-child&gt;tbody:last-child&gt;tr:last-child td:last-child,.panel&gt;.table:last-child&gt;tbody:last-child&gt;tr:last-child th:last-child,.panel&gt;.table:last-child&gt;tfoot:last-child&gt;tr:last-child td:last-child,.panel&gt;.table:last-child&gt;tfoot:last-child&gt;tr:last-child th:last-child{border-bottom-right-radius:3px}.panel&gt;.panel-body+.table,.panel&gt;.panel-body+.table-responsive,.panel&gt;.table+.panel-body,.panel&gt;.table-responsive+.panel-body{border-top:1px solid #ddd}.panel&gt;.table&gt;tbody:first-child&gt;tr:first-child td,.panel&gt;.table&gt;tbody:first-child&gt;tr:first-child th{border-top:0}.panel&gt;.table-bordered,.panel&gt;.table-responsive&gt;.table-bordered{border:0}.panel&gt;.table-bordered&gt;tbody&gt;tr&gt;td:first-child,.panel&gt;.table-bordered&gt;tbody&gt;tr&gt;th:first-child,.panel&gt;.table-bordered&gt;tfoot&gt;tr&gt;td:first-child,.panel&gt;.table-bordered&gt;tfoot&gt;tr&gt;th:first-child,.panel&gt;.table-bordered&gt;thead&gt;tr&gt;td:first-child,.panel&gt;.table-bordered&gt;thead&gt;tr&gt;th:first-child,.panel&gt;.table-responsive&gt;.table-bordered&gt;tbody&gt;tr&gt;td:first-child,.panel&gt;.table-responsive&gt;.table-bordered&gt;tbody&gt;tr&gt;th:first-child,.panel&gt;.table-responsive&gt;.table-bordered&gt;tfoot&gt;tr&gt;td:first-child,.panel&gt;.table-responsive&gt;.table-bordered&gt;tfoot&gt;tr&gt;th:first-child,.panel&gt;.table-responsive&gt;.table-bordered&gt;thead&gt;tr&gt;td:first-child,.panel&gt;.table-responsive&gt;.table-bordered&gt;thead&gt;tr&gt;th:first-child{border-left:0}.panel&gt;.table-bordered&gt;tbody&gt;tr&gt;td:last-child,.panel&gt;.table-bordered&gt;tbody&gt;tr&gt;th:last-child,.panel&gt;.table-bordered&gt;tfoot&gt;tr&gt;td:last-child,.panel&gt;.table-bordered&gt;tfoot&gt;tr&gt;th:last-child,.panel&gt;.table-bordered&gt;thead&gt;tr&gt;td:last-child,.panel&gt;.table-bordered&gt;thead&gt;tr&gt;th:last-child,.panel&gt;.table-responsive&gt;.table-bordered&gt;tbody&gt;tr&gt;td:last-child,.panel&gt;.table-responsive&gt;.table-bordered&gt;tbody&gt;tr&gt;th:last-child,.panel&gt;.table-responsive&gt;.table-bordered&gt;tfoot&gt;tr&gt;td:last-child,.panel&gt;.table-responsive&gt;.table-bordered&gt;tfoot&gt;tr&gt;th:last-child,.panel&gt;.table-responsive&gt;.table-bordered&gt;thead&gt;tr&gt;td:last-child,.panel&gt;.table-responsive&gt;.table-bordered&gt;thead&gt;tr&gt;th:last-child{border-right:0}.panel&gt;.table-bordered&gt;tbody&gt;tr:first-child&gt;td,.panel&gt;.table-bordered&gt;tbody&gt;tr:first-child&gt;th,.panel&gt;.table-bordered&gt;thead&gt;tr:first-child&gt;td,.panel&gt;.table-bordered&gt;thead&gt;tr:first-child&gt;th,.panel&gt;.table-responsive&gt;.table-bordered&gt;tbody&gt;tr:first-child&gt;td,.panel&gt;.table-responsive&gt;.table-bordered&gt;tbody&gt;tr:first-child&gt;th,.panel&gt;.table-responsive&gt;.table-bordered&gt;thead&gt;tr:first-child&gt;td,.panel&gt;.table-responsive&gt;.table-bordered&gt;thead&gt;tr:first-child&gt;th{border-bottom:0}.panel&gt;.table-bordered&gt;tbody&gt;tr:last-child&gt;td,.panel&gt;.table-bordered&gt;tbody&gt;tr:last-child&gt;th,.panel&gt;.table-bordered&gt;tfoot&gt;tr:last-child&gt;td,.panel&gt;.table-bordered&gt;tfoot&gt;tr:last-child&gt;th,.panel&gt;.table-responsive&gt;.table-bordered&gt;tbody&gt;tr:last-child&gt;td,.panel&gt;.table-responsive&gt;.table-bordered&gt;tbody&gt;tr:last-child&gt;th,.panel&gt;.table-responsive&gt;.table-bordered&gt;tfoot&gt;tr:last-child&gt;td,.panel&gt;.table-responsive&gt;.table-bordered&gt;tfoot&gt;tr:last-child&gt;th{border-bottom:0}.panel&gt;.table-responsive{margin-bottom:0;border:0}.panel-group{margin-bottom:20px}.panel-group .panel{margin-bottom:0;border-radius:4px}.panel-group .panel+.panel{margin-top:5px}.panel-group .panel-heading{border-bottom:0}.panel-group .panel-heading+.panel-collapse&gt;.list-group,.panel-group .panel-heading+.panel-collapse&gt;.panel-body{border-top:1px solid #ddd}.panel-group .panel-footer{border-top:0}.panel-group .panel-footer+.panel-collapse .panel-body{border-bottom:1px solid #ddd}.panel-default{border-color:#ddd}.panel-default&gt;.panel-heading{color:#333;background-color:#f5f5f5;border-color:#ddd}.panel-default&gt;.panel-heading+.panel-collapse&gt;.panel-body{border-top-color:#ddd}.panel-default&gt;.panel-heading .badge{color:#f5f5f5;background-color:#333}.panel-default&gt;.panel-footer+.panel-collapse&gt;.panel-body{border-bottom-color:#ddd}.panel-primary{border-color:#337ab7}.panel-primary&gt;.panel-heading{color:#fff;background-color:#337ab7;border-color:#337ab7}.panel-primary&gt;.panel-heading+.panel-collapse&gt;.panel-body{border-top-color:#337ab7}.panel-primary&gt;.panel-heading .badge{color:#337ab7;background-color:#fff}.panel-primary&gt;.panel-footer+.panel-collapse&gt;.panel-body{border-bottom-color:#337ab7}.panel-success{border-color:#d6e9c6}.panel-success&gt;.panel-heading{color:#3c763d;background-color:#dff0d8;border-color:#d6e9c6}.panel-success&gt;.panel-heading+.panel-collapse&gt;.panel-body{border-top-color:#d6e9c6}.panel-success&gt;.panel-heading .badge{color:#dff0d8;background-color:#3c763d}.panel-success&gt;.panel-footer+.panel-collapse&gt;.panel-body{border-bottom-color:#d6e9c6}.panel-info{border-color:#bce8f1}.panel-info&gt;.panel-heading{color:#31708f;background-color:#d9edf7;border-color:#bce8f1}.panel-info&gt;.panel-heading+.panel-collapse&gt;.panel-body{border-top-color:#bce8f1}.panel-info&gt;.panel-heading .badge{color:#d9edf7;background-color:#31708f}.panel-info&gt;.panel-footer+.panel-collapse&gt;.panel-body{border-bottom-color:#bce8f1}.panel-warning{border-color:#faebcc}.panel-warning&gt;.panel-heading{color:#8a6d3b;background-color:#fcf8e3;border-color:#faebcc}.panel-warning&gt;.panel-heading+.panel-collapse&gt;.panel-body{border-top-color:#faebcc}.panel-warning&gt;.panel-heading .badge{color:#fcf8e3;background-color:#8a6d3b}.panel-warning&gt;.panel-footer+.panel-collapse&gt;.panel-body{border-bottom-color:#faebcc}.panel-danger{border-color:#ebccd1}.panel-danger&gt;.panel-heading{color:#a94442;background-color:#f2dede;border-color:#ebccd1}.panel-danger&gt;.panel-heading+.panel-collapse&gt;.panel-body{border-top-color:#ebccd1}.panel-danger&gt;.panel-heading .badge{color:#f2dede;background-color:#a94442}.panel-danger&gt;.panel-footer+.panel-collapse&gt;.panel-body{border-bottom-color:#ebccd1}.embed-responsive{position:relative;display:block;height:0;padding:0;overflow:hidden}.embed-responsive .embed-responsive-item,.embed-responsive embed,.embed-responsive iframe,.embed-responsive object,.embed-responsive video{position:absolute;top:0;bottom:0;left:0;width:100%;height:100%;border:0}.embed-responsive-16by9{padding-bottom:56.25%}.embed-responsive-4by3{padding-bottom:75%}.well{min-height:20px;padding:19px;margin-bottom:20px;background-color:#f5f5f5;border:1px solid #e3e3e3;border-radius:4px;-webkit-box-shadow:inset 0 1px 1px rgba(0,0,0,.05);box-shadow:inset 0 1px 1px rgba(0,0,0,.05)}.well blockquote{border-color:#ddd;border-color:rgba(0,0,0,.15)}.well-lg{padding:24px;border-radius:6px}.well-sm{padding:9px;border-radius:3px}.close{float:right;font-size:21px;font-weight:700;line-height:1;color:#000;text-shadow:0 1px 0 #fff;filter:alpha(opacity=20);opacity:.2}.close:focus,.close:hover{color:#000;text-decoration:none;cursor:pointer;filter:alpha(opacity=50);opacity:.5}button.close{-webkit-appearance:none;padding:0;cursor:pointer;background:0 0;border:0}.modal-open{overflow:hidden}.modal{position:fixed;top:0;right:0;bottom:0;left:0;z-index:1050;display:none;overflow:hidden;-webkit-overflow-scrolling:touch;outline:0}.modal.fade .modal-dialog{-webkit-transition:-webkit-transform .3s ease-out;-o-transition:-o-transform .3s ease-out;transition:transform .3s ease-out;-webkit-transform:translate(0,-25%);-ms-transform:translate(0,-25%);-o-transform:translate(0,-25%);transform:translate(0,-25%)}.modal.in .modal-dialog{-webkit-transform:translate(0,0);-ms-transform:translate(0,0);-o-transform:translate(0,0);transform:translate(0,0)}.modal-open .modal{overflow-x:hidden;overflow-y:auto}.modal-dialog{position:relative;width:auto;margin:10px}.modal-content{position:relative;background-color:#fff;-webkit-background-clip:padding-box;background-clip:padding-box;border:1px solid #999;border:1px solid rgba(0,0,0,.2);border-radius:6px;outline:0;-webkit-box-shadow:0 3px 9px rgba(0,0,0,.5);box-shadow:0 3px 9px rgba(0,0,0,.5)}.modal-backdrop{position:fixed;top:0;right:0;bottom:0;left:0;z-index:1040;background-color:#000}.modal-backdrop.fade{filter:alpha(opacity=0);opacity:0}.modal-backdrop.in{filter:alpha(opacity=50);opacity:.5}.modal-header{padding:15px;border-bottom:1px solid #e5e5e5}.modal-header .close{margin-top:-2px}.modal-title{margin:0;line-height:1.42857143}.modal-body{position:relative;padding:15px}.modal-footer{padding:15px;text-align:right;border-top:1px solid #e5e5e5}.modal-footer .btn+.btn{margin-bottom:0;margin-left:5px}.modal-footer .btn-group .btn+.btn{margin-left:-1px}.modal-footer .btn-block+.btn-block{margin-left:0}.modal-scrollbar-measure{position:absolute;top:-9999px;width:50px;height:50px;overflow:scroll}@media (min-width:768px){.modal-dialog{width:600px;margin:30px auto}.modal-content{-webkit-box-shadow:0 5px 15px rgba(0,0,0,.5);box-shadow:0 5px 15px rgba(0,0,0,.5)}.modal-sm{width:300px}}@media (min-width:992px){.modal-lg{width:900px}}.tooltip{position:absolute;z-index:1070;display:block;font-family:&quot;Helvetica Neue&quot;,Helvetica,Arial,sans-serif;font-size:12px;font-style:normal;font-weight:400;line-height:1.42857143;text-align:left;text-align:start;text-decoration:none;text-shadow:none;text-transform:none;letter-spacing:normal;word-break:normal;word-spacing:normal;word-wrap:normal;white-space:normal;filter:alpha(opacity=0);opacity:0;line-break:auto}.tooltip.in{filter:alpha(opacity=90);opacity:.9}.tooltip.top{padding:5px 0;margin-top:-3px}.tooltip.right{padding:0 5px;margin-left:3px}.tooltip.bottom{padding:5px 0;margin-top:3px}.tooltip.left{padding:0 5px;margin-left:-3px}.tooltip-inner{max-width:200px;padding:3px 8px;color:#fff;text-align:center;background-color:#000;border-radius:4px}.tooltip-arrow{position:absolute;width:0;height:0;border-color:transparent;border-style:solid}.tooltip.top .tooltip-arrow{bottom:0;left:50%;margin-left:-5px;border-width:5px 5px 0;border-top-color:#000}.tooltip.top-left .tooltip-arrow{right:5px;bottom:0;margin-bottom:-5px;border-width:5px 5px 0;border-top-color:#000}.tooltip.top-right .tooltip-arrow{bottom:0;left:5px;margin-bottom:-5px;border-width:5px 5px 0;border-top-color:#000}.tooltip.right .tooltip-arrow{top:50%;left:0;margin-top:-5px;border-width:5px 5px 5px 0;border-right-color:#000}.tooltip.left .tooltip-arrow{top:50%;right:0;margin-top:-5px;border-width:5px 0 5px 5px;border-left-color:#000}.tooltip.bottom .tooltip-arrow{top:0;left:50%;margin-left:-5px;border-width:0 5px 5px;border-bottom-color:#000}.tooltip.bottom-left .tooltip-arrow{top:0;right:5px;margin-top:-5px;border-width:0 5px 5px;border-bottom-color:#000}.tooltip.bottom-right .tooltip-arrow{top:0;left:5px;margin-top:-5px;border-width:0 5px 5px;border-bottom-color:#000}.popover{position:absolute;top:0;left:0;z-index:1060;display:none;max-width:276px;padding:1px;font-family:&quot;Helvetica Neue&quot;,Helvetica,Arial,sans-serif;font-size:14px;font-style:normal;font-weight:400;line-height:1.42857143;text-align:left;text-align:start;text-decoration:none;text-shadow:none;text-transform:none;letter-spacing:normal;word-break:normal;word-spacing:normal;word-wrap:normal;white-space:normal;background-color:#fff;-webkit-background-clip:padding-box;background-clip:padding-box;border:1px solid #ccc;border:1px solid rgba(0,0,0,.2);border-radius:6px;-webkit-box-shadow:0 5px 10px rgba(0,0,0,.2);box-shadow:0 5px 10px rgba(0,0,0,.2);line-break:auto}.popover.top{margin-top:-10px}.popover.right{margin-left:10px}.popover.bottom{margin-top:10px}.popover.left{margin-left:-10px}.popover-title{padding:8px 14px;margin:0;font-size:14px;background-color:#f7f7f7;border-bottom:1px solid #ebebeb;border-radius:5px 5px 0 0}.popover-content{padding:9px 14px}.popover&gt;.arrow,.popover&gt;.arrow:after{position:absolute;display:block;width:0;height:0;border-color:transparent;border-style:solid}.popover&gt;.arrow{border-width:11px}.popover&gt;.arrow:after{content:&quot;&quot;;border-width:10px}.popover.top&gt;.arrow{bottom:-11px;left:50%;margin-left:-11px;border-top-color:#999;border-top-color:rgba(0,0,0,.25);border-bottom-width:0}.popover.top&gt;.arrow:after{bottom:1px;margin-left:-10px;content:&quot; &quot;;border-top-color:#fff;border-bottom-width:0}.popover.right&gt;.arrow{top:50%;left:-11px;margin-top:-11px;border-right-color:#999;border-right-color:rgba(0,0,0,.25);border-left-width:0}.popover.right&gt;.arrow:after{bottom:-10px;left:1px;content:&quot; &quot;;border-right-color:#fff;border-left-width:0}.popover.bottom&gt;.arrow{top:-11px;left:50%;margin-left:-11px;border-top-width:0;border-bottom-color:#999;border-bottom-color:rgba(0,0,0,.25)}.popover.bottom&gt;.arrow:after{top:1px;margin-left:-10px;content:&quot; &quot;;border-top-width:0;border-bottom-color:#fff}.popover.left&gt;.arrow{top:50%;right:-11px;margin-top:-11px;border-right-width:0;border-left-color:#999;border-left-color:rgba(0,0,0,.25)}.popover.left&gt;.arrow:after{right:1px;bottom:-10px;content:&quot; &quot;;border-right-width:0;border-left-color:#fff}.carousel{position:relative}.carousel-inner{position:relative;width:100%;overflow:hidden}.carousel-inner&gt;.item{position:relative;display:none;-webkit-transition:.6s ease-in-out left;-o-transition:.6s ease-in-out left;transition:.6s ease-in-out left}.carousel-inner&gt;.item&gt;a&gt;img,.carousel-inner&gt;.item&gt;img{line-height:1}@media all and (transform-3d),(-webkit-transform-3d){.carousel-inner&gt;.item{-webkit-transition:-webkit-transform .6s ease-in-out;-o-transition:-o-transform .6s ease-in-out;transition:transform .6s ease-in-out;-webkit-backface-visibility:hidden;backface-visibility:hidden;-webkit-perspective:1000px;perspective:1000px}.carousel-inner&gt;.item.active.right,.carousel-inner&gt;.item.next{left:0;-webkit-transform:translate3d(100%,0,0);transform:translate3d(100%,0,0)}.carousel-inner&gt;.item.active.left,.carousel-inner&gt;.item.prev{left:0;-webkit-transform:translate3d(-100%,0,0);transform:translate3d(-100%,0,0)}.carousel-inner&gt;.item.active,.carousel-inner&gt;.item.next.left,.carousel-inner&gt;.item.prev.right{left:0;-webkit-transform:translate3d(0,0,0);transform:translate3d(0,0,0)}}.carousel-inner&gt;.active,.carousel-inner&gt;.next,.carousel-inner&gt;.prev{display:block}.carousel-inner&gt;.active{left:0}.carousel-inner&gt;.next,.carousel-inner&gt;.prev{position:absolute;top:0;width:100%}.carousel-inner&gt;.next{left:100%}.carousel-inner&gt;.prev{left:-100%}.carousel-inner&gt;.next.left,.carousel-inner&gt;.prev.right{left:0}.carousel-inner&gt;.active.left{left:-100%}.carousel-inner&gt;.active.right{left:100%}.carousel-control{position:absolute;top:0;bottom:0;left:0;width:15%;font-size:20px;color:#fff;text-align:center;text-shadow:0 1px 2px rgba(0,0,0,.6);background-color:rgba(0,0,0,0);filter:alpha(opacity=50);opacity:.5}.carousel-control.left{background-image:-webkit-linear-gradient(left,rgba(0,0,0,.5) 0,rgba(0,0,0,.0001) 100%);background-image:-o-linear-gradient(left,rgba(0,0,0,.5) 0,rgba(0,0,0,.0001) 100%);background-image:-webkit-gradient(linear,left top,right top,from(rgba(0,0,0,.5)),to(rgba(0,0,0,.0001)));background-image:linear-gradient(to right,rgba(0,0,0,.5) 0,rgba(0,0,0,.0001) 100%);filter:progid:DXImageTransform.Microsoft.gradient(startColorstr=&#x27;#80000000&#x27;, endColorstr=&#x27;#00000000&#x27;, GradientType=1);background-repeat:repeat-x}.carousel-control.right{right:0;left:auto;background-image:-webkit-linear-gradient(left,rgba(0,0,0,.0001) 0,rgba(0,0,0,.5) 100%);background-image:-o-linear-gradient(left,rgba(0,0,0,.0001) 0,rgba(0,0,0,.5) 100%);background-image:-webkit-gradient(linear,left top,right top,from(rgba(0,0,0,.0001)),to(rgba(0,0,0,.5)));background-image:linear-gradient(to right,rgba(0,0,0,.0001) 0,rgba(0,0,0,.5) 100%);filter:progid:DXImageTransform.Microsoft.gradient(startColorstr=&#x27;#00000000&#x27;, endColorstr=&#x27;#80000000&#x27;, GradientType=1);background-repeat:repeat-x}.carousel-control:focus,.carousel-control:hover{color:#fff;text-decoration:none;filter:alpha(opacity=90);outline:0;opacity:.9}.carousel-control .glyphicon-chevron-left,.carousel-control .glyphicon-chevron-right,.carousel-control .icon-next,.carousel-control .icon-prev{position:absolute;top:50%;z-index:5;display:inline-block;margin-top:-10px}.carousel-control .glyphicon-chevron-left,.carousel-control .icon-prev{left:50%;margin-left:-10px}.carousel-control .glyphicon-chevron-right,.carousel-control .icon-next{right:50%;margin-right:-10px}.carousel-control .icon-next,.carousel-control .icon-prev{width:20px;height:20px;font-family:serif;line-height:1}.carousel-control .icon-prev:before{content:&#x27;\\2039&#x27;}.carousel-control .icon-next:before{content:&#x27;\\203a&#x27;}.carousel-indicators{position:absolute;bottom:10px;left:50%;z-index:15;width:60%;padding-left:0;margin-left:-30%;text-align:center;list-style:none}.carousel-indicators li{display:inline-block;width:10px;height:10px;margin:1px;text-indent:-999px;cursor:pointer;background-color:#000\\9;background-color:rgba(0,0,0,0);border:1px solid #fff;border-radius:10px}.carousel-indicators .active{width:12px;height:12px;margin:0;background-color:#fff}.carousel-caption{position:absolute;right:15%;bottom:20px;left:15%;z-index:10;padding-top:20px;padding-bottom:20px;color:#fff;text-align:center;text-shadow:0 1px 2px rgba(0,0,0,.6)}.carousel-caption .btn{text-shadow:none}@media screen and (min-width:768px){.carousel-control .glyphicon-chevron-left,.carousel-control .glyphicon-chevron-right,.carousel-control .icon-next,.carousel-control .icon-prev{width:30px;height:30px;margin-top:-10px;font-size:30px}.carousel-control .glyphicon-chevron-left,.carousel-control .icon-prev{margin-left:-10px}.carousel-control .glyphicon-chevron-right,.carousel-control .icon-next{margin-right:-10px}.carousel-caption{right:20%;left:20%;padding-bottom:30px}.carousel-indicators{bottom:20px}}.btn-group-vertical&gt;.btn-group:after,.btn-group-vertical&gt;.btn-group:before,.btn-toolbar:after,.btn-toolbar:before,.clearfix:after,.clearfix:before,.container-fluid:after,.container-fluid:before,.container:after,.container:before,.dl-horizontal dd:after,.dl-horizontal dd:before,.form-horizontal .form-group:after,.form-horizontal .form-group:before,.modal-footer:after,.modal-footer:before,.modal-header:after,.modal-header:before,.nav:after,.nav:before,.navbar-collapse:after,.navbar-collapse:before,.navbar-header:after,.navbar-header:before,.navbar:after,.navbar:before,.pager:after,.pager:before,.panel-body:after,.panel-body:before,.row:after,.row:before{display:table;content:&quot; &quot;}.btn-group-vertical&gt;.btn-group:after,.btn-toolbar:after,.clearfix:after,.container-fluid:after,.container:after,.dl-horizontal dd:after,.form-horizontal .form-group:after,.modal-footer:after,.modal-header:after,.nav:after,.navbar-collapse:after,.navbar-header:after,.navbar:after,.pager:after,.panel-body:after,.row:after{clear:both}.center-block{display:block;margin-right:auto;margin-left:auto}.pull-right{float:right!important}.pull-left{float:left!important}.hide{display:none!important}.show{display:block!important}.invisible{visibility:hidden}.text-hide{font:0/0 a;color:transparent;text-shadow:none;background-color:transparent;border:0}.hidden{display:none!important}.affix{position:fixed}@-ms-viewport{width:device-width}.visible-lg,.visible-md,.visible-sm,.visible-xs{display:none!important}.visible-lg-block,.visible-lg-inline,.visible-lg-inline-block,.visible-md-block,.visible-md-inline,.visible-md-inline-block,.visible-sm-block,.visible-sm-inline,.visible-sm-inline-block,.visible-xs-block,.visible-xs-inline,.visible-xs-inline-block{display:none!important}@media (max-width:767px){.visible-xs{display:block!important}table.visible-xs{display:table!important}tr.visible-xs{display:table-row!important}td.visible-xs,th.visible-xs{display:table-cell!important}}@media (max-width:767px){.visible-xs-block{display:block!important}}@media (max-width:767px){.visible-xs-inline{display:inline!important}}@media (max-width:767px){.visible-xs-inline-block{display:inline-block!important}}@media (min-width:768px) and (max-width:991px){.visible-sm{display:block!important}table.visible-sm{display:table!important}tr.visible-sm{display:table-row!important}td.visible-sm,th.visible-sm{display:table-cell!important}}@media (min-width:768px) and (max-width:991px){.visible-sm-block{display:block!important}}@media (min-width:768px) and (max-width:991px){.visible-sm-inline{display:inline!important}}@media (min-width:768px) and (max-width:991px){.visible-sm-inline-block{display:inline-block!important}}@media (min-width:992px) and (max-width:1199px){.visible-md{display:block!important}table.visible-md{display:table!important}tr.visible-md{display:table-row!important}td.visible-md,th.visible-md{display:table-cell!important}}@media (min-width:992px) and (max-width:1199px){.visible-md-block{display:block!important}}@media (min-width:992px) and (max-width:1199px){.visible-md-inline{display:inline!important}}@media (min-width:992px) and (max-width:1199px){.visible-md-inline-block{display:inline-block!important}}@media (min-width:1200px){.visible-lg{display:block!important}table.visible-lg{display:table!important}tr.visible-lg{display:table-row!important}td.visible-lg,th.visible-lg{display:table-cell!important}}@media (min-width:1200px){.visible-lg-block{display:block!important}}@media (min-width:1200px){.visible-lg-inline{display:inline!important}}@media (min-width:1200px){.visible-lg-inline-block{display:inline-block!important}}@media (max-width:767px){.hidden-xs{display:none!important}}@media (min-width:768px) and (max-width:991px){.hidden-sm{display:none!important}}@media (min-width:992px) and (max-width:1199px){.hidden-md{display:none!important}}@media (min-width:1200px){.hidden-lg{display:none!important}}.visible-print{display:none!important}@media print{.visible-print{display:block!important}table.visible-print{display:table!important}tr.visible-print{display:table-row!important}td.visible-print,th.visible-print{display:table-cell!important}}.visible-print-block{display:none!important}@media print{.visible-print-block{display:block!important}}.visible-print-inline{display:none!important}@media print{.visible-print-inline{display:inline!important}}.visible-print-inline-block{display:none!important}@media print{.visible-print-inline-block{display:inline-block!important}}@media print{.hidden-print{display:none!important}}\n",
       "/*# sourceMappingURL=bootstrap.min.css.map *//*!\n",
       " * Bootstrap v3.3.7 (http://getbootstrap.com)\n",
       " * Copyright 2011-2016 Twitter, Inc.\n",
       " * Licensed under MIT (https://github.com/twbs/bootstrap/blob/master/LICENSE)\n",
       " */.btn-danger,.btn-default,.btn-info,.btn-primary,.btn-success,.btn-warning{text-shadow:0 -1px 0 rgba(0,0,0,.2);-webkit-box-shadow:inset 0 1px 0 rgba(255,255,255,.15),0 1px 1px rgba(0,0,0,.075);box-shadow:inset 0 1px 0 rgba(255,255,255,.15),0 1px 1px rgba(0,0,0,.075)}.btn-danger.active,.btn-danger:active,.btn-default.active,.btn-default:active,.btn-info.active,.btn-info:active,.btn-primary.active,.btn-primary:active,.btn-success.active,.btn-success:active,.btn-warning.active,.btn-warning:active{-webkit-box-shadow:inset 0 3px 5px rgba(0,0,0,.125);box-shadow:inset 0 3px 5px rgba(0,0,0,.125)}.btn-danger.disabled,.btn-danger[disabled],.btn-default.disabled,.btn-default[disabled],.btn-info.disabled,.btn-info[disabled],.btn-primary.disabled,.btn-primary[disabled],.btn-success.disabled,.btn-success[disabled],.btn-warning.disabled,.btn-warning[disabled],fieldset[disabled] .btn-danger,fieldset[disabled] .btn-default,fieldset[disabled] .btn-info,fieldset[disabled] .btn-primary,fieldset[disabled] .btn-success,fieldset[disabled] .btn-warning{-webkit-box-shadow:none;box-shadow:none}.btn-danger .badge,.btn-default .badge,.btn-info .badge,.btn-primary .badge,.btn-success .badge,.btn-warning .badge{text-shadow:none}.btn.active,.btn:active{background-image:none}.btn-default{text-shadow:0 1px 0 #fff;background-image:-webkit-linear-gradient(top,#fff 0,#e0e0e0 100%);background-image:-o-linear-gradient(top,#fff 0,#e0e0e0 100%);background-image:-webkit-gradient(linear,left top,left bottom,from(#fff),to(#e0e0e0));background-image:linear-gradient(to bottom,#fff 0,#e0e0e0 100%);filter:progid:DXImageTransform.Microsoft.gradient(startColorstr=&#x27;#ffffffff&#x27;, endColorstr=&#x27;#ffe0e0e0&#x27;, GradientType=0);filter:progid:DXImageTransform.Microsoft.gradient(enabled=false);background-repeat:repeat-x;border-color:#dbdbdb;border-color:#ccc}.btn-default:focus,.btn-default:hover{background-color:#e0e0e0;background-position:0 -15px}.btn-default.active,.btn-default:active{background-color:#e0e0e0;border-color:#dbdbdb}.btn-default.disabled,.btn-default.disabled.active,.btn-default.disabled.focus,.btn-default.disabled:active,.btn-default.disabled:focus,.btn-default.disabled:hover,.btn-default[disabled],.btn-default[disabled].active,.btn-default[disabled].focus,.btn-default[disabled]:active,.btn-default[disabled]:focus,.btn-default[disabled]:hover,fieldset[disabled] .btn-default,fieldset[disabled] .btn-default.active,fieldset[disabled] .btn-default.focus,fieldset[disabled] .btn-default:active,fieldset[disabled] .btn-default:focus,fieldset[disabled] .btn-default:hover{background-color:#e0e0e0;background-image:none}.btn-primary{background-image:-webkit-linear-gradient(top,#337ab7 0,#265a88 100%);background-image:-o-linear-gradient(top,#337ab7 0,#265a88 100%);background-image:-webkit-gradient(linear,left top,left bottom,from(#337ab7),to(#265a88));background-image:linear-gradient(to bottom,#337ab7 0,#265a88 100%);filter:progid:DXImageTransform.Microsoft.gradient(startColorstr=&#x27;#ff337ab7&#x27;, endColorstr=&#x27;#ff265a88&#x27;, GradientType=0);filter:progid:DXImageTransform.Microsoft.gradient(enabled=false);background-repeat:repeat-x;border-color:#245580}.btn-primary:focus,.btn-primary:hover{background-color:#265a88;background-position:0 -15px}.btn-primary.active,.btn-primary:active{background-color:#265a88;border-color:#245580}.btn-primary.disabled,.btn-primary.disabled.active,.btn-primary.disabled.focus,.btn-primary.disabled:active,.btn-primary.disabled:focus,.btn-primary.disabled:hover,.btn-primary[disabled],.btn-primary[disabled].active,.btn-primary[disabled].focus,.btn-primary[disabled]:active,.btn-primary[disabled]:focus,.btn-primary[disabled]:hover,fieldset[disabled] .btn-primary,fieldset[disabled] .btn-primary.active,fieldset[disabled] .btn-primary.focus,fieldset[disabled] .btn-primary:active,fieldset[disabled] .btn-primary:focus,fieldset[disabled] .btn-primary:hover{background-color:#265a88;background-image:none}.btn-success{background-image:-webkit-linear-gradient(top,#5cb85c 0,#419641 100%);background-image:-o-linear-gradient(top,#5cb85c 0,#419641 100%);background-image:-webkit-gradient(linear,left top,left bottom,from(#5cb85c),to(#419641));background-image:linear-gradient(to bottom,#5cb85c 0,#419641 100%);filter:progid:DXImageTransform.Microsoft.gradient(startColorstr=&#x27;#ff5cb85c&#x27;, endColorstr=&#x27;#ff419641&#x27;, GradientType=0);filter:progid:DXImageTransform.Microsoft.gradient(enabled=false);background-repeat:repeat-x;border-color:#3e8f3e}.btn-success:focus,.btn-success:hover{background-color:#419641;background-position:0 -15px}.btn-success.active,.btn-success:active{background-color:#419641;border-color:#3e8f3e}.btn-success.disabled,.btn-success.disabled.active,.btn-success.disabled.focus,.btn-success.disabled:active,.btn-success.disabled:focus,.btn-success.disabled:hover,.btn-success[disabled],.btn-success[disabled].active,.btn-success[disabled].focus,.btn-success[disabled]:active,.btn-success[disabled]:focus,.btn-success[disabled]:hover,fieldset[disabled] .btn-success,fieldset[disabled] .btn-success.active,fieldset[disabled] .btn-success.focus,fieldset[disabled] .btn-success:active,fieldset[disabled] .btn-success:focus,fieldset[disabled] .btn-success:hover{background-color:#419641;background-image:none}.btn-info{background-image:-webkit-linear-gradient(top,#5bc0de 0,#2aabd2 100%);background-image:-o-linear-gradient(top,#5bc0de 0,#2aabd2 100%);background-image:-webkit-gradient(linear,left top,left bottom,from(#5bc0de),to(#2aabd2));background-image:linear-gradient(to bottom,#5bc0de 0,#2aabd2 100%);filter:progid:DXImageTransform.Microsoft.gradient(startColorstr=&#x27;#ff5bc0de&#x27;, endColorstr=&#x27;#ff2aabd2&#x27;, GradientType=0);filter:progid:DXImageTransform.Microsoft.gradient(enabled=false);background-repeat:repeat-x;border-color:#28a4c9}.btn-info:focus,.btn-info:hover{background-color:#2aabd2;background-position:0 -15px}.btn-info.active,.btn-info:active{background-color:#2aabd2;border-color:#28a4c9}.btn-info.disabled,.btn-info.disabled.active,.btn-info.disabled.focus,.btn-info.disabled:active,.btn-info.disabled:focus,.btn-info.disabled:hover,.btn-info[disabled],.btn-info[disabled].active,.btn-info[disabled].focus,.btn-info[disabled]:active,.btn-info[disabled]:focus,.btn-info[disabled]:hover,fieldset[disabled] .btn-info,fieldset[disabled] .btn-info.active,fieldset[disabled] .btn-info.focus,fieldset[disabled] .btn-info:active,fieldset[disabled] .btn-info:focus,fieldset[disabled] .btn-info:hover{background-color:#2aabd2;background-image:none}.btn-warning{background-image:-webkit-linear-gradient(top,#f0ad4e 0,#eb9316 100%);background-image:-o-linear-gradient(top,#f0ad4e 0,#eb9316 100%);background-image:-webkit-gradient(linear,left top,left bottom,from(#f0ad4e),to(#eb9316));background-image:linear-gradient(to bottom,#f0ad4e 0,#eb9316 100%);filter:progid:DXImageTransform.Microsoft.gradient(startColorstr=&#x27;#fff0ad4e&#x27;, endColorstr=&#x27;#ffeb9316&#x27;, GradientType=0);filter:progid:DXImageTransform.Microsoft.gradient(enabled=false);background-repeat:repeat-x;border-color:#e38d13}.btn-warning:focus,.btn-warning:hover{background-color:#eb9316;background-position:0 -15px}.btn-warning.active,.btn-warning:active{background-color:#eb9316;border-color:#e38d13}.btn-warning.disabled,.btn-warning.disabled.active,.btn-warning.disabled.focus,.btn-warning.disabled:active,.btn-warning.disabled:focus,.btn-warning.disabled:hover,.btn-warning[disabled],.btn-warning[disabled].active,.btn-warning[disabled].focus,.btn-warning[disabled]:active,.btn-warning[disabled]:focus,.btn-warning[disabled]:hover,fieldset[disabled] .btn-warning,fieldset[disabled] .btn-warning.active,fieldset[disabled] .btn-warning.focus,fieldset[disabled] .btn-warning:active,fieldset[disabled] .btn-warning:focus,fieldset[disabled] .btn-warning:hover{background-color:#eb9316;background-image:none}.btn-danger{background-image:-webkit-linear-gradient(top,#d9534f 0,#c12e2a 100%);background-image:-o-linear-gradient(top,#d9534f 0,#c12e2a 100%);background-image:-webkit-gradient(linear,left top,left bottom,from(#d9534f),to(#c12e2a));background-image:linear-gradient(to bottom,#d9534f 0,#c12e2a 100%);filter:progid:DXImageTransform.Microsoft.gradient(startColorstr=&#x27;#ffd9534f&#x27;, endColorstr=&#x27;#ffc12e2a&#x27;, GradientType=0);filter:progid:DXImageTransform.Microsoft.gradient(enabled=false);background-repeat:repeat-x;border-color:#b92c28}.btn-danger:focus,.btn-danger:hover{background-color:#c12e2a;background-position:0 -15px}.btn-danger.active,.btn-danger:active{background-color:#c12e2a;border-color:#b92c28}.btn-danger.disabled,.btn-danger.disabled.active,.btn-danger.disabled.focus,.btn-danger.disabled:active,.btn-danger.disabled:focus,.btn-danger.disabled:hover,.btn-danger[disabled],.btn-danger[disabled].active,.btn-danger[disabled].focus,.btn-danger[disabled]:active,.btn-danger[disabled]:focus,.btn-danger[disabled]:hover,fieldset[disabled] .btn-danger,fieldset[disabled] .btn-danger.active,fieldset[disabled] .btn-danger.focus,fieldset[disabled] .btn-danger:active,fieldset[disabled] .btn-danger:focus,fieldset[disabled] .btn-danger:hover{background-color:#c12e2a;background-image:none}.img-thumbnail,.thumbnail{-webkit-box-shadow:0 1px 2px rgba(0,0,0,.075);box-shadow:0 1px 2px rgba(0,0,0,.075)}.dropdown-menu&gt;li&gt;a:focus,.dropdown-menu&gt;li&gt;a:hover{background-color:#e8e8e8;background-image:-webkit-linear-gradient(top,#f5f5f5 0,#e8e8e8 100%);background-image:-o-linear-gradient(top,#f5f5f5 0,#e8e8e8 100%);background-image:-webkit-gradient(linear,left top,left bottom,from(#f5f5f5),to(#e8e8e8));background-image:linear-gradient(to bottom,#f5f5f5 0,#e8e8e8 100%);filter:progid:DXImageTransform.Microsoft.gradient(startColorstr=&#x27;#fff5f5f5&#x27;, endColorstr=&#x27;#ffe8e8e8&#x27;, GradientType=0);background-repeat:repeat-x}.dropdown-menu&gt;.active&gt;a,.dropdown-menu&gt;.active&gt;a:focus,.dropdown-menu&gt;.active&gt;a:hover{background-color:#2e6da4;background-image:-webkit-linear-gradient(top,#337ab7 0,#2e6da4 100%);background-image:-o-linear-gradient(top,#337ab7 0,#2e6da4 100%);background-image:-webkit-gradient(linear,left top,left bottom,from(#337ab7),to(#2e6da4));background-image:linear-gradient(to bottom,#337ab7 0,#2e6da4 100%);filter:progid:DXImageTransform.Microsoft.gradient(startColorstr=&#x27;#ff337ab7&#x27;, endColorstr=&#x27;#ff2e6da4&#x27;, GradientType=0);background-repeat:repeat-x}.navbar-default{background-image:-webkit-linear-gradient(top,#fff 0,#f8f8f8 100%);background-image:-o-linear-gradient(top,#fff 0,#f8f8f8 100%);background-image:-webkit-gradient(linear,left top,left bottom,from(#fff),to(#f8f8f8));background-image:linear-gradient(to bottom,#fff 0,#f8f8f8 100%);filter:progid:DXImageTransform.Microsoft.gradient(startColorstr=&#x27;#ffffffff&#x27;, endColorstr=&#x27;#fff8f8f8&#x27;, GradientType=0);filter:progid:DXImageTransform.Microsoft.gradient(enabled=false);background-repeat:repeat-x;border-radius:4px;-webkit-box-shadow:inset 0 1px 0 rgba(255,255,255,.15),0 1px 5px rgba(0,0,0,.075);box-shadow:inset 0 1px 0 rgba(255,255,255,.15),0 1px 5px rgba(0,0,0,.075)}.navbar-default .navbar-nav&gt;.active&gt;a,.navbar-default .navbar-nav&gt;.open&gt;a{background-image:-webkit-linear-gradient(top,#dbdbdb 0,#e2e2e2 100%);background-image:-o-linear-gradient(top,#dbdbdb 0,#e2e2e2 100%);background-image:-webkit-gradient(linear,left top,left bottom,from(#dbdbdb),to(#e2e2e2));background-image:linear-gradient(to bottom,#dbdbdb 0,#e2e2e2 100%);filter:progid:DXImageTransform.Microsoft.gradient(startColorstr=&#x27;#ffdbdbdb&#x27;, endColorstr=&#x27;#ffe2e2e2&#x27;, GradientType=0);background-repeat:repeat-x;-webkit-box-shadow:inset 0 3px 9px rgba(0,0,0,.075);box-shadow:inset 0 3px 9px rgba(0,0,0,.075)}.navbar-brand,.navbar-nav&gt;li&gt;a{text-shadow:0 1px 0 rgba(255,255,255,.25)}.navbar-inverse{background-image:-webkit-linear-gradient(top,#3c3c3c 0,#222 100%);background-image:-o-linear-gradient(top,#3c3c3c 0,#222 100%);background-image:-webkit-gradient(linear,left top,left bottom,from(#3c3c3c),to(#222));background-image:linear-gradient(to bottom,#3c3c3c 0,#222 100%);filter:progid:DXImageTransform.Microsoft.gradient(startColorstr=&#x27;#ff3c3c3c&#x27;, endColorstr=&#x27;#ff222222&#x27;, GradientType=0);filter:progid:DXImageTransform.Microsoft.gradient(enabled=false);background-repeat:repeat-x;border-radius:4px}.navbar-inverse .navbar-nav&gt;.active&gt;a,.navbar-inverse .navbar-nav&gt;.open&gt;a{background-image:-webkit-linear-gradient(top,#080808 0,#0f0f0f 100%);background-image:-o-linear-gradient(top,#080808 0,#0f0f0f 100%);background-image:-webkit-gradient(linear,left top,left bottom,from(#080808),to(#0f0f0f));background-image:linear-gradient(to bottom,#080808 0,#0f0f0f 100%);filter:progid:DXImageTransform.Microsoft.gradient(startColorstr=&#x27;#ff080808&#x27;, endColorstr=&#x27;#ff0f0f0f&#x27;, GradientType=0);background-repeat:repeat-x;-webkit-box-shadow:inset 0 3px 9px rgba(0,0,0,.25);box-shadow:inset 0 3px 9px rgba(0,0,0,.25)}.navbar-inverse .navbar-brand,.navbar-inverse .navbar-nav&gt;li&gt;a{text-shadow:0 -1px 0 rgba(0,0,0,.25)}.navbar-fixed-bottom,.navbar-fixed-top,.navbar-static-top{border-radius:0}@media (max-width:767px){.navbar .navbar-nav .open .dropdown-menu&gt;.active&gt;a,.navbar .navbar-nav .open .dropdown-menu&gt;.active&gt;a:focus,.navbar .navbar-nav .open .dropdown-menu&gt;.active&gt;a:hover{color:#fff;background-image:-webkit-linear-gradient(top,#337ab7 0,#2e6da4 100%);background-image:-o-linear-gradient(top,#337ab7 0,#2e6da4 100%);background-image:-webkit-gradient(linear,left top,left bottom,from(#337ab7),to(#2e6da4));background-image:linear-gradient(to bottom,#337ab7 0,#2e6da4 100%);filter:progid:DXImageTransform.Microsoft.gradient(startColorstr=&#x27;#ff337ab7&#x27;, endColorstr=&#x27;#ff2e6da4&#x27;, GradientType=0);background-repeat:repeat-x}}.alert{text-shadow:0 1px 0 rgba(255,255,255,.2);-webkit-box-shadow:inset 0 1px 0 rgba(255,255,255,.25),0 1px 2px rgba(0,0,0,.05);box-shadow:inset 0 1px 0 rgba(255,255,255,.25),0 1px 2px rgba(0,0,0,.05)}.alert-success{background-image:-webkit-linear-gradient(top,#dff0d8 0,#c8e5bc 100%);background-image:-o-linear-gradient(top,#dff0d8 0,#c8e5bc 100%);background-image:-webkit-gradient(linear,left top,left bottom,from(#dff0d8),to(#c8e5bc));background-image:linear-gradient(to bottom,#dff0d8 0,#c8e5bc 100%);filter:progid:DXImageTransform.Microsoft.gradient(startColorstr=&#x27;#ffdff0d8&#x27;, endColorstr=&#x27;#ffc8e5bc&#x27;, GradientType=0);background-repeat:repeat-x;border-color:#b2dba1}.alert-info{background-image:-webkit-linear-gradient(top,#d9edf7 0,#b9def0 100%);background-image:-o-linear-gradient(top,#d9edf7 0,#b9def0 100%);background-image:-webkit-gradient(linear,left top,left bottom,from(#d9edf7),to(#b9def0));background-image:linear-gradient(to bottom,#d9edf7 0,#b9def0 100%);filter:progid:DXImageTransform.Microsoft.gradient(startColorstr=&#x27;#ffd9edf7&#x27;, endColorstr=&#x27;#ffb9def0&#x27;, GradientType=0);background-repeat:repeat-x;border-color:#9acfea}.alert-warning{background-image:-webkit-linear-gradient(top,#fcf8e3 0,#f8efc0 100%);background-image:-o-linear-gradient(top,#fcf8e3 0,#f8efc0 100%);background-image:-webkit-gradient(linear,left top,left bottom,from(#fcf8e3),to(#f8efc0));background-image:linear-gradient(to bottom,#fcf8e3 0,#f8efc0 100%);filter:progid:DXImageTransform.Microsoft.gradient(startColorstr=&#x27;#fffcf8e3&#x27;, endColorstr=&#x27;#fff8efc0&#x27;, GradientType=0);background-repeat:repeat-x;border-color:#f5e79e}.alert-danger{background-image:-webkit-linear-gradient(top,#f2dede 0,#e7c3c3 100%);background-image:-o-linear-gradient(top,#f2dede 0,#e7c3c3 100%);background-image:-webkit-gradient(linear,left top,left bottom,from(#f2dede),to(#e7c3c3));background-image:linear-gradient(to bottom,#f2dede 0,#e7c3c3 100%);filter:progid:DXImageTransform.Microsoft.gradient(startColorstr=&#x27;#fff2dede&#x27;, endColorstr=&#x27;#ffe7c3c3&#x27;, GradientType=0);background-repeat:repeat-x;border-color:#dca7a7}.progress{background-image:-webkit-linear-gradient(top,#ebebeb 0,#f5f5f5 100%);background-image:-o-linear-gradient(top,#ebebeb 0,#f5f5f5 100%);background-image:-webkit-gradient(linear,left top,left bottom,from(#ebebeb),to(#f5f5f5));background-image:linear-gradient(to bottom,#ebebeb 0,#f5f5f5 100%);filter:progid:DXImageTransform.Microsoft.gradient(startColorstr=&#x27;#ffebebeb&#x27;, endColorstr=&#x27;#fff5f5f5&#x27;, GradientType=0);background-repeat:repeat-x}.progress-bar{background-image:-webkit-linear-gradient(top,#337ab7 0,#286090 100%);background-image:-o-linear-gradient(top,#337ab7 0,#286090 100%);background-image:-webkit-gradient(linear,left top,left bottom,from(#337ab7),to(#286090));background-image:linear-gradient(to bottom,#337ab7 0,#286090 100%);filter:progid:DXImageTransform.Microsoft.gradient(startColorstr=&#x27;#ff337ab7&#x27;, endColorstr=&#x27;#ff286090&#x27;, GradientType=0);background-repeat:repeat-x}.progress-bar-success{background-image:-webkit-linear-gradient(top,#5cb85c 0,#449d44 100%);background-image:-o-linear-gradient(top,#5cb85c 0,#449d44 100%);background-image:-webkit-gradient(linear,left top,left bottom,from(#5cb85c),to(#449d44));background-image:linear-gradient(to bottom,#5cb85c 0,#449d44 100%);filter:progid:DXImageTransform.Microsoft.gradient(startColorstr=&#x27;#ff5cb85c&#x27;, endColorstr=&#x27;#ff449d44&#x27;, GradientType=0);background-repeat:repeat-x}.progress-bar-info{background-image:-webkit-linear-gradient(top,#5bc0de 0,#31b0d5 100%);background-image:-o-linear-gradient(top,#5bc0de 0,#31b0d5 100%);background-image:-webkit-gradient(linear,left top,left bottom,from(#5bc0de),to(#31b0d5));background-image:linear-gradient(to bottom,#5bc0de 0,#31b0d5 100%);filter:progid:DXImageTransform.Microsoft.gradient(startColorstr=&#x27;#ff5bc0de&#x27;, endColorstr=&#x27;#ff31b0d5&#x27;, GradientType=0);background-repeat:repeat-x}.progress-bar-warning{background-image:-webkit-linear-gradient(top,#f0ad4e 0,#ec971f 100%);background-image:-o-linear-gradient(top,#f0ad4e 0,#ec971f 100%);background-image:-webkit-gradient(linear,left top,left bottom,from(#f0ad4e),to(#ec971f));background-image:linear-gradient(to bottom,#f0ad4e 0,#ec971f 100%);filter:progid:DXImageTransform.Microsoft.gradient(startColorstr=&#x27;#fff0ad4e&#x27;, endColorstr=&#x27;#ffec971f&#x27;, GradientType=0);background-repeat:repeat-x}.progress-bar-danger{background-image:-webkit-linear-gradient(top,#d9534f 0,#c9302c 100%);background-image:-o-linear-gradient(top,#d9534f 0,#c9302c 100%);background-image:-webkit-gradient(linear,left top,left bottom,from(#d9534f),to(#c9302c));background-image:linear-gradient(to bottom,#d9534f 0,#c9302c 100%);filter:progid:DXImageTransform.Microsoft.gradient(startColorstr=&#x27;#ffd9534f&#x27;, endColorstr=&#x27;#ffc9302c&#x27;, GradientType=0);background-repeat:repeat-x}.progress-bar-striped{background-image:-webkit-linear-gradient(45deg,rgba(255,255,255,.15) 25%,transparent 25%,transparent 50%,rgba(255,255,255,.15) 50%,rgba(255,255,255,.15) 75%,transparent 75%,transparent);background-image:-o-linear-gradient(45deg,rgba(255,255,255,.15) 25%,transparent 25%,transparent 50%,rgba(255,255,255,.15) 50%,rgba(255,255,255,.15) 75%,transparent 75%,transparent);background-image:linear-gradient(45deg,rgba(255,255,255,.15) 25%,transparent 25%,transparent 50%,rgba(255,255,255,.15) 50%,rgba(255,255,255,.15) 75%,transparent 75%,transparent)}.list-group{border-radius:4px;-webkit-box-shadow:0 1px 2px rgba(0,0,0,.075);box-shadow:0 1px 2px rgba(0,0,0,.075)}.list-group-item.active,.list-group-item.active:focus,.list-group-item.active:hover{text-shadow:0 -1px 0 #286090;background-image:-webkit-linear-gradient(top,#337ab7 0,#2b669a 100%);background-image:-o-linear-gradient(top,#337ab7 0,#2b669a 100%);background-image:-webkit-gradient(linear,left top,left bottom,from(#337ab7),to(#2b669a));background-image:linear-gradient(to bottom,#337ab7 0,#2b669a 100%);filter:progid:DXImageTransform.Microsoft.gradient(startColorstr=&#x27;#ff337ab7&#x27;, endColorstr=&#x27;#ff2b669a&#x27;, GradientType=0);background-repeat:repeat-x;border-color:#2b669a}.list-group-item.active .badge,.list-group-item.active:focus .badge,.list-group-item.active:hover .badge{text-shadow:none}.panel{-webkit-box-shadow:0 1px 2px rgba(0,0,0,.05);box-shadow:0 1px 2px rgba(0,0,0,.05)}.panel-default&gt;.panel-heading{background-image:-webkit-linear-gradient(top,#f5f5f5 0,#e8e8e8 100%);background-image:-o-linear-gradient(top,#f5f5f5 0,#e8e8e8 100%);background-image:-webkit-gradient(linear,left top,left bottom,from(#f5f5f5),to(#e8e8e8));background-image:linear-gradient(to bottom,#f5f5f5 0,#e8e8e8 100%);filter:progid:DXImageTransform.Microsoft.gradient(startColorstr=&#x27;#fff5f5f5&#x27;, endColorstr=&#x27;#ffe8e8e8&#x27;, GradientType=0);background-repeat:repeat-x}.panel-primary&gt;.panel-heading{background-image:-webkit-linear-gradient(top,#337ab7 0,#2e6da4 100%);background-image:-o-linear-gradient(top,#337ab7 0,#2e6da4 100%);background-image:-webkit-gradient(linear,left top,left bottom,from(#337ab7),to(#2e6da4));background-image:linear-gradient(to bottom,#337ab7 0,#2e6da4 100%);filter:progid:DXImageTransform.Microsoft.gradient(startColorstr=&#x27;#ff337ab7&#x27;, endColorstr=&#x27;#ff2e6da4&#x27;, GradientType=0);background-repeat:repeat-x}.panel-success&gt;.panel-heading{background-image:-webkit-linear-gradient(top,#dff0d8 0,#d0e9c6 100%);background-image:-o-linear-gradient(top,#dff0d8 0,#d0e9c6 100%);background-image:-webkit-gradient(linear,left top,left bottom,from(#dff0d8),to(#d0e9c6));background-image:linear-gradient(to bottom,#dff0d8 0,#d0e9c6 100%);filter:progid:DXImageTransform.Microsoft.gradient(startColorstr=&#x27;#ffdff0d8&#x27;, endColorstr=&#x27;#ffd0e9c6&#x27;, GradientType=0);background-repeat:repeat-x}.panel-info&gt;.panel-heading{background-image:-webkit-linear-gradient(top,#d9edf7 0,#c4e3f3 100%);background-image:-o-linear-gradient(top,#d9edf7 0,#c4e3f3 100%);background-image:-webkit-gradient(linear,left top,left bottom,from(#d9edf7),to(#c4e3f3));background-image:linear-gradient(to bottom,#d9edf7 0,#c4e3f3 100%);filter:progid:DXImageTransform.Microsoft.gradient(startColorstr=&#x27;#ffd9edf7&#x27;, endColorstr=&#x27;#ffc4e3f3&#x27;, GradientType=0);background-repeat:repeat-x}.panel-warning&gt;.panel-heading{background-image:-webkit-linear-gradient(top,#fcf8e3 0,#faf2cc 100%);background-image:-o-linear-gradient(top,#fcf8e3 0,#faf2cc 100%);background-image:-webkit-gradient(linear,left top,left bottom,from(#fcf8e3),to(#faf2cc));background-image:linear-gradient(to bottom,#fcf8e3 0,#faf2cc 100%);filter:progid:DXImageTransform.Microsoft.gradient(startColorstr=&#x27;#fffcf8e3&#x27;, endColorstr=&#x27;#fffaf2cc&#x27;, GradientType=0);background-repeat:repeat-x}.panel-danger&gt;.panel-heading{background-image:-webkit-linear-gradient(top,#f2dede 0,#ebcccc 100%);background-image:-o-linear-gradient(top,#f2dede 0,#ebcccc 100%);background-image:-webkit-gradient(linear,left top,left bottom,from(#f2dede),to(#ebcccc));background-image:linear-gradient(to bottom,#f2dede 0,#ebcccc 100%);filter:progid:DXImageTransform.Microsoft.gradient(startColorstr=&#x27;#fff2dede&#x27;, endColorstr=&#x27;#ffebcccc&#x27;, GradientType=0);background-repeat:repeat-x}.well{background-image:-webkit-linear-gradient(top,#e8e8e8 0,#f5f5f5 100%);background-image:-o-linear-gradient(top,#e8e8e8 0,#f5f5f5 100%);background-image:-webkit-gradient(linear,left top,left bottom,from(#e8e8e8),to(#f5f5f5));background-image:linear-gradient(to bottom,#e8e8e8 0,#f5f5f5 100%);filter:progid:DXImageTransform.Microsoft.gradient(startColorstr=&#x27;#ffe8e8e8&#x27;, endColorstr=&#x27;#fff5f5f5&#x27;, GradientType=0);background-repeat:repeat-x;border-color:#dcdcdc;-webkit-box-shadow:inset 0 1px 3px rgba(0,0,0,.05),0 1px 0 rgba(255,255,255,.1);box-shadow:inset 0 1px 3px rgba(0,0,0,.05),0 1px 0 rgba(255,255,255,.1)}\n",
       "/*# sourceMappingURL=bootstrap-theme.min.css.map */        &lt;/style&gt;&lt;style&gt;body {\n",
       "  padding-top: 80px;\n",
       "}\n",
       ".content .container-fluid{\n",
       "    margin-left: 20px !important;\n",
       "    margin-right: 20px !important;\n",
       "    margin-bottom: 20px;\n",
       "}\n",
       "\n",
       ".page-header{\n",
       "    border:0 !important;\n",
       "}\n",
       "\n",
       ".row.variable, .section-items &gt; .row {\n",
       "    border: 1px solid #e1e1e8;\n",
       "    border-top: hidden;\n",
       "}\n",
       "\n",
       ".row.spacing{\n",
       "    padding: 2em 1em;\n",
       "}\n",
       "\n",
       ".row.header {\n",
       "    border-bottom: 1px solid #e1e1e8;\n",
       "    /*background-color: #f5f5f5;*/\n",
       "    padding-left: 2em;\n",
       "}\n",
       "\n",
       "\n",
       ".dl-horizontal dt {\n",
       "    text-align: left;\n",
       "    padding-right: 1em;\n",
       "    white-space: normal;\n",
       "}\n",
       "\n",
       ".dl-horizontal dd {\n",
       "    margin-left: 0;\n",
       "}\n",
       "\n",
       ".col-md-12 {\n",
       "    padding-left: 2em;\n",
       "}\n",
       "\n",
       ".indent {\n",
       "    margin-left: 1em;\n",
       "}\n",
       "\n",
       ".center-img {\n",
       "    margin-left: auto !important;\n",
       "    margin-right: auto !important;\n",
       "    display: block;\n",
       "}\n",
       "\n",
       "/* Table example_values */\n",
       "table.example_values {\n",
       "    border: 0;\n",
       "}\n",
       "\n",
       ".example_values th {\n",
       "    border: 0;\n",
       "    padding: 0;\n",
       "    color: #555;\n",
       "    font-weight: 600;\n",
       "}\n",
       "\n",
       ".example_values tr, .example_values td {\n",
       "    border: 0;\n",
       "    padding: 0;\n",
       "    color: #555;\n",
       "}\n",
       "\n",
       "/* STATS */\n",
       "table.stats, table.sample, table.duplicate{\n",
       "    border: 0;\n",
       "}\n",
       "\n",
       ".stats tr, .sample tr, .duplicate tr {\n",
       "    border: 0;\n",
       "}\n",
       "\n",
       ".stats th, .stats td{\n",
       "    color: #555;\n",
       "    border: 0;\n",
       "}\n",
       "\n",
       ".stats th {\n",
       "    padding: 0 2em 0 0;\n",
       "    font-weight: 600;\n",
       "}\n",
       "\n",
       ".stats td {\n",
       "    padding: 1px;\n",
       "}\n",
       "\n",
       "\n",
       "/* Sample table */\n",
       "table.sample, table.duplicate{\n",
       "    margin-bottom: 2em;\n",
       "    margin-left: 1em;\n",
       "}\n",
       "\n",
       ".sample td, .sample th, .duplicate td, .duplicate th {\n",
       "    padding: 0.5em;\n",
       "    white-space: nowrap;\n",
       "    border: 0;\n",
       "\n",
       "}\n",
       "\n",
       ".sample thead, .duplicate thead {\n",
       "    border-top: 0;\n",
       "    border-bottom: 2px solid #ddd;\n",
       "}\n",
       "\n",
       ".sample td, .duplicate td {\n",
       "    width: 100%;\n",
       "}\n",
       "\n",
       "\n",
       "/* There is no good solution available to make the divs equal height and then center ... */\n",
       ".histogram {\n",
       "    margin-top: 3em;\n",
       "}\n",
       "\n",
       "/* Freq table */\n",
       "table.freq {\n",
       "    margin-bottom: 2em;\n",
       "    border: 0;\n",
       "}\n",
       "\n",
       "table.freq th, table.freq tr, table.freq td {\n",
       "    border: 0;\n",
       "    padding: 0;\n",
       "}\n",
       "\n",
       ".freq thead {\n",
       "    font-weight: 600;\n",
       "    white-space: nowrap;\n",
       "    overflow: hidden;\n",
       "    text-overflow: ellipsis;\n",
       "\n",
       "}\n",
       "\n",
       "/* Freq mini */\n",
       ".freq.mini td {\n",
       "    width: 50%;\n",
       "    padding: 1px;\n",
       "    font-size: 12px;\n",
       "\n",
       "}\n",
       "\n",
       "table.freq.mini {\n",
       "    width: 100%;\n",
       "}\n",
       "\n",
       ".freq.mini th {\n",
       "    overflow: hidden;\n",
       "    text-overflow: ellipsis;\n",
       "    white-space: nowrap;\n",
       "    max-width: 5em;\n",
       "    font-weight: 400;\n",
       "    text-align: right;\n",
       "    padding-right: 0.5em;\n",
       "}\n",
       "\n",
       "/* Message classes */\n",
       ".missing {\n",
       "    color: #a94442;\n",
       "}\n",
       "\n",
       ".alert, .alert &gt; th, .alert &gt; td {\n",
       "    color: #a94442;\n",
       "}\n",
       "\n",
       ".ignore {\n",
       "    opacity: 0.4;\n",
       "}\n",
       "\n",
       "/* Bars in tables */\n",
       ".freq.table{\n",
       "    table-layout: fixed;\n",
       "}\n",
       "\n",
       ".freq:not(.mini) tr td:nth-child(1), .freq:not(.mini) tr th:nth-child(1){\n",
       "    width: auto;\n",
       "    max-width: none;\n",
       "\n",
       "    white-space: nowrap;\n",
       "    overflow: hidden;\n",
       "    text-overflow: ellipsis;\n",
       "}\n",
       "\n",
       ".freq:not(.mini) tr td:nth-child(2), .freq:not(.mini) tr td:nth-child(3), .freq:not(.mini) tr th:nth-child(2), .freq:not(.mini) tr th:nth-child(3){\n",
       "    width: 100px;\n",
       "    text-align: right;\n",
       "}\n",
       ".freq:not(.mini) tr td:nth-child(4), .freq:not(.mini) tr th:nth-child(4){\n",
       "    width:200px;\n",
       "}\n",
       "\n",
       ".freq .bar {\n",
       "    float: left;\n",
       "    width: 0;\n",
       "    height: 100%;\n",
       "    line-height: 20px;\n",
       "    color: #fff;\n",
       "    text-align: center;\n",
       "    background-color: #337ab7;\n",
       "    border-radius: 3px;\n",
       "    margin-right: 4px;\n",
       "}\n",
       "\n",
       ".other .bar {\n",
       "    background-color: #999;\n",
       "}\n",
       "\n",
       ".missing .bar {\n",
       "    background-color: #a94442;\n",
       "}\n",
       "\n",
       ".tooltip-inner {\n",
       "    width: 100%;\n",
       "    white-space: nowrap;\n",
       "    text-align: left;\n",
       "}\n",
       "\n",
       ".extrapadding {\n",
       "    padding: 2em;\n",
       "}\n",
       "\n",
       ".variable .h4 {\n",
       "    text-overflow: ellipsis;\n",
       "    display:inline-block;\n",
       "    width: calc(90%); /* The trick is here! */\n",
       "    overflow:hidden;\n",
       "}\n",
       "\n",
       ".variable.ignore .h4{\n",
       "    text-decoration: line-through;\n",
       "}\n",
       "\n",
       ".table-responsive{\n",
       "    overflow: scroll;\n",
       "    width: 100%;\n",
       "    overflow-y: hidden;\n",
       "}\n",
       ".img-responsive{\n",
       "    max-width: 99%;\n",
       "}\n",
       ".footer-text{\n",
       "    padding:20px;\n",
       "}\n",
       "\n",
       "table.list-warnings td{\n",
       "    padding-right:10px;\n",
       "}\n",
       "\n",
       "a.anchor-pos {\n",
       "    display: block;\n",
       "    position: relative;\n",
       "    top: -70px;\n",
       "    visibility: hidden;\n",
       "}\n",
       "\n",
       "a.anchor-pos-variable{\n",
       "    /*top: -70px;*/\n",
       "}\n",
       "\n",
       "#sample-container, #duplicate-container{\n",
       "    overflow: auto;\n",
       "    width: 100%;\n",
       "    overflow-y: hidden;\n",
       "}\n",
       "\n",
       "#overview-content td, #overview-content th{\n",
       "    border-top: 0;\n",
       "    line-height: 1;\n",
       "}\n",
       "\n",
       ".variable-description{\n",
       "    color: #777;\n",
       "    font-size: 10pt;\n",
       "    margin-top: 10px;\n",
       "    font-style: italic;\n",
       "}\n",
       "\n",
       "select.multiple{\n",
       "    width: 180px;\n",
       "    height: 500px;\n",
       "    margin: 10px 0;\n",
       "}\n",
       "\n",
       ".named-list-item{\n",
       "    padding: 1em;\n",
       "}\n",
       "\n",
       "/* not printing tabs */\n",
       "@media print {\n",
       "    .tab-content &gt; .tab-pane, .collapse {\n",
       "        display: block !important;\n",
       "        opacity: 1 !important;\n",
       "        visibility: visible !important;\n",
       "        /*page-break-after: always;*/\n",
       "        page-break-after: right;\n",
       "        page-break-before: avoid;\n",
       "    }\n",
       "\n",
       "    .nav-pills, .nav-tabs, button[data-toggle=&quot;collapse&quot;], .mini, .col-sm-3 img {\n",
       "        display:none !important;\n",
       "    }\n",
       "\n",
       "    a[download=&quot;config.yml&quot;]:after {\n",
       "        content: none !important;\n",
       "    }\n",
       "\n",
       "    .row {\n",
       "        border: 0 !important;\n",
       "    }\n",
       "}\n",
       "\n",
       ".text-placeholder {\n",
       "    display: inline-block;\n",
       "    background-color: #444;\n",
       "    height: 12px;\n",
       "    border-radius: 100px;\n",
       "    margin: 5px 0;\n",
       "    min-width: 200px;\n",
       "    opacity: .1;\n",
       "}&lt;/style&gt;&lt;/head&gt;&lt;body&gt;&lt;a class=anchor-pos id=top&gt;&lt;/a&gt;&lt;nav class=&quot;navbar navbar-default navbar-fixed-top&quot;&gt;&lt;div class=container-fluid&gt;&lt;div class=navbar-header&gt;&lt;button type=button class=&quot;navbar-toggle collapsed&quot; data-toggle=collapse data-target=#navbar aria-expanded=false aria-controls=navbar&gt;&lt;span class=sr-only&gt;Toggle navigation&lt;/span&gt;&lt;span class=icon-bar&gt;&lt;/span&gt;&lt;span class=icon-bar&gt;&lt;/span&gt;&lt;span class=icon-bar&gt;&lt;/span&gt;&lt;/button&gt;&lt;a class=&quot;navbar-brand anchor&quot; href=#top&gt;Pandas Profiling Report&lt;/a&gt;&lt;/div&gt;&lt;div id=navbar class=&quot;navbar-collapse collapse&quot;&gt;&lt;ul class=&quot;nav navbar-nav navbar-right&quot;&gt;&lt;li&gt;&lt;a class=anchor href=#overview&gt;Overview&lt;/a&gt;&lt;/li&gt;&lt;li&gt;&lt;a class=anchor href=#variables&gt;Variables&lt;/a&gt;&lt;/li&gt;&lt;/ul&gt;&lt;/div&gt;&lt;/div&gt;&lt;/nav&gt;&lt;div class=content&gt;&lt;div class=container&gt;&lt;div class=&quot;row header&quot;&gt;&lt;a class=anchor-pos id=overview&gt;&lt;/a&gt;&lt;h1 class=page-header&gt;Overview&lt;/h1&gt;&lt;/div&gt;&lt;div class=section-items&gt;&lt;div class=&quot;row spacing&quot;&gt;&lt;ul class=&quot;nav nav-pills&quot; role=tablist&gt;&lt;li role=presentation class=active&gt;&lt;a href=#overview-dataset_overview aria-controls=overview-dataset_overview role=tab data-toggle=tab&gt;Overview&lt;/a&gt;&lt;/li&gt;&lt;li role=presentation&gt;&lt;a href=#overview-warnings aria-controls=overview-warnings role=tab data-toggle=tab&gt;Warnings &lt;span class=badge&gt;4&lt;/span&gt;&lt;/a&gt;&lt;/li&gt;&lt;li role=presentation&gt;&lt;a href=#overview-reproduction aria-controls=overview-reproduction role=tab data-toggle=tab&gt;Reproduction&lt;/a&gt;&lt;/li&gt;&lt;/ul&gt;&lt;div class=tab-content style=&quot;padding-top: 10px;&quot;&gt;&lt;div role=tabpanel class=&quot;tab-pane col-sm-12 active&quot; id=overview-dataset_overview&gt;&lt;div class=col-sm-6&gt;&lt;p class=h4&gt;Dataset statistics&lt;/p&gt;&lt;table class=&quot;table table-condensed stats&quot;&gt;&lt;tbody&gt;&lt;tr&gt;&lt;th&gt;Number of variables&lt;/th&gt;&lt;td&gt;3&lt;/td&gt;&lt;/tr&gt;&lt;tr&gt;&lt;th&gt;Number of observations&lt;/th&gt;&lt;td&gt;4087&lt;/td&gt;&lt;/tr&gt;&lt;tr&gt;&lt;th&gt;Missing cells&lt;/th&gt;&lt;td&gt;0&lt;/td&gt;&lt;/tr&gt;&lt;tr&gt;&lt;th&gt;Missing cells (%)&lt;/th&gt;&lt;td&gt;0.0%&lt;/td&gt;&lt;/tr&gt;&lt;tr&gt;&lt;th&gt;Total size in memory&lt;/th&gt;&lt;td&gt;95.9 KiB&lt;/td&gt;&lt;/tr&gt;&lt;tr&gt;&lt;th&gt;Average record size in memory&lt;/th&gt;&lt;td&gt;24.0 B&lt;/td&gt;&lt;/tr&gt;&lt;/tbody&gt;&lt;/table&gt;&lt;/div&gt;&lt;div class=col-sm-6&gt;&lt;p class=h4&gt;Variable types&lt;/p&gt;&lt;table class=&quot;table table-condensed stats&quot;&gt;&lt;tbody&gt;&lt;tr&gt;&lt;th&gt;Numeric&lt;/th&gt;&lt;td&gt;2&lt;/td&gt;&lt;/tr&gt;&lt;tr&gt;&lt;th&gt;Categorical&lt;/th&gt;&lt;td&gt;1&lt;/td&gt;&lt;/tr&gt;&lt;/tbody&gt;&lt;/table&gt;&lt;/div&gt;&lt;/div&gt;&lt;div role=tabpanel class=&quot;tab-pane col-sm-12&quot; id=overview-warnings&gt;&lt;table class=&quot;table table-condensed list-warnings&quot;&gt;&lt;p class=h4&gt;Warnings&lt;/p&gt;&lt;tr style=border-top:0&gt;&lt;td&gt;&lt;a class=anchor href=#pp_var_-2872326538128961258&gt;&lt;code&gt;description&lt;/code&gt;&lt;/a&gt; has a high cardinality: 4087 distinct values &lt;/td&gt;&lt;td&gt;&lt;span class=&quot;label label-primary&quot;&gt;High cardinality&lt;/span&gt;&lt;/td&gt;&lt;/tr&gt;&lt;tr&gt;&lt;td&gt;&lt;a class=anchor href=#pp_var_-541142781282690446&gt;&lt;code&gt;id&lt;/code&gt;&lt;/a&gt; has unique values &lt;/td&gt;&lt;td&gt;&lt;span class=&quot;label label-primary&quot;&gt;Unique&lt;/span&gt;&lt;/td&gt;&lt;/tr&gt;&lt;tr&gt;&lt;td&gt;&lt;a class=anchor href=#pp_var_-2872326538128961258&gt;&lt;code&gt;description&lt;/code&gt;&lt;/a&gt; has unique values &lt;/td&gt;&lt;td&gt;&lt;span class=&quot;label label-primary&quot;&gt;Unique&lt;/span&gt;&lt;/td&gt;&lt;/tr&gt;&lt;tr&gt;&lt;td&gt;&lt;a class=anchor href=#pp_var_-5188386888090162189&gt;&lt;code&gt;ratingCategory&lt;/code&gt;&lt;/a&gt; has 1141 (27.9%) zeros &lt;/td&gt;&lt;td&gt;&lt;span class=&quot;label label-info&quot;&gt;Zeros&lt;/span&gt;&lt;/td&gt;&lt;/tr&gt;&lt;/table&gt;&lt;/div&gt;&lt;div role=tabpanel class=&quot;tab-pane col-sm-12&quot; id=overview-reproduction&gt;&lt;div class=col-sm-12&gt;&lt;p class=h4&gt;Reproduction&lt;/p&gt;&lt;table class=&quot;table table-condensed stats&quot;&gt;&lt;tbody&gt;&lt;tr&gt;&lt;th&gt;Analysis started&lt;/th&gt;&lt;td&gt;2021-06-06 21:12:25.075594&lt;/td&gt;&lt;/tr&gt;&lt;tr&gt;&lt;th&gt;Analysis finished&lt;/th&gt;&lt;td&gt;2021-06-06 21:12:25.220277&lt;/td&gt;&lt;/tr&gt;&lt;tr&gt;&lt;th&gt;Duration&lt;/th&gt;&lt;td&gt;0.14 seconds&lt;/td&gt;&lt;/tr&gt;&lt;tr&gt;&lt;th&gt;Software version&lt;/th&gt;&lt;td&gt;&lt;a href=https://github.com/pandas-profiling/pandas-profiling&gt;pandas-profiling v3.0.0&lt;/a&gt;&lt;/td&gt;&lt;/tr&gt;&lt;tr&gt;&lt;th&gt;Download configuration&lt;/th&gt;&lt;td&gt;&lt;a download=config.json href=&quot;data:text/plain;charset=utf-8,%7B%22title%22%3A%20%22Pandas%20Profiling%20Report%22%2C%20%22dataset%22%3A%20%7B%22description%22%3A%20%22%22%2C%20%22creator%22%3A%20%22%22%2C%20%22author%22%3A%20%22%22%2C%20%22copyright_holder%22%3A%20%22%22%2C%20%22copyright_year%22%3A%20%22%22%2C%20%22url%22%3A%20%22%22%7D%2C%20%22variables%22%3A%20%7B%22descriptions%22%3A%20%7B%7D%7D%2C%20%22infer_dtypes%22%3A%20false%2C%20%22show_variable_description%22%3A%20true%2C%20%22pool_size%22%3A%200%2C%20%22progress_bar%22%3A%20true%2C%20%22vars%22%3A%20%7B%22num%22%3A%20%7B%22quantiles%22%3A%20%5B0.05%2C%200.25%2C%200.5%2C%200.75%2C%200.95%5D%2C%20%22skewness_threshold%22%3A%2020%2C%20%22low_categorical_threshold%22%3A%205%2C%20%22chi_squared_threshold%22%3A%200.0%7D%2C%20%22cat%22%3A%20%7B%22length%22%3A%20false%2C%20%22characters%22%3A%20false%2C%20%22words%22%3A%20false%2C%20%22cardinality_threshold%22%3A%2050%2C%20%22n_obs%22%3A%205%2C%20%22chi_squared_threshold%22%3A%200.0%2C%20%22coerce_str_to_date%22%3A%20false%2C%20%22redact%22%3A%20false%2C%20%22histogram_largest%22%3A%2010%7D%2C%20%22image%22%3A%20%7B%22active%22%3A%20false%2C%20%22exif%22%3A%20false%2C%20%22hash%22%3A%20false%7D%2C%20%22bool%22%3A%20%7B%22n_obs%22%3A%203%2C%20%22mappings%22%3A%20%7B%22t%22%3A%20true%2C%20%22f%22%3A%20false%2C%20%22True%22%3A%20true%2C%20%22False%22%3A%20false%2C%20%22y%22%3A%20true%2C%20%22n%22%3A%20false%7D%7D%2C%20%22path%22%3A%20%7B%22active%22%3A%20false%7D%2C%20%22file%22%3A%20%7B%22active%22%3A%20false%7D%2C%20%22url%22%3A%20%7B%22active%22%3A%20false%7D%7D%2C%20%22sort%22%3A%20null%2C%20%22missing_diagrams%22%3A%20%7B%22bar%22%3A%20false%2C%20%22matrix%22%3A%20false%2C%20%22heatmap%22%3A%20false%2C%20%22dendrogram%22%3A%20false%7D%2C%20%22correlations%22%3A%20%7B%22pearson%22%3A%20%7B%22key%22%3A%20%22%22%2C%20%22calculate%22%3A%20false%2C%20%22warn_high_correlations%22%3A%201%2C%20%22threshold%22%3A%200.9%7D%2C%20%22spearman%22%3A%20%7B%22key%22%3A%20%22%22%2C%20%22calculate%22%3A%20false%2C%20%22warn_high_correlations%22%3A%200%2C%20%22threshold%22%3A%200.9%7D%2C%20%22kendall%22%3A%20%7B%22key%22%3A%20%22%22%2C%20%22calculate%22%3A%20false%2C%20%22warn_high_correlations%22%3A%200%2C%20%22threshold%22%3A%200.9%7D%2C%20%22phi_k%22%3A%20%7B%22key%22%3A%20%22%22%2C%20%22calculate%22%3A%20false%2C%20%22warn_high_correlations%22%3A%200%2C%20%22threshold%22%3A%200.9%7D%2C%20%22cramers%22%3A%20%7B%22key%22%3A%20%22%22%2C%20%22calculate%22%3A%20false%2C%20%22warn_high_correlations%22%3A%201%2C%20%22threshold%22%3A%200.9%7D%7D%2C%20%22interactions%22%3A%20%7B%22continuous%22%3A%20false%2C%20%22targets%22%3A%20%5B%5D%7D%2C%20%22categorical_maximum_correlation_distinct%22%3A%20100%2C%20%22memory_deep%22%3A%20false%2C%20%22plot%22%3A%20%7B%22missing%22%3A%20%7B%22force_labels%22%3A%20true%2C%20%22cmap%22%3A%20%22RdBu%22%7D%2C%20%22image_format%22%3A%20%22svg%22%2C%20%22correlation%22%3A%20%7B%22cmap%22%3A%20%22RdBu%22%2C%20%22bad%22%3A%20%22%23000000%22%7D%2C%20%22dpi%22%3A%20800%2C%20%22histogram%22%3A%20%7B%22bins%22%3A%2050%2C%20%22max_bins%22%3A%20250%2C%20%22x_axis_labels%22%3A%20true%7D%2C%20%22scatter_threshold%22%3A%201000%2C%20%22pie%22%3A%20%7B%22max_unique%22%3A%200%7D%7D%2C%20%22duplicates%22%3A%20%7B%22head%22%3A%200%2C%20%22key%22%3A%20%22%23%20duplicates%22%7D%2C%20%22samples%22%3A%20%7B%22head%22%3A%200%2C%20%22tail%22%3A%200%2C%20%22random%22%3A%200%7D%2C%20%22reject_variables%22%3A%20true%2C%20%22n_obs_unique%22%3A%205%2C%20%22n_freq_table_max%22%3A%2010%2C%20%22n_extreme_obs%22%3A%205%2C%20%22report%22%3A%20%7B%22precision%22%3A%2010%7D%2C%20%22html%22%3A%20%7B%22style%22%3A%20%7B%22primary_color%22%3A%20%22%23337ab7%22%2C%20%22logo%22%3A%20%22%22%2C%20%22theme%22%3A%20null%7D%2C%20%22navbar_show%22%3A%20true%2C%20%22minify_html%22%3A%20true%2C%20%22use_local_assets%22%3A%20true%2C%20%22inline%22%3A%20true%2C%20%22assets_prefix%22%3A%20null%2C%20%22assets_path%22%3A%20null%2C%20%22full_width%22%3A%20false%7D%2C%20%22notebook%22%3A%20%7B%22iframe%22%3A%20%7B%22height%22%3A%20%22800px%22%2C%20%22width%22%3A%20%22100%25%22%2C%20%22attribute%22%3A%20%22srcdoc%22%7D%7D%7D&quot;&gt;config.json&lt;/a&gt;&lt;/td&gt;&lt;/tr&gt;&lt;/tbody&gt;&lt;/table&gt;&lt;/div&gt;&lt;/div&gt;&lt;/div&gt;&lt;/div&gt;&lt;/div&gt;&lt;div class=&quot;row header&quot;&gt;&lt;a class=anchor-pos id=variables&gt;&lt;/a&gt;&lt;h1 class=page-header&gt;Variables&lt;/h1&gt;&lt;/div&gt;&lt;div class=section-items&gt;&lt;div class=&quot;row spacing&quot;&gt;&lt;a class=&quot;anchor-pos anchor-pos-variable&quot; id=pp_var_-541142781282690446&gt;&lt;/a&gt;&lt;div class=variable&gt;&lt;div class=col-sm-3&gt;&lt;p class=h4 title=id&gt;&lt;a href=#pp_var_-541142781282690446&gt;id&lt;/a&gt;&lt;br&gt;&lt;small&gt;Real number (&amp;Ropf;&lt;sub&gt;&amp;ge;0&lt;/sub&gt;)&lt;/small&gt;&lt;/p&gt;&lt;code&gt;UNIQUE&lt;/code&gt;&lt;br&gt;&lt;p class=variable-description&gt;&lt;/p&gt;&lt;/div&gt;&lt;div class=col-sm-3&gt;&lt;table class=&quot;table table-condensed stats&quot;&gt;&lt;tbody&gt;&lt;tr class=alert&gt;&lt;th&gt;Distinct&lt;/th&gt;&lt;td&gt;4087&lt;/td&gt;&lt;/tr&gt;&lt;tr class=alert&gt;&lt;th&gt;Distinct (%)&lt;/th&gt;&lt;td&gt;100.0%&lt;/td&gt;&lt;/tr&gt;&lt;tr&gt;&lt;th&gt;Missing&lt;/th&gt;&lt;td&gt;0&lt;/td&gt;&lt;/tr&gt;&lt;tr&gt;&lt;th&gt;Missing (%)&lt;/th&gt;&lt;td&gt;0.0%&lt;/td&gt;&lt;/tr&gt;&lt;tr&gt;&lt;th&gt;Infinite&lt;/th&gt;&lt;td&gt;0&lt;/td&gt;&lt;/tr&gt;&lt;tr&gt;&lt;th&gt;Infinite (%)&lt;/th&gt;&lt;td&gt;0.0%&lt;/td&gt;&lt;/tr&gt;&lt;tr&gt;&lt;th&gt;Mean&lt;/th&gt;&lt;td&gt;2536.609738&lt;/td&gt;&lt;/tr&gt;&lt;/tbody&gt;&lt;/table&gt;&lt;/div&gt;&lt;div class=col-sm-3&gt;&lt;table class=&quot;table table-condensed stats&quot;&gt;&lt;tbody&gt;&lt;tr&gt;&lt;th&gt;Minimum&lt;/th&gt;&lt;td&gt;0&lt;/td&gt;&lt;/tr&gt;&lt;tr&gt;&lt;th&gt;Maximum&lt;/th&gt;&lt;td&gt;5108&lt;/td&gt;&lt;/tr&gt;&lt;tr&gt;&lt;th&gt;Zeros&lt;/th&gt;&lt;td&gt;1&lt;/td&gt;&lt;/tr&gt;&lt;tr&gt;&lt;th&gt;Zeros (%)&lt;/th&gt;&lt;td&gt;&lt; 0.1%&lt;/td&gt;&lt;/tr&gt;&lt;tr&gt;&lt;th&gt;Negative&lt;/th&gt;&lt;td&gt;0&lt;/td&gt;&lt;/tr&gt;&lt;tr&gt;&lt;th&gt;Negative (%)&lt;/th&gt;&lt;td&gt;0.0%&lt;/td&gt;&lt;/tr&gt;&lt;tr&gt;&lt;th&gt;Memory size&lt;/th&gt;&lt;td&gt;32.1 KiB&lt;/td&gt;&lt;/tr&gt;&lt;/tbody&gt;&lt;/table&gt;&lt;/div&gt;&lt;div class=col-sm-3&gt;&lt;?xml version=&quot;1.0&quot; encoding=&quot;utf-8&quot; standalone=&quot;no&quot;?&gt;&lt;!DOCTYPE svg class=&quot;img-responsive center-img&quot;PUBLIC &quot;-//W3C//DTD SVG 1.1//EN&quot;\n",
       "  &quot;http://www.w3.org/Graphics/SVG/1.1/DTD/svg11.dtd&quot;&gt;&lt;svg class=&quot;img-responsive center-img&quot; height=162pt version=1.1 viewbox=&quot;0 0 216 162&quot; width=216pt xmlns=http://www.w3.org/2000/svg xmlns:xlink=http://www.w3.org/1999/xlink&gt;&lt;metadata&gt;&lt;rdf:rdf xmlns:cc=http://creativecommons.org/ns# xmlns:dc=http://purl.org/dc/elements/1.1/ xmlns:rdf=http://www.w3.org/1999/02/22-rdf-syntax-ns#&gt;&lt;cc:work&gt;&lt;dc:type rdf:resource=http://purl.org/dc/dcmitype/StillImage /&gt;&lt;dc:date&gt;2021-06-06T21:12:25.333240&lt;/dc:date&gt;&lt;dc:format&gt;image/svg+xml&lt;/dc:format&gt;&lt;dc:creator&gt;&lt;cc:agent&gt;&lt;dc:title&gt;Matplotlib v3.4.2, https://matplotlib.org/&lt;/dc:title&gt;&lt;/cc:agent&gt;&lt;/dc:creator&gt;&lt;/cc:work&gt;&lt;/rdf:rdf&gt;&lt;/metadata&gt;&lt;defs&gt;&lt;style type=text/css&gt;*{stroke-linecap:butt;stroke-linejoin:round;}&lt;/style&gt;&lt;/defs&gt;&lt;g id=figure_1&gt;&lt;g id=patch_1&gt;&lt;path style=fill:#ffffff; d=&quot;M 0 162 \n",
       "L 216 162 \n",
       "L 216 0 \n",
       "L 0 0 \n",
       "z\n",
       "&quot;/&gt;&lt;/g&gt;&lt;g id=axes_1&gt;&lt;g id=patch_2&gt;&lt;path style=fill:#ffffff; d=&quot;M 10.8 119.84035 \n",
       "L 205.2 119.84035 \n",
       "L 205.2 10.8 \n",
       "L 10.8 10.8 \n",
       "z\n",
       "&quot;/&gt;&lt;/g&gt;&lt;g id=matplotlib.axis_1&gt;&lt;g id=xtick_1&gt;&lt;g id=text_1&gt;&lt;g style=fill:#262626; transform=&quot;translate(19.397715 138.237849)rotate(-45)scale(0.08 -0.08)&quot;&gt;&lt;defs&gt;&lt;path id=DejaVuSans-30 transform=scale(0.015625) d=&quot;M 2034 4250 \n",
       "Q 1547 4250 1301 3770 \n",
       "Q 1056 3291 1056 2328 \n",
       "Q 1056 1369 1301 889 \n",
       "Q 1547 409 2034 409 \n",
       "Q 2525 409 2770 889 \n",
       "Q 3016 1369 3016 2328 \n",
       "Q 3016 3291 2770 3770 \n",
       "Q 2525 4250 2034 4250 \n",
       "z\n",
       "M 2034 4750 \n",
       "Q 2819 4750 3233 4129 \n",
       "Q 3647 3509 3647 2328 \n",
       "Q 3647 1150 3233 529 \n",
       "Q 2819 -91 2034 -91 \n",
       "Q 1250 -91 836 529 \n",
       "Q 422 1150 422 2328 \n",
       "Q 422 3509 836 4129 \n",
       "Q 1250 4750 2034 4750 \n",
       "z\n",
       "&quot;/&gt;&lt;/defs&gt;&lt;use xlink:href=#DejaVuSans-30 /&gt;&lt;/g&gt;&lt;/g&gt;&lt;/g&gt;&lt;g id=xtick_2&gt;&lt;g id=text_2&gt;&lt;g style=fill:#262626; transform=&quot;translate(48.59709 149.035369)rotate(-45)scale(0.08 -0.08)&quot;&gt;&lt;defs&gt;&lt;path id=DejaVuSans-31 transform=scale(0.015625) d=&quot;M 794 531 \n",
       "L 1825 531 \n",
       "L 1825 4091 \n",
       "L 703 3866 \n",
       "L 703 4441 \n",
       "L 1819 4666 \n",
       "L 2450 4666 \n",
       "L 2450 531 \n",
       "L 3481 531 \n",
       "L 3481 0 \n",
       "L 794 0 \n",
       "L 794 531 \n",
       "z\n",
       "&quot;/&gt;&lt;/defs&gt;&lt;use xlink:href=#DejaVuSans-31 /&gt;&lt;use x=63.623047 xlink:href=#DejaVuSans-30 /&gt;&lt;use x=127.246094 xlink:href=#DejaVuSans-30 /&gt;&lt;use x=190.869141 xlink:href=#DejaVuSans-30 /&gt;&lt;/g&gt;&lt;/g&gt;&lt;/g&gt;&lt;g id=xtick_3&gt;&lt;g id=text_3&gt;&lt;g style=fill:#262626; transform=&quot;translate(83.195224 149.035369)rotate(-45)scale(0.08 -0.08)&quot;&gt;&lt;defs&gt;&lt;path id=DejaVuSans-32 transform=scale(0.015625) d=&quot;M 1228 531 \n",
       "L 3431 531 \n",
       "L 3431 0 \n",
       "L 469 0 \n",
       "L 469 531 \n",
       "Q 828 903 1448 1529 \n",
       "Q 2069 2156 2228 2338 \n",
       "Q 2531 2678 2651 2914 \n",
       "Q 2772 3150 2772 3378 \n",
       "Q 2772 3750 2511 3984 \n",
       "Q 2250 4219 1831 4219 \n",
       "Q 1534 4219 1204 4116 \n",
       "Q 875 4013 500 3803 \n",
       "L 500 4441 \n",
       "Q 881 4594 1212 4672 \n",
       "Q 1544 4750 1819 4750 \n",
       "Q 2544 4750 2975 4387 \n",
       "Q 3406 4025 3406 3419 \n",
       "Q 3406 3131 3298 2873 \n",
       "Q 3191 2616 2906 2266 \n",
       "Q 2828 2175 2409 1742 \n",
       "Q 1991 1309 1228 531 \n",
       "z\n",
       "&quot;/&gt;&lt;/defs&gt;&lt;use xlink:href=#DejaVuSans-32 /&gt;&lt;use x=63.623047 xlink:href=#DejaVuSans-30 /&gt;&lt;use x=127.246094 xlink:href=#DejaVuSans-30 /&gt;&lt;use x=190.869141 xlink:href=#DejaVuSans-30 /&gt;&lt;/g&gt;&lt;/g&gt;&lt;/g&gt;&lt;g id=xtick_4&gt;&lt;g id=text_4&gt;&lt;g style=fill:#262626; transform=&quot;translate(117.793359 149.035369)rotate(-45)scale(0.08 -0.08)&quot;&gt;&lt;defs&gt;&lt;path id=DejaVuSans-33 transform=scale(0.015625) d=&quot;M 2597 2516 \n",
       "Q 3050 2419 3304 2112 \n",
       "Q 3559 1806 3559 1356 \n",
       "Q 3559 666 3084 287 \n",
       "Q 2609 -91 1734 -91 \n",
       "Q 1441 -91 1130 -33 \n",
       "Q 819 25 488 141 \n",
       "L 488 750 \n",
       "Q 750 597 1062 519 \n",
       "Q 1375 441 1716 441 \n",
       "Q 2309 441 2620 675 \n",
       "Q 2931 909 2931 1356 \n",
       "Q 2931 1769 2642 2001 \n",
       "Q 2353 2234 1838 2234 \n",
       "L 1294 2234 \n",
       "L 1294 2753 \n",
       "L 1863 2753 \n",
       "Q 2328 2753 2575 2939 \n",
       "Q 2822 3125 2822 3475 \n",
       "Q 2822 3834 2567 4026 \n",
       "Q 2313 4219 1838 4219 \n",
       "Q 1578 4219 1281 4162 \n",
       "Q 984 4106 628 3988 \n",
       "L 628 4550 \n",
       "Q 988 4650 1302 4700 \n",
       "Q 1616 4750 1894 4750 \n",
       "Q 2613 4750 3031 4423 \n",
       "Q 3450 4097 3450 3541 \n",
       "Q 3450 3153 3228 2886 \n",
       "Q 3006 2619 2597 2516 \n",
       "z\n",
       "&quot;/&gt;&lt;/defs&gt;&lt;use xlink:href=#DejaVuSans-33 /&gt;&lt;use x=63.623047 xlink:href=#DejaVuSans-30 /&gt;&lt;use x=127.246094 xlink:href=#DejaVuSans-30 /&gt;&lt;use x=190.869141 xlink:href=#DejaVuSans-30 /&gt;&lt;/g&gt;&lt;/g&gt;&lt;/g&gt;&lt;g id=xtick_5&gt;&lt;g id=text_5&gt;&lt;g style=fill:#262626; transform=&quot;translate(152.391494 149.035369)rotate(-45)scale(0.08 -0.08)&quot;&gt;&lt;defs&gt;&lt;path id=DejaVuSans-34 transform=scale(0.015625) d=&quot;M 2419 4116 \n",
       "L 825 1625 \n",
       "L 2419 1625 \n",
       "L 2419 4116 \n",
       "z\n",
       "M 2253 4666 \n",
       "L 3047 4666 \n",
       "L 3047 1625 \n",
       "L 3713 1625 \n",
       "L 3713 1100 \n",
       "L 3047 1100 \n",
       "L 3047 0 \n",
       "L 2419 0 \n",
       "L 2419 1100 \n",
       "L 313 1100 \n",
       "L 313 1709 \n",
       "L 2253 4666 \n",
       "z\n",
       "&quot;/&gt;&lt;/defs&gt;&lt;use xlink:href=#DejaVuSans-34 /&gt;&lt;use x=63.623047 xlink:href=#DejaVuSans-30 /&gt;&lt;use x=127.246094 xlink:href=#DejaVuSans-30 /&gt;&lt;use x=190.869141 xlink:href=#DejaVuSans-30 /&gt;&lt;/g&gt;&lt;/g&gt;&lt;/g&gt;&lt;g id=xtick_6&gt;&lt;g id=text_6&gt;&lt;g style=fill:#262626; transform=&quot;translate(186.989629 149.035369)rotate(-45)scale(0.08 -0.08)&quot;&gt;&lt;defs&gt;&lt;path id=DejaVuSans-35 transform=scale(0.015625) d=&quot;M 691 4666 \n",
       "L 3169 4666 \n",
       "L 3169 4134 \n",
       "L 1269 4134 \n",
       "L 1269 2991 \n",
       "Q 1406 3038 1543 3061 \n",
       "Q 1681 3084 1819 3084 \n",
       "Q 2600 3084 3056 2656 \n",
       "Q 3513 2228 3513 1497 \n",
       "Q 3513 744 3044 326 \n",
       "Q 2575 -91 1722 -91 \n",
       "Q 1428 -91 1123 -41 \n",
       "Q 819 9 494 109 \n",
       "L 494 744 \n",
       "Q 775 591 1075 516 \n",
       "Q 1375 441 1709 441 \n",
       "Q 2250 441 2565 725 \n",
       "Q 2881 1009 2881 1497 \n",
       "Q 2881 1984 2565 2268 \n",
       "Q 2250 2553 1709 2553 \n",
       "Q 1456 2553 1204 2497 \n",
       "Q 953 2441 691 2322 \n",
       "L 691 4666 \n",
       "z\n",
       "&quot;/&gt;&lt;/defs&gt;&lt;use xlink:href=#DejaVuSans-35 /&gt;&lt;use x=63.623047 xlink:href=#DejaVuSans-30 /&gt;&lt;use x=127.246094 xlink:href=#DejaVuSans-30 /&gt;&lt;use x=190.869141 xlink:href=#DejaVuSans-30 /&gt;&lt;/g&gt;&lt;/g&gt;&lt;/g&gt;&lt;/g&gt;&lt;g id=patch_3&gt;&lt;path clip-path=url(#pfc9e4120d3) style=fill:#337ab7;stroke:#ffffff;stroke-linejoin:miter;stroke-width:0.3; d=&quot;M 19.636364 119.84035 \n",
       "L 23.170909 119.84035 \n",
       "L 23.170909 28.144818 \n",
       "L 19.636364 28.144818 \n",
       "z\n",
       "&quot;/&gt;&lt;/g&gt;&lt;g id=patch_4&gt;&lt;path clip-path=url(#pfc9e4120d3) style=fill:#337ab7;stroke:#ffffff;stroke-linejoin:miter;stroke-width:0.3; d=&quot;M 23.170909 119.84035 \n",
       "L 26.705455 119.84035 \n",
       "L 26.705455 22.62099 \n",
       "L 23.170909 22.62099 \n",
       "z\n",
       "&quot;/&gt;&lt;/g&gt;&lt;g id=patch_5&gt;&lt;path clip-path=url(#pfc9e4120d3) style=fill:#337ab7;stroke:#ffffff;stroke-linejoin:miter;stroke-width:0.3; d=&quot;M 26.705455 119.84035 \n",
       "L 30.24 119.84035 \n",
       "L 30.24 27.040052 \n",
       "L 26.705455 27.040052 \n",
       "z\n",
       "&quot;/&gt;&lt;/g&gt;&lt;g id=patch_6&gt;&lt;path clip-path=url(#pfc9e4120d3) style=fill:#337ab7;stroke:#ffffff;stroke-linejoin:miter;stroke-width:0.3; d=&quot;M 30.24 119.84035 \n",
       "L 33.774545 119.84035 \n",
       "L 33.774545 25.935287 \n",
       "L 30.24 25.935287 \n",
       "z\n",
       "&quot;/&gt;&lt;/g&gt;&lt;g id=patch_7&gt;&lt;path clip-path=url(#pfc9e4120d3) style=fill:#337ab7;stroke:#ffffff;stroke-linejoin:miter;stroke-width:0.3; d=&quot;M 33.774545 119.84035 \n",
       "L 37.309091 119.84035 \n",
       "L 37.309091 32.563879 \n",
       "L 33.774545 32.563879 \n",
       "z\n",
       "&quot;/&gt;&lt;/g&gt;&lt;g id=patch_8&gt;&lt;path clip-path=url(#pfc9e4120d3) style=fill:#337ab7;stroke:#ffffff;stroke-linejoin:miter;stroke-width:0.3; d=&quot;M 37.309091 119.84035 \n",
       "L 40.843636 119.84035 \n",
       "L 40.843636 21.516225 \n",
       "L 37.309091 21.516225 \n",
       "z\n",
       "&quot;/&gt;&lt;/g&gt;&lt;g id=patch_9&gt;&lt;path clip-path=url(#pfc9e4120d3) style=fill:#337ab7;stroke:#ffffff;stroke-linejoin:miter;stroke-width:0.3; d=&quot;M 40.843636 119.84035 \n",
       "L 44.378182 119.84035 \n",
       "L 44.378182 18.201929 \n",
       "L 40.843636 18.201929 \n",
       "z\n",
       "&quot;/&gt;&lt;/g&gt;&lt;g id=patch_10&gt;&lt;path clip-path=url(#pfc9e4120d3) style=fill:#337ab7;stroke:#ffffff;stroke-linejoin:miter;stroke-width:0.3; d=&quot;M 44.378182 119.84035 \n",
       "L 47.912727 119.84035 \n",
       "L 47.912727 29.249583 \n",
       "L 44.378182 29.249583 \n",
       "z\n",
       "&quot;/&gt;&lt;/g&gt;&lt;g id=patch_11&gt;&lt;path clip-path=url(#pfc9e4120d3) style=fill:#337ab7;stroke:#ffffff;stroke-linejoin:miter;stroke-width:0.3; d=&quot;M 47.912727 119.84035 \n",
       "L 51.447273 119.84035 \n",
       "L 51.447273 29.249583 \n",
       "L 47.912727 29.249583 \n",
       "z\n",
       "&quot;/&gt;&lt;/g&gt;&lt;g id=patch_12&gt;&lt;path clip-path=url(#pfc9e4120d3) style=fill:#337ab7;stroke:#ffffff;stroke-linejoin:miter;stroke-width:0.3; d=&quot;M 51.447273 119.84035 \n",
       "L 54.981818 119.84035 \n",
       "L 54.981818 20.411459 \n",
       "L 51.447273 20.411459 \n",
       "z\n",
       "&quot;/&gt;&lt;/g&gt;&lt;g id=patch_13&gt;&lt;path clip-path=url(#pfc9e4120d3) style=fill:#337ab7;stroke:#ffffff;stroke-linejoin:miter;stroke-width:0.3; d=&quot;M 54.981818 119.84035 \n",
       "L 58.516364 119.84035 \n",
       "L 58.516364 31.459114 \n",
       "L 54.981818 31.459114 \n",
       "z\n",
       "&quot;/&gt;&lt;/g&gt;&lt;g id=patch_14&gt;&lt;path clip-path=url(#pfc9e4120d3) style=fill:#337ab7;stroke:#ffffff;stroke-linejoin:miter;stroke-width:0.3; d=&quot;M 58.516364 119.84035 \n",
       "L 62.050909 119.84035 \n",
       "L 62.050909 30.354348 \n",
       "L 58.516364 30.354348 \n",
       "z\n",
       "&quot;/&gt;&lt;/g&gt;&lt;g id=patch_15&gt;&lt;path clip-path=url(#pfc9e4120d3) style=fill:#337ab7;stroke:#ffffff;stroke-linejoin:miter;stroke-width:0.3; d=&quot;M 62.050909 119.84035 \n",
       "L 65.585455 119.84035 \n",
       "L 65.585455 43.611534 \n",
       "L 62.050909 43.611534 \n",
       "z\n",
       "&quot;/&gt;&lt;/g&gt;&lt;g id=patch_16&gt;&lt;path clip-path=url(#pfc9e4120d3) style=fill:#337ab7;stroke:#ffffff;stroke-linejoin:miter;stroke-width:0.3; d=&quot;M 65.585455 119.84035 \n",
       "L 69.12 119.84035 \n",
       "L 69.12 34.77341 \n",
       "L 65.585455 34.77341 \n",
       "z\n",
       "&quot;/&gt;&lt;/g&gt;&lt;g id=patch_17&gt;&lt;path clip-path=url(#pfc9e4120d3) style=fill:#337ab7;stroke:#ffffff;stroke-linejoin:miter;stroke-width:0.3; d=&quot;M 69.12 119.84035 \n",
       "L 72.654545 119.84035 \n",
       "L 72.654545 28.144818 \n",
       "L 69.12 28.144818 \n",
       "z\n",
       "&quot;/&gt;&lt;/g&gt;&lt;g id=patch_18&gt;&lt;path clip-path=url(#pfc9e4120d3) style=fill:#337ab7;stroke:#ffffff;stroke-linejoin:miter;stroke-width:0.3; d=&quot;M 72.654545 119.84035 \n",
       "L 76.189091 119.84035 \n",
       "L 76.189091 27.040052 \n",
       "L 72.654545 27.040052 \n",
       "z\n",
       "&quot;/&gt;&lt;/g&gt;&lt;g id=patch_19&gt;&lt;path clip-path=url(#pfc9e4120d3) style=fill:#337ab7;stroke:#ffffff;stroke-linejoin:miter;stroke-width:0.3; d=&quot;M 76.189091 119.84035 \n",
       "L 79.723636 119.84035 \n",
       "L 79.723636 35.878176 \n",
       "L 76.189091 35.878176 \n",
       "z\n",
       "&quot;/&gt;&lt;/g&gt;&lt;g id=patch_20&gt;&lt;path clip-path=url(#pfc9e4120d3) style=fill:#337ab7;stroke:#ffffff;stroke-linejoin:miter;stroke-width:0.3; d=&quot;M 79.723636 119.84035 \n",
       "L 83.258182 119.84035 \n",
       "L 83.258182 32.563879 \n",
       "L 79.723636 32.563879 \n",
       "z\n",
       "&quot;/&gt;&lt;/g&gt;&lt;g id=patch_21&gt;&lt;path clip-path=url(#pfc9e4120d3) style=fill:#337ab7;stroke:#ffffff;stroke-linejoin:miter;stroke-width:0.3; d=&quot;M 83.258182 119.84035 \n",
       "L 86.792727 119.84035 \n",
       "L 86.792727 15.992398 \n",
       "L 83.258182 15.992398 \n",
       "z\n",
       "&quot;/&gt;&lt;/g&gt;&lt;g id=patch_22&gt;&lt;path clip-path=url(#pfc9e4120d3) style=fill:#337ab7;stroke:#ffffff;stroke-linejoin:miter;stroke-width:0.3; d=&quot;M 86.792727 119.84035 \n",
       "L 90.327273 119.84035 \n",
       "L 90.327273 32.563879 \n",
       "L 86.792727 32.563879 \n",
       "z\n",
       "&quot;/&gt;&lt;/g&gt;&lt;g id=patch_23&gt;&lt;path clip-path=url(#pfc9e4120d3) style=fill:#337ab7;stroke:#ffffff;stroke-linejoin:miter;stroke-width:0.3; d=&quot;M 90.327273 119.84035 \n",
       "L 93.861818 119.84035 \n",
       "L 93.861818 29.249583 \n",
       "L 90.327273 29.249583 \n",
       "z\n",
       "&quot;/&gt;&lt;/g&gt;&lt;g id=patch_24&gt;&lt;path clip-path=url(#pfc9e4120d3) style=fill:#337ab7;stroke:#ffffff;stroke-linejoin:miter;stroke-width:0.3; d=&quot;M 93.861818 119.84035 \n",
       "L 97.396364 119.84035 \n",
       "L 97.396364 34.77341 \n",
       "L 93.861818 34.77341 \n",
       "z\n",
       "&quot;/&gt;&lt;/g&gt;&lt;g id=patch_25&gt;&lt;path clip-path=url(#pfc9e4120d3) style=fill:#337ab7;stroke:#ffffff;stroke-linejoin:miter;stroke-width:0.3; d=&quot;M 97.396364 119.84035 \n",
       "L 100.930909 119.84035 \n",
       "L 100.930909 29.249583 \n",
       "L 97.396364 29.249583 \n",
       "z\n",
       "&quot;/&gt;&lt;/g&gt;&lt;g id=patch_26&gt;&lt;path clip-path=url(#pfc9e4120d3) style=fill:#337ab7;stroke:#ffffff;stroke-linejoin:miter;stroke-width:0.3; d=&quot;M 100.930909 119.84035 \n",
       "L 104.465455 119.84035 \n",
       "L 104.465455 25.935287 \n",
       "L 100.930909 25.935287 \n",
       "z\n",
       "&quot;/&gt;&lt;/g&gt;&lt;g id=patch_27&gt;&lt;path clip-path=url(#pfc9e4120d3) style=fill:#337ab7;stroke:#ffffff;stroke-linejoin:miter;stroke-width:0.3; d=&quot;M 104.465455 119.84035 \n",
       "L 108 119.84035 \n",
       "L 108 28.144818 \n",
       "L 104.465455 28.144818 \n",
       "z\n",
       "&quot;/&gt;&lt;/g&gt;&lt;g id=patch_28&gt;&lt;path clip-path=url(#pfc9e4120d3) style=fill:#337ab7;stroke:#ffffff;stroke-linejoin:miter;stroke-width:0.3; d=&quot;M 108 119.84035 \n",
       "L 111.534545 119.84035 \n",
       "L 111.534545 34.77341 \n",
       "L 108 34.77341 \n",
       "z\n",
       "&quot;/&gt;&lt;/g&gt;&lt;g id=patch_29&gt;&lt;path clip-path=url(#pfc9e4120d3) style=fill:#337ab7;stroke:#ffffff;stroke-linejoin:miter;stroke-width:0.3; d=&quot;M 111.534545 119.84035 \n",
       "L 115.069091 119.84035 \n",
       "L 115.069091 31.459114 \n",
       "L 111.534545 31.459114 \n",
       "z\n",
       "&quot;/&gt;&lt;/g&gt;&lt;g id=patch_30&gt;&lt;path clip-path=url(#pfc9e4120d3) style=fill:#337ab7;stroke:#ffffff;stroke-linejoin:miter;stroke-width:0.3; d=&quot;M 115.069091 119.84035 \n",
       "L 118.603636 119.84035 \n",
       "L 118.603636 33.668645 \n",
       "L 115.069091 33.668645 \n",
       "z\n",
       "&quot;/&gt;&lt;/g&gt;&lt;g id=patch_31&gt;&lt;path clip-path=url(#pfc9e4120d3) style=fill:#337ab7;stroke:#ffffff;stroke-linejoin:miter;stroke-width:0.3; d=&quot;M 118.603636 119.84035 \n",
       "L 122.138182 119.84035 \n",
       "L 122.138182 31.459114 \n",
       "L 118.603636 31.459114 \n",
       "z\n",
       "&quot;/&gt;&lt;/g&gt;&lt;g id=patch_32&gt;&lt;path clip-path=url(#pfc9e4120d3) style=fill:#337ab7;stroke:#ffffff;stroke-linejoin:miter;stroke-width:0.3; d=&quot;M 122.138182 119.84035 \n",
       "L 125.672727 119.84035 \n",
       "L 125.672727 31.459114 \n",
       "L 122.138182 31.459114 \n",
       "z\n",
       "&quot;/&gt;&lt;/g&gt;&lt;g id=patch_33&gt;&lt;path clip-path=url(#pfc9e4120d3) style=fill:#337ab7;stroke:#ffffff;stroke-linejoin:miter;stroke-width:0.3; d=&quot;M 125.672727 119.84035 \n",
       "L 129.207273 119.84035 \n",
       "L 129.207273 29.249583 \n",
       "L 125.672727 29.249583 \n",
       "z\n",
       "&quot;/&gt;&lt;/g&gt;&lt;g id=patch_34&gt;&lt;path clip-path=url(#pfc9e4120d3) style=fill:#337ab7;stroke:#ffffff;stroke-linejoin:miter;stroke-width:0.3; d=&quot;M 129.207273 119.84035 \n",
       "L 132.741818 119.84035 \n",
       "L 132.741818 24.830521 \n",
       "L 129.207273 24.830521 \n",
       "z\n",
       "&quot;/&gt;&lt;/g&gt;&lt;g id=patch_35&gt;&lt;path clip-path=url(#pfc9e4120d3) style=fill:#337ab7;stroke:#ffffff;stroke-linejoin:miter;stroke-width:0.3; d=&quot;M 132.741818 119.84035 \n",
       "L 136.276364 119.84035 \n",
       "L 136.276364 30.354348 \n",
       "L 132.741818 30.354348 \n",
       "z\n",
       "&quot;/&gt;&lt;/g&gt;&lt;g id=patch_36&gt;&lt;path clip-path=url(#pfc9e4120d3) style=fill:#337ab7;stroke:#ffffff;stroke-linejoin:miter;stroke-width:0.3; d=&quot;M 136.276364 119.84035 \n",
       "L 139.810909 119.84035 \n",
       "L 139.810909 33.668645 \n",
       "L 136.276364 33.668645 \n",
       "z\n",
       "&quot;/&gt;&lt;/g&gt;&lt;g id=patch_37&gt;&lt;path clip-path=url(#pfc9e4120d3) style=fill:#337ab7;stroke:#ffffff;stroke-linejoin:miter;stroke-width:0.3; d=&quot;M 139.810909 119.84035 \n",
       "L 143.345455 119.84035 \n",
       "L 143.345455 33.668645 \n",
       "L 139.810909 33.668645 \n",
       "z\n",
       "&quot;/&gt;&lt;/g&gt;&lt;g id=patch_38&gt;&lt;path clip-path=url(#pfc9e4120d3) style=fill:#337ab7;stroke:#ffffff;stroke-linejoin:miter;stroke-width:0.3; d=&quot;M 143.345455 119.84035 \n",
       "L 146.88 119.84035 \n",
       "L 146.88 23.725756 \n",
       "L 143.345455 23.725756 \n",
       "z\n",
       "&quot;/&gt;&lt;/g&gt;&lt;g id=patch_39&gt;&lt;path clip-path=url(#pfc9e4120d3) style=fill:#337ab7;stroke:#ffffff;stroke-linejoin:miter;stroke-width:0.3; d=&quot;M 146.88 119.84035 \n",
       "L 150.414545 119.84035 \n",
       "L 150.414545 29.249583 \n",
       "L 146.88 29.249583 \n",
       "z\n",
       "&quot;/&gt;&lt;/g&gt;&lt;g id=patch_40&gt;&lt;path clip-path=url(#pfc9e4120d3) style=fill:#337ab7;stroke:#ffffff;stroke-linejoin:miter;stroke-width:0.3; d=&quot;M 150.414545 119.84035 \n",
       "L 153.949091 119.84035 \n",
       "L 153.949091 22.62099 \n",
       "L 150.414545 22.62099 \n",
       "z\n",
       "&quot;/&gt;&lt;/g&gt;&lt;g id=patch_41&gt;&lt;path clip-path=url(#pfc9e4120d3) style=fill:#337ab7;stroke:#ffffff;stroke-linejoin:miter;stroke-width:0.3; d=&quot;M 153.949091 119.84035 \n",
       "L 157.483636 119.84035 \n",
       "L 157.483636 28.144818 \n",
       "L 153.949091 28.144818 \n",
       "z\n",
       "&quot;/&gt;&lt;/g&gt;&lt;g id=patch_42&gt;&lt;path clip-path=url(#pfc9e4120d3) style=fill:#337ab7;stroke:#ffffff;stroke-linejoin:miter;stroke-width:0.3; d=&quot;M 157.483636 119.84035 \n",
       "L 161.018182 119.84035 \n",
       "L 161.018182 32.563879 \n",
       "L 157.483636 32.563879 \n",
       "z\n",
       "&quot;/&gt;&lt;/g&gt;&lt;g id=patch_43&gt;&lt;path clip-path=url(#pfc9e4120d3) style=fill:#337ab7;stroke:#ffffff;stroke-linejoin:miter;stroke-width:0.3; d=&quot;M 161.018182 119.84035 \n",
       "L 164.552727 119.84035 \n",
       "L 164.552727 35.878176 \n",
       "L 161.018182 35.878176 \n",
       "z\n",
       "&quot;/&gt;&lt;/g&gt;&lt;g id=patch_44&gt;&lt;path clip-path=url(#pfc9e4120d3) style=fill:#337ab7;stroke:#ffffff;stroke-linejoin:miter;stroke-width:0.3; d=&quot;M 164.552727 119.84035 \n",
       "L 168.087273 119.84035 \n",
       "L 168.087273 27.040052 \n",
       "L 164.552727 27.040052 \n",
       "z\n",
       "&quot;/&gt;&lt;/g&gt;&lt;g id=patch_45&gt;&lt;path clip-path=url(#pfc9e4120d3) style=fill:#337ab7;stroke:#ffffff;stroke-linejoin:miter;stroke-width:0.3; d=&quot;M 168.087273 119.84035 \n",
       "L 171.621818 119.84035 \n",
       "L 171.621818 38.087707 \n",
       "L 168.087273 38.087707 \n",
       "z\n",
       "&quot;/&gt;&lt;/g&gt;&lt;g id=patch_46&gt;&lt;path clip-path=url(#pfc9e4120d3) style=fill:#337ab7;stroke:#ffffff;stroke-linejoin:miter;stroke-width:0.3; d=&quot;M 171.621818 119.84035 \n",
       "L 175.156364 119.84035 \n",
       "L 175.156364 25.935287 \n",
       "L 171.621818 25.935287 \n",
       "z\n",
       "&quot;/&gt;&lt;/g&gt;&lt;g id=patch_47&gt;&lt;path clip-path=url(#pfc9e4120d3) style=fill:#337ab7;stroke:#ffffff;stroke-linejoin:miter;stroke-width:0.3; d=&quot;M 175.156364 119.84035 \n",
       "L 178.690909 119.84035 \n",
       "L 178.690909 29.249583 \n",
       "L 175.156364 29.249583 \n",
       "z\n",
       "&quot;/&gt;&lt;/g&gt;&lt;g id=patch_48&gt;&lt;path clip-path=url(#pfc9e4120d3) style=fill:#337ab7;stroke:#ffffff;stroke-linejoin:miter;stroke-width:0.3; d=&quot;M 178.690909 119.84035 \n",
       "L 182.225455 119.84035 \n",
       "L 182.225455 27.040052 \n",
       "L 178.690909 27.040052 \n",
       "z\n",
       "&quot;/&gt;&lt;/g&gt;&lt;g id=patch_49&gt;&lt;path clip-path=url(#pfc9e4120d3) style=fill:#337ab7;stroke:#ffffff;stroke-linejoin:miter;stroke-width:0.3; d=&quot;M 182.225455 119.84035 \n",
       "L 185.76 119.84035 \n",
       "L 185.76 31.459114 \n",
       "L 182.225455 31.459114 \n",
       "z\n",
       "&quot;/&gt;&lt;/g&gt;&lt;g id=patch_50&gt;&lt;path clip-path=url(#pfc9e4120d3) style=fill:#337ab7;stroke:#ffffff;stroke-linejoin:miter;stroke-width:0.3; d=&quot;M 185.76 119.84035 \n",
       "L 189.294545 119.84035 \n",
       "L 189.294545 38.087707 \n",
       "L 185.76 38.087707 \n",
       "z\n",
       "&quot;/&gt;&lt;/g&gt;&lt;g id=patch_51&gt;&lt;path clip-path=url(#pfc9e4120d3) style=fill:#337ab7;stroke:#ffffff;stroke-linejoin:miter;stroke-width:0.3; d=&quot;M 189.294545 119.84035 \n",
       "L 192.829091 119.84035 \n",
       "L 192.829091 33.668645 \n",
       "L 189.294545 33.668645 \n",
       "z\n",
       "&quot;/&gt;&lt;/g&gt;&lt;g id=patch_52&gt;&lt;path clip-path=url(#pfc9e4120d3) style=fill:#337ab7;stroke:#ffffff;stroke-linejoin:miter;stroke-width:0.3; d=&quot;M 192.829091 119.84035 \n",
       "L 196.363636 119.84035 \n",
       "L 196.363636 24.830521 \n",
       "L 192.829091 24.830521 \n",
       "z\n",
       "&quot;/&gt;&lt;/g&gt;&lt;g id=patch_53&gt;&lt;path style=fill:none; d=&quot;M 10.8 119.84035 \n",
       "L 10.8 10.8 \n",
       "&quot;/&gt;&lt;/g&gt;&lt;g id=patch_54&gt;&lt;path style=fill:none; d=&quot;M 205.2 119.84035 \n",
       "L 205.2 10.8 \n",
       "&quot;/&gt;&lt;/g&gt;&lt;g id=patch_55&gt;&lt;path style=fill:none; d=&quot;M 10.8 119.84035 \n",
       "L 205.2 119.84035 \n",
       "&quot;/&gt;&lt;/g&gt;&lt;g id=patch_56&gt;&lt;path style=fill:none; d=&quot;M 10.8 10.8 \n",
       "L 205.2 10.8 \n",
       "&quot;/&gt;&lt;/g&gt;&lt;/g&gt;&lt;/g&gt;&lt;defs&gt;&lt;clippath id=pfc9e4120d3&gt;&lt;rect height=109.04035 width=194.4 x=10.8 y=10.8 /&gt;&lt;/clippath&gt;&lt;/defs&gt;&lt;/svg&gt;&lt;/div&gt;&lt;div class=&quot;col-sm-12 text-right&quot;&gt;&lt;button class=&quot;btn btn-default btn-sm&quot; data-toggle=collapse data-target=&quot;#bottom--541142781282690446, #minifreqtable-541142781282690446&quot; aria-expanded=true aria-controls=collapseExample&gt;Toggle details&lt;/button&gt;&lt;/div&gt;&lt;div id=bottom--541142781282690446 class=collapse&gt;&lt;div class=&quot;row spacing&quot;&gt;&lt;ul class=&quot;nav nav-tabs&quot; role=tablist&gt;&lt;li role=presentation class=active&gt;&lt;a href=#-541142781282690446bottom--541142781282690446statistics aria-controls=-541142781282690446bottom--541142781282690446statistics role=tab data-toggle=tab&gt;Statistics&lt;/a&gt;&lt;/li&gt;&lt;li role=presentation&gt;&lt;a href=#-541142781282690446bottom--541142781282690446histogram aria-controls=-541142781282690446bottom--541142781282690446histogram role=tab data-toggle=tab&gt;Histogram&lt;/a&gt;&lt;/li&gt;&lt;li role=presentation&gt;&lt;a href=#-541142781282690446bottom--541142781282690446common_values aria-controls=-541142781282690446bottom--541142781282690446common_values role=tab data-toggle=tab&gt;Common values&lt;/a&gt;&lt;/li&gt;&lt;li role=presentation&gt;&lt;a href=#-541142781282690446bottom--541142781282690446extreme_values aria-controls=-541142781282690446bottom--541142781282690446extreme_values role=tab data-toggle=tab&gt;Extreme values&lt;/a&gt;&lt;/li&gt;&lt;/ul&gt;&lt;div class=tab-content&gt;&lt;div role=tabpanel class=&quot;tab-pane col-sm-12 active&quot; id=-541142781282690446bottom--541142781282690446statistics&gt;&lt;div class=col-sm-6&gt;&lt;p class=h4&gt;Quantile statistics&lt;/p&gt;&lt;table class=&quot;table table-condensed stats&quot;&gt;&lt;tbody&gt;&lt;tr&gt;&lt;th&gt;Minimum&lt;/th&gt;&lt;td&gt;0&lt;/td&gt;&lt;/tr&gt;&lt;tr&gt;&lt;th&gt;5-th percentile&lt;/th&gt;&lt;td&gt;246.6&lt;/td&gt;&lt;/tr&gt;&lt;tr&gt;&lt;th&gt;Q1&lt;/th&gt;&lt;td&gt;1236.5&lt;/td&gt;&lt;/tr&gt;&lt;tr&gt;&lt;th&gt;median&lt;/th&gt;&lt;td&gt;2526&lt;/td&gt;&lt;/tr&gt;&lt;tr&gt;&lt;th&gt;Q3&lt;/th&gt;&lt;td&gt;3816&lt;/td&gt;&lt;/tr&gt;&lt;tr&gt;&lt;th&gt;95-th percentile&lt;/th&gt;&lt;td&gt;4849.7&lt;/td&gt;&lt;/tr&gt;&lt;tr&gt;&lt;th&gt;Maximum&lt;/th&gt;&lt;td&gt;5108&lt;/td&gt;&lt;/tr&gt;&lt;tr&gt;&lt;th&gt;Range&lt;/th&gt;&lt;td&gt;5108&lt;/td&gt;&lt;/tr&gt;&lt;tr&gt;&lt;th&gt;Interquartile range (IQR)&lt;/th&gt;&lt;td&gt;2579.5&lt;/td&gt;&lt;/tr&gt;&lt;/tbody&gt;&lt;/table&gt;&lt;/div&gt;&lt;div class=col-sm-6&gt;&lt;p class=h4&gt;Descriptive statistics&lt;/p&gt;&lt;table class=&quot;table table-condensed stats&quot;&gt;&lt;tbody&gt;&lt;tr&gt;&lt;th&gt;Standard deviation&lt;/th&gt;&lt;td&gt;1480.813717&lt;/td&gt;&lt;/tr&gt;&lt;tr&gt;&lt;th&gt;Coefficient of variation (CV)&lt;/th&gt;&lt;td&gt;0.5837767214&lt;/td&gt;&lt;/tr&gt;&lt;tr&gt;&lt;th&gt;Kurtosis&lt;/th&gt;&lt;td&gt;-1.208384177&lt;/td&gt;&lt;/tr&gt;&lt;tr&gt;&lt;th&gt;Mean&lt;/th&gt;&lt;td&gt;2536.609738&lt;/td&gt;&lt;/tr&gt;&lt;tr&gt;&lt;th&gt;Median Absolute Deviation (MAD)&lt;/th&gt;&lt;td&gt;1290&lt;/td&gt;&lt;/tr&gt;&lt;tr&gt;&lt;th&gt;Skewness&lt;/th&gt;&lt;td&gt;0.00895518097&lt;/td&gt;&lt;/tr&gt;&lt;tr&gt;&lt;th&gt;Sum&lt;/th&gt;&lt;td&gt;10367124&lt;/td&gt;&lt;/tr&gt;&lt;tr&gt;&lt;th&gt;Variance&lt;/th&gt;&lt;td&gt;2192809.263&lt;/td&gt;&lt;/tr&gt;&lt;tr&gt;&lt;th&gt;Monotonicity&lt;/th&gt;&lt;td&gt;Not monotonic&lt;/td&gt;&lt;/tr&gt;&lt;/tbody&gt;&lt;/table&gt;&lt;/div&gt;&lt;/div&gt;&lt;div role=tabpanel class=&quot;tab-pane col-sm-12&quot; id=-541142781282690446bottom--541142781282690446histogram&gt;&lt;?xml version=&quot;1.0&quot; encoding=&quot;utf-8&quot; standalone=&quot;no&quot;?&gt;&lt;!DOCTYPE svg class=&quot;img-responsive center-img&quot;PUBLIC &quot;-//W3C//DTD SVG 1.1//EN&quot;\n",
       "  &quot;http://www.w3.org/Graphics/SVG/1.1/DTD/svg11.dtd&quot;&gt;&lt;svg class=&quot;img-responsive center-img&quot; height=288pt version=1.1 viewbox=&quot;0 0 432 288&quot; width=432pt xmlns=http://www.w3.org/2000/svg xmlns:xlink=http://www.w3.org/1999/xlink&gt;&lt;metadata&gt;&lt;rdf:rdf xmlns:cc=http://creativecommons.org/ns# xmlns:dc=http://purl.org/dc/elements/1.1/ xmlns:rdf=http://www.w3.org/1999/02/22-rdf-syntax-ns#&gt;&lt;cc:work&gt;&lt;dc:type rdf:resource=http://purl.org/dc/dcmitype/StillImage /&gt;&lt;dc:date&gt;2021-06-06T21:12:25.486903&lt;/dc:date&gt;&lt;dc:format&gt;image/svg+xml&lt;/dc:format&gt;&lt;dc:creator&gt;&lt;cc:agent&gt;&lt;dc:title&gt;Matplotlib v3.4.2, https://matplotlib.org/&lt;/dc:title&gt;&lt;/cc:agent&gt;&lt;/dc:creator&gt;&lt;/cc:work&gt;&lt;/rdf:rdf&gt;&lt;/metadata&gt;&lt;defs&gt;&lt;style type=text/css&gt;*{stroke-linecap:butt;stroke-linejoin:round;}&lt;/style&gt;&lt;/defs&gt;&lt;g id=figure_1&gt;&lt;g id=patch_1&gt;&lt;path style=fill:#ffffff; d=&quot;M 0 288 \n",
       "L 432 288 \n",
       "L 432 0 \n",
       "L 0 0 \n",
       "z\n",
       "&quot;/&gt;&lt;/g&gt;&lt;g id=axes_1&gt;&lt;g id=patch_2&gt;&lt;path style=fill:#ffffff; d=&quot;M 48.05 241.597709 \n",
       "L 421.2 241.597709 \n",
       "L 421.2 10.8 \n",
       "L 48.05 10.8 \n",
       "z\n",
       "&quot;/&gt;&lt;/g&gt;&lt;g id=matplotlib.axis_1&gt;&lt;g id=xtick_1&gt;&lt;g id=text_1&gt;&lt;g style=fill:#262626; transform=&quot;translate(64.713053 261.969583)rotate(-45)scale(0.1 -0.1)&quot;&gt;&lt;defs&gt;&lt;path id=DejaVuSans-30 transform=scale(0.015625) d=&quot;M 2034 4250 \n",
       "Q 1547 4250 1301 3770 \n",
       "Q 1056 3291 1056 2328 \n",
       "Q 1056 1369 1301 889 \n",
       "Q 1547 409 2034 409 \n",
       "Q 2525 409 2770 889 \n",
       "Q 3016 1369 3016 2328 \n",
       "Q 3016 3291 2770 3770 \n",
       "Q 2525 4250 2034 4250 \n",
       "z\n",
       "M 2034 4750 \n",
       "Q 2819 4750 3233 4129 \n",
       "Q 3647 3509 3647 2328 \n",
       "Q 3647 1150 3233 529 \n",
       "Q 2819 -91 2034 -91 \n",
       "Q 1250 -91 836 529 \n",
       "Q 422 1150 422 2328 \n",
       "Q 422 3509 836 4129 \n",
       "Q 1250 4750 2034 4750 \n",
       "z\n",
       "&quot;/&gt;&lt;/defs&gt;&lt;use xlink:href=#DejaVuSans-30 /&gt;&lt;/g&gt;&lt;/g&gt;&lt;/g&gt;&lt;g id=xtick_2&gt;&lt;g id=text_2&gt;&lt;g style=fill:#262626; transform=&quot;translate(124.37558 275.466484)rotate(-45)scale(0.1 -0.1)&quot;&gt;&lt;defs&gt;&lt;path id=DejaVuSans-31 transform=scale(0.015625) d=&quot;M 794 531 \n",
       "L 1825 531 \n",
       "L 1825 4091 \n",
       "L 703 3866 \n",
       "L 703 4441 \n",
       "L 1819 4666 \n",
       "L 2450 4666 \n",
       "L 2450 531 \n",
       "L 3481 531 \n",
       "L 3481 0 \n",
       "L 794 0 \n",
       "L 794 531 \n",
       "z\n",
       "&quot;/&gt;&lt;/defs&gt;&lt;use xlink:href=#DejaVuSans-31 /&gt;&lt;use x=63.623047 xlink:href=#DejaVuSans-30 /&gt;&lt;use x=127.246094 xlink:href=#DejaVuSans-30 /&gt;&lt;use x=190.869141 xlink:href=#DejaVuSans-30 /&gt;&lt;/g&gt;&lt;/g&gt;&lt;/g&gt;&lt;g id=xtick_3&gt;&lt;g id=text_3&gt;&lt;g style=fill:#262626; transform=&quot;translate(190.786557 275.466484)rotate(-45)scale(0.1 -0.1)&quot;&gt;&lt;defs&gt;&lt;path id=DejaVuSans-32 transform=scale(0.015625) d=&quot;M 1228 531 \n",
       "L 3431 531 \n",
       "L 3431 0 \n",
       "L 469 0 \n",
       "L 469 531 \n",
       "Q 828 903 1448 1529 \n",
       "Q 2069 2156 2228 2338 \n",
       "Q 2531 2678 2651 2914 \n",
       "Q 2772 3150 2772 3378 \n",
       "Q 2772 3750 2511 3984 \n",
       "Q 2250 4219 1831 4219 \n",
       "Q 1534 4219 1204 4116 \n",
       "Q 875 4013 500 3803 \n",
       "L 500 4441 \n",
       "Q 881 4594 1212 4672 \n",
       "Q 1544 4750 1819 4750 \n",
       "Q 2544 4750 2975 4387 \n",
       "Q 3406 4025 3406 3419 \n",
       "Q 3406 3131 3298 2873 \n",
       "Q 3191 2616 2906 2266 \n",
       "Q 2828 2175 2409 1742 \n",
       "Q 1991 1309 1228 531 \n",
       "z\n",
       "&quot;/&gt;&lt;/defs&gt;&lt;use xlink:href=#DejaVuSans-32 /&gt;&lt;use x=63.623047 xlink:href=#DejaVuSans-30 /&gt;&lt;use x=127.246094 xlink:href=#DejaVuSans-30 /&gt;&lt;use x=190.869141 xlink:href=#DejaVuSans-30 /&gt;&lt;/g&gt;&lt;/g&gt;&lt;/g&gt;&lt;g id=xtick_4&gt;&lt;g id=text_4&gt;&lt;g style=fill:#262626; transform=&quot;translate(257.197535 275.466484)rotate(-45)scale(0.1 -0.1)&quot;&gt;&lt;defs&gt;&lt;path id=DejaVuSans-33 transform=scale(0.015625) d=&quot;M 2597 2516 \n",
       "Q 3050 2419 3304 2112 \n",
       "Q 3559 1806 3559 1356 \n",
       "Q 3559 666 3084 287 \n",
       "Q 2609 -91 1734 -91 \n",
       "Q 1441 -91 1130 -33 \n",
       "Q 819 25 488 141 \n",
       "L 488 750 \n",
       "Q 750 597 1062 519 \n",
       "Q 1375 441 1716 441 \n",
       "Q 2309 441 2620 675 \n",
       "Q 2931 909 2931 1356 \n",
       "Q 2931 1769 2642 2001 \n",
       "Q 2353 2234 1838 2234 \n",
       "L 1294 2234 \n",
       "L 1294 2753 \n",
       "L 1863 2753 \n",
       "Q 2328 2753 2575 2939 \n",
       "Q 2822 3125 2822 3475 \n",
       "Q 2822 3834 2567 4026 \n",
       "Q 2313 4219 1838 4219 \n",
       "Q 1578 4219 1281 4162 \n",
       "Q 984 4106 628 3988 \n",
       "L 628 4550 \n",
       "Q 988 4650 1302 4700 \n",
       "Q 1616 4750 1894 4750 \n",
       "Q 2613 4750 3031 4423 \n",
       "Q 3450 4097 3450 3541 \n",
       "Q 3450 3153 3228 2886 \n",
       "Q 3006 2619 2597 2516 \n",
       "z\n",
       "&quot;/&gt;&lt;/defs&gt;&lt;use xlink:href=#DejaVuSans-33 /&gt;&lt;use x=63.623047 xlink:href=#DejaVuSans-30 /&gt;&lt;use x=127.246094 xlink:href=#DejaVuSans-30 /&gt;&lt;use x=190.869141 xlink:href=#DejaVuSans-30 /&gt;&lt;/g&gt;&lt;/g&gt;&lt;/g&gt;&lt;g id=xtick_5&gt;&lt;g id=text_5&gt;&lt;g style=fill:#262626; transform=&quot;translate(323.608512 275.466484)rotate(-45)scale(0.1 -0.1)&quot;&gt;&lt;defs&gt;&lt;path id=DejaVuSans-34 transform=scale(0.015625) d=&quot;M 2419 4116 \n",
       "L 825 1625 \n",
       "L 2419 1625 \n",
       "L 2419 4116 \n",
       "z\n",
       "M 2253 4666 \n",
       "L 3047 4666 \n",
       "L 3047 1625 \n",
       "L 3713 1625 \n",
       "L 3713 1100 \n",
       "L 3047 1100 \n",
       "L 3047 0 \n",
       "L 2419 0 \n",
       "L 2419 1100 \n",
       "L 313 1100 \n",
       "L 313 1709 \n",
       "L 2253 4666 \n",
       "z\n",
       "&quot;/&gt;&lt;/defs&gt;&lt;use xlink:href=#DejaVuSans-34 /&gt;&lt;use x=63.623047 xlink:href=#DejaVuSans-30 /&gt;&lt;use x=127.246094 xlink:href=#DejaVuSans-30 /&gt;&lt;use x=190.869141 xlink:href=#DejaVuSans-30 /&gt;&lt;/g&gt;&lt;/g&gt;&lt;/g&gt;&lt;g id=xtick_6&gt;&lt;g id=text_6&gt;&lt;g style=fill:#262626; transform=&quot;translate(390.01949 275.466484)rotate(-45)scale(0.1 -0.1)&quot;&gt;&lt;defs&gt;&lt;path id=DejaVuSans-35 transform=scale(0.015625) d=&quot;M 691 4666 \n",
       "L 3169 4666 \n",
       "L 3169 4134 \n",
       "L 1269 4134 \n",
       "L 1269 2991 \n",
       "Q 1406 3038 1543 3061 \n",
       "Q 1681 3084 1819 3084 \n",
       "Q 2600 3084 3056 2656 \n",
       "Q 3513 2228 3513 1497 \n",
       "Q 3513 744 3044 326 \n",
       "Q 2575 -91 1722 -91 \n",
       "Q 1428 -91 1123 -41 \n",
       "Q 819 9 494 109 \n",
       "L 494 744 \n",
       "Q 775 591 1075 516 \n",
       "Q 1375 441 1709 441 \n",
       "Q 2250 441 2565 725 \n",
       "Q 2881 1009 2881 1497 \n",
       "Q 2881 1984 2565 2268 \n",
       "Q 2250 2553 1709 2553 \n",
       "Q 1456 2553 1204 2497 \n",
       "Q 953 2441 691 2322 \n",
       "L 691 4666 \n",
       "z\n",
       "&quot;/&gt;&lt;/defs&gt;&lt;use xlink:href=#DejaVuSans-35 /&gt;&lt;use x=63.623047 xlink:href=#DejaVuSans-30 /&gt;&lt;use x=127.246094 xlink:href=#DejaVuSans-30 /&gt;&lt;use x=190.869141 xlink:href=#DejaVuSans-30 /&gt;&lt;/g&gt;&lt;/g&gt;&lt;/g&gt;&lt;/g&gt;&lt;g id=matplotlib.axis_2&gt;&lt;g id=ytick_1&gt;&lt;g id=text_7&gt;&lt;g style=fill:#262626; transform=&quot;translate(31.1875 245.396928)scale(0.1 -0.1)&quot;&gt;&lt;use xlink:href=#DejaVuSans-30 /&gt;&lt;/g&gt;&lt;/g&gt;&lt;/g&gt;&lt;g id=ytick_2&gt;&lt;g id=text_8&gt;&lt;g style=fill:#262626; transform=&quot;translate(24.825 198.629408)scale(0.1 -0.1)&quot;&gt;&lt;use xlink:href=#DejaVuSans-32 /&gt;&lt;use x=63.623047 xlink:href=#DejaVuSans-30 /&gt;&lt;/g&gt;&lt;/g&gt;&lt;/g&gt;&lt;g id=ytick_3&gt;&lt;g id=text_9&gt;&lt;g style=fill:#262626; transform=&quot;translate(24.825 151.861889)scale(0.1 -0.1)&quot;&gt;&lt;use xlink:href=#DejaVuSans-34 /&gt;&lt;use x=63.623047 xlink:href=#DejaVuSans-30 /&gt;&lt;/g&gt;&lt;/g&gt;&lt;/g&gt;&lt;g id=ytick_4&gt;&lt;g id=text_10&gt;&lt;g style=fill:#262626; transform=&quot;translate(24.825 105.094369)scale(0.1 -0.1)&quot;&gt;&lt;defs&gt;&lt;path id=DejaVuSans-36 transform=scale(0.015625) d=&quot;M 2113 2584 \n",
       "Q 1688 2584 1439 2293 \n",
       "Q 1191 2003 1191 1497 \n",
       "Q 1191 994 1439 701 \n",
       "Q 1688 409 2113 409 \n",
       "Q 2538 409 2786 701 \n",
       "Q 3034 994 3034 1497 \n",
       "Q 3034 2003 2786 2293 \n",
       "Q 2538 2584 2113 2584 \n",
       "z\n",
       "M 3366 4563 \n",
       "L 3366 3988 \n",
       "Q 3128 4100 2886 4159 \n",
       "Q 2644 4219 2406 4219 \n",
       "Q 1781 4219 1451 3797 \n",
       "Q 1122 3375 1075 2522 \n",
       "Q 1259 2794 1537 2939 \n",
       "Q 1816 3084 2150 3084 \n",
       "Q 2853 3084 3261 2657 \n",
       "Q 3669 2231 3669 1497 \n",
       "Q 3669 778 3244 343 \n",
       "Q 2819 -91 2113 -91 \n",
       "Q 1303 -91 875 529 \n",
       "Q 447 1150 447 2328 \n",
       "Q 447 3434 972 4092 \n",
       "Q 1497 4750 2381 4750 \n",
       "Q 2619 4750 2861 4703 \n",
       "Q 3103 4656 3366 4563 \n",
       "z\n",
       "&quot;/&gt;&lt;/defs&gt;&lt;use xlink:href=#DejaVuSans-36 /&gt;&lt;use x=63.623047 xlink:href=#DejaVuSans-30 /&gt;&lt;/g&gt;&lt;/g&gt;&lt;/g&gt;&lt;g id=ytick_5&gt;&lt;g id=text_11&gt;&lt;g style=fill:#262626; transform=&quot;translate(24.825 58.32685)scale(0.1 -0.1)&quot;&gt;&lt;defs&gt;&lt;path id=DejaVuSans-38 transform=scale(0.015625) d=&quot;M 2034 2216 \n",
       "Q 1584 2216 1326 1975 \n",
       "Q 1069 1734 1069 1313 \n",
       "Q 1069 891 1326 650 \n",
       "Q 1584 409 2034 409 \n",
       "Q 2484 409 2743 651 \n",
       "Q 3003 894 3003 1313 \n",
       "Q 3003 1734 2745 1975 \n",
       "Q 2488 2216 2034 2216 \n",
       "z\n",
       "M 1403 2484 \n",
       "Q 997 2584 770 2862 \n",
       "Q 544 3141 544 3541 \n",
       "Q 544 4100 942 4425 \n",
       "Q 1341 4750 2034 4750 \n",
       "Q 2731 4750 3128 4425 \n",
       "Q 3525 4100 3525 3541 \n",
       "Q 3525 3141 3298 2862 \n",
       "Q 3072 2584 2669 2484 \n",
       "Q 3125 2378 3379 2068 \n",
       "Q 3634 1759 3634 1313 \n",
       "Q 3634 634 3220 271 \n",
       "Q 2806 -91 2034 -91 \n",
       "Q 1263 -91 848 271 \n",
       "Q 434 634 434 1313 \n",
       "Q 434 1759 690 2068 \n",
       "Q 947 2378 1403 2484 \n",
       "z\n",
       "M 1172 3481 \n",
       "Q 1172 3119 1398 2916 \n",
       "Q 1625 2713 2034 2713 \n",
       "Q 2441 2713 2670 2916 \n",
       "Q 2900 3119 2900 3481 \n",
       "Q 2900 3844 2670 4047 \n",
       "Q 2441 4250 2034 4250 \n",
       "Q 1625 4250 1398 4047 \n",
       "Q 1172 3844 1172 3481 \n",
       "z\n",
       "&quot;/&gt;&lt;/defs&gt;&lt;use xlink:href=#DejaVuSans-38 /&gt;&lt;use x=63.623047 xlink:href=#DejaVuSans-30 /&gt;&lt;/g&gt;&lt;/g&gt;&lt;/g&gt;&lt;g id=text_12&gt;&lt;g style=fill:#262626; transform=&quot;translate(18.537344 154.611511)rotate(-90)scale(0.11 -0.11)&quot;&gt;&lt;defs&gt;&lt;path id=DejaVuSans-46 transform=scale(0.015625) d=&quot;M 628 4666 \n",
       "L 3309 4666 \n",
       "L 3309 4134 \n",
       "L 1259 4134 \n",
       "L 1259 2759 \n",
       "L 3109 2759 \n",
       "L 3109 2228 \n",
       "L 1259 2228 \n",
       "L 1259 0 \n",
       "L 628 0 \n",
       "L 628 4666 \n",
       "z\n",
       "&quot;/&gt;&lt;path id=DejaVuSans-72 transform=scale(0.015625) d=&quot;M 2631 2963 \n",
       "Q 2534 3019 2420 3045 \n",
       "Q 2306 3072 2169 3072 \n",
       "Q 1681 3072 1420 2755 \n",
       "Q 1159 2438 1159 1844 \n",
       "L 1159 0 \n",
       "L 581 0 \n",
       "L 581 3500 \n",
       "L 1159 3500 \n",
       "L 1159 2956 \n",
       "Q 1341 3275 1631 3429 \n",
       "Q 1922 3584 2338 3584 \n",
       "Q 2397 3584 2469 3576 \n",
       "Q 2541 3569 2628 3553 \n",
       "L 2631 2963 \n",
       "z\n",
       "&quot;/&gt;&lt;path id=DejaVuSans-65 transform=scale(0.015625) d=&quot;M 3597 1894 \n",
       "L 3597 1613 \n",
       "L 953 1613 \n",
       "Q 991 1019 1311 708 \n",
       "Q 1631 397 2203 397 \n",
       "Q 2534 397 2845 478 \n",
       "Q 3156 559 3463 722 \n",
       "L 3463 178 \n",
       "Q 3153 47 2828 -22 \n",
       "Q 2503 -91 2169 -91 \n",
       "Q 1331 -91 842 396 \n",
       "Q 353 884 353 1716 \n",
       "Q 353 2575 817 3079 \n",
       "Q 1281 3584 2069 3584 \n",
       "Q 2775 3584 3186 3129 \n",
       "Q 3597 2675 3597 1894 \n",
       "z\n",
       "M 3022 2063 \n",
       "Q 3016 2534 2758 2815 \n",
       "Q 2500 3097 2075 3097 \n",
       "Q 1594 3097 1305 2825 \n",
       "Q 1016 2553 972 2059 \n",
       "L 3022 2063 \n",
       "z\n",
       "&quot;/&gt;&lt;path id=DejaVuSans-71 transform=scale(0.015625) d=&quot;M 947 1747 \n",
       "Q 947 1113 1208 752 \n",
       "Q 1469 391 1925 391 \n",
       "Q 2381 391 2643 752 \n",
       "Q 2906 1113 2906 1747 \n",
       "Q 2906 2381 2643 2742 \n",
       "Q 2381 3103 1925 3103 \n",
       "Q 1469 3103 1208 2742 \n",
       "Q 947 2381 947 1747 \n",
       "z\n",
       "M 2906 525 \n",
       "Q 2725 213 2448 61 \n",
       "Q 2172 -91 1784 -91 \n",
       "Q 1150 -91 751 415 \n",
       "Q 353 922 353 1747 \n",
       "Q 353 2572 751 3078 \n",
       "Q 1150 3584 1784 3584 \n",
       "Q 2172 3584 2448 3432 \n",
       "Q 2725 3281 2906 2969 \n",
       "L 2906 3500 \n",
       "L 3481 3500 \n",
       "L 3481 -1331 \n",
       "L 2906 -1331 \n",
       "L 2906 525 \n",
       "z\n",
       "&quot;/&gt;&lt;path id=DejaVuSans-75 transform=scale(0.015625) d=&quot;M 544 1381 \n",
       "L 544 3500 \n",
       "L 1119 3500 \n",
       "L 1119 1403 \n",
       "Q 1119 906 1312 657 \n",
       "Q 1506 409 1894 409 \n",
       "Q 2359 409 2629 706 \n",
       "Q 2900 1003 2900 1516 \n",
       "L 2900 3500 \n",
       "L 3475 3500 \n",
       "L 3475 0 \n",
       "L 2900 0 \n",
       "L 2900 538 \n",
       "Q 2691 219 2414 64 \n",
       "Q 2138 -91 1772 -91 \n",
       "Q 1169 -91 856 284 \n",
       "Q 544 659 544 1381 \n",
       "z\n",
       "M 1991 3584 \n",
       "L 1991 3584 \n",
       "z\n",
       "&quot;/&gt;&lt;path id=DejaVuSans-6e transform=scale(0.015625) d=&quot;M 3513 2113 \n",
       "L 3513 0 \n",
       "L 2938 0 \n",
       "L 2938 2094 \n",
       "Q 2938 2591 2744 2837 \n",
       "Q 2550 3084 2163 3084 \n",
       "Q 1697 3084 1428 2787 \n",
       "Q 1159 2491 1159 1978 \n",
       "L 1159 0 \n",
       "L 581 0 \n",
       "L 581 3500 \n",
       "L 1159 3500 \n",
       "L 1159 2956 \n",
       "Q 1366 3272 1645 3428 \n",
       "Q 1925 3584 2291 3584 \n",
       "Q 2894 3584 3203 3211 \n",
       "Q 3513 2838 3513 2113 \n",
       "z\n",
       "&quot;/&gt;&lt;path id=DejaVuSans-63 transform=scale(0.015625) d=&quot;M 3122 3366 \n",
       "L 3122 2828 \n",
       "Q 2878 2963 2633 3030 \n",
       "Q 2388 3097 2138 3097 \n",
       "Q 1578 3097 1268 2742 \n",
       "Q 959 2388 959 1747 \n",
       "Q 959 1106 1268 751 \n",
       "Q 1578 397 2138 397 \n",
       "Q 2388 397 2633 464 \n",
       "Q 2878 531 3122 666 \n",
       "L 3122 134 \n",
       "Q 2881 22 2623 -34 \n",
       "Q 2366 -91 2075 -91 \n",
       "Q 1284 -91 818 406 \n",
       "Q 353 903 353 1747 \n",
       "Q 353 2603 823 3093 \n",
       "Q 1294 3584 2113 3584 \n",
       "Q 2378 3584 2631 3529 \n",
       "Q 2884 3475 3122 3366 \n",
       "z\n",
       "&quot;/&gt;&lt;path id=DejaVuSans-79 transform=scale(0.015625) d=&quot;M 2059 -325 \n",
       "Q 1816 -950 1584 -1140 \n",
       "Q 1353 -1331 966 -1331 \n",
       "L 506 -1331 \n",
       "L 506 -850 \n",
       "L 844 -850 \n",
       "Q 1081 -850 1212 -737 \n",
       "Q 1344 -625 1503 -206 \n",
       "L 1606 56 \n",
       "L 191 3500 \n",
       "L 800 3500 \n",
       "L 1894 763 \n",
       "L 2988 3500 \n",
       "L 3597 3500 \n",
       "L 2059 -325 \n",
       "z\n",
       "&quot;/&gt;&lt;/defs&gt;&lt;use xlink:href=#DejaVuSans-46 /&gt;&lt;use x=50.269531 xlink:href=#DejaVuSans-72 /&gt;&lt;use x=89.132812 xlink:href=#DejaVuSans-65 /&gt;&lt;use x=150.65625 xlink:href=#DejaVuSans-71 /&gt;&lt;use x=214.132812 xlink:href=#DejaVuSans-75 /&gt;&lt;use x=277.511719 xlink:href=#DejaVuSans-65 /&gt;&lt;use x=339.035156 xlink:href=#DejaVuSans-6e /&gt;&lt;use x=402.414062 xlink:href=#DejaVuSans-63 /&gt;&lt;use x=457.394531 xlink:href=#DejaVuSans-79 /&gt;&lt;/g&gt;&lt;/g&gt;&lt;/g&gt;&lt;g id=patch_3&gt;&lt;path clip-path=url(#pe1b76e20a2) style=fill:#337ab7;stroke:#ffffff;stroke-linejoin:miter;stroke-width:0.3; d=&quot;M 65.011364 241.597709 \n",
       "L 71.795909 241.597709 \n",
       "L 71.795909 47.512503 \n",
       "L 65.011364 47.512503 \n",
       "z\n",
       "&quot;/&gt;&lt;/g&gt;&lt;g id=patch_4&gt;&lt;path clip-path=url(#pe1b76e20a2) style=fill:#337ab7;stroke:#ffffff;stroke-linejoin:miter;stroke-width:0.3; d=&quot;M 71.795909 241.597709 \n",
       "L 78.580455 241.597709 \n",
       "L 78.580455 35.820623 \n",
       "L 71.795909 35.820623 \n",
       "z\n",
       "&quot;/&gt;&lt;/g&gt;&lt;g id=patch_5&gt;&lt;path clip-path=url(#pe1b76e20a2) style=fill:#337ab7;stroke:#ffffff;stroke-linejoin:miter;stroke-width:0.3; d=&quot;M 78.580455 241.597709 \n",
       "L 85.365 241.597709 \n",
       "L 85.365 45.174127 \n",
       "L 78.580455 45.174127 \n",
       "z\n",
       "&quot;/&gt;&lt;/g&gt;&lt;g id=patch_6&gt;&lt;path clip-path=url(#pe1b76e20a2) style=fill:#337ab7;stroke:#ffffff;stroke-linejoin:miter;stroke-width:0.3; d=&quot;M 85.365 241.597709 \n",
       "L 92.149545 241.597709 \n",
       "L 92.149545 42.835751 \n",
       "L 85.365 42.835751 \n",
       "z\n",
       "&quot;/&gt;&lt;/g&gt;&lt;g id=patch_7&gt;&lt;path clip-path=url(#pe1b76e20a2) style=fill:#337ab7;stroke:#ffffff;stroke-linejoin:miter;stroke-width:0.3; d=&quot;M 92.149545 241.597709 \n",
       "L 98.934091 241.597709 \n",
       "L 98.934091 56.866007 \n",
       "L 92.149545 56.866007 \n",
       "z\n",
       "&quot;/&gt;&lt;/g&gt;&lt;g id=patch_8&gt;&lt;path clip-path=url(#pe1b76e20a2) style=fill:#337ab7;stroke:#ffffff;stroke-linejoin:miter;stroke-width:0.3; d=&quot;M 98.934091 241.597709 \n",
       "L 105.718636 241.597709 \n",
       "L 105.718636 33.482247 \n",
       "L 98.934091 33.482247 \n",
       "z\n",
       "&quot;/&gt;&lt;/g&gt;&lt;g id=patch_9&gt;&lt;path clip-path=url(#pe1b76e20a2) style=fill:#337ab7;stroke:#ffffff;stroke-linejoin:miter;stroke-width:0.3; d=&quot;M 105.718636 241.597709 \n",
       "L 112.503182 241.597709 \n",
       "L 112.503182 26.467119 \n",
       "L 105.718636 26.467119 \n",
       "z\n",
       "&quot;/&gt;&lt;/g&gt;&lt;g id=patch_10&gt;&lt;path clip-path=url(#pe1b76e20a2) style=fill:#337ab7;stroke:#ffffff;stroke-linejoin:miter;stroke-width:0.3; d=&quot;M 112.503182 241.597709 \n",
       "L 119.287727 241.597709 \n",
       "L 119.287727 49.850879 \n",
       "L 112.503182 49.850879 \n",
       "z\n",
       "&quot;/&gt;&lt;/g&gt;&lt;g id=patch_11&gt;&lt;path clip-path=url(#pe1b76e20a2) style=fill:#337ab7;stroke:#ffffff;stroke-linejoin:miter;stroke-width:0.3; d=&quot;M 119.287727 241.597709 \n",
       "L 126.072273 241.597709 \n",
       "L 126.072273 49.850879 \n",
       "L 119.287727 49.850879 \n",
       "z\n",
       "&quot;/&gt;&lt;/g&gt;&lt;g id=patch_12&gt;&lt;path clip-path=url(#pe1b76e20a2) style=fill:#337ab7;stroke:#ffffff;stroke-linejoin:miter;stroke-width:0.3; d=&quot;M 126.072273 241.597709 \n",
       "L 132.856818 241.597709 \n",
       "L 132.856818 31.143871 \n",
       "L 126.072273 31.143871 \n",
       "z\n",
       "&quot;/&gt;&lt;/g&gt;&lt;g id=patch_13&gt;&lt;path clip-path=url(#pe1b76e20a2) style=fill:#337ab7;stroke:#ffffff;stroke-linejoin:miter;stroke-width:0.3; d=&quot;M 132.856818 241.597709 \n",
       "L 139.641364 241.597709 \n",
       "L 139.641364 54.527631 \n",
       "L 132.856818 54.527631 \n",
       "z\n",
       "&quot;/&gt;&lt;/g&gt;&lt;g id=patch_14&gt;&lt;path clip-path=url(#pe1b76e20a2) style=fill:#337ab7;stroke:#ffffff;stroke-linejoin:miter;stroke-width:0.3; d=&quot;M 139.641364 241.597709 \n",
       "L 146.425909 241.597709 \n",
       "L 146.425909 52.189255 \n",
       "L 139.641364 52.189255 \n",
       "z\n",
       "&quot;/&gt;&lt;/g&gt;&lt;g id=patch_15&gt;&lt;path clip-path=url(#pe1b76e20a2) style=fill:#337ab7;stroke:#ffffff;stroke-linejoin:miter;stroke-width:0.3; d=&quot;M 146.425909 241.597709 \n",
       "L 153.210455 241.597709 \n",
       "L 153.210455 80.249767 \n",
       "L 146.425909 80.249767 \n",
       "z\n",
       "&quot;/&gt;&lt;/g&gt;&lt;g id=patch_16&gt;&lt;path clip-path=url(#pe1b76e20a2) style=fill:#337ab7;stroke:#ffffff;stroke-linejoin:miter;stroke-width:0.3; d=&quot;M 153.210455 241.597709 \n",
       "L 159.995 241.597709 \n",
       "L 159.995 61.542759 \n",
       "L 153.210455 61.542759 \n",
       "z\n",
       "&quot;/&gt;&lt;/g&gt;&lt;g id=patch_17&gt;&lt;path clip-path=url(#pe1b76e20a2) style=fill:#337ab7;stroke:#ffffff;stroke-linejoin:miter;stroke-width:0.3; d=&quot;M 159.995 241.597709 \n",
       "L 166.779545 241.597709 \n",
       "L 166.779545 47.512503 \n",
       "L 159.995 47.512503 \n",
       "z\n",
       "&quot;/&gt;&lt;/g&gt;&lt;g id=patch_18&gt;&lt;path clip-path=url(#pe1b76e20a2) style=fill:#337ab7;stroke:#ffffff;stroke-linejoin:miter;stroke-width:0.3; d=&quot;M 166.779545 241.597709 \n",
       "L 173.564091 241.597709 \n",
       "L 173.564091 45.174127 \n",
       "L 166.779545 45.174127 \n",
       "z\n",
       "&quot;/&gt;&lt;/g&gt;&lt;g id=patch_19&gt;&lt;path clip-path=url(#pe1b76e20a2) style=fill:#337ab7;stroke:#ffffff;stroke-linejoin:miter;stroke-width:0.3; d=&quot;M 173.564091 241.597709 \n",
       "L 180.348636 241.597709 \n",
       "L 180.348636 63.881135 \n",
       "L 173.564091 63.881135 \n",
       "z\n",
       "&quot;/&gt;&lt;/g&gt;&lt;g id=patch_20&gt;&lt;path clip-path=url(#pe1b76e20a2) style=fill:#337ab7;stroke:#ffffff;stroke-linejoin:miter;stroke-width:0.3; d=&quot;M 180.348636 241.597709 \n",
       "L 187.133182 241.597709 \n",
       "L 187.133182 56.866007 \n",
       "L 180.348636 56.866007 \n",
       "z\n",
       "&quot;/&gt;&lt;/g&gt;&lt;g id=patch_21&gt;&lt;path clip-path=url(#pe1b76e20a2) style=fill:#337ab7;stroke:#ffffff;stroke-linejoin:miter;stroke-width:0.3; d=&quot;M 187.133182 241.597709 \n",
       "L 193.917727 241.597709 \n",
       "L 193.917727 21.790367 \n",
       "L 187.133182 21.790367 \n",
       "z\n",
       "&quot;/&gt;&lt;/g&gt;&lt;g id=patch_22&gt;&lt;path clip-path=url(#pe1b76e20a2) style=fill:#337ab7;stroke:#ffffff;stroke-linejoin:miter;stroke-width:0.3; d=&quot;M 193.917727 241.597709 \n",
       "L 200.702273 241.597709 \n",
       "L 200.702273 56.866007 \n",
       "L 193.917727 56.866007 \n",
       "z\n",
       "&quot;/&gt;&lt;/g&gt;&lt;g id=patch_23&gt;&lt;path clip-path=url(#pe1b76e20a2) style=fill:#337ab7;stroke:#ffffff;stroke-linejoin:miter;stroke-width:0.3; d=&quot;M 200.702273 241.597709 \n",
       "L 207.486818 241.597709 \n",
       "L 207.486818 49.850879 \n",
       "L 200.702273 49.850879 \n",
       "z\n",
       "&quot;/&gt;&lt;/g&gt;&lt;g id=patch_24&gt;&lt;path clip-path=url(#pe1b76e20a2) style=fill:#337ab7;stroke:#ffffff;stroke-linejoin:miter;stroke-width:0.3; d=&quot;M 207.486818 241.597709 \n",
       "L 214.271364 241.597709 \n",
       "L 214.271364 61.542759 \n",
       "L 207.486818 61.542759 \n",
       "z\n",
       "&quot;/&gt;&lt;/g&gt;&lt;g id=patch_25&gt;&lt;path clip-path=url(#pe1b76e20a2) style=fill:#337ab7;stroke:#ffffff;stroke-linejoin:miter;stroke-width:0.3; d=&quot;M 214.271364 241.597709 \n",
       "L 221.055909 241.597709 \n",
       "L 221.055909 49.850879 \n",
       "L 214.271364 49.850879 \n",
       "z\n",
       "&quot;/&gt;&lt;/g&gt;&lt;g id=patch_26&gt;&lt;path clip-path=url(#pe1b76e20a2) style=fill:#337ab7;stroke:#ffffff;stroke-linejoin:miter;stroke-width:0.3; d=&quot;M 221.055909 241.597709 \n",
       "L 227.840455 241.597709 \n",
       "L 227.840455 42.835751 \n",
       "L 221.055909 42.835751 \n",
       "z\n",
       "&quot;/&gt;&lt;/g&gt;&lt;g id=patch_27&gt;&lt;path clip-path=url(#pe1b76e20a2) style=fill:#337ab7;stroke:#ffffff;stroke-linejoin:miter;stroke-width:0.3; d=&quot;M 227.840455 241.597709 \n",
       "L 234.625 241.597709 \n",
       "L 234.625 47.512503 \n",
       "L 227.840455 47.512503 \n",
       "z\n",
       "&quot;/&gt;&lt;/g&gt;&lt;g id=patch_28&gt;&lt;path clip-path=url(#pe1b76e20a2) style=fill:#337ab7;stroke:#ffffff;stroke-linejoin:miter;stroke-width:0.3; d=&quot;M 234.625 241.597709 \n",
       "L 241.409545 241.597709 \n",
       "L 241.409545 61.542759 \n",
       "L 234.625 61.542759 \n",
       "z\n",
       "&quot;/&gt;&lt;/g&gt;&lt;g id=patch_29&gt;&lt;path clip-path=url(#pe1b76e20a2) style=fill:#337ab7;stroke:#ffffff;stroke-linejoin:miter;stroke-width:0.3; d=&quot;M 241.409545 241.597709 \n",
       "L 248.194091 241.597709 \n",
       "L 248.194091 54.527631 \n",
       "L 241.409545 54.527631 \n",
       "z\n",
       "&quot;/&gt;&lt;/g&gt;&lt;g id=patch_30&gt;&lt;path clip-path=url(#pe1b76e20a2) style=fill:#337ab7;stroke:#ffffff;stroke-linejoin:miter;stroke-width:0.3; d=&quot;M 248.194091 241.597709 \n",
       "L 254.978636 241.597709 \n",
       "L 254.978636 59.204383 \n",
       "L 248.194091 59.204383 \n",
       "z\n",
       "&quot;/&gt;&lt;/g&gt;&lt;g id=patch_31&gt;&lt;path clip-path=url(#pe1b76e20a2) style=fill:#337ab7;stroke:#ffffff;stroke-linejoin:miter;stroke-width:0.3; d=&quot;M 254.978636 241.597709 \n",
       "L 261.763182 241.597709 \n",
       "L 261.763182 54.527631 \n",
       "L 254.978636 54.527631 \n",
       "z\n",
       "&quot;/&gt;&lt;/g&gt;&lt;g id=patch_32&gt;&lt;path clip-path=url(#pe1b76e20a2) style=fill:#337ab7;stroke:#ffffff;stroke-linejoin:miter;stroke-width:0.3; d=&quot;M 261.763182 241.597709 \n",
       "L 268.547727 241.597709 \n",
       "L 268.547727 54.527631 \n",
       "L 261.763182 54.527631 \n",
       "z\n",
       "&quot;/&gt;&lt;/g&gt;&lt;g id=patch_33&gt;&lt;path clip-path=url(#pe1b76e20a2) style=fill:#337ab7;stroke:#ffffff;stroke-linejoin:miter;stroke-width:0.3; d=&quot;M 268.547727 241.597709 \n",
       "L 275.332273 241.597709 \n",
       "L 275.332273 49.850879 \n",
       "L 268.547727 49.850879 \n",
       "z\n",
       "&quot;/&gt;&lt;/g&gt;&lt;g id=patch_34&gt;&lt;path clip-path=url(#pe1b76e20a2) style=fill:#337ab7;stroke:#ffffff;stroke-linejoin:miter;stroke-width:0.3; d=&quot;M 275.332273 241.597709 \n",
       "L 282.116818 241.597709 \n",
       "L 282.116818 40.497375 \n",
       "L 275.332273 40.497375 \n",
       "z\n",
       "&quot;/&gt;&lt;/g&gt;&lt;g id=patch_35&gt;&lt;path clip-path=url(#pe1b76e20a2) style=fill:#337ab7;stroke:#ffffff;stroke-linejoin:miter;stroke-width:0.3; d=&quot;M 282.116818 241.597709 \n",
       "L 288.901364 241.597709 \n",
       "L 288.901364 52.189255 \n",
       "L 282.116818 52.189255 \n",
       "z\n",
       "&quot;/&gt;&lt;/g&gt;&lt;g id=patch_36&gt;&lt;path clip-path=url(#pe1b76e20a2) style=fill:#337ab7;stroke:#ffffff;stroke-linejoin:miter;stroke-width:0.3; d=&quot;M 288.901364 241.597709 \n",
       "L 295.685909 241.597709 \n",
       "L 295.685909 59.204383 \n",
       "L 288.901364 59.204383 \n",
       "z\n",
       "&quot;/&gt;&lt;/g&gt;&lt;g id=patch_37&gt;&lt;path clip-path=url(#pe1b76e20a2) style=fill:#337ab7;stroke:#ffffff;stroke-linejoin:miter;stroke-width:0.3; d=&quot;M 295.685909 241.597709 \n",
       "L 302.470455 241.597709 \n",
       "L 302.470455 59.204383 \n",
       "L 295.685909 59.204383 \n",
       "z\n",
       "&quot;/&gt;&lt;/g&gt;&lt;g id=patch_38&gt;&lt;path clip-path=url(#pe1b76e20a2) style=fill:#337ab7;stroke:#ffffff;stroke-linejoin:miter;stroke-width:0.3; d=&quot;M 302.470455 241.597709 \n",
       "L 309.255 241.597709 \n",
       "L 309.255 38.158999 \n",
       "L 302.470455 38.158999 \n",
       "z\n",
       "&quot;/&gt;&lt;/g&gt;&lt;g id=patch_39&gt;&lt;path clip-path=url(#pe1b76e20a2) style=fill:#337ab7;stroke:#ffffff;stroke-linejoin:miter;stroke-width:0.3; d=&quot;M 309.255 241.597709 \n",
       "L 316.039545 241.597709 \n",
       "L 316.039545 49.850879 \n",
       "L 309.255 49.850879 \n",
       "z\n",
       "&quot;/&gt;&lt;/g&gt;&lt;g id=patch_40&gt;&lt;path clip-path=url(#pe1b76e20a2) style=fill:#337ab7;stroke:#ffffff;stroke-linejoin:miter;stroke-width:0.3; d=&quot;M 316.039545 241.597709 \n",
       "L 322.824091 241.597709 \n",
       "L 322.824091 35.820623 \n",
       "L 316.039545 35.820623 \n",
       "z\n",
       "&quot;/&gt;&lt;/g&gt;&lt;g id=patch_41&gt;&lt;path clip-path=url(#pe1b76e20a2) style=fill:#337ab7;stroke:#ffffff;stroke-linejoin:miter;stroke-width:0.3; d=&quot;M 322.824091 241.597709 \n",
       "L 329.608636 241.597709 \n",
       "L 329.608636 47.512503 \n",
       "L 322.824091 47.512503 \n",
       "z\n",
       "&quot;/&gt;&lt;/g&gt;&lt;g id=patch_42&gt;&lt;path clip-path=url(#pe1b76e20a2) style=fill:#337ab7;stroke:#ffffff;stroke-linejoin:miter;stroke-width:0.3; d=&quot;M 329.608636 241.597709 \n",
       "L 336.393182 241.597709 \n",
       "L 336.393182 56.866007 \n",
       "L 329.608636 56.866007 \n",
       "z\n",
       "&quot;/&gt;&lt;/g&gt;&lt;g id=patch_43&gt;&lt;path clip-path=url(#pe1b76e20a2) style=fill:#337ab7;stroke:#ffffff;stroke-linejoin:miter;stroke-width:0.3; d=&quot;M 336.393182 241.597709 \n",
       "L 343.177727 241.597709 \n",
       "L 343.177727 63.881135 \n",
       "L 336.393182 63.881135 \n",
       "z\n",
       "&quot;/&gt;&lt;/g&gt;&lt;g id=patch_44&gt;&lt;path clip-path=url(#pe1b76e20a2) style=fill:#337ab7;stroke:#ffffff;stroke-linejoin:miter;stroke-width:0.3; d=&quot;M 343.177727 241.597709 \n",
       "L 349.962273 241.597709 \n",
       "L 349.962273 45.174127 \n",
       "L 343.177727 45.174127 \n",
       "z\n",
       "&quot;/&gt;&lt;/g&gt;&lt;g id=patch_45&gt;&lt;path clip-path=url(#pe1b76e20a2) style=fill:#337ab7;stroke:#ffffff;stroke-linejoin:miter;stroke-width:0.3; d=&quot;M 349.962273 241.597709 \n",
       "L 356.746818 241.597709 \n",
       "L 356.746818 68.557887 \n",
       "L 349.962273 68.557887 \n",
       "z\n",
       "&quot;/&gt;&lt;/g&gt;&lt;g id=patch_46&gt;&lt;path clip-path=url(#pe1b76e20a2) style=fill:#337ab7;stroke:#ffffff;stroke-linejoin:miter;stroke-width:0.3; d=&quot;M 356.746818 241.597709 \n",
       "L 363.531364 241.597709 \n",
       "L 363.531364 42.835751 \n",
       "L 356.746818 42.835751 \n",
       "z\n",
       "&quot;/&gt;&lt;/g&gt;&lt;g id=patch_47&gt;&lt;path clip-path=url(#pe1b76e20a2) style=fill:#337ab7;stroke:#ffffff;stroke-linejoin:miter;stroke-width:0.3; d=&quot;M 363.531364 241.597709 \n",
       "L 370.315909 241.597709 \n",
       "L 370.315909 49.850879 \n",
       "L 363.531364 49.850879 \n",
       "z\n",
       "&quot;/&gt;&lt;/g&gt;&lt;g id=patch_48&gt;&lt;path clip-path=url(#pe1b76e20a2) style=fill:#337ab7;stroke:#ffffff;stroke-linejoin:miter;stroke-width:0.3; d=&quot;M 370.315909 241.597709 \n",
       "L 377.100455 241.597709 \n",
       "L 377.100455 45.174127 \n",
       "L 370.315909 45.174127 \n",
       "z\n",
       "&quot;/&gt;&lt;/g&gt;&lt;g id=patch_49&gt;&lt;path clip-path=url(#pe1b76e20a2) style=fill:#337ab7;stroke:#ffffff;stroke-linejoin:miter;stroke-width:0.3; d=&quot;M 377.100455 241.597709 \n",
       "L 383.885 241.597709 \n",
       "L 383.885 54.527631 \n",
       "L 377.100455 54.527631 \n",
       "z\n",
       "&quot;/&gt;&lt;/g&gt;&lt;g id=patch_50&gt;&lt;path clip-path=url(#pe1b76e20a2) style=fill:#337ab7;stroke:#ffffff;stroke-linejoin:miter;stroke-width:0.3; d=&quot;M 383.885 241.597709 \n",
       "L 390.669545 241.597709 \n",
       "L 390.669545 68.557887 \n",
       "L 383.885 68.557887 \n",
       "z\n",
       "&quot;/&gt;&lt;/g&gt;&lt;g id=patch_51&gt;&lt;path clip-path=url(#pe1b76e20a2) style=fill:#337ab7;stroke:#ffffff;stroke-linejoin:miter;stroke-width:0.3; d=&quot;M 390.669545 241.597709 \n",
       "L 397.454091 241.597709 \n",
       "L 397.454091 59.204383 \n",
       "L 390.669545 59.204383 \n",
       "z\n",
       "&quot;/&gt;&lt;/g&gt;&lt;g id=patch_52&gt;&lt;path clip-path=url(#pe1b76e20a2) style=fill:#337ab7;stroke:#ffffff;stroke-linejoin:miter;stroke-width:0.3; d=&quot;M 397.454091 241.597709 \n",
       "L 404.238636 241.597709 \n",
       "L 404.238636 40.497375 \n",
       "L 397.454091 40.497375 \n",
       "z\n",
       "&quot;/&gt;&lt;/g&gt;&lt;g id=patch_53&gt;&lt;path style=fill:none; d=&quot;M 48.05 241.597709 \n",
       "L 48.05 10.8 \n",
       "&quot;/&gt;&lt;/g&gt;&lt;g id=patch_54&gt;&lt;path style=fill:none; d=&quot;M 421.2 241.597709 \n",
       "L 421.2 10.8 \n",
       "&quot;/&gt;&lt;/g&gt;&lt;g id=patch_55&gt;&lt;path style=fill:none; d=&quot;M 48.05 241.597709 \n",
       "L 421.2 241.597709 \n",
       "&quot;/&gt;&lt;/g&gt;&lt;g id=patch_56&gt;&lt;path style=fill:none; d=&quot;M 48.05 10.8 \n",
       "L 421.2 10.8 \n",
       "&quot;/&gt;&lt;/g&gt;&lt;/g&gt;&lt;/g&gt;&lt;defs&gt;&lt;clippath id=pe1b76e20a2&gt;&lt;rect height=230.797709 width=373.15 x=48.05 y=10.8 /&gt;&lt;/clippath&gt;&lt;/defs&gt;&lt;/svg&gt;&lt;div class=&quot;caption text-center text-muted&quot;&gt;&lt;strong&gt;Histogram with fixed size bins&lt;/strong&gt; (bins=50) &lt;/div&gt;&lt;/div&gt;&lt;div role=tabpanel class=&quot;tab-pane col-sm-12&quot; id=-541142781282690446bottom--541142781282690446common_values&gt;&lt;table class=&quot;freq table table-hover table-striped&quot;&gt;&lt;thead&gt;&lt;tr&gt;&lt;td&gt;Value&lt;/td&gt;&lt;td&gt;Count&lt;/td&gt;&lt;td&gt;Frequency (%)&lt;/td&gt;&lt;/tr&gt;&lt;/thead&gt;&lt;tbody&gt;&lt;tr class&gt;&lt;td title=0&gt;0&lt;/td&gt;&lt;td&gt;1&lt;/td&gt;&lt;td&gt;&lt;div class=bar style=width:0.0%&gt; &amp;nbsp; &lt;/div&gt;&lt; 0.1% &lt;/td&gt;&lt;/tr&gt;&lt;tr class&gt;&lt;td title=1150&gt;1150&lt;/td&gt;&lt;td&gt;1&lt;/td&gt;&lt;td&gt;&lt;div class=bar style=width:0.0%&gt; &amp;nbsp; &lt;/div&gt;&lt; 0.1% &lt;/td&gt;&lt;/tr&gt;&lt;tr class&gt;&lt;td title=1122&gt;1122&lt;/td&gt;&lt;td&gt;1&lt;/td&gt;&lt;td&gt;&lt;div class=bar style=width:0.0%&gt; &amp;nbsp; &lt;/div&gt;&lt; 0.1% &lt;/td&gt;&lt;/tr&gt;&lt;tr class&gt;&lt;td title=1126&gt;1126&lt;/td&gt;&lt;td&gt;1&lt;/td&gt;&lt;td&gt;&lt;div class=bar style=width:0.0%&gt; &amp;nbsp; &lt;/div&gt;&lt; 0.1% &lt;/td&gt;&lt;/tr&gt;&lt;tr class&gt;&lt;td title=3175&gt;3175&lt;/td&gt;&lt;td&gt;1&lt;/td&gt;&lt;td&gt;&lt;div class=bar style=width:0.0%&gt; &amp;nbsp; &lt;/div&gt;&lt; 0.1% &lt;/td&gt;&lt;/tr&gt;&lt;tr class&gt;&lt;td title=1130&gt;1130&lt;/td&gt;&lt;td&gt;1&lt;/td&gt;&lt;td&gt;&lt;div class=bar style=width:0.0%&gt; &amp;nbsp; &lt;/div&gt;&lt; 0.1% &lt;/td&gt;&lt;/tr&gt;&lt;tr class&gt;&lt;td title=3179&gt;3179&lt;/td&gt;&lt;td&gt;1&lt;/td&gt;&lt;td&gt;&lt;div class=bar style=width:0.0%&gt; &amp;nbsp; &lt;/div&gt;&lt; 0.1% &lt;/td&gt;&lt;/tr&gt;&lt;tr class&gt;&lt;td title=1134&gt;1134&lt;/td&gt;&lt;td&gt;1&lt;/td&gt;&lt;td&gt;&lt;div class=bar style=width:0.0%&gt; &amp;nbsp; &lt;/div&gt;&lt; 0.1% &lt;/td&gt;&lt;/tr&gt;&lt;tr class&gt;&lt;td title=3183&gt;3183&lt;/td&gt;&lt;td&gt;1&lt;/td&gt;&lt;td&gt;&lt;div class=bar style=width:0.0%&gt; &amp;nbsp; &lt;/div&gt;&lt; 0.1% &lt;/td&gt;&lt;/tr&gt;&lt;tr class&gt;&lt;td title=1138&gt;1138&lt;/td&gt;&lt;td&gt;1&lt;/td&gt;&lt;td&gt;&lt;div class=bar style=width:0.0%&gt; &amp;nbsp; &lt;/div&gt;&lt; 0.1% &lt;/td&gt;&lt;/tr&gt;&lt;tr class=other&gt;&lt;td title=&quot;Other values (4077)&quot;&gt;Other values (4077)&lt;/td&gt;&lt;td&gt;4077&lt;/td&gt;&lt;td&gt;&lt;div class=bar style=width:100.0%&gt; 99.8% &lt;/div&gt;&lt;/td&gt;&lt;/tr&gt;&lt;/tbody&gt;&lt;/table&gt;&lt;/div&gt;&lt;div role=tabpanel class=&quot;tab-pane col-sm-12&quot; id=-541142781282690446bottom--541142781282690446extreme_values&gt;&lt;div class=&quot;row spacing&quot;&gt;&lt;ul class=&quot;nav nav-tabs&quot; role=tablist&gt;&lt;li role=presentation class=active&gt;&lt;a href=#-541142781282690446extreme_values--541142781282690446firstn aria-controls=-541142781282690446extreme_values--541142781282690446firstn role=tab data-toggle=tab&gt;Minimum 5 values&lt;/a&gt;&lt;/li&gt;&lt;li role=presentation&gt;&lt;a href=#-541142781282690446extreme_values--541142781282690446lastn aria-controls=-541142781282690446extreme_values--541142781282690446lastn role=tab data-toggle=tab&gt;Maximum 5 values&lt;/a&gt;&lt;/li&gt;&lt;/ul&gt;&lt;div class=tab-content&gt;&lt;div role=tabpanel class=&quot;tab-pane col-sm-12 active&quot; id=-541142781282690446extreme_values--541142781282690446firstn&gt;&lt;table class=&quot;freq table table-hover table-striped&quot;&gt;&lt;thead&gt;&lt;tr&gt;&lt;td&gt;Value&lt;/td&gt;&lt;td&gt;Count&lt;/td&gt;&lt;td&gt;Frequency (%)&lt;/td&gt;&lt;/tr&gt;&lt;/thead&gt;&lt;tbody&gt;&lt;tr class&gt;&lt;td title=0&gt;0&lt;/td&gt;&lt;td&gt;1&lt;/td&gt;&lt;td&gt;&lt;div class=bar style=width:100.0%&gt;&lt; 0.1% &lt;/div&gt;&lt;/td&gt;&lt;/tr&gt;&lt;tr class&gt;&lt;td title=1&gt;1&lt;/td&gt;&lt;td&gt;1&lt;/td&gt;&lt;td&gt;&lt;div class=bar style=width:100.0%&gt;&lt; 0.1% &lt;/div&gt;&lt;/td&gt;&lt;/tr&gt;&lt;tr class&gt;&lt;td title=2&gt;2&lt;/td&gt;&lt;td&gt;1&lt;/td&gt;&lt;td&gt;&lt;div class=bar style=width:100.0%&gt;&lt; 0.1% &lt;/div&gt;&lt;/td&gt;&lt;/tr&gt;&lt;tr class&gt;&lt;td title=3&gt;3&lt;/td&gt;&lt;td&gt;1&lt;/td&gt;&lt;td&gt;&lt;div class=bar style=width:100.0%&gt;&lt; 0.1% &lt;/div&gt;&lt;/td&gt;&lt;/tr&gt;&lt;tr class&gt;&lt;td title=4&gt;4&lt;/td&gt;&lt;td&gt;1&lt;/td&gt;&lt;td&gt;&lt;div class=bar style=width:100.0%&gt;&lt; 0.1% &lt;/div&gt;&lt;/td&gt;&lt;/tr&gt;&lt;/tbody&gt;&lt;/table&gt;&lt;/div&gt;&lt;div role=tabpanel class=&quot;tab-pane col-sm-12&quot; id=-541142781282690446extreme_values--541142781282690446lastn&gt;&lt;table class=&quot;freq table table-hover table-striped&quot;&gt;&lt;thead&gt;&lt;tr&gt;&lt;td&gt;Value&lt;/td&gt;&lt;td&gt;Count&lt;/td&gt;&lt;td&gt;Frequency (%)&lt;/td&gt;&lt;/tr&gt;&lt;/thead&gt;&lt;tbody&gt;&lt;tr class&gt;&lt;td title=5108&gt;5108&lt;/td&gt;&lt;td&gt;1&lt;/td&gt;&lt;td&gt;&lt;div class=bar style=width:100.0%&gt;&lt; 0.1% &lt;/div&gt;&lt;/td&gt;&lt;/tr&gt;&lt;tr class&gt;&lt;td title=5107&gt;5107&lt;/td&gt;&lt;td&gt;1&lt;/td&gt;&lt;td&gt;&lt;div class=bar style=width:100.0%&gt;&lt; 0.1% &lt;/div&gt;&lt;/td&gt;&lt;/tr&gt;&lt;tr class&gt;&lt;td title=5105&gt;5105&lt;/td&gt;&lt;td&gt;1&lt;/td&gt;&lt;td&gt;&lt;div class=bar style=width:100.0%&gt;&lt; 0.1% &lt;/div&gt;&lt;/td&gt;&lt;/tr&gt;&lt;tr class&gt;&lt;td title=5104&gt;5104&lt;/td&gt;&lt;td&gt;1&lt;/td&gt;&lt;td&gt;&lt;div class=bar style=width:100.0%&gt;&lt; 0.1% &lt;/div&gt;&lt;/td&gt;&lt;/tr&gt;&lt;tr class&gt;&lt;td title=5103&gt;5103&lt;/td&gt;&lt;td&gt;1&lt;/td&gt;&lt;td&gt;&lt;div class=bar style=width:100.0%&gt;&lt; 0.1% &lt;/div&gt;&lt;/td&gt;&lt;/tr&gt;&lt;/tbody&gt;&lt;/table&gt;&lt;/div&gt;&lt;/div&gt;&lt;/div&gt;&lt;/div&gt;&lt;/div&gt;&lt;/div&gt;&lt;/div&gt;&lt;/div&gt;&lt;/div&gt;&lt;div class=&quot;row spacing&quot;&gt;&lt;a class=&quot;anchor-pos anchor-pos-variable&quot; id=pp_var_-2872326538128961258&gt;&lt;/a&gt;&lt;div class=variable&gt;&lt;div class=col-sm-3&gt;&lt;p class=h4 title=description&gt;&lt;a href=#pp_var_-2872326538128961258&gt;description&lt;/a&gt;&lt;br&gt;&lt;small&gt;Categorical&lt;/small&gt;&lt;/p&gt;&lt;code&gt;HIGH CARDINALITY&lt;/code&gt;&lt;br&gt;&lt;code&gt;UNIQUE&lt;/code&gt;&lt;br&gt;&lt;p class=variable-description&gt;&lt;/p&gt;&lt;/div&gt;&lt;div class=col-sm-3&gt;&lt;table class=&quot;table table-condensed stats&quot;&gt;&lt;tbody&gt;&lt;tr class=alert&gt;&lt;th&gt;Distinct&lt;/th&gt;&lt;td&gt;4087&lt;/td&gt;&lt;/tr&gt;&lt;tr class=alert&gt;&lt;th&gt;Distinct (%)&lt;/th&gt;&lt;td&gt;100.0%&lt;/td&gt;&lt;/tr&gt;&lt;tr&gt;&lt;th&gt;Missing&lt;/th&gt;&lt;td&gt;0&lt;/td&gt;&lt;/tr&gt;&lt;tr&gt;&lt;th&gt;Missing (%)&lt;/th&gt;&lt;td&gt;0.0%&lt;/td&gt;&lt;/tr&gt;&lt;tr&gt;&lt;th&gt;Memory size&lt;/th&gt;&lt;td&gt;32.1 KiB&lt;/td&gt;&lt;/tr&gt;&lt;/tbody&gt;&lt;/table&gt;&lt;/div&gt;&lt;div class=col-sm-6&gt;&lt;div class=&quot;col-sm- collapse in&quot; id=minifreqtable&gt;&lt;table class=&quot;mini freq&quot;&gt;&lt;tr class&gt;&lt;th width=50%&gt; This cask strength, port cask-aged whisky comes from an undisclosed distillery near Aberlour. The impact of the port cask is unmistakable, with a nose that is deeply fruity with dried apricot, blackberry jam, honey, and malt. On the palate these rich sweet fruit notes are well balanced by black pepper, clove, salt, honey, and a touch of dark chocolate. The underlying proof also helps counterbalance the sweet fruit and drives a medium length and slightly dry finish. (U.S. only) &lt;/th&gt;&lt;td width=50%&gt;&lt;div class=bar style=width:0.0% data-toggle=tooltip data-placement=right data-html=true data-delay=500&gt; &amp;nbsp; &lt;/div&gt; 1 &lt;/td&gt;&lt;/tr&gt;&lt;tr class&gt;&lt;th width=50%&gt; When in doubt, the answer to any question is usually ‘more whisky.’ Here, peat smoke takes an upper hand over the sweet aromas of juicy orange and pear. The whisky begins icing-sugar sweet, settles to bubble gum, pear, apple, and malt, showing its impeccably balanced, finely textured character replete with strands of oak spices, gentle smoke, baked pastry, and vanilla custard. You can’t go wrong at this price. &lt;/th&gt;&lt;td width=50%&gt;&lt;div class=bar style=width:0.0% data-toggle=tooltip data-placement=right data-html=true data-delay=500&gt; &amp;nbsp; &lt;/div&gt; 1 &lt;/td&gt;&lt;/tr&gt;&lt;tr class&gt;&lt;th width=50%&gt; This is the first expression from Glen Garioch to have been fully matured in wine casks, specifically tonneaux de vin rouge barriques from Saint-Julien in Bordeaux. The whisky was distilled on June 23rd, 1998, and spent over 15 years in the Bordeaux wood. Milk chocolate-coated caramels, crystallized ginger, and cranberries on the nose. Autumn berries on the early palate, turning to cough syrup, with rich malt and lively chocolate spiciness. Caramel merges with white pepper in the relatively long finish. &lt;/th&gt;&lt;td width=50%&gt;&lt;div class=bar style=width:0.0% data-toggle=tooltip data-placement=right data-html=true data-delay=500&gt; &amp;nbsp; &lt;/div&gt; 1 &lt;/td&gt;&lt;/tr&gt;&lt;tr class&gt;&lt;th width=50%&gt; A quintet of releases showing examples of The Glenlivet from five decades, issued to support The Glenlivet Generations 70 year old bottling. All are available individually or in a limited edition set (50 only) for £2,850; these bottlings are not currently available in the U.S. The nose immediately betrays the fact that this has been matured in a first-fill sherry hogshead. It’s akin to an artisan’s workshop, all leather oil and strange resins. There’s an intriguing hint of curry spices and truffle, but all in all this is about density, black fruits (damson), allspice, and clove. The cask is in charge. The palate has more tannin than you perhaps want — powerful and grippy with lots of nut and tea-like tannins; too grippy for me. £500 &lt;/th&gt;&lt;td width=50%&gt;&lt;div class=bar style=width:0.0% data-toggle=tooltip data-placement=right data-html=true data-delay=500&gt; &amp;nbsp; &lt;/div&gt; 1 &lt;/td&gt;&lt;/tr&gt;&lt;tr class&gt;&lt;th width=50%&gt; A blend of 9 to 14 year old bourbons from Tennessee and Kentucky. A generous and perfumy nose of dusty spice, peanut brittle, cherry candy, orange, cola, molasses, and roasted grain. Full and rich in the mouth, with fruit leather, blueberry-pomegranate juice, orange oil, ginger, pepper, dark chocolate, cola, molasses, and coconut. The finish is lengthy and superb: horehound candy, white pepper, dark chocolate-covered blueberries, and silky yet racy oak. &lt;/th&gt;&lt;td width=50%&gt;&lt;div class=bar style=width:0.0% data-toggle=tooltip data-placement=right data-html=true data-delay=500&gt; &amp;nbsp; &lt;/div&gt; 1 &lt;/td&gt;&lt;/tr&gt;&lt;tr class=other&gt;&lt;th width=50%&gt; Other values (4082) &lt;/th&gt;&lt;td width=50%&gt;&lt;div class=bar style=width:100.0% data-toggle=tooltip data-placement=right data-html=true data-delay=500&gt; 4082&amp;nbsp; &lt;/div&gt;&lt;/td&gt;&lt;/tr&gt;&lt;/table&gt;&lt;/div&gt;&lt;/div&gt;&lt;div class=&quot;col-sm-12 text-right&quot;&gt;&lt;button class=&quot;btn btn-default btn-sm&quot; data-toggle=collapse data-target=&quot;#bottom--2872326538128961258, #minifreqtable-2872326538128961258&quot; aria-expanded=true aria-controls=collapseExample&gt;Toggle details&lt;/button&gt;&lt;/div&gt;&lt;div id=bottom--2872326538128961258 class=collapse&gt;&lt;div class=&quot;row spacing&quot;&gt;&lt;ul class=&quot;nav nav-tabs&quot; role=tablist&gt;&lt;li role=presentation class=active&gt;&lt;a href=#-2872326538128961258bottom--2872326538128961258overview aria-controls=-2872326538128961258bottom--2872326538128961258overview role=tab data-toggle=tab&gt;Overview&lt;/a&gt;&lt;/li&gt;&lt;li role=presentation&gt;&lt;a href=#-2872326538128961258bottom--2872326538128961258string aria-controls=-2872326538128961258bottom--2872326538128961258string role=tab data-toggle=tab&gt;Categories&lt;/a&gt;&lt;/li&gt;&lt;/ul&gt;&lt;div class=tab-content&gt;&lt;div role=tabpanel class=&quot;tab-pane col-sm-12 active&quot; id=-2872326538128961258bottom--2872326538128961258overview&gt;&lt;div class=row&gt;&lt;div class=col-sm-6&gt;&lt;p class=h4&gt;Unique&lt;/p&gt;&lt;table class=&quot;table table-condensed stats&quot;&gt;&lt;tbody&gt;&lt;tr class=alert&gt;&lt;th&gt;Unique&lt;/th&gt;&lt;td&gt;4087 &lt;span class=&quot;badge pull-right&quot; style=color:#fff;background-color:#337ab7; title=&quot;The number of unique values (all values that occur exactly once in the dataset).&quot;&gt;?&lt;/span&gt;&lt;/td&gt;&lt;/tr&gt;&lt;tr class=alert&gt;&lt;th&gt;Unique (%)&lt;/th&gt;&lt;td&gt;100.0%&lt;/td&gt;&lt;/tr&gt;&lt;/tbody&gt;&lt;/table&gt;&lt;/div&gt;&lt;div class=col-sm-6&gt;&lt;p class=h4&gt;Sample&lt;/p&gt;&lt;table class=&quot;table table-condensed stats&quot;&gt;&lt;tbody&gt;&lt;tr&gt;&lt;th&gt;1st row&lt;/th&gt;&lt;td&gt; Sometimes, when whisky is batched, a few leftover barrels are returned to the warehouse. Canadian Club recently pulled and vatted several of these from the 1970s. Acetone, Granny Smith apples, and fresh-cut white cedar showcase this long age. Complex and spicy, yet reserved, this dram is ripe with strawberries, canned pears, cloves, pepper, and faint flowers, then slightly pulling oak tannins. Distinct, elegant, and remarkably vibrant, this ancient Canadian Club is anything but tired. (Australia only) A$133&lt;/td&gt;&lt;/tr&gt;&lt;tr&gt;&lt;th&gt;2nd row&lt;/th&gt;&lt;td&gt; An uncommon exclusive bottling of a 6 year old cask strength malt. Light gold in color, the nose is vegetal, more peat bog than peat smoke, with an undercurrent of pastry cream and rose. It’s an odd combination of aromas. The entry is flavorful and inviting with smoked pineapple, clove, and rose. Peak smoke arrives in full force in the mid-palate, which drops the sweet and becomes spicy. The finish is mostly smoke, but with a pleasant minty coolness.  (Wyoming only)&lt;/td&gt;&lt;/tr&gt;&lt;tr&gt;&lt;th&gt;3rd row&lt;/th&gt;&lt;td&gt; This release is a port version of Amrut’s Intermediate Sherry — a sort of port pipe sandwich. The spirit is matured in both unused casks and bourbon casks, then spends a few months in port pipes, and then returns to bourbon casks. The result is a Pink Floyd show of a whisky: vibrant, colorful, complex, and nearly too much. A blackcurrant and wispy, smoky nose gives way to an intense and bittersweet mix of chili, blackcurrant, oak, damson, dark chocolate, and peat. Astounding. &lt;/td&gt;&lt;/tr&gt;&lt;tr&gt;&lt;th&gt;4th row&lt;/th&gt;&lt;td&gt; This 41 year old single cask was aged in a sherry butt and interacted magnificently with that wood. The nose offers peeled red apples, sultanas, honey, fudge, milk chocolate, and American cream soda. Balanced and harmonious throughout, the palate yields remarkably fresh orchard fruits, pipe tobacco, black pepper, and ginger. Long in the finish, with cinnamon drying to dark chocolate, and slightly smoky, unobtrusively tannic oak. A 1970s classic!&lt;/td&gt;&lt;/tr&gt;&lt;tr&gt;&lt;th&gt;5th row&lt;/th&gt;&lt;td&gt; Quite herbal on the nose, with aromas of dried tarragon, parsley, and dill, along with cherry, milk chocolate, orange blossom, vanilla bean, and sweet tea. The palate is slightly grain-forward, but is full and well balanced, with orange, dried flowers, chamomile tea, lemon rind, and ginger. The finish offers cinnamon and milk chocolate against a note of candied lemon. Youthful and barrel-influenced, but admirably executed.&lt;/td&gt;&lt;/tr&gt;&lt;/tbody&gt;&lt;/table&gt;&lt;/div&gt;&lt;/div&gt;&lt;/div&gt;&lt;div role=tabpanel class=&quot;tab-pane col-sm-12&quot; id=-2872326538128961258bottom--2872326538128961258string&gt;&lt;div class=row&gt;&lt;div class=col-sm-12&gt;&lt;h4&gt;Common Values&lt;/h4&gt;&lt;table class=&quot;freq table table-hover table-striped&quot;&gt;&lt;thead&gt;&lt;tr&gt;&lt;td&gt;Value&lt;/td&gt;&lt;td&gt;Count&lt;/td&gt;&lt;td&gt;Frequency (%)&lt;/td&gt;&lt;/tr&gt;&lt;/thead&gt;&lt;tbody&gt;&lt;tr class&gt;&lt;td title=&quot;\n",
       "This cask strength, port cask-aged whisky comes from an undisclosed distillery near Aberlour. The impact of the port cask is unmistakable, with a nose that is deeply fruity with dried apricot, blackberry jam, honey, and malt. On the palate these rich sweet fruit notes are well balanced by black pepper, clove, salt, honey, and a touch of dark chocolate. The underlying proof also helps counterbalance the sweet fruit and drives a medium length and slightly dry finish. (U.S. only)&quot;&gt; This cask strength, port cask-aged whisky comes from an undisclosed distillery near Aberlour. The impact of the port cask is unmistakable, with a nose that is deeply fruity with dried apricot, blackberry jam, honey, and malt. On the palate these rich sweet fruit notes are well balanced by black pepper, clove, salt, honey, and a touch of dark chocolate. The underlying proof also helps counterbalance the sweet fruit and drives a medium length and slightly dry finish. (U.S. only)&lt;/td&gt;&lt;td&gt;1&lt;/td&gt;&lt;td&gt;&lt;div class=bar style=width:0.0%&gt; &amp;nbsp; &lt;/div&gt;&lt; 0.1% &lt;/td&gt;&lt;/tr&gt;&lt;tr class&gt;&lt;td title=&quot;\n",
       "When in doubt, the answer to any question is usually ‘more whisky.’ Here, peat smoke takes an upper hand over the sweet aromas of juicy orange and pear. The whisky begins icing-sugar sweet, settles to bubble gum, pear, apple, and malt, showing its impeccably balanced, finely textured character replete with strands of oak spices, gentle smoke, baked pastry, and vanilla custard. You can’t go wrong at this price.&quot;&gt; When in doubt, the answer to any question is usually ‘more whisky.’ Here, peat smoke takes an upper hand over the sweet aromas of juicy orange and pear. The whisky begins icing-sugar sweet, settles to bubble gum, pear, apple, and malt, showing its impeccably balanced, finely textured character replete with strands of oak spices, gentle smoke, baked pastry, and vanilla custard. You can’t go wrong at this price.&lt;/td&gt;&lt;td&gt;1&lt;/td&gt;&lt;td&gt;&lt;div class=bar style=width:0.0%&gt; &amp;nbsp; &lt;/div&gt;&lt; 0.1% &lt;/td&gt;&lt;/tr&gt;&lt;tr class&gt;&lt;td title=&quot;\n",
       "This is the first expression from Glen Garioch to have been fully matured in wine casks, specifically tonneaux de vin rouge barriques from Saint-Julien in Bordeaux. The whisky was distilled on June 23rd, 1998, and spent over 15 years in the Bordeaux wood. Milk chocolate-coated caramels, crystallized ginger, and cranberries on the nose. Autumn berries on the early palate, turning to cough syrup, with rich malt and lively chocolate spiciness. Caramel merges with white pepper in the relatively long finish.&quot;&gt; This is the first expression from Glen Garioch to have been fully matured in wine casks, specifically tonneaux de vin rouge barriques from Saint-Julien in Bordeaux. The whisky was distilled on June 23rd, 1998, and spent over 15 years in the Bordeaux wood. Milk chocolate-coated caramels, crystallized ginger, and cranberries on the nose. Autumn berries on the early palate, turning to cough syrup, with rich malt and lively chocolate spiciness. Caramel merges with white pepper in the relatively long finish.&lt;/td&gt;&lt;td&gt;1&lt;/td&gt;&lt;td&gt;&lt;div class=bar style=width:0.0%&gt; &amp;nbsp; &lt;/div&gt;&lt; 0.1% &lt;/td&gt;&lt;/tr&gt;&lt;tr class&gt;&lt;td title=&quot;\n",
       "A quintet of releases showing examples of The Glenlivet from five decades, issued to support The Glenlivet Generations 70 year old bottling. All are available individually or in a limited edition set (50 only) for £2,850; these bottlings are not currently available in the U.S. The nose immediately betrays the fact that this has been matured in a first-fill sherry hogshead. It’s akin to an artisan’s workshop, all leather oil and strange resins. There’s an intriguing hint of curry spices and truffle, but all in all this is about density, black fruits (damson), allspice, and clove. The cask is in charge. The palate has more tannin than you perhaps want — powerful and grippy with lots of nut and tea-like tannins; too grippy for me. £500&quot;&gt; A quintet of releases showing examples of The Glenlivet from five decades, issued to support The Glenlivet Generations 70 year old bottling. All are available individually or in a limited edition set (50 only) for £2,850; these bottlings are not currently available in the U.S. The nose immediately betrays the fact that this has been matured in a first-fill sherry hogshead. It’s akin to an artisan’s workshop, all leather oil and strange resins. There’s an intriguing hint of curry spices and truffle, but all in all this is about density, black fruits (damson), allspice, and clove. The cask is in charge. The palate has more tannin than you perhaps want — powerful and grippy with lots of nut and tea-like tannins; too grippy for me. £500&lt;/td&gt;&lt;td&gt;1&lt;/td&gt;&lt;td&gt;&lt;div class=bar style=width:0.0%&gt; &amp;nbsp; &lt;/div&gt;&lt; 0.1% &lt;/td&gt;&lt;/tr&gt;&lt;tr class&gt;&lt;td title=&quot;\n",
       "A blend of 9 to 14 year old bourbons from Tennessee and Kentucky. A generous and perfumy nose of dusty spice, peanut brittle, cherry candy, orange, cola, molasses, and roasted grain. Full and rich in the mouth, with fruit leather, blueberry-pomegranate juice, orange oil, ginger, pepper, dark chocolate, cola, molasses, and coconut. The finish is lengthy and superb: horehound candy, white pepper, dark chocolate-covered blueberries, and silky yet racy oak.&quot;&gt; A blend of 9 to 14 year old bourbons from Tennessee and Kentucky. A generous and perfumy nose of dusty spice, peanut brittle, cherry candy, orange, cola, molasses, and roasted grain. Full and rich in the mouth, with fruit leather, blueberry-pomegranate juice, orange oil, ginger, pepper, dark chocolate, cola, molasses, and coconut. The finish is lengthy and superb: horehound candy, white pepper, dark chocolate-covered blueberries, and silky yet racy oak.&lt;/td&gt;&lt;td&gt;1&lt;/td&gt;&lt;td&gt;&lt;div class=bar style=width:0.0%&gt; &amp;nbsp; &lt;/div&gt;&lt; 0.1% &lt;/td&gt;&lt;/tr&gt;&lt;tr class&gt;&lt;td title=&quot;\n",
       "An aperitif-style aged Irish whiskey which plays in harmony with the fresh American oak bourbon casks. A light, fragrant nose of spring blossoms, waxed lemons, cinnamon sticks, pears in golden syrup, marshmallows, and fresh laundry. There is decent weight and structure here. Sharp acidity of peel scattered over lemon meringue pie, cinnamon, black pepper, and a finish of creamy fudge dipped in milk chocolate. Water pries open a hitherto-hidden waxy consistency (6,000 bottles released)&quot;&gt; An aperitif-style aged Irish whiskey which plays in harmony with the fresh American oak bourbon casks. A light, fragrant nose of spring blossoms, waxed lemons, cinnamon sticks, pears in golden syrup, marshmallows, and fresh laundry. There is decent weight and structure here. Sharp acidity of peel scattered over lemon meringue pie, cinnamon, black pepper, and a finish of creamy fudge dipped in milk chocolate. Water pries open a hitherto-hidden waxy consistency (6,000 bottles released)&lt;/td&gt;&lt;td&gt;1&lt;/td&gt;&lt;td&gt;&lt;div class=bar style=width:0.0%&gt; &amp;nbsp; &lt;/div&gt;&lt; 0.1% &lt;/td&gt;&lt;/tr&gt;&lt;tr class&gt;&lt;td title=&quot;\n",
       "An alluring and inviting nose promises sweet tea, mint, dill, and a full Thanksgiving dessert spread. The palate delivers, with flavors of blueberry crumble, cherry tart, and candied ginger. The juicy spice is counterbalanced by oak that’s slightly too bitter and tannic, with notes of dry walnuts and chili powder. But a warm, spicy, and rounded finish helps bring the whiskey home. Empire rye&quot;&gt; An alluring and inviting nose promises sweet tea, mint, dill, and a full Thanksgiving dessert spread. The palate delivers, with flavors of blueberry crumble, cherry tart, and candied ginger. The juicy spice is counterbalanced by oak that’s slightly too bitter and tannic, with notes of dry walnuts and chili powder. But a warm, spicy, and rounded finish helps bring the whiskey home. Empire rye&lt;/td&gt;&lt;td&gt;1&lt;/td&gt;&lt;td&gt;&lt;div class=bar style=width:0.0%&gt; &amp;nbsp; &lt;/div&gt;&lt; 0.1% &lt;/td&gt;&lt;/tr&gt;&lt;tr class&gt;&lt;td title=&quot;\n",
       "A polished nose of red apple, cinnamon, caramels, and salted almonds makes for an enticing prospect on this showpiece dram. The taste exemplifies smoothness. The indulgent palate comprises dark cooked fruits, coffee, malty cocoa, sticky toffee pudding, fudge, and a fine line of orange. Roll it around the mouth: the integrated aged grains enable these select malts to achieve their full flavor potential. An exceptionally long finish has remnants of that toffee pudding and a well-sucked aniseed ball. Treat yourself.&quot;&gt; A polished nose of red apple, cinnamon, caramels, and salted almonds makes for an enticing prospect on this showpiece dram. The taste exemplifies smoothness. The indulgent palate comprises dark cooked fruits, coffee, malty cocoa, sticky toffee pudding, fudge, and a fine line of orange. Roll it around the mouth: the integrated aged grains enable these select malts to achieve their full flavor potential. An exceptionally long finish has remnants of that toffee pudding and a well-sucked aniseed ball. Treat yourself.&lt;/td&gt;&lt;td&gt;1&lt;/td&gt;&lt;td&gt;&lt;div class=bar style=width:0.0%&gt; &amp;nbsp; &lt;/div&gt;&lt; 0.1% &lt;/td&gt;&lt;/tr&gt;&lt;tr class&gt;&lt;td title=&quot;\n",
       "Maturation of the Pentland Skerries bottling of the Lighthouse Collection has taken place exclusively in former Spanish sherry casks, which lends the nose rich, dark sherry and Christmas cake notes, caramel and old leather, along with the distillery’s characteristic saltiness, which here comes across as salted peanuts. Full-bodied and slick in the mouth, overt sherry, sultanas, figs, spice, and contrasting brine. Mild maritime notes and autumn fruits combine with prunes and sherry in an accomplished, after-dinner finish. £55/liter&quot;&gt; Maturation of the Pentland Skerries bottling of the Lighthouse Collection has taken place exclusively in former Spanish sherry casks, which lends the nose rich, dark sherry and Christmas cake notes, caramel and old leather, along with the distillery’s characteristic saltiness, which here comes across as salted peanuts. Full-bodied and slick in the mouth, overt sherry, sultanas, figs, spice, and contrasting brine. Mild maritime notes and autumn fruits combine with prunes and sherry in an accomplished, after-dinner finish. £55/liter&lt;/td&gt;&lt;td&gt;1&lt;/td&gt;&lt;td&gt;&lt;div class=bar style=width:0.0%&gt; &amp;nbsp; &lt;/div&gt;&lt; 0.1% &lt;/td&gt;&lt;/tr&gt;&lt;tr class&gt;&lt;td title=&quot;\n",
       "The dance begins in the open barley fields, with a gust of wind catching grain’s natural aromatic presence. Then cherry blossoms and roasted pine nuts tango for dominance, just before the core notes kick in: caramel chew, malt, cornbread, brown sugar, and chocolate, followed by hints of molasses, cardamom, and gingersnaps. As the finish lingers, it’s clear that this is sippin’ whiskey.&quot;&gt; The dance begins in the open barley fields, with a gust of wind catching grain’s natural aromatic presence. Then cherry blossoms and roasted pine nuts tango for dominance, just before the core notes kick in: caramel chew, malt, cornbread, brown sugar, and chocolate, followed by hints of molasses, cardamom, and gingersnaps. As the finish lingers, it’s clear that this is sippin’ whiskey.&lt;/td&gt;&lt;td&gt;1&lt;/td&gt;&lt;td&gt;&lt;div class=bar style=width:0.0%&gt; &amp;nbsp; &lt;/div&gt;&lt; 0.1% &lt;/td&gt;&lt;/tr&gt;&lt;tr class=other&gt;&lt;td title=&quot;Other values (4077)&quot;&gt;Other values (4077)&lt;/td&gt;&lt;td&gt;4077&lt;/td&gt;&lt;td&gt;&lt;div class=bar style=width:100.0%&gt; 99.8% &lt;/div&gt;&lt;/td&gt;&lt;/tr&gt;&lt;/tbody&gt;&lt;/table&gt;&lt;/div&gt;&lt;/div&gt;&lt;/div&gt;&lt;/div&gt;&lt;/div&gt;&lt;/div&gt;&lt;/div&gt;&lt;/div&gt;&lt;div class=&quot;row spacing&quot;&gt;&lt;a class=&quot;anchor-pos anchor-pos-variable&quot; id=pp_var_-5188386888090162189&gt;&lt;/a&gt;&lt;div class=variable&gt;&lt;div class=col-sm-3&gt;&lt;p class=h4 title=ratingCategory&gt;&lt;a href=#pp_var_-5188386888090162189&gt;ratingCategory&lt;/a&gt;&lt;br&gt;&lt;small&gt;Real number (&amp;Ropf;&lt;sub&gt;&amp;ge;0&lt;/sub&gt;)&lt;/small&gt;&lt;/p&gt;&lt;code&gt;ZEROS&lt;/code&gt;&lt;br&gt;&lt;p class=variable-description&gt;&lt;/p&gt;&lt;/div&gt;&lt;div class=col-sm-3&gt;&lt;table class=&quot;table table-condensed stats&quot;&gt;&lt;tbody&gt;&lt;tr&gt;&lt;th&gt;Distinct&lt;/th&gt;&lt;td&gt;3&lt;/td&gt;&lt;/tr&gt;&lt;tr&gt;&lt;th&gt;Distinct (%)&lt;/th&gt;&lt;td&gt;0.1%&lt;/td&gt;&lt;/tr&gt;&lt;tr&gt;&lt;th&gt;Missing&lt;/th&gt;&lt;td&gt;0&lt;/td&gt;&lt;/tr&gt;&lt;tr&gt;&lt;th&gt;Missing (%)&lt;/th&gt;&lt;td&gt;0.0%&lt;/td&gt;&lt;/tr&gt;&lt;tr&gt;&lt;th&gt;Infinite&lt;/th&gt;&lt;td&gt;0&lt;/td&gt;&lt;/tr&gt;&lt;tr&gt;&lt;th&gt;Infinite (%)&lt;/th&gt;&lt;td&gt;0.0%&lt;/td&gt;&lt;/tr&gt;&lt;tr&gt;&lt;th&gt;Mean&lt;/th&gt;&lt;td&gt;0.736726205&lt;/td&gt;&lt;/tr&gt;&lt;/tbody&gt;&lt;/table&gt;&lt;/div&gt;&lt;div class=col-sm-3&gt;&lt;table class=&quot;table table-condensed stats&quot;&gt;&lt;tbody&gt;&lt;tr&gt;&lt;th&gt;Minimum&lt;/th&gt;&lt;td&gt;0&lt;/td&gt;&lt;/tr&gt;&lt;tr&gt;&lt;th&gt;Maximum&lt;/th&gt;&lt;td&gt;2&lt;/td&gt;&lt;/tr&gt;&lt;tr class=alert&gt;&lt;th&gt;Zeros&lt;/th&gt;&lt;td&gt;1141&lt;/td&gt;&lt;/tr&gt;&lt;tr class=alert&gt;&lt;th&gt;Zeros (%)&lt;/th&gt;&lt;td&gt;27.9%&lt;/td&gt;&lt;/tr&gt;&lt;tr&gt;&lt;th&gt;Negative&lt;/th&gt;&lt;td&gt;0&lt;/td&gt;&lt;/tr&gt;&lt;tr&gt;&lt;th&gt;Negative (%)&lt;/th&gt;&lt;td&gt;0.0%&lt;/td&gt;&lt;/tr&gt;&lt;tr&gt;&lt;th&gt;Memory size&lt;/th&gt;&lt;td&gt;32.1 KiB&lt;/td&gt;&lt;/tr&gt;&lt;/tbody&gt;&lt;/table&gt;&lt;/div&gt;&lt;div class=col-sm-3&gt;&lt;?xml version=&quot;1.0&quot; encoding=&quot;utf-8&quot; standalone=&quot;no&quot;?&gt;&lt;!DOCTYPE svg class=&quot;img-responsive center-img&quot;PUBLIC &quot;-//W3C//DTD SVG 1.1//EN&quot;\n",
       "  &quot;http://www.w3.org/Graphics/SVG/1.1/DTD/svg11.dtd&quot;&gt;&lt;svg class=&quot;img-responsive center-img&quot; height=162pt version=1.1 viewbox=&quot;0 0 216 162&quot; width=216pt xmlns=http://www.w3.org/2000/svg xmlns:xlink=http://www.w3.org/1999/xlink&gt;&lt;metadata&gt;&lt;rdf:rdf xmlns:cc=http://creativecommons.org/ns# xmlns:dc=http://purl.org/dc/elements/1.1/ xmlns:rdf=http://www.w3.org/1999/02/22-rdf-syntax-ns#&gt;&lt;cc:work&gt;&lt;dc:type rdf:resource=http://purl.org/dc/dcmitype/StillImage /&gt;&lt;dc:date&gt;2021-06-06T21:12:25.752477&lt;/dc:date&gt;&lt;dc:format&gt;image/svg+xml&lt;/dc:format&gt;&lt;dc:creator&gt;&lt;cc:agent&gt;&lt;dc:title&gt;Matplotlib v3.4.2, https://matplotlib.org/&lt;/dc:title&gt;&lt;/cc:agent&gt;&lt;/dc:creator&gt;&lt;/cc:work&gt;&lt;/rdf:rdf&gt;&lt;/metadata&gt;&lt;defs&gt;&lt;style type=text/css&gt;*{stroke-linecap:butt;stroke-linejoin:round;}&lt;/style&gt;&lt;/defs&gt;&lt;g id=figure_1&gt;&lt;g id=patch_1&gt;&lt;path style=fill:#ffffff; d=&quot;M 0 162 \n",
       "L 216 162 \n",
       "L 216 0 \n",
       "L 0 0 \n",
       "z\n",
       "&quot;/&gt;&lt;/g&gt;&lt;g id=axes_1&gt;&lt;g id=patch_2&gt;&lt;path style=fill:#ffffff; d=&quot;M 10.880695 125.320428 \n",
       "L 205.119305 125.320428 \n",
       "L 205.119305 10.8 \n",
       "L 10.880695 10.8 \n",
       "z\n",
       "&quot;/&gt;&lt;/g&gt;&lt;g id=matplotlib.axis_1&gt;&lt;g id=xtick_1&gt;&lt;g id=text_1&gt;&lt;g style=fill:#262626; transform=&quot;translate(16.772578 149.114919)rotate(-45)scale(0.08 -0.08)&quot;&gt;&lt;defs&gt;&lt;path id=DejaVuSans-30 transform=scale(0.015625) d=&quot;M 2034 4250 \n",
       "Q 1547 4250 1301 3770 \n",
       "Q 1056 3291 1056 2328 \n",
       "Q 1056 1369 1301 889 \n",
       "Q 1547 409 2034 409 \n",
       "Q 2525 409 2770 889 \n",
       "Q 3016 1369 3016 2328 \n",
       "Q 3016 3291 2770 3770 \n",
       "Q 2525 4250 2034 4250 \n",
       "z\n",
       "M 2034 4750 \n",
       "Q 2819 4750 3233 4129 \n",
       "Q 3647 3509 3647 2328 \n",
       "Q 3647 1150 3233 529 \n",
       "Q 2819 -91 2034 -91 \n",
       "Q 1250 -91 836 529 \n",
       "Q 422 1150 422 2328 \n",
       "Q 422 3509 836 4129 \n",
       "Q 1250 4750 2034 4750 \n",
       "z\n",
       "&quot;/&gt;&lt;path id=DejaVuSans-2e transform=scale(0.015625) d=&quot;M 684 794 \n",
       "L 1344 794 \n",
       "L 1344 0 \n",
       "L 684 0 \n",
       "L 684 794 \n",
       "z\n",
       "&quot;/&gt;&lt;/defs&gt;&lt;use xlink:href=#DejaVuSans-30 /&gt;&lt;use x=63.623047 xlink:href=#DejaVuSans-2e /&gt;&lt;use x=95.410156 xlink:href=#DejaVuSans-30 /&gt;&lt;/g&gt;&lt;/g&gt;&lt;/g&gt;&lt;g id=xtick_2&gt;&lt;g id=text_2&gt;&lt;g style=fill:#262626; transform=&quot;translate(60.917717 149.114919)rotate(-45)scale(0.08 -0.08)&quot;&gt;&lt;defs&gt;&lt;path id=DejaVuSans-35 transform=scale(0.015625) d=&quot;M 691 4666 \n",
       "L 3169 4666 \n",
       "L 3169 4134 \n",
       "L 1269 4134 \n",
       "L 1269 2991 \n",
       "Q 1406 3038 1543 3061 \n",
       "Q 1681 3084 1819 3084 \n",
       "Q 2600 3084 3056 2656 \n",
       "Q 3513 2228 3513 1497 \n",
       "Q 3513 744 3044 326 \n",
       "Q 2575 -91 1722 -91 \n",
       "Q 1428 -91 1123 -41 \n",
       "Q 819 9 494 109 \n",
       "L 494 744 \n",
       "Q 775 591 1075 516 \n",
       "Q 1375 441 1709 441 \n",
       "Q 2250 441 2565 725 \n",
       "Q 2881 1009 2881 1497 \n",
       "Q 2881 1984 2565 2268 \n",
       "Q 2250 2553 1709 2553 \n",
       "Q 1456 2553 1204 2497 \n",
       "Q 953 2441 691 2322 \n",
       "L 691 4666 \n",
       "z\n",
       "&quot;/&gt;&lt;/defs&gt;&lt;use xlink:href=#DejaVuSans-30 /&gt;&lt;use x=63.623047 xlink:href=#DejaVuSans-2e /&gt;&lt;use x=95.410156 xlink:href=#DejaVuSans-35 /&gt;&lt;/g&gt;&lt;/g&gt;&lt;/g&gt;&lt;g id=xtick_3&gt;&lt;g id=text_3&gt;&lt;g style=fill:#262626; transform=&quot;translate(105.062855 149.114919)rotate(-45)scale(0.08 -0.08)&quot;&gt;&lt;defs&gt;&lt;path id=DejaVuSans-31 transform=scale(0.015625) d=&quot;M 794 531 \n",
       "L 1825 531 \n",
       "L 1825 4091 \n",
       "L 703 3866 \n",
       "L 703 4441 \n",
       "L 1819 4666 \n",
       "L 2450 4666 \n",
       "L 2450 531 \n",
       "L 3481 531 \n",
       "L 3481 0 \n",
       "L 794 0 \n",
       "L 794 531 \n",
       "z\n",
       "&quot;/&gt;&lt;/defs&gt;&lt;use xlink:href=#DejaVuSans-31 /&gt;&lt;use x=63.623047 xlink:href=#DejaVuSans-2e /&gt;&lt;use x=95.410156 xlink:href=#DejaVuSans-30 /&gt;&lt;/g&gt;&lt;/g&gt;&lt;/g&gt;&lt;g id=xtick_4&gt;&lt;g id=text_4&gt;&lt;g style=fill:#262626; transform=&quot;translate(149.207994 149.114919)rotate(-45)scale(0.08 -0.08)&quot;&gt;&lt;use xlink:href=#DejaVuSans-31 /&gt;&lt;use x=63.623047 xlink:href=#DejaVuSans-2e /&gt;&lt;use x=95.410156 xlink:href=#DejaVuSans-35 /&gt;&lt;/g&gt;&lt;/g&gt;&lt;/g&gt;&lt;g id=xtick_5&gt;&lt;g id=text_5&gt;&lt;g style=fill:#262626; transform=&quot;translate(193.353132 149.114919)rotate(-45)scale(0.08 -0.08)&quot;&gt;&lt;defs&gt;&lt;path id=DejaVuSans-32 transform=scale(0.015625) d=&quot;M 1228 531 \n",
       "L 3431 531 \n",
       "L 3431 0 \n",
       "L 469 0 \n",
       "L 469 531 \n",
       "Q 828 903 1448 1529 \n",
       "Q 2069 2156 2228 2338 \n",
       "Q 2531 2678 2651 2914 \n",
       "Q 2772 3150 2772 3378 \n",
       "Q 2772 3750 2511 3984 \n",
       "Q 2250 4219 1831 4219 \n",
       "Q 1534 4219 1204 4116 \n",
       "Q 875 4013 500 3803 \n",
       "L 500 4441 \n",
       "Q 881 4594 1212 4672 \n",
       "Q 1544 4750 1819 4750 \n",
       "Q 2544 4750 2975 4387 \n",
       "Q 3406 4025 3406 3419 \n",
       "Q 3406 3131 3298 2873 \n",
       "Q 3191 2616 2906 2266 \n",
       "Q 2828 2175 2409 1742 \n",
       "Q 1991 1309 1228 531 \n",
       "z\n",
       "&quot;/&gt;&lt;/defs&gt;&lt;use xlink:href=#DejaVuSans-32 /&gt;&lt;use x=63.623047 xlink:href=#DejaVuSans-2e /&gt;&lt;use x=95.410156 xlink:href=#DejaVuSans-30 /&gt;&lt;/g&gt;&lt;/g&gt;&lt;/g&gt;&lt;/g&gt;&lt;g id=patch_3&gt;&lt;path clip-path=url(#p8ff251af92) style=fill:#337ab7;stroke:#ffffff;stroke-linejoin:miter;stroke-width:0.3; d=&quot;M 19.709723 125.320428 \n",
       "L 78.569908 125.320428 \n",
       "L 78.569908 82.125172 \n",
       "L 19.709723 82.125172 \n",
       "z\n",
       "&quot;/&gt;&lt;/g&gt;&lt;g id=patch_4&gt;&lt;path clip-path=url(#p8ff251af92) style=fill:#337ab7;stroke:#ffffff;stroke-linejoin:miter;stroke-width:0.3; d=&quot;M 78.569908 125.320428 \n",
       "L 137.430092 125.320428 \n",
       "L 137.430092 16.253354 \n",
       "L 78.569908 16.253354 \n",
       "z\n",
       "&quot;/&gt;&lt;/g&gt;&lt;g id=patch_5&gt;&lt;path clip-path=url(#p8ff251af92) style=fill:#337ab7;stroke:#ffffff;stroke-linejoin:miter;stroke-width:0.3; d=&quot;M 137.430092 125.320428 \n",
       "L 196.290277 125.320428 \n",
       "L 196.290277 122.859699 \n",
       "L 137.430092 122.859699 \n",
       "z\n",
       "&quot;/&gt;&lt;/g&gt;&lt;g id=patch_6&gt;&lt;path style=fill:none; d=&quot;M 10.880695 125.320428 \n",
       "L 10.880695 10.8 \n",
       "&quot;/&gt;&lt;/g&gt;&lt;g id=patch_7&gt;&lt;path style=fill:none; d=&quot;M 205.119305 125.320428 \n",
       "L 205.119305 10.8 \n",
       "&quot;/&gt;&lt;/g&gt;&lt;g id=patch_8&gt;&lt;path style=fill:none; d=&quot;M 10.880695 125.320428 \n",
       "L 205.119305 125.320428 \n",
       "&quot;/&gt;&lt;/g&gt;&lt;g id=patch_9&gt;&lt;path style=fill:none; d=&quot;M 10.880695 10.8 \n",
       "L 205.119305 10.8 \n",
       "&quot;/&gt;&lt;/g&gt;&lt;/g&gt;&lt;/g&gt;&lt;defs&gt;&lt;clippath id=p8ff251af92&gt;&lt;rect height=114.520428 width=194.238609 x=10.880695 y=10.8 /&gt;&lt;/clippath&gt;&lt;/defs&gt;&lt;/svg&gt;&lt;/div&gt;&lt;div class=&quot;col-sm-12 text-right&quot;&gt;&lt;button class=&quot;btn btn-default btn-sm&quot; data-toggle=collapse data-target=&quot;#bottom--5188386888090162189, #minifreqtable-5188386888090162189&quot; aria-expanded=true aria-controls=collapseExample&gt;Toggle details&lt;/button&gt;&lt;/div&gt;&lt;div id=bottom--5188386888090162189 class=collapse&gt;&lt;div class=&quot;row spacing&quot;&gt;&lt;ul class=&quot;nav nav-tabs&quot; role=tablist&gt;&lt;li role=presentation class=active&gt;&lt;a href=#-5188386888090162189bottom--5188386888090162189statistics aria-controls=-5188386888090162189bottom--5188386888090162189statistics role=tab data-toggle=tab&gt;Statistics&lt;/a&gt;&lt;/li&gt;&lt;li role=presentation&gt;&lt;a href=#-5188386888090162189bottom--5188386888090162189histogram aria-controls=-5188386888090162189bottom--5188386888090162189histogram role=tab data-toggle=tab&gt;Histogram&lt;/a&gt;&lt;/li&gt;&lt;li role=presentation&gt;&lt;a href=#-5188386888090162189bottom--5188386888090162189common_values aria-controls=-5188386888090162189bottom--5188386888090162189common_values role=tab data-toggle=tab&gt;Common values&lt;/a&gt;&lt;/li&gt;&lt;li role=presentation&gt;&lt;a href=#-5188386888090162189bottom--5188386888090162189extreme_values aria-controls=-5188386888090162189bottom--5188386888090162189extreme_values role=tab data-toggle=tab&gt;Extreme values&lt;/a&gt;&lt;/li&gt;&lt;/ul&gt;&lt;div class=tab-content&gt;&lt;div role=tabpanel class=&quot;tab-pane col-sm-12 active&quot; id=-5188386888090162189bottom--5188386888090162189statistics&gt;&lt;div class=col-sm-6&gt;&lt;p class=h4&gt;Quantile statistics&lt;/p&gt;&lt;table class=&quot;table table-condensed stats&quot;&gt;&lt;tbody&gt;&lt;tr&gt;&lt;th&gt;Minimum&lt;/th&gt;&lt;td&gt;0&lt;/td&gt;&lt;/tr&gt;&lt;tr&gt;&lt;th&gt;5-th percentile&lt;/th&gt;&lt;td&gt;0&lt;/td&gt;&lt;/tr&gt;&lt;tr&gt;&lt;th&gt;Q1&lt;/th&gt;&lt;td&gt;0&lt;/td&gt;&lt;/tr&gt;&lt;tr&gt;&lt;th&gt;median&lt;/th&gt;&lt;td&gt;1&lt;/td&gt;&lt;/tr&gt;&lt;tr&gt;&lt;th&gt;Q3&lt;/th&gt;&lt;td&gt;1&lt;/td&gt;&lt;/tr&gt;&lt;tr&gt;&lt;th&gt;95-th percentile&lt;/th&gt;&lt;td&gt;1&lt;/td&gt;&lt;/tr&gt;&lt;tr&gt;&lt;th&gt;Maximum&lt;/th&gt;&lt;td&gt;2&lt;/td&gt;&lt;/tr&gt;&lt;tr&gt;&lt;th&gt;Range&lt;/th&gt;&lt;td&gt;2&lt;/td&gt;&lt;/tr&gt;&lt;tr&gt;&lt;th&gt;Interquartile range (IQR)&lt;/th&gt;&lt;td&gt;1&lt;/td&gt;&lt;/tr&gt;&lt;/tbody&gt;&lt;/table&gt;&lt;/div&gt;&lt;div class=col-sm-6&gt;&lt;p class=h4&gt;Descriptive statistics&lt;/p&gt;&lt;table class=&quot;table table-condensed stats&quot;&gt;&lt;tbody&gt;&lt;tr&gt;&lt;th&gt;Standard deviation&lt;/th&gt;&lt;td&gt;0.4752095647&lt;/td&gt;&lt;/tr&gt;&lt;tr&gt;&lt;th&gt;Coefficient of variation (CV)&lt;/th&gt;&lt;td&gt;0.6450287249&lt;/td&gt;&lt;/tr&gt;&lt;tr&gt;&lt;th&gt;Kurtosis&lt;/th&gt;&lt;td&gt;-0.5245607984&lt;/td&gt;&lt;/tr&gt;&lt;tr&gt;&lt;th&gt;Mean&lt;/th&gt;&lt;td&gt;0.736726205&lt;/td&gt;&lt;/tr&gt;&lt;tr&gt;&lt;th&gt;Median Absolute Deviation (MAD)&lt;/th&gt;&lt;td&gt;0&lt;/td&gt;&lt;/tr&gt;&lt;tr&gt;&lt;th&gt;Skewness&lt;/th&gt;&lt;td&gt;-0.6220764764&lt;/td&gt;&lt;/tr&gt;&lt;tr&gt;&lt;th&gt;Sum&lt;/th&gt;&lt;td&gt;3011&lt;/td&gt;&lt;/tr&gt;&lt;tr&gt;&lt;th&gt;Variance&lt;/th&gt;&lt;td&gt;0.2258241304&lt;/td&gt;&lt;/tr&gt;&lt;tr&gt;&lt;th&gt;Monotonicity&lt;/th&gt;&lt;td&gt;Not monotonic&lt;/td&gt;&lt;/tr&gt;&lt;/tbody&gt;&lt;/table&gt;&lt;/div&gt;&lt;/div&gt;&lt;div role=tabpanel class=&quot;tab-pane col-sm-12&quot; id=-5188386888090162189bottom--5188386888090162189histogram&gt;&lt;?xml version=&quot;1.0&quot; encoding=&quot;utf-8&quot; standalone=&quot;no&quot;?&gt;&lt;!DOCTYPE svg class=&quot;img-responsive center-img&quot;PUBLIC &quot;-//W3C//DTD SVG 1.1//EN&quot;\n",
       "  &quot;http://www.w3.org/Graphics/SVG/1.1/DTD/svg11.dtd&quot;&gt;&lt;svg class=&quot;img-responsive center-img&quot; height=288pt version=1.1 viewbox=&quot;0 0 432 288&quot; width=432pt xmlns=http://www.w3.org/2000/svg xmlns:xlink=http://www.w3.org/1999/xlink&gt;&lt;metadata&gt;&lt;rdf:rdf xmlns:cc=http://creativecommons.org/ns# xmlns:dc=http://purl.org/dc/elements/1.1/ xmlns:rdf=http://www.w3.org/1999/02/22-rdf-syntax-ns#&gt;&lt;cc:work&gt;&lt;dc:type rdf:resource=http://purl.org/dc/dcmitype/StillImage /&gt;&lt;dc:date&gt;2021-06-06T21:12:25.843959&lt;/dc:date&gt;&lt;dc:format&gt;image/svg+xml&lt;/dc:format&gt;&lt;dc:creator&gt;&lt;cc:agent&gt;&lt;dc:title&gt;Matplotlib v3.4.2, https://matplotlib.org/&lt;/dc:title&gt;&lt;/cc:agent&gt;&lt;/dc:creator&gt;&lt;/cc:work&gt;&lt;/rdf:rdf&gt;&lt;/metadata&gt;&lt;defs&gt;&lt;style type=text/css&gt;*{stroke-linecap:butt;stroke-linejoin:round;}&lt;/style&gt;&lt;/defs&gt;&lt;g id=figure_1&gt;&lt;g id=patch_1&gt;&lt;path style=fill:#ffffff; d=&quot;M 0 288 \n",
       "L 432 288 \n",
       "L 432 0 \n",
       "L 0 0 \n",
       "z\n",
       "&quot;/&gt;&lt;/g&gt;&lt;g id=axes_1&gt;&lt;g id=patch_2&gt;&lt;path style=fill:#ffffff; d=&quot;M 60.8 243.807418 \n",
       "L 421.2 243.807418 \n",
       "L 421.2 12.999411 \n",
       "L 60.8 12.999411 \n",
       "z\n",
       "&quot;/&gt;&lt;/g&gt;&lt;g id=matplotlib.axis_1&gt;&lt;g id=xtick_1&gt;&lt;g id=text_1&gt;&lt;g style=fill:#262626; transform=&quot;translate(71.260904 275.424499)rotate(-45)scale(0.1 -0.1)&quot;&gt;&lt;defs&gt;&lt;path id=DejaVuSans-30 transform=scale(0.015625) d=&quot;M 2034 4250 \n",
       "Q 1547 4250 1301 3770 \n",
       "Q 1056 3291 1056 2328 \n",
       "Q 1056 1369 1301 889 \n",
       "Q 1547 409 2034 409 \n",
       "Q 2525 409 2770 889 \n",
       "Q 3016 1369 3016 2328 \n",
       "Q 3016 3291 2770 3770 \n",
       "Q 2525 4250 2034 4250 \n",
       "z\n",
       "M 2034 4750 \n",
       "Q 2819 4750 3233 4129 \n",
       "Q 3647 3509 3647 2328 \n",
       "Q 3647 1150 3233 529 \n",
       "Q 2819 -91 2034 -91 \n",
       "Q 1250 -91 836 529 \n",
       "Q 422 1150 422 2328 \n",
       "Q 422 3509 836 4129 \n",
       "Q 1250 4750 2034 4750 \n",
       "z\n",
       "&quot;/&gt;&lt;path id=DejaVuSans-2e transform=scale(0.015625) d=&quot;M 684 794 \n",
       "L 1344 794 \n",
       "L 1344 0 \n",
       "L 684 0 \n",
       "L 684 794 \n",
       "z\n",
       "&quot;/&gt;&lt;/defs&gt;&lt;use xlink:href=#DejaVuSans-30 /&gt;&lt;use x=63.623047 xlink:href=#DejaVuSans-2e /&gt;&lt;use x=95.410156 xlink:href=#DejaVuSans-30 /&gt;&lt;use x=159.033203 xlink:href=#DejaVuSans-30 /&gt;&lt;/g&gt;&lt;/g&gt;&lt;/g&gt;&lt;g id=xtick_2&gt;&lt;g id=text_2&gt;&lt;g style=fill:#262626; transform=&quot;translate(112.215449 275.424499)rotate(-45)scale(0.1 -0.1)&quot;&gt;&lt;defs&gt;&lt;path id=DejaVuSans-32 transform=scale(0.015625) d=&quot;M 1228 531 \n",
       "L 3431 531 \n",
       "L 3431 0 \n",
       "L 469 0 \n",
       "L 469 531 \n",
       "Q 828 903 1448 1529 \n",
       "Q 2069 2156 2228 2338 \n",
       "Q 2531 2678 2651 2914 \n",
       "Q 2772 3150 2772 3378 \n",
       "Q 2772 3750 2511 3984 \n",
       "Q 2250 4219 1831 4219 \n",
       "Q 1534 4219 1204 4116 \n",
       "Q 875 4013 500 3803 \n",
       "L 500 4441 \n",
       "Q 881 4594 1212 4672 \n",
       "Q 1544 4750 1819 4750 \n",
       "Q 2544 4750 2975 4387 \n",
       "Q 3406 4025 3406 3419 \n",
       "Q 3406 3131 3298 2873 \n",
       "Q 3191 2616 2906 2266 \n",
       "Q 2828 2175 2409 1742 \n",
       "Q 1991 1309 1228 531 \n",
       "z\n",
       "&quot;/&gt;&lt;path id=DejaVuSans-35 transform=scale(0.015625) d=&quot;M 691 4666 \n",
       "L 3169 4666 \n",
       "L 3169 4134 \n",
       "L 1269 4134 \n",
       "L 1269 2991 \n",
       "Q 1406 3038 1543 3061 \n",
       "Q 1681 3084 1819 3084 \n",
       "Q 2600 3084 3056 2656 \n",
       "Q 3513 2228 3513 1497 \n",
       "Q 3513 744 3044 326 \n",
       "Q 2575 -91 1722 -91 \n",
       "Q 1428 -91 1123 -41 \n",
       "Q 819 9 494 109 \n",
       "L 494 744 \n",
       "Q 775 591 1075 516 \n",
       "Q 1375 441 1709 441 \n",
       "Q 2250 441 2565 725 \n",
       "Q 2881 1009 2881 1497 \n",
       "Q 2881 1984 2565 2268 \n",
       "Q 2250 2553 1709 2553 \n",
       "Q 1456 2553 1204 2497 \n",
       "Q 953 2441 691 2322 \n",
       "L 691 4666 \n",
       "z\n",
       "&quot;/&gt;&lt;/defs&gt;&lt;use xlink:href=#DejaVuSans-30 /&gt;&lt;use x=63.623047 xlink:href=#DejaVuSans-2e /&gt;&lt;use x=95.410156 xlink:href=#DejaVuSans-32 /&gt;&lt;use x=159.033203 xlink:href=#DejaVuSans-35 /&gt;&lt;/g&gt;&lt;/g&gt;&lt;/g&gt;&lt;g id=xtick_3&gt;&lt;g id=text_3&gt;&lt;g style=fill:#262626; transform=&quot;translate(153.169995 275.424499)rotate(-45)scale(0.1 -0.1)&quot;&gt;&lt;use xlink:href=#DejaVuSans-30 /&gt;&lt;use x=63.623047 xlink:href=#DejaVuSans-2e /&gt;&lt;use x=95.410156 xlink:href=#DejaVuSans-35 /&gt;&lt;use x=159.033203 xlink:href=#DejaVuSans-30 /&gt;&lt;/g&gt;&lt;/g&gt;&lt;/g&gt;&lt;g id=xtick_4&gt;&lt;g id=text_4&gt;&lt;g style=fill:#262626; transform=&quot;translate(194.12454 275.424499)rotate(-45)scale(0.1 -0.1)&quot;&gt;&lt;defs&gt;&lt;path id=DejaVuSans-37 transform=scale(0.015625) d=&quot;M 525 4666 \n",
       "L 3525 4666 \n",
       "L 3525 4397 \n",
       "L 1831 0 \n",
       "L 1172 0 \n",
       "L 2766 4134 \n",
       "L 525 4134 \n",
       "L 525 4666 \n",
       "z\n",
       "&quot;/&gt;&lt;/defs&gt;&lt;use xlink:href=#DejaVuSans-30 /&gt;&lt;use x=63.623047 xlink:href=#DejaVuSans-2e /&gt;&lt;use x=95.410156 xlink:href=#DejaVuSans-37 /&gt;&lt;use x=159.033203 xlink:href=#DejaVuSans-35 /&gt;&lt;/g&gt;&lt;/g&gt;&lt;/g&gt;&lt;g id=xtick_5&gt;&lt;g id=text_5&gt;&lt;g style=fill:#262626; transform=&quot;translate(235.079086 275.424499)rotate(-45)scale(0.1 -0.1)&quot;&gt;&lt;defs&gt;&lt;path id=DejaVuSans-31 transform=scale(0.015625) d=&quot;M 794 531 \n",
       "L 1825 531 \n",
       "L 1825 4091 \n",
       "L 703 3866 \n",
       "L 703 4441 \n",
       "L 1819 4666 \n",
       "L 2450 4666 \n",
       "L 2450 531 \n",
       "L 3481 531 \n",
       "L 3481 0 \n",
       "L 794 0 \n",
       "L 794 531 \n",
       "z\n",
       "&quot;/&gt;&lt;/defs&gt;&lt;use xlink:href=#DejaVuSans-31 /&gt;&lt;use x=63.623047 xlink:href=#DejaVuSans-2e /&gt;&lt;use x=95.410156 xlink:href=#DejaVuSans-30 /&gt;&lt;use x=159.033203 xlink:href=#DejaVuSans-30 /&gt;&lt;/g&gt;&lt;/g&gt;&lt;/g&gt;&lt;g id=xtick_6&gt;&lt;g id=text_6&gt;&lt;g style=fill:#262626; transform=&quot;translate(276.033631 275.424499)rotate(-45)scale(0.1 -0.1)&quot;&gt;&lt;use xlink:href=#DejaVuSans-31 /&gt;&lt;use x=63.623047 xlink:href=#DejaVuSans-2e /&gt;&lt;use x=95.410156 xlink:href=#DejaVuSans-32 /&gt;&lt;use x=159.033203 xlink:href=#DejaVuSans-35 /&gt;&lt;/g&gt;&lt;/g&gt;&lt;/g&gt;&lt;g id=xtick_7&gt;&lt;g id=text_7&gt;&lt;g style=fill:#262626; transform=&quot;translate(316.988176 275.424499)rotate(-45)scale(0.1 -0.1)&quot;&gt;&lt;use xlink:href=#DejaVuSans-31 /&gt;&lt;use x=63.623047 xlink:href=#DejaVuSans-2e /&gt;&lt;use x=95.410156 xlink:href=#DejaVuSans-35 /&gt;&lt;use x=159.033203 xlink:href=#DejaVuSans-30 /&gt;&lt;/g&gt;&lt;/g&gt;&lt;/g&gt;&lt;g id=xtick_8&gt;&lt;g id=text_8&gt;&lt;g style=fill:#262626; transform=&quot;translate(357.942722 275.424499)rotate(-45)scale(0.1 -0.1)&quot;&gt;&lt;use xlink:href=#DejaVuSans-31 /&gt;&lt;use x=63.623047 xlink:href=#DejaVuSans-2e /&gt;&lt;use x=95.410156 xlink:href=#DejaVuSans-37 /&gt;&lt;use x=159.033203 xlink:href=#DejaVuSans-35 /&gt;&lt;/g&gt;&lt;/g&gt;&lt;/g&gt;&lt;g id=xtick_9&gt;&lt;g id=text_9&gt;&lt;g style=fill:#262626; transform=&quot;translate(398.897267 275.424499)rotate(-45)scale(0.1 -0.1)&quot;&gt;&lt;use xlink:href=#DejaVuSans-32 /&gt;&lt;use x=63.623047 xlink:href=#DejaVuSans-2e /&gt;&lt;use x=95.410156 xlink:href=#DejaVuSans-30 /&gt;&lt;use x=159.033203 xlink:href=#DejaVuSans-30 /&gt;&lt;/g&gt;&lt;/g&gt;&lt;/g&gt;&lt;/g&gt;&lt;g id=matplotlib.axis_2&gt;&lt;g id=ytick_1&gt;&lt;g id=text_10&gt;&lt;g style=fill:#262626; transform=&quot;translate(43.9375 247.606637)scale(0.1 -0.1)&quot;&gt;&lt;use xlink:href=#DejaVuSans-30 /&gt;&lt;/g&gt;&lt;/g&gt;&lt;/g&gt;&lt;g id=ytick_2&gt;&lt;g id=text_11&gt;&lt;g style=fill:#262626; transform=&quot;translate(31.2125 209.457183)scale(0.1 -0.1)&quot;&gt;&lt;use xlink:href=#DejaVuSans-35 /&gt;&lt;use x=63.623047 xlink:href=#DejaVuSans-30 /&gt;&lt;use x=127.246094 xlink:href=#DejaVuSans-30 /&gt;&lt;/g&gt;&lt;/g&gt;&lt;/g&gt;&lt;g id=ytick_3&gt;&lt;g id=text_12&gt;&lt;g style=fill:#262626; transform=&quot;translate(24.85 171.30773)scale(0.1 -0.1)&quot;&gt;&lt;use xlink:href=#DejaVuSans-31 /&gt;&lt;use x=63.623047 xlink:href=#DejaVuSans-30 /&gt;&lt;use x=127.246094 xlink:href=#DejaVuSans-30 /&gt;&lt;use x=190.869141 xlink:href=#DejaVuSans-30 /&gt;&lt;/g&gt;&lt;/g&gt;&lt;/g&gt;&lt;g id=ytick_4&gt;&lt;g id=text_13&gt;&lt;g style=fill:#262626; transform=&quot;translate(24.85 133.158277)scale(0.1 -0.1)&quot;&gt;&lt;use xlink:href=#DejaVuSans-31 /&gt;&lt;use x=63.623047 xlink:href=#DejaVuSans-35 /&gt;&lt;use x=127.246094 xlink:href=#DejaVuSans-30 /&gt;&lt;use x=190.869141 xlink:href=#DejaVuSans-30 /&gt;&lt;/g&gt;&lt;/g&gt;&lt;/g&gt;&lt;g id=ytick_5&gt;&lt;g id=text_14&gt;&lt;g style=fill:#262626; transform=&quot;translate(24.85 95.008824)scale(0.1 -0.1)&quot;&gt;&lt;use xlink:href=#DejaVuSans-32 /&gt;&lt;use x=63.623047 xlink:href=#DejaVuSans-30 /&gt;&lt;use x=127.246094 xlink:href=#DejaVuSans-30 /&gt;&lt;use x=190.869141 xlink:href=#DejaVuSans-30 /&gt;&lt;/g&gt;&lt;/g&gt;&lt;/g&gt;&lt;g id=ytick_6&gt;&lt;g id=text_15&gt;&lt;g style=fill:#262626; transform=&quot;translate(24.85 56.859371)scale(0.1 -0.1)&quot;&gt;&lt;use xlink:href=#DejaVuSans-32 /&gt;&lt;use x=63.623047 xlink:href=#DejaVuSans-35 /&gt;&lt;use x=127.246094 xlink:href=#DejaVuSans-30 /&gt;&lt;use x=190.869141 xlink:href=#DejaVuSans-30 /&gt;&lt;/g&gt;&lt;/g&gt;&lt;/g&gt;&lt;g id=ytick_7&gt;&lt;g id=text_16&gt;&lt;g style=fill:#262626; transform=&quot;translate(24.85 18.709917)scale(0.1 -0.1)&quot;&gt;&lt;defs&gt;&lt;path id=DejaVuSans-33 transform=scale(0.015625) d=&quot;M 2597 2516 \n",
       "Q 3050 2419 3304 2112 \n",
       "Q 3559 1806 3559 1356 \n",
       "Q 3559 666 3084 287 \n",
       "Q 2609 -91 1734 -91 \n",
       "Q 1441 -91 1130 -33 \n",
       "Q 819 25 488 141 \n",
       "L 488 750 \n",
       "Q 750 597 1062 519 \n",
       "Q 1375 441 1716 441 \n",
       "Q 2309 441 2620 675 \n",
       "Q 2931 909 2931 1356 \n",
       "Q 2931 1769 2642 2001 \n",
       "Q 2353 2234 1838 2234 \n",
       "L 1294 2234 \n",
       "L 1294 2753 \n",
       "L 1863 2753 \n",
       "Q 2328 2753 2575 2939 \n",
       "Q 2822 3125 2822 3475 \n",
       "Q 2822 3834 2567 4026 \n",
       "Q 2313 4219 1838 4219 \n",
       "Q 1578 4219 1281 4162 \n",
       "Q 984 4106 628 3988 \n",
       "L 628 4550 \n",
       "Q 988 4650 1302 4700 \n",
       "Q 1616 4750 1894 4750 \n",
       "Q 2613 4750 3031 4423 \n",
       "Q 3450 4097 3450 3541 \n",
       "Q 3450 3153 3228 2886 \n",
       "Q 3006 2619 2597 2516 \n",
       "z\n",
       "&quot;/&gt;&lt;/defs&gt;&lt;use xlink:href=#DejaVuSans-33 /&gt;&lt;use x=63.623047 xlink:href=#DejaVuSans-30 /&gt;&lt;use x=127.246094 xlink:href=#DejaVuSans-30 /&gt;&lt;use x=190.869141 xlink:href=#DejaVuSans-30 /&gt;&lt;/g&gt;&lt;/g&gt;&lt;/g&gt;&lt;g id=text_17&gt;&lt;g style=fill:#262626; transform=&quot;translate(18.562344 156.816071)rotate(-90)scale(0.11 -0.11)&quot;&gt;&lt;defs&gt;&lt;path id=DejaVuSans-46 transform=scale(0.015625) d=&quot;M 628 4666 \n",
       "L 3309 4666 \n",
       "L 3309 4134 \n",
       "L 1259 4134 \n",
       "L 1259 2759 \n",
       "L 3109 2759 \n",
       "L 3109 2228 \n",
       "L 1259 2228 \n",
       "L 1259 0 \n",
       "L 628 0 \n",
       "L 628 4666 \n",
       "z\n",
       "&quot;/&gt;&lt;path id=DejaVuSans-72 transform=scale(0.015625) d=&quot;M 2631 2963 \n",
       "Q 2534 3019 2420 3045 \n",
       "Q 2306 3072 2169 3072 \n",
       "Q 1681 3072 1420 2755 \n",
       "Q 1159 2438 1159 1844 \n",
       "L 1159 0 \n",
       "L 581 0 \n",
       "L 581 3500 \n",
       "L 1159 3500 \n",
       "L 1159 2956 \n",
       "Q 1341 3275 1631 3429 \n",
       "Q 1922 3584 2338 3584 \n",
       "Q 2397 3584 2469 3576 \n",
       "Q 2541 3569 2628 3553 \n",
       "L 2631 2963 \n",
       "z\n",
       "&quot;/&gt;&lt;path id=DejaVuSans-65 transform=scale(0.015625) d=&quot;M 3597 1894 \n",
       "L 3597 1613 \n",
       "L 953 1613 \n",
       "Q 991 1019 1311 708 \n",
       "Q 1631 397 2203 397 \n",
       "Q 2534 397 2845 478 \n",
       "Q 3156 559 3463 722 \n",
       "L 3463 178 \n",
       "Q 3153 47 2828 -22 \n",
       "Q 2503 -91 2169 -91 \n",
       "Q 1331 -91 842 396 \n",
       "Q 353 884 353 1716 \n",
       "Q 353 2575 817 3079 \n",
       "Q 1281 3584 2069 3584 \n",
       "Q 2775 3584 3186 3129 \n",
       "Q 3597 2675 3597 1894 \n",
       "z\n",
       "M 3022 2063 \n",
       "Q 3016 2534 2758 2815 \n",
       "Q 2500 3097 2075 3097 \n",
       "Q 1594 3097 1305 2825 \n",
       "Q 1016 2553 972 2059 \n",
       "L 3022 2063 \n",
       "z\n",
       "&quot;/&gt;&lt;path id=DejaVuSans-71 transform=scale(0.015625) d=&quot;M 947 1747 \n",
       "Q 947 1113 1208 752 \n",
       "Q 1469 391 1925 391 \n",
       "Q 2381 391 2643 752 \n",
       "Q 2906 1113 2906 1747 \n",
       "Q 2906 2381 2643 2742 \n",
       "Q 2381 3103 1925 3103 \n",
       "Q 1469 3103 1208 2742 \n",
       "Q 947 2381 947 1747 \n",
       "z\n",
       "M 2906 525 \n",
       "Q 2725 213 2448 61 \n",
       "Q 2172 -91 1784 -91 \n",
       "Q 1150 -91 751 415 \n",
       "Q 353 922 353 1747 \n",
       "Q 353 2572 751 3078 \n",
       "Q 1150 3584 1784 3584 \n",
       "Q 2172 3584 2448 3432 \n",
       "Q 2725 3281 2906 2969 \n",
       "L 2906 3500 \n",
       "L 3481 3500 \n",
       "L 3481 -1331 \n",
       "L 2906 -1331 \n",
       "L 2906 525 \n",
       "z\n",
       "&quot;/&gt;&lt;path id=DejaVuSans-75 transform=scale(0.015625) d=&quot;M 544 1381 \n",
       "L 544 3500 \n",
       "L 1119 3500 \n",
       "L 1119 1403 \n",
       "Q 1119 906 1312 657 \n",
       "Q 1506 409 1894 409 \n",
       "Q 2359 409 2629 706 \n",
       "Q 2900 1003 2900 1516 \n",
       "L 2900 3500 \n",
       "L 3475 3500 \n",
       "L 3475 0 \n",
       "L 2900 0 \n",
       "L 2900 538 \n",
       "Q 2691 219 2414 64 \n",
       "Q 2138 -91 1772 -91 \n",
       "Q 1169 -91 856 284 \n",
       "Q 544 659 544 1381 \n",
       "z\n",
       "M 1991 3584 \n",
       "L 1991 3584 \n",
       "z\n",
       "&quot;/&gt;&lt;path id=DejaVuSans-6e transform=scale(0.015625) d=&quot;M 3513 2113 \n",
       "L 3513 0 \n",
       "L 2938 0 \n",
       "L 2938 2094 \n",
       "Q 2938 2591 2744 2837 \n",
       "Q 2550 3084 2163 3084 \n",
       "Q 1697 3084 1428 2787 \n",
       "Q 1159 2491 1159 1978 \n",
       "L 1159 0 \n",
       "L 581 0 \n",
       "L 581 3500 \n",
       "L 1159 3500 \n",
       "L 1159 2956 \n",
       "Q 1366 3272 1645 3428 \n",
       "Q 1925 3584 2291 3584 \n",
       "Q 2894 3584 3203 3211 \n",
       "Q 3513 2838 3513 2113 \n",
       "z\n",
       "&quot;/&gt;&lt;path id=DejaVuSans-63 transform=scale(0.015625) d=&quot;M 3122 3366 \n",
       "L 3122 2828 \n",
       "Q 2878 2963 2633 3030 \n",
       "Q 2388 3097 2138 3097 \n",
       "Q 1578 3097 1268 2742 \n",
       "Q 959 2388 959 1747 \n",
       "Q 959 1106 1268 751 \n",
       "Q 1578 397 2138 397 \n",
       "Q 2388 397 2633 464 \n",
       "Q 2878 531 3122 666 \n",
       "L 3122 134 \n",
       "Q 2881 22 2623 -34 \n",
       "Q 2366 -91 2075 -91 \n",
       "Q 1284 -91 818 406 \n",
       "Q 353 903 353 1747 \n",
       "Q 353 2603 823 3093 \n",
       "Q 1294 3584 2113 3584 \n",
       "Q 2378 3584 2631 3529 \n",
       "Q 2884 3475 3122 3366 \n",
       "z\n",
       "&quot;/&gt;&lt;path id=DejaVuSans-79 transform=scale(0.015625) d=&quot;M 2059 -325 \n",
       "Q 1816 -950 1584 -1140 \n",
       "Q 1353 -1331 966 -1331 \n",
       "L 506 -1331 \n",
       "L 506 -850 \n",
       "L 844 -850 \n",
       "Q 1081 -850 1212 -737 \n",
       "Q 1344 -625 1503 -206 \n",
       "L 1606 56 \n",
       "L 191 3500 \n",
       "L 800 3500 \n",
       "L 1894 763 \n",
       "L 2988 3500 \n",
       "L 3597 3500 \n",
       "L 2059 -325 \n",
       "z\n",
       "&quot;/&gt;&lt;/defs&gt;&lt;use xlink:href=#DejaVuSans-46 /&gt;&lt;use x=50.269531 xlink:href=#DejaVuSans-72 /&gt;&lt;use x=89.132812 xlink:href=#DejaVuSans-65 /&gt;&lt;use x=150.65625 xlink:href=#DejaVuSans-71 /&gt;&lt;use x=214.132812 xlink:href=#DejaVuSans-75 /&gt;&lt;use x=277.511719 xlink:href=#DejaVuSans-65 /&gt;&lt;use x=339.035156 xlink:href=#DejaVuSans-6e /&gt;&lt;use x=402.414062 xlink:href=#DejaVuSans-63 /&gt;&lt;use x=457.394531 xlink:href=#DejaVuSans-79 /&gt;&lt;/g&gt;&lt;/g&gt;&lt;/g&gt;&lt;g id=patch_3&gt;&lt;path clip-path=url(#p3e0d601add) style=fill:#337ab7;stroke:#ffffff;stroke-linejoin:miter;stroke-width:0.3; d=&quot;M 77.181818 243.807418 \n",
       "L 186.393939 243.807418 \n",
       "L 186.393939 156.750366 \n",
       "L 77.181818 156.750366 \n",
       "z\n",
       "&quot;/&gt;&lt;/g&gt;&lt;g id=patch_4&gt;&lt;path clip-path=url(#p3e0d601add) style=fill:#337ab7;stroke:#ffffff;stroke-linejoin:miter;stroke-width:0.3; d=&quot;M 186.393939 243.807418 \n",
       "L 295.606061 243.807418 \n",
       "L 295.606061 23.990268 \n",
       "L 186.393939 23.990268 \n",
       "z\n",
       "&quot;/&gt;&lt;/g&gt;&lt;g id=patch_5&gt;&lt;path clip-path=url(#p3e0d601add) style=fill:#337ab7;stroke:#ffffff;stroke-linejoin:miter;stroke-width:0.3; d=&quot;M 295.606061 243.807418 \n",
       "L 404.818182 243.807418 \n",
       "L 404.818182 238.847989 \n",
       "L 295.606061 238.847989 \n",
       "z\n",
       "&quot;/&gt;&lt;/g&gt;&lt;g id=patch_6&gt;&lt;path style=fill:none; d=&quot;M 60.8 243.807418 \n",
       "L 60.8 12.999411 \n",
       "&quot;/&gt;&lt;/g&gt;&lt;g id=patch_7&gt;&lt;path style=fill:none; d=&quot;M 421.2 243.807418 \n",
       "L 421.2 12.999411 \n",
       "&quot;/&gt;&lt;/g&gt;&lt;g id=patch_8&gt;&lt;path style=fill:none; d=&quot;M 60.8 243.807418 \n",
       "L 421.2 243.807418 \n",
       "&quot;/&gt;&lt;/g&gt;&lt;g id=patch_9&gt;&lt;path style=fill:none; d=&quot;M 60.8 12.999411 \n",
       "L 421.2 12.999411 \n",
       "&quot;/&gt;&lt;/g&gt;&lt;/g&gt;&lt;/g&gt;&lt;defs&gt;&lt;clippath id=p3e0d601add&gt;&lt;rect height=230.808007 width=360.4 x=60.8 y=12.999411 /&gt;&lt;/clippath&gt;&lt;/defs&gt;&lt;/svg&gt;&lt;div class=&quot;caption text-center text-muted&quot;&gt;&lt;strong&gt;Histogram with fixed size bins&lt;/strong&gt; (bins=3) &lt;/div&gt;&lt;/div&gt;&lt;div role=tabpanel class=&quot;tab-pane col-sm-12&quot; id=-5188386888090162189bottom--5188386888090162189common_values&gt;&lt;table class=&quot;freq table table-hover table-striped&quot;&gt;&lt;thead&gt;&lt;tr&gt;&lt;td&gt;Value&lt;/td&gt;&lt;td&gt;Count&lt;/td&gt;&lt;td&gt;Frequency (%)&lt;/td&gt;&lt;/tr&gt;&lt;/thead&gt;&lt;tbody&gt;&lt;tr class&gt;&lt;td title=1&gt;1&lt;/td&gt;&lt;td&gt;2881&lt;/td&gt;&lt;td&gt;&lt;div class=bar style=width:100.0%&gt; 70.5% &lt;/div&gt;&lt;/td&gt;&lt;/tr&gt;&lt;tr class&gt;&lt;td title=0&gt;0&lt;/td&gt;&lt;td&gt;1141&lt;/td&gt;&lt;td&gt;&lt;div class=bar style=width:39.6%&gt; &amp;nbsp; &lt;/div&gt; 27.9% &lt;/td&gt;&lt;/tr&gt;&lt;tr class&gt;&lt;td title=2&gt;2&lt;/td&gt;&lt;td&gt;65&lt;/td&gt;&lt;td&gt;&lt;div class=bar style=width:2.3%&gt; &amp;nbsp; &lt;/div&gt; 1.6% &lt;/td&gt;&lt;/tr&gt;&lt;/tbody&gt;&lt;/table&gt;&lt;/div&gt;&lt;div role=tabpanel class=&quot;tab-pane col-sm-12&quot; id=-5188386888090162189bottom--5188386888090162189extreme_values&gt;&lt;div class=&quot;row spacing&quot;&gt;&lt;ul class=&quot;nav nav-tabs&quot; role=tablist&gt;&lt;li role=presentation class=active&gt;&lt;a href=#-5188386888090162189extreme_values--5188386888090162189firstn aria-controls=-5188386888090162189extreme_values--5188386888090162189firstn role=tab data-toggle=tab&gt;Minimum 5 values&lt;/a&gt;&lt;/li&gt;&lt;li role=presentation&gt;&lt;a href=#-5188386888090162189extreme_values--5188386888090162189lastn aria-controls=-5188386888090162189extreme_values--5188386888090162189lastn role=tab data-toggle=tab&gt;Maximum 5 values&lt;/a&gt;&lt;/li&gt;&lt;/ul&gt;&lt;div class=tab-content&gt;&lt;div role=tabpanel class=&quot;tab-pane col-sm-12 active&quot; id=-5188386888090162189extreme_values--5188386888090162189firstn&gt;&lt;table class=&quot;freq table table-hover table-striped&quot;&gt;&lt;thead&gt;&lt;tr&gt;&lt;td&gt;Value&lt;/td&gt;&lt;td&gt;Count&lt;/td&gt;&lt;td&gt;Frequency (%)&lt;/td&gt;&lt;/tr&gt;&lt;/thead&gt;&lt;tbody&gt;&lt;tr class&gt;&lt;td title=0&gt;0&lt;/td&gt;&lt;td&gt;1141&lt;/td&gt;&lt;td&gt;&lt;div class=bar style=width:39.6%&gt; &amp;nbsp; &lt;/div&gt; 27.9% &lt;/td&gt;&lt;/tr&gt;&lt;tr class&gt;&lt;td title=1&gt;1&lt;/td&gt;&lt;td&gt;2881&lt;/td&gt;&lt;td&gt;&lt;div class=bar style=width:100.0%&gt; 70.5% &lt;/div&gt;&lt;/td&gt;&lt;/tr&gt;&lt;tr class&gt;&lt;td title=2&gt;2&lt;/td&gt;&lt;td&gt;65&lt;/td&gt;&lt;td&gt;&lt;div class=bar style=width:2.3%&gt; &amp;nbsp; &lt;/div&gt; 1.6% &lt;/td&gt;&lt;/tr&gt;&lt;/tbody&gt;&lt;/table&gt;&lt;/div&gt;&lt;div role=tabpanel class=&quot;tab-pane col-sm-12&quot; id=-5188386888090162189extreme_values--5188386888090162189lastn&gt;&lt;table class=&quot;freq table table-hover table-striped&quot;&gt;&lt;thead&gt;&lt;tr&gt;&lt;td&gt;Value&lt;/td&gt;&lt;td&gt;Count&lt;/td&gt;&lt;td&gt;Frequency (%)&lt;/td&gt;&lt;/tr&gt;&lt;/thead&gt;&lt;tbody&gt;&lt;tr class&gt;&lt;td title=2&gt;2&lt;/td&gt;&lt;td&gt;65&lt;/td&gt;&lt;td&gt;&lt;div class=bar style=width:2.3%&gt; &amp;nbsp; &lt;/div&gt; 1.6% &lt;/td&gt;&lt;/tr&gt;&lt;tr class&gt;&lt;td title=1&gt;1&lt;/td&gt;&lt;td&gt;2881&lt;/td&gt;&lt;td&gt;&lt;div class=bar style=width:100.0%&gt; 70.5% &lt;/div&gt;&lt;/td&gt;&lt;/tr&gt;&lt;tr class&gt;&lt;td title=0&gt;0&lt;/td&gt;&lt;td&gt;1141&lt;/td&gt;&lt;td&gt;&lt;div class=bar style=width:39.6%&gt; &amp;nbsp; &lt;/div&gt; 27.9% &lt;/td&gt;&lt;/tr&gt;&lt;/tbody&gt;&lt;/table&gt;&lt;/div&gt;&lt;/div&gt;&lt;/div&gt;&lt;/div&gt;&lt;/div&gt;&lt;/div&gt;&lt;/div&gt;&lt;/div&gt;&lt;/div&gt;&lt;/div&gt;&lt;/div&gt;&lt;/div&gt;&lt;footer&gt;&lt;div class=container-fluid&gt;&lt;div class=&quot;row center-block footer-text&quot;&gt;&lt;p class=&quot;text-muted text-center&quot;&gt;Report generated with &lt;a href=https://github.com/pandas-profiling/pandas-profiling&gt;pandas-profiling&lt;/a&gt;.&lt;/p&gt;&lt;/div&gt;&lt;/div&gt;&lt;/footer&gt;&lt;script&gt;\n",
       "/*! jQuery v1.12.4 | (c) jQuery Foundation | jquery.org/license */\n",
       "!function(a,b){&quot;object&quot;==typeof module&amp;&amp;&quot;object&quot;==typeof module.exports?module.exports=a.document?b(a,!0):function(a){if(!a.document)throw new Error(&quot;jQuery requires a window with a document&quot;);return b(a)}:b(a)}(&quot;undefined&quot;!=typeof window?window:this,function(a,b){var c=[],d=a.document,e=c.slice,f=c.concat,g=c.push,h=c.indexOf,i={},j=i.toString,k=i.hasOwnProperty,l={},m=&quot;1.12.4&quot;,n=function(a,b){return new n.fn.init(a,b)},o=/^[\\s\\uFEFF\\xA0]+|[\\s\\uFEFF\\xA0]+$/g,p=/^-ms-/,q=/-([\\da-z])/gi,r=function(a,b){return b.toUpperCase()};n.fn=n.prototype={jquery:m,constructor:n,selector:&quot;&quot;,length:0,toArray:function(){return e.call(this)},get:function(a){return null!=a?0&gt;a?this[a+this.length]:this[a]:e.call(this)},pushStack:function(a){var b=n.merge(this.constructor(),a);return b.prevObject=this,b.context=this.context,b},each:function(a){return n.each(this,a)},map:function(a){return this.pushStack(n.map(this,function(b,c){return a.call(b,c,b)}))},slice:function(){return this.pushStack(e.apply(this,arguments))},first:function(){return this.eq(0)},last:function(){return this.eq(-1)},eq:function(a){var b=this.length,c=+a+(0&gt;a?b:0);return this.pushStack(c&gt;=0&amp;&amp;b&gt;c?[this[c]]:[])},end:function(){return this.prevObject||this.constructor()},push:g,sort:c.sort,splice:c.splice},n.extend=n.fn.extend=function(){var a,b,c,d,e,f,g=arguments[0]||{},h=1,i=arguments.length,j=!1;for(&quot;boolean&quot;==typeof g&amp;&amp;(j=g,g=arguments[h]||{},h++),&quot;object&quot;==typeof g||n.isFunction(g)||(g={}),h===i&amp;&amp;(g=this,h--);i&gt;h;h++)if(null!=(e=arguments[h]))for(d in e)a=g[d],c=e[d],g!==c&amp;&amp;(j&amp;&amp;c&amp;&amp;(n.isPlainObject(c)||(b=n.isArray(c)))?(b?(b=!1,f=a&amp;&amp;n.isArray(a)?a:[]):f=a&amp;&amp;n.isPlainObject(a)?a:{},g[d]=n.extend(j,f,c)):void 0!==c&amp;&amp;(g[d]=c));return g},n.extend({expando:&quot;jQuery&quot;+(m+Math.random()).replace(/\\D/g,&quot;&quot;),isReady:!0,error:function(a){throw new Error(a)},noop:function(){},isFunction:function(a){return&quot;function&quot;===n.type(a)},isArray:Array.isArray||function(a){return&quot;array&quot;===n.type(a)},isWindow:function(a){return null!=a&amp;&amp;a==a.window},isNumeric:function(a){var b=a&amp;&amp;a.toString();return!n.isArray(a)&amp;&amp;b-parseFloat(b)+1&gt;=0},isEmptyObject:function(a){var b;for(b in a)return!1;return!0},isPlainObject:function(a){var b;if(!a||&quot;object&quot;!==n.type(a)||a.nodeType||n.isWindow(a))return!1;try{if(a.constructor&amp;&amp;!k.call(a,&quot;constructor&quot;)&amp;&amp;!k.call(a.constructor.prototype,&quot;isPrototypeOf&quot;))return!1}catch(c){return!1}if(!l.ownFirst)for(b in a)return k.call(a,b);for(b in a);return void 0===b||k.call(a,b)},type:function(a){return null==a?a+&quot;&quot;:&quot;object&quot;==typeof a||&quot;function&quot;==typeof a?i[j.call(a)]||&quot;object&quot;:typeof a},globalEval:function(b){b&amp;&amp;n.trim(b)&amp;&amp;(a.execScript||function(b){a.eval.call(a,b)})(b)},camelCase:function(a){return a.replace(p,&quot;ms-&quot;).replace(q,r)},nodeName:function(a,b){return a.nodeName&amp;&amp;a.nodeName.toLowerCase()===b.toLowerCase()},each:function(a,b){var c,d=0;if(s(a)){for(c=a.length;c&gt;d;d++)if(b.call(a[d],d,a[d])===!1)break}else for(d in a)if(b.call(a[d],d,a[d])===!1)break;return a},trim:function(a){return null==a?&quot;&quot;:(a+&quot;&quot;).replace(o,&quot;&quot;)},makeArray:function(a,b){var c=b||[];return null!=a&amp;&amp;(s(Object(a))?n.merge(c,&quot;string&quot;==typeof a?[a]:a):g.call(c,a)),c},inArray:function(a,b,c){var d;if(b){if(h)return h.call(b,a,c);for(d=b.length,c=c?0&gt;c?Math.max(0,d+c):c:0;d&gt;c;c++)if(c in b&amp;&amp;b[c]===a)return c}return-1},merge:function(a,b){var c=+b.length,d=0,e=a.length;while(c&gt;d)a[e++]=b[d++];if(c!==c)while(void 0!==b[d])a[e++]=b[d++];return a.length=e,a},grep:function(a,b,c){for(var d,e=[],f=0,g=a.length,h=!c;g&gt;f;f++)d=!b(a[f],f),d!==h&amp;&amp;e.push(a[f]);return e},map:function(a,b,c){var d,e,g=0,h=[];if(s(a))for(d=a.length;d&gt;g;g++)e=b(a[g],g,c),null!=e&amp;&amp;h.push(e);else for(g in a)e=b(a[g],g,c),null!=e&amp;&amp;h.push(e);return f.apply([],h)},guid:1,proxy:function(a,b){var c,d,f;return&quot;string&quot;==typeof b&amp;&amp;(f=a[b],b=a,a=f),n.isFunction(a)?(c=e.call(arguments,2),d=function(){return a.apply(b||this,c.concat(e.call(arguments)))},d.guid=a.guid=a.guid||n.guid++,d):void 0},now:function(){return+new Date},support:l}),&quot;function&quot;==typeof Symbol&amp;&amp;(n.fn[Symbol.iterator]=c[Symbol.iterator]),n.each(&quot;Boolean Number String Function Array Date RegExp Object Error Symbol&quot;.split(&quot; &quot;),function(a,b){i[&quot;[object &quot;+b+&quot;]&quot;]=b.toLowerCase()});function s(a){var b=!!a&amp;&amp;&quot;length&quot;in a&amp;&amp;a.length,c=n.type(a);return&quot;function&quot;===c||n.isWindow(a)?!1:&quot;array&quot;===c||0===b||&quot;number&quot;==typeof b&amp;&amp;b&gt;0&amp;&amp;b-1 in a}var t=function(a){var b,c,d,e,f,g,h,i,j,k,l,m,n,o,p,q,r,s,t,u=&quot;sizzle&quot;+1*new Date,v=a.document,w=0,x=0,y=ga(),z=ga(),A=ga(),B=function(a,b){return a===b&amp;&amp;(l=!0),0},C=1&lt;&lt;31,D={}.hasOwnProperty,E=[],F=E.pop,G=E.push,H=E.push,I=E.slice,J=function(a,b){for(var c=0,d=a.length;d&gt;c;c++)if(a[c]===b)return c;return-1},K=&quot;checked|selected|async|autofocus|autoplay|controls|defer|disabled|hidden|ismap|loop|multiple|open|readonly|required|scoped&quot;,L=&quot;[\\\\x20\\\\t\\\\r\\\\n\\\\f]&quot;,M=&quot;(?:\\\\\\\\.|[\\\\w-]|[^\\\\x00-\\\\xa0])+&quot;,N=&quot;\\\\[&quot;+L+&quot;*(&quot;+M+&quot;)(?:&quot;+L+&quot;*([*^$|!~]?=)&quot;+L+&quot;*(?:&#x27;((?:\\\\\\\\.|[^\\\\\\\\&#x27;])*)&#x27;|\\&quot;((?:\\\\\\\\.|[^\\\\\\\\\\&quot;])*)\\&quot;|(&quot;+M+&quot;))|)&quot;+L+&quot;*\\\\]&quot;,O=&quot;:(&quot;+M+&quot;)(?:\\\\(((&#x27;((?:\\\\\\\\.|[^\\\\\\\\&#x27;])*)&#x27;|\\&quot;((?:\\\\\\\\.|[^\\\\\\\\\\&quot;])*)\\&quot;)|((?:\\\\\\\\.|[^\\\\\\\\()[\\\\]]|&quot;+N+&quot;)*)|.*)\\\\)|)&quot;,P=new RegExp(L+&quot;+&quot;,&quot;g&quot;),Q=new RegExp(&quot;^&quot;+L+&quot;+|((?:^|[^\\\\\\\\])(?:\\\\\\\\.)*)&quot;+L+&quot;+$&quot;,&quot;g&quot;),R=new RegExp(&quot;^&quot;+L+&quot;*,&quot;+L+&quot;*&quot;),S=new RegExp(&quot;^&quot;+L+&quot;*([&gt;+~]|&quot;+L+&quot;)&quot;+L+&quot;*&quot;),T=new RegExp(&quot;=&quot;+L+&quot;*([^\\\\]&#x27;\\&quot;]*?)&quot;+L+&quot;*\\\\]&quot;,&quot;g&quot;),U=new RegExp(O),V=new RegExp(&quot;^&quot;+M+&quot;$&quot;),W={ID:new RegExp(&quot;^#(&quot;+M+&quot;)&quot;),CLASS:new RegExp(&quot;^\\\\.(&quot;+M+&quot;)&quot;),TAG:new RegExp(&quot;^(&quot;+M+&quot;|[*])&quot;),ATTR:new RegExp(&quot;^&quot;+N),PSEUDO:new RegExp(&quot;^&quot;+O),CHILD:new RegExp(&quot;^:(only|first|last|nth|nth-last)-(child|of-type)(?:\\\\(&quot;+L+&quot;*(even|odd|(([+-]|)(\\\\d*)n|)&quot;+L+&quot;*(?:([+-]|)&quot;+L+&quot;*(\\\\d+)|))&quot;+L+&quot;*\\\\)|)&quot;,&quot;i&quot;),bool:new RegExp(&quot;^(?:&quot;+K+&quot;)$&quot;,&quot;i&quot;),needsContext:new RegExp(&quot;^&quot;+L+&quot;*[&gt;+~]|:(even|odd|eq|gt|lt|nth|first|last)(?:\\\\(&quot;+L+&quot;*((?:-\\\\d)?\\\\d*)&quot;+L+&quot;*\\\\)|)(?=[^-]|$)&quot;,&quot;i&quot;)},X=/^(?:input|select|textarea|button)$/i,Y=/^h\\d$/i,Z=/^[^{]+\\{\\s*\\[native \\w/,$=/^(?:#([\\w-]+)|(\\w+)|\\.([\\w-]+))$/,_=/[+~]/,aa=/&#x27;|\\\\/g,ba=new RegExp(&quot;\\\\\\\\([\\\\da-f]{1,6}&quot;+L+&quot;?|(&quot;+L+&quot;)|.)&quot;,&quot;ig&quot;),ca=function(a,b,c){var d=&quot;0x&quot;+b-65536;return d!==d||c?b:0&gt;d?String.fromCharCode(d+65536):String.fromCharCode(d&gt;&gt;10|55296,1023&amp;d|56320)},da=function(){m()};try{H.apply(E=I.call(v.childNodes),v.childNodes),E[v.childNodes.length].nodeType}catch(ea){H={apply:E.length?function(a,b){G.apply(a,I.call(b))}:function(a,b){var c=a.length,d=0;while(a[c++]=b[d++]);a.length=c-1}}}function fa(a,b,d,e){var f,h,j,k,l,o,r,s,w=b&amp;&amp;b.ownerDocument,x=b?b.nodeType:9;if(d=d||[],&quot;string&quot;!=typeof a||!a||1!==x&amp;&amp;9!==x&amp;&amp;11!==x)return d;if(!e&amp;&amp;((b?b.ownerDocument||b:v)!==n&amp;&amp;m(b),b=b||n,p)){if(11!==x&amp;&amp;(o=$.exec(a)))if(f=o[1]){if(9===x){if(!(j=b.getElementById(f)))return d;if(j.id===f)return d.push(j),d}else if(w&amp;&amp;(j=w.getElementById(f))&amp;&amp;t(b,j)&amp;&amp;j.id===f)return d.push(j),d}else{if(o[2])return H.apply(d,b.getElementsByTagName(a)),d;if((f=o[3])&amp;&amp;c.getElementsByClassName&amp;&amp;b.getElementsByClassName)return H.apply(d,b.getElementsByClassName(f)),d}if(c.qsa&amp;&amp;!A[a+&quot; &quot;]&amp;&amp;(!q||!q.test(a))){if(1!==x)w=b,s=a;else if(&quot;object&quot;!==b.nodeName.toLowerCase()){(k=b.getAttribute(&quot;id&quot;))?k=k.replace(aa,&quot;\\\\$&amp;&quot;):b.setAttribute(&quot;id&quot;,k=u),r=g(a),h=r.length,l=V.test(k)?&quot;#&quot;+k:&quot;[id=&#x27;&quot;+k+&quot;&#x27;]&quot;;while(h--)r[h]=l+&quot; &quot;+qa(r[h]);s=r.join(&quot;,&quot;),w=_.test(a)&amp;&amp;oa(b.parentNode)||b}if(s)try{return H.apply(d,w.querySelectorAll(s)),d}catch(y){}finally{k===u&amp;&amp;b.removeAttribute(&quot;id&quot;)}}}return i(a.replace(Q,&quot;$1&quot;),b,d,e)}function ga(){var a=[];function b(c,e){return a.push(c+&quot; &quot;)&gt;d.cacheLength&amp;&amp;delete b[a.shift()],b[c+&quot; &quot;]=e}return b}function ha(a){return a[u]=!0,a}function ia(a){var b=n.createElement(&quot;div&quot;);try{return!!a(b)}catch(c){return!1}finally{b.parentNode&amp;&amp;b.parentNode.removeChild(b),b=null}}function ja(a,b){var c=a.split(&quot;|&quot;),e=c.length;while(e--)d.attrHandle[c[e]]=b}function ka(a,b){var c=b&amp;&amp;a,d=c&amp;&amp;1===a.nodeType&amp;&amp;1===b.nodeType&amp;&amp;(~b.sourceIndex||C)-(~a.sourceIndex||C);if(d)return d;if(c)while(c=c.nextSibling)if(c===b)return-1;return a?1:-1}function la(a){return function(b){var c=b.nodeName.toLowerCase();return&quot;input&quot;===c&amp;&amp;b.type===a}}function ma(a){return function(b){var c=b.nodeName.toLowerCase();return(&quot;input&quot;===c||&quot;button&quot;===c)&amp;&amp;b.type===a}}function na(a){return ha(function(b){return b=+b,ha(function(c,d){var e,f=a([],c.length,b),g=f.length;while(g--)c[e=f[g]]&amp;&amp;(c[e]=!(d[e]=c[e]))})})}function oa(a){return a&amp;&amp;&quot;undefined&quot;!=typeof a.getElementsByTagName&amp;&amp;a}c=fa.support={},f=fa.isXML=function(a){var b=a&amp;&amp;(a.ownerDocument||a).documentElement;return b?&quot;HTML&quot;!==b.nodeName:!1},m=fa.setDocument=function(a){var b,e,g=a?a.ownerDocument||a:v;return g!==n&amp;&amp;9===g.nodeType&amp;&amp;g.documentElement?(n=g,o=n.documentElement,p=!f(n),(e=n.defaultView)&amp;&amp;e.top!==e&amp;&amp;(e.addEventListener?e.addEventListener(&quot;unload&quot;,da,!1):e.attachEvent&amp;&amp;e.attachEvent(&quot;onunload&quot;,da)),c.attributes=ia(function(a){return a.className=&quot;i&quot;,!a.getAttribute(&quot;className&quot;)}),c.getElementsByTagName=ia(function(a){return a.appendChild(n.createComment(&quot;&quot;)),!a.getElementsByTagName(&quot;*&quot;).length}),c.getElementsByClassName=Z.test(n.getElementsByClassName),c.getById=ia(function(a){return o.appendChild(a).id=u,!n.getElementsByName||!n.getElementsByName(u).length}),c.getById?(d.find.ID=function(a,b){if(&quot;undefined&quot;!=typeof b.getElementById&amp;&amp;p){var c=b.getElementById(a);return c?[c]:[]}},d.filter.ID=function(a){var b=a.replace(ba,ca);return function(a){return a.getAttribute(&quot;id&quot;)===b}}):(delete d.find.ID,d.filter.ID=function(a){var b=a.replace(ba,ca);return function(a){var c=&quot;undefined&quot;!=typeof a.getAttributeNode&amp;&amp;a.getAttributeNode(&quot;id&quot;);return c&amp;&amp;c.value===b}}),d.find.TAG=c.getElementsByTagName?function(a,b){return&quot;undefined&quot;!=typeof b.getElementsByTagName?b.getElementsByTagName(a):c.qsa?b.querySelectorAll(a):void 0}:function(a,b){var c,d=[],e=0,f=b.getElementsByTagName(a);if(&quot;*&quot;===a){while(c=f[e++])1===c.nodeType&amp;&amp;d.push(c);return d}return f},d.find.CLASS=c.getElementsByClassName&amp;&amp;function(a,b){return&quot;undefined&quot;!=typeof b.getElementsByClassName&amp;&amp;p?b.getElementsByClassName(a):void 0},r=[],q=[],(c.qsa=Z.test(n.querySelectorAll))&amp;&amp;(ia(function(a){o.appendChild(a).innerHTML=&quot;&lt;a id=&#x27;&quot;+u+&quot;&#x27;&gt;&lt;/a&gt;&lt;select id=&#x27;&quot;+u+&quot;-\\r\\\\&#x27; msallowcapture=&#x27;&#x27;&gt;&lt;option selected=&#x27;&#x27;&gt;&lt;/option&gt;&lt;/select&gt;&quot;,a.querySelectorAll(&quot;[msallowcapture^=&#x27;&#x27;]&quot;).length&amp;&amp;q.push(&quot;[*^$]=&quot;+L+&quot;*(?:&#x27;&#x27;|\\&quot;\\&quot;)&quot;),a.querySelectorAll(&quot;[selected]&quot;).length||q.push(&quot;\\\\[&quot;+L+&quot;*(?:value|&quot;+K+&quot;)&quot;),a.querySelectorAll(&quot;[id~=&quot;+u+&quot;-]&quot;).length||q.push(&quot;~=&quot;),a.querySelectorAll(&quot;:checked&quot;).length||q.push(&quot;:checked&quot;),a.querySelectorAll(&quot;a#&quot;+u+&quot;+*&quot;).length||q.push(&quot;.#.+[+~]&quot;)}),ia(function(a){var b=n.createElement(&quot;input&quot;);b.setAttribute(&quot;type&quot;,&quot;hidden&quot;),a.appendChild(b).setAttribute(&quot;name&quot;,&quot;D&quot;),a.querySelectorAll(&quot;[name=d]&quot;).length&amp;&amp;q.push(&quot;name&quot;+L+&quot;*[*^$|!~]?=&quot;),a.querySelectorAll(&quot;:enabled&quot;).length||q.push(&quot;:enabled&quot;,&quot;:disabled&quot;),a.querySelectorAll(&quot;*,:x&quot;),q.push(&quot;,.*:&quot;)})),(c.matchesSelector=Z.test(s=o.matches||o.webkitMatchesSelector||o.mozMatchesSelector||o.oMatchesSelector||o.msMatchesSelector))&amp;&amp;ia(function(a){c.disconnectedMatch=s.call(a,&quot;div&quot;),s.call(a,&quot;[s!=&#x27;&#x27;]:x&quot;),r.push(&quot;!=&quot;,O)}),q=q.length&amp;&amp;new RegExp(q.join(&quot;|&quot;)),r=r.length&amp;&amp;new RegExp(r.join(&quot;|&quot;)),b=Z.test(o.compareDocumentPosition),t=b||Z.test(o.contains)?function(a,b){var c=9===a.nodeType?a.documentElement:a,d=b&amp;&amp;b.parentNode;return a===d||!(!d||1!==d.nodeType||!(c.contains?c.contains(d):a.compareDocumentPosition&amp;&amp;16&amp;a.compareDocumentPosition(d)))}:function(a,b){if(b)while(b=b.parentNode)if(b===a)return!0;return!1},B=b?function(a,b){if(a===b)return l=!0,0;var d=!a.compareDocumentPosition-!b.compareDocumentPosition;return d?d:(d=(a.ownerDocument||a)===(b.ownerDocument||b)?a.compareDocumentPosition(b):1,1&amp;d||!c.sortDetached&amp;&amp;b.compareDocumentPosition(a)===d?a===n||a.ownerDocument===v&amp;&amp;t(v,a)?-1:b===n||b.ownerDocument===v&amp;&amp;t(v,b)?1:k?J(k,a)-J(k,b):0:4&amp;d?-1:1)}:function(a,b){if(a===b)return l=!0,0;var c,d=0,e=a.parentNode,f=b.parentNode,g=[a],h=[b];if(!e||!f)return a===n?-1:b===n?1:e?-1:f?1:k?J(k,a)-J(k,b):0;if(e===f)return ka(a,b);c=a;while(c=c.parentNode)g.unshift(c);c=b;while(c=c.parentNode)h.unshift(c);while(g[d]===h[d])d++;return d?ka(g[d],h[d]):g[d]===v?-1:h[d]===v?1:0},n):n},fa.matches=function(a,b){return fa(a,null,null,b)},fa.matchesSelector=function(a,b){if((a.ownerDocument||a)!==n&amp;&amp;m(a),b=b.replace(T,&quot;=&#x27;$1&#x27;]&quot;),c.matchesSelector&amp;&amp;p&amp;&amp;!A[b+&quot; &quot;]&amp;&amp;(!r||!r.test(b))&amp;&amp;(!q||!q.test(b)))try{var d=s.call(a,b);if(d||c.disconnectedMatch||a.document&amp;&amp;11!==a.document.nodeType)return d}catch(e){}return fa(b,n,null,[a]).length&gt;0},fa.contains=function(a,b){return(a.ownerDocument||a)!==n&amp;&amp;m(a),t(a,b)},fa.attr=function(a,b){(a.ownerDocument||a)!==n&amp;&amp;m(a);var e=d.attrHandle[b.toLowerCase()],f=e&amp;&amp;D.call(d.attrHandle,b.toLowerCase())?e(a,b,!p):void 0;return void 0!==f?f:c.attributes||!p?a.getAttribute(b):(f=a.getAttributeNode(b))&amp;&amp;f.specified?f.value:null},fa.error=function(a){throw new Error(&quot;Syntax error, unrecognized expression: &quot;+a)},fa.uniqueSort=function(a){var b,d=[],e=0,f=0;if(l=!c.detectDuplicates,k=!c.sortStable&amp;&amp;a.slice(0),a.sort(B),l){while(b=a[f++])b===a[f]&amp;&amp;(e=d.push(f));while(e--)a.splice(d[e],1)}return k=null,a},e=fa.getText=function(a){var b,c=&quot;&quot;,d=0,f=a.nodeType;if(f){if(1===f||9===f||11===f){if(&quot;string&quot;==typeof a.textContent)return a.textContent;for(a=a.firstChild;a;a=a.nextSibling)c+=e(a)}else if(3===f||4===f)return a.nodeValue}else while(b=a[d++])c+=e(b);return c},d=fa.selectors={cacheLength:50,createPseudo:ha,match:W,attrHandle:{},find:{},relative:{&quot;&gt;&quot;:{dir:&quot;parentNode&quot;,first:!0},&quot; &quot;:{dir:&quot;parentNode&quot;},&quot;+&quot;:{dir:&quot;previousSibling&quot;,first:!0},&quot;~&quot;:{dir:&quot;previousSibling&quot;}},preFilter:{ATTR:function(a){return a[1]=a[1].replace(ba,ca),a[3]=(a[3]||a[4]||a[5]||&quot;&quot;).replace(ba,ca),&quot;~=&quot;===a[2]&amp;&amp;(a[3]=&quot; &quot;+a[3]+&quot; &quot;),a.slice(0,4)},CHILD:function(a){return a[1]=a[1].toLowerCase(),&quot;nth&quot;===a[1].slice(0,3)?(a[3]||fa.error(a[0]),a[4]=+(a[4]?a[5]+(a[6]||1):2*(&quot;even&quot;===a[3]||&quot;odd&quot;===a[3])),a[5]=+(a[7]+a[8]||&quot;odd&quot;===a[3])):a[3]&amp;&amp;fa.error(a[0]),a},PSEUDO:function(a){var b,c=!a[6]&amp;&amp;a[2];return W.CHILD.test(a[0])?null:(a[3]?a[2]=a[4]||a[5]||&quot;&quot;:c&amp;&amp;U.test(c)&amp;&amp;(b=g(c,!0))&amp;&amp;(b=c.indexOf(&quot;)&quot;,c.length-b)-c.length)&amp;&amp;(a[0]=a[0].slice(0,b),a[2]=c.slice(0,b)),a.slice(0,3))}},filter:{TAG:function(a){var b=a.replace(ba,ca).toLowerCase();return&quot;*&quot;===a?function(){return!0}:function(a){return a.nodeName&amp;&amp;a.nodeName.toLowerCase()===b}},CLASS:function(a){var b=y[a+&quot; &quot;];return b||(b=new RegExp(&quot;(^|&quot;+L+&quot;)&quot;+a+&quot;(&quot;+L+&quot;|$)&quot;))&amp;&amp;y(a,function(a){return b.test(&quot;string&quot;==typeof a.className&amp;&amp;a.className||&quot;undefined&quot;!=typeof a.getAttribute&amp;&amp;a.getAttribute(&quot;class&quot;)||&quot;&quot;)})},ATTR:function(a,b,c){return function(d){var e=fa.attr(d,a);return null==e?&quot;!=&quot;===b:b?(e+=&quot;&quot;,&quot;=&quot;===b?e===c:&quot;!=&quot;===b?e!==c:&quot;^=&quot;===b?c&amp;&amp;0===e.indexOf(c):&quot;*=&quot;===b?c&amp;&amp;e.indexOf(c)&gt;-1:&quot;$=&quot;===b?c&amp;&amp;e.slice(-c.length)===c:&quot;~=&quot;===b?(&quot; &quot;+e.replace(P,&quot; &quot;)+&quot; &quot;).indexOf(c)&gt;-1:&quot;|=&quot;===b?e===c||e.slice(0,c.length+1)===c+&quot;-&quot;:!1):!0}},CHILD:function(a,b,c,d,e){var f=&quot;nth&quot;!==a.slice(0,3),g=&quot;last&quot;!==a.slice(-4),h=&quot;of-type&quot;===b;return 1===d&amp;&amp;0===e?function(a){return!!a.parentNode}:function(b,c,i){var j,k,l,m,n,o,p=f!==g?&quot;nextSibling&quot;:&quot;previousSibling&quot;,q=b.parentNode,r=h&amp;&amp;b.nodeName.toLowerCase(),s=!i&amp;&amp;!h,t=!1;if(q){if(f){while(p){m=b;while(m=m[p])if(h?m.nodeName.toLowerCase()===r:1===m.nodeType)return!1;o=p=&quot;only&quot;===a&amp;&amp;!o&amp;&amp;&quot;nextSibling&quot;}return!0}if(o=[g?q.firstChild:q.lastChild],g&amp;&amp;s){m=q,l=m[u]||(m[u]={}),k=l[m.uniqueID]||(l[m.uniqueID]={}),j=k[a]||[],n=j[0]===w&amp;&amp;j[1],t=n&amp;&amp;j[2],m=n&amp;&amp;q.childNodes[n];while(m=++n&amp;&amp;m&amp;&amp;m[p]||(t=n=0)||o.pop())if(1===m.nodeType&amp;&amp;++t&amp;&amp;m===b){k[a]=[w,n,t];break}}else if(s&amp;&amp;(m=b,l=m[u]||(m[u]={}),k=l[m.uniqueID]||(l[m.uniqueID]={}),j=k[a]||[],n=j[0]===w&amp;&amp;j[1],t=n),t===!1)while(m=++n&amp;&amp;m&amp;&amp;m[p]||(t=n=0)||o.pop())if((h?m.nodeName.toLowerCase()===r:1===m.nodeType)&amp;&amp;++t&amp;&amp;(s&amp;&amp;(l=m[u]||(m[u]={}),k=l[m.uniqueID]||(l[m.uniqueID]={}),k[a]=[w,t]),m===b))break;return t-=e,t===d||t%d===0&amp;&amp;t/d&gt;=0}}},PSEUDO:function(a,b){var c,e=d.pseudos[a]||d.setFilters[a.toLowerCase()]||fa.error(&quot;unsupported pseudo: &quot;+a);return e[u]?e(b):e.length&gt;1?(c=[a,a,&quot;&quot;,b],d.setFilters.hasOwnProperty(a.toLowerCase())?ha(function(a,c){var d,f=e(a,b),g=f.length;while(g--)d=J(a,f[g]),a[d]=!(c[d]=f[g])}):function(a){return e(a,0,c)}):e}},pseudos:{not:ha(function(a){var b=[],c=[],d=h(a.replace(Q,&quot;$1&quot;));return d[u]?ha(function(a,b,c,e){var f,g=d(a,null,e,[]),h=a.length;while(h--)(f=g[h])&amp;&amp;(a[h]=!(b[h]=f))}):function(a,e,f){return b[0]=a,d(b,null,f,c),b[0]=null,!c.pop()}}),has:ha(function(a){return function(b){return fa(a,b).length&gt;0}}),contains:ha(function(a){return a=a.replace(ba,ca),function(b){return(b.textContent||b.innerText||e(b)).indexOf(a)&gt;-1}}),lang:ha(function(a){return V.test(a||&quot;&quot;)||fa.error(&quot;unsupported lang: &quot;+a),a=a.replace(ba,ca).toLowerCase(),function(b){var c;do if(c=p?b.lang:b.getAttribute(&quot;xml:lang&quot;)||b.getAttribute(&quot;lang&quot;))return c=c.toLowerCase(),c===a||0===c.indexOf(a+&quot;-&quot;);while((b=b.parentNode)&amp;&amp;1===b.nodeType);return!1}}),target:function(b){var c=a.location&amp;&amp;a.location.hash;return c&amp;&amp;c.slice(1)===b.id},root:function(a){return a===o},focus:function(a){return a===n.activeElement&amp;&amp;(!n.hasFocus||n.hasFocus())&amp;&amp;!!(a.type||a.href||~a.tabIndex)},enabled:function(a){return a.disabled===!1},disabled:function(a){return a.disabled===!0},checked:function(a){var b=a.nodeName.toLowerCase();return&quot;input&quot;===b&amp;&amp;!!a.checked||&quot;option&quot;===b&amp;&amp;!!a.selected},selected:function(a){return a.parentNode&amp;&amp;a.parentNode.selectedIndex,a.selected===!0},empty:function(a){for(a=a.firstChild;a;a=a.nextSibling)if(a.nodeType&lt;6)return!1;return!0},parent:function(a){return!d.pseudos.empty(a)},header:function(a){return Y.test(a.nodeName)},input:function(a){return X.test(a.nodeName)},button:function(a){var b=a.nodeName.toLowerCase();return&quot;input&quot;===b&amp;&amp;&quot;button&quot;===a.type||&quot;button&quot;===b},text:function(a){var b;return&quot;input&quot;===a.nodeName.toLowerCase()&amp;&amp;&quot;text&quot;===a.type&amp;&amp;(null==(b=a.getAttribute(&quot;type&quot;))||&quot;text&quot;===b.toLowerCase())},first:na(function(){return[0]}),last:na(function(a,b){return[b-1]}),eq:na(function(a,b,c){return[0&gt;c?c+b:c]}),even:na(function(a,b){for(var c=0;b&gt;c;c+=2)a.push(c);return a}),odd:na(function(a,b){for(var c=1;b&gt;c;c+=2)a.push(c);return a}),lt:na(function(a,b,c){for(var d=0&gt;c?c+b:c;--d&gt;=0;)a.push(d);return a}),gt:na(function(a,b,c){for(var d=0&gt;c?c+b:c;++d&lt;b;)a.push(d);return a})}},d.pseudos.nth=d.pseudos.eq;for(b in{radio:!0,checkbox:!0,file:!0,password:!0,image:!0})d.pseudos[b]=la(b);for(b in{submit:!0,reset:!0})d.pseudos[b]=ma(b);function pa(){}pa.prototype=d.filters=d.pseudos,d.setFilters=new pa,g=fa.tokenize=function(a,b){var c,e,f,g,h,i,j,k=z[a+&quot; &quot;];if(k)return b?0:k.slice(0);h=a,i=[],j=d.preFilter;while(h){c&amp;&amp;!(e=R.exec(h))||(e&amp;&amp;(h=h.slice(e[0].length)||h),i.push(f=[])),c=!1,(e=S.exec(h))&amp;&amp;(c=e.shift(),f.push({value:c,type:e[0].replace(Q,&quot; &quot;)}),h=h.slice(c.length));for(g in d.filter)!(e=W[g].exec(h))||j[g]&amp;&amp;!(e=j[g](e))||(c=e.shift(),f.push({value:c,type:g,matches:e}),h=h.slice(c.length));if(!c)break}return b?h.length:h?fa.error(a):z(a,i).slice(0)};function qa(a){for(var b=0,c=a.length,d=&quot;&quot;;c&gt;b;b++)d+=a[b].value;return d}function ra(a,b,c){var d=b.dir,e=c&amp;&amp;&quot;parentNode&quot;===d,f=x++;return b.first?function(b,c,f){while(b=b[d])if(1===b.nodeType||e)return a(b,c,f)}:function(b,c,g){var h,i,j,k=[w,f];if(g){while(b=b[d])if((1===b.nodeType||e)&amp;&amp;a(b,c,g))return!0}else while(b=b[d])if(1===b.nodeType||e){if(j=b[u]||(b[u]={}),i=j[b.uniqueID]||(j[b.uniqueID]={}),(h=i[d])&amp;&amp;h[0]===w&amp;&amp;h[1]===f)return k[2]=h[2];if(i[d]=k,k[2]=a(b,c,g))return!0}}}function sa(a){return a.length&gt;1?function(b,c,d){var e=a.length;while(e--)if(!a[e](b,c,d))return!1;return!0}:a[0]}function ta(a,b,c){for(var d=0,e=b.length;e&gt;d;d++)fa(a,b[d],c);return c}function ua(a,b,c,d,e){for(var f,g=[],h=0,i=a.length,j=null!=b;i&gt;h;h++)(f=a[h])&amp;&amp;(c&amp;&amp;!c(f,d,e)||(g.push(f),j&amp;&amp;b.push(h)));return g}function va(a,b,c,d,e,f){return d&amp;&amp;!d[u]&amp;&amp;(d=va(d)),e&amp;&amp;!e[u]&amp;&amp;(e=va(e,f)),ha(function(f,g,h,i){var j,k,l,m=[],n=[],o=g.length,p=f||ta(b||&quot;*&quot;,h.nodeType?[h]:h,[]),q=!a||!f&amp;&amp;b?p:ua(p,m,a,h,i),r=c?e||(f?a:o||d)?[]:g:q;if(c&amp;&amp;c(q,r,h,i),d){j=ua(r,n),d(j,[],h,i),k=j.length;while(k--)(l=j[k])&amp;&amp;(r[n[k]]=!(q[n[k]]=l))}if(f){if(e||a){if(e){j=[],k=r.length;while(k--)(l=r[k])&amp;&amp;j.push(q[k]=l);e(null,r=[],j,i)}k=r.length;while(k--)(l=r[k])&amp;&amp;(j=e?J(f,l):m[k])&gt;-1&amp;&amp;(f[j]=!(g[j]=l))}}else r=ua(r===g?r.splice(o,r.length):r),e?e(null,g,r,i):H.apply(g,r)})}function wa(a){for(var b,c,e,f=a.length,g=d.relative[a[0].type],h=g||d.relative[&quot; &quot;],i=g?1:0,k=ra(function(a){return a===b},h,!0),l=ra(function(a){return J(b,a)&gt;-1},h,!0),m=[function(a,c,d){var e=!g&amp;&amp;(d||c!==j)||((b=c).nodeType?k(a,c,d):l(a,c,d));return b=null,e}];f&gt;i;i++)if(c=d.relative[a[i].type])m=[ra(sa(m),c)];else{if(c=d.filter[a[i].type].apply(null,a[i].matches),c[u]){for(e=++i;f&gt;e;e++)if(d.relative[a[e].type])break;return va(i&gt;1&amp;&amp;sa(m),i&gt;1&amp;&amp;qa(a.slice(0,i-1).concat({value:&quot; &quot;===a[i-2].type?&quot;*&quot;:&quot;&quot;})).replace(Q,&quot;$1&quot;),c,e&gt;i&amp;&amp;wa(a.slice(i,e)),f&gt;e&amp;&amp;wa(a=a.slice(e)),f&gt;e&amp;&amp;qa(a))}m.push(c)}return sa(m)}function xa(a,b){var c=b.length&gt;0,e=a.length&gt;0,f=function(f,g,h,i,k){var l,o,q,r=0,s=&quot;0&quot;,t=f&amp;&amp;[],u=[],v=j,x=f||e&amp;&amp;d.find.TAG(&quot;*&quot;,k),y=w+=null==v?1:Math.random()||.1,z=x.length;for(k&amp;&amp;(j=g===n||g||k);s!==z&amp;&amp;null!=(l=x[s]);s++){if(e&amp;&amp;l){o=0,g||l.ownerDocument===n||(m(l),h=!p);while(q=a[o++])if(q(l,g||n,h)){i.push(l);break}k&amp;&amp;(w=y)}c&amp;&amp;((l=!q&amp;&amp;l)&amp;&amp;r--,f&amp;&amp;t.push(l))}if(r+=s,c&amp;&amp;s!==r){o=0;while(q=b[o++])q(t,u,g,h);if(f){if(r&gt;0)while(s--)t[s]||u[s]||(u[s]=F.call(i));u=ua(u)}H.apply(i,u),k&amp;&amp;!f&amp;&amp;u.length&gt;0&amp;&amp;r+b.length&gt;1&amp;&amp;fa.uniqueSort(i)}return k&amp;&amp;(w=y,j=v),t};return c?ha(f):f}return h=fa.compile=function(a,b){var c,d=[],e=[],f=A[a+&quot; &quot;];if(!f){b||(b=g(a)),c=b.length;while(c--)f=wa(b[c]),f[u]?d.push(f):e.push(f);f=A(a,xa(e,d)),f.selector=a}return f},i=fa.select=function(a,b,e,f){var i,j,k,l,m,n=&quot;function&quot;==typeof a&amp;&amp;a,o=!f&amp;&amp;g(a=n.selector||a);if(e=e||[],1===o.length){if(j=o[0]=o[0].slice(0),j.length&gt;2&amp;&amp;&quot;ID&quot;===(k=j[0]).type&amp;&amp;c.getById&amp;&amp;9===b.nodeType&amp;&amp;p&amp;&amp;d.relative[j[1].type]){if(b=(d.find.ID(k.matches[0].replace(ba,ca),b)||[])[0],!b)return e;n&amp;&amp;(b=b.parentNode),a=a.slice(j.shift().value.length)}i=W.needsContext.test(a)?0:j.length;while(i--){if(k=j[i],d.relative[l=k.type])break;if((m=d.find[l])&amp;&amp;(f=m(k.matches[0].replace(ba,ca),_.test(j[0].type)&amp;&amp;oa(b.parentNode)||b))){if(j.splice(i,1),a=f.length&amp;&amp;qa(j),!a)return H.apply(e,f),e;break}}}return(n||h(a,o))(f,b,!p,e,!b||_.test(a)&amp;&amp;oa(b.parentNode)||b),e},c.sortStable=u.split(&quot;&quot;).sort(B).join(&quot;&quot;)===u,c.detectDuplicates=!!l,m(),c.sortDetached=ia(function(a){return 1&amp;a.compareDocumentPosition(n.createElement(&quot;div&quot;))}),ia(function(a){return a.innerHTML=&quot;&lt;a href=&#x27;#&#x27;&gt;&lt;/a&gt;&quot;,&quot;#&quot;===a.firstChild.getAttribute(&quot;href&quot;)})||ja(&quot;type|href|height|width&quot;,function(a,b,c){return c?void 0:a.getAttribute(b,&quot;type&quot;===b.toLowerCase()?1:2)}),c.attributes&amp;&amp;ia(function(a){return a.innerHTML=&quot;&lt;input/&gt;&quot;,a.firstChild.setAttribute(&quot;value&quot;,&quot;&quot;),&quot;&quot;===a.firstChild.getAttribute(&quot;value&quot;)})||ja(&quot;value&quot;,function(a,b,c){return c||&quot;input&quot;!==a.nodeName.toLowerCase()?void 0:a.defaultValue}),ia(function(a){return null==a.getAttribute(&quot;disabled&quot;)})||ja(K,function(a,b,c){var d;return c?void 0:a[b]===!0?b.toLowerCase():(d=a.getAttributeNode(b))&amp;&amp;d.specified?d.value:null}),fa}(a);n.find=t,n.expr=t.selectors,n.expr[&quot;:&quot;]=n.expr.pseudos,n.uniqueSort=n.unique=t.uniqueSort,n.text=t.getText,n.isXMLDoc=t.isXML,n.contains=t.contains;var u=function(a,b,c){var d=[],e=void 0!==c;while((a=a[b])&amp;&amp;9!==a.nodeType)if(1===a.nodeType){if(e&amp;&amp;n(a).is(c))break;d.push(a)}return d},v=function(a,b){for(var c=[];a;a=a.nextSibling)1===a.nodeType&amp;&amp;a!==b&amp;&amp;c.push(a);return c},w=n.expr.match.needsContext,x=/^&lt;([\\w-]+)\\s*\\/?&gt;(?:&lt;\\/\\1&gt;|)$/,y=/^.[^:#\\[\\.,]*$/;function z(a,b,c){if(n.isFunction(b))return n.grep(a,function(a,d){return!!b.call(a,d,a)!==c});if(b.nodeType)return n.grep(a,function(a){return a===b!==c});if(&quot;string&quot;==typeof b){if(y.test(b))return n.filter(b,a,c);b=n.filter(b,a)}return n.grep(a,function(a){return n.inArray(a,b)&gt;-1!==c})}n.filter=function(a,b,c){var d=b[0];return c&amp;&amp;(a=&quot;:not(&quot;+a+&quot;)&quot;),1===b.length&amp;&amp;1===d.nodeType?n.find.matchesSelector(d,a)?[d]:[]:n.find.matches(a,n.grep(b,function(a){return 1===a.nodeType}))},n.fn.extend({find:function(a){var b,c=[],d=this,e=d.length;if(&quot;string&quot;!=typeof a)return this.pushStack(n(a).filter(function(){for(b=0;e&gt;b;b++)if(n.contains(d[b],this))return!0}));for(b=0;e&gt;b;b++)n.find(a,d[b],c);return c=this.pushStack(e&gt;1?n.unique(c):c),c.selector=this.selector?this.selector+&quot; &quot;+a:a,c},filter:function(a){return this.pushStack(z(this,a||[],!1))},not:function(a){return this.pushStack(z(this,a||[],!0))},is:function(a){return!!z(this,&quot;string&quot;==typeof a&amp;&amp;w.test(a)?n(a):a||[],!1).length}});var A,B=/^(?:\\s*(&lt;[\\w\\W]+&gt;)[^&gt;]*|#([\\w-]*))$/,C=n.fn.init=function(a,b,c){var e,f;if(!a)return this;if(c=c||A,&quot;string&quot;==typeof a){if(e=&quot;&lt;&quot;===a.charAt(0)&amp;&amp;&quot;&gt;&quot;===a.charAt(a.length-1)&amp;&amp;a.length&gt;=3?[null,a,null]:B.exec(a),!e||!e[1]&amp;&amp;b)return!b||b.jquery?(b||c).find(a):this.constructor(b).find(a);if(e[1]){if(b=b instanceof n?b[0]:b,n.merge(this,n.parseHTML(e[1],b&amp;&amp;b.nodeType?b.ownerDocument||b:d,!0)),x.test(e[1])&amp;&amp;n.isPlainObject(b))for(e in b)n.isFunction(this[e])?this[e](b[e]):this.attr(e,b[e]);return this}if(f=d.getElementById(e[2]),f&amp;&amp;f.parentNode){if(f.id!==e[2])return A.find(a);this.length=1,this[0]=f}return this.context=d,this.selector=a,this}return a.nodeType?(this.context=this[0]=a,this.length=1,this):n.isFunction(a)?&quot;undefined&quot;!=typeof c.ready?c.ready(a):a(n):(void 0!==a.selector&amp;&amp;(this.selector=a.selector,this.context=a.context),n.makeArray(a,this))};C.prototype=n.fn,A=n(d);var D=/^(?:parents|prev(?:Until|All))/,E={children:!0,contents:!0,next:!0,prev:!0};n.fn.extend({has:function(a){var b,c=n(a,this),d=c.length;return this.filter(function(){for(b=0;d&gt;b;b++)if(n.contains(this,c[b]))return!0})},closest:function(a,b){for(var c,d=0,e=this.length,f=[],g=w.test(a)||&quot;string&quot;!=typeof a?n(a,b||this.context):0;e&gt;d;d++)for(c=this[d];c&amp;&amp;c!==b;c=c.parentNode)if(c.nodeType&lt;11&amp;&amp;(g?g.index(c)&gt;-1:1===c.nodeType&amp;&amp;n.find.matchesSelector(c,a))){f.push(c);break}return this.pushStack(f.length&gt;1?n.uniqueSort(f):f)},index:function(a){return a?&quot;string&quot;==typeof a?n.inArray(this[0],n(a)):n.inArray(a.jquery?a[0]:a,this):this[0]&amp;&amp;this[0].parentNode?this.first().prevAll().length:-1},add:function(a,b){return this.pushStack(n.uniqueSort(n.merge(this.get(),n(a,b))))},addBack:function(a){return this.add(null==a?this.prevObject:this.prevObject.filter(a))}});function F(a,b){do a=a[b];while(a&amp;&amp;1!==a.nodeType);return a}n.each({parent:function(a){var b=a.parentNode;return b&amp;&amp;11!==b.nodeType?b:null},parents:function(a){return u(a,&quot;parentNode&quot;)},parentsUntil:function(a,b,c){return u(a,&quot;parentNode&quot;,c)},next:function(a){return F(a,&quot;nextSibling&quot;)},prev:function(a){return F(a,&quot;previousSibling&quot;)},nextAll:function(a){return u(a,&quot;nextSibling&quot;)},prevAll:function(a){return u(a,&quot;previousSibling&quot;)},nextUntil:function(a,b,c){return u(a,&quot;nextSibling&quot;,c)},prevUntil:function(a,b,c){return u(a,&quot;previousSibling&quot;,c)},siblings:function(a){return v((a.parentNode||{}).firstChild,a)},children:function(a){return v(a.firstChild)},contents:function(a){return n.nodeName(a,&quot;iframe&quot;)?a.contentDocument||a.contentWindow.document:n.merge([],a.childNodes)}},function(a,b){n.fn[a]=function(c,d){var e=n.map(this,b,c);return&quot;Until&quot;!==a.slice(-5)&amp;&amp;(d=c),d&amp;&amp;&quot;string&quot;==typeof d&amp;&amp;(e=n.filter(d,e)),this.length&gt;1&amp;&amp;(E[a]||(e=n.uniqueSort(e)),D.test(a)&amp;&amp;(e=e.reverse())),this.pushStack(e)}});var G=/\\S+/g;function H(a){var b={};return n.each(a.match(G)||[],function(a,c){b[c]=!0}),b}n.Callbacks=function(a){a=&quot;string&quot;==typeof a?H(a):n.extend({},a);var b,c,d,e,f=[],g=[],h=-1,i=function(){for(e=a.once,d=b=!0;g.length;h=-1){c=g.shift();while(++h&lt;f.length)f[h].apply(c[0],c[1])===!1&amp;&amp;a.stopOnFalse&amp;&amp;(h=f.length,c=!1)}a.memory||(c=!1),b=!1,e&amp;&amp;(f=c?[]:&quot;&quot;)},j={add:function(){return f&amp;&amp;(c&amp;&amp;!b&amp;&amp;(h=f.length-1,g.push(c)),function d(b){n.each(b,function(b,c){n.isFunction(c)?a.unique&amp;&amp;j.has(c)||f.push(c):c&amp;&amp;c.length&amp;&amp;&quot;string&quot;!==n.type(c)&amp;&amp;d(c)})}(arguments),c&amp;&amp;!b&amp;&amp;i()),this},remove:function(){return n.each(arguments,function(a,b){var c;while((c=n.inArray(b,f,c))&gt;-1)f.splice(c,1),h&gt;=c&amp;&amp;h--}),this},has:function(a){return a?n.inArray(a,f)&gt;-1:f.length&gt;0},empty:function(){return f&amp;&amp;(f=[]),this},disable:function(){return e=g=[],f=c=&quot;&quot;,this},disabled:function(){return!f},lock:function(){return e=!0,c||j.disable(),this},locked:function(){return!!e},fireWith:function(a,c){return e||(c=c||[],c=[a,c.slice?c.slice():c],g.push(c),b||i()),this},fire:function(){return j.fireWith(this,arguments),this},fired:function(){return!!d}};return j},n.extend({Deferred:function(a){var b=[[&quot;resolve&quot;,&quot;done&quot;,n.Callbacks(&quot;once memory&quot;),&quot;resolved&quot;],[&quot;reject&quot;,&quot;fail&quot;,n.Callbacks(&quot;once memory&quot;),&quot;rejected&quot;],[&quot;notify&quot;,&quot;progress&quot;,n.Callbacks(&quot;memory&quot;)]],c=&quot;pending&quot;,d={state:function(){return c},always:function(){return e.done(arguments).fail(arguments),this},then:function(){var a=arguments;return n.Deferred(function(c){n.each(b,function(b,f){var g=n.isFunction(a[b])&amp;&amp;a[b];e[f[1]](function(){var a=g&amp;&amp;g.apply(this,arguments);a&amp;&amp;n.isFunction(a.promise)?a.promise().progress(c.notify).done(c.resolve).fail(c.reject):c[f[0]+&quot;With&quot;](this===d?c.promise():this,g?[a]:arguments)})}),a=null}).promise()},promise:function(a){return null!=a?n.extend(a,d):d}},e={};return d.pipe=d.then,n.each(b,function(a,f){var g=f[2],h=f[3];d[f[1]]=g.add,h&amp;&amp;g.add(function(){c=h},b[1^a][2].disable,b[2][2].lock),e[f[0]]=function(){return e[f[0]+&quot;With&quot;](this===e?d:this,arguments),this},e[f[0]+&quot;With&quot;]=g.fireWith}),d.promise(e),a&amp;&amp;a.call(e,e),e},when:function(a){var b=0,c=e.call(arguments),d=c.length,f=1!==d||a&amp;&amp;n.isFunction(a.promise)?d:0,g=1===f?a:n.Deferred(),h=function(a,b,c){return function(d){b[a]=this,c[a]=arguments.length&gt;1?e.call(arguments):d,c===i?g.notifyWith(b,c):--f||g.resolveWith(b,c)}},i,j,k;if(d&gt;1)for(i=new Array(d),j=new Array(d),k=new Array(d);d&gt;b;b++)c[b]&amp;&amp;n.isFunction(c[b].promise)?c[b].promise().progress(h(b,j,i)).done(h(b,k,c)).fail(g.reject):--f;return f||g.resolveWith(k,c),g.promise()}});var I;n.fn.ready=function(a){return n.ready.promise().done(a),this},n.extend({isReady:!1,readyWait:1,holdReady:function(a){a?n.readyWait++:n.ready(!0)},ready:function(a){(a===!0?--n.readyWait:n.isReady)||(n.isReady=!0,a!==!0&amp;&amp;--n.readyWait&gt;0||(I.resolveWith(d,[n]),n.fn.triggerHandler&amp;&amp;(n(d).triggerHandler(&quot;ready&quot;),n(d).off(&quot;ready&quot;))))}});function J(){d.addEventListener?(d.removeEventListener(&quot;DOMContentLoaded&quot;,K),a.removeEventListener(&quot;load&quot;,K)):(d.detachEvent(&quot;onreadystatechange&quot;,K),a.detachEvent(&quot;onload&quot;,K))}function K(){(d.addEventListener||&quot;load&quot;===a.event.type||&quot;complete&quot;===d.readyState)&amp;&amp;(J(),n.ready())}n.ready.promise=function(b){if(!I)if(I=n.Deferred(),&quot;complete&quot;===d.readyState||&quot;loading&quot;!==d.readyState&amp;&amp;!d.documentElement.doScroll)a.setTimeout(n.ready);else if(d.addEventListener)d.addEventListener(&quot;DOMContentLoaded&quot;,K),a.addEventListener(&quot;load&quot;,K);else{d.attachEvent(&quot;onreadystatechange&quot;,K),a.attachEvent(&quot;onload&quot;,K);var c=!1;try{c=null==a.frameElement&amp;&amp;d.documentElement}catch(e){}c&amp;&amp;c.doScroll&amp;&amp;!function f(){if(!n.isReady){try{c.doScroll(&quot;left&quot;)}catch(b){return a.setTimeout(f,50)}J(),n.ready()}}()}return I.promise(b)},n.ready.promise();var L;for(L in n(l))break;l.ownFirst=&quot;0&quot;===L,l.inlineBlockNeedsLayout=!1,n(function(){var a,b,c,e;c=d.getElementsByTagName(&quot;body&quot;)[0],c&amp;&amp;c.style&amp;&amp;(b=d.createElement(&quot;div&quot;),e=d.createElement(&quot;div&quot;),e.style.cssText=&quot;position:absolute;border:0;width:0;height:0;top:0;left:-9999px&quot;,c.appendChild(e).appendChild(b),&quot;undefined&quot;!=typeof b.style.zoom&amp;&amp;(b.style.cssText=&quot;display:inline;margin:0;border:0;padding:1px;width:1px;zoom:1&quot;,l.inlineBlockNeedsLayout=a=3===b.offsetWidth,a&amp;&amp;(c.style.zoom=1)),c.removeChild(e))}),function(){var a=d.createElement(&quot;div&quot;);l.deleteExpando=!0;try{delete a.test}catch(b){l.deleteExpando=!1}a=null}();var M=function(a){var b=n.noData[(a.nodeName+&quot; &quot;).toLowerCase()],c=+a.nodeType||1;return 1!==c&amp;&amp;9!==c?!1:!b||b!==!0&amp;&amp;a.getAttribute(&quot;classid&quot;)===b},N=/^(?:\\{[\\w\\W]*\\}|\\[[\\w\\W]*\\])$/,O=/([A-Z])/g;function P(a,b,c){if(void 0===c&amp;&amp;1===a.nodeType){var d=&quot;data-&quot;+b.replace(O,&quot;-$1&quot;).toLowerCase();if(c=a.getAttribute(d),&quot;string&quot;==typeof c){try{c=&quot;true&quot;===c?!0:&quot;false&quot;===c?!1:&quot;null&quot;===c?null:+c+&quot;&quot;===c?+c:N.test(c)?n.parseJSON(c):c}catch(e){}n.data(a,b,c)}else c=void 0;\n",
       "}return c}function Q(a){var b;for(b in a)if((&quot;data&quot;!==b||!n.isEmptyObject(a[b]))&amp;&amp;&quot;toJSON&quot;!==b)return!1;return!0}function R(a,b,d,e){if(M(a)){var f,g,h=n.expando,i=a.nodeType,j=i?n.cache:a,k=i?a[h]:a[h]&amp;&amp;h;if(k&amp;&amp;j[k]&amp;&amp;(e||j[k].data)||void 0!==d||&quot;string&quot;!=typeof b)return k||(k=i?a[h]=c.pop()||n.guid++:h),j[k]||(j[k]=i?{}:{toJSON:n.noop}),&quot;object&quot;!=typeof b&amp;&amp;&quot;function&quot;!=typeof b||(e?j[k]=n.extend(j[k],b):j[k].data=n.extend(j[k].data,b)),g=j[k],e||(g.data||(g.data={}),g=g.data),void 0!==d&amp;&amp;(g[n.camelCase(b)]=d),&quot;string&quot;==typeof b?(f=g[b],null==f&amp;&amp;(f=g[n.camelCase(b)])):f=g,f}}function S(a,b,c){if(M(a)){var d,e,f=a.nodeType,g=f?n.cache:a,h=f?a[n.expando]:n.expando;if(g[h]){if(b&amp;&amp;(d=c?g[h]:g[h].data)){n.isArray(b)?b=b.concat(n.map(b,n.camelCase)):b in d?b=[b]:(b=n.camelCase(b),b=b in d?[b]:b.split(&quot; &quot;)),e=b.length;while(e--)delete d[b[e]];if(c?!Q(d):!n.isEmptyObject(d))return}(c||(delete g[h].data,Q(g[h])))&amp;&amp;(f?n.cleanData([a],!0):l.deleteExpando||g!=g.window?delete g[h]:g[h]=void 0)}}}n.extend({cache:{},noData:{&quot;applet &quot;:!0,&quot;embed &quot;:!0,&quot;object &quot;:&quot;clsid:D27CDB6E-AE6D-11cf-96B8-444553540000&quot;},hasData:function(a){return a=a.nodeType?n.cache[a[n.expando]]:a[n.expando],!!a&amp;&amp;!Q(a)},data:function(a,b,c){return R(a,b,c)},removeData:function(a,b){return S(a,b)},_data:function(a,b,c){return R(a,b,c,!0)},_removeData:function(a,b){return S(a,b,!0)}}),n.fn.extend({data:function(a,b){var c,d,e,f=this[0],g=f&amp;&amp;f.attributes;if(void 0===a){if(this.length&amp;&amp;(e=n.data(f),1===f.nodeType&amp;&amp;!n._data(f,&quot;parsedAttrs&quot;))){c=g.length;while(c--)g[c]&amp;&amp;(d=g[c].name,0===d.indexOf(&quot;data-&quot;)&amp;&amp;(d=n.camelCase(d.slice(5)),P(f,d,e[d])));n._data(f,&quot;parsedAttrs&quot;,!0)}return e}return&quot;object&quot;==typeof a?this.each(function(){n.data(this,a)}):arguments.length&gt;1?this.each(function(){n.data(this,a,b)}):f?P(f,a,n.data(f,a)):void 0},removeData:function(a){return this.each(function(){n.removeData(this,a)})}}),n.extend({queue:function(a,b,c){var d;return a?(b=(b||&quot;fx&quot;)+&quot;queue&quot;,d=n._data(a,b),c&amp;&amp;(!d||n.isArray(c)?d=n._data(a,b,n.makeArray(c)):d.push(c)),d||[]):void 0},dequeue:function(a,b){b=b||&quot;fx&quot;;var c=n.queue(a,b),d=c.length,e=c.shift(),f=n._queueHooks(a,b),g=function(){n.dequeue(a,b)};&quot;inprogress&quot;===e&amp;&amp;(e=c.shift(),d--),e&amp;&amp;(&quot;fx&quot;===b&amp;&amp;c.unshift(&quot;inprogress&quot;),delete f.stop,e.call(a,g,f)),!d&amp;&amp;f&amp;&amp;f.empty.fire()},_queueHooks:function(a,b){var c=b+&quot;queueHooks&quot;;return n._data(a,c)||n._data(a,c,{empty:n.Callbacks(&quot;once memory&quot;).add(function(){n._removeData(a,b+&quot;queue&quot;),n._removeData(a,c)})})}}),n.fn.extend({queue:function(a,b){var c=2;return&quot;string&quot;!=typeof a&amp;&amp;(b=a,a=&quot;fx&quot;,c--),arguments.length&lt;c?n.queue(this[0],a):void 0===b?this:this.each(function(){var c=n.queue(this,a,b);n._queueHooks(this,a),&quot;fx&quot;===a&amp;&amp;&quot;inprogress&quot;!==c[0]&amp;&amp;n.dequeue(this,a)})},dequeue:function(a){return this.each(function(){n.dequeue(this,a)})},clearQueue:function(a){return this.queue(a||&quot;fx&quot;,[])},promise:function(a,b){var c,d=1,e=n.Deferred(),f=this,g=this.length,h=function(){--d||e.resolveWith(f,[f])};&quot;string&quot;!=typeof a&amp;&amp;(b=a,a=void 0),a=a||&quot;fx&quot;;while(g--)c=n._data(f[g],a+&quot;queueHooks&quot;),c&amp;&amp;c.empty&amp;&amp;(d++,c.empty.add(h));return h(),e.promise(b)}}),function(){var a;l.shrinkWrapBlocks=function(){if(null!=a)return a;a=!1;var b,c,e;return c=d.getElementsByTagName(&quot;body&quot;)[0],c&amp;&amp;c.style?(b=d.createElement(&quot;div&quot;),e=d.createElement(&quot;div&quot;),e.style.cssText=&quot;position:absolute;border:0;width:0;height:0;top:0;left:-9999px&quot;,c.appendChild(e).appendChild(b),&quot;undefined&quot;!=typeof b.style.zoom&amp;&amp;(b.style.cssText=&quot;-webkit-box-sizing:content-box;-moz-box-sizing:content-box;box-sizing:content-box;display:block;margin:0;border:0;padding:1px;width:1px;zoom:1&quot;,b.appendChild(d.createElement(&quot;div&quot;)).style.width=&quot;5px&quot;,a=3!==b.offsetWidth),c.removeChild(e),a):void 0}}();var T=/[+-]?(?:\\d*\\.|)\\d+(?:[eE][+-]?\\d+|)/.source,U=new RegExp(&quot;^(?:([+-])=|)(&quot;+T+&quot;)([a-z%]*)$&quot;,&quot;i&quot;),V=[&quot;Top&quot;,&quot;Right&quot;,&quot;Bottom&quot;,&quot;Left&quot;],W=function(a,b){return a=b||a,&quot;none&quot;===n.css(a,&quot;display&quot;)||!n.contains(a.ownerDocument,a)};function X(a,b,c,d){var e,f=1,g=20,h=d?function(){return d.cur()}:function(){return n.css(a,b,&quot;&quot;)},i=h(),j=c&amp;&amp;c[3]||(n.cssNumber[b]?&quot;&quot;:&quot;px&quot;),k=(n.cssNumber[b]||&quot;px&quot;!==j&amp;&amp;+i)&amp;&amp;U.exec(n.css(a,b));if(k&amp;&amp;k[3]!==j){j=j||k[3],c=c||[],k=+i||1;do f=f||&quot;.5&quot;,k/=f,n.style(a,b,k+j);while(f!==(f=h()/i)&amp;&amp;1!==f&amp;&amp;--g)}return c&amp;&amp;(k=+k||+i||0,e=c[1]?k+(c[1]+1)*c[2]:+c[2],d&amp;&amp;(d.unit=j,d.start=k,d.end=e)),e}var Y=function(a,b,c,d,e,f,g){var h=0,i=a.length,j=null==c;if(&quot;object&quot;===n.type(c)){e=!0;for(h in c)Y(a,b,h,c[h],!0,f,g)}else if(void 0!==d&amp;&amp;(e=!0,n.isFunction(d)||(g=!0),j&amp;&amp;(g?(b.call(a,d),b=null):(j=b,b=function(a,b,c){return j.call(n(a),c)})),b))for(;i&gt;h;h++)b(a[h],c,g?d:d.call(a[h],h,b(a[h],c)));return e?a:j?b.call(a):i?b(a[0],c):f},Z=/^(?:checkbox|radio)$/i,$=/&lt;([\\w:-]+)/,_=/^$|\\/(?:java|ecma)script/i,aa=/^\\s+/,ba=&quot;abbr|article|aside|audio|bdi|canvas|data|datalist|details|dialog|figcaption|figure|footer|header|hgroup|main|mark|meter|nav|output|picture|progress|section|summary|template|time|video&quot;;function ca(a){var b=ba.split(&quot;|&quot;),c=a.createDocumentFragment();if(c.createElement)while(b.length)c.createElement(b.pop());return c}!function(){var a=d.createElement(&quot;div&quot;),b=d.createDocumentFragment(),c=d.createElement(&quot;input&quot;);a.innerHTML=&quot;  &lt;link/&gt;&lt;table&gt;&lt;/table&gt;&lt;a href=&#x27;/a&#x27;&gt;a&lt;/a&gt;&lt;input type=&#x27;checkbox&#x27;/&gt;&quot;,l.leadingWhitespace=3===a.firstChild.nodeType,l.tbody=!a.getElementsByTagName(&quot;tbody&quot;).length,l.htmlSerialize=!!a.getElementsByTagName(&quot;link&quot;).length,l.html5Clone=&quot;&lt;:nav&gt;&lt;/:nav&gt;&quot;!==d.createElement(&quot;nav&quot;).cloneNode(!0).outerHTML,c.type=&quot;checkbox&quot;,c.checked=!0,b.appendChild(c),l.appendChecked=c.checked,a.innerHTML=&quot;&lt;textarea&gt;x&lt;/textarea&gt;&quot;,l.noCloneChecked=!!a.cloneNode(!0).lastChild.defaultValue,b.appendChild(a),c=d.createElement(&quot;input&quot;),c.setAttribute(&quot;type&quot;,&quot;radio&quot;),c.setAttribute(&quot;checked&quot;,&quot;checked&quot;),c.setAttribute(&quot;name&quot;,&quot;t&quot;),a.appendChild(c),l.checkClone=a.cloneNode(!0).cloneNode(!0).lastChild.checked,l.noCloneEvent=!!a.addEventListener,a[n.expando]=1,l.attributes=!a.getAttribute(n.expando)}();var da={option:[1,&quot;&lt;select multiple=&#x27;multiple&#x27;&gt;&quot;,&quot;&lt;/select&gt;&quot;],legend:[1,&quot;&lt;fieldset&gt;&quot;,&quot;&lt;/fieldset&gt;&quot;],area:[1,&quot;&lt;map&gt;&quot;,&quot;&lt;/map&gt;&quot;],param:[1,&quot;&lt;object&gt;&quot;,&quot;&lt;/object&gt;&quot;],thead:[1,&quot;&lt;table&gt;&quot;,&quot;&lt;/table&gt;&quot;],tr:[2,&quot;&lt;table&gt;&lt;tbody&gt;&quot;,&quot;&lt;/tbody&gt;&lt;/table&gt;&quot;],col:[2,&quot;&lt;table&gt;&lt;tbody&gt;&lt;/tbody&gt;&lt;colgroup&gt;&quot;,&quot;&lt;/colgroup&gt;&lt;/table&gt;&quot;],td:[3,&quot;&lt;table&gt;&lt;tbody&gt;&lt;tr&gt;&quot;,&quot;&lt;/tr&gt;&lt;/tbody&gt;&lt;/table&gt;&quot;],_default:l.htmlSerialize?[0,&quot;&quot;,&quot;&quot;]:[1,&quot;X&lt;div&gt;&quot;,&quot;&lt;/div&gt;&quot;]};da.optgroup=da.option,da.tbody=da.tfoot=da.colgroup=da.caption=da.thead,da.th=da.td;function ea(a,b){var c,d,e=0,f=&quot;undefined&quot;!=typeof a.getElementsByTagName?a.getElementsByTagName(b||&quot;*&quot;):&quot;undefined&quot;!=typeof a.querySelectorAll?a.querySelectorAll(b||&quot;*&quot;):void 0;if(!f)for(f=[],c=a.childNodes||a;null!=(d=c[e]);e++)!b||n.nodeName(d,b)?f.push(d):n.merge(f,ea(d,b));return void 0===b||b&amp;&amp;n.nodeName(a,b)?n.merge([a],f):f}function fa(a,b){for(var c,d=0;null!=(c=a[d]);d++)n._data(c,&quot;globalEval&quot;,!b||n._data(b[d],&quot;globalEval&quot;))}var ga=/&lt;|&amp;#?\\w+;/,ha=/&lt;tbody/i;function ia(a){Z.test(a.type)&amp;&amp;(a.defaultChecked=a.checked)}function ja(a,b,c,d,e){for(var f,g,h,i,j,k,m,o=a.length,p=ca(b),q=[],r=0;o&gt;r;r++)if(g=a[r],g||0===g)if(&quot;object&quot;===n.type(g))n.merge(q,g.nodeType?[g]:g);else if(ga.test(g)){i=i||p.appendChild(b.createElement(&quot;div&quot;)),j=($.exec(g)||[&quot;&quot;,&quot;&quot;])[1].toLowerCase(),m=da[j]||da._default,i.innerHTML=m[1]+n.htmlPrefilter(g)+m[2],f=m[0];while(f--)i=i.lastChild;if(!l.leadingWhitespace&amp;&amp;aa.test(g)&amp;&amp;q.push(b.createTextNode(aa.exec(g)[0])),!l.tbody){g=&quot;table&quot;!==j||ha.test(g)?&quot;&lt;table&gt;&quot;!==m[1]||ha.test(g)?0:i:i.firstChild,f=g&amp;&amp;g.childNodes.length;while(f--)n.nodeName(k=g.childNodes[f],&quot;tbody&quot;)&amp;&amp;!k.childNodes.length&amp;&amp;g.removeChild(k)}n.merge(q,i.childNodes),i.textContent=&quot;&quot;;while(i.firstChild)i.removeChild(i.firstChild);i=p.lastChild}else q.push(b.createTextNode(g));i&amp;&amp;p.removeChild(i),l.appendChecked||n.grep(ea(q,&quot;input&quot;),ia),r=0;while(g=q[r++])if(d&amp;&amp;n.inArray(g,d)&gt;-1)e&amp;&amp;e.push(g);else if(h=n.contains(g.ownerDocument,g),i=ea(p.appendChild(g),&quot;script&quot;),h&amp;&amp;fa(i),c){f=0;while(g=i[f++])_.test(g.type||&quot;&quot;)&amp;&amp;c.push(g)}return i=null,p}!function(){var b,c,e=d.createElement(&quot;div&quot;);for(b in{submit:!0,change:!0,focusin:!0})c=&quot;on&quot;+b,(l[b]=c in a)||(e.setAttribute(c,&quot;t&quot;),l[b]=e.attributes[c].expando===!1);e=null}();var ka=/^(?:input|select|textarea)$/i,la=/^key/,ma=/^(?:mouse|pointer|contextmenu|drag|drop)|click/,na=/^(?:focusinfocus|focusoutblur)$/,oa=/^([^.]*)(?:\\.(.+)|)/;function pa(){return!0}function qa(){return!1}function ra(){try{return d.activeElement}catch(a){}}function sa(a,b,c,d,e,f){var g,h;if(&quot;object&quot;==typeof b){&quot;string&quot;!=typeof c&amp;&amp;(d=d||c,c=void 0);for(h in b)sa(a,h,c,d,b[h],f);return a}if(null==d&amp;&amp;null==e?(e=c,d=c=void 0):null==e&amp;&amp;(&quot;string&quot;==typeof c?(e=d,d=void 0):(e=d,d=c,c=void 0)),e===!1)e=qa;else if(!e)return a;return 1===f&amp;&amp;(g=e,e=function(a){return n().off(a),g.apply(this,arguments)},e.guid=g.guid||(g.guid=n.guid++)),a.each(function(){n.event.add(this,b,e,d,c)})}n.event={global:{},add:function(a,b,c,d,e){var f,g,h,i,j,k,l,m,o,p,q,r=n._data(a);if(r){c.handler&amp;&amp;(i=c,c=i.handler,e=i.selector),c.guid||(c.guid=n.guid++),(g=r.events)||(g=r.events={}),(k=r.handle)||(k=r.handle=function(a){return&quot;undefined&quot;==typeof n||a&amp;&amp;n.event.triggered===a.type?void 0:n.event.dispatch.apply(k.elem,arguments)},k.elem=a),b=(b||&quot;&quot;).match(G)||[&quot;&quot;],h=b.length;while(h--)f=oa.exec(b[h])||[],o=q=f[1],p=(f[2]||&quot;&quot;).split(&quot;.&quot;).sort(),o&amp;&amp;(j=n.event.special[o]||{},o=(e?j.delegateType:j.bindType)||o,j=n.event.special[o]||{},l=n.extend({type:o,origType:q,data:d,handler:c,guid:c.guid,selector:e,needsContext:e&amp;&amp;n.expr.match.needsContext.test(e),namespace:p.join(&quot;.&quot;)},i),(m=g[o])||(m=g[o]=[],m.delegateCount=0,j.setup&amp;&amp;j.setup.call(a,d,p,k)!==!1||(a.addEventListener?a.addEventListener(o,k,!1):a.attachEvent&amp;&amp;a.attachEvent(&quot;on&quot;+o,k))),j.add&amp;&amp;(j.add.call(a,l),l.handler.guid||(l.handler.guid=c.guid)),e?m.splice(m.delegateCount++,0,l):m.push(l),n.event.global[o]=!0);a=null}},remove:function(a,b,c,d,e){var f,g,h,i,j,k,l,m,o,p,q,r=n.hasData(a)&amp;&amp;n._data(a);if(r&amp;&amp;(k=r.events)){b=(b||&quot;&quot;).match(G)||[&quot;&quot;],j=b.length;while(j--)if(h=oa.exec(b[j])||[],o=q=h[1],p=(h[2]||&quot;&quot;).split(&quot;.&quot;).sort(),o){l=n.event.special[o]||{},o=(d?l.delegateType:l.bindType)||o,m=k[o]||[],h=h[2]&amp;&amp;new RegExp(&quot;(^|\\\\.)&quot;+p.join(&quot;\\\\.(?:.*\\\\.|)&quot;)+&quot;(\\\\.|$)&quot;),i=f=m.length;while(f--)g=m[f],!e&amp;&amp;q!==g.origType||c&amp;&amp;c.guid!==g.guid||h&amp;&amp;!h.test(g.namespace)||d&amp;&amp;d!==g.selector&amp;&amp;(&quot;**&quot;!==d||!g.selector)||(m.splice(f,1),g.selector&amp;&amp;m.delegateCount--,l.remove&amp;&amp;l.remove.call(a,g));i&amp;&amp;!m.length&amp;&amp;(l.teardown&amp;&amp;l.teardown.call(a,p,r.handle)!==!1||n.removeEvent(a,o,r.handle),delete k[o])}else for(o in k)n.event.remove(a,o+b[j],c,d,!0);n.isEmptyObject(k)&amp;&amp;(delete r.handle,n._removeData(a,&quot;events&quot;))}},trigger:function(b,c,e,f){var g,h,i,j,l,m,o,p=[e||d],q=k.call(b,&quot;type&quot;)?b.type:b,r=k.call(b,&quot;namespace&quot;)?b.namespace.split(&quot;.&quot;):[];if(i=m=e=e||d,3!==e.nodeType&amp;&amp;8!==e.nodeType&amp;&amp;!na.test(q+n.event.triggered)&amp;&amp;(q.indexOf(&quot;.&quot;)&gt;-1&amp;&amp;(r=q.split(&quot;.&quot;),q=r.shift(),r.sort()),h=q.indexOf(&quot;:&quot;)&lt;0&amp;&amp;&quot;on&quot;+q,b=b[n.expando]?b:new n.Event(q,&quot;object&quot;==typeof b&amp;&amp;b),b.isTrigger=f?2:3,b.namespace=r.join(&quot;.&quot;),b.rnamespace=b.namespace?new RegExp(&quot;(^|\\\\.)&quot;+r.join(&quot;\\\\.(?:.*\\\\.|)&quot;)+&quot;(\\\\.|$)&quot;):null,b.result=void 0,b.target||(b.target=e),c=null==c?[b]:n.makeArray(c,[b]),l=n.event.special[q]||{},f||!l.trigger||l.trigger.apply(e,c)!==!1)){if(!f&amp;&amp;!l.noBubble&amp;&amp;!n.isWindow(e)){for(j=l.delegateType||q,na.test(j+q)||(i=i.parentNode);i;i=i.parentNode)p.push(i),m=i;m===(e.ownerDocument||d)&amp;&amp;p.push(m.defaultView||m.parentWindow||a)}o=0;while((i=p[o++])&amp;&amp;!b.isPropagationStopped())b.type=o&gt;1?j:l.bindType||q,g=(n._data(i,&quot;events&quot;)||{})[b.type]&amp;&amp;n._data(i,&quot;handle&quot;),g&amp;&amp;g.apply(i,c),g=h&amp;&amp;i[h],g&amp;&amp;g.apply&amp;&amp;M(i)&amp;&amp;(b.result=g.apply(i,c),b.result===!1&amp;&amp;b.preventDefault());if(b.type=q,!f&amp;&amp;!b.isDefaultPrevented()&amp;&amp;(!l._default||l._default.apply(p.pop(),c)===!1)&amp;&amp;M(e)&amp;&amp;h&amp;&amp;e[q]&amp;&amp;!n.isWindow(e)){m=e[h],m&amp;&amp;(e[h]=null),n.event.triggered=q;try{e[q]()}catch(s){}n.event.triggered=void 0,m&amp;&amp;(e[h]=m)}return b.result}},dispatch:function(a){a=n.event.fix(a);var b,c,d,f,g,h=[],i=e.call(arguments),j=(n._data(this,&quot;events&quot;)||{})[a.type]||[],k=n.event.special[a.type]||{};if(i[0]=a,a.delegateTarget=this,!k.preDispatch||k.preDispatch.call(this,a)!==!1){h=n.event.handlers.call(this,a,j),b=0;while((f=h[b++])&amp;&amp;!a.isPropagationStopped()){a.currentTarget=f.elem,c=0;while((g=f.handlers[c++])&amp;&amp;!a.isImmediatePropagationStopped())a.rnamespace&amp;&amp;!a.rnamespace.test(g.namespace)||(a.handleObj=g,a.data=g.data,d=((n.event.special[g.origType]||{}).handle||g.handler).apply(f.elem,i),void 0!==d&amp;&amp;(a.result=d)===!1&amp;&amp;(a.preventDefault(),a.stopPropagation()))}return k.postDispatch&amp;&amp;k.postDispatch.call(this,a),a.result}},handlers:function(a,b){var c,d,e,f,g=[],h=b.delegateCount,i=a.target;if(h&amp;&amp;i.nodeType&amp;&amp;(&quot;click&quot;!==a.type||isNaN(a.button)||a.button&lt;1))for(;i!=this;i=i.parentNode||this)if(1===i.nodeType&amp;&amp;(i.disabled!==!0||&quot;click&quot;!==a.type)){for(d=[],c=0;h&gt;c;c++)f=b[c],e=f.selector+&quot; &quot;,void 0===d[e]&amp;&amp;(d[e]=f.needsContext?n(e,this).index(i)&gt;-1:n.find(e,this,null,[i]).length),d[e]&amp;&amp;d.push(f);d.length&amp;&amp;g.push({elem:i,handlers:d})}return h&lt;b.length&amp;&amp;g.push({elem:this,handlers:b.slice(h)}),g},fix:function(a){if(a[n.expando])return a;var b,c,e,f=a.type,g=a,h=this.fixHooks[f];h||(this.fixHooks[f]=h=ma.test(f)?this.mouseHooks:la.test(f)?this.keyHooks:{}),e=h.props?this.props.concat(h.props):this.props,a=new n.Event(g),b=e.length;while(b--)c=e[b],a[c]=g[c];return a.target||(a.target=g.srcElement||d),3===a.target.nodeType&amp;&amp;(a.target=a.target.parentNode),a.metaKey=!!a.metaKey,h.filter?h.filter(a,g):a},props:&quot;altKey bubbles cancelable ctrlKey currentTarget detail eventPhase metaKey relatedTarget shiftKey target timeStamp view which&quot;.split(&quot; &quot;),fixHooks:{},keyHooks:{props:&quot;char charCode key keyCode&quot;.split(&quot; &quot;),filter:function(a,b){return null==a.which&amp;&amp;(a.which=null!=b.charCode?b.charCode:b.keyCode),a}},mouseHooks:{props:&quot;button buttons clientX clientY fromElement offsetX offsetY pageX pageY screenX screenY toElement&quot;.split(&quot; &quot;),filter:function(a,b){var c,e,f,g=b.button,h=b.fromElement;return null==a.pageX&amp;&amp;null!=b.clientX&amp;&amp;(e=a.target.ownerDocument||d,f=e.documentElement,c=e.body,a.pageX=b.clientX+(f&amp;&amp;f.scrollLeft||c&amp;&amp;c.scrollLeft||0)-(f&amp;&amp;f.clientLeft||c&amp;&amp;c.clientLeft||0),a.pageY=b.clientY+(f&amp;&amp;f.scrollTop||c&amp;&amp;c.scrollTop||0)-(f&amp;&amp;f.clientTop||c&amp;&amp;c.clientTop||0)),!a.relatedTarget&amp;&amp;h&amp;&amp;(a.relatedTarget=h===a.target?b.toElement:h),a.which||void 0===g||(a.which=1&amp;g?1:2&amp;g?3:4&amp;g?2:0),a}},special:{load:{noBubble:!0},focus:{trigger:function(){if(this!==ra()&amp;&amp;this.focus)try{return this.focus(),!1}catch(a){}},delegateType:&quot;focusin&quot;},blur:{trigger:function(){return this===ra()&amp;&amp;this.blur?(this.blur(),!1):void 0},delegateType:&quot;focusout&quot;},click:{trigger:function(){return n.nodeName(this,&quot;input&quot;)&amp;&amp;&quot;checkbox&quot;===this.type&amp;&amp;this.click?(this.click(),!1):void 0},_default:function(a){return n.nodeName(a.target,&quot;a&quot;)}},beforeunload:{postDispatch:function(a){void 0!==a.result&amp;&amp;a.originalEvent&amp;&amp;(a.originalEvent.returnValue=a.result)}}},simulate:function(a,b,c){var d=n.extend(new n.Event,c,{type:a,isSimulated:!0});n.event.trigger(d,null,b),d.isDefaultPrevented()&amp;&amp;c.preventDefault()}},n.removeEvent=d.removeEventListener?function(a,b,c){a.removeEventListener&amp;&amp;a.removeEventListener(b,c)}:function(a,b,c){var d=&quot;on&quot;+b;a.detachEvent&amp;&amp;(&quot;undefined&quot;==typeof a[d]&amp;&amp;(a[d]=null),a.detachEvent(d,c))},n.Event=function(a,b){return this instanceof n.Event?(a&amp;&amp;a.type?(this.originalEvent=a,this.type=a.type,this.isDefaultPrevented=a.defaultPrevented||void 0===a.defaultPrevented&amp;&amp;a.returnValue===!1?pa:qa):this.type=a,b&amp;&amp;n.extend(this,b),this.timeStamp=a&amp;&amp;a.timeStamp||n.now(),void(this[n.expando]=!0)):new n.Event(a,b)},n.Event.prototype={constructor:n.Event,isDefaultPrevented:qa,isPropagationStopped:qa,isImmediatePropagationStopped:qa,preventDefault:function(){var a=this.originalEvent;this.isDefaultPrevented=pa,a&amp;&amp;(a.preventDefault?a.preventDefault():a.returnValue=!1)},stopPropagation:function(){var a=this.originalEvent;this.isPropagationStopped=pa,a&amp;&amp;!this.isSimulated&amp;&amp;(a.stopPropagation&amp;&amp;a.stopPropagation(),a.cancelBubble=!0)},stopImmediatePropagation:function(){var a=this.originalEvent;this.isImmediatePropagationStopped=pa,a&amp;&amp;a.stopImmediatePropagation&amp;&amp;a.stopImmediatePropagation(),this.stopPropagation()}},n.each({mouseenter:&quot;mouseover&quot;,mouseleave:&quot;mouseout&quot;,pointerenter:&quot;pointerover&quot;,pointerleave:&quot;pointerout&quot;},function(a,b){n.event.special[a]={delegateType:b,bindType:b,handle:function(a){var c,d=this,e=a.relatedTarget,f=a.handleObj;return e&amp;&amp;(e===d||n.contains(d,e))||(a.type=f.origType,c=f.handler.apply(this,arguments),a.type=b),c}}}),l.submit||(n.event.special.submit={setup:function(){return n.nodeName(this,&quot;form&quot;)?!1:void n.event.add(this,&quot;click._submit keypress._submit&quot;,function(a){var b=a.target,c=n.nodeName(b,&quot;input&quot;)||n.nodeName(b,&quot;button&quot;)?n.prop(b,&quot;form&quot;):void 0;c&amp;&amp;!n._data(c,&quot;submit&quot;)&amp;&amp;(n.event.add(c,&quot;submit._submit&quot;,function(a){a._submitBubble=!0}),n._data(c,&quot;submit&quot;,!0))})},postDispatch:function(a){a._submitBubble&amp;&amp;(delete a._submitBubble,this.parentNode&amp;&amp;!a.isTrigger&amp;&amp;n.event.simulate(&quot;submit&quot;,this.parentNode,a))},teardown:function(){return n.nodeName(this,&quot;form&quot;)?!1:void n.event.remove(this,&quot;._submit&quot;)}}),l.change||(n.event.special.change={setup:function(){return ka.test(this.nodeName)?(&quot;checkbox&quot;!==this.type&amp;&amp;&quot;radio&quot;!==this.type||(n.event.add(this,&quot;propertychange._change&quot;,function(a){&quot;checked&quot;===a.originalEvent.propertyName&amp;&amp;(this._justChanged=!0)}),n.event.add(this,&quot;click._change&quot;,function(a){this._justChanged&amp;&amp;!a.isTrigger&amp;&amp;(this._justChanged=!1),n.event.simulate(&quot;change&quot;,this,a)})),!1):void n.event.add(this,&quot;beforeactivate._change&quot;,function(a){var b=a.target;ka.test(b.nodeName)&amp;&amp;!n._data(b,&quot;change&quot;)&amp;&amp;(n.event.add(b,&quot;change._change&quot;,function(a){!this.parentNode||a.isSimulated||a.isTrigger||n.event.simulate(&quot;change&quot;,this.parentNode,a)}),n._data(b,&quot;change&quot;,!0))})},handle:function(a){var b=a.target;return this!==b||a.isSimulated||a.isTrigger||&quot;radio&quot;!==b.type&amp;&amp;&quot;checkbox&quot;!==b.type?a.handleObj.handler.apply(this,arguments):void 0},teardown:function(){return n.event.remove(this,&quot;._change&quot;),!ka.test(this.nodeName)}}),l.focusin||n.each({focus:&quot;focusin&quot;,blur:&quot;focusout&quot;},function(a,b){var c=function(a){n.event.simulate(b,a.target,n.event.fix(a))};n.event.special[b]={setup:function(){var d=this.ownerDocument||this,e=n._data(d,b);e||d.addEventListener(a,c,!0),n._data(d,b,(e||0)+1)},teardown:function(){var d=this.ownerDocument||this,e=n._data(d,b)-1;e?n._data(d,b,e):(d.removeEventListener(a,c,!0),n._removeData(d,b))}}}),n.fn.extend({on:function(a,b,c,d){return sa(this,a,b,c,d)},one:function(a,b,c,d){return sa(this,a,b,c,d,1)},off:function(a,b,c){var d,e;if(a&amp;&amp;a.preventDefault&amp;&amp;a.handleObj)return d=a.handleObj,n(a.delegateTarget).off(d.namespace?d.origType+&quot;.&quot;+d.namespace:d.origType,d.selector,d.handler),this;if(&quot;object&quot;==typeof a){for(e in a)this.off(e,b,a[e]);return this}return b!==!1&amp;&amp;&quot;function&quot;!=typeof b||(c=b,b=void 0),c===!1&amp;&amp;(c=qa),this.each(function(){n.event.remove(this,a,c,b)})},trigger:function(a,b){return this.each(function(){n.event.trigger(a,b,this)})},triggerHandler:function(a,b){var c=this[0];return c?n.event.trigger(a,b,c,!0):void 0}});var ta=/ jQuery\\d+=&quot;(?:null|\\d+)&quot;/g,ua=new RegExp(&quot;&lt;(?:&quot;+ba+&quot;)[\\\\s/&gt;]&quot;,&quot;i&quot;),va=/&lt;(?!area|br|col|embed|hr|img|input|link|meta|param)(([\\w:-]+)[^&gt;]*)\\/&gt;/gi,wa=/&lt;script|&lt;style|&lt;link/i,xa=/checked\\s*(?:[^=]|=\\s*.checked.)/i,ya=/^true\\/(.*)/,za=/^\\s*&lt;!(?:\\[CDATA\\[|--)|(?:\\]\\]|--)&gt;\\s*$/g,Aa=ca(d),Ba=Aa.appendChild(d.createElement(&quot;div&quot;));function Ca(a,b){return n.nodeName(a,&quot;table&quot;)&amp;&amp;n.nodeName(11!==b.nodeType?b:b.firstChild,&quot;tr&quot;)?a.getElementsByTagName(&quot;tbody&quot;)[0]||a.appendChild(a.ownerDocument.createElement(&quot;tbody&quot;)):a}function Da(a){return a.type=(null!==n.find.attr(a,&quot;type&quot;))+&quot;/&quot;+a.type,a}function Ea(a){var b=ya.exec(a.type);return b?a.type=b[1]:a.removeAttribute(&quot;type&quot;),a}function Fa(a,b){if(1===b.nodeType&amp;&amp;n.hasData(a)){var c,d,e,f=n._data(a),g=n._data(b,f),h=f.events;if(h){delete g.handle,g.events={};for(c in h)for(d=0,e=h[c].length;e&gt;d;d++)n.event.add(b,c,h[c][d])}g.data&amp;&amp;(g.data=n.extend({},g.data))}}function Ga(a,b){var c,d,e;if(1===b.nodeType){if(c=b.nodeName.toLowerCase(),!l.noCloneEvent&amp;&amp;b[n.expando]){e=n._data(b);for(d in e.events)n.removeEvent(b,d,e.handle);b.removeAttribute(n.expando)}&quot;script&quot;===c&amp;&amp;b.text!==a.text?(Da(b).text=a.text,Ea(b)):&quot;object&quot;===c?(b.parentNode&amp;&amp;(b.outerHTML=a.outerHTML),l.html5Clone&amp;&amp;a.innerHTML&amp;&amp;!n.trim(b.innerHTML)&amp;&amp;(b.innerHTML=a.innerHTML)):&quot;input&quot;===c&amp;&amp;Z.test(a.type)?(b.defaultChecked=b.checked=a.checked,b.value!==a.value&amp;&amp;(b.value=a.value)):&quot;option&quot;===c?b.defaultSelected=b.selected=a.defaultSelected:&quot;input&quot;!==c&amp;&amp;&quot;textarea&quot;!==c||(b.defaultValue=a.defaultValue)}}function Ha(a,b,c,d){b=f.apply([],b);var e,g,h,i,j,k,m=0,o=a.length,p=o-1,q=b[0],r=n.isFunction(q);if(r||o&gt;1&amp;&amp;&quot;string&quot;==typeof q&amp;&amp;!l.checkClone&amp;&amp;xa.test(q))return a.each(function(e){var f=a.eq(e);r&amp;&amp;(b[0]=q.call(this,e,f.html())),Ha(f,b,c,d)});if(o&amp;&amp;(k=ja(b,a[0].ownerDocument,!1,a,d),e=k.firstChild,1===k.childNodes.length&amp;&amp;(k=e),e||d)){for(i=n.map(ea(k,&quot;script&quot;),Da),h=i.length;o&gt;m;m++)g=k,m!==p&amp;&amp;(g=n.clone(g,!0,!0),h&amp;&amp;n.merge(i,ea(g,&quot;script&quot;))),c.call(a[m],g,m);if(h)for(j=i[i.length-1].ownerDocument,n.map(i,Ea),m=0;h&gt;m;m++)g=i[m],_.test(g.type||&quot;&quot;)&amp;&amp;!n._data(g,&quot;globalEval&quot;)&amp;&amp;n.contains(j,g)&amp;&amp;(g.src?n._evalUrl&amp;&amp;n._evalUrl(g.src):n.globalEval((g.text||g.textContent||g.innerHTML||&quot;&quot;).replace(za,&quot;&quot;)));k=e=null}return a}function Ia(a,b,c){for(var d,e=b?n.filter(b,a):a,f=0;null!=(d=e[f]);f++)c||1!==d.nodeType||n.cleanData(ea(d)),d.parentNode&amp;&amp;(c&amp;&amp;n.contains(d.ownerDocument,d)&amp;&amp;fa(ea(d,&quot;script&quot;)),d.parentNode.removeChild(d));return a}n.extend({htmlPrefilter:function(a){return a.replace(va,&quot;&lt;$1&gt;&lt;/$2&gt;&quot;)},clone:function(a,b,c){var d,e,f,g,h,i=n.contains(a.ownerDocument,a);if(l.html5Clone||n.isXMLDoc(a)||!ua.test(&quot;&lt;&quot;+a.nodeName+&quot;&gt;&quot;)?f=a.cloneNode(!0):(Ba.innerHTML=a.outerHTML,Ba.removeChild(f=Ba.firstChild)),!(l.noCloneEvent&amp;&amp;l.noCloneChecked||1!==a.nodeType&amp;&amp;11!==a.nodeType||n.isXMLDoc(a)))for(d=ea(f),h=ea(a),g=0;null!=(e=h[g]);++g)d[g]&amp;&amp;Ga(e,d[g]);if(b)if(c)for(h=h||ea(a),d=d||ea(f),g=0;null!=(e=h[g]);g++)Fa(e,d[g]);else Fa(a,f);return d=ea(f,&quot;script&quot;),d.length&gt;0&amp;&amp;fa(d,!i&amp;&amp;ea(a,&quot;script&quot;)),d=h=e=null,f},cleanData:function(a,b){for(var d,e,f,g,h=0,i=n.expando,j=n.cache,k=l.attributes,m=n.event.special;null!=(d=a[h]);h++)if((b||M(d))&amp;&amp;(f=d[i],g=f&amp;&amp;j[f])){if(g.events)for(e in g.events)m[e]?n.event.remove(d,e):n.removeEvent(d,e,g.handle);j[f]&amp;&amp;(delete j[f],k||&quot;undefined&quot;==typeof d.removeAttribute?d[i]=void 0:d.removeAttribute(i),c.push(f))}}}),n.fn.extend({domManip:Ha,detach:function(a){return Ia(this,a,!0)},remove:function(a){return Ia(this,a)},text:function(a){return Y(this,function(a){return void 0===a?n.text(this):this.empty().append((this[0]&amp;&amp;this[0].ownerDocument||d).createTextNode(a))},null,a,arguments.length)},append:function(){return Ha(this,arguments,function(a){if(1===this.nodeType||11===this.nodeType||9===this.nodeType){var b=Ca(this,a);b.appendChild(a)}})},prepend:function(){return Ha(this,arguments,function(a){if(1===this.nodeType||11===this.nodeType||9===this.nodeType){var b=Ca(this,a);b.insertBefore(a,b.firstChild)}})},before:function(){return Ha(this,arguments,function(a){this.parentNode&amp;&amp;this.parentNode.insertBefore(a,this)})},after:function(){return Ha(this,arguments,function(a){this.parentNode&amp;&amp;this.parentNode.insertBefore(a,this.nextSibling)})},empty:function(){for(var a,b=0;null!=(a=this[b]);b++){1===a.nodeType&amp;&amp;n.cleanData(ea(a,!1));while(a.firstChild)a.removeChild(a.firstChild);a.options&amp;&amp;n.nodeName(a,&quot;select&quot;)&amp;&amp;(a.options.length=0)}return this},clone:function(a,b){return a=null==a?!1:a,b=null==b?a:b,this.map(function(){return n.clone(this,a,b)})},html:function(a){return Y(this,function(a){var b=this[0]||{},c=0,d=this.length;if(void 0===a)return 1===b.nodeType?b.innerHTML.replace(ta,&quot;&quot;):void 0;if(&quot;string&quot;==typeof a&amp;&amp;!wa.test(a)&amp;&amp;(l.htmlSerialize||!ua.test(a))&amp;&amp;(l.leadingWhitespace||!aa.test(a))&amp;&amp;!da[($.exec(a)||[&quot;&quot;,&quot;&quot;])[1].toLowerCase()]){a=n.htmlPrefilter(a);try{for(;d&gt;c;c++)b=this[c]||{},1===b.nodeType&amp;&amp;(n.cleanData(ea(b,!1)),b.innerHTML=a);b=0}catch(e){}}b&amp;&amp;this.empty().append(a)},null,a,arguments.length)},replaceWith:function(){var a=[];return Ha(this,arguments,function(b){var c=this.parentNode;n.inArray(this,a)&lt;0&amp;&amp;(n.cleanData(ea(this)),c&amp;&amp;c.replaceChild(b,this))},a)}}),n.each({appendTo:&quot;append&quot;,prependTo:&quot;prepend&quot;,insertBefore:&quot;before&quot;,insertAfter:&quot;after&quot;,replaceAll:&quot;replaceWith&quot;},function(a,b){n.fn[a]=function(a){for(var c,d=0,e=[],f=n(a),h=f.length-1;h&gt;=d;d++)c=d===h?this:this.clone(!0),n(f[d])[b](c),g.apply(e,c.get());return this.pushStack(e)}});var Ja,Ka={HTML:&quot;block&quot;,BODY:&quot;block&quot;};function La(a,b){var c=n(b.createElement(a)).appendTo(b.body),d=n.css(c[0],&quot;display&quot;);return c.detach(),d}function Ma(a){var b=d,c=Ka[a];return c||(c=La(a,b),&quot;none&quot;!==c&amp;&amp;c||(Ja=(Ja||n(&quot;&lt;iframe frameborder=&#x27;0&#x27; width=&#x27;0&#x27; height=&#x27;0&#x27;/&gt;&quot;)).appendTo(b.documentElement),b=(Ja[0].contentWindow||Ja[0].contentDocument).document,b.write(),b.close(),c=La(a,b),Ja.detach()),Ka[a]=c),c}var Na=/^margin/,Oa=new RegExp(&quot;^(&quot;+T+&quot;)(?!px)[a-z%]+$&quot;,&quot;i&quot;),Pa=function(a,b,c,d){var e,f,g={};for(f in b)g[f]=a.style[f],a.style[f]=b[f];e=c.apply(a,d||[]);for(f in b)a.style[f]=g[f];return e},Qa=d.documentElement;!function(){var b,c,e,f,g,h,i=d.createElement(&quot;div&quot;),j=d.createElement(&quot;div&quot;);if(j.style){j.style.cssText=&quot;float:left;opacity:.5&quot;,l.opacity=&quot;0.5&quot;===j.style.opacity,l.cssFloat=!!j.style.cssFloat,j.style.backgroundClip=&quot;content-box&quot;,j.cloneNode(!0).style.backgroundClip=&quot;&quot;,l.clearCloneStyle=&quot;content-box&quot;===j.style.backgroundClip,i=d.createElement(&quot;div&quot;),i.style.cssText=&quot;border:0;width:8px;height:0;top:0;left:-9999px;padding:0;margin-top:1px;position:absolute&quot;,j.innerHTML=&quot;&quot;,i.appendChild(j),l.boxSizing=&quot;&quot;===j.style.boxSizing||&quot;&quot;===j.style.MozBoxSizing||&quot;&quot;===j.style.WebkitBoxSizing,n.extend(l,{reliableHiddenOffsets:function(){return null==b&amp;&amp;k(),f},boxSizingReliable:function(){return null==b&amp;&amp;k(),e},pixelMarginRight:function(){return null==b&amp;&amp;k(),c},pixelPosition:function(){return null==b&amp;&amp;k(),b},reliableMarginRight:function(){return null==b&amp;&amp;k(),g},reliableMarginLeft:function(){return null==b&amp;&amp;k(),h}});function k(){var k,l,m=d.documentElement;m.appendChild(i),j.style.cssText=&quot;-webkit-box-sizing:border-box;box-sizing:border-box;position:relative;display:block;margin:auto;border:1px;padding:1px;top:1%;width:50%&quot;,b=e=h=!1,c=g=!0,a.getComputedStyle&amp;&amp;(l=a.getComputedStyle(j),b=&quot;1%&quot;!==(l||{}).top,h=&quot;2px&quot;===(l||{}).marginLeft,e=&quot;4px&quot;===(l||{width:&quot;4px&quot;}).width,j.style.marginRight=&quot;50%&quot;,c=&quot;4px&quot;===(l||{marginRight:&quot;4px&quot;}).marginRight,k=j.appendChild(d.createElement(&quot;div&quot;)),k.style.cssText=j.style.cssText=&quot;-webkit-box-sizing:content-box;-moz-box-sizing:content-box;box-sizing:content-box;display:block;margin:0;border:0;padding:0&quot;,k.style.marginRight=k.style.width=&quot;0&quot;,j.style.width=&quot;1px&quot;,g=!parseFloat((a.getComputedStyle(k)||{}).marginRight),j.removeChild(k)),j.style.display=&quot;none&quot;,f=0===j.getClientRects().length,f&amp;&amp;(j.style.display=&quot;&quot;,j.innerHTML=&quot;&lt;table&gt;&lt;tr&gt;&lt;td&gt;&lt;/td&gt;&lt;td&gt;t&lt;/td&gt;&lt;/tr&gt;&lt;/table&gt;&quot;,j.childNodes[0].style.borderCollapse=&quot;separate&quot;,k=j.getElementsByTagName(&quot;td&quot;),k[0].style.cssText=&quot;margin:0;border:0;padding:0;display:none&quot;,f=0===k[0].offsetHeight,f&amp;&amp;(k[0].style.display=&quot;&quot;,k[1].style.display=&quot;none&quot;,f=0===k[0].offsetHeight)),m.removeChild(i)}}}();var Ra,Sa,Ta=/^(top|right|bottom|left)$/;a.getComputedStyle?(Ra=function(b){var c=b.ownerDocument.defaultView;return c&amp;&amp;c.opener||(c=a),c.getComputedStyle(b)},Sa=function(a,b,c){var d,e,f,g,h=a.style;return c=c||Ra(a),g=c?c.getPropertyValue(b)||c[b]:void 0,&quot;&quot;!==g&amp;&amp;void 0!==g||n.contains(a.ownerDocument,a)||(g=n.style(a,b)),c&amp;&amp;!l.pixelMarginRight()&amp;&amp;Oa.test(g)&amp;&amp;Na.test(b)&amp;&amp;(d=h.width,e=h.minWidth,f=h.maxWidth,h.minWidth=h.maxWidth=h.width=g,g=c.width,h.width=d,h.minWidth=e,h.maxWidth=f),void 0===g?g:g+&quot;&quot;}):Qa.currentStyle&amp;&amp;(Ra=function(a){return a.currentStyle},Sa=function(a,b,c){var d,e,f,g,h=a.style;return c=c||Ra(a),g=c?c[b]:void 0,null==g&amp;&amp;h&amp;&amp;h[b]&amp;&amp;(g=h[b]),Oa.test(g)&amp;&amp;!Ta.test(b)&amp;&amp;(d=h.left,e=a.runtimeStyle,f=e&amp;&amp;e.left,f&amp;&amp;(e.left=a.currentStyle.left),h.left=&quot;fontSize&quot;===b?&quot;1em&quot;:g,g=h.pixelLeft+&quot;px&quot;,h.left=d,f&amp;&amp;(e.left=f)),void 0===g?g:g+&quot;&quot;||&quot;auto&quot;});function Ua(a,b){return{get:function(){return a()?void delete this.get:(this.get=b).apply(this,arguments)}}}var Va=/alpha\\([^)]*\\)/i,Wa=/opacity\\s*=\\s*([^)]*)/i,Xa=/^(none|table(?!-c[ea]).+)/,Ya=new RegExp(&quot;^(&quot;+T+&quot;)(.*)$&quot;,&quot;i&quot;),Za={position:&quot;absolute&quot;,visibility:&quot;hidden&quot;,display:&quot;block&quot;},$a={letterSpacing:&quot;0&quot;,fontWeight:&quot;400&quot;},_a=[&quot;Webkit&quot;,&quot;O&quot;,&quot;Moz&quot;,&quot;ms&quot;],ab=d.createElement(&quot;div&quot;).style;function bb(a){if(a in ab)return a;var b=a.charAt(0).toUpperCase()+a.slice(1),c=_a.length;while(c--)if(a=_a[c]+b,a in ab)return a}function cb(a,b){for(var c,d,e,f=[],g=0,h=a.length;h&gt;g;g++)d=a[g],d.style&amp;&amp;(f[g]=n._data(d,&quot;olddisplay&quot;),c=d.style.display,b?(f[g]||&quot;none&quot;!==c||(d.style.display=&quot;&quot;),&quot;&quot;===d.style.display&amp;&amp;W(d)&amp;&amp;(f[g]=n._data(d,&quot;olddisplay&quot;,Ma(d.nodeName)))):(e=W(d),(c&amp;&amp;&quot;none&quot;!==c||!e)&amp;&amp;n._data(d,&quot;olddisplay&quot;,e?c:n.css(d,&quot;display&quot;))));for(g=0;h&gt;g;g++)d=a[g],d.style&amp;&amp;(b&amp;&amp;&quot;none&quot;!==d.style.display&amp;&amp;&quot;&quot;!==d.style.display||(d.style.display=b?f[g]||&quot;&quot;:&quot;none&quot;));return a}function db(a,b,c){var d=Ya.exec(b);return d?Math.max(0,d[1]-(c||0))+(d[2]||&quot;px&quot;):b}function eb(a,b,c,d,e){for(var f=c===(d?&quot;border&quot;:&quot;content&quot;)?4:&quot;width&quot;===b?1:0,g=0;4&gt;f;f+=2)&quot;margin&quot;===c&amp;&amp;(g+=n.css(a,c+V[f],!0,e)),d?(&quot;content&quot;===c&amp;&amp;(g-=n.css(a,&quot;padding&quot;+V[f],!0,e)),&quot;margin&quot;!==c&amp;&amp;(g-=n.css(a,&quot;border&quot;+V[f]+&quot;Width&quot;,!0,e))):(g+=n.css(a,&quot;padding&quot;+V[f],!0,e),&quot;padding&quot;!==c&amp;&amp;(g+=n.css(a,&quot;border&quot;+V[f]+&quot;Width&quot;,!0,e)));return g}function fb(a,b,c){var d=!0,e=&quot;width&quot;===b?a.offsetWidth:a.offsetHeight,f=Ra(a),g=l.boxSizing&amp;&amp;&quot;border-box&quot;===n.css(a,&quot;boxSizing&quot;,!1,f);if(0&gt;=e||null==e){if(e=Sa(a,b,f),(0&gt;e||null==e)&amp;&amp;(e=a.style[b]),Oa.test(e))return e;d=g&amp;&amp;(l.boxSizingReliable()||e===a.style[b]),e=parseFloat(e)||0}return e+eb(a,b,c||(g?&quot;border&quot;:&quot;content&quot;),d,f)+&quot;px&quot;}n.extend({cssHooks:{opacity:{get:function(a,b){if(b){var c=Sa(a,&quot;opacity&quot;);return&quot;&quot;===c?&quot;1&quot;:c}}}},cssNumber:{animationIterationCount:!0,columnCount:!0,fillOpacity:!0,flexGrow:!0,flexShrink:!0,fontWeight:!0,lineHeight:!0,opacity:!0,order:!0,orphans:!0,widows:!0,zIndex:!0,zoom:!0},cssProps:{&quot;float&quot;:l.cssFloat?&quot;cssFloat&quot;:&quot;styleFloat&quot;},style:function(a,b,c,d){if(a&amp;&amp;3!==a.nodeType&amp;&amp;8!==a.nodeType&amp;&amp;a.style){var e,f,g,h=n.camelCase(b),i=a.style;if(b=n.cssProps[h]||(n.cssProps[h]=bb(h)||h),g=n.cssHooks[b]||n.cssHooks[h],void 0===c)return g&amp;&amp;&quot;get&quot;in g&amp;&amp;void 0!==(e=g.get(a,!1,d))?e:i[b];if(f=typeof c,&quot;string&quot;===f&amp;&amp;(e=U.exec(c))&amp;&amp;e[1]&amp;&amp;(c=X(a,b,e),f=&quot;number&quot;),null!=c&amp;&amp;c===c&amp;&amp;(&quot;number&quot;===f&amp;&amp;(c+=e&amp;&amp;e[3]||(n.cssNumber[h]?&quot;&quot;:&quot;px&quot;)),l.clearCloneStyle||&quot;&quot;!==c||0!==b.indexOf(&quot;background&quot;)||(i[b]=&quot;inherit&quot;),!(g&amp;&amp;&quot;set&quot;in g&amp;&amp;void 0===(c=g.set(a,c,d)))))try{i[b]=c}catch(j){}}},css:function(a,b,c,d){var e,f,g,h=n.camelCase(b);return b=n.cssProps[h]||(n.cssProps[h]=bb(h)||h),g=n.cssHooks[b]||n.cssHooks[h],g&amp;&amp;&quot;get&quot;in g&amp;&amp;(f=g.get(a,!0,c)),void 0===f&amp;&amp;(f=Sa(a,b,d)),&quot;normal&quot;===f&amp;&amp;b in $a&amp;&amp;(f=$a[b]),&quot;&quot;===c||c?(e=parseFloat(f),c===!0||isFinite(e)?e||0:f):f}}),n.each([&quot;height&quot;,&quot;width&quot;],function(a,b){n.cssHooks[b]={get:function(a,c,d){return c?Xa.test(n.css(a,&quot;display&quot;))&amp;&amp;0===a.offsetWidth?Pa(a,Za,function(){return fb(a,b,d)}):fb(a,b,d):void 0},set:function(a,c,d){var e=d&amp;&amp;Ra(a);return db(a,c,d?eb(a,b,d,l.boxSizing&amp;&amp;&quot;border-box&quot;===n.css(a,&quot;boxSizing&quot;,!1,e),e):0)}}}),l.opacity||(n.cssHooks.opacity={get:function(a,b){return Wa.test((b&amp;&amp;a.currentStyle?a.currentStyle.filter:a.style.filter)||&quot;&quot;)?.01*parseFloat(RegExp.$1)+&quot;&quot;:b?&quot;1&quot;:&quot;&quot;},set:function(a,b){var c=a.style,d=a.currentStyle,e=n.isNumeric(b)?&quot;alpha(opacity=&quot;+100*b+&quot;)&quot;:&quot;&quot;,f=d&amp;&amp;d.filter||c.filter||&quot;&quot;;c.zoom=1,(b&gt;=1||&quot;&quot;===b)&amp;&amp;&quot;&quot;===n.trim(f.replace(Va,&quot;&quot;))&amp;&amp;c.removeAttribute&amp;&amp;(c.removeAttribute(&quot;filter&quot;),&quot;&quot;===b||d&amp;&amp;!d.filter)||(c.filter=Va.test(f)?f.replace(Va,e):f+&quot; &quot;+e)}}),n.cssHooks.marginRight=Ua(l.reliableMarginRight,function(a,b){return b?Pa(a,{display:&quot;inline-block&quot;},Sa,[a,&quot;marginRight&quot;]):void 0}),n.cssHooks.marginLeft=Ua(l.reliableMarginLeft,function(a,b){return b?(parseFloat(Sa(a,&quot;marginLeft&quot;))||(n.contains(a.ownerDocument,a)?a.getBoundingClientRect().left-Pa(a,{\n",
       "marginLeft:0},function(){return a.getBoundingClientRect().left}):0))+&quot;px&quot;:void 0}),n.each({margin:&quot;&quot;,padding:&quot;&quot;,border:&quot;Width&quot;},function(a,b){n.cssHooks[a+b]={expand:function(c){for(var d=0,e={},f=&quot;string&quot;==typeof c?c.split(&quot; &quot;):[c];4&gt;d;d++)e[a+V[d]+b]=f[d]||f[d-2]||f[0];return e}},Na.test(a)||(n.cssHooks[a+b].set=db)}),n.fn.extend({css:function(a,b){return Y(this,function(a,b,c){var d,e,f={},g=0;if(n.isArray(b)){for(d=Ra(a),e=b.length;e&gt;g;g++)f[b[g]]=n.css(a,b[g],!1,d);return f}return void 0!==c?n.style(a,b,c):n.css(a,b)},a,b,arguments.length&gt;1)},show:function(){return cb(this,!0)},hide:function(){return cb(this)},toggle:function(a){return&quot;boolean&quot;==typeof a?a?this.show():this.hide():this.each(function(){W(this)?n(this).show():n(this).hide()})}});function gb(a,b,c,d,e){return new gb.prototype.init(a,b,c,d,e)}n.Tween=gb,gb.prototype={constructor:gb,init:function(a,b,c,d,e,f){this.elem=a,this.prop=c,this.easing=e||n.easing._default,this.options=b,this.start=this.now=this.cur(),this.end=d,this.unit=f||(n.cssNumber[c]?&quot;&quot;:&quot;px&quot;)},cur:function(){var a=gb.propHooks[this.prop];return a&amp;&amp;a.get?a.get(this):gb.propHooks._default.get(this)},run:function(a){var b,c=gb.propHooks[this.prop];return this.options.duration?this.pos=b=n.easing[this.easing](a,this.options.duration*a,0,1,this.options.duration):this.pos=b=a,this.now=(this.end-this.start)*b+this.start,this.options.step&amp;&amp;this.options.step.call(this.elem,this.now,this),c&amp;&amp;c.set?c.set(this):gb.propHooks._default.set(this),this}},gb.prototype.init.prototype=gb.prototype,gb.propHooks={_default:{get:function(a){var b;return 1!==a.elem.nodeType||null!=a.elem[a.prop]&amp;&amp;null==a.elem.style[a.prop]?a.elem[a.prop]:(b=n.css(a.elem,a.prop,&quot;&quot;),b&amp;&amp;&quot;auto&quot;!==b?b:0)},set:function(a){n.fx.step[a.prop]?n.fx.step[a.prop](a):1!==a.elem.nodeType||null==a.elem.style[n.cssProps[a.prop]]&amp;&amp;!n.cssHooks[a.prop]?a.elem[a.prop]=a.now:n.style(a.elem,a.prop,a.now+a.unit)}}},gb.propHooks.scrollTop=gb.propHooks.scrollLeft={set:function(a){a.elem.nodeType&amp;&amp;a.elem.parentNode&amp;&amp;(a.elem[a.prop]=a.now)}},n.easing={linear:function(a){return a},swing:function(a){return.5-Math.cos(a*Math.PI)/2},_default:&quot;swing&quot;},n.fx=gb.prototype.init,n.fx.step={};var hb,ib,jb=/^(?:toggle|show|hide)$/,kb=/queueHooks$/;function lb(){return a.setTimeout(function(){hb=void 0}),hb=n.now()}function mb(a,b){var c,d={height:a},e=0;for(b=b?1:0;4&gt;e;e+=2-b)c=V[e],d[&quot;margin&quot;+c]=d[&quot;padding&quot;+c]=a;return b&amp;&amp;(d.opacity=d.width=a),d}function nb(a,b,c){for(var d,e=(qb.tweeners[b]||[]).concat(qb.tweeners[&quot;*&quot;]),f=0,g=e.length;g&gt;f;f++)if(d=e[f].call(c,b,a))return d}function ob(a,b,c){var d,e,f,g,h,i,j,k,m=this,o={},p=a.style,q=a.nodeType&amp;&amp;W(a),r=n._data(a,&quot;fxshow&quot;);c.queue||(h=n._queueHooks(a,&quot;fx&quot;),null==h.unqueued&amp;&amp;(h.unqueued=0,i=h.empty.fire,h.empty.fire=function(){h.unqueued||i()}),h.unqueued++,m.always(function(){m.always(function(){h.unqueued--,n.queue(a,&quot;fx&quot;).length||h.empty.fire()})})),1===a.nodeType&amp;&amp;(&quot;height&quot;in b||&quot;width&quot;in b)&amp;&amp;(c.overflow=[p.overflow,p.overflowX,p.overflowY],j=n.css(a,&quot;display&quot;),k=&quot;none&quot;===j?n._data(a,&quot;olddisplay&quot;)||Ma(a.nodeName):j,&quot;inline&quot;===k&amp;&amp;&quot;none&quot;===n.css(a,&quot;float&quot;)&amp;&amp;(l.inlineBlockNeedsLayout&amp;&amp;&quot;inline&quot;!==Ma(a.nodeName)?p.zoom=1:p.display=&quot;inline-block&quot;)),c.overflow&amp;&amp;(p.overflow=&quot;hidden&quot;,l.shrinkWrapBlocks()||m.always(function(){p.overflow=c.overflow[0],p.overflowX=c.overflow[1],p.overflowY=c.overflow[2]}));for(d in b)if(e=b[d],jb.exec(e)){if(delete b[d],f=f||&quot;toggle&quot;===e,e===(q?&quot;hide&quot;:&quot;show&quot;)){if(&quot;show&quot;!==e||!r||void 0===r[d])continue;q=!0}o[d]=r&amp;&amp;r[d]||n.style(a,d)}else j=void 0;if(n.isEmptyObject(o))&quot;inline&quot;===(&quot;none&quot;===j?Ma(a.nodeName):j)&amp;&amp;(p.display=j);else{r?&quot;hidden&quot;in r&amp;&amp;(q=r.hidden):r=n._data(a,&quot;fxshow&quot;,{}),f&amp;&amp;(r.hidden=!q),q?n(a).show():m.done(function(){n(a).hide()}),m.done(function(){var b;n._removeData(a,&quot;fxshow&quot;);for(b in o)n.style(a,b,o[b])});for(d in o)g=nb(q?r[d]:0,d,m),d in r||(r[d]=g.start,q&amp;&amp;(g.end=g.start,g.start=&quot;width&quot;===d||&quot;height&quot;===d?1:0))}}function pb(a,b){var c,d,e,f,g;for(c in a)if(d=n.camelCase(c),e=b[d],f=a[c],n.isArray(f)&amp;&amp;(e=f[1],f=a[c]=f[0]),c!==d&amp;&amp;(a[d]=f,delete a[c]),g=n.cssHooks[d],g&amp;&amp;&quot;expand&quot;in g){f=g.expand(f),delete a[d];for(c in f)c in a||(a[c]=f[c],b[c]=e)}else b[d]=e}function qb(a,b,c){var d,e,f=0,g=qb.prefilters.length,h=n.Deferred().always(function(){delete i.elem}),i=function(){if(e)return!1;for(var b=hb||lb(),c=Math.max(0,j.startTime+j.duration-b),d=c/j.duration||0,f=1-d,g=0,i=j.tweens.length;i&gt;g;g++)j.tweens[g].run(f);return h.notifyWith(a,[j,f,c]),1&gt;f&amp;&amp;i?c:(h.resolveWith(a,[j]),!1)},j=h.promise({elem:a,props:n.extend({},b),opts:n.extend(!0,{specialEasing:{},easing:n.easing._default},c),originalProperties:b,originalOptions:c,startTime:hb||lb(),duration:c.duration,tweens:[],createTween:function(b,c){var d=n.Tween(a,j.opts,b,c,j.opts.specialEasing[b]||j.opts.easing);return j.tweens.push(d),d},stop:function(b){var c=0,d=b?j.tweens.length:0;if(e)return this;for(e=!0;d&gt;c;c++)j.tweens[c].run(1);return b?(h.notifyWith(a,[j,1,0]),h.resolveWith(a,[j,b])):h.rejectWith(a,[j,b]),this}}),k=j.props;for(pb(k,j.opts.specialEasing);g&gt;f;f++)if(d=qb.prefilters[f].call(j,a,k,j.opts))return n.isFunction(d.stop)&amp;&amp;(n._queueHooks(j.elem,j.opts.queue).stop=n.proxy(d.stop,d)),d;return n.map(k,nb,j),n.isFunction(j.opts.start)&amp;&amp;j.opts.start.call(a,j),n.fx.timer(n.extend(i,{elem:a,anim:j,queue:j.opts.queue})),j.progress(j.opts.progress).done(j.opts.done,j.opts.complete).fail(j.opts.fail).always(j.opts.always)}n.Animation=n.extend(qb,{tweeners:{&quot;*&quot;:[function(a,b){var c=this.createTween(a,b);return X(c.elem,a,U.exec(b),c),c}]},tweener:function(a,b){n.isFunction(a)?(b=a,a=[&quot;*&quot;]):a=a.match(G);for(var c,d=0,e=a.length;e&gt;d;d++)c=a[d],qb.tweeners[c]=qb.tweeners[c]||[],qb.tweeners[c].unshift(b)},prefilters:[ob],prefilter:function(a,b){b?qb.prefilters.unshift(a):qb.prefilters.push(a)}}),n.speed=function(a,b,c){var d=a&amp;&amp;&quot;object&quot;==typeof a?n.extend({},a):{complete:c||!c&amp;&amp;b||n.isFunction(a)&amp;&amp;a,duration:a,easing:c&amp;&amp;b||b&amp;&amp;!n.isFunction(b)&amp;&amp;b};return d.duration=n.fx.off?0:&quot;number&quot;==typeof d.duration?d.duration:d.duration in n.fx.speeds?n.fx.speeds[d.duration]:n.fx.speeds._default,null!=d.queue&amp;&amp;d.queue!==!0||(d.queue=&quot;fx&quot;),d.old=d.complete,d.complete=function(){n.isFunction(d.old)&amp;&amp;d.old.call(this),d.queue&amp;&amp;n.dequeue(this,d.queue)},d},n.fn.extend({fadeTo:function(a,b,c,d){return this.filter(W).css(&quot;opacity&quot;,0).show().end().animate({opacity:b},a,c,d)},animate:function(a,b,c,d){var e=n.isEmptyObject(a),f=n.speed(b,c,d),g=function(){var b=qb(this,n.extend({},a),f);(e||n._data(this,&quot;finish&quot;))&amp;&amp;b.stop(!0)};return g.finish=g,e||f.queue===!1?this.each(g):this.queue(f.queue,g)},stop:function(a,b,c){var d=function(a){var b=a.stop;delete a.stop,b(c)};return&quot;string&quot;!=typeof a&amp;&amp;(c=b,b=a,a=void 0),b&amp;&amp;a!==!1&amp;&amp;this.queue(a||&quot;fx&quot;,[]),this.each(function(){var b=!0,e=null!=a&amp;&amp;a+&quot;queueHooks&quot;,f=n.timers,g=n._data(this);if(e)g[e]&amp;&amp;g[e].stop&amp;&amp;d(g[e]);else for(e in g)g[e]&amp;&amp;g[e].stop&amp;&amp;kb.test(e)&amp;&amp;d(g[e]);for(e=f.length;e--;)f[e].elem!==this||null!=a&amp;&amp;f[e].queue!==a||(f[e].anim.stop(c),b=!1,f.splice(e,1));!b&amp;&amp;c||n.dequeue(this,a)})},finish:function(a){return a!==!1&amp;&amp;(a=a||&quot;fx&quot;),this.each(function(){var b,c=n._data(this),d=c[a+&quot;queue&quot;],e=c[a+&quot;queueHooks&quot;],f=n.timers,g=d?d.length:0;for(c.finish=!0,n.queue(this,a,[]),e&amp;&amp;e.stop&amp;&amp;e.stop.call(this,!0),b=f.length;b--;)f[b].elem===this&amp;&amp;f[b].queue===a&amp;&amp;(f[b].anim.stop(!0),f.splice(b,1));for(b=0;g&gt;b;b++)d[b]&amp;&amp;d[b].finish&amp;&amp;d[b].finish.call(this);delete c.finish})}}),n.each([&quot;toggle&quot;,&quot;show&quot;,&quot;hide&quot;],function(a,b){var c=n.fn[b];n.fn[b]=function(a,d,e){return null==a||&quot;boolean&quot;==typeof a?c.apply(this,arguments):this.animate(mb(b,!0),a,d,e)}}),n.each({slideDown:mb(&quot;show&quot;),slideUp:mb(&quot;hide&quot;),slideToggle:mb(&quot;toggle&quot;),fadeIn:{opacity:&quot;show&quot;},fadeOut:{opacity:&quot;hide&quot;},fadeToggle:{opacity:&quot;toggle&quot;}},function(a,b){n.fn[a]=function(a,c,d){return this.animate(b,a,c,d)}}),n.timers=[],n.fx.tick=function(){var a,b=n.timers,c=0;for(hb=n.now();c&lt;b.length;c++)a=b[c],a()||b[c]!==a||b.splice(c--,1);b.length||n.fx.stop(),hb=void 0},n.fx.timer=function(a){n.timers.push(a),a()?n.fx.start():n.timers.pop()},n.fx.interval=13,n.fx.start=function(){ib||(ib=a.setInterval(n.fx.tick,n.fx.interval))},n.fx.stop=function(){a.clearInterval(ib),ib=null},n.fx.speeds={slow:600,fast:200,_default:400},n.fn.delay=function(b,c){return b=n.fx?n.fx.speeds[b]||b:b,c=c||&quot;fx&quot;,this.queue(c,function(c,d){var e=a.setTimeout(c,b);d.stop=function(){a.clearTimeout(e)}})},function(){var a,b=d.createElement(&quot;input&quot;),c=d.createElement(&quot;div&quot;),e=d.createElement(&quot;select&quot;),f=e.appendChild(d.createElement(&quot;option&quot;));c=d.createElement(&quot;div&quot;),c.setAttribute(&quot;className&quot;,&quot;t&quot;),c.innerHTML=&quot;  &lt;link/&gt;&lt;table&gt;&lt;/table&gt;&lt;a href=&#x27;/a&#x27;&gt;a&lt;/a&gt;&lt;input type=&#x27;checkbox&#x27;/&gt;&quot;,a=c.getElementsByTagName(&quot;a&quot;)[0],b.setAttribute(&quot;type&quot;,&quot;checkbox&quot;),c.appendChild(b),a=c.getElementsByTagName(&quot;a&quot;)[0],a.style.cssText=&quot;top:1px&quot;,l.getSetAttribute=&quot;t&quot;!==c.className,l.style=/top/.test(a.getAttribute(&quot;style&quot;)),l.hrefNormalized=&quot;/a&quot;===a.getAttribute(&quot;href&quot;),l.checkOn=!!b.value,l.optSelected=f.selected,l.enctype=!!d.createElement(&quot;form&quot;).enctype,e.disabled=!0,l.optDisabled=!f.disabled,b=d.createElement(&quot;input&quot;),b.setAttribute(&quot;value&quot;,&quot;&quot;),l.input=&quot;&quot;===b.getAttribute(&quot;value&quot;),b.value=&quot;t&quot;,b.setAttribute(&quot;type&quot;,&quot;radio&quot;),l.radioValue=&quot;t&quot;===b.value}();var rb=/\\r/g,sb=/[\\x20\\t\\r\\n\\f]+/g;n.fn.extend({val:function(a){var b,c,d,e=this[0];{if(arguments.length)return d=n.isFunction(a),this.each(function(c){var e;1===this.nodeType&amp;&amp;(e=d?a.call(this,c,n(this).val()):a,null==e?e=&quot;&quot;:&quot;number&quot;==typeof e?e+=&quot;&quot;:n.isArray(e)&amp;&amp;(e=n.map(e,function(a){return null==a?&quot;&quot;:a+&quot;&quot;})),b=n.valHooks[this.type]||n.valHooks[this.nodeName.toLowerCase()],b&amp;&amp;&quot;set&quot;in b&amp;&amp;void 0!==b.set(this,e,&quot;value&quot;)||(this.value=e))});if(e)return b=n.valHooks[e.type]||n.valHooks[e.nodeName.toLowerCase()],b&amp;&amp;&quot;get&quot;in b&amp;&amp;void 0!==(c=b.get(e,&quot;value&quot;))?c:(c=e.value,&quot;string&quot;==typeof c?c.replace(rb,&quot;&quot;):null==c?&quot;&quot;:c)}}}),n.extend({valHooks:{option:{get:function(a){var b=n.find.attr(a,&quot;value&quot;);return null!=b?b:n.trim(n.text(a)).replace(sb,&quot; &quot;)}},select:{get:function(a){for(var b,c,d=a.options,e=a.selectedIndex,f=&quot;select-one&quot;===a.type||0&gt;e,g=f?null:[],h=f?e+1:d.length,i=0&gt;e?h:f?e:0;h&gt;i;i++)if(c=d[i],(c.selected||i===e)&amp;&amp;(l.optDisabled?!c.disabled:null===c.getAttribute(&quot;disabled&quot;))&amp;&amp;(!c.parentNode.disabled||!n.nodeName(c.parentNode,&quot;optgroup&quot;))){if(b=n(c).val(),f)return b;g.push(b)}return g},set:function(a,b){var c,d,e=a.options,f=n.makeArray(b),g=e.length;while(g--)if(d=e[g],n.inArray(n.valHooks.option.get(d),f)&gt;-1)try{d.selected=c=!0}catch(h){d.scrollHeight}else d.selected=!1;return c||(a.selectedIndex=-1),e}}}}),n.each([&quot;radio&quot;,&quot;checkbox&quot;],function(){n.valHooks[this]={set:function(a,b){return n.isArray(b)?a.checked=n.inArray(n(a).val(),b)&gt;-1:void 0}},l.checkOn||(n.valHooks[this].get=function(a){return null===a.getAttribute(&quot;value&quot;)?&quot;on&quot;:a.value})});var tb,ub,vb=n.expr.attrHandle,wb=/^(?:checked|selected)$/i,xb=l.getSetAttribute,yb=l.input;n.fn.extend({attr:function(a,b){return Y(this,n.attr,a,b,arguments.length&gt;1)},removeAttr:function(a){return this.each(function(){n.removeAttr(this,a)})}}),n.extend({attr:function(a,b,c){var d,e,f=a.nodeType;if(3!==f&amp;&amp;8!==f&amp;&amp;2!==f)return&quot;undefined&quot;==typeof a.getAttribute?n.prop(a,b,c):(1===f&amp;&amp;n.isXMLDoc(a)||(b=b.toLowerCase(),e=n.attrHooks[b]||(n.expr.match.bool.test(b)?ub:tb)),void 0!==c?null===c?void n.removeAttr(a,b):e&amp;&amp;&quot;set&quot;in e&amp;&amp;void 0!==(d=e.set(a,c,b))?d:(a.setAttribute(b,c+&quot;&quot;),c):e&amp;&amp;&quot;get&quot;in e&amp;&amp;null!==(d=e.get(a,b))?d:(d=n.find.attr(a,b),null==d?void 0:d))},attrHooks:{type:{set:function(a,b){if(!l.radioValue&amp;&amp;&quot;radio&quot;===b&amp;&amp;n.nodeName(a,&quot;input&quot;)){var c=a.value;return a.setAttribute(&quot;type&quot;,b),c&amp;&amp;(a.value=c),b}}}},removeAttr:function(a,b){var c,d,e=0,f=b&amp;&amp;b.match(G);if(f&amp;&amp;1===a.nodeType)while(c=f[e++])d=n.propFix[c]||c,n.expr.match.bool.test(c)?yb&amp;&amp;xb||!wb.test(c)?a[d]=!1:a[n.camelCase(&quot;default-&quot;+c)]=a[d]=!1:n.attr(a,c,&quot;&quot;),a.removeAttribute(xb?c:d)}}),ub={set:function(a,b,c){return b===!1?n.removeAttr(a,c):yb&amp;&amp;xb||!wb.test(c)?a.setAttribute(!xb&amp;&amp;n.propFix[c]||c,c):a[n.camelCase(&quot;default-&quot;+c)]=a[c]=!0,c}},n.each(n.expr.match.bool.source.match(/\\w+/g),function(a,b){var c=vb[b]||n.find.attr;yb&amp;&amp;xb||!wb.test(b)?vb[b]=function(a,b,d){var e,f;return d||(f=vb[b],vb[b]=e,e=null!=c(a,b,d)?b.toLowerCase():null,vb[b]=f),e}:vb[b]=function(a,b,c){return c?void 0:a[n.camelCase(&quot;default-&quot;+b)]?b.toLowerCase():null}}),yb&amp;&amp;xb||(n.attrHooks.value={set:function(a,b,c){return n.nodeName(a,&quot;input&quot;)?void(a.defaultValue=b):tb&amp;&amp;tb.set(a,b,c)}}),xb||(tb={set:function(a,b,c){var d=a.getAttributeNode(c);return d||a.setAttributeNode(d=a.ownerDocument.createAttribute(c)),d.value=b+=&quot;&quot;,&quot;value&quot;===c||b===a.getAttribute(c)?b:void 0}},vb.id=vb.name=vb.coords=function(a,b,c){var d;return c?void 0:(d=a.getAttributeNode(b))&amp;&amp;&quot;&quot;!==d.value?d.value:null},n.valHooks.button={get:function(a,b){var c=a.getAttributeNode(b);return c&amp;&amp;c.specified?c.value:void 0},set:tb.set},n.attrHooks.contenteditable={set:function(a,b,c){tb.set(a,&quot;&quot;===b?!1:b,c)}},n.each([&quot;width&quot;,&quot;height&quot;],function(a,b){n.attrHooks[b]={set:function(a,c){return&quot;&quot;===c?(a.setAttribute(b,&quot;auto&quot;),c):void 0}}})),l.style||(n.attrHooks.style={get:function(a){return a.style.cssText||void 0},set:function(a,b){return a.style.cssText=b+&quot;&quot;}});var zb=/^(?:input|select|textarea|button|object)$/i,Ab=/^(?:a|area)$/i;n.fn.extend({prop:function(a,b){return Y(this,n.prop,a,b,arguments.length&gt;1)},removeProp:function(a){return a=n.propFix[a]||a,this.each(function(){try{this[a]=void 0,delete this[a]}catch(b){}})}}),n.extend({prop:function(a,b,c){var d,e,f=a.nodeType;if(3!==f&amp;&amp;8!==f&amp;&amp;2!==f)return 1===f&amp;&amp;n.isXMLDoc(a)||(b=n.propFix[b]||b,e=n.propHooks[b]),void 0!==c?e&amp;&amp;&quot;set&quot;in e&amp;&amp;void 0!==(d=e.set(a,c,b))?d:a[b]=c:e&amp;&amp;&quot;get&quot;in e&amp;&amp;null!==(d=e.get(a,b))?d:a[b]},propHooks:{tabIndex:{get:function(a){var b=n.find.attr(a,&quot;tabindex&quot;);return b?parseInt(b,10):zb.test(a.nodeName)||Ab.test(a.nodeName)&amp;&amp;a.href?0:-1}}},propFix:{&quot;for&quot;:&quot;htmlFor&quot;,&quot;class&quot;:&quot;className&quot;}}),l.hrefNormalized||n.each([&quot;href&quot;,&quot;src&quot;],function(a,b){n.propHooks[b]={get:function(a){return a.getAttribute(b,4)}}}),l.optSelected||(n.propHooks.selected={get:function(a){var b=a.parentNode;return b&amp;&amp;(b.selectedIndex,b.parentNode&amp;&amp;b.parentNode.selectedIndex),null},set:function(a){var b=a.parentNode;b&amp;&amp;(b.selectedIndex,b.parentNode&amp;&amp;b.parentNode.selectedIndex)}}),n.each([&quot;tabIndex&quot;,&quot;readOnly&quot;,&quot;maxLength&quot;,&quot;cellSpacing&quot;,&quot;cellPadding&quot;,&quot;rowSpan&quot;,&quot;colSpan&quot;,&quot;useMap&quot;,&quot;frameBorder&quot;,&quot;contentEditable&quot;],function(){n.propFix[this.toLowerCase()]=this}),l.enctype||(n.propFix.enctype=&quot;encoding&quot;);var Bb=/[\\t\\r\\n\\f]/g;function Cb(a){return n.attr(a,&quot;class&quot;)||&quot;&quot;}n.fn.extend({addClass:function(a){var b,c,d,e,f,g,h,i=0;if(n.isFunction(a))return this.each(function(b){n(this).addClass(a.call(this,b,Cb(this)))});if(&quot;string&quot;==typeof a&amp;&amp;a){b=a.match(G)||[];while(c=this[i++])if(e=Cb(c),d=1===c.nodeType&amp;&amp;(&quot; &quot;+e+&quot; &quot;).replace(Bb,&quot; &quot;)){g=0;while(f=b[g++])d.indexOf(&quot; &quot;+f+&quot; &quot;)&lt;0&amp;&amp;(d+=f+&quot; &quot;);h=n.trim(d),e!==h&amp;&amp;n.attr(c,&quot;class&quot;,h)}}return this},removeClass:function(a){var b,c,d,e,f,g,h,i=0;if(n.isFunction(a))return this.each(function(b){n(this).removeClass(a.call(this,b,Cb(this)))});if(!arguments.length)return this.attr(&quot;class&quot;,&quot;&quot;);if(&quot;string&quot;==typeof a&amp;&amp;a){b=a.match(G)||[];while(c=this[i++])if(e=Cb(c),d=1===c.nodeType&amp;&amp;(&quot; &quot;+e+&quot; &quot;).replace(Bb,&quot; &quot;)){g=0;while(f=b[g++])while(d.indexOf(&quot; &quot;+f+&quot; &quot;)&gt;-1)d=d.replace(&quot; &quot;+f+&quot; &quot;,&quot; &quot;);h=n.trim(d),e!==h&amp;&amp;n.attr(c,&quot;class&quot;,h)}}return this},toggleClass:function(a,b){var c=typeof a;return&quot;boolean&quot;==typeof b&amp;&amp;&quot;string&quot;===c?b?this.addClass(a):this.removeClass(a):n.isFunction(a)?this.each(function(c){n(this).toggleClass(a.call(this,c,Cb(this),b),b)}):this.each(function(){var b,d,e,f;if(&quot;string&quot;===c){d=0,e=n(this),f=a.match(G)||[];while(b=f[d++])e.hasClass(b)?e.removeClass(b):e.addClass(b)}else void 0!==a&amp;&amp;&quot;boolean&quot;!==c||(b=Cb(this),b&amp;&amp;n._data(this,&quot;__className__&quot;,b),n.attr(this,&quot;class&quot;,b||a===!1?&quot;&quot;:n._data(this,&quot;__className__&quot;)||&quot;&quot;))})},hasClass:function(a){var b,c,d=0;b=&quot; &quot;+a+&quot; &quot;;while(c=this[d++])if(1===c.nodeType&amp;&amp;(&quot; &quot;+Cb(c)+&quot; &quot;).replace(Bb,&quot; &quot;).indexOf(b)&gt;-1)return!0;return!1}}),n.each(&quot;blur focus focusin focusout load resize scroll unload click dblclick mousedown mouseup mousemove mouseover mouseout mouseenter mouseleave change select submit keydown keypress keyup error contextmenu&quot;.split(&quot; &quot;),function(a,b){n.fn[b]=function(a,c){return arguments.length&gt;0?this.on(b,null,a,c):this.trigger(b)}}),n.fn.extend({hover:function(a,b){return this.mouseenter(a).mouseleave(b||a)}});var Db=a.location,Eb=n.now(),Fb=/\\?/,Gb=/(,)|(\\[|{)|(}|])|&quot;(?:[^&quot;\\\\\\r\\n]|\\\\[&quot;\\\\\\/bfnrt]|\\\\u[\\da-fA-F]{4})*&quot;\\s*:?|true|false|null|-?(?!0\\d)\\d+(?:\\.\\d+|)(?:[eE][+-]?\\d+|)/g;n.parseJSON=function(b){if(a.JSON&amp;&amp;a.JSON.parse)return a.JSON.parse(b+&quot;&quot;);var c,d=null,e=n.trim(b+&quot;&quot;);return e&amp;&amp;!n.trim(e.replace(Gb,function(a,b,e,f){return c&amp;&amp;b&amp;&amp;(d=0),0===d?a:(c=e||b,d+=!f-!e,&quot;&quot;)}))?Function(&quot;return &quot;+e)():n.error(&quot;Invalid JSON: &quot;+b)},n.parseXML=function(b){var c,d;if(!b||&quot;string&quot;!=typeof b)return null;try{a.DOMParser?(d=new a.DOMParser,c=d.parseFromString(b,&quot;text/xml&quot;)):(c=new a.ActiveXObject(&quot;Microsoft.XMLDOM&quot;),c.async=&quot;false&quot;,c.loadXML(b))}catch(e){c=void 0}return c&amp;&amp;c.documentElement&amp;&amp;!c.getElementsByTagName(&quot;parsererror&quot;).length||n.error(&quot;Invalid XML: &quot;+b),c};var Hb=/#.*$/,Ib=/([?&amp;])_=[^&amp;]*/,Jb=/^(.*?):[ \\t]*([^\\r\\n]*)\\r?$/gm,Kb=/^(?:about|app|app-storage|.+-extension|file|res|widget):$/,Lb=/^(?:GET|HEAD)$/,Mb=/^\\/\\//,Nb=/^([\\w.+-]+:)(?:\\/\\/(?:[^\\/?#]*@|)([^\\/?#:]*)(?::(\\d+)|)|)/,Ob={},Pb={},Qb=&quot;*/&quot;.concat(&quot;*&quot;),Rb=Db.href,Sb=Nb.exec(Rb.toLowerCase())||[];function Tb(a){return function(b,c){&quot;string&quot;!=typeof b&amp;&amp;(c=b,b=&quot;*&quot;);var d,e=0,f=b.toLowerCase().match(G)||[];if(n.isFunction(c))while(d=f[e++])&quot;+&quot;===d.charAt(0)?(d=d.slice(1)||&quot;*&quot;,(a[d]=a[d]||[]).unshift(c)):(a[d]=a[d]||[]).push(c)}}function Ub(a,b,c,d){var e={},f=a===Pb;function g(h){var i;return e[h]=!0,n.each(a[h]||[],function(a,h){var j=h(b,c,d);return&quot;string&quot;!=typeof j||f||e[j]?f?!(i=j):void 0:(b.dataTypes.unshift(j),g(j),!1)}),i}return g(b.dataTypes[0])||!e[&quot;*&quot;]&amp;&amp;g(&quot;*&quot;)}function Vb(a,b){var c,d,e=n.ajaxSettings.flatOptions||{};for(d in b)void 0!==b[d]&amp;&amp;((e[d]?a:c||(c={}))[d]=b[d]);return c&amp;&amp;n.extend(!0,a,c),a}function Wb(a,b,c){var d,e,f,g,h=a.contents,i=a.dataTypes;while(&quot;*&quot;===i[0])i.shift(),void 0===e&amp;&amp;(e=a.mimeType||b.getResponseHeader(&quot;Content-Type&quot;));if(e)for(g in h)if(h[g]&amp;&amp;h[g].test(e)){i.unshift(g);break}if(i[0]in c)f=i[0];else{for(g in c){if(!i[0]||a.converters[g+&quot; &quot;+i[0]]){f=g;break}d||(d=g)}f=f||d}return f?(f!==i[0]&amp;&amp;i.unshift(f),c[f]):void 0}function Xb(a,b,c,d){var e,f,g,h,i,j={},k=a.dataTypes.slice();if(k[1])for(g in a.converters)j[g.toLowerCase()]=a.converters[g];f=k.shift();while(f)if(a.responseFields[f]&amp;&amp;(c[a.responseFields[f]]=b),!i&amp;&amp;d&amp;&amp;a.dataFilter&amp;&amp;(b=a.dataFilter(b,a.dataType)),i=f,f=k.shift())if(&quot;*&quot;===f)f=i;else if(&quot;*&quot;!==i&amp;&amp;i!==f){if(g=j[i+&quot; &quot;+f]||j[&quot;* &quot;+f],!g)for(e in j)if(h=e.split(&quot; &quot;),h[1]===f&amp;&amp;(g=j[i+&quot; &quot;+h[0]]||j[&quot;* &quot;+h[0]])){g===!0?g=j[e]:j[e]!==!0&amp;&amp;(f=h[0],k.unshift(h[1]));break}if(g!==!0)if(g&amp;&amp;a[&quot;throws&quot;])b=g(b);else try{b=g(b)}catch(l){return{state:&quot;parsererror&quot;,error:g?l:&quot;No conversion from &quot;+i+&quot; to &quot;+f}}}return{state:&quot;success&quot;,data:b}}n.extend({active:0,lastModified:{},etag:{},ajaxSettings:{url:Rb,type:&quot;GET&quot;,isLocal:Kb.test(Sb[1]),global:!0,processData:!0,async:!0,contentType:&quot;application/x-www-form-urlencoded; charset=UTF-8&quot;,accepts:{&quot;*&quot;:Qb,text:&quot;text/plain&quot;,html:&quot;text/html&quot;,xml:&quot;application/xml, text/xml&quot;,json:&quot;application/json, text/javascript&quot;},contents:{xml:/\\bxml\\b/,html:/\\bhtml/,json:/\\bjson\\b/},responseFields:{xml:&quot;responseXML&quot;,text:&quot;responseText&quot;,json:&quot;responseJSON&quot;},converters:{&quot;* text&quot;:String,&quot;text html&quot;:!0,&quot;text json&quot;:n.parseJSON,&quot;text xml&quot;:n.parseXML},flatOptions:{url:!0,context:!0}},ajaxSetup:function(a,b){return b?Vb(Vb(a,n.ajaxSettings),b):Vb(n.ajaxSettings,a)},ajaxPrefilter:Tb(Ob),ajaxTransport:Tb(Pb),ajax:function(b,c){&quot;object&quot;==typeof b&amp;&amp;(c=b,b=void 0),c=c||{};var d,e,f,g,h,i,j,k,l=n.ajaxSetup({},c),m=l.context||l,o=l.context&amp;&amp;(m.nodeType||m.jquery)?n(m):n.event,p=n.Deferred(),q=n.Callbacks(&quot;once memory&quot;),r=l.statusCode||{},s={},t={},u=0,v=&quot;canceled&quot;,w={readyState:0,getResponseHeader:function(a){var b;if(2===u){if(!k){k={};while(b=Jb.exec(g))k[b[1].toLowerCase()]=b[2]}b=k[a.toLowerCase()]}return null==b?null:b},getAllResponseHeaders:function(){return 2===u?g:null},setRequestHeader:function(a,b){var c=a.toLowerCase();return u||(a=t[c]=t[c]||a,s[a]=b),this},overrideMimeType:function(a){return u||(l.mimeType=a),this},statusCode:function(a){var b;if(a)if(2&gt;u)for(b in a)r[b]=[r[b],a[b]];else w.always(a[w.status]);return this},abort:function(a){var b=a||v;return j&amp;&amp;j.abort(b),y(0,b),this}};if(p.promise(w).complete=q.add,w.success=w.done,w.error=w.fail,l.url=((b||l.url||Rb)+&quot;&quot;).replace(Hb,&quot;&quot;).replace(Mb,Sb[1]+&quot;//&quot;),l.type=c.method||c.type||l.method||l.type,l.dataTypes=n.trim(l.dataType||&quot;*&quot;).toLowerCase().match(G)||[&quot;&quot;],null==l.crossDomain&amp;&amp;(d=Nb.exec(l.url.toLowerCase()),l.crossDomain=!(!d||d[1]===Sb[1]&amp;&amp;d[2]===Sb[2]&amp;&amp;(d[3]||(&quot;http:&quot;===d[1]?&quot;80&quot;:&quot;443&quot;))===(Sb[3]||(&quot;http:&quot;===Sb[1]?&quot;80&quot;:&quot;443&quot;)))),l.data&amp;&amp;l.processData&amp;&amp;&quot;string&quot;!=typeof l.data&amp;&amp;(l.data=n.param(l.data,l.traditional)),Ub(Ob,l,c,w),2===u)return w;i=n.event&amp;&amp;l.global,i&amp;&amp;0===n.active++&amp;&amp;n.event.trigger(&quot;ajaxStart&quot;),l.type=l.type.toUpperCase(),l.hasContent=!Lb.test(l.type),f=l.url,l.hasContent||(l.data&amp;&amp;(f=l.url+=(Fb.test(f)?&quot;&amp;&quot;:&quot;?&quot;)+l.data,delete l.data),l.cache===!1&amp;&amp;(l.url=Ib.test(f)?f.replace(Ib,&quot;$1_=&quot;+Eb++):f+(Fb.test(f)?&quot;&amp;&quot;:&quot;?&quot;)+&quot;_=&quot;+Eb++)),l.ifModified&amp;&amp;(n.lastModified[f]&amp;&amp;w.setRequestHeader(&quot;If-Modified-Since&quot;,n.lastModified[f]),n.etag[f]&amp;&amp;w.setRequestHeader(&quot;If-None-Match&quot;,n.etag[f])),(l.data&amp;&amp;l.hasContent&amp;&amp;l.contentType!==!1||c.contentType)&amp;&amp;w.setRequestHeader(&quot;Content-Type&quot;,l.contentType),w.setRequestHeader(&quot;Accept&quot;,l.dataTypes[0]&amp;&amp;l.accepts[l.dataTypes[0]]?l.accepts[l.dataTypes[0]]+(&quot;*&quot;!==l.dataTypes[0]?&quot;, &quot;+Qb+&quot;; q=0.01&quot;:&quot;&quot;):l.accepts[&quot;*&quot;]);for(e in l.headers)w.setRequestHeader(e,l.headers[e]);if(l.beforeSend&amp;&amp;(l.beforeSend.call(m,w,l)===!1||2===u))return w.abort();v=&quot;abort&quot;;for(e in{success:1,error:1,complete:1})w[e](l[e]);if(j=Ub(Pb,l,c,w)){if(w.readyState=1,i&amp;&amp;o.trigger(&quot;ajaxSend&quot;,[w,l]),2===u)return w;l.async&amp;&amp;l.timeout&gt;0&amp;&amp;(h=a.setTimeout(function(){w.abort(&quot;timeout&quot;)},l.timeout));try{u=1,j.send(s,y)}catch(x){if(!(2&gt;u))throw x;y(-1,x)}}else y(-1,&quot;No Transport&quot;);function y(b,c,d,e){var k,s,t,v,x,y=c;2!==u&amp;&amp;(u=2,h&amp;&amp;a.clearTimeout(h),j=void 0,g=e||&quot;&quot;,w.readyState=b&gt;0?4:0,k=b&gt;=200&amp;&amp;300&gt;b||304===b,d&amp;&amp;(v=Wb(l,w,d)),v=Xb(l,v,w,k),k?(l.ifModified&amp;&amp;(x=w.getResponseHeader(&quot;Last-Modified&quot;),x&amp;&amp;(n.lastModified[f]=x),x=w.getResponseHeader(&quot;etag&quot;),x&amp;&amp;(n.etag[f]=x)),204===b||&quot;HEAD&quot;===l.type?y=&quot;nocontent&quot;:304===b?y=&quot;notmodified&quot;:(y=v.state,s=v.data,t=v.error,k=!t)):(t=y,!b&amp;&amp;y||(y=&quot;error&quot;,0&gt;b&amp;&amp;(b=0))),w.status=b,w.statusText=(c||y)+&quot;&quot;,k?p.resolveWith(m,[s,y,w]):p.rejectWith(m,[w,y,t]),w.statusCode(r),r=void 0,i&amp;&amp;o.trigger(k?&quot;ajaxSuccess&quot;:&quot;ajaxError&quot;,[w,l,k?s:t]),q.fireWith(m,[w,y]),i&amp;&amp;(o.trigger(&quot;ajaxComplete&quot;,[w,l]),--n.active||n.event.trigger(&quot;ajaxStop&quot;)))}return w},getJSON:function(a,b,c){return n.get(a,b,c,&quot;json&quot;)},getScript:function(a,b){return n.get(a,void 0,b,&quot;script&quot;)}}),n.each([&quot;get&quot;,&quot;post&quot;],function(a,b){n[b]=function(a,c,d,e){return n.isFunction(c)&amp;&amp;(e=e||d,d=c,c=void 0),n.ajax(n.extend({url:a,type:b,dataType:e,data:c,success:d},n.isPlainObject(a)&amp;&amp;a))}}),n._evalUrl=function(a){return n.ajax({url:a,type:&quot;GET&quot;,dataType:&quot;script&quot;,cache:!0,async:!1,global:!1,&quot;throws&quot;:!0})},n.fn.extend({wrapAll:function(a){if(n.isFunction(a))return this.each(function(b){n(this).wrapAll(a.call(this,b))});if(this[0]){var b=n(a,this[0].ownerDocument).eq(0).clone(!0);this[0].parentNode&amp;&amp;b.insertBefore(this[0]),b.map(function(){var a=this;while(a.firstChild&amp;&amp;1===a.firstChild.nodeType)a=a.firstChild;return a}).append(this)}return this},wrapInner:function(a){return n.isFunction(a)?this.each(function(b){n(this).wrapInner(a.call(this,b))}):this.each(function(){var b=n(this),c=b.contents();c.length?c.wrapAll(a):b.append(a)})},wrap:function(a){var b=n.isFunction(a);return this.each(function(c){n(this).wrapAll(b?a.call(this,c):a)})},unwrap:function(){return this.parent().each(function(){n.nodeName(this,&quot;body&quot;)||n(this).replaceWith(this.childNodes)}).end()}});function Yb(a){return a.style&amp;&amp;a.style.display||n.css(a,&quot;display&quot;)}function Zb(a){if(!n.contains(a.ownerDocument||d,a))return!0;while(a&amp;&amp;1===a.nodeType){if(&quot;none&quot;===Yb(a)||&quot;hidden&quot;===a.type)return!0;a=a.parentNode}return!1}n.expr.filters.hidden=function(a){return l.reliableHiddenOffsets()?a.offsetWidth&lt;=0&amp;&amp;a.offsetHeight&lt;=0&amp;&amp;!a.getClientRects().length:Zb(a)},n.expr.filters.visible=function(a){return!n.expr.filters.hidden(a)};var $b=/%20/g,_b=/\\[\\]$/,ac=/\\r?\\n/g,bc=/^(?:submit|button|image|reset|file)$/i,cc=/^(?:input|select|textarea|keygen)/i;function dc(a,b,c,d){var e;if(n.isArray(b))n.each(b,function(b,e){c||_b.test(a)?d(a,e):dc(a+&quot;[&quot;+(&quot;object&quot;==typeof e&amp;&amp;null!=e?b:&quot;&quot;)+&quot;]&quot;,e,c,d)});else if(c||&quot;object&quot;!==n.type(b))d(a,b);else for(e in b)dc(a+&quot;[&quot;+e+&quot;]&quot;,b[e],c,d)}n.param=function(a,b){var c,d=[],e=function(a,b){b=n.isFunction(b)?b():null==b?&quot;&quot;:b,d[d.length]=encodeURIComponent(a)+&quot;=&quot;+encodeURIComponent(b)};if(void 0===b&amp;&amp;(b=n.ajaxSettings&amp;&amp;n.ajaxSettings.traditional),n.isArray(a)||a.jquery&amp;&amp;!n.isPlainObject(a))n.each(a,function(){e(this.name,this.value)});else for(c in a)dc(c,a[c],b,e);return d.join(&quot;&amp;&quot;).replace($b,&quot;+&quot;)},n.fn.extend({serialize:function(){return n.param(this.serializeArray())},serializeArray:function(){return this.map(function(){var a=n.prop(this,&quot;elements&quot;);return a?n.makeArray(a):this}).filter(function(){var a=this.type;return this.name&amp;&amp;!n(this).is(&quot;:disabled&quot;)&amp;&amp;cc.test(this.nodeName)&amp;&amp;!bc.test(a)&amp;&amp;(this.checked||!Z.test(a))}).map(function(a,b){var c=n(this).val();return null==c?null:n.isArray(c)?n.map(c,function(a){return{name:b.name,value:a.replace(ac,&quot;\\r\\n&quot;)}}):{name:b.name,value:c.replace(ac,&quot;\\r\\n&quot;)}}).get()}}),n.ajaxSettings.xhr=void 0!==a.ActiveXObject?function(){return this.isLocal?ic():d.documentMode&gt;8?hc():/^(get|post|head|put|delete|options)$/i.test(this.type)&amp;&amp;hc()||ic()}:hc;var ec=0,fc={},gc=n.ajaxSettings.xhr();a.attachEvent&amp;&amp;a.attachEvent(&quot;onunload&quot;,function(){for(var a in fc)fc[a](void 0,!0)}),l.cors=!!gc&amp;&amp;&quot;withCredentials&quot;in gc,gc=l.ajax=!!gc,gc&amp;&amp;n.ajaxTransport(function(b){if(!b.crossDomain||l.cors){var c;return{send:function(d,e){var f,g=b.xhr(),h=++ec;if(g.open(b.type,b.url,b.async,b.username,b.password),b.xhrFields)for(f in b.xhrFields)g[f]=b.xhrFields[f];b.mimeType&amp;&amp;g.overrideMimeType&amp;&amp;g.overrideMimeType(b.mimeType),b.crossDomain||d[&quot;X-Requested-With&quot;]||(d[&quot;X-Requested-With&quot;]=&quot;XMLHttpRequest&quot;);for(f in d)void 0!==d[f]&amp;&amp;g.setRequestHeader(f,d[f]+&quot;&quot;);g.send(b.hasContent&amp;&amp;b.data||null),c=function(a,d){var f,i,j;if(c&amp;&amp;(d||4===g.readyState))if(delete fc[h],c=void 0,g.onreadystatechange=n.noop,d)4!==g.readyState&amp;&amp;g.abort();else{j={},f=g.status,&quot;string&quot;==typeof g.responseText&amp;&amp;(j.text=g.responseText);try{i=g.statusText}catch(k){i=&quot;&quot;}f||!b.isLocal||b.crossDomain?1223===f&amp;&amp;(f=204):f=j.text?200:404}j&amp;&amp;e(f,i,j,g.getAllResponseHeaders())},b.async?4===g.readyState?a.setTimeout(c):g.onreadystatechange=fc[h]=c:c()},abort:function(){c&amp;&amp;c(void 0,!0)}}}});function hc(){try{return new a.XMLHttpRequest}catch(b){}}function ic(){try{return new a.ActiveXObject(&quot;Microsoft.XMLHTTP&quot;)}catch(b){}}n.ajaxSetup({accepts:{script:&quot;text/javascript, application/javascript, application/ecmascript, application/x-ecmascript&quot;},contents:{script:/\\b(?:java|ecma)script\\b/},converters:{&quot;text script&quot;:function(a){return n.globalEval(a),a}}}),n.ajaxPrefilter(&quot;script&quot;,function(a){void 0===a.cache&amp;&amp;(a.cache=!1),a.crossDomain&amp;&amp;(a.type=&quot;GET&quot;,a.global=!1)}),n.ajaxTransport(&quot;script&quot;,function(a){if(a.crossDomain){var b,c=d.head||n(&quot;head&quot;)[0]||d.documentElement;return{send:function(e,f){b=d.createElement(&quot;script&quot;),b.async=!0,a.scriptCharset&amp;&amp;(b.charset=a.scriptCharset),b.src=a.url,b.onload=b.onreadystatechange=function(a,c){(c||!b.readyState||/loaded|complete/.test(b.readyState))&amp;&amp;(b.onload=b.onreadystatechange=null,b.parentNode&amp;&amp;b.parentNode.removeChild(b),b=null,c||f(200,&quot;success&quot;))},c.insertBefore(b,c.firstChild)},abort:function(){b&amp;&amp;b.onload(void 0,!0)}}}});var jc=[],kc=/(=)\\?(?=&amp;|$)|\\?\\?/;n.ajaxSetup({jsonp:&quot;callback&quot;,jsonpCallback:function(){var a=jc.pop()||n.expando+&quot;_&quot;+Eb++;return this[a]=!0,a}}),n.ajaxPrefilter(&quot;json jsonp&quot;,function(b,c,d){var e,f,g,h=b.jsonp!==!1&amp;&amp;(kc.test(b.url)?&quot;url&quot;:&quot;string&quot;==typeof b.data&amp;&amp;0===(b.contentType||&quot;&quot;).indexOf(&quot;application/x-www-form-urlencoded&quot;)&amp;&amp;kc.test(b.data)&amp;&amp;&quot;data&quot;);return h||&quot;jsonp&quot;===b.dataTypes[0]?(e=b.jsonpCallback=n.isFunction(b.jsonpCallback)?b.jsonpCallback():b.jsonpCallback,h?b[h]=b[h].replace(kc,&quot;$1&quot;+e):b.jsonp!==!1&amp;&amp;(b.url+=(Fb.test(b.url)?&quot;&amp;&quot;:&quot;?&quot;)+b.jsonp+&quot;=&quot;+e),b.converters[&quot;script json&quot;]=function(){return g||n.error(e+&quot; was not called&quot;),g[0]},b.dataTypes[0]=&quot;json&quot;,f=a[e],a[e]=function(){g=arguments},d.always(function(){void 0===f?n(a).removeProp(e):a[e]=f,b[e]&amp;&amp;(b.jsonpCallback=c.jsonpCallback,jc.push(e)),g&amp;&amp;n.isFunction(f)&amp;&amp;f(g[0]),g=f=void 0}),&quot;script&quot;):void 0}),n.parseHTML=function(a,b,c){if(!a||&quot;string&quot;!=typeof a)return null;&quot;boolean&quot;==typeof b&amp;&amp;(c=b,b=!1),b=b||d;var e=x.exec(a),f=!c&amp;&amp;[];return e?[b.createElement(e[1])]:(e=ja([a],b,f),f&amp;&amp;f.length&amp;&amp;n(f).remove(),n.merge([],e.childNodes))};var lc=n.fn.load;n.fn.load=function(a,b,c){if(&quot;string&quot;!=typeof a&amp;&amp;lc)return lc.apply(this,arguments);var d,e,f,g=this,h=a.indexOf(&quot; &quot;);return h&gt;-1&amp;&amp;(d=n.trim(a.slice(h,a.length)),a=a.slice(0,h)),n.isFunction(b)?(c=b,b=void 0):b&amp;&amp;&quot;object&quot;==typeof b&amp;&amp;(e=&quot;POST&quot;),g.length&gt;0&amp;&amp;n.ajax({url:a,type:e||&quot;GET&quot;,dataType:&quot;html&quot;,data:b}).done(function(a){f=arguments,g.html(d?n(&quot;&lt;div&gt;&quot;).append(n.parseHTML(a)).find(d):a)}).always(c&amp;&amp;function(a,b){g.each(function(){c.apply(this,f||[a.responseText,b,a])})}),this},n.each([&quot;ajaxStart&quot;,&quot;ajaxStop&quot;,&quot;ajaxComplete&quot;,&quot;ajaxError&quot;,&quot;ajaxSuccess&quot;,&quot;ajaxSend&quot;],function(a,b){n.fn[b]=function(a){return this.on(b,a)}}),n.expr.filters.animated=function(a){return n.grep(n.timers,function(b){return a===b.elem}).length};function mc(a){return n.isWindow(a)?a:9===a.nodeType?a.defaultView||a.parentWindow:!1}n.offset={setOffset:function(a,b,c){var d,e,f,g,h,i,j,k=n.css(a,&quot;position&quot;),l=n(a),m={};&quot;static&quot;===k&amp;&amp;(a.style.position=&quot;relative&quot;),h=l.offset(),f=n.css(a,&quot;top&quot;),i=n.css(a,&quot;left&quot;),j=(&quot;absolute&quot;===k||&quot;fixed&quot;===k)&amp;&amp;n.inArray(&quot;auto&quot;,[f,i])&gt;-1,j?(d=l.position(),g=d.top,e=d.left):(g=parseFloat(f)||0,e=parseFloat(i)||0),n.isFunction(b)&amp;&amp;(b=b.call(a,c,n.extend({},h))),null!=b.top&amp;&amp;(m.top=b.top-h.top+g),null!=b.left&amp;&amp;(m.left=b.left-h.left+e),&quot;using&quot;in b?b.using.call(a,m):l.css(m)}},n.fn.extend({offset:function(a){if(arguments.length)return void 0===a?this:this.each(function(b){n.offset.setOffset(this,a,b)});var b,c,d={top:0,left:0},e=this[0],f=e&amp;&amp;e.ownerDocument;if(f)return b=f.documentElement,n.contains(b,e)?(&quot;undefined&quot;!=typeof e.getBoundingClientRect&amp;&amp;(d=e.getBoundingClientRect()),c=mc(f),{top:d.top+(c.pageYOffset||b.scrollTop)-(b.clientTop||0),left:d.left+(c.pageXOffset||b.scrollLeft)-(b.clientLeft||0)}):d},position:function(){if(this[0]){var a,b,c={top:0,left:0},d=this[0];return&quot;fixed&quot;===n.css(d,&quot;position&quot;)?b=d.getBoundingClientRect():(a=this.offsetParent(),b=this.offset(),n.nodeName(a[0],&quot;html&quot;)||(c=a.offset()),c.top+=n.css(a[0],&quot;borderTopWidth&quot;,!0),c.left+=n.css(a[0],&quot;borderLeftWidth&quot;,!0)),{top:b.top-c.top-n.css(d,&quot;marginTop&quot;,!0),left:b.left-c.left-n.css(d,&quot;marginLeft&quot;,!0)}}},offsetParent:function(){return this.map(function(){var a=this.offsetParent;while(a&amp;&amp;!n.nodeName(a,&quot;html&quot;)&amp;&amp;&quot;static&quot;===n.css(a,&quot;position&quot;))a=a.offsetParent;return a||Qa})}}),n.each({scrollLeft:&quot;pageXOffset&quot;,scrollTop:&quot;pageYOffset&quot;},function(a,b){var c=/Y/.test(b);n.fn[a]=function(d){return Y(this,function(a,d,e){var f=mc(a);return void 0===e?f?b in f?f[b]:f.document.documentElement[d]:a[d]:void(f?f.scrollTo(c?n(f).scrollLeft():e,c?e:n(f).scrollTop()):a[d]=e)},a,d,arguments.length,null)}}),n.each([&quot;top&quot;,&quot;left&quot;],function(a,b){n.cssHooks[b]=Ua(l.pixelPosition,function(a,c){return c?(c=Sa(a,b),Oa.test(c)?n(a).position()[b]+&quot;px&quot;:c):void 0})}),n.each({Height:&quot;height&quot;,Width:&quot;width&quot;},function(a,b){n.each({\n",
       "padding:&quot;inner&quot;+a,content:b,&quot;&quot;:&quot;outer&quot;+a},function(c,d){n.fn[d]=function(d,e){var f=arguments.length&amp;&amp;(c||&quot;boolean&quot;!=typeof d),g=c||(d===!0||e===!0?&quot;margin&quot;:&quot;border&quot;);return Y(this,function(b,c,d){var e;return n.isWindow(b)?b.document.documentElement[&quot;client&quot;+a]:9===b.nodeType?(e=b.documentElement,Math.max(b.body[&quot;scroll&quot;+a],e[&quot;scroll&quot;+a],b.body[&quot;offset&quot;+a],e[&quot;offset&quot;+a],e[&quot;client&quot;+a])):void 0===d?n.css(b,c,g):n.style(b,c,d,g)},b,f?d:void 0,f,null)}})}),n.fn.extend({bind:function(a,b,c){return this.on(a,null,b,c)},unbind:function(a,b){return this.off(a,null,b)},delegate:function(a,b,c,d){return this.on(b,a,c,d)},undelegate:function(a,b,c){return 1===arguments.length?this.off(a,&quot;**&quot;):this.off(b,a||&quot;**&quot;,c)}}),n.fn.size=function(){return this.length},n.fn.andSelf=n.fn.addBack,&quot;function&quot;==typeof define&amp;&amp;define.amd&amp;&amp;define(&quot;jquery&quot;,[],function(){return n});var nc=a.jQuery,oc=a.$;return n.noConflict=function(b){return a.$===n&amp;&amp;(a.$=oc),b&amp;&amp;a.jQuery===n&amp;&amp;(a.jQuery=nc),n},b||(a.jQuery=a.$=n),n});/*!\n",
       " * Bootstrap v3.3.7 (http://getbootstrap.com)\n",
       " * Copyright 2011-2016 Twitter, Inc.\n",
       " * Licensed under the MIT license\n",
       " */\n",
       "if(&quot;undefined&quot;==typeof jQuery)throw new Error(&quot;Bootstrap&#x27;s JavaScript requires jQuery&quot;);+function(a){&quot;use strict&quot;;var b=a.fn.jquery.split(&quot; &quot;)[0].split(&quot;.&quot;);if(b[0]&lt;2&amp;&amp;b[1]&lt;9||1==b[0]&amp;&amp;9==b[1]&amp;&amp;b[2]&lt;1||b[0]&gt;3)throw new Error(&quot;Bootstrap&#x27;s JavaScript requires jQuery version 1.9.1 or higher, but lower than version 4&quot;)}(jQuery),+function(a){&quot;use strict&quot;;function b(){var a=document.createElement(&quot;bootstrap&quot;),b={WebkitTransition:&quot;webkitTransitionEnd&quot;,MozTransition:&quot;transitionend&quot;,OTransition:&quot;oTransitionEnd otransitionend&quot;,transition:&quot;transitionend&quot;};for(var c in b)if(void 0!==a.style[c])return{end:b[c]};return!1}a.fn.emulateTransitionEnd=function(b){var c=!1,d=this;a(this).one(&quot;bsTransitionEnd&quot;,function(){c=!0});var e=function(){c||a(d).trigger(a.support.transition.end)};return setTimeout(e,b),this},a(function(){a.support.transition=b(),a.support.transition&amp;&amp;(a.event.special.bsTransitionEnd={bindType:a.support.transition.end,delegateType:a.support.transition.end,handle:function(b){if(a(b.target).is(this))return b.handleObj.handler.apply(this,arguments)}})})}(jQuery),+function(a){&quot;use strict&quot;;function b(b){return this.each(function(){var c=a(this),e=c.data(&quot;bs.alert&quot;);e||c.data(&quot;bs.alert&quot;,e=new d(this)),&quot;string&quot;==typeof b&amp;&amp;e[b].call(c)})}var c=&#x27;[data-dismiss=&quot;alert&quot;]&#x27;,d=function(b){a(b).on(&quot;click&quot;,c,this.close)};d.VERSION=&quot;3.3.7&quot;,d.TRANSITION_DURATION=150,d.prototype.close=function(b){function c(){g.detach().trigger(&quot;closed.bs.alert&quot;).remove()}var e=a(this),f=e.attr(&quot;data-target&quot;);f||(f=e.attr(&quot;href&quot;),f=f&amp;&amp;f.replace(/.*(?=#[^\\s]*$)/,&quot;&quot;));var g=a(&quot;#&quot;===f?[]:f);b&amp;&amp;b.preventDefault(),g.length||(g=e.closest(&quot;.alert&quot;)),g.trigger(b=a.Event(&quot;close.bs.alert&quot;)),b.isDefaultPrevented()||(g.removeClass(&quot;in&quot;),a.support.transition&amp;&amp;g.hasClass(&quot;fade&quot;)?g.one(&quot;bsTransitionEnd&quot;,c).emulateTransitionEnd(d.TRANSITION_DURATION):c())};var e=a.fn.alert;a.fn.alert=b,a.fn.alert.Constructor=d,a.fn.alert.noConflict=function(){return a.fn.alert=e,this},a(document).on(&quot;click.bs.alert.data-api&quot;,c,d.prototype.close)}(jQuery),+function(a){&quot;use strict&quot;;function b(b){return this.each(function(){var d=a(this),e=d.data(&quot;bs.button&quot;),f=&quot;object&quot;==typeof b&amp;&amp;b;e||d.data(&quot;bs.button&quot;,e=new c(this,f)),&quot;toggle&quot;==b?e.toggle():b&amp;&amp;e.setState(b)})}var c=function(b,d){this.$element=a(b),this.options=a.extend({},c.DEFAULTS,d),this.isLoading=!1};c.VERSION=&quot;3.3.7&quot;,c.DEFAULTS={loadingText:&quot;loading...&quot;},c.prototype.setState=function(b){var c=&quot;disabled&quot;,d=this.$element,e=d.is(&quot;input&quot;)?&quot;val&quot;:&quot;html&quot;,f=d.data();b+=&quot;Text&quot;,null==f.resetText&amp;&amp;d.data(&quot;resetText&quot;,d[e]()),setTimeout(a.proxy(function(){d[e](null==f[b]?this.options[b]:f[b]),&quot;loadingText&quot;==b?(this.isLoading=!0,d.addClass(c).attr(c,c).prop(c,!0)):this.isLoading&amp;&amp;(this.isLoading=!1,d.removeClass(c).removeAttr(c).prop(c,!1))},this),0)},c.prototype.toggle=function(){var a=!0,b=this.$element.closest(&#x27;[data-toggle=&quot;buttons&quot;]&#x27;);if(b.length){var c=this.$element.find(&quot;input&quot;);&quot;radio&quot;==c.prop(&quot;type&quot;)?(c.prop(&quot;checked&quot;)&amp;&amp;(a=!1),b.find(&quot;.active&quot;).removeClass(&quot;active&quot;),this.$element.addClass(&quot;active&quot;)):&quot;checkbox&quot;==c.prop(&quot;type&quot;)&amp;&amp;(c.prop(&quot;checked&quot;)!==this.$element.hasClass(&quot;active&quot;)&amp;&amp;(a=!1),this.$element.toggleClass(&quot;active&quot;)),c.prop(&quot;checked&quot;,this.$element.hasClass(&quot;active&quot;)),a&amp;&amp;c.trigger(&quot;change&quot;)}else this.$element.attr(&quot;aria-pressed&quot;,!this.$element.hasClass(&quot;active&quot;)),this.$element.toggleClass(&quot;active&quot;)};var d=a.fn.button;a.fn.button=b,a.fn.button.Constructor=c,a.fn.button.noConflict=function(){return a.fn.button=d,this},a(document).on(&quot;click.bs.button.data-api&quot;,&#x27;[data-toggle^=&quot;button&quot;]&#x27;,function(c){var d=a(c.target).closest(&quot;.btn&quot;);b.call(d,&quot;toggle&quot;),a(c.target).is(&#x27;input[type=&quot;radio&quot;], input[type=&quot;checkbox&quot;]&#x27;)||(c.preventDefault(),d.is(&quot;input,button&quot;)?d.trigger(&quot;focus&quot;):d.find(&quot;input:visible,button:visible&quot;).first().trigger(&quot;focus&quot;))}).on(&quot;focus.bs.button.data-api blur.bs.button.data-api&quot;,&#x27;[data-toggle^=&quot;button&quot;]&#x27;,function(b){a(b.target).closest(&quot;.btn&quot;).toggleClass(&quot;focus&quot;,/^focus(in)?$/.test(b.type))})}(jQuery),+function(a){&quot;use strict&quot;;function b(b){return this.each(function(){var d=a(this),e=d.data(&quot;bs.carousel&quot;),f=a.extend({},c.DEFAULTS,d.data(),&quot;object&quot;==typeof b&amp;&amp;b),g=&quot;string&quot;==typeof b?b:f.slide;e||d.data(&quot;bs.carousel&quot;,e=new c(this,f)),&quot;number&quot;==typeof b?e.to(b):g?e[g]():f.interval&amp;&amp;e.pause().cycle()})}var c=function(b,c){this.$element=a(b),this.$indicators=this.$element.find(&quot;.carousel-indicators&quot;),this.options=c,this.paused=null,this.sliding=null,this.interval=null,this.$active=null,this.$items=null,this.options.keyboard&amp;&amp;this.$element.on(&quot;keydown.bs.carousel&quot;,a.proxy(this.keydown,this)),&quot;hover&quot;==this.options.pause&amp;&amp;!(&quot;ontouchstart&quot;in document.documentElement)&amp;&amp;this.$element.on(&quot;mouseenter.bs.carousel&quot;,a.proxy(this.pause,this)).on(&quot;mouseleave.bs.carousel&quot;,a.proxy(this.cycle,this))};c.VERSION=&quot;3.3.7&quot;,c.TRANSITION_DURATION=600,c.DEFAULTS={interval:5e3,pause:&quot;hover&quot;,wrap:!0,keyboard:!0},c.prototype.keydown=function(a){if(!/input|textarea/i.test(a.target.tagName)){switch(a.which){case 37:this.prev();break;case 39:this.next();break;default:return}a.preventDefault()}},c.prototype.cycle=function(b){return b||(this.paused=!1),this.interval&amp;&amp;clearInterval(this.interval),this.options.interval&amp;&amp;!this.paused&amp;&amp;(this.interval=setInterval(a.proxy(this.next,this),this.options.interval)),this},c.prototype.getItemIndex=function(a){return this.$items=a.parent().children(&quot;.item&quot;),this.$items.index(a||this.$active)},c.prototype.getItemForDirection=function(a,b){var c=this.getItemIndex(b),d=&quot;prev&quot;==a&amp;&amp;0===c||&quot;next&quot;==a&amp;&amp;c==this.$items.length-1;if(d&amp;&amp;!this.options.wrap)return b;var e=&quot;prev&quot;==a?-1:1,f=(c+e)%this.$items.length;return this.$items.eq(f)},c.prototype.to=function(a){var b=this,c=this.getItemIndex(this.$active=this.$element.find(&quot;.item.active&quot;));if(!(a&gt;this.$items.length-1||a&lt;0))return this.sliding?this.$element.one(&quot;slid.bs.carousel&quot;,function(){b.to(a)}):c==a?this.pause().cycle():this.slide(a&gt;c?&quot;next&quot;:&quot;prev&quot;,this.$items.eq(a))},c.prototype.pause=function(b){return b||(this.paused=!0),this.$element.find(&quot;.next, .prev&quot;).length&amp;&amp;a.support.transition&amp;&amp;(this.$element.trigger(a.support.transition.end),this.cycle(!0)),this.interval=clearInterval(this.interval),this},c.prototype.next=function(){if(!this.sliding)return this.slide(&quot;next&quot;)},c.prototype.prev=function(){if(!this.sliding)return this.slide(&quot;prev&quot;)},c.prototype.slide=function(b,d){var e=this.$element.find(&quot;.item.active&quot;),f=d||this.getItemForDirection(b,e),g=this.interval,h=&quot;next&quot;==b?&quot;left&quot;:&quot;right&quot;,i=this;if(f.hasClass(&quot;active&quot;))return this.sliding=!1;var j=f[0],k=a.Event(&quot;slide.bs.carousel&quot;,{relatedTarget:j,direction:h});if(this.$element.trigger(k),!k.isDefaultPrevented()){if(this.sliding=!0,g&amp;&amp;this.pause(),this.$indicators.length){this.$indicators.find(&quot;.active&quot;).removeClass(&quot;active&quot;);var l=a(this.$indicators.children()[this.getItemIndex(f)]);l&amp;&amp;l.addClass(&quot;active&quot;)}var m=a.Event(&quot;slid.bs.carousel&quot;,{relatedTarget:j,direction:h});return a.support.transition&amp;&amp;this.$element.hasClass(&quot;slide&quot;)?(f.addClass(b),f[0].offsetWidth,e.addClass(h),f.addClass(h),e.one(&quot;bsTransitionEnd&quot;,function(){f.removeClass([b,h].join(&quot; &quot;)).addClass(&quot;active&quot;),e.removeClass([&quot;active&quot;,h].join(&quot; &quot;)),i.sliding=!1,setTimeout(function(){i.$element.trigger(m)},0)}).emulateTransitionEnd(c.TRANSITION_DURATION)):(e.removeClass(&quot;active&quot;),f.addClass(&quot;active&quot;),this.sliding=!1,this.$element.trigger(m)),g&amp;&amp;this.cycle(),this}};var d=a.fn.carousel;a.fn.carousel=b,a.fn.carousel.Constructor=c,a.fn.carousel.noConflict=function(){return a.fn.carousel=d,this};var e=function(c){var d,e=a(this),f=a(e.attr(&quot;data-target&quot;)||(d=e.attr(&quot;href&quot;))&amp;&amp;d.replace(/.*(?=#[^\\s]+$)/,&quot;&quot;));if(f.hasClass(&quot;carousel&quot;)){var g=a.extend({},f.data(),e.data()),h=e.attr(&quot;data-slide-to&quot;);h&amp;&amp;(g.interval=!1),b.call(f,g),h&amp;&amp;f.data(&quot;bs.carousel&quot;).to(h),c.preventDefault()}};a(document).on(&quot;click.bs.carousel.data-api&quot;,&quot;[data-slide]&quot;,e).on(&quot;click.bs.carousel.data-api&quot;,&quot;[data-slide-to]&quot;,e),a(window).on(&quot;load&quot;,function(){a(&#x27;[data-ride=&quot;carousel&quot;]&#x27;).each(function(){var c=a(this);b.call(c,c.data())})})}(jQuery),+function(a){&quot;use strict&quot;;function b(b){var c,d=b.attr(&quot;data-target&quot;)||(c=b.attr(&quot;href&quot;))&amp;&amp;c.replace(/.*(?=#[^\\s]+$)/,&quot;&quot;);return a(d)}function c(b){return this.each(function(){var c=a(this),e=c.data(&quot;bs.collapse&quot;),f=a.extend({},d.DEFAULTS,c.data(),&quot;object&quot;==typeof b&amp;&amp;b);!e&amp;&amp;f.toggle&amp;&amp;/show|hide/.test(b)&amp;&amp;(f.toggle=!1),e||c.data(&quot;bs.collapse&quot;,e=new d(this,f)),&quot;string&quot;==typeof b&amp;&amp;e[b]()})}var d=function(b,c){this.$element=a(b),this.options=a.extend({},d.DEFAULTS,c),this.$trigger=a(&#x27;[data-toggle=&quot;collapse&quot;][href=&quot;#&#x27;+b.id+&#x27;&quot;],[data-toggle=&quot;collapse&quot;][data-target=&quot;#&#x27;+b.id+&#x27;&quot;]&#x27;),this.transitioning=null,this.options.parent?this.$parent=this.getParent():this.addAriaAndCollapsedClass(this.$element,this.$trigger),this.options.toggle&amp;&amp;this.toggle()};d.VERSION=&quot;3.3.7&quot;,d.TRANSITION_DURATION=350,d.DEFAULTS={toggle:!0},d.prototype.dimension=function(){var a=this.$element.hasClass(&quot;width&quot;);return a?&quot;width&quot;:&quot;height&quot;},d.prototype.show=function(){if(!this.transitioning&amp;&amp;!this.$element.hasClass(&quot;in&quot;)){var b,e=this.$parent&amp;&amp;this.$parent.children(&quot;.panel&quot;).children(&quot;.in, .collapsing&quot;);if(!(e&amp;&amp;e.length&amp;&amp;(b=e.data(&quot;bs.collapse&quot;),b&amp;&amp;b.transitioning))){var f=a.Event(&quot;show.bs.collapse&quot;);if(this.$element.trigger(f),!f.isDefaultPrevented()){e&amp;&amp;e.length&amp;&amp;(c.call(e,&quot;hide&quot;),b||e.data(&quot;bs.collapse&quot;,null));var g=this.dimension();this.$element.removeClass(&quot;collapse&quot;).addClass(&quot;collapsing&quot;)[g](0).attr(&quot;aria-expanded&quot;,!0),this.$trigger.removeClass(&quot;collapsed&quot;).attr(&quot;aria-expanded&quot;,!0),this.transitioning=1;var h=function(){this.$element.removeClass(&quot;collapsing&quot;).addClass(&quot;collapse in&quot;)[g](&quot;&quot;),this.transitioning=0,this.$element.trigger(&quot;shown.bs.collapse&quot;)};if(!a.support.transition)return h.call(this);var i=a.camelCase([&quot;scroll&quot;,g].join(&quot;-&quot;));this.$element.one(&quot;bsTransitionEnd&quot;,a.proxy(h,this)).emulateTransitionEnd(d.TRANSITION_DURATION)[g](this.$element[0][i])}}}},d.prototype.hide=function(){if(!this.transitioning&amp;&amp;this.$element.hasClass(&quot;in&quot;)){var b=a.Event(&quot;hide.bs.collapse&quot;);if(this.$element.trigger(b),!b.isDefaultPrevented()){var c=this.dimension();this.$element[c](this.$element[c]())[0].offsetHeight,this.$element.addClass(&quot;collapsing&quot;).removeClass(&quot;collapse in&quot;).attr(&quot;aria-expanded&quot;,!1),this.$trigger.addClass(&quot;collapsed&quot;).attr(&quot;aria-expanded&quot;,!1),this.transitioning=1;var e=function(){this.transitioning=0,this.$element.removeClass(&quot;collapsing&quot;).addClass(&quot;collapse&quot;).trigger(&quot;hidden.bs.collapse&quot;)};return a.support.transition?void this.$element[c](0).one(&quot;bsTransitionEnd&quot;,a.proxy(e,this)).emulateTransitionEnd(d.TRANSITION_DURATION):e.call(this)}}},d.prototype.toggle=function(){this[this.$element.hasClass(&quot;in&quot;)?&quot;hide&quot;:&quot;show&quot;]()},d.prototype.getParent=function(){return a(this.options.parent).find(&#x27;[data-toggle=&quot;collapse&quot;][data-parent=&quot;&#x27;+this.options.parent+&#x27;&quot;]&#x27;).each(a.proxy(function(c,d){var e=a(d);this.addAriaAndCollapsedClass(b(e),e)},this)).end()},d.prototype.addAriaAndCollapsedClass=function(a,b){var c=a.hasClass(&quot;in&quot;);a.attr(&quot;aria-expanded&quot;,c),b.toggleClass(&quot;collapsed&quot;,!c).attr(&quot;aria-expanded&quot;,c)};var e=a.fn.collapse;a.fn.collapse=c,a.fn.collapse.Constructor=d,a.fn.collapse.noConflict=function(){return a.fn.collapse=e,this},a(document).on(&quot;click.bs.collapse.data-api&quot;,&#x27;[data-toggle=&quot;collapse&quot;]&#x27;,function(d){var e=a(this);e.attr(&quot;data-target&quot;)||d.preventDefault();var f=b(e),g=f.data(&quot;bs.collapse&quot;),h=g?&quot;toggle&quot;:e.data();c.call(f,h)})}(jQuery),+function(a){&quot;use strict&quot;;function b(b){var c=b.attr(&quot;data-target&quot;);c||(c=b.attr(&quot;href&quot;),c=c&amp;&amp;/#[A-Za-z]/.test(c)&amp;&amp;c.replace(/.*(?=#[^\\s]*$)/,&quot;&quot;));var d=c&amp;&amp;a(c);return d&amp;&amp;d.length?d:b.parent()}function c(c){c&amp;&amp;3===c.which||(a(e).remove(),a(f).each(function(){var d=a(this),e=b(d),f={relatedTarget:this};e.hasClass(&quot;open&quot;)&amp;&amp;(c&amp;&amp;&quot;click&quot;==c.type&amp;&amp;/input|textarea/i.test(c.target.tagName)&amp;&amp;a.contains(e[0],c.target)||(e.trigger(c=a.Event(&quot;hide.bs.dropdown&quot;,f)),c.isDefaultPrevented()||(d.attr(&quot;aria-expanded&quot;,&quot;false&quot;),e.removeClass(&quot;open&quot;).trigger(a.Event(&quot;hidden.bs.dropdown&quot;,f)))))}))}function d(b){return this.each(function(){var c=a(this),d=c.data(&quot;bs.dropdown&quot;);d||c.data(&quot;bs.dropdown&quot;,d=new g(this)),&quot;string&quot;==typeof b&amp;&amp;d[b].call(c)})}var e=&quot;.dropdown-backdrop&quot;,f=&#x27;[data-toggle=&quot;dropdown&quot;]&#x27;,g=function(b){a(b).on(&quot;click.bs.dropdown&quot;,this.toggle)};g.VERSION=&quot;3.3.7&quot;,g.prototype.toggle=function(d){var e=a(this);if(!e.is(&quot;.disabled, :disabled&quot;)){var f=b(e),g=f.hasClass(&quot;open&quot;);if(c(),!g){&quot;ontouchstart&quot;in document.documentElement&amp;&amp;!f.closest(&quot;.navbar-nav&quot;).length&amp;&amp;a(document.createElement(&quot;div&quot;)).addClass(&quot;dropdown-backdrop&quot;).insertAfter(a(this)).on(&quot;click&quot;,c);var h={relatedTarget:this};if(f.trigger(d=a.Event(&quot;show.bs.dropdown&quot;,h)),d.isDefaultPrevented())return;e.trigger(&quot;focus&quot;).attr(&quot;aria-expanded&quot;,&quot;true&quot;),f.toggleClass(&quot;open&quot;).trigger(a.Event(&quot;shown.bs.dropdown&quot;,h))}return!1}},g.prototype.keydown=function(c){if(/(38|40|27|32)/.test(c.which)&amp;&amp;!/input|textarea/i.test(c.target.tagName)){var d=a(this);if(c.preventDefault(),c.stopPropagation(),!d.is(&quot;.disabled, :disabled&quot;)){var e=b(d),g=e.hasClass(&quot;open&quot;);if(!g&amp;&amp;27!=c.which||g&amp;&amp;27==c.which)return 27==c.which&amp;&amp;e.find(f).trigger(&quot;focus&quot;),d.trigger(&quot;click&quot;);var h=&quot; li:not(.disabled):visible a&quot;,i=e.find(&quot;.dropdown-menu&quot;+h);if(i.length){var j=i.index(c.target);38==c.which&amp;&amp;j&gt;0&amp;&amp;j--,40==c.which&amp;&amp;j&lt;i.length-1&amp;&amp;j++,~j||(j=0),i.eq(j).trigger(&quot;focus&quot;)}}}};var h=a.fn.dropdown;a.fn.dropdown=d,a.fn.dropdown.Constructor=g,a.fn.dropdown.noConflict=function(){return a.fn.dropdown=h,this},a(document).on(&quot;click.bs.dropdown.data-api&quot;,c).on(&quot;click.bs.dropdown.data-api&quot;,&quot;.dropdown form&quot;,function(a){a.stopPropagation()}).on(&quot;click.bs.dropdown.data-api&quot;,f,g.prototype.toggle).on(&quot;keydown.bs.dropdown.data-api&quot;,f,g.prototype.keydown).on(&quot;keydown.bs.dropdown.data-api&quot;,&quot;.dropdown-menu&quot;,g.prototype.keydown)}(jQuery),+function(a){&quot;use strict&quot;;function b(b,d){return this.each(function(){var e=a(this),f=e.data(&quot;bs.modal&quot;),g=a.extend({},c.DEFAULTS,e.data(),&quot;object&quot;==typeof b&amp;&amp;b);f||e.data(&quot;bs.modal&quot;,f=new c(this,g)),&quot;string&quot;==typeof b?f[b](d):g.show&amp;&amp;f.show(d)})}var c=function(b,c){this.options=c,this.$body=a(document.body),this.$element=a(b),this.$dialog=this.$element.find(&quot;.modal-dialog&quot;),this.$backdrop=null,this.isShown=null,this.originalBodyPad=null,this.scrollbarWidth=0,this.ignoreBackdropClick=!1,this.options.remote&amp;&amp;this.$element.find(&quot;.modal-content&quot;).load(this.options.remote,a.proxy(function(){this.$element.trigger(&quot;loaded.bs.modal&quot;)},this))};c.VERSION=&quot;3.3.7&quot;,c.TRANSITION_DURATION=300,c.BACKDROP_TRANSITION_DURATION=150,c.DEFAULTS={backdrop:!0,keyboard:!0,show:!0},c.prototype.toggle=function(a){return this.isShown?this.hide():this.show(a)},c.prototype.show=function(b){var d=this,e=a.Event(&quot;show.bs.modal&quot;,{relatedTarget:b});this.$element.trigger(e),this.isShown||e.isDefaultPrevented()||(this.isShown=!0,this.checkScrollbar(),this.setScrollbar(),this.$body.addClass(&quot;modal-open&quot;),this.escape(),this.resize(),this.$element.on(&quot;click.dismiss.bs.modal&quot;,&#x27;[data-dismiss=&quot;modal&quot;]&#x27;,a.proxy(this.hide,this)),this.$dialog.on(&quot;mousedown.dismiss.bs.modal&quot;,function(){d.$element.one(&quot;mouseup.dismiss.bs.modal&quot;,function(b){a(b.target).is(d.$element)&amp;&amp;(d.ignoreBackdropClick=!0)})}),this.backdrop(function(){var e=a.support.transition&amp;&amp;d.$element.hasClass(&quot;fade&quot;);d.$element.parent().length||d.$element.appendTo(d.$body),d.$element.show().scrollTop(0),d.adjustDialog(),e&amp;&amp;d.$element[0].offsetWidth,d.$element.addClass(&quot;in&quot;),d.enforceFocus();var f=a.Event(&quot;shown.bs.modal&quot;,{relatedTarget:b});e?d.$dialog.one(&quot;bsTransitionEnd&quot;,function(){d.$element.trigger(&quot;focus&quot;).trigger(f)}).emulateTransitionEnd(c.TRANSITION_DURATION):d.$element.trigger(&quot;focus&quot;).trigger(f)}))},c.prototype.hide=function(b){b&amp;&amp;b.preventDefault(),b=a.Event(&quot;hide.bs.modal&quot;),this.$element.trigger(b),this.isShown&amp;&amp;!b.isDefaultPrevented()&amp;&amp;(this.isShown=!1,this.escape(),this.resize(),a(document).off(&quot;focusin.bs.modal&quot;),this.$element.removeClass(&quot;in&quot;).off(&quot;click.dismiss.bs.modal&quot;).off(&quot;mouseup.dismiss.bs.modal&quot;),this.$dialog.off(&quot;mousedown.dismiss.bs.modal&quot;),a.support.transition&amp;&amp;this.$element.hasClass(&quot;fade&quot;)?this.$element.one(&quot;bsTransitionEnd&quot;,a.proxy(this.hideModal,this)).emulateTransitionEnd(c.TRANSITION_DURATION):this.hideModal())},c.prototype.enforceFocus=function(){a(document).off(&quot;focusin.bs.modal&quot;).on(&quot;focusin.bs.modal&quot;,a.proxy(function(a){document===a.target||this.$element[0]===a.target||this.$element.has(a.target).length||this.$element.trigger(&quot;focus&quot;)},this))},c.prototype.escape=function(){this.isShown&amp;&amp;this.options.keyboard?this.$element.on(&quot;keydown.dismiss.bs.modal&quot;,a.proxy(function(a){27==a.which&amp;&amp;this.hide()},this)):this.isShown||this.$element.off(&quot;keydown.dismiss.bs.modal&quot;)},c.prototype.resize=function(){this.isShown?a(window).on(&quot;resize.bs.modal&quot;,a.proxy(this.handleUpdate,this)):a(window).off(&quot;resize.bs.modal&quot;)},c.prototype.hideModal=function(){var a=this;this.$element.hide(),this.backdrop(function(){a.$body.removeClass(&quot;modal-open&quot;),a.resetAdjustments(),a.resetScrollbar(),a.$element.trigger(&quot;hidden.bs.modal&quot;)})},c.prototype.removeBackdrop=function(){this.$backdrop&amp;&amp;this.$backdrop.remove(),this.$backdrop=null},c.prototype.backdrop=function(b){var d=this,e=this.$element.hasClass(&quot;fade&quot;)?&quot;fade&quot;:&quot;&quot;;if(this.isShown&amp;&amp;this.options.backdrop){var f=a.support.transition&amp;&amp;e;if(this.$backdrop=a(document.createElement(&quot;div&quot;)).addClass(&quot;modal-backdrop &quot;+e).appendTo(this.$body),this.$element.on(&quot;click.dismiss.bs.modal&quot;,a.proxy(function(a){return this.ignoreBackdropClick?void(this.ignoreBackdropClick=!1):void(a.target===a.currentTarget&amp;&amp;(&quot;static&quot;==this.options.backdrop?this.$element[0].focus():this.hide()))},this)),f&amp;&amp;this.$backdrop[0].offsetWidth,this.$backdrop.addClass(&quot;in&quot;),!b)return;f?this.$backdrop.one(&quot;bsTransitionEnd&quot;,b).emulateTransitionEnd(c.BACKDROP_TRANSITION_DURATION):b()}else if(!this.isShown&amp;&amp;this.$backdrop){this.$backdrop.removeClass(&quot;in&quot;);var g=function(){d.removeBackdrop(),b&amp;&amp;b()};a.support.transition&amp;&amp;this.$element.hasClass(&quot;fade&quot;)?this.$backdrop.one(&quot;bsTransitionEnd&quot;,g).emulateTransitionEnd(c.BACKDROP_TRANSITION_DURATION):g()}else b&amp;&amp;b()},c.prototype.handleUpdate=function(){this.adjustDialog()},c.prototype.adjustDialog=function(){var a=this.$element[0].scrollHeight&gt;document.documentElement.clientHeight;this.$element.css({paddingLeft:!this.bodyIsOverflowing&amp;&amp;a?this.scrollbarWidth:&quot;&quot;,paddingRight:this.bodyIsOverflowing&amp;&amp;!a?this.scrollbarWidth:&quot;&quot;})},c.prototype.resetAdjustments=function(){this.$element.css({paddingLeft:&quot;&quot;,paddingRight:&quot;&quot;})},c.prototype.checkScrollbar=function(){var a=window.innerWidth;if(!a){var b=document.documentElement.getBoundingClientRect();a=b.right-Math.abs(b.left)}this.bodyIsOverflowing=document.body.clientWidth&lt;a,this.scrollbarWidth=this.measureScrollbar()},c.prototype.setScrollbar=function(){var a=parseInt(this.$body.css(&quot;padding-right&quot;)||0,10);this.originalBodyPad=document.body.style.paddingRight||&quot;&quot;,this.bodyIsOverflowing&amp;&amp;this.$body.css(&quot;padding-right&quot;,a+this.scrollbarWidth)},c.prototype.resetScrollbar=function(){this.$body.css(&quot;padding-right&quot;,this.originalBodyPad)},c.prototype.measureScrollbar=function(){var a=document.createElement(&quot;div&quot;);a.className=&quot;modal-scrollbar-measure&quot;,this.$body.append(a);var b=a.offsetWidth-a.clientWidth;return this.$body[0].removeChild(a),b};var d=a.fn.modal;a.fn.modal=b,a.fn.modal.Constructor=c,a.fn.modal.noConflict=function(){return a.fn.modal=d,this},a(document).on(&quot;click.bs.modal.data-api&quot;,&#x27;[data-toggle=&quot;modal&quot;]&#x27;,function(c){var d=a(this),e=d.attr(&quot;href&quot;),f=a(d.attr(&quot;data-target&quot;)||e&amp;&amp;e.replace(/.*(?=#[^\\s]+$)/,&quot;&quot;)),g=f.data(&quot;bs.modal&quot;)?&quot;toggle&quot;:a.extend({remote:!/#/.test(e)&amp;&amp;e},f.data(),d.data());d.is(&quot;a&quot;)&amp;&amp;c.preventDefault(),f.one(&quot;show.bs.modal&quot;,function(a){a.isDefaultPrevented()||f.one(&quot;hidden.bs.modal&quot;,function(){d.is(&quot;:visible&quot;)&amp;&amp;d.trigger(&quot;focus&quot;)})}),b.call(f,g,this)})}(jQuery),+function(a){&quot;use strict&quot;;function b(b){return this.each(function(){var d=a(this),e=d.data(&quot;bs.tooltip&quot;),f=&quot;object&quot;==typeof b&amp;&amp;b;!e&amp;&amp;/destroy|hide/.test(b)||(e||d.data(&quot;bs.tooltip&quot;,e=new c(this,f)),&quot;string&quot;==typeof b&amp;&amp;e[b]())})}var c=function(a,b){this.type=null,this.options=null,this.enabled=null,this.timeout=null,this.hoverState=null,this.$element=null,this.inState=null,this.init(&quot;tooltip&quot;,a,b)};c.VERSION=&quot;3.3.7&quot;,c.TRANSITION_DURATION=150,c.DEFAULTS={animation:!0,placement:&quot;top&quot;,selector:!1,template:&#x27;&lt;div class=&quot;tooltip&quot; role=&quot;tooltip&quot;&gt;&lt;div class=&quot;tooltip-arrow&quot;&gt;&lt;/div&gt;&lt;div class=&quot;tooltip-inner&quot;&gt;&lt;/div&gt;&lt;/div&gt;&#x27;,trigger:&quot;hover focus&quot;,title:&quot;&quot;,delay:0,html:!1,container:!1,viewport:{selector:&quot;body&quot;,padding:0}},c.prototype.init=function(b,c,d){if(this.enabled=!0,this.type=b,this.$element=a(c),this.options=this.getOptions(d),this.$viewport=this.options.viewport&amp;&amp;a(a.isFunction(this.options.viewport)?this.options.viewport.call(this,this.$element):this.options.viewport.selector||this.options.viewport),this.inState={click:!1,hover:!1,focus:!1},this.$element[0]instanceof document.constructor&amp;&amp;!this.options.selector)throw new Error(&quot;`selector` option must be specified when initializing &quot;+this.type+&quot; on the window.document object!&quot;);for(var e=this.options.trigger.split(&quot; &quot;),f=e.length;f--;){var g=e[f];if(&quot;click&quot;==g)this.$element.on(&quot;click.&quot;+this.type,this.options.selector,a.proxy(this.toggle,this));else if(&quot;manual&quot;!=g){var h=&quot;hover&quot;==g?&quot;mouseenter&quot;:&quot;focusin&quot;,i=&quot;hover&quot;==g?&quot;mouseleave&quot;:&quot;focusout&quot;;this.$element.on(h+&quot;.&quot;+this.type,this.options.selector,a.proxy(this.enter,this)),this.$element.on(i+&quot;.&quot;+this.type,this.options.selector,a.proxy(this.leave,this))}}this.options.selector?this._options=a.extend({},this.options,{trigger:&quot;manual&quot;,selector:&quot;&quot;}):this.fixTitle()},c.prototype.getDefaults=function(){return c.DEFAULTS},c.prototype.getOptions=function(b){return b=a.extend({},this.getDefaults(),this.$element.data(),b),b.delay&amp;&amp;&quot;number&quot;==typeof b.delay&amp;&amp;(b.delay={show:b.delay,hide:b.delay}),b},c.prototype.getDelegateOptions=function(){var b={},c=this.getDefaults();return this._options&amp;&amp;a.each(this._options,function(a,d){c[a]!=d&amp;&amp;(b[a]=d)}),b},c.prototype.enter=function(b){var c=b instanceof this.constructor?b:a(b.currentTarget).data(&quot;bs.&quot;+this.type);return c||(c=new this.constructor(b.currentTarget,this.getDelegateOptions()),a(b.currentTarget).data(&quot;bs.&quot;+this.type,c)),b instanceof a.Event&amp;&amp;(c.inState[&quot;focusin&quot;==b.type?&quot;focus&quot;:&quot;hover&quot;]=!0),c.tip().hasClass(&quot;in&quot;)||&quot;in&quot;==c.hoverState?void(c.hoverState=&quot;in&quot;):(clearTimeout(c.timeout),c.hoverState=&quot;in&quot;,c.options.delay&amp;&amp;c.options.delay.show?void(c.timeout=setTimeout(function(){&quot;in&quot;==c.hoverState&amp;&amp;c.show()},c.options.delay.show)):c.show())},c.prototype.isInStateTrue=function(){for(var a in this.inState)if(this.inState[a])return!0;return!1},c.prototype.leave=function(b){var c=b instanceof this.constructor?b:a(b.currentTarget).data(&quot;bs.&quot;+this.type);if(c||(c=new this.constructor(b.currentTarget,this.getDelegateOptions()),a(b.currentTarget).data(&quot;bs.&quot;+this.type,c)),b instanceof a.Event&amp;&amp;(c.inState[&quot;focusout&quot;==b.type?&quot;focus&quot;:&quot;hover&quot;]=!1),!c.isInStateTrue())return clearTimeout(c.timeout),c.hoverState=&quot;out&quot;,c.options.delay&amp;&amp;c.options.delay.hide?void(c.timeout=setTimeout(function(){&quot;out&quot;==c.hoverState&amp;&amp;c.hide()},c.options.delay.hide)):c.hide()},c.prototype.show=function(){var b=a.Event(&quot;show.bs.&quot;+this.type);if(this.hasContent()&amp;&amp;this.enabled){this.$element.trigger(b);var d=a.contains(this.$element[0].ownerDocument.documentElement,this.$element[0]);if(b.isDefaultPrevented()||!d)return;var e=this,f=this.tip(),g=this.getUID(this.type);this.setContent(),f.attr(&quot;id&quot;,g),this.$element.attr(&quot;aria-describedby&quot;,g),this.options.animation&amp;&amp;f.addClass(&quot;fade&quot;);var h=&quot;function&quot;==typeof this.options.placement?this.options.placement.call(this,f[0],this.$element[0]):this.options.placement,i=/\\s?auto?\\s?/i,j=i.test(h);j&amp;&amp;(h=h.replace(i,&quot;&quot;)||&quot;top&quot;),f.detach().css({top:0,left:0,display:&quot;block&quot;}).addClass(h).data(&quot;bs.&quot;+this.type,this),this.options.container?f.appendTo(this.options.container):f.insertAfter(this.$element),this.$element.trigger(&quot;inserted.bs.&quot;+this.type);var k=this.getPosition(),l=f[0].offsetWidth,m=f[0].offsetHeight;if(j){var n=h,o=this.getPosition(this.$viewport);h=&quot;bottom&quot;==h&amp;&amp;k.bottom+m&gt;o.bottom?&quot;top&quot;:&quot;top&quot;==h&amp;&amp;k.top-m&lt;o.top?&quot;bottom&quot;:&quot;right&quot;==h&amp;&amp;k.right+l&gt;o.width?&quot;left&quot;:&quot;left&quot;==h&amp;&amp;k.left-l&lt;o.left?&quot;right&quot;:h,f.removeClass(n).addClass(h)}var p=this.getCalculatedOffset(h,k,l,m);this.applyPlacement(p,h);var q=function(){var a=e.hoverState;e.$element.trigger(&quot;shown.bs.&quot;+e.type),e.hoverState=null,&quot;out&quot;==a&amp;&amp;e.leave(e)};a.support.transition&amp;&amp;this.$tip.hasClass(&quot;fade&quot;)?f.one(&quot;bsTransitionEnd&quot;,q).emulateTransitionEnd(c.TRANSITION_DURATION):q()}},c.prototype.applyPlacement=function(b,c){var d=this.tip(),e=d[0].offsetWidth,f=d[0].offsetHeight,g=parseInt(d.css(&quot;margin-top&quot;),10),h=parseInt(d.css(&quot;margin-left&quot;),10);isNaN(g)&amp;&amp;(g=0),isNaN(h)&amp;&amp;(h=0),b.top+=g,b.left+=h,a.offset.setOffset(d[0],a.extend({using:function(a){d.css({top:Math.round(a.top),left:Math.round(a.left)})}},b),0),d.addClass(&quot;in&quot;);var i=d[0].offsetWidth,j=d[0].offsetHeight;&quot;top&quot;==c&amp;&amp;j!=f&amp;&amp;(b.top=b.top+f-j);var k=this.getViewportAdjustedDelta(c,b,i,j);k.left?b.left+=k.left:b.top+=k.top;var l=/top|bottom/.test(c),m=l?2*k.left-e+i:2*k.top-f+j,n=l?&quot;offsetWidth&quot;:&quot;offsetHeight&quot;;d.offset(b),this.replaceArrow(m,d[0][n],l)},c.prototype.replaceArrow=function(a,b,c){this.arrow().css(c?&quot;left&quot;:&quot;top&quot;,50*(1-a/b)+&quot;%&quot;).css(c?&quot;top&quot;:&quot;left&quot;,&quot;&quot;)},c.prototype.setContent=function(){var a=this.tip(),b=this.getTitle();a.find(&quot;.tooltip-inner&quot;)[this.options.html?&quot;html&quot;:&quot;text&quot;](b),a.removeClass(&quot;fade in top bottom left right&quot;)},c.prototype.hide=function(b){function d(){&quot;in&quot;!=e.hoverState&amp;&amp;f.detach(),e.$element&amp;&amp;e.$element.removeAttr(&quot;aria-describedby&quot;).trigger(&quot;hidden.bs.&quot;+e.type),b&amp;&amp;b()}var e=this,f=a(this.$tip),g=a.Event(&quot;hide.bs.&quot;+this.type);if(this.$element.trigger(g),!g.isDefaultPrevented())return f.removeClass(&quot;in&quot;),a.support.transition&amp;&amp;f.hasClass(&quot;fade&quot;)?f.one(&quot;bsTransitionEnd&quot;,d).emulateTransitionEnd(c.TRANSITION_DURATION):d(),this.hoverState=null,this},c.prototype.fixTitle=function(){var a=this.$element;(a.attr(&quot;title&quot;)||&quot;string&quot;!=typeof a.attr(&quot;data-original-title&quot;))&amp;&amp;a.attr(&quot;data-original-title&quot;,a.attr(&quot;title&quot;)||&quot;&quot;).attr(&quot;title&quot;,&quot;&quot;)},c.prototype.hasContent=function(){return this.getTitle()},c.prototype.getPosition=function(b){b=b||this.$element;var c=b[0],d=&quot;BODY&quot;==c.tagName,e=c.getBoundingClientRect();null==e.width&amp;&amp;(e=a.extend({},e,{width:e.right-e.left,height:e.bottom-e.top}));var f=window.SVGElement&amp;&amp;c instanceof window.SVGElement,g=d?{top:0,left:0}:f?null:b.offset(),h={scroll:d?document.documentElement.scrollTop||document.body.scrollTop:b.scrollTop()},i=d?{width:a(window).width(),height:a(window).height()}:null;return a.extend({},e,h,i,g)},c.prototype.getCalculatedOffset=function(a,b,c,d){return&quot;bottom&quot;==a?{top:b.top+b.height,left:b.left+b.width/2-c/2}:&quot;top&quot;==a?{top:b.top-d,left:b.left+b.width/2-c/2}:&quot;left&quot;==a?{top:b.top+b.height/2-d/2,left:b.left-c}:{top:b.top+b.height/2-d/2,left:b.left+b.width}},c.prototype.getViewportAdjustedDelta=function(a,b,c,d){var e={top:0,left:0};if(!this.$viewport)return e;var f=this.options.viewport&amp;&amp;this.options.viewport.padding||0,g=this.getPosition(this.$viewport);if(/right|left/.test(a)){var h=b.top-f-g.scroll,i=b.top+f-g.scroll+d;h&lt;g.top?e.top=g.top-h:i&gt;g.top+g.height&amp;&amp;(e.top=g.top+g.height-i)}else{var j=b.left-f,k=b.left+f+c;j&lt;g.left?e.left=g.left-j:k&gt;g.right&amp;&amp;(e.left=g.left+g.width-k)}return e},c.prototype.getTitle=function(){var a,b=this.$element,c=this.options;return a=b.attr(&quot;data-original-title&quot;)||(&quot;function&quot;==typeof c.title?c.title.call(b[0]):c.title)},c.prototype.getUID=function(a){do a+=~~(1e6*Math.random());while(document.getElementById(a));return a},c.prototype.tip=function(){if(!this.$tip&amp;&amp;(this.$tip=a(this.options.template),1!=this.$tip.length))throw new Error(this.type+&quot; `template` option must consist of exactly 1 top-level element!&quot;);return this.$tip},c.prototype.arrow=function(){return this.$arrow=this.$arrow||this.tip().find(&quot;.tooltip-arrow&quot;)},c.prototype.enable=function(){this.enabled=!0},c.prototype.disable=function(){this.enabled=!1},c.prototype.toggleEnabled=function(){this.enabled=!this.enabled},c.prototype.toggle=function(b){var c=this;b&amp;&amp;(c=a(b.currentTarget).data(&quot;bs.&quot;+this.type),c||(c=new this.constructor(b.currentTarget,this.getDelegateOptions()),a(b.currentTarget).data(&quot;bs.&quot;+this.type,c))),b?(c.inState.click=!c.inState.click,c.isInStateTrue()?c.enter(c):c.leave(c)):c.tip().hasClass(&quot;in&quot;)?c.leave(c):c.enter(c)},c.prototype.destroy=function(){var a=this;clearTimeout(this.timeout),this.hide(function(){a.$element.off(&quot;.&quot;+a.type).removeData(&quot;bs.&quot;+a.type),a.$tip&amp;&amp;a.$tip.detach(),a.$tip=null,a.$arrow=null,a.$viewport=null,a.$element=null})};var d=a.fn.tooltip;a.fn.tooltip=b,a.fn.tooltip.Constructor=c,a.fn.tooltip.noConflict=function(){return a.fn.tooltip=d,this}}(jQuery),+function(a){&quot;use strict&quot;;function b(b){return this.each(function(){var d=a(this),e=d.data(&quot;bs.popover&quot;),f=&quot;object&quot;==typeof b&amp;&amp;b;!e&amp;&amp;/destroy|hide/.test(b)||(e||d.data(&quot;bs.popover&quot;,e=new c(this,f)),&quot;string&quot;==typeof b&amp;&amp;e[b]())})}var c=function(a,b){this.init(&quot;popover&quot;,a,b)};if(!a.fn.tooltip)throw new Error(&quot;Popover requires tooltip.js&quot;);c.VERSION=&quot;3.3.7&quot;,c.DEFAULTS=a.extend({},a.fn.tooltip.Constructor.DEFAULTS,{placement:&quot;right&quot;,trigger:&quot;click&quot;,content:&quot;&quot;,template:&#x27;&lt;div class=&quot;popover&quot; role=&quot;tooltip&quot;&gt;&lt;div class=&quot;arrow&quot;&gt;&lt;/div&gt;&lt;h3 class=&quot;popover-title&quot;&gt;&lt;/h3&gt;&lt;div class=&quot;popover-content&quot;&gt;&lt;/div&gt;&lt;/div&gt;&#x27;}),c.prototype=a.extend({},a.fn.tooltip.Constructor.prototype),c.prototype.constructor=c,c.prototype.getDefaults=function(){return c.DEFAULTS},c.prototype.setContent=function(){var a=this.tip(),b=this.getTitle(),c=this.getContent();a.find(&quot;.popover-title&quot;)[this.options.html?&quot;html&quot;:&quot;text&quot;](b),a.find(&quot;.popover-content&quot;).children().detach().end()[this.options.html?&quot;string&quot;==typeof c?&quot;html&quot;:&quot;append&quot;:&quot;text&quot;](c),a.removeClass(&quot;fade top bottom left right in&quot;),a.find(&quot;.popover-title&quot;).html()||a.find(&quot;.popover-title&quot;).hide()},c.prototype.hasContent=function(){return this.getTitle()||this.getContent()},c.prototype.getContent=function(){var a=this.$element,b=this.options;return a.attr(&quot;data-content&quot;)||(&quot;function&quot;==typeof b.content?b.content.call(a[0]):b.content)},c.prototype.arrow=function(){return this.$arrow=this.$arrow||this.tip().find(&quot;.arrow&quot;)};var d=a.fn.popover;a.fn.popover=b,a.fn.popover.Constructor=c,a.fn.popover.noConflict=function(){return a.fn.popover=d,this}}(jQuery),+function(a){&quot;use strict&quot;;function b(c,d){this.$body=a(document.body),this.$scrollElement=a(a(c).is(document.body)?window:c),this.options=a.extend({},b.DEFAULTS,d),this.selector=(this.options.target||&quot;&quot;)+&quot; .nav li &gt; a&quot;,this.offsets=[],this.targets=[],this.activeTarget=null,this.scrollHeight=0,this.$scrollElement.on(&quot;scroll.bs.scrollspy&quot;,a.proxy(this.process,this)),this.refresh(),this.process()}function c(c){return this.each(function(){var d=a(this),e=d.data(&quot;bs.scrollspy&quot;),f=&quot;object&quot;==typeof c&amp;&amp;c;e||d.data(&quot;bs.scrollspy&quot;,e=new b(this,f)),&quot;string&quot;==typeof c&amp;&amp;e[c]()})}b.VERSION=&quot;3.3.7&quot;,b.DEFAULTS={offset:10},b.prototype.getScrollHeight=function(){return this.$scrollElement[0].scrollHeight||Math.max(this.$body[0].scrollHeight,document.documentElement.scrollHeight)},b.prototype.refresh=function(){var b=this,c=&quot;offset&quot;,d=0;this.offsets=[],this.targets=[],this.scrollHeight=this.getScrollHeight(),a.isWindow(this.$scrollElement[0])||(c=&quot;position&quot;,d=this.$scrollElement.scrollTop()),this.$body.find(this.selector).map(function(){var b=a(this),e=b.data(&quot;target&quot;)||b.attr(&quot;href&quot;),f=/^#./.test(e)&amp;&amp;a(e);return f&amp;&amp;f.length&amp;&amp;f.is(&quot;:visible&quot;)&amp;&amp;[[f[c]().top+d,e]]||null}).sort(function(a,b){return a[0]-b[0]}).each(function(){b.offsets.push(this[0]),b.targets.push(this[1])})},b.prototype.process=function(){var a,b=this.$scrollElement.scrollTop()+this.options.offset,c=this.getScrollHeight(),d=this.options.offset+c-this.$scrollElement.height(),e=this.offsets,f=this.targets,g=this.activeTarget;if(this.scrollHeight!=c&amp;&amp;this.refresh(),b&gt;=d)return g!=(a=f[f.length-1])&amp;&amp;this.activate(a);if(g&amp;&amp;b&lt;e[0])return this.activeTarget=null,this.clear();for(a=e.length;a--;)g!=f[a]&amp;&amp;b&gt;=e[a]&amp;&amp;(void 0===e[a+1]||b&lt;e[a+1])&amp;&amp;this.activate(f[a])},b.prototype.activate=function(b){\n",
       "this.activeTarget=b,this.clear();var c=this.selector+&#x27;[data-target=&quot;&#x27;+b+&#x27;&quot;],&#x27;+this.selector+&#x27;[href=&quot;&#x27;+b+&#x27;&quot;]&#x27;,d=a(c).parents(&quot;li&quot;).addClass(&quot;active&quot;);d.parent(&quot;.dropdown-menu&quot;).length&amp;&amp;(d=d.closest(&quot;li.dropdown&quot;).addClass(&quot;active&quot;)),d.trigger(&quot;activate.bs.scrollspy&quot;)},b.prototype.clear=function(){a(this.selector).parentsUntil(this.options.target,&quot;.active&quot;).removeClass(&quot;active&quot;)};var d=a.fn.scrollspy;a.fn.scrollspy=c,a.fn.scrollspy.Constructor=b,a.fn.scrollspy.noConflict=function(){return a.fn.scrollspy=d,this},a(window).on(&quot;load.bs.scrollspy.data-api&quot;,function(){a(&#x27;[data-spy=&quot;scroll&quot;]&#x27;).each(function(){var b=a(this);c.call(b,b.data())})})}(jQuery),+function(a){&quot;use strict&quot;;function b(b){return this.each(function(){var d=a(this),e=d.data(&quot;bs.tab&quot;);e||d.data(&quot;bs.tab&quot;,e=new c(this)),&quot;string&quot;==typeof b&amp;&amp;e[b]()})}var c=function(b){this.element=a(b)};c.VERSION=&quot;3.3.7&quot;,c.TRANSITION_DURATION=150,c.prototype.show=function(){var b=this.element,c=b.closest(&quot;ul:not(.dropdown-menu)&quot;),d=b.data(&quot;target&quot;);if(d||(d=b.attr(&quot;href&quot;),d=d&amp;&amp;d.replace(/.*(?=#[^\\s]*$)/,&quot;&quot;)),!b.parent(&quot;li&quot;).hasClass(&quot;active&quot;)){var e=c.find(&quot;.active:last a&quot;),f=a.Event(&quot;hide.bs.tab&quot;,{relatedTarget:b[0]}),g=a.Event(&quot;show.bs.tab&quot;,{relatedTarget:e[0]});if(e.trigger(f),b.trigger(g),!g.isDefaultPrevented()&amp;&amp;!f.isDefaultPrevented()){var h=a(d);this.activate(b.closest(&quot;li&quot;),c),this.activate(h,h.parent(),function(){e.trigger({type:&quot;hidden.bs.tab&quot;,relatedTarget:b[0]}),b.trigger({type:&quot;shown.bs.tab&quot;,relatedTarget:e[0]})})}}},c.prototype.activate=function(b,d,e){function f(){g.removeClass(&quot;active&quot;).find(&quot;&gt; .dropdown-menu &gt; .active&quot;).removeClass(&quot;active&quot;).end().find(&#x27;[data-toggle=&quot;tab&quot;]&#x27;).attr(&quot;aria-expanded&quot;,!1),b.addClass(&quot;active&quot;).find(&#x27;[data-toggle=&quot;tab&quot;]&#x27;).attr(&quot;aria-expanded&quot;,!0),h?(b[0].offsetWidth,b.addClass(&quot;in&quot;)):b.removeClass(&quot;fade&quot;),b.parent(&quot;.dropdown-menu&quot;).length&amp;&amp;b.closest(&quot;li.dropdown&quot;).addClass(&quot;active&quot;).end().find(&#x27;[data-toggle=&quot;tab&quot;]&#x27;).attr(&quot;aria-expanded&quot;,!0),e&amp;&amp;e()}var g=d.find(&quot;&gt; .active&quot;),h=e&amp;&amp;a.support.transition&amp;&amp;(g.length&amp;&amp;g.hasClass(&quot;fade&quot;)||!!d.find(&quot;&gt; .fade&quot;).length);g.length&amp;&amp;h?g.one(&quot;bsTransitionEnd&quot;,f).emulateTransitionEnd(c.TRANSITION_DURATION):f(),g.removeClass(&quot;in&quot;)};var d=a.fn.tab;a.fn.tab=b,a.fn.tab.Constructor=c,a.fn.tab.noConflict=function(){return a.fn.tab=d,this};var e=function(c){c.preventDefault(),b.call(a(this),&quot;show&quot;)};a(document).on(&quot;click.bs.tab.data-api&quot;,&#x27;[data-toggle=&quot;tab&quot;]&#x27;,e).on(&quot;click.bs.tab.data-api&quot;,&#x27;[data-toggle=&quot;pill&quot;]&#x27;,e)}(jQuery),+function(a){&quot;use strict&quot;;function b(b){return this.each(function(){var d=a(this),e=d.data(&quot;bs.affix&quot;),f=&quot;object&quot;==typeof b&amp;&amp;b;e||d.data(&quot;bs.affix&quot;,e=new c(this,f)),&quot;string&quot;==typeof b&amp;&amp;e[b]()})}var c=function(b,d){this.options=a.extend({},c.DEFAULTS,d),this.$target=a(this.options.target).on(&quot;scroll.bs.affix.data-api&quot;,a.proxy(this.checkPosition,this)).on(&quot;click.bs.affix.data-api&quot;,a.proxy(this.checkPositionWithEventLoop,this)),this.$element=a(b),this.affixed=null,this.unpin=null,this.pinnedOffset=null,this.checkPosition()};c.VERSION=&quot;3.3.7&quot;,c.RESET=&quot;affix affix-top affix-bottom&quot;,c.DEFAULTS={offset:0,target:window},c.prototype.getState=function(a,b,c,d){var e=this.$target.scrollTop(),f=this.$element.offset(),g=this.$target.height();if(null!=c&amp;&amp;&quot;top&quot;==this.affixed)return e&lt;c&amp;&amp;&quot;top&quot;;if(&quot;bottom&quot;==this.affixed)return null!=c?!(e+this.unpin&lt;=f.top)&amp;&amp;&quot;bottom&quot;:!(e+g&lt;=a-d)&amp;&amp;&quot;bottom&quot;;var h=null==this.affixed,i=h?e:f.top,j=h?g:b;return null!=c&amp;&amp;e&lt;=c?&quot;top&quot;:null!=d&amp;&amp;i+j&gt;=a-d&amp;&amp;&quot;bottom&quot;},c.prototype.getPinnedOffset=function(){if(this.pinnedOffset)return this.pinnedOffset;this.$element.removeClass(c.RESET).addClass(&quot;affix&quot;);var a=this.$target.scrollTop(),b=this.$element.offset();return this.pinnedOffset=b.top-a},c.prototype.checkPositionWithEventLoop=function(){setTimeout(a.proxy(this.checkPosition,this),1)},c.prototype.checkPosition=function(){if(this.$element.is(&quot;:visible&quot;)){var b=this.$element.height(),d=this.options.offset,e=d.top,f=d.bottom,g=Math.max(a(document).height(),a(document.body).height());&quot;object&quot;!=typeof d&amp;&amp;(f=e=d),&quot;function&quot;==typeof e&amp;&amp;(e=d.top(this.$element)),&quot;function&quot;==typeof f&amp;&amp;(f=d.bottom(this.$element));var h=this.getState(g,b,e,f);if(this.affixed!=h){null!=this.unpin&amp;&amp;this.$element.css(&quot;top&quot;,&quot;&quot;);var i=&quot;affix&quot;+(h?&quot;-&quot;+h:&quot;&quot;),j=a.Event(i+&quot;.bs.affix&quot;);if(this.$element.trigger(j),j.isDefaultPrevented())return;this.affixed=h,this.unpin=&quot;bottom&quot;==h?this.getPinnedOffset():null,this.$element.removeClass(c.RESET).addClass(i).trigger(i.replace(&quot;affix&quot;,&quot;affixed&quot;)+&quot;.bs.affix&quot;)}&quot;bottom&quot;==h&amp;&amp;this.$element.offset({top:g-b-f})}};var d=a.fn.affix;a.fn.affix=b,a.fn.affix.Constructor=c,a.fn.affix.noConflict=function(){return a.fn.affix=d,this},a(window).on(&quot;load&quot;,function(){a(&#x27;[data-spy=&quot;affix&quot;]&#x27;).each(function(){var c=a(this),d=c.data();d.offset=d.offset||{},null!=d.offsetBottom&amp;&amp;(d.offset.bottom=d.offsetBottom),null!=d.offsetTop&amp;&amp;(d.offset.top=d.offsetTop),b.call(c,d)})})}(jQuery);        &lt;/script&gt;&lt;script&gt;\n",
       "$(function () {\n",
       "    $(&#x27;[data-toggle=&quot;tooltip&quot;]&#x27;).tooltip();\n",
       "});\n",
       "\n",
       "$(&quot;a[href^=&#x27;#&#x27;].anchor&quot;).on(&#x27;click&#x27;, function (e) {\n",
       "\n",
       "    // prevent default anchor click behavior\n",
       "    e.preventDefault();\n",
       "\n",
       "    // store hash\n",
       "    var hash = this.hash;\n",
       "\n",
       "    // animate\n",
       "    $(&#x27;html, body&#x27;).animate({\n",
       "        scrollTop: $(hash).offset().top\n",
       "    }, 300, function () {\n",
       "\n",
       "        // when done, add hash to url\n",
       "        // (default click behaviour)\n",
       "        window.location.hash = hash;\n",
       "    });\n",
       "\n",
       "});        &lt;/script&gt;&lt;/body&gt;&lt;/html&gt;\" frameborder=\"0\" allowfullscreen></iframe>"
      ],
      "text/plain": [
       "<IPython.core.display.HTML object>"
      ]
     },
     "metadata": {},
     "output_type": "display_data"
    }
   ],
   "source": [
    "# Automated EDA\n",
    "from pandas_profiling import ProfileReport\n",
    "\n",
    "Report = ProfileReport(train, minimal=True).to_notebook_iframe()\n",
    "Report"
   ]
  },
  {
   "cell_type": "code",
   "execution_count": 4,
   "metadata": {
    "collapsed": true,
    "jupyter": {
     "outputs_hidden": true
    },
    "tags": []
   },
   "outputs": [
    {
     "data": {
      "text/html": [
       "<div>\n",
       "<style scoped>\n",
       "    .dataframe tbody tr th:only-of-type {\n",
       "        vertical-align: middle;\n",
       "    }\n",
       "\n",
       "    .dataframe tbody tr th {\n",
       "        vertical-align: top;\n",
       "    }\n",
       "\n",
       "    .dataframe thead th {\n",
       "        text-align: right;\n",
       "    }\n",
       "</style>\n",
       "<table border=\"1\" class=\"dataframe\">\n",
       "  <thead>\n",
       "    <tr style=\"text-align: right;\">\n",
       "      <th></th>\n",
       "      <th>id</th>\n",
       "      <th>description</th>\n",
       "      <th>ratingCategory</th>\n",
       "    </tr>\n",
       "  </thead>\n",
       "  <tbody>\n",
       "    <tr>\n",
       "      <th>0</th>\n",
       "      <td>1321</td>\n",
       "      <td>\\nSometimes, when whisky is batched, a few leftover barrels are returned to the warehouse. Canadian Club recently pulled and vatted several of these from the 1970s. Acetone, Granny Smith apples, and fresh-cut white cedar showcase this long age. Complex and spicy, yet reserved, this dram is ripe with strawberries, canned pears, cloves, pepper, and faint flowers, then slightly pulling oak tannins. Distinct, elegant, and remarkably vibrant, this ancient Canadian Club is anything but tired. (Australia only) A$133</td>\n",
       "      <td>1</td>\n",
       "    </tr>\n",
       "    <tr>\n",
       "      <th>1</th>\n",
       "      <td>3861</td>\n",
       "      <td>\\nAn uncommon exclusive bottling of a 6 year old cask strength malt. Light gold in color, the nose is vegetal, more peat bog than peat smoke, with an undercurrent of pastry cream and rose. It’s an odd combination of aromas. The entry is flavorful and inviting with smoked pineapple, clove, and rose. Peak smoke arrives in full force in the mid-palate, which drops the sweet and becomes spicy. The finish is mostly smoke, but with a pleasant minty coolness.  (Wyoming only)</td>\n",
       "      <td>0</td>\n",
       "    </tr>\n",
       "    <tr>\n",
       "      <th>2</th>\n",
       "      <td>655</td>\n",
       "      <td>\\nThis release is a port version of Amrut’s Intermediate Sherry — a sort of port pipe sandwich. The spirit is matured in both unused casks and bourbon casks, then spends a few months in port pipes, and then returns to bourbon casks. The result is a Pink Floyd show of a whisky: vibrant, colorful, complex, and nearly too much. A blackcurrant and wispy, smoky nose gives way to an intense and bittersweet mix of chili, blackcurrant, oak, damson, dark chocolate, and peat. Astounding.</td>\n",
       "      <td>1</td>\n",
       "    </tr>\n",
       "    <tr>\n",
       "      <th>3</th>\n",
       "      <td>555</td>\n",
       "      <td>\\nThis 41 year old single cask was aged in a sherry butt and interacted magnificently with that wood. The nose offers peeled red apples, sultanas, honey, fudge, milk chocolate, and American cream soda. Balanced and harmonious throughout, the palate yields remarkably fresh orchard fruits, pipe tobacco, black pepper, and ginger. Long in the finish, with cinnamon drying to dark chocolate, and slightly smoky, unobtrusively tannic oak. A 1970s classic!</td>\n",
       "      <td>1</td>\n",
       "    </tr>\n",
       "    <tr>\n",
       "      <th>4</th>\n",
       "      <td>1965</td>\n",
       "      <td>\\nQuite herbal on the nose, with aromas of dried tarragon, parsley, and dill, along with cherry, milk chocolate, orange blossom, vanilla bean, and sweet tea. The palate is slightly grain-forward, but is full and well balanced, with orange, dried flowers, chamomile tea, lemon rind, and ginger. The finish offers cinnamon and milk chocolate against a note of candied lemon. Youthful and barrel-influenced, but admirably executed.</td>\n",
       "      <td>1</td>\n",
       "    </tr>\n",
       "  </tbody>\n",
       "</table>\n",
       "</div>"
      ],
      "text/plain": [
       "     id  \\\n",
       "0  1321   \n",
       "1  3861   \n",
       "2   655   \n",
       "3   555   \n",
       "4  1965   \n",
       "\n",
       "                                                                                                                                                                                                                                                                                                                                                                                                                                                                                                                          description  \\\n",
       "0  \\nSometimes, when whisky is batched, a few leftover barrels are returned to the warehouse. Canadian Club recently pulled and vatted several of these from the 1970s. Acetone, Granny Smith apples, and fresh-cut white cedar showcase this long age. Complex and spicy, yet reserved, this dram is ripe with strawberries, canned pears, cloves, pepper, and faint flowers, then slightly pulling oak tannins. Distinct, elegant, and remarkably vibrant, this ancient Canadian Club is anything but tired. (Australia only) A$133   \n",
       "1                                            \\nAn uncommon exclusive bottling of a 6 year old cask strength malt. Light gold in color, the nose is vegetal, more peat bog than peat smoke, with an undercurrent of pastry cream and rose. It’s an odd combination of aromas. The entry is flavorful and inviting with smoked pineapple, clove, and rose. Peak smoke arrives in full force in the mid-palate, which drops the sweet and becomes spicy. The finish is mostly smoke, but with a pleasant minty coolness.  (Wyoming only)   \n",
       "2                                 \\nThis release is a port version of Amrut’s Intermediate Sherry — a sort of port pipe sandwich. The spirit is matured in both unused casks and bourbon casks, then spends a few months in port pipes, and then returns to bourbon casks. The result is a Pink Floyd show of a whisky: vibrant, colorful, complex, and nearly too much. A blackcurrant and wispy, smoky nose gives way to an intense and bittersweet mix of chili, blackcurrant, oak, damson, dark chocolate, and peat. Astounding.    \n",
       "3                                                                 \\nThis 41 year old single cask was aged in a sherry butt and interacted magnificently with that wood. The nose offers peeled red apples, sultanas, honey, fudge, milk chocolate, and American cream soda. Balanced and harmonious throughout, the palate yields remarkably fresh orchard fruits, pipe tobacco, black pepper, and ginger. Long in the finish, with cinnamon drying to dark chocolate, and slightly smoky, unobtrusively tannic oak. A 1970s classic!   \n",
       "4                                                                                        \\nQuite herbal on the nose, with aromas of dried tarragon, parsley, and dill, along with cherry, milk chocolate, orange blossom, vanilla bean, and sweet tea. The palate is slightly grain-forward, but is full and well balanced, with orange, dried flowers, chamomile tea, lemon rind, and ginger. The finish offers cinnamon and milk chocolate against a note of candied lemon. Youthful and barrel-influenced, but admirably executed.   \n",
       "\n",
       "   ratingCategory  \n",
       "0               1  \n",
       "1               0  \n",
       "2               1  \n",
       "3               1  \n",
       "4               1  "
      ]
     },
     "execution_count": 4,
     "metadata": {},
     "output_type": "execute_result"
    }
   ],
   "source": [
    "train.head()"
   ]
  },
  {
   "cell_type": "code",
   "execution_count": 5,
   "metadata": {},
   "outputs": [
    {
     "data": {
      "text/plain": [
       "(4087, 3)"
      ]
     },
     "execution_count": 5,
     "metadata": {},
     "output_type": "execute_result"
    }
   ],
   "source": [
    "train.shape"
   ]
  },
  {
   "cell_type": "code",
   "execution_count": 6,
   "metadata": {
    "collapsed": true,
    "jupyter": {
     "outputs_hidden": true
    },
    "tags": []
   },
   "outputs": [
    {
     "data": {
      "text/html": [
       "<div>\n",
       "<style scoped>\n",
       "    .dataframe tbody tr th:only-of-type {\n",
       "        vertical-align: middle;\n",
       "    }\n",
       "\n",
       "    .dataframe tbody tr th {\n",
       "        vertical-align: top;\n",
       "    }\n",
       "\n",
       "    .dataframe thead th {\n",
       "        text-align: right;\n",
       "    }\n",
       "</style>\n",
       "<table border=\"1\" class=\"dataframe\">\n",
       "  <thead>\n",
       "    <tr style=\"text-align: right;\">\n",
       "      <th></th>\n",
       "      <th>id</th>\n",
       "      <th>description</th>\n",
       "    </tr>\n",
       "  </thead>\n",
       "  <tbody>\n",
       "    <tr>\n",
       "      <th>0</th>\n",
       "      <td>3461</td>\n",
       "      <td>\\nStyle: Speyside single malt scotch Color: Walnut Aroma: Richly sherried and thick, with notes of nuts and toffee. Wood resins contribute spice and variety. Fruitcake at Christmas. Palate: Thick, chewy in texture, and quite ripe. Again the fruitcake. Very deep and mature with some underlying maltiness. Dry, spicy, oak notes fight off all that sherry and add balance and complexity. Long, soothing finish. \\r\\n</td>\n",
       "    </tr>\n",
       "    <tr>\n",
       "      <th>1</th>\n",
       "      <td>2604</td>\n",
       "      <td>\\nVery bright and lively, with a nice balance of flavors. Zesty fruit (lemon, peach, ripe pineapple, golden raisin) on a bed of layered sweetness (creamy vanilla, light honey, lightly toasted marshmallow, and a hint of coconut). Gently dry, delicately spicy, dried citrus finish. Light enough and with enough zing to enjoy before dinner, but it should stand up well enough after dinner, too. This is a nice whisky, but it shows a lighter, more elegant side of Glenrothes. It doesn’t express the rich, opulent notes often shown in bottlings like the 1972 Vintage, for example.</td>\n",
       "    </tr>\n",
       "    <tr>\n",
       "      <th>2</th>\n",
       "      <td>3341</td>\n",
       "      <td>\\nA new oloroso-forward Chivas positioned to split between the 12 and 18 year olds? I got this. Refined and inviting nose of lemon pith, black fruits, and Kola Kubes. The velvety texture is wonderfully smooth, redolent of an apricot custard Danish, lime zest, raisin, currant, mixed peel, and walnut, with a growing bitter-lemon note. Quite unique finish, like sucking on lumpy Spanish lemons speckled with spices. (LA, NY, Miami, Chicago, Northern California, but will go national)</td>\n",
       "    </tr>\n",
       "    <tr>\n",
       "      <th>3</th>\n",
       "      <td>3764</td>\n",
       "      <td>\\nAged in bourbon casks and then enhanced in Rioja wine casks. A mélange of red berry fruits, firm malt, thick vanilla and spicy oak, along with a hint of grape skin, anise, and orange peel. Gritty, dry finish.</td>\n",
       "    </tr>\n",
       "    <tr>\n",
       "      <th>4</th>\n",
       "      <td>2306</td>\n",
       "      <td>\\nThere is a freshness to the wood on the nose, laced with caramel and delicate minty notes. The palate pours pleasantly chewy with molten butterscotch and offers a pleasant jolt of cinnamon and clove that suggests rye at work, before settling on bitter orange peel, salted caramel, and cocoa, leading to a drying leathery and warm spice finish. Nicely done.</td>\n",
       "    </tr>\n",
       "    <tr>\n",
       "      <th>...</th>\n",
       "      <td>...</td>\n",
       "      <td>...</td>\n",
       "    </tr>\n",
       "    <tr>\n",
       "      <th>1017</th>\n",
       "      <td>2853</td>\n",
       "      <td>\\nCare for a small batch, bourbon-matured blend with a 20% malt content finished for 6 months in oloroso sherry casks? Thought so. Clementine, ripe plum, and a firm, peeled-banana nose with vanilla, warm citrus, banana, raisins, and base notes of peppery spice. There’s plenty of structure and complexity on this well-balanced blend, which ebbs away with red fruits and strawberry bubblegum. Continuously juicy, with a butter toffee and white pepper finish.</td>\n",
       "    </tr>\n",
       "    <tr>\n",
       "      <th>1018</th>\n",
       "      <td>219</td>\n",
       "      <td>\\nThis is the pick of the bunch, the whisky equivalent of Fountains of Wayne; an effervescent dessert whisky, which from the first aroma to the final finish is a consistent mix of vanilla, coconut, and overripe banana, sprinkled with icing sugar and cinnamon.</td>\n",
       "    </tr>\n",
       "    <tr>\n",
       "      <th>1019</th>\n",
       "      <td>1286</td>\n",
       "      <td>\\nPort Ellen, for sure! Very old-fashioned in nature: intertwined notes of tarry rope, coal soot, rooty peat, toffee, dark chocolate, and walnuts, spiked with coffee bean, anise, cracked peppercorn, and a hint of ginger. Dry, smoky, long, slightly austere finish. This Port Ellen is a bit moody (maybe even has an attitude problem), but I’m not complaining.</td>\n",
       "    </tr>\n",
       "    <tr>\n",
       "      <th>1020</th>\n",
       "      <td>2201</td>\n",
       "      <td>\\nYouthful and very lively. Bold, crisp, spices (mint, cinnamon, vanilla) are softened by soothing, sweeter notes (candied fruit, coconut, caramel, and rum notes), becoming dry, flinty, and spicy on the finish. It is very clean and polished, and it is superior to other rye whiskeys in this age range. Nicely done! \\r\\n</td>\n",
       "    </tr>\n",
       "    <tr>\n",
       "      <th>1021</th>\n",
       "      <td>4019</td>\n",
       "      <td>\\nA mashbill of 60/20/10/10 corn/wheat/rye/malt, aged 3 years in full-size barrels. Nose is sweet, hot corn, but with an initial puff of sulfur; where’s that from? Interesting splash in the mouth, with smooth wheat character knocking back the rye spice. Fairly hot, with some clove/cinnamon spice amping up as it winds down to the warm finish. Very active whiskey.</td>\n",
       "    </tr>\n",
       "  </tbody>\n",
       "</table>\n",
       "<p>1022 rows × 2 columns</p>\n",
       "</div>"
      ],
      "text/plain": [
       "        id  \\\n",
       "0     3461   \n",
       "1     2604   \n",
       "2     3341   \n",
       "3     3764   \n",
       "4     2306   \n",
       "...    ...   \n",
       "1017  2853   \n",
       "1018   219   \n",
       "1019  1286   \n",
       "1020  2201   \n",
       "1021  4019   \n",
       "\n",
       "                                                                                                                                                                                                                                                                                                                                                                                                                                                                                                                                                                                          description  \n",
       "0                                                                                                                                                                        \\nStyle: Speyside single malt scotch Color: Walnut Aroma: Richly sherried and thick, with notes of nuts and toffee. Wood resins contribute spice and variety. Fruitcake at Christmas. Palate: Thick, chewy in texture, and quite ripe. Again the fruitcake. Very deep and mature with some underlying maltiness. Dry, spicy, oak notes fight off all that sherry and add balance and complexity. Long, soothing finish. \\r\\n  \n",
       "1     \\nVery bright and lively, with a nice balance of flavors. Zesty fruit (lemon, peach, ripe pineapple, golden raisin) on a bed of layered sweetness (creamy vanilla, light honey, lightly toasted marshmallow, and a hint of coconut). Gently dry, delicately spicy, dried citrus finish. Light enough and with enough zing to enjoy before dinner, but it should stand up well enough after dinner, too. This is a nice whisky, but it shows a lighter, more elegant side of Glenrothes. It doesn’t express the rich, opulent notes often shown in bottlings like the 1972 Vintage, for example.  \n",
       "2                                                                                                  \\nA new oloroso-forward Chivas positioned to split between the 12 and 18 year olds? I got this. Refined and inviting nose of lemon pith, black fruits, and Kola Kubes. The velvety texture is wonderfully smooth, redolent of an apricot custard Danish, lime zest, raisin, currant, mixed peel, and walnut, with a growing bitter-lemon note. Quite unique finish, like sucking on lumpy Spanish lemons speckled with spices. (LA, NY, Miami, Chicago, Northern California, but will go national)  \n",
       "3                                                                                                                                                                                                                                                                                                                                                                                  \\nAged in bourbon casks and then enhanced in Rioja wine casks. A mélange of red berry fruits, firm malt, thick vanilla and spicy oak, along with a hint of grape skin, anise, and orange peel. Gritty, dry finish.  \n",
       "4                                                                                                                                                                                                                              \\nThere is a freshness to the wood on the nose, laced with caramel and delicate minty notes. The palate pours pleasantly chewy with molten butterscotch and offers a pleasant jolt of cinnamon and clove that suggests rye at work, before settling on bitter orange peel, salted caramel, and cocoa, leading to a drying leathery and warm spice finish. Nicely done.  \n",
       "...                                                                                                                                                                                                                                                                                                                                                                                                                                                                                                                                                                                               ...  \n",
       "1017                                                                                                                        \\nCare for a small batch, bourbon-matured blend with a 20% malt content finished for 6 months in oloroso sherry casks? Thought so. Clementine, ripe plum, and a firm, peeled-banana nose with vanilla, warm citrus, banana, raisins, and base notes of peppery spice. There’s plenty of structure and complexity on this well-balanced blend, which ebbs away with red fruits and strawberry bubblegum. Continuously juicy, with a butter toffee and white pepper finish.  \n",
       "1018                                                                                                                                                                                                                                                                                                                              \\nThis is the pick of the bunch, the whisky equivalent of Fountains of Wayne; an effervescent dessert whisky, which from the first aroma to the final finish is a consistent mix of vanilla, coconut, and overripe banana, sprinkled with icing sugar and cinnamon.  \n",
       "1019                                                                                                                                                                                                                            \\nPort Ellen, for sure! Very old-fashioned in nature: intertwined notes of tarry rope, coal soot, rooty peat, toffee, dark chocolate, and walnuts, spiked with coffee bean, anise, cracked peppercorn, and a hint of ginger. Dry, smoky, long, slightly austere finish. This Port Ellen is a bit moody (maybe even has an attitude problem), but I’m not complaining.  \n",
       "1020                                                                                                                                                                                                                                                                  \\nYouthful and very lively. Bold, crisp, spices (mint, cinnamon, vanilla) are softened by soothing, sweeter notes (candied fruit, coconut, caramel, and rum notes), becoming dry, flinty, and spicy on the finish. It is very clean and polished, and it is superior to other rye whiskeys in this age range. Nicely done! \\r\\n  \n",
       "1021                                                                                                                                                                                                                     \\nA mashbill of 60/20/10/10 corn/wheat/rye/malt, aged 3 years in full-size barrels. Nose is sweet, hot corn, but with an initial puff of sulfur; where’s that from? Interesting splash in the mouth, with smooth wheat character knocking back the rye spice. Fairly hot, with some clove/cinnamon spice amping up as it winds down to the warm finish. Very active whiskey.  \n",
       "\n",
       "[1022 rows x 2 columns]"
      ]
     },
     "execution_count": 6,
     "metadata": {},
     "output_type": "execute_result"
    }
   ],
   "source": [
    "test"
   ]
  },
  {
   "cell_type": "code",
   "execution_count": 7,
   "metadata": {},
   "outputs": [],
   "source": [
    "target = 'ratingCategory'\n",
    "features = 'description'\n",
    "X = train[features]\n",
    "y = train[target]"
   ]
  },
  {
   "cell_type": "code",
   "execution_count": 8,
   "metadata": {},
   "outputs": [],
   "source": [
    "# Sanity Check\n",
    "assert len(X) == len(y)"
   ]
  },
  {
   "cell_type": "code",
   "execution_count": 9,
   "metadata": {
    "collapsed": true,
    "jupyter": {
     "outputs_hidden": true
    },
    "tags": []
   },
   "outputs": [
    {
     "data": {
      "text/plain": [
       "0       \\nSometimes, when whisky is batched, a few leftover barrels are returned to the warehouse. Canadian Club recently pulled and vatted several of these from the 1970s. Acetone, Granny Smith apples, and fresh-cut white cedar showcase this long age. Complex and spicy, yet reserved, this dram is ripe with strawberries, canned pears, cloves, pepper, and faint flowers, then slightly pulling oak tannins. Distinct, elegant, and remarkably vibrant, this ancient Canadian Club is anything but tired. (Australia only) A$133\n",
       "1                                                 \\nAn uncommon exclusive bottling of a 6 year old cask strength malt. Light gold in color, the nose is vegetal, more peat bog than peat smoke, with an undercurrent of pastry cream and rose. It’s an odd combination of aromas. The entry is flavorful and inviting with smoked pineapple, clove, and rose. Peak smoke arrives in full force in the mid-palate, which drops the sweet and becomes spicy. The finish is mostly smoke, but with a pleasant minty coolness.  (Wyoming only)\n",
       "2                                      \\nThis release is a port version of Amrut’s Intermediate Sherry — a sort of port pipe sandwich. The spirit is matured in both unused casks and bourbon casks, then spends a few months in port pipes, and then returns to bourbon casks. The result is a Pink Floyd show of a whisky: vibrant, colorful, complex, and nearly too much. A blackcurrant and wispy, smoky nose gives way to an intense and bittersweet mix of chili, blackcurrant, oak, damson, dark chocolate, and peat. Astounding. \n",
       "3                                                                      \\nThis 41 year old single cask was aged in a sherry butt and interacted magnificently with that wood. The nose offers peeled red apples, sultanas, honey, fudge, milk chocolate, and American cream soda. Balanced and harmonious throughout, the palate yields remarkably fresh orchard fruits, pipe tobacco, black pepper, and ginger. Long in the finish, with cinnamon drying to dark chocolate, and slightly smoky, unobtrusively tannic oak. A 1970s classic!\n",
       "4                                                                                             \\nQuite herbal on the nose, with aromas of dried tarragon, parsley, and dill, along with cherry, milk chocolate, orange blossom, vanilla bean, and sweet tea. The palate is slightly grain-forward, but is full and well balanced, with orange, dried flowers, chamomile tea, lemon rind, and ginger. The finish offers cinnamon and milk chocolate against a note of candied lemon. Youthful and barrel-influenced, but admirably executed.\n",
       "                                                                                                                                                                                                                                                                       ...                                                                                                                                                                                                                                                                \n",
       "4082                \\nWhat lies beneath the surface of Dewar’s? Here, the blend is finished in virgin and first-fill bourbon casks especially charred, then scratched to enable deeper penetration. Thick wedge of vanilla and fudge with oaky accents, a dusty mouthfeel pulling in vanilla, light lemon, milk chocolate, and sweet toffee, ending on a cocoa powder note. Compared with regular White Label, this is less obviously sweet and creamy, adds complexity, and opens a bourbon connection. Certainly, this is up to scratch.\n",
       "4083                                                                                                                                                      \\nAfter 6 to 7 years of maturation in bourbon casks, this spent several months in chardonnay white wine casks. The nose offers resinous wine notes, melon, grapefruit, and a hint of vanilla. Nutty on the palate, with orchard fruits, more vanilla, and milk chocolate. Peaches and a slightly oily note in the finish, with apples, nutmeg, and a sprinkling of black pepper.\n",
       "4084                                                                                                                                 \\nBright, delicate, and approachable. While not a showstopper, it delivers generous sweet fruit, almost candied red apple sweetness, along with floral and black cherry notes. On the palate, it shows modest structure, with notes of lemon and pistachio, along with gentle wisps of baking spice and sandalwood. A blend of two Kentucky straight rye whiskeys and two Kentucky straight bourbons.\n",
       "4085                                       \\nI’m calling this the pitmaster’s dram: the nose has muscular peat smoke, prune juice, savory notes of barbecued brisket bark, venison charcuterie, and a hint of peppermint cream. The palate is a gluttonous feast of sweet dark fruits, milk chocolate, dried fig, plum, sultanas, and ginger, sliding into baked orange and spicy gingerbread, and wallowing luxuriously in chocolate and rich fruit. A welcome addition to Eifel’s already impressive range. (1,200 bottles for the U.S.)\n",
       "4086                                                                                                                                                                                                                                         \\nSpicy sultanas, greengage plums, toffee, and new leather on the nose. Damsons, prunes, black pepper, mint, and old oak on the palate. The finish is musky, slightly smoky, with fruit spices, dark chocolate, licorice, and tannic oak. An intriguing take on Bunnahabhain. (1,260 bottles)\n",
       "Name: description, Length: 4087, dtype: object"
      ]
     },
     "execution_count": 9,
     "metadata": {},
     "output_type": "execute_result"
    }
   ],
   "source": [
    "X"
   ]
  },
  {
   "cell_type": "code",
   "execution_count": 10,
   "metadata": {},
   "outputs": [],
   "source": [
    "def clean_data(text):\n",
    "    \"\"\"\n",
    "    Accepts a single text document and performs several regex substitutions in order to clean the document. \n",
    "    Parameters\n",
    "    ----------\n",
    "    text: string or object \n",
    "    Returns\n",
    "    -------\n",
    "    text: string or object\n",
    "    \"\"\"\n",
    "    # order of operations - apply the expression from top to bottom\n",
    "    email_regex = r\"From: \\S+@\\S+\"\n",
    "    non_alpha = '[^a-zA-Z0-9’]'\n",
    "    multi_white_spaces = \"[ ]{2,}\"\n",
    "    text = re.sub(email_regex, \"\", text)\n",
    "    text = re.sub(non_alpha, ' ', text)\n",
    "    text = re.sub(multi_white_spaces, \" \", text)\n",
    "    # To convert numbers such as, 1970s, into text. I believe these will meaningfully impact the accuracy of our models\n",
    "    text = re.sub(r\"(\\d+)\", lambda x: num2words.num2words(int(x.group(0))), text)\n",
    "    # apply case normalization \n",
    "    return text.lower().strip()\n",
    "# If I create another version of this for the countvectorizer as opposed to the tfidvectorizer, \n",
    "# I'll have to tokenize the text. And in doing so, I can use my list comphrehension to remove any and all\n",
    "# empty strings."
   ]
  },
  {
   "cell_type": "code",
   "execution_count": 11,
   "metadata": {},
   "outputs": [
    {
     "name": "stdout",
     "output_type": "stream",
     "text": [
      "INFO: Pandarallel will run on 16 workers.\n",
      "INFO: Pandarallel will use Memory file system to transfer data between the main process and workers.\n"
     ]
    }
   ],
   "source": [
    "# Initializing pandarallel to speed up the tokenization process. Applying all 16 vCPUs at my disposal.\n",
    "from pandarallel import pandarallel\n",
    "pandarallel.initialize(progress_bar=True, nb_workers=16)"
   ]
  },
  {
   "cell_type": "code",
   "execution_count": 14,
   "metadata": {},
   "outputs": [
    {
     "data": {
      "application/vnd.jupyter.widget-view+json": {
       "model_id": "aa45a6b6880646d093ca000a0433cf31",
       "version_major": 2,
       "version_minor": 0
      },
      "text/plain": [
       "VBox(children=(HBox(children=(IntProgress(value=0, description='0.00%', max=256), Label(value='0 / 256'))), HB…"
      ]
     },
     "metadata": {},
     "output_type": "display_data"
    },
    {
     "name": "stdout",
     "output_type": "stream",
     "text": [
      "CPU times: user 388 ms, sys: 219 ms, total: 607 ms\n",
      "Wall time: 601 ms\n"
     ]
    }
   ],
   "source": [
    "%%time\n",
    "X = X.parallel_apply(clean_data)"
   ]
  },
  {
   "cell_type": "code",
   "execution_count": 20,
   "metadata": {},
   "outputs": [
    {
     "data": {
      "application/vnd.jupyter.widget-view+json": {
       "model_id": "ee17c4da2b3e44d7b0a285e12da46849",
       "version_major": 2,
       "version_minor": 0
      },
      "text/plain": [
       "VBox(children=(HBox(children=(IntProgress(value=0, description='0.00%', max=64), Label(value='0 / 64'))), HBox…"
      ]
     },
     "metadata": {},
     "output_type": "display_data"
    }
   ],
   "source": [
    "test['description'] = test['description'].parallel_apply(clean_data)"
   ]
  },
  {
   "cell_type": "code",
   "execution_count": 16,
   "metadata": {},
   "outputs": [],
   "source": [
    "# Splitting Data for Metrics\n",
    "X, X_val, y, y_val = train_test_split(X, y, test_size=0.2, random_state=42)"
   ]
  },
  {
   "cell_type": "code",
   "execution_count": 23,
   "metadata": {},
   "outputs": [],
   "source": [
    "# Sanity check worked! Going back to the cell above and renaming X and y\n",
    "# assert len(X_train) + len(X_val) == len(X)"
   ]
  },
  {
   "cell_type": "code",
   "execution_count": 17,
   "metadata": {},
   "outputs": [
    {
     "name": "stdout",
     "output_type": "stream",
     "text": [
      "Baseline Accuracy Score: 0.7057204037932089\n"
     ]
    }
   ],
   "source": [
    "# Establishing Baseline\n",
    "\n",
    "baseline_acc = y.value_counts(normalize=True).max()\n",
    "print('Baseline Accuracy Score:', baseline_acc)\n",
    "# Our baseline is better than a random coinflip"
   ]
  },
  {
   "cell_type": "code",
   "execution_count": 18,
   "metadata": {
    "collapsed": true,
    "jupyter": {
     "outputs_hidden": true
    },
    "tags": []
   },
   "outputs": [
    {
     "data": {
      "text/plain": [
       "2185    a single cask bottling of the glenrothes aged in a first fill sherry cask only five hundred and nineteen bottles all destined for the u s it is the richest chewiest sweetest and fruitiest of all the glenrothes whiskies reviewed here deep mahogany color with notes of toffee apples waxed fruit burnt orange prunes in syrup and dark chocolate the intensity of the sherry and length of oak aging gives the whisky a flavor profile that begins to transcend traditional whisky flavors expressing notes of port wine pot still rum and rancio\n",
       "2463                   an essay in elegance silky and soft in texture and very clean notes of peaches and cream vanilla wafer soft honey and fruit gum drops subtler notes of tropical fruit pineapple lemon coconut demerara sugar heather and anise polished oak adds structure and contrast with a very elegant finish hard to believe this whisky is thirty two years old it s lighter and more elegant than the equally splendid highland park thirty year old which i rated a ninety four in the last issue bottled exclusively for park avenue liquors\n",
       "2820                                                                                                                 this malt is actually thirty six years old having spent its first thirty four years in a refill hogshead before two years of maturation in a first fill ex sauternes cask the out turn was two hundred and eighty bottles mellow on the nose with fresh oranges and apples developing toffee and violets smooth and fruity on the palate with dark chocolate pepper and discreet tannins long in the finish with fruity oak four hundred\n",
       "1769                                                                                                                                                                                                                                  the fourth in a series of limited edition taylor bottlings and the first barrel proof release layered sweet notes of caramel and nougat with bright orchard fruit especially nectarine dried spice vanilla mint and pencil shavings the dried spice notes linger on the finish along with tobacco bourbon with attitude\n",
       "1373                                                                                                                                                                                                                                                                                                                                                                                             a m lange of sugared almonds toffee sultana and citrus peel firm on the palate with a nutty spicy oak finish nicely done exclusive to binny’s beverage depot\n",
       "                                                                                                                                                                                                                                                                                ...                                                                                                                                                                                                                                                                          \n",
       "1130                                                                                            a rarity among the large american distillers whiskey with a mashbill of sixty five malted barley and thirty five corn no rye or wheat the malted barley and corn dominate the flavor profile along with soft sweet notes of orchard fruit and golden raisin kissed with honey the finish is soft sweet and quick clean with an easy going demeanor not particularly complex however if only the thirty five corn was halved to include an equal amount of rye\n",
       "1294                      jim beveridge delivered these aromas of toffee apple peach and rich berry fruits by working with european oak casks the smoke is timid with hints of background salinity the finely structured mouthfeel is where this triple malt whisky truly shines the polished smoothness is exceptional the flavor journey begins with honey citrus and swirling melted chocolate building to a fire of squeezed orange oils dry fruits and pecan nuttiness before concluding with rich espresso dark caramels and plain chocolate immaculate\n",
       "860                                                                            milsean is the latest private edition release from glenmorangie after initial bourbon barrel maturation the whisky spent several years in heavily toasted portuguese red wine casks fresh fruits on the early nose with ginger and a hint of musk coconut and icing sugar emerge smooth and rounded on the palate with a big fruit hit that becomes more citric in time plus lively oak spices lingering in the finish with persistent spice finally plain chocolate and chili\n",
       "3507                                                                    a mix of bourbon and quarter casks finished in pedro ximenez this new release is initially only for travel retail the problem with finishing peaty whiskies is that all you can do is reduce the smoke but here it’s done with as much subtlety as you can when dealing with px think treacle scones raisins and tarry tobacco a thick mid palate gives an effect like an old fashioned medicine a sweet hearted dragon smoldering in its seashore cave travel retail exclusive sixty\n",
       "3174                                                                                                                                      walnuts in maple syrup grape jelly cooked cherries peanuts in coke ginger syrup iced tea and varnish on the nose adding water first reveals sweeter notes then fully opens up the tightly wound palate unfurling bittersweet chocolate pipe tobacco cherry pie blackberry preserves roasted spices and sweet nuttiness the lengthy finish is nutty and rich with generous spice chocolate oak and cola collectibles\n",
       "Name: description, Length: 3269, dtype: object"
      ]
     },
     "execution_count": 18,
     "metadata": {},
     "output_type": "execute_result"
    }
   ],
   "source": [
    "X"
   ]
  },
  {
   "cell_type": "code",
   "execution_count": 21,
   "metadata": {
    "collapsed": true,
    "jupyter": {
     "outputs_hidden": true
    },
    "tags": []
   },
   "outputs": [
    {
     "data": {
      "text/html": [
       "<div>\n",
       "<style scoped>\n",
       "    .dataframe tbody tr th:only-of-type {\n",
       "        vertical-align: middle;\n",
       "    }\n",
       "\n",
       "    .dataframe tbody tr th {\n",
       "        vertical-align: top;\n",
       "    }\n",
       "\n",
       "    .dataframe thead th {\n",
       "        text-align: right;\n",
       "    }\n",
       "</style>\n",
       "<table border=\"1\" class=\"dataframe\">\n",
       "  <thead>\n",
       "    <tr style=\"text-align: right;\">\n",
       "      <th></th>\n",
       "      <th>id</th>\n",
       "      <th>description</th>\n",
       "    </tr>\n",
       "  </thead>\n",
       "  <tbody>\n",
       "    <tr>\n",
       "      <th>0</th>\n",
       "      <td>3461</td>\n",
       "      <td>style speyside single malt scotch color walnut aroma richly sherried and thick with notes of nuts and toffee wood resins contribute spice and variety fruitcake at christmas palate thick chewy in texture and quite ripe again the fruitcake very deep and mature with some underlying maltiness dry spicy oak notes fight off all that sherry and add balance and complexity long soothing finish</td>\n",
       "    </tr>\n",
       "    <tr>\n",
       "      <th>1</th>\n",
       "      <td>2604</td>\n",
       "      <td>very bright and lively with a nice balance of flavors zesty fruit lemon peach ripe pineapple golden raisin on a bed of layered sweetness creamy vanilla light honey lightly toasted marshmallow and a hint of coconut gently dry delicately spicy dried citrus finish light enough and with enough zing to enjoy before dinner but it should stand up well enough after dinner too this is a nice whisky but it shows a lighter more elegant side of glenrothes it doesn’t express the rich opulent notes often shown in bottlings like the one thousand, nine hundred and seventy-two vintage for example</td>\n",
       "    </tr>\n",
       "    <tr>\n",
       "      <th>2</th>\n",
       "      <td>3341</td>\n",
       "      <td>a new oloroso forward chivas positioned to split between the twelve and eighteen year olds i got this refined and inviting nose of lemon pith black fruits and kola kubes the velvety texture is wonderfully smooth redolent of an apricot custard danish lime zest raisin currant mixed peel and walnut with a growing bitter lemon note quite unique finish like sucking on lumpy spanish lemons speckled with spices la ny miami chicago northern california but will go national</td>\n",
       "    </tr>\n",
       "    <tr>\n",
       "      <th>3</th>\n",
       "      <td>3764</td>\n",
       "      <td>aged in bourbon casks and then enhanced in rioja wine casks a m lange of red berry fruits firm malt thick vanilla and spicy oak along with a hint of grape skin anise and orange peel gritty dry finish</td>\n",
       "    </tr>\n",
       "    <tr>\n",
       "      <th>4</th>\n",
       "      <td>2306</td>\n",
       "      <td>there is a freshness to the wood on the nose laced with caramel and delicate minty notes the palate pours pleasantly chewy with molten butterscotch and offers a pleasant jolt of cinnamon and clove that suggests rye at work before settling on bitter orange peel salted caramel and cocoa leading to a drying leathery and warm spice finish nicely done</td>\n",
       "    </tr>\n",
       "    <tr>\n",
       "      <th>...</th>\n",
       "      <td>...</td>\n",
       "      <td>...</td>\n",
       "    </tr>\n",
       "    <tr>\n",
       "      <th>1017</th>\n",
       "      <td>2853</td>\n",
       "      <td>care for a small batch bourbon matured blend with a twenty malt content finished for six months in oloroso sherry casks thought so clementine ripe plum and a firm peeled banana nose with vanilla warm citrus banana raisins and base notes of peppery spice there’s plenty of structure and complexity on this well balanced blend which ebbs away with red fruits and strawberry bubblegum continuously juicy with a butter toffee and white pepper finish</td>\n",
       "    </tr>\n",
       "    <tr>\n",
       "      <th>1018</th>\n",
       "      <td>219</td>\n",
       "      <td>this is the pick of the bunch the whisky equivalent of fountains of wayne an effervescent dessert whisky which from the first aroma to the final finish is a consistent mix of vanilla coconut and overripe banana sprinkled with icing sugar and cinnamon</td>\n",
       "    </tr>\n",
       "    <tr>\n",
       "      <th>1019</th>\n",
       "      <td>1286</td>\n",
       "      <td>port ellen for sure very old fashioned in nature intertwined notes of tarry rope coal soot rooty peat toffee dark chocolate and walnuts spiked with coffee bean anise cracked peppercorn and a hint of ginger dry smoky long slightly austere finish this port ellen is a bit moody maybe even has an attitude problem but i’m not complaining</td>\n",
       "    </tr>\n",
       "    <tr>\n",
       "      <th>1020</th>\n",
       "      <td>2201</td>\n",
       "      <td>youthful and very lively bold crisp spices mint cinnamon vanilla are softened by soothing sweeter notes candied fruit coconut caramel and rum notes becoming dry flinty and spicy on the finish it is very clean and polished and it is superior to other rye whiskeys in this age range nicely done</td>\n",
       "    </tr>\n",
       "    <tr>\n",
       "      <th>1021</th>\n",
       "      <td>4019</td>\n",
       "      <td>a mashbill of sixty twenty ten ten corn wheat rye malt aged three years in full size barrels nose is sweet hot corn but with an initial puff of sulfur where’s that from interesting splash in the mouth with smooth wheat character knocking back the rye spice fairly hot with some clove cinnamon spice amping up as it winds down to the warm finish very active whiskey</td>\n",
       "    </tr>\n",
       "  </tbody>\n",
       "</table>\n",
       "<p>1022 rows × 2 columns</p>\n",
       "</div>"
      ],
      "text/plain": [
       "        id  \\\n",
       "0     3461   \n",
       "1     2604   \n",
       "2     3341   \n",
       "3     3764   \n",
       "4     2306   \n",
       "...    ...   \n",
       "1017  2853   \n",
       "1018   219   \n",
       "1019  1286   \n",
       "1020  2201   \n",
       "1021  4019   \n",
       "\n",
       "                                                                                                                                                                                                                                                                                                                                                                                                                                                                                                                                                                                                     description  \n",
       "0                                                                                                                                                                                                            style speyside single malt scotch color walnut aroma richly sherried and thick with notes of nuts and toffee wood resins contribute spice and variety fruitcake at christmas palate thick chewy in texture and quite ripe again the fruitcake very deep and mature with some underlying maltiness dry spicy oak notes fight off all that sherry and add balance and complexity long soothing finish  \n",
       "1     very bright and lively with a nice balance of flavors zesty fruit lemon peach ripe pineapple golden raisin on a bed of layered sweetness creamy vanilla light honey lightly toasted marshmallow and a hint of coconut gently dry delicately spicy dried citrus finish light enough and with enough zing to enjoy before dinner but it should stand up well enough after dinner too this is a nice whisky but it shows a lighter more elegant side of glenrothes it doesn’t express the rich opulent notes often shown in bottlings like the one thousand, nine hundred and seventy-two vintage for example  \n",
       "2                                                                                                                           a new oloroso forward chivas positioned to split between the twelve and eighteen year olds i got this refined and inviting nose of lemon pith black fruits and kola kubes the velvety texture is wonderfully smooth redolent of an apricot custard danish lime zest raisin currant mixed peel and walnut with a growing bitter lemon note quite unique finish like sucking on lumpy spanish lemons speckled with spices la ny miami chicago northern california but will go national  \n",
       "3                                                                                                                                                                                                                                                                                                                                                                                                        aged in bourbon casks and then enhanced in rioja wine casks a m lange of red berry fruits firm malt thick vanilla and spicy oak along with a hint of grape skin anise and orange peel gritty dry finish  \n",
       "4                                                                                                                                                                                                                                                   there is a freshness to the wood on the nose laced with caramel and delicate minty notes the palate pours pleasantly chewy with molten butterscotch and offers a pleasant jolt of cinnamon and clove that suggests rye at work before settling on bitter orange peel salted caramel and cocoa leading to a drying leathery and warm spice finish nicely done  \n",
       "...                                                                                                                                                                                                                                                                                                                                                                                                                                                                                                                                                                                                          ...  \n",
       "1017                                                                                                                                               care for a small batch bourbon matured blend with a twenty malt content finished for six months in oloroso sherry casks thought so clementine ripe plum and a firm peeled banana nose with vanilla warm citrus banana raisins and base notes of peppery spice there’s plenty of structure and complexity on this well balanced blend which ebbs away with red fruits and strawberry bubblegum continuously juicy with a butter toffee and white pepper finish  \n",
       "1018                                                                                                                                                                                                                                                                                                                                                  this is the pick of the bunch the whisky equivalent of fountains of wayne an effervescent dessert whisky which from the first aroma to the final finish is a consistent mix of vanilla coconut and overripe banana sprinkled with icing sugar and cinnamon  \n",
       "1019                                                                                                                                                                                                                                                              port ellen for sure very old fashioned in nature intertwined notes of tarry rope coal soot rooty peat toffee dark chocolate and walnuts spiked with coffee bean anise cracked peppercorn and a hint of ginger dry smoky long slightly austere finish this port ellen is a bit moody maybe even has an attitude problem but i’m not complaining  \n",
       "1020                                                                                                                                                                                                                                                                                                        youthful and very lively bold crisp spices mint cinnamon vanilla are softened by soothing sweeter notes candied fruit coconut caramel and rum notes becoming dry flinty and spicy on the finish it is very clean and polished and it is superior to other rye whiskeys in this age range nicely done  \n",
       "1021                                                                                                                                                                                                                                a mashbill of sixty twenty ten ten corn wheat rye malt aged three years in full size barrels nose is sweet hot corn but with an initial puff of sulfur where’s that from interesting splash in the mouth with smooth wheat character knocking back the rye spice fairly hot with some clove cinnamon spice amping up as it winds down to the warm finish very active whiskey  \n",
       "\n",
       "[1022 rows x 2 columns]"
      ]
     },
     "execution_count": 21,
     "metadata": {},
     "output_type": "execute_result"
    }
   ],
   "source": [
    "test"
   ]
  },
  {
   "cell_type": "markdown",
   "metadata": {},
   "source": [
    "### Define Pipeline Components"
   ]
  },
  {
   "cell_type": "code",
   "execution_count": 22,
   "metadata": {},
   "outputs": [],
   "source": [
    "vect = TfidfVectorizer()\n",
    "clf = RandomForestClassifier()\n",
    "\n",
    "pipe = Pipeline([('vect', vect), ('clf', clf)])"
   ]
  },
  {
   "cell_type": "markdown",
   "metadata": {},
   "source": [
    "### Define Your Search Space\n",
    "You're looking for both the best hyperparameters of your vectorizer and your classification model. "
   ]
  },
  {
   "cell_type": "code",
   "execution_count": 23,
   "metadata": {},
   "outputs": [
    {
     "name": "stdout",
     "output_type": "stream",
     "text": [
      "Fitting 5 folds for each of 8 candidates, totalling 40 fits\n"
     ]
    },
    {
     "data": {
      "text/plain": [
       "GridSearchCV(cv=5,\n",
       "             estimator=Pipeline(steps=[('vect', TfidfVectorizer()),\n",
       "                                       ('clf', RandomForestClassifier())]),\n",
       "             n_jobs=4,\n",
       "             param_grid={'clf__max_depth': (5, 10, 15, 20),\n",
       "                         'vect__max_df': (0.75, 1.0)},\n",
       "             verbose=1)"
      ]
     },
     "execution_count": 23,
     "metadata": {},
     "output_type": "execute_result"
    }
   ],
   "source": [
    "parameters = {\n",
    "    'vect__max_df': (0.75, 1.0),\n",
    "    'clf__max_depth':(5,10,15,20)\n",
    "}\n",
    "\n",
    "grid_search = GridSearchCV(\n",
    "                           pipe,\n",
    "                           parameters,\n",
    "                           cv=5,\n",
    "                           n_jobs=4,\n",
    "                           verbose=1\n",
    "                           )\n",
    "\n",
    "grid_search.fit(X,y)"
   ]
  },
  {
   "cell_type": "code",
   "execution_count": 24,
   "metadata": {},
   "outputs": [
    {
     "data": {
      "text/plain": [
       "{'clf__max_depth': 20, 'vect__max_df': 1.0}"
      ]
     },
     "execution_count": 24,
     "metadata": {},
     "output_type": "execute_result"
    }
   ],
   "source": [
    "grid_search.best_params_"
   ]
  },
  {
   "cell_type": "code",
   "execution_count": 25,
   "metadata": {},
   "outputs": [
    {
     "data": {
      "text/plain": [
       "0.7148966660578557"
      ]
     },
     "execution_count": 25,
     "metadata": {},
     "output_type": "execute_result"
    }
   ],
   "source": [
    "grid_search.best_score_"
   ]
  },
  {
   "cell_type": "code",
   "execution_count": 27,
   "metadata": {},
   "outputs": [
    {
     "name": "stdout",
     "output_type": "stream",
     "text": [
      "Training Accuracy Score: 0.783114102171918\n",
      "Validation Accuracy Score: 0.7017114914425427\n"
     ]
    }
   ],
   "source": [
    "from sklearn.metrics import accuracy_score\n",
    "\n",
    "training_acc = accuracy_score(y, grid_search.predict(X))\n",
    "val_acc = accuracy_score(y_val, grid_search.predict(X_val))\n",
    "\n",
    "print('Training Accuracy Score:', training_acc)\n",
    "print('Validation Accuracy Score:', val_acc)"
   ]
  },
  {
   "cell_type": "code",
   "execution_count": 36,
   "metadata": {},
   "outputs": [
    {
     "name": "stdout",
     "output_type": "stream",
     "text": [
      "              precision    recall  f1-score   support\n",
      "\n",
      "           0       0.40      0.01      0.02       228\n",
      "           1       0.70      1.00      0.82       574\n",
      "           2       0.00      0.00      0.00        16\n",
      "\n",
      "    accuracy                           0.70       818\n",
      "   macro avg       0.37      0.34      0.28       818\n",
      "weighted avg       0.61      0.70      0.58       818\n",
      "\n"
     ]
    },
    {
     "name": "stderr",
     "output_type": "stream",
     "text": [
      "/opt/conda/lib/python3.7/site-packages/sklearn/metrics/_classification.py:1248: UndefinedMetricWarning: Precision and F-score are ill-defined and being set to 0.0 in labels with no predicted samples. Use `zero_division` parameter to control this behavior.\n",
      "  _warn_prf(average, modifier, msg_start, len(result))\n",
      "/opt/conda/lib/python3.7/site-packages/sklearn/metrics/_classification.py:1248: UndefinedMetricWarning: Precision and F-score are ill-defined and being set to 0.0 in labels with no predicted samples. Use `zero_division` parameter to control this behavior.\n",
      "  _warn_prf(average, modifier, msg_start, len(result))\n",
      "/opt/conda/lib/python3.7/site-packages/sklearn/metrics/_classification.py:1248: UndefinedMetricWarning: Precision and F-score are ill-defined and being set to 0.0 in labels with no predicted samples. Use `zero_division` parameter to control this behavior.\n",
      "  _warn_prf(average, modifier, msg_start, len(result))\n"
     ]
    }
   ],
   "source": [
    "model_cr = classification_report(y_val, grid_search.predict(X_val))\n",
    "\n",
    "print(model_cr)"
   ]
  },
  {
   "cell_type": "code",
   "execution_count": 37,
   "metadata": {},
   "outputs": [
    {
     "data": {
      "text/plain": [
       "<sklearn.metrics._plot.confusion_matrix.ConfusionMatrixDisplay at 0x7f6ed8907490>"
      ]
     },
     "execution_count": 37,
     "metadata": {},
     "output_type": "execute_result"
    },
    {
     "data": {
      "image/png": "[encoded data removed]",
      "text/plain": [
       "<Figure size 432x288 with 2 Axes>"
      ]
     },
     "metadata": {
      "needs_background": "light"
     },
     "output_type": "display_data"
    }
   ],
   "source": [
    "plot_confusion_matrix(grid_search,\n",
    "                      X_val,\n",
    "                      y_val,\n",
    "                      values_format='.0f')"
   ]
  },
  {
   "cell_type": "code",
   "execution_count": 38,
   "metadata": {},
   "outputs": [
    {
     "data": {
      "text/plain": [
       "Pipeline(steps=[('vect', TfidfVectorizer()),\n",
       "                ('clf', RandomForestClassifier(max_depth=20))])"
      ]
     },
     "execution_count": 38,
     "metadata": {},
     "output_type": "execute_result"
    }
   ],
   "source": [
    "best_model = grid_search.best_estimator_\n",
    "best_model"
   ]
  },
  {
   "cell_type": "markdown",
   "metadata": {},
   "source": [
    "### Make a Submission File\n",
    "*Note:* In a typical Kaggle competition, you are only allowed two submissions a day, so you only submit if you feel you cannot achieve higher test accuracy. For this competition the max daily submissions are capped at **20**. Submit for each demo and for your assignment. "
   ]
  },
  {
   "cell_type": "code",
   "execution_count": 39,
   "metadata": {},
   "outputs": [],
   "source": [
    "# Predictions on test sample\n",
    "pred = best_model.predict(test['description'])"
   ]
  },
  {
   "cell_type": "code",
   "execution_count": 40,
   "metadata": {},
   "outputs": [],
   "source": [
    "submission = pd.DataFrame({'id': test['id'], 'ratingCategory':pred})\n",
    "submission['ratingCategory'] = submission['ratingCategory'].astype('int64')"
   ]
  },
  {
   "cell_type": "code",
   "execution_count": 41,
   "metadata": {},
   "outputs": [
    {
     "data": {
      "text/html": [
       "<div>\n",
       "<style scoped>\n",
       "    .dataframe tbody tr th:only-of-type {\n",
       "        vertical-align: middle;\n",
       "    }\n",
       "\n",
       "    .dataframe tbody tr th {\n",
       "        vertical-align: top;\n",
       "    }\n",
       "\n",
       "    .dataframe thead th {\n",
       "        text-align: right;\n",
       "    }\n",
       "</style>\n",
       "<table border=\"1\" class=\"dataframe\">\n",
       "  <thead>\n",
       "    <tr style=\"text-align: right;\">\n",
       "      <th></th>\n",
       "      <th>id</th>\n",
       "      <th>ratingCategory</th>\n",
       "    </tr>\n",
       "  </thead>\n",
       "  <tbody>\n",
       "    <tr>\n",
       "      <th>0</th>\n",
       "      <td>3461</td>\n",
       "      <td>1</td>\n",
       "    </tr>\n",
       "    <tr>\n",
       "      <th>1</th>\n",
       "      <td>2604</td>\n",
       "      <td>1</td>\n",
       "    </tr>\n",
       "    <tr>\n",
       "      <th>2</th>\n",
       "      <td>3341</td>\n",
       "      <td>1</td>\n",
       "    </tr>\n",
       "    <tr>\n",
       "      <th>3</th>\n",
       "      <td>3764</td>\n",
       "      <td>1</td>\n",
       "    </tr>\n",
       "    <tr>\n",
       "      <th>4</th>\n",
       "      <td>2306</td>\n",
       "      <td>1</td>\n",
       "    </tr>\n",
       "  </tbody>\n",
       "</table>\n",
       "</div>"
      ],
      "text/plain": [
       "     id  ratingCategory\n",
       "0  3461               1\n",
       "1  2604               1\n",
       "2  3341               1\n",
       "3  3764               1\n",
       "4  2306               1"
      ]
     },
     "execution_count": 41,
     "metadata": {},
     "output_type": "execute_result"
    }
   ],
   "source": [
    "# Make Sure the Category is an Integer\n",
    "submission.head()"
   ]
  },
  {
   "cell_type": "code",
   "execution_count": 34,
   "metadata": {},
   "outputs": [],
   "source": [
    "subNumber = 0"
   ]
  },
  {
   "cell_type": "code",
   "execution_count": 42,
   "metadata": {},
   "outputs": [],
   "source": [
    "# Save your Submission File\n",
    "# Best to Use an Integer or Timestamp for different versions of your model\n",
    "\n",
    "submission.to_csv(f'./submission{subNumber}.csv', index=False)\n",
    "subNumber += 1"
   ]
  },
  {
   "cell_type": "markdown",
   "metadata": {},
   "source": [
    "## Challenge\n",
    "\n",
    "You're trying to achieve a minimum of 80% Accuracy on your model."
   ]
  },
  {
   "cell_type": "markdown",
   "metadata": {},
   "source": [
    "## Latent Semantic Indexing (Learn)\n",
    "<a id=\"p2\"></a>"
   ]
  },
  {
   "cell_type": "markdown",
   "metadata": {
    "toc-hr-collapsed": true
   },
   "source": [
    "## Follow Along\n",
    "1. Join the Kaggle Competition\n",
    "2. Download the data\n",
    "3. Train a model & try: \n",
    "    - Creating a Text Extraction & Classification Pipeline\n",
    "    - Tune the pipeline with a `GridSearchCV` or `RandomizedSearchCV`\n",
    "    - Add some Latent Semantic Indexing (lsi) into your pipeline. *Note:* You can grid search a nested pipeline, but you have to use double underscores ie `lsi__svd__n_components`\n",
    "4. Make a submission to Kaggle \n"
   ]
  },
  {
   "cell_type": "markdown",
   "metadata": {},
   "source": [
    "### Define Pipeline Components"
   ]
  },
  {
   "cell_type": "code",
   "execution_count": 43,
   "metadata": {},
   "outputs": [],
   "source": [
    "from sklearn.decomposition import TruncatedSVD\n",
    "from sklearn.feature_extraction.text import CountVectorizer\n",
    "\n",
    "svd = TruncatedSVD()\n",
    "vect = TfidfVectorizer(stop_words=\"english\")\n",
    "clf = RandomForestClassifier()\n",
    "\n",
    "lsi = Pipeline([('vect', vect),\n",
    "                ('svd', svd)])\n",
    "\n",
    "pipe = Pipeline([('lsi', lsi),\n",
    "                 ('clf', clf)])"
   ]
  },
  {
   "cell_type": "markdown",
   "metadata": {},
   "source": [
    "### Define Your Search Space\n",
    "You're looking for both the best hyperparameters of your vectorizer and your classification model. "
   ]
  },
  {
   "cell_type": "code",
   "execution_count": 44,
   "metadata": {},
   "outputs": [
    {
     "name": "stdout",
     "output_type": "stream",
     "text": [
      "Fitting 5 folds for each of 36 candidates, totalling 180 fits\n",
      "CPU times: user 3.41 s, sys: 2.24 s, total: 5.66 s\n",
      "Wall time: 4min 19s\n"
     ]
    },
    {
     "data": {
      "text/plain": [
       "GridSearchCV(cv=5,\n",
       "             estimator=Pipeline(steps=[('lsi',\n",
       "                                        Pipeline(steps=[('vect',\n",
       "                                                         TfidfVectorizer(stop_words='english')),\n",
       "                                                        ('svd',\n",
       "                                                         TruncatedSVD())])),\n",
       "                                       ('clf', RandomForestClassifier())]),\n",
       "             n_jobs=4,\n",
       "             param_grid={'clf__max_depth': (5, 10, 20, 40),\n",
       "                         'lsi__svd__n_components': [10, 100, 1000],\n",
       "                         'lsi__vect__max_df': (0.75, 1.0, 1.25)},\n",
       "             verbose=2)"
      ]
     },
     "execution_count": 44,
     "metadata": {},
     "output_type": "execute_result"
    }
   ],
   "source": [
    "%%time\n",
    "\n",
    "parameters = {\n",
    "    'lsi__svd__n_components': [10,100,1000],\n",
    "    'lsi__vect__max_df': (0.75, 1.0, 1.25),\n",
    "    'clf__max_depth':(5,10,20,40)\n",
    "}\n",
    "\n",
    "grid_search = GridSearchCV(pipe,parameters, cv=5, n_jobs=4, verbose=2)\n",
    "grid_search.fit(X,y)"
   ]
  },
  {
   "cell_type": "code",
   "execution_count": 45,
   "metadata": {},
   "outputs": [
    {
     "data": {
      "text/plain": [
       "{'clf__max_depth': 10, 'lsi__svd__n_components': 10, 'lsi__vect__max_df': 1.25}"
      ]
     },
     "execution_count": 45,
     "metadata": {},
     "output_type": "execute_result"
    }
   ],
   "source": [
    "grid_search.best_params_"
   ]
  },
  {
   "cell_type": "code",
   "execution_count": 46,
   "metadata": {},
   "outputs": [
    {
     "data": {
      "text/plain": [
       "0.7320295413780669"
      ]
     },
     "execution_count": 46,
     "metadata": {},
     "output_type": "execute_result"
    }
   ],
   "source": [
    "grid_search.best_score_"
   ]
  },
  {
   "cell_type": "code",
   "execution_count": 48,
   "metadata": {},
   "outputs": [
    {
     "name": "stdout",
     "output_type": "stream",
     "text": [
      "Training Accuracy Score: 0.8907922912205567\n",
      "Validation Accuracy Score: 0.7114914425427873\n"
     ]
    }
   ],
   "source": [
    "from sklearn.metrics import accuracy_score\n",
    "\n",
    "training_acc = accuracy_score(y, grid_search.predict(X))\n",
    "val_acc = accuracy_score(y_val, grid_search.predict(X_val))\n",
    "\n",
    "print('Training Accuracy Score:', training_acc)\n",
    "print('Validation Accuracy Score:', val_acc)"
   ]
  },
  {
   "cell_type": "code",
   "execution_count": 49,
   "metadata": {},
   "outputs": [
    {
     "name": "stdout",
     "output_type": "stream",
     "text": [
      "              precision    recall  f1-score   support\n",
      "\n",
      "           0       0.51      0.16      0.24       228\n",
      "           1       0.73      0.95      0.83       574\n",
      "           2       0.00      0.00      0.00        16\n",
      "\n",
      "    accuracy                           0.71       818\n",
      "   macro avg       0.41      0.37      0.36       818\n",
      "weighted avg       0.65      0.71      0.65       818\n",
      "\n"
     ]
    },
    {
     "name": "stderr",
     "output_type": "stream",
     "text": [
      "/opt/conda/lib/python3.7/site-packages/sklearn/metrics/_classification.py:1248: UndefinedMetricWarning: Precision and F-score are ill-defined and being set to 0.0 in labels with no predicted samples. Use `zero_division` parameter to control this behavior.\n",
      "  _warn_prf(average, modifier, msg_start, len(result))\n",
      "/opt/conda/lib/python3.7/site-packages/sklearn/metrics/_classification.py:1248: UndefinedMetricWarning: Precision and F-score are ill-defined and being set to 0.0 in labels with no predicted samples. Use `zero_division` parameter to control this behavior.\n",
      "  _warn_prf(average, modifier, msg_start, len(result))\n",
      "/opt/conda/lib/python3.7/site-packages/sklearn/metrics/_classification.py:1248: UndefinedMetricWarning: Precision and F-score are ill-defined and being set to 0.0 in labels with no predicted samples. Use `zero_division` parameter to control this behavior.\n",
      "  _warn_prf(average, modifier, msg_start, len(result))\n"
     ]
    }
   ],
   "source": [
    "model_cr = classification_report(y_val, grid_search.predict(X_val))\n",
    "\n",
    "print(model_cr)"
   ]
  },
  {
   "cell_type": "code",
   "execution_count": 50,
   "metadata": {},
   "outputs": [
    {
     "data": {
      "text/plain": [
       "<sklearn.metrics._plot.confusion_matrix.ConfusionMatrixDisplay at 0x7f6ed843cf10>"
      ]
     },
     "execution_count": 50,
     "metadata": {},
     "output_type": "execute_result"
    },
    {
     "data": {
      "image/png": "[encoded data removed]",
      "text/plain": [
       "<Figure size 432x288 with 2 Axes>"
      ]
     },
     "metadata": {
      "needs_background": "light"
     },
     "output_type": "display_data"
    }
   ],
   "source": [
    "plot_confusion_matrix(grid_search,\n",
    "                      X_val,\n",
    "                      y_val,\n",
    "                      values_format='.0f')"
   ]
  },
  {
   "cell_type": "code",
   "execution_count": 51,
   "metadata": {},
   "outputs": [
    {
     "data": {
      "text/plain": [
       "Pipeline(steps=[('lsi',\n",
       "                 Pipeline(steps=[('vect',\n",
       "                                  TfidfVectorizer(max_df=1.25,\n",
       "                                                  stop_words='english')),\n",
       "                                 ('svd', TruncatedSVD(n_components=10))])),\n",
       "                ('clf', RandomForestClassifier(max_depth=10))])"
      ]
     },
     "execution_count": 51,
     "metadata": {},
     "output_type": "execute_result"
    }
   ],
   "source": [
    "best_model = grid_search.best_estimator_\n",
    "best_model"
   ]
  },
  {
   "cell_type": "markdown",
   "metadata": {},
   "source": [
    "### Make a Submission File"
   ]
  },
  {
   "cell_type": "code",
   "execution_count": 52,
   "metadata": {},
   "outputs": [],
   "source": [
    "# Predictions on test sample\n",
    "pred = best_model.predict(test['description'])"
   ]
  },
  {
   "cell_type": "code",
   "execution_count": 53,
   "metadata": {},
   "outputs": [],
   "source": [
    "submission = pd.DataFrame({'id': test['id'], 'ratingCategory':pred})\n",
    "submission['ratingCategory'] = submission['ratingCategory'].astype('int64')"
   ]
  },
  {
   "cell_type": "code",
   "execution_count": 54,
   "metadata": {},
   "outputs": [
    {
     "data": {
      "text/html": [
       "<div>\n",
       "<style scoped>\n",
       "    .dataframe tbody tr th:only-of-type {\n",
       "        vertical-align: middle;\n",
       "    }\n",
       "\n",
       "    .dataframe tbody tr th {\n",
       "        vertical-align: top;\n",
       "    }\n",
       "\n",
       "    .dataframe thead th {\n",
       "        text-align: right;\n",
       "    }\n",
       "</style>\n",
       "<table border=\"1\" class=\"dataframe\">\n",
       "  <thead>\n",
       "    <tr style=\"text-align: right;\">\n",
       "      <th></th>\n",
       "      <th>id</th>\n",
       "      <th>ratingCategory</th>\n",
       "    </tr>\n",
       "  </thead>\n",
       "  <tbody>\n",
       "    <tr>\n",
       "      <th>0</th>\n",
       "      <td>3461</td>\n",
       "      <td>1</td>\n",
       "    </tr>\n",
       "    <tr>\n",
       "      <th>1</th>\n",
       "      <td>2604</td>\n",
       "      <td>1</td>\n",
       "    </tr>\n",
       "    <tr>\n",
       "      <th>2</th>\n",
       "      <td>3341</td>\n",
       "      <td>1</td>\n",
       "    </tr>\n",
       "    <tr>\n",
       "      <th>3</th>\n",
       "      <td>3764</td>\n",
       "      <td>1</td>\n",
       "    </tr>\n",
       "    <tr>\n",
       "      <th>4</th>\n",
       "      <td>2306</td>\n",
       "      <td>1</td>\n",
       "    </tr>\n",
       "  </tbody>\n",
       "</table>\n",
       "</div>"
      ],
      "text/plain": [
       "     id  ratingCategory\n",
       "0  3461               1\n",
       "1  2604               1\n",
       "2  3341               1\n",
       "3  3764               1\n",
       "4  2306               1"
      ]
     },
     "execution_count": 54,
     "metadata": {},
     "output_type": "execute_result"
    }
   ],
   "source": [
    "# Make Sure the Category is an Integer\n",
    "submission.head()"
   ]
  },
  {
   "cell_type": "code",
   "execution_count": 55,
   "metadata": {},
   "outputs": [],
   "source": [
    "# Save your Submission File\n",
    "# Best to Use an Integer or Timestamp for different versions of your model\n",
    "\n",
    "submission.to_csv(f'./submission{subNumber}.csv', index=False)\n",
    "subNumber += 1"
   ]
  },
  {
   "cell_type": "markdown",
   "metadata": {},
   "source": [
    "## Challenge\n",
    "\n",
    "Continue to apply Latent Semantic Indexing (LSI) to various datasets. "
   ]
  },
  {
   "cell_type": "markdown",
   "metadata": {},
   "source": [
    "# Word Embeddings with Spacy (Learn)\n",
    "<a id=\"p3\"></a>"
   ]
  },
  {
   "cell_type": "markdown",
   "metadata": {},
   "source": [
    "## Follow Along"
   ]
  },
  {
   "cell_type": "code",
   "execution_count": 56,
   "metadata": {},
   "outputs": [],
   "source": [
    "import spacy\n",
    "nlp = spacy.load(\"en_core_web_lg\")"
   ]
  },
  {
   "cell_type": "code",
   "execution_count": 57,
   "metadata": {},
   "outputs": [],
   "source": [
    "from spacy.tokenizer import Tokenizer\n",
    "tokenizer = Tokenizer(nlp.vocab)"
   ]
  },
  {
   "cell_type": "code",
   "execution_count": 58,
   "metadata": {},
   "outputs": [],
   "source": [
    "def get_lemmas(text):\n",
    "\n",
    "    lemmas = []\n",
    "    \n",
    "    doc = nlp(text)\n",
    "    \n",
    "    for token in doc: \n",
    "        if ((token.is_stop == False) and (token.is_punct == False) and (token.is_space == False)):\n",
    "            lemmas.append(token.lemma_)\n",
    "    \n",
    "    return lemmas"
   ]
  },
  {
   "cell_type": "code",
   "execution_count": 60,
   "metadata": {},
   "outputs": [
    {
     "data": {
      "application/vnd.jupyter.widget-view+json": {
       "model_id": "e6c0297af21b47a29fad71fe6446d678",
       "version_major": 2,
       "version_minor": 0
      },
      "text/plain": [
       "VBox(children=(HBox(children=(IntProgress(value=0, description='0.00%', max=205), Label(value='0 / 205'))), HB…"
      ]
     },
     "metadata": {},
     "output_type": "display_data"
    },
    {
     "data": {
      "text/plain": [
       "2185                                     [single, cask, bottling, glenrothe, age, fill, sherry, cask, nineteen, bottle, destine, u, s, rich, chewiest, sweet, fruity, glenrothe, whisky, review, deep, mahogany, color, note, toffee, apple, wax, fruit, burn, orange, prune, syrup, dark, chocolate, intensity, sherry, length, oak, aging, give, whisky, flavor, profile, begin, transcend, traditional, whisky, flavor, express, note, port, wine, pot, rum, rancio]\n",
       "2463          [essay, elegance, silky, soft, texture, clean, note, peach, cream, vanilla, wafer, soft, honey, fruit, gum, drop, subtle, note, tropical, fruit, pineapple, lemon, coconut, demerara, sugar, heather, anise, polished, oak, add, structure, contrast, elegant, finish, hard, believe, whisky, thirty, year, old, s, light, elegant, equally, splendid, highland, park, thirty, year, old, rate, ninety, issue, bottle, exclusively, park, avenue, liquor]\n",
       "2820                                                                                                                                                    [malt, actually, thirty, year, old, having, spend, thirty, year, refill, hogshead, year, maturation, fill, ex, sauterne, cask, turn, eighty, bottle, mellow, nose, fresh, orange, apple, develop, toffee, violet, smooth, fruity, palate, dark, chocolate, pepper, discreet, tannin, long, finish, fruity, oak]\n",
       "1769                                                                                                                                                                                         [fourth, series, limited, edition, taylor, bottling, barrel, proof, release, layer, sweet, note, caramel, nougat, bright, orchard, fruit, especially, nectarine, dry, spice, vanilla, mint, pencil, shaving, dry, spice, note, linger, finish, tobacco, bourbon, attitude]\n",
       "1373                                                                                                                                                                                                                                                                                                                       [m, lange, sugar, almond, toffee, sultana, citrus, peel, firm, palate, nutty, spicy, oak, finish, nicely, exclusive, binny, beverage, depot]\n",
       "                                                                                                                                                                                                                                     ...                                                                                                                                                                                                                               \n",
       "1130                                                                                                                             [rarity, large, american, distiller, whiskey, mashbill, malt, barley, thirty, corn, rye, wheat, malt, barley, corn, dominate, flavor, profile, soft, sweet, note, orchard, fruit, golden, raisin, kiss, honey, finish, soft, sweet, quick, clean, easy, go, demeanor, particularly, complex, thirty, corn, halve, include, equal, rye]\n",
       "1294    [jim, beveridge, deliver, aroma, toffee, apple, peach, rich, berry, fruit, work, european, oak, cask, smoke, timid, hint, background, salinity, finely, structured, mouthfeel, triple, malt, whisky, truly, shine, polished, smoothness, exceptional, flavor, journey, begin, honey, citrus, swirl, melt, chocolate, building, fire, squeeze, orange, oil, dry, fruit, pecan, nuttiness, conclude, rich, espresso, dark, caramel, plain, chocolate, immaculate]\n",
       "860                                                                 [milsean, late, private, edition, release, glenmorangie, initial, bourbon, barrel, maturation, whisky, spend, year, heavily, toast, portuguese, red, wine, cask, fresh, fruit, early, nose, ginger, hint, musk, coconut, ice, sugar, emerge, smooth, rounded, palate, big, fruit, hit, citric, time, plus, lively, oak, spice, linger, finish, persistent, spice, finally, plain, chocolate, chili]\n",
       "3507                                                                                                     [mix, bourbon, quarter, cask, finish, pedro, ximenez, new, release, initially, travel, retail, problem, finish, peaty, whisky, reduce, smoke, subtlety, deal, px, think, treacle, scone, raisin, tarry, tobacco, thick, mid, palate, give, effect, like, old, fashioned, medicine, sweet, hearted, dragon, smolder, seashore, cave, travel, retail, exclusive]\n",
       "3174                                                                                 [walnut, maple, syrup, grape, jelly, cook, cherry, peanut, coke, ginger, syrup, ice, tea, varnish, nose, add, water, reveal, sweet, note, fully, open, tightly, wound, palate, unfurl, bittersweet, chocolate, pipe, tobacco, cherry, pie, blackberry, preserve, roast, spice, sweet, nuttiness, lengthy, finish, nutty, rich, generous, spice, chocolate, oak, cola, collectible]\n",
       "Name: description, Length: 3269, dtype: object"
      ]
     },
     "execution_count": 60,
     "metadata": {},
     "output_type": "execute_result"
    }
   ],
   "source": [
    "X_lemmas = X.parallel_apply(get_lemmas)\n",
    "X_lemmas"
   ]
  },
  {
   "cell_type": "code",
   "execution_count": 61,
   "metadata": {},
   "outputs": [],
   "source": [
    "def listintostring(string):\n",
    "    '''\n",
    "    This function converts lists into strings\n",
    "    '''\n",
    "    str = \" \"\n",
    "    return (str.join(string))"
   ]
  },
  {
   "cell_type": "code",
   "execution_count": null,
   "metadata": {},
   "outputs": [
    {
     "data": {
      "application/vnd.jupyter.widget-view+json": {
       "model_id": "f6d41d57536249edb66940bf7c1c52be",
       "version_major": 2,
       "version_minor": 0
      },
      "text/plain": [
       "VBox(children=(HBox(children=(IntProgress(value=0, description='0.00%', max=205), Label(value='0 / 205'))), HB…"
      ]
     },
     "metadata": {},
     "output_type": "display_data"
    }
   ],
   "source": [
    "%%time\n",
    "X_lemmas_str = X_lemmas.parallel_apply(listintostring)"
   ]
  },
  {
   "cell_type": "code",
   "execution_count": null,
   "metadata": {},
   "outputs": [],
   "source": [
    "STOP_WORDS = nlp.Defaults.stop_words"
   ]
  },
  {
   "cell_type": "code",
   "execution_count": null,
   "metadata": {},
   "outputs": [],
   "source": [
    "tokens = []\n",
    "\n",
    "for doc in tokenizer.pipe(X_lemmas_str):\n",
    "\n",
    "    doc_tokens =[]\n",
    "\n",
    "    for token in doc:\n",
    "        if token.text.lower() not in STOP_WORDS:\n",
    "            doc_tokens.append(token.text.lower())\n",
    "    tokens.append(doc_tokens)\n",
    "    \n",
    "X_tokens = tokens"
   ]
  },
  {
   "cell_type": "code",
   "execution_count": null,
   "metadata": {},
   "outputs": [],
   "source": [
    "# Moving training labels to array\n",
    "y_array = train.ratingCategory.values"
   ]
  },
  {
   "cell_type": "code",
   "execution_count": null,
   "metadata": {},
   "outputs": [],
   "source": [
    "# Apply to your Dataset\n",
    "\n",
    "from scipy.stats import randint\n",
    "\n",
    "param_dist = {\n",
    "    \n",
    "    'lsa__svd__n_components': [10,100,1000],\n",
    "    'lsa__vect__max_df': (0.75, 1.0, 1.25),\n",
    "    'clf__n_estimators':[10, 100, 10],\n",
    "    'clf__max_depth' : randint(5,15,30),\n",
    "    'clf__min_samples_leaf': randint(2,15,2)\n",
    "    }"
   ]
  },
  {
   "cell_type": "code",
   "execution_count": null,
   "metadata": {},
   "outputs": [],
   "source": []
  },
  {
   "cell_type": "code",
   "execution_count": null,
   "metadata": {},
   "outputs": [],
   "source": [
    "%%time\n",
    "# Continue Word Embedding Work Here\n",
    "\n",
    "#SHOULD DO MORE EDA ON DATASET TO FIGURE HOW TO TUNE PARAMETERS\n",
    "\n",
    "\n",
    "svd = TruncatedSVD()\n",
    "gbc = GradientBoostingClassifier()\n",
    "vect = TfidfVectorizer(stop_words=\"english\")\n",
    "\n",
    "lsa = Pipeline([(\"vect\", vect),\n",
    "                (\"svd\", svd)])\n",
    "\n",
    "pipe = Pipeline([(\"lsa\", lsa),\n",
    "                 (\"clf\", gbc)])\n",
    "\n",
    "rscv = RandomizedSearchCV(\n",
    "                          pipe,\n",
    "                          param_dist,\n",
    "                          n_iter=5,\n",
    "                          cv=27,\n",
    "                          n_jobs=-1,\n",
    "                          verbose=1\n",
    "                          )\n",
    "\n",
    "rscv.fit(X_lemmas_str,y_array)"
   ]
  },
  {
   "cell_type": "code",
   "execution_count": null,
   "metadata": {},
   "outputs": [],
   "source": [
    "rscv.best_params_"
   ]
  },
  {
   "cell_type": "code",
   "execution_count": null,
   "metadata": {},
   "outputs": [],
   "source": [
    "rscv.best_score_"
   ]
  },
  {
   "cell_type": "code",
   "execution_count": null,
   "metadata": {},
   "outputs": [],
   "source": [
    "from sklearn.metrics import accuracy_score\n",
    "\n",
    "training_acc = accuracy_score(y, grid_search.predict(X))\n",
    "val_acc = accuracy_score(y_val, grid_search.predict(X_val))\n",
    "\n",
    "print('Training Accuracy Score:', training_acc)\n",
    "print('Validation Accuracy Score:', val_acc)"
   ]
  },
  {
   "cell_type": "code",
   "execution_count": null,
   "metadata": {},
   "outputs": [],
   "source": [
    "model_cr = classification_report(y_val, grid_search.predict(X_val))\n",
    "\n",
    "print(model_cr)"
   ]
  },
  {
   "cell_type": "code",
   "execution_count": null,
   "metadata": {},
   "outputs": [],
   "source": [
    "plot_confusion_matrix(grid_search,\n",
    "                      X_val,\n",
    "                      y_val,\n",
    "                      values_format='.0f')"
   ]
  },
  {
   "cell_type": "code",
   "execution_count": null,
   "metadata": {},
   "outputs": [],
   "source": [
    "# Use an XGBoost Classifier model after this"
   ]
  },
  {
   "cell_type": "code",
   "execution_count": null,
   "metadata": {},
   "outputs": [],
   "source": [
    "# What are the best metrics to use to understand how well our models are performing?\n",
    "\n",
    "# This is a classification task so the usual ones are fine: Accuracy, Precision, Recall, F1\n",
    "\n",
    "#*I'm also using classification report, roc curve, confusion matrices, and this:\n",
    "# https://scikit-learn.org/stable/modules/generated/sklearn.metrics.matthews_corrcoef.html"
   ]
  },
  {
   "cell_type": "markdown",
   "metadata": {},
   "source": [
    "### Make a Submission File"
   ]
  },
  {
   "cell_type": "code",
   "execution_count": null,
   "metadata": {},
   "outputs": [],
   "source": [
    "# Predictions on test sample\n",
    "pred = rscv.predict(test['description'])"
   ]
  },
  {
   "cell_type": "code",
   "execution_count": null,
   "metadata": {},
   "outputs": [],
   "source": [
    "# I want to see the predictions themselves\n",
    "list(pred)"
   ]
  },
  {
   "cell_type": "code",
   "execution_count": null,
   "metadata": {},
   "outputs": [],
   "source": [
    "submission = pd.DataFrame({'id': test['id'], 'ratingCategory':pred})\n",
    "submission['ratingCategory'] = submission['ratingCategory'].astype('int64')"
   ]
  },
  {
   "cell_type": "code",
   "execution_count": null,
   "metadata": {},
   "outputs": [],
   "source": [
    "# Make Sure the Category is an Integer\n",
    "submission.head()"
   ]
  },
  {
   "cell_type": "code",
   "execution_count": null,
   "metadata": {},
   "outputs": [],
   "source": [
    "# Save your Submission File\n",
    "# Best to Use an Integer or Timestamp for different versions of your model\n",
    "\n",
    "submission.to_csv(f'./submission{subNumber}.csv', index=False)\n",
    "subNumber += 1"
   ]
  },
  {
   "cell_type": "markdown",
   "metadata": {},
   "source": [
    "## Challenge\n",
    "\n",
    "What you should be doing now:\n",
    "1. Join the Kaggle Competition\n",
    "2. Download the data\n",
    "3. Train a model & try: \n",
    "    - Creating a Text Extraction & Classification Pipeline\n",
    "    - Tune the pipeline with a `GridSearchCV` or `RandomizedSearchCV`\n",
    "    - Add some Latent Semantic Indexing (lsi) into your pipeline. *Note:* You can grid search a nested pipeline, but you have to use double underscores ie `lsi__svd__n_components`\n",
    "    - Try to extract word embeddings with Spacy and use those embeddings as your features for a classification model.\n",
    "4. Make a submission to Kaggle "
   ]
  },
  {
   "cell_type": "code",
   "execution_count": null,
   "metadata": {},
   "outputs": [],
   "source": []
  },
  {
   "cell_type": "markdown",
   "metadata": {},
   "source": [
    "# Post Lecture Assignment\n",
    "<a id=\"p4\"></a>\n",
    "\n",
    "Your primary assignment this afternoon is to achieve a minimum of 80% accuracy on the Kaggle competition. Once you have achieved 70% accuracy, please work on the following: \n",
    "\n",
    "1. Research \"Sentiment Analysis\". Provide answers in markdown to the following questions: \n",
    "    - What is \"Sentiment Analysis\"? \n",
    "    - Is Document Classification different than \"Sentiment Analysis\"? Provide evidence for your response\n",
    "    - How do create labeled sentiment data? Are those labels really sentiment?\n",
    "    - What are common applications of sentiment analysis?\n",
    "2. Research our why word embeddings worked better for the lecture notebook than on the whiskey competition.\n",
    "    - This [text classification documentation](https://developers.google.com/machine-learning/guides/text-classification/step-2-5) from Google might be of interest\n",
    "    - Neural Networks are becoming more popular for document classification. Why is that the case?"
   ]
  },
  {
   "cell_type": "code",
   "execution_count": null,
   "metadata": {},
   "outputs": [],
   "source": []
  }
 ],
 "metadata": {
  "environment": {
   "name": "common-cpu.m69",
   "type": "gcloud",
   "uri": "gcr.io/deeplearning-platform-release/base-cpu:m69"
  },
  "kernelspec": {
   "display_name": "Python [conda env:root] *",
   "language": "python",
   "name": "conda-root-py"
  },
  "language_info": {
   "codemirror_mode": {
    "name": "ipython",
    "version": 3
   },
   "file_extension": ".py",
   "mimetype": "text/x-python",
   "name": "python",
   "nbconvert_exporter": "python",
   "pygments_lexer": "ipython3",
   "version": "3.7.10"
  },
  "widgets": {
   "application/vnd.jupyter.widget-state+json": {
    "state": {
     "00092b9d3c23445593ca00fd2c3bf4be": {
      "model_module": "@jupyter-widgets/controls",
      "model_module_version": "1.5.0",
      "model_name": "IntProgressModel",
      "state": {
       "description": "1.47%",
       "layout": "IPY_MODEL_147d1c0a8f5943e98d167a2a77a10442",
       "max": 204,
       "style": "IPY_MODEL_52902a0c0b704876b5c7bfd8e5cc6d0e",
       "value": 3
      }
     },
     "001b129c94ea436da3131d8440f2dc18": {
      "model_module": "@jupyter-widgets/controls",
      "model_module_version": "1.5.0",
      "model_name": "IntProgressModel",
      "state": {
       "bar_style": "success",
       "description": "100.00%",
       "layout": "IPY_MODEL_280ce9deb4064cafaae6951553c9f505",
       "max": 256,
       "style": "IPY_MODEL_5faef8e9549343e3a3aca1400bf2633e",
       "value": 256
      }
     },
     "00ca1f5827b949879679331ed1b4d191": {
      "model_module": "@jupyter-widgets/base",
      "model_module_version": "1.2.0",
      "model_name": "LayoutModel",
      "state": {}
     },
     "00d0f52b10b64801a0bf9f1eaee7034b": {
      "model_module": "@jupyter-widgets/base",
      "model_module_version": "1.2.0",
      "model_name": "LayoutModel",
      "state": {}
     },
     "00e7132499ff40fab8c655c55d16230e": {
      "model_module": "@jupyter-widgets/base",
      "model_module_version": "1.2.0",
      "model_name": "LayoutModel",
      "state": {}
     },
     "0103ef7c27e04f5c9382b6f3b78f0131": {
      "model_module": "@jupyter-widgets/controls",
      "model_module_version": "1.5.0",
      "model_name": "IntProgressModel",
      "state": {
       "bar_style": "success",
       "description": "100.00%",
       "layout": "IPY_MODEL_144a40ab62974ca3bd07ae03e14dcdf8",
       "max": 64,
       "style": "IPY_MODEL_c7aade54128941428f61ab8ac2fe712e",
       "value": 64
      }
     },
     "011d56a1d30c420f92db78504f6da937": {
      "model_module": "@jupyter-widgets/base",
      "model_module_version": "1.2.0",
      "model_name": "LayoutModel",
      "state": {}
     },
     "012c0617df7b42d78df53a57f16d6d88": {
      "model_module": "@jupyter-widgets/controls",
      "model_module_version": "1.5.0",
      "model_name": "HBoxModel",
      "state": {
       "children": [
        "IPY_MODEL_bb21b4546cdb4aa794021aada47509ac",
        "IPY_MODEL_c1623276c8974062b92cdbdb081a8d70"
       ],
       "layout": "IPY_MODEL_68f378822f5a4710bf5c74f1b021c57b"
      }
     },
     "0153f9d4f6fe4b3aa0709944527e7bd5": {
      "model_module": "@jupyter-widgets/base",
      "model_module_version": "1.2.0",
      "model_name": "LayoutModel",
      "state": {}
     },
     "0183c8448d364abba069f6bf80cbd503": {
      "model_module": "@jupyter-widgets/base",
      "model_module_version": "1.2.0",
      "model_name": "LayoutModel",
      "state": {}
     },
     "01962660588d4c4d863dae9e5f192298": {
      "model_module": "@jupyter-widgets/controls",
      "model_module_version": "1.5.0",
      "model_name": "DescriptionStyleModel",
      "state": {
       "description_width": ""
      }
     },
     "01aa5b21744b4cf9a6ac11454ddc19da": {
      "model_module": "@jupyter-widgets/base",
      "model_module_version": "1.2.0",
      "model_name": "LayoutModel",
      "state": {}
     },
     "01e223bff80a4f8fa9a641811216d2a4": {
      "model_module": "@jupyter-widgets/controls",
      "model_module_version": "1.5.0",
      "model_name": "ProgressStyleModel",
      "state": {
       "description_width": ""
      }
     },
     "020e17c7ccfd47158d876b1328e0ecd6": {
      "model_module": "@jupyter-widgets/controls",
      "model_module_version": "1.5.0",
      "model_name": "LabelModel",
      "state": {
       "layout": "IPY_MODEL_cc151aff483243078b2e8df81549eef5",
       "style": "IPY_MODEL_d162d93382644792b9dbfed802e99389",
       "value": "256 / 256"
      }
     },
     "022c5e2e44d64f9288986cc21f6d1eb0": {
      "model_module": "@jupyter-widgets/controls",
      "model_module_version": "1.5.0",
      "model_name": "IntProgressModel",
      "state": {
       "bar_style": "success",
       "description": "100.00%",
       "layout": "IPY_MODEL_80a4b06984e8414eb3b6e0364c6bcca2",
       "max": 256,
       "style": "IPY_MODEL_ad9aa38284934a19b08701fcbc28c4db",
       "value": 256
      }
     },
     "027e704755524b378bd3849851543d63": {
      "model_module": "@jupyter-widgets/controls",
      "model_module_version": "1.5.0",
      "model_name": "HBoxModel",
      "state": {
       "children": [
        "IPY_MODEL_0103ef7c27e04f5c9382b6f3b78f0131",
        "IPY_MODEL_7aff816c42fb476482e1f309f5ae9d95"
       ],
       "layout": "IPY_MODEL_89e8f0e826334b20805b4cb7be7fde43"
      }
     },
     "029204754b584c5d825490c29c9d9581": {
      "model_module": "@jupyter-widgets/controls",
      "model_module_version": "1.5.0",
      "model_name": "IntProgressModel",
      "state": {
       "bar_style": "success",
       "description": "100.00%",
       "layout": "IPY_MODEL_0a7e93a219074ceb97ccb8bff65baa65",
       "max": 255,
       "style": "IPY_MODEL_d0a269a4f9ee4bbc816afec0d6e84176",
       "value": 255
      }
     },
     "02e95cd1753e44d3a65b048e5780828e": {
      "model_module": "@jupyter-widgets/base",
      "model_module_version": "1.2.0",
      "model_name": "LayoutModel",
      "state": {}
     },
     "02f3f5849ed94b82b16c3170b994fca3": {
      "model_module": "@jupyter-widgets/controls",
      "model_module_version": "1.5.0",
      "model_name": "DescriptionStyleModel",
      "state": {
       "description_width": ""
      }
     },
     "02fb18a61e6e4404b19199ff907b5fca": {
      "model_module": "@jupyter-widgets/base",
      "model_module_version": "1.2.0",
      "model_name": "LayoutModel",
      "state": {}
     },
     "0308f8ba72ba42daafba77e0ac8d8339": {
      "model_module": "@jupyter-widgets/base",
      "model_module_version": "1.2.0",
      "model_name": "LayoutModel",
      "state": {}
     },
     "030f553ac24e4e44a38cb38b428a2983": {
      "model_module": "@jupyter-widgets/controls",
      "model_module_version": "1.5.0",
      "model_name": "HBoxModel",
      "state": {
       "children": [
        "IPY_MODEL_04247be849b5461ab8a296aec07e57c4",
        "IPY_MODEL_2a4b143d68c74d82be2bc96a5144c163"
       ],
       "layout": "IPY_MODEL_41c65ee202364cc583cc1350d292c506"
      }
     },
     "0345fe5f963d4ecab63e309f9cfecc69": {
      "model_module": "@jupyter-widgets/controls",
      "model_module_version": "1.5.0",
      "model_name": "IntProgressModel",
      "state": {
       "bar_style": "success",
       "description": "100.00%",
       "layout": "IPY_MODEL_d1eaec1535f54e17abbe42f507da739f",
       "max": 204,
       "style": "IPY_MODEL_54814635bb51481b992e07905665402f",
       "value": 204
      }
     },
     "038fb759dc6e488fa548beeca50e53e7": {
      "model_module": "@jupyter-widgets/controls",
      "model_module_version": "1.5.0",
      "model_name": "DescriptionStyleModel",
      "state": {
       "description_width": ""
      }
     },
     "03f3ea48e63b48e0817e6f4b7b786f12": {
      "model_module": "@jupyter-widgets/base",
      "model_module_version": "1.2.0",
      "model_name": "LayoutModel",
      "state": {}
     },
     "040883e60fac4e43aaf0ce6baec74159": {
      "model_module": "@jupyter-widgets/controls",
      "model_module_version": "1.5.0",
      "model_name": "HBoxModel",
      "state": {
       "children": [
        "IPY_MODEL_1929a1ac64224aa8a708cb3e455a4d24",
        "IPY_MODEL_dedcac877fe44e4ab86846ebf150dd51"
       ],
       "layout": "IPY_MODEL_1200f78e133b4080a181e37aa9792738"
      }
     },
     "04247be849b5461ab8a296aec07e57c4": {
      "model_module": "@jupyter-widgets/controls",
      "model_module_version": "1.5.0",
      "model_name": "IntProgressModel",
      "state": {
       "description": "1.47%",
       "layout": "IPY_MODEL_fe675f884a0d4eabb98fcc7b6b007687",
       "max": 204,
       "style": "IPY_MODEL_926c4882cfac479ab7324884d48d881e",
       "value": 3
      }
     },
     "04249590d425408999c74a1bcfbe4098": {
      "model_module": "@jupyter-widgets/controls",
      "model_module_version": "1.5.0",
      "model_name": "ProgressStyleModel",
      "state": {
       "description_width": ""
      }
     },
     "049def39971d45ddad358a174967a4b0": {
      "model_module": "@jupyter-widgets/controls",
      "model_module_version": "1.5.0",
      "model_name": "DescriptionStyleModel",
      "state": {
       "description_width": ""
      }
     },
     "04aa3249c85d472697b12854be5400d8": {
      "model_module": "@jupyter-widgets/base",
      "model_module_version": "1.2.0",
      "model_name": "LayoutModel",
      "state": {}
     },
     "04c00233bda742339f95f8719762af77": {
      "model_module": "@jupyter-widgets/controls",
      "model_module_version": "1.5.0",
      "model_name": "LabelModel",
      "state": {
       "layout": "IPY_MODEL_72c19365ba5f4fc699c8465ea5c9a48f",
       "style": "IPY_MODEL_413e253c70ae430ea3769aa042be058c",
       "value": "3 / 205"
      }
     },
     "04d2f55d66ce463b928bf150bf2d8735": {
      "model_module": "@jupyter-widgets/base",
      "model_module_version": "1.2.0",
      "model_name": "LayoutModel",
      "state": {}
     },
     "0500ecbc24934bebb543b6154fc9427b": {
      "model_module": "@jupyter-widgets/controls",
      "model_module_version": "1.5.0",
      "model_name": "LabelModel",
      "state": {
       "layout": "IPY_MODEL_9004858d959344ea8080924b20349c7a",
       "style": "IPY_MODEL_4e470e25b9a742e59efe8482fdf82b4a",
       "value": "205 / 205"
      }
     },
     "05367df06d9e43ac84f9ee6839d99ab0": {
      "model_module": "@jupyter-widgets/controls",
      "model_module_version": "1.5.0",
      "model_name": "ProgressStyleModel",
      "state": {
       "description_width": ""
      }
     },
     "05523c5c6d024f3ab904500e64c90d0d": {
      "model_module": "@jupyter-widgets/base",
      "model_module_version": "1.2.0",
      "model_name": "LayoutModel",
      "state": {}
     },
     "0624df488ec04e3c8e40f41711b37be2": {
      "model_module": "@jupyter-widgets/controls",
      "model_module_version": "1.5.0",
      "model_name": "DescriptionStyleModel",
      "state": {
       "description_width": ""
      }
     },
     "06b673b5cb8f4c688f3529f0e90404e0": {
      "model_module": "@jupyter-widgets/controls",
      "model_module_version": "1.5.0",
      "model_name": "ProgressStyleModel",
      "state": {
       "description_width": ""
      }
     },
     "06c7cfae635842009e69907db5d1eff6": {
      "model_module": "@jupyter-widgets/base",
      "model_module_version": "1.2.0",
      "model_name": "LayoutModel",
      "state": {}
     },
     "06e05377831541fdb412026b8d6fb248": {
      "model_module": "@jupyter-widgets/controls",
      "model_module_version": "1.5.0",
      "model_name": "IntProgressModel",
      "state": {
       "bar_style": "danger",
       "description": "46.08%",
       "layout": "IPY_MODEL_0cc62225485449d8a4aa348c1f08db9e",
       "max": 204,
       "style": "IPY_MODEL_ed7278e7c550487bb7ecd69b26bcd452",
       "value": 94
      }
     },
     "06e50aee938c47d499bf8c7be0e7f9b9": {
      "model_module": "@jupyter-widgets/base",
      "model_module_version": "1.2.0",
      "model_name": "LayoutModel",
      "state": {}
     },
     "0712c8683e1145d79e9ba7265ed49802": {
      "model_module": "@jupyter-widgets/base",
      "model_module_version": "1.2.0",
      "model_name": "LayoutModel",
      "state": {}
     },
     "072d3baee4a547b6a749321f20c062d7": {
      "model_module": "@jupyter-widgets/base",
      "model_module_version": "1.2.0",
      "model_name": "LayoutModel",
      "state": {}
     },
     "073af58e979041e68cd0860d736160cb": {
      "model_module": "@jupyter-widgets/base",
      "model_module_version": "1.2.0",
      "model_name": "LayoutModel",
      "state": {}
     },
     "07ac6559ac3d42c2a77ba5450800ffe3": {
      "model_module": "@jupyter-widgets/base",
      "model_module_version": "1.2.0",
      "model_name": "LayoutModel",
      "state": {}
     },
     "07c6c0ce169a4d77b181a88e2922514d": {
      "model_module": "@jupyter-widgets/base",
      "model_module_version": "1.2.0",
      "model_name": "LayoutModel",
      "state": {}
     },
     "085a78ea78a549f69eb91c811406b566": {
      "model_module": "@jupyter-widgets/controls",
      "model_module_version": "1.5.0",
      "model_name": "LabelModel",
      "state": {
       "layout": "IPY_MODEL_29c11a5e9c604fbb94e58d3b517e94ba",
       "style": "IPY_MODEL_e9d4c668b1894d88886c6d7e8ae74106",
       "value": "256 / 256"
      }
     },
     "08977563c9154400b76d0357c0082794": {
      "model_module": "@jupyter-widgets/base",
      "model_module_version": "1.2.0",
      "model_name": "LayoutModel",
      "state": {}
     },
     "08cc1a3eb51e4017b74cc63a9fb61ca8": {
      "model_module": "@jupyter-widgets/controls",
      "model_module_version": "1.5.0",
      "model_name": "ProgressStyleModel",
      "state": {
       "description_width": ""
      }
     },
     "08eaf912ee174412be9fc38e70133261": {
      "model_module": "@jupyter-widgets/base",
      "model_module_version": "1.2.0",
      "model_name": "LayoutModel",
      "state": {}
     },
     "08f51af4089c4991be5ca9badbdaf380": {
      "model_module": "@jupyter-widgets/base",
      "model_module_version": "1.2.0",
      "model_name": "LayoutModel",
      "state": {}
     },
     "0901b8cd74274b1d8018b97e20b9fcc9": {
      "model_module": "@jupyter-widgets/controls",
      "model_module_version": "1.5.0",
      "model_name": "LabelModel",
      "state": {
       "layout": "IPY_MODEL_8c1877e750064185801762eb47bdc04b",
       "style": "IPY_MODEL_0c85395889cf4222a5a0d9f98ef93407",
       "value": "3 / 204"
      }
     },
     "095d0433cb384de18b80fd3144e03222": {
      "model_module": "@jupyter-widgets/controls",
      "model_module_version": "1.5.0",
      "model_name": "DescriptionStyleModel",
      "state": {
       "description_width": ""
      }
     },
     "09efbd6e4cc24b9e9d8fdaf45ef31536": {
      "model_module": "@jupyter-widgets/base",
      "model_module_version": "1.2.0",
      "model_name": "LayoutModel",
      "state": {}
     },
     "09f80c39eaf6404894de47f7755a5060": {
      "model_module": "@jupyter-widgets/controls",
      "model_module_version": "1.5.0",
      "model_name": "ProgressStyleModel",
      "state": {
       "description_width": ""
      }
     },
     "09fa685960084408928358ea036ca78f": {
      "model_module": "@jupyter-widgets/controls",
      "model_module_version": "1.5.0",
      "model_name": "HBoxModel",
      "state": {
       "children": [
        "IPY_MODEL_001b129c94ea436da3131d8440f2dc18",
        "IPY_MODEL_498dabf7dc36476ab30da0f21b93b52f"
       ],
       "layout": "IPY_MODEL_f30d439f7dc74da2ba4bdd643ceb5d48"
      }
     },
     "09fcfeef4d7e4e79b8403dac1e260fc0": {
      "model_module": "@jupyter-widgets/controls",
      "model_module_version": "1.5.0",
      "model_name": "IntProgressModel",
      "state": {
       "bar_style": "success",
       "description": "100.00%",
       "layout": "IPY_MODEL_680e48f3e15245ad8d868adf1e57771b",
       "max": 255,
       "style": "IPY_MODEL_7766b001eb8e41eebb715ad01202d021",
       "value": 255
      }
     },
     "0a17b18a1dc54989a43ea40bc0dd2944": {
      "model_module": "@jupyter-widgets/controls",
      "model_module_version": "1.5.0",
      "model_name": "HBoxModel",
      "state": {
       "children": [
        "IPY_MODEL_8d6bef9e16c84e1383f956f604d04d32",
        "IPY_MODEL_1a03dce37957479dbc85c12705ba589d"
       ],
       "layout": "IPY_MODEL_bb27fcfe04e44b98a9e6d81e22d34422"
      }
     },
     "0a38f5c2407745bfb7f14ab59865ae0d": {
      "model_module": "@jupyter-widgets/controls",
      "model_module_version": "1.5.0",
      "model_name": "LabelModel",
      "state": {
       "layout": "IPY_MODEL_73b03bfc53a3468b837e184c82ea51ce",
       "style": "IPY_MODEL_6da5dbc33a6f4e089453f14929461f11",
       "value": "64 / 64"
      }
     },
     "0a5d60cd49c84cc68cbf8221f21f0283": {
      "model_module": "@jupyter-widgets/controls",
      "model_module_version": "1.5.0",
      "model_name": "DescriptionStyleModel",
      "state": {
       "description_width": ""
      }
     },
     "0a7e93a219074ceb97ccb8bff65baa65": {
      "model_module": "@jupyter-widgets/base",
      "model_module_version": "1.2.0",
      "model_name": "LayoutModel",
      "state": {}
     },
     "0af1fe5e31eb4bab8b0f587b1d9c148c": {
      "model_module": "@jupyter-widgets/base",
      "model_module_version": "1.2.0",
      "model_name": "LayoutModel",
      "state": {}
     },
     "0b025ebf6e0d48d0aa5ffef3e6173061": {
      "model_module": "@jupyter-widgets/base",
      "model_module_version": "1.2.0",
      "model_name": "LayoutModel",
      "state": {}
     },
     "0b1b8258b09f4ea48c7635ef3839fd40": {
      "model_module": "@jupyter-widgets/controls",
      "model_module_version": "1.5.0",
      "model_name": "DescriptionStyleModel",
      "state": {
       "description_width": ""
      }
     },
     "0b27ec6f93644324b3a4730249a76535": {
      "model_module": "@jupyter-widgets/controls",
      "model_module_version": "1.5.0",
      "model_name": "ProgressStyleModel",
      "state": {
       "description_width": ""
      }
     },
     "0b2b7c49ba3f488a9ec40699df46c259": {
      "model_module": "@jupyter-widgets/controls",
      "model_module_version": "1.5.0",
      "model_name": "HBoxModel",
      "state": {
       "children": [
        "IPY_MODEL_2536fb452e48433bb345aac56dd87b9c",
        "IPY_MODEL_7e9082cfbd5b46ce859b4c8df558bac4"
       ],
       "layout": "IPY_MODEL_0b6ab7813e444fa181b368f874914cfd"
      }
     },
     "0b355cd295594b139aa2278289e9105d": {
      "model_module": "@jupyter-widgets/controls",
      "model_module_version": "1.5.0",
      "model_name": "ProgressStyleModel",
      "state": {
       "description_width": ""
      }
     },
     "0b6ab7813e444fa181b368f874914cfd": {
      "model_module": "@jupyter-widgets/base",
      "model_module_version": "1.2.0",
      "model_name": "LayoutModel",
      "state": {}
     },
     "0b80abb0525a427e953c9afb1a259c90": {
      "model_module": "@jupyter-widgets/controls",
      "model_module_version": "1.5.0",
      "model_name": "LabelModel",
      "state": {
       "layout": "IPY_MODEL_b9679e122a564e4fb0b1e2b686cf9e4a",
       "style": "IPY_MODEL_cf417e183964431e92b01796fe833fef",
       "value": "204 / 204"
      }
     },
     "0ba2654e428e46d68a005df4ed88d458": {
      "model_module": "@jupyter-widgets/controls",
      "model_module_version": "1.5.0",
      "model_name": "HBoxModel",
      "state": {
       "children": [
        "IPY_MODEL_439f5d9475ca4505b299f2be1b49b481",
        "IPY_MODEL_772475dd17944f9daa8cef7fd71f78c8"
       ],
       "layout": "IPY_MODEL_f518de522c1e446f999d7dde89805f41"
      }
     },
     "0bebfc1c3e7342cc8d463be9ed705b88": {
      "model_module": "@jupyter-widgets/base",
      "model_module_version": "1.2.0",
      "model_name": "LayoutModel",
      "state": {}
     },
     "0c12b98f42044277b16eff4d87731bf1": {
      "model_module": "@jupyter-widgets/controls",
      "model_module_version": "1.5.0",
      "model_name": "HBoxModel",
      "state": {
       "children": [
        "IPY_MODEL_aa7ba226e0e4458ea4f14a993f777dc7",
        "IPY_MODEL_63c7783dd7c54c67bea22a79873245ba"
       ],
       "layout": "IPY_MODEL_2814015306e94ca1b68a21ee481037e8"
      }
     },
     "0c1e260619ea4d35a02b87604c7bc39d": {
      "model_module": "@jupyter-widgets/controls",
      "model_module_version": "1.5.0",
      "model_name": "IntProgressModel",
      "state": {
       "bar_style": "success",
       "description": "100.00%",
       "layout": "IPY_MODEL_4f50d14004424ad3bd4f0ec9ca47509d",
       "max": 204,
       "style": "IPY_MODEL_8f545b7300d7458dbdb83f4b8f803657",
       "value": 204
      }
     },
     "0c310197603348228926b52ac1907fb2": {
      "model_module": "@jupyter-widgets/controls",
      "model_module_version": "1.5.0",
      "model_name": "HBoxModel",
      "state": {
       "children": [
        "IPY_MODEL_c0286dfa1d584d3fb0621cc860a93d91",
        "IPY_MODEL_a8ad2c70b3b8422f8d7019fe3e4352ac"
       ],
       "layout": "IPY_MODEL_28de91c3427144bd9292dd7a8ca79b0e"
      }
     },
     "0c56c49d30ed42978937ee47e667b35e": {
      "model_module": "@jupyter-widgets/controls",
      "model_module_version": "1.5.0",
      "model_name": "HBoxModel",
      "state": {
       "children": [
        "IPY_MODEL_aaa3daf082294dcdbfe9673773725d7d",
        "IPY_MODEL_d00f6c8d864c4f17970b3fa6aa3b01d9"
       ],
       "layout": "IPY_MODEL_8129e3a1ea554c73b0636a2af42e17ab"
      }
     },
     "0c85395889cf4222a5a0d9f98ef93407": {
      "model_module": "@jupyter-widgets/controls",
      "model_module_version": "1.5.0",
      "model_name": "DescriptionStyleModel",
      "state": {
       "description_width": ""
      }
     },
     "0cc62225485449d8a4aa348c1f08db9e": {
      "model_module": "@jupyter-widgets/base",
      "model_module_version": "1.2.0",
      "model_name": "LayoutModel",
      "state": {}
     },
     "0cc730f80fce45cf9adbd30fa9b1965a": {
      "model_module": "@jupyter-widgets/controls",
      "model_module_version": "1.5.0",
      "model_name": "HBoxModel",
      "state": {
       "children": [
        "IPY_MODEL_ceb18e3c79364561b4f93c8fb1612b02",
        "IPY_MODEL_27d0bd662a104f74a87f8e12553bcf8c"
       ],
       "layout": "IPY_MODEL_c16d1dc671f64d29b9031093fe09f939"
      }
     },
     "0cec8b76a6ab4c1da880d144ea5ad8e6": {
      "model_module": "@jupyter-widgets/base",
      "model_module_version": "1.2.0",
      "model_name": "LayoutModel",
      "state": {}
     },
     "0d02a5718b2d4ff28771b01dd8610525": {
      "model_module": "@jupyter-widgets/controls",
      "model_module_version": "1.5.0",
      "model_name": "DescriptionStyleModel",
      "state": {
       "description_width": ""
      }
     },
     "0d9e6819a7054ee7aa7b73eef7162fe7": {
      "model_module": "@jupyter-widgets/controls",
      "model_module_version": "1.5.0",
      "model_name": "LabelModel",
      "state": {
       "layout": "IPY_MODEL_a7c3ea9b5cb74a1d8abad80518c3705d",
       "style": "IPY_MODEL_3c0a7b5bebe24eba917d48f6ed55f2e9",
       "value": "64 / 64"
      }
     },
     "0dec99354ee94a0a974eb2b46ed9a6c4": {
      "model_module": "@jupyter-widgets/controls",
      "model_module_version": "1.5.0",
      "model_name": "HBoxModel",
      "state": {
       "children": [
        "IPY_MODEL_dbdbb88862964d1187511b8785c4e862",
        "IPY_MODEL_e18963ac974f4ea8bf316552b17cda5b"
       ],
       "layout": "IPY_MODEL_4c3ececfe6c24856bffacc81efa5f14f"
      }
     },
     "0dfb2178836847d882bb796c11e625e2": {
      "model_module": "@jupyter-widgets/base",
      "model_module_version": "1.2.0",
      "model_name": "LayoutModel",
      "state": {}
     },
     "0e7e5e89115c4e8db332ae610bbe9e6c": {
      "model_module": "@jupyter-widgets/base",
      "model_module_version": "1.2.0",
      "model_name": "LayoutModel",
      "state": {}
     },
     "0ebb9025b3264617993f1d31e13c8be6": {
      "model_module": "@jupyter-widgets/controls",
      "model_module_version": "1.5.0",
      "model_name": "DescriptionStyleModel",
      "state": {
       "description_width": ""
      }
     },
     "0ed41868532d462191939a93fbc301b8": {
      "model_module": "@jupyter-widgets/controls",
      "model_module_version": "1.5.0",
      "model_name": "ProgressStyleModel",
      "state": {
       "description_width": ""
      }
     },
     "0f2a19fb99aa469b99f13f4e69ad8cca": {
      "model_module": "@jupyter-widgets/controls",
      "model_module_version": "1.5.0",
      "model_name": "DescriptionStyleModel",
      "state": {
       "description_width": ""
      }
     },
     "0f54a7461ffa449aaf65b608c8181be3": {
      "model_module": "@jupyter-widgets/controls",
      "model_module_version": "1.5.0",
      "model_name": "LabelModel",
      "state": {
       "layout": "IPY_MODEL_ad98bb0c0c9e41789059fa20cb88ec97",
       "style": "IPY_MODEL_f478237abafa4c42acedc6e8ac8d41ba",
       "value": "104 / 204"
      }
     },
     "0f60ddfaa0d145d981554edbb1829d6f": {
      "model_module": "@jupyter-widgets/controls",
      "model_module_version": "1.5.0",
      "model_name": "IntProgressModel",
      "state": {
       "bar_style": "success",
       "description": "100.00%",
       "layout": "IPY_MODEL_92471df66c814aaeb3d19298152cafaf",
       "max": 204,
       "style": "IPY_MODEL_79e5cebf6f5c46c3918eadb86a965822",
       "value": 204
      }
     },
     "0f6e2bd438434146b74f03896a4f5cf4": {
      "model_module": "@jupyter-widgets/base",
      "model_module_version": "1.2.0",
      "model_name": "LayoutModel",
      "state": {}
     },
     "0fca143129994c92ab3f990f20490b49": {
      "model_module": "@jupyter-widgets/base",
      "model_module_version": "1.2.0",
      "model_name": "LayoutModel",
      "state": {}
     },
     "0fd3712685004818a4406f1f5004dce7": {
      "model_module": "@jupyter-widgets/controls",
      "model_module_version": "1.5.0",
      "model_name": "HBoxModel",
      "state": {
       "children": [
        "IPY_MODEL_5595ea5cc67e4d908e6b4bc3e4c77fab",
        "IPY_MODEL_6282cd1f07bc41dcab49d426e71548f5"
       ],
       "layout": "IPY_MODEL_c000f5da51aa4b6285fade8db42e4cf9"
      }
     },
     "0ff64280956f4863ac1e269ae2a318bf": {
      "model_module": "@jupyter-widgets/controls",
      "model_module_version": "1.5.0",
      "model_name": "LabelModel",
      "state": {
       "layout": "IPY_MODEL_c6fb67ae0081451282dfc37147a226f9",
       "style": "IPY_MODEL_89ca6e6dba934c76bc4064958d7491f5",
       "value": "204 / 204"
      }
     },
     "1020100c40c5438fb089e9124e5699d5": {
      "model_module": "@jupyter-widgets/controls",
      "model_module_version": "1.5.0",
      "model_name": "LabelModel",
      "state": {
       "layout": "IPY_MODEL_74e6aa56c9014d5db421c8678d84edf0",
       "style": "IPY_MODEL_3b66217ce8ce4ad59f27fd2a327d99d6",
       "value": "64 / 64"
      }
     },
     "102ff49b390c4301b4b7df295d765cdb": {
      "model_module": "@jupyter-widgets/controls",
      "model_module_version": "1.5.0",
      "model_name": "HBoxModel",
      "state": {
       "children": [
        "IPY_MODEL_238beef38a1941c89c138fd7324d8fec",
        "IPY_MODEL_e3e10a85284a41b3bfc840400f105373"
       ],
       "layout": "IPY_MODEL_05523c5c6d024f3ab904500e64c90d0d"
      }
     },
     "1071b0b0ff9d4856b79e7716f7711bd5": {
      "model_module": "@jupyter-widgets/base",
      "model_module_version": "1.2.0",
      "model_name": "LayoutModel",
      "state": {}
     },
     "112745416785437eb97ac6b7b9fdd864": {
      "model_module": "@jupyter-widgets/controls",
      "model_module_version": "1.5.0",
      "model_name": "HBoxModel",
      "state": {
       "children": [
        "IPY_MODEL_b624a8933fd9487daa3e82090192a9cb",
        "IPY_MODEL_1f9199dae02d4a839ec90645861e2daf"
       ],
       "layout": "IPY_MODEL_898474e31b3146a79b7bbd7d23317616"
      }
     },
     "11275346c63a45cba020120de4bd8aa1": {
      "model_module": "@jupyter-widgets/base",
      "model_module_version": "1.2.0",
      "model_name": "LayoutModel",
      "state": {}
     },
     "11af0605aaf7479787c01793f6153d6f": {
      "model_module": "@jupyter-widgets/controls",
      "model_module_version": "1.5.0",
      "model_name": "HBoxModel",
      "state": {
       "children": [
        "IPY_MODEL_6f1a581f003d460cad000bb483329cdd",
        "IPY_MODEL_1d426d11f5f744ec993a23be7eecf9fd"
       ],
       "layout": "IPY_MODEL_ad306b1cdbe84b2589342de3d8ba0028"
      }
     },
     "11c30bade82b4be9bbb862ac97897e11": {
      "model_module": "@jupyter-widgets/controls",
      "model_module_version": "1.5.0",
      "model_name": "IntProgressModel",
      "state": {
       "description": "1.47%",
       "layout": "IPY_MODEL_ded63cf9df824b7a9bfbf3631e233bc5",
       "max": 204,
       "style": "IPY_MODEL_748d1009ad2d4950bc2e05bb8ad58c20",
       "value": 3
      }
     },
     "11f1d15833544fa3925bfc98911e44ef": {
      "model_module": "@jupyter-widgets/base",
      "model_module_version": "1.2.0",
      "model_name": "LayoutModel",
      "state": {}
     },
     "1200f78e133b4080a181e37aa9792738": {
      "model_module": "@jupyter-widgets/base",
      "model_module_version": "1.2.0",
      "model_name": "LayoutModel",
      "state": {}
     },
     "123b1cac7d814a6b9cdb5d2e6719d99c": {
      "model_module": "@jupyter-widgets/controls",
      "model_module_version": "1.5.0",
      "model_name": "LabelModel",
      "state": {
       "layout": "IPY_MODEL_aa00915a5099452da1048c31f0693f52",
       "style": "IPY_MODEL_744ae0c0cfff40fca1dee27dda868d59",
       "value": "256 / 256"
      }
     },
     "126f5c4ce34f461fafa7bab745ef6574": {
      "model_module": "@jupyter-widgets/base",
      "model_module_version": "1.2.0",
      "model_name": "LayoutModel",
      "state": {}
     },
     "128fe77feee54b82a023e00aa81e13b5": {
      "model_module": "@jupyter-widgets/controls",
      "model_module_version": "1.5.0",
      "model_name": "HBoxModel",
      "state": {
       "children": [
        "IPY_MODEL_cbdf7589e02f455288c90431feb66987",
        "IPY_MODEL_c1cef15cccc747e7823bd0b703d5774e"
       ],
       "layout": "IPY_MODEL_554eeb68c8b049c295746f82ba797e5c"
      }
     },
     "1294fe282b09429391911c6b48b47be3": {
      "model_module": "@jupyter-widgets/controls",
      "model_module_version": "1.5.0",
      "model_name": "IntProgressModel",
      "state": {
       "bar_style": "success",
       "description": "100.00%",
       "layout": "IPY_MODEL_78c14b7450594787bb3af2fe0eeef2cb",
       "max": 255,
       "style": "IPY_MODEL_2e80b9630dc44699bb37c9392d6c2b48",
       "value": 255
      }
     },
     "12a578e84314471cbb2fb0cde4e3f84e": {
      "model_module": "@jupyter-widgets/controls",
      "model_module_version": "1.5.0",
      "model_name": "IntProgressModel",
      "state": {
       "bar_style": "success",
       "description": "100.00%",
       "layout": "IPY_MODEL_592ab90a09c54ec088ece000240a6a0e",
       "max": 205,
       "style": "IPY_MODEL_a7a9bc4b630f419d89ea27e44e7c8b8b",
       "value": 205
      }
     },
     "12afe16589494f819623f8fc0e1f61bc": {
      "model_module": "@jupyter-widgets/base",
      "model_module_version": "1.2.0",
      "model_name": "LayoutModel",
      "state": {}
     },
     "12d6cbf444644f9cbbca4f71d7a55174": {
      "model_module": "@jupyter-widgets/controls",
      "model_module_version": "1.5.0",
      "model_name": "IntProgressModel",
      "state": {
       "bar_style": "success",
       "description": "100.00%",
       "layout": "IPY_MODEL_1c91c3366a7f496a9264ff4b7992bb95",
       "max": 204,
       "style": "IPY_MODEL_26e70406fbfb41d981bcd928384404a5",
       "value": 204
      }
     },
     "12dcb34cf3b44482b0531dbde744ecda": {
      "model_module": "@jupyter-widgets/base",
      "model_module_version": "1.2.0",
      "model_name": "LayoutModel",
      "state": {}
     },
     "1371b571a16c4f9eb941c6446dd2dab5": {
      "model_module": "@jupyter-widgets/controls",
      "model_module_version": "1.5.0",
      "model_name": "LabelModel",
      "state": {
       "layout": "IPY_MODEL_02fb18a61e6e4404b19199ff907b5fca",
       "style": "IPY_MODEL_303d2940beea423485a9c5d8b688d4c5",
       "value": "63 / 63"
      }
     },
     "13748789877c4fc781e73c56e03d2ff8": {
      "model_module": "@jupyter-widgets/base",
      "model_module_version": "1.2.0",
      "model_name": "LayoutModel",
      "state": {}
     },
     "13a4ebe96fc145568ef3e026e05bb655": {
      "model_module": "@jupyter-widgets/base",
      "model_module_version": "1.2.0",
      "model_name": "LayoutModel",
      "state": {}
     },
     "13c62f6cb3d44d53a43f966aaba69d03": {
      "model_module": "@jupyter-widgets/base",
      "model_module_version": "1.2.0",
      "model_name": "LayoutModel",
      "state": {}
     },
     "144a40ab62974ca3bd07ae03e14dcdf8": {
      "model_module": "@jupyter-widgets/base",
      "model_module_version": "1.2.0",
      "model_name": "LayoutModel",
      "state": {}
     },
     "147d1c0a8f5943e98d167a2a77a10442": {
      "model_module": "@jupyter-widgets/base",
      "model_module_version": "1.2.0",
      "model_name": "LayoutModel",
      "state": {}
     },
     "1486173fe43448e6940d3ea3a790643b": {
      "model_module": "@jupyter-widgets/base",
      "model_module_version": "1.2.0",
      "model_name": "LayoutModel",
      "state": {}
     },
     "1491e8ded6134ad7b1816e5c9607ed97": {
      "model_module": "@jupyter-widgets/controls",
      "model_module_version": "1.5.0",
      "model_name": "DescriptionStyleModel",
      "state": {
       "description_width": ""
      }
     },
     "14c1cfe0c56e4d7cbafa4967613cc6ec": {
      "model_module": "@jupyter-widgets/base",
      "model_module_version": "1.2.0",
      "model_name": "LayoutModel",
      "state": {}
     },
     "1542a11589634d36bf8fb51718c3b0f1": {
      "model_module": "@jupyter-widgets/controls",
      "model_module_version": "1.5.0",
      "model_name": "HBoxModel",
      "state": {
       "children": [
        "IPY_MODEL_89ec13bfe98b413ea4ad5e93efcd5afe",
        "IPY_MODEL_553c4cb5181041eba2acca2ee1c9334c"
       ],
       "layout": "IPY_MODEL_1cc4774cde9a42db9c694929d8aa342f"
      }
     },
     "15a862da7cfa4dbdaff690d158e6e7d5": {
      "model_module": "@jupyter-widgets/controls",
      "model_module_version": "1.5.0",
      "model_name": "LabelModel",
      "state": {
       "layout": "IPY_MODEL_0183c8448d364abba069f6bf80cbd503",
       "style": "IPY_MODEL_d7df9471069b4f4c92d1ee94b7de8a30",
       "value": "204 / 204"
      }
     },
     "15b00329791e4b0cb9ef85a7d4642158": {
      "model_module": "@jupyter-widgets/controls",
      "model_module_version": "1.5.0",
      "model_name": "DescriptionStyleModel",
      "state": {
       "description_width": ""
      }
     },
     "16007d9c334e4752bebdfa6fb6aa4236": {
      "model_module": "@jupyter-widgets/controls",
      "model_module_version": "1.5.0",
      "model_name": "IntProgressModel",
      "state": {
       "bar_style": "success",
       "description": "100.00%",
       "layout": "IPY_MODEL_d2866738a63c4db3931d74cb482bb463",
       "max": 255,
       "style": "IPY_MODEL_ca8649f6a1d1497fb7c3e272f8a94fe5",
       "value": 255
      }
     },
     "163f0070719242428a3e04126f1ceae1": {
      "model_module": "@jupyter-widgets/controls",
      "model_module_version": "1.5.0",
      "model_name": "DescriptionStyleModel",
      "state": {
       "description_width": ""
      }
     },
     "1678eda241204544b176791c97e98e78": {
      "model_module": "@jupyter-widgets/controls",
      "model_module_version": "1.5.0",
      "model_name": "IntProgressModel",
      "state": {
       "bar_style": "success",
       "description": "100.00%",
       "layout": "IPY_MODEL_4ea4b3d2337b4f7abf9dfd205981c94e",
       "max": 256,
       "style": "IPY_MODEL_a4c13c7e75114184b412701196b682af",
       "value": 256
      }
     },
     "16c980f626094d87a3893298f18bee39": {
      "model_module": "@jupyter-widgets/controls",
      "model_module_version": "1.5.0",
      "model_name": "DescriptionStyleModel",
      "state": {
       "description_width": ""
      }
     },
     "16d75e2a5c1b4fabb99e3511b235822b": {
      "model_module": "@jupyter-widgets/base",
      "model_module_version": "1.2.0",
      "model_name": "LayoutModel",
      "state": {}
     },
     "16fe2554cd374144ab3b536ec2f064ae": {
      "model_module": "@jupyter-widgets/controls",
      "model_module_version": "1.5.0",
      "model_name": "ProgressStyleModel",
      "state": {
       "description_width": ""
      }
     },
     "176362c86b794fa8ad1c58c26110cb7e": {
      "model_module": "@jupyter-widgets/controls",
      "model_module_version": "1.5.0",
      "model_name": "HBoxModel",
      "state": {
       "children": [
        "IPY_MODEL_aae410afcd9840e8846859f594fe1f3a",
        "IPY_MODEL_c3fdae55823142a28e44d19643e2d5d4"
       ],
       "layout": "IPY_MODEL_ce5b60bf580a48eda07e8ed175cda215"
      }
     },
     "17a307785a324093bb9ad9de3c801f86": {
      "model_module": "@jupyter-widgets/base",
      "model_module_version": "1.2.0",
      "model_name": "LayoutModel",
      "state": {}
     },
     "17f397ba6f674b3b8db23af1594bba58": {
      "model_module": "@jupyter-widgets/base",
      "model_module_version": "1.2.0",
      "model_name": "LayoutModel",
      "state": {}
     },
     "18cb4a151da1436db50bf4a6b8a34094": {
      "model_module": "@jupyter-widgets/controls",
      "model_module_version": "1.5.0",
      "model_name": "ProgressStyleModel",
      "state": {
       "description_width": ""
      }
     },
     "1929a1ac64224aa8a708cb3e455a4d24": {
      "model_module": "@jupyter-widgets/controls",
      "model_module_version": "1.5.0",
      "model_name": "IntProgressModel",
      "state": {
       "description": "1.46%",
       "layout": "IPY_MODEL_12afe16589494f819623f8fc0e1f61bc",
       "max": 205,
       "style": "IPY_MODEL_cf6d6ecc7e57456995b562a59caf42f1",
       "value": 3
      }
     },
     "1989aabfc2ad4541bd67c39681d14de5": {
      "model_module": "@jupyter-widgets/controls",
      "model_module_version": "1.5.0",
      "model_name": "IntProgressModel",
      "state": {
       "bar_style": "danger",
       "description": "58.82%",
       "layout": "IPY_MODEL_7eb28466cada4757bd01444eb0912d22",
       "max": 204,
       "style": "IPY_MODEL_f3d73019071244d9a2e2516f45b0adbf",
       "value": 120
      }
     },
     "1998e0ca8f5240ba8c61a5c8c712ca66": {
      "model_module": "@jupyter-widgets/controls",
      "model_module_version": "1.5.0",
      "model_name": "LabelModel",
      "state": {
       "layout": "IPY_MODEL_6e6ae30269f74afcbdc2704222613b88",
       "style": "IPY_MODEL_6d1ea4123c2f4ef5a8be555bf16dd4e7",
       "value": "204 / 204"
      }
     },
     "19c90b55c36d4d00a9f6c8c6f04d3b85": {
      "model_module": "@jupyter-widgets/controls",
      "model_module_version": "1.5.0",
      "model_name": "IntProgressModel",
      "state": {
       "bar_style": "success",
       "description": "100.00%",
       "layout": "IPY_MODEL_58f2f7da4300494682a5ef1709ceddc5",
       "max": 64,
       "style": "IPY_MODEL_e5f98ebda3ef445daf023e96f84145b5",
       "value": 64
      }
     },
     "1a03dce37957479dbc85c12705ba589d": {
      "model_module": "@jupyter-widgets/controls",
      "model_module_version": "1.5.0",
      "model_name": "LabelModel",
      "state": {
       "layout": "IPY_MODEL_a5057bf0dbe24d569a6c21d345126428",
       "style": "IPY_MODEL_58f25c351b754253a6be4d0ff37ccc3a",
       "value": "64 / 64"
      }
     },
     "1a62cc32d4cd46c39a00b7927182fe71": {
      "model_module": "@jupyter-widgets/base",
      "model_module_version": "1.2.0",
      "model_name": "LayoutModel",
      "state": {}
     },
     "1a742b44b8814f73ae66846521009028": {
      "model_module": "@jupyter-widgets/controls",
      "model_module_version": "1.5.0",
      "model_name": "LabelModel",
      "state": {
       "layout": "IPY_MODEL_605ca9b634104e6aaa67774b92107773",
       "style": "IPY_MODEL_1fcceb34784344c7bd9c5dd6d96f789e",
       "value": "255 / 255"
      }
     },
     "1bec477b5ca5403ba194427f26b29920": {
      "model_module": "@jupyter-widgets/controls",
      "model_module_version": "1.5.0",
      "model_name": "HBoxModel",
      "state": {
       "children": [
        "IPY_MODEL_fcaa683e811a4b1dbd5197ef68e45768",
        "IPY_MODEL_a2d80105e13642409f606749931fa718"
       ],
       "layout": "IPY_MODEL_56b9970bf90a41499acba45e8d00a385"
      }
     },
     "1c71f0a5e7ea412a91606b4293b20fff": {
      "model_module": "@jupyter-widgets/base",
      "model_module_version": "1.2.0",
      "model_name": "LayoutModel",
      "state": {}
     },
     "1c91c3366a7f496a9264ff4b7992bb95": {
      "model_module": "@jupyter-widgets/base",
      "model_module_version": "1.2.0",
      "model_name": "LayoutModel",
      "state": {}
     },
     "1cc4774cde9a42db9c694929d8aa342f": {
      "model_module": "@jupyter-widgets/base",
      "model_module_version": "1.2.0",
      "model_name": "LayoutModel",
      "state": {}
     },
     "1d1921fed0184436a993973ccb2aa44f": {
      "model_module": "@jupyter-widgets/base",
      "model_module_version": "1.2.0",
      "model_name": "LayoutModel",
      "state": {}
     },
     "1d426d11f5f744ec993a23be7eecf9fd": {
      "model_module": "@jupyter-widgets/controls",
      "model_module_version": "1.5.0",
      "model_name": "LabelModel",
      "state": {
       "layout": "IPY_MODEL_6f57198cc85f4afe971a96fe6e3fe457",
       "style": "IPY_MODEL_971e58140eee4788906206a375fd3af4",
       "value": "205 / 205"
      }
     },
     "1d49bf83147a49f3ad9b6a7efffe5704": {
      "model_module": "@jupyter-widgets/controls",
      "model_module_version": "1.5.0",
      "model_name": "ProgressStyleModel",
      "state": {
       "description_width": ""
      }
     },
     "1d865f7a976346648e459bb519be6872": {
      "model_module": "@jupyter-widgets/base",
      "model_module_version": "1.2.0",
      "model_name": "LayoutModel",
      "state": {}
     },
     "1d95607ca03145379cfe190e2befdf75": {
      "model_module": "@jupyter-widgets/base",
      "model_module_version": "1.2.0",
      "model_name": "LayoutModel",
      "state": {}
     },
     "1db6a846d25b4d20a4aa4e1b1856e3a1": {
      "model_module": "@jupyter-widgets/controls",
      "model_module_version": "1.5.0",
      "model_name": "DescriptionStyleModel",
      "state": {
       "description_width": ""
      }
     },
     "1e09029bc61f40418592d6a7e8243e80": {
      "model_module": "@jupyter-widgets/controls",
      "model_module_version": "1.5.0",
      "model_name": "LabelModel",
      "state": {
       "layout": "IPY_MODEL_49a99c99dd3f4f52b8f156e093926aa9",
       "style": "IPY_MODEL_e4393cba2cd848a188e17539a330ff9c",
       "value": "64 / 64"
      }
     },
     "1e45e07a06f842eea14613085b2524b9": {
      "model_module": "@jupyter-widgets/controls",
      "model_module_version": "1.5.0",
      "model_name": "IntProgressModel",
      "state": {
       "bar_style": "success",
       "description": "100.00%",
       "layout": "IPY_MODEL_9db45ded02874508b915669fb3f00fca",
       "max": 255,
       "style": "IPY_MODEL_05367df06d9e43ac84f9ee6839d99ab0",
       "value": 255
      }
     },
     "1e5c44cc402e4d2183e0415bbc0ebe12": {
      "model_module": "@jupyter-widgets/controls",
      "model_module_version": "1.5.0",
      "model_name": "DescriptionStyleModel",
      "state": {
       "description_width": ""
      }
     },
     "1e868590ed33473495e6f3501b06b420": {
      "model_module": "@jupyter-widgets/controls",
      "model_module_version": "1.5.0",
      "model_name": "DescriptionStyleModel",
      "state": {
       "description_width": ""
      }
     },
     "1e9755bf358d42c8a914da4e595db294": {
      "model_module": "@jupyter-widgets/base",
      "model_module_version": "1.2.0",
      "model_name": "LayoutModel",
      "state": {}
     },
     "1eadf6a6f36947f4a3d4c8a0fcd29b37": {
      "model_module": "@jupyter-widgets/base",
      "model_module_version": "1.2.0",
      "model_name": "LayoutModel",
      "state": {}
     },
     "1eb0e60db7c94966aeba95706331675b": {
      "model_module": "@jupyter-widgets/controls",
      "model_module_version": "1.5.0",
      "model_name": "VBoxModel",
      "state": {
       "children": [
        "IPY_MODEL_11af0605aaf7479787c01793f6153d6f",
        "IPY_MODEL_a423cc77c87342d0b8ea1ed72feecdc2",
        "IPY_MODEL_65371b8a3f374ad78384e69a3b914bff",
        "IPY_MODEL_a5af5a6d1b094fa0b00760bd09f478ca",
        "IPY_MODEL_fe1ac5cc8d3b48899fba3fa670f37f33",
        "IPY_MODEL_501e0b6a12a4455aa65b55b02e13ebc2",
        "IPY_MODEL_f2b9135728aa48819d8288d5598f2a7b",
        "IPY_MODEL_b93262bf690645bbb940a3492ebcacda",
        "IPY_MODEL_8f15060dea4348758ebe00691db2afe0",
        "IPY_MODEL_8dd68d7fdab849a3b5395e88db659f6e",
        "IPY_MODEL_030f553ac24e4e44a38cb38b428a2983",
        "IPY_MODEL_652ee911485541309d02131c5e819908",
        "IPY_MODEL_53d2a3010ddc4b498d4480cdb470979e",
        "IPY_MODEL_d9149a3088f04094b80a8c5873836238",
        "IPY_MODEL_539a3196d1134043bfa0151c4dc05c52",
        "IPY_MODEL_012c0617df7b42d78df53a57f16d6d88"
       ],
       "layout": "IPY_MODEL_b216fed234a640349355f4e095c4a7d2"
      }
     },
     "1eb261547b0f46fb99267199cc8d41dd": {
      "model_module": "@jupyter-widgets/controls",
      "model_module_version": "1.5.0",
      "model_name": "ProgressStyleModel",
      "state": {
       "description_width": ""
      }
     },
     "1ec862e8abc946a4a2a95c9441c39df9": {
      "model_module": "@jupyter-widgets/controls",
      "model_module_version": "1.5.0",
      "model_name": "IntProgressModel",
      "state": {
       "bar_style": "success",
       "description": "100.00%",
       "layout": "IPY_MODEL_9e907b4fc48549ddacfc7ca32bd60746",
       "max": 204,
       "style": "IPY_MODEL_524c09a7519e422c84e5231a08175c58",
       "value": 204
      }
     },
     "1eef39df09214f14a6561ba28fc9ad81": {
      "model_module": "@jupyter-widgets/controls",
      "model_module_version": "1.5.0",
      "model_name": "LabelModel",
      "state": {
       "layout": "IPY_MODEL_a41120833ace4b37a95a2b0d85194cf8",
       "style": "IPY_MODEL_e0045ff1f32546a7848025d577ce0867",
       "value": "205 / 205"
      }
     },
     "1f1d35d662b542edbdb95415e98e592b": {
      "model_module": "@jupyter-widgets/controls",
      "model_module_version": "1.5.0",
      "model_name": "HBoxModel",
      "state": {
       "children": [
        "IPY_MODEL_cffcbc59552247c1b68fd275026a7126",
        "IPY_MODEL_a980933369764a59b7f011213d41760d"
       ],
       "layout": "IPY_MODEL_a851b9e7801b4733b3f693786bff18b3"
      }
     },
     "1f8e542a0792436fb2315d699cd72855": {
      "model_module": "@jupyter-widgets/base",
      "model_module_version": "1.2.0",
      "model_name": "LayoutModel",
      "state": {}
     },
     "1f9199dae02d4a839ec90645861e2daf": {
      "model_module": "@jupyter-widgets/controls",
      "model_module_version": "1.5.0",
      "model_name": "LabelModel",
      "state": {
       "layout": "IPY_MODEL_74fb355dd21a441d879b68d52f8f4335",
       "style": "IPY_MODEL_9041f890dbb9490a92891d61b41c4836",
       "value": "3 / 205"
      }
     },
     "1fcceb34784344c7bd9c5dd6d96f789e": {
      "model_module": "@jupyter-widgets/controls",
      "model_module_version": "1.5.0",
      "model_name": "DescriptionStyleModel",
      "state": {
       "description_width": ""
      }
     },
     "203b5132ee294969bd0ca7e3adde4708": {
      "model_module": "@jupyter-widgets/controls",
      "model_module_version": "1.5.0",
      "model_name": "IntProgressModel",
      "state": {
       "bar_style": "success",
       "description": "100.00%",
       "layout": "IPY_MODEL_c0ffff39687b4916971d5baf5bf2ff16",
       "max": 205,
       "style": "IPY_MODEL_b6faccf0aa7c4e02b420dc017236815f",
       "value": 205
      }
     },
     "206e613a41944c3e95b57ea5b219ba00": {
      "model_module": "@jupyter-widgets/controls",
      "model_module_version": "1.5.0",
      "model_name": "LabelModel",
      "state": {
       "layout": "IPY_MODEL_f13a6a5154da4b44975060ebe6e12402",
       "style": "IPY_MODEL_eca742a782d14d1ebcc40ff8fe1c5063",
       "value": "205 / 205"
      }
     },
     "207138735e734ac792387e48c0757d35": {
      "model_module": "@jupyter-widgets/controls",
      "model_module_version": "1.5.0",
      "model_name": "IntProgressModel",
      "state": {
       "bar_style": "success",
       "description": "100.00%",
       "layout": "IPY_MODEL_59466672ad5e4633837047ea1656f3e8",
       "max": 205,
       "style": "IPY_MODEL_16fe2554cd374144ab3b536ec2f064ae",
       "value": 205
      }
     },
     "2093f6441a21491093d52c77fa2bc0fa": {
      "model_module": "@jupyter-widgets/controls",
      "model_module_version": "1.5.0",
      "model_name": "IntProgressModel",
      "state": {
       "description": "1.47%",
       "layout": "IPY_MODEL_65184418e2cf457da6f2e86515955fe4",
       "max": 204,
       "style": "IPY_MODEL_2cfed7f8966d4e5aa6f6e95829562be3",
       "value": 3
      }
     },
     "2098b928ec0b441997d5ab3ccecc6be5": {
      "model_module": "@jupyter-widgets/controls",
      "model_module_version": "1.5.0",
      "model_name": "ProgressStyleModel",
      "state": {
       "description_width": ""
      }
     },
     "20c7b5edcf3c4f0ab2d1a7268ffb1e9e": {
      "model_module": "@jupyter-widgets/controls",
      "model_module_version": "1.5.0",
      "model_name": "HBoxModel",
      "state": {
       "children": [
        "IPY_MODEL_19c90b55c36d4d00a9f6c8c6f04d3b85",
        "IPY_MODEL_4c835fb5b9514881a932dc523f46f0cd"
       ],
       "layout": "IPY_MODEL_88bafd8fd24c46bca0cfc89ac88f5447"
      }
     },
     "213a4bf5a5d04ac785a6d54293ed02e5": {
      "model_module": "@jupyter-widgets/controls",
      "model_module_version": "1.5.0",
      "model_name": "IntProgressModel",
      "state": {
       "bar_style": "success",
       "description": "100.00%",
       "layout": "IPY_MODEL_ccc3d0df35284c84937a854611d309b0",
       "max": 204,
       "style": "IPY_MODEL_78c9c5ae383d435a90497b4c3949c168",
       "value": 204
      }
     },
     "21420478b0a9437d98b4cae68bcb2080": {
      "model_module": "@jupyter-widgets/base",
      "model_module_version": "1.2.0",
      "model_name": "LayoutModel",
      "state": {}
     },
     "21768e5614114a51a5c29adc5c897b93": {
      "model_module": "@jupyter-widgets/controls",
      "model_module_version": "1.5.0",
      "model_name": "LabelModel",
      "state": {
       "layout": "IPY_MODEL_4cad7c021a6244f09aea02323b556efd",
       "style": "IPY_MODEL_a7bf486603124f3aa033d554efc0bc86",
       "value": "256 / 256"
      }
     },
     "218fd693538b4db590cbf594635fd677": {
      "model_module": "@jupyter-widgets/base",
      "model_module_version": "1.2.0",
      "model_name": "LayoutModel",
      "state": {}
     },
     "22b754ac90c84393adf25ba7ce574c29": {
      "model_module": "@jupyter-widgets/controls",
      "model_module_version": "1.5.0",
      "model_name": "IntProgressModel",
      "state": {
       "bar_style": "success",
       "description": "100.00%",
       "layout": "IPY_MODEL_2392eac2ff8643c18838734193f567ff",
       "max": 205,
       "style": "IPY_MODEL_68dffea0273d4100abb86cd75a03e81f",
       "value": 205
      }
     },
     "22f56dfe420a463facc0b48351b30b8a": {
      "model_module": "@jupyter-widgets/base",
      "model_module_version": "1.2.0",
      "model_name": "LayoutModel",
      "state": {}
     },
     "233b46f212d24e1bb5c6be6e1c7da415": {
      "model_module": "@jupyter-widgets/controls",
      "model_module_version": "1.5.0",
      "model_name": "ProgressStyleModel",
      "state": {
       "description_width": ""
      }
     },
     "2341630bfc3b4661a82e71a26f56fac5": {
      "model_module": "@jupyter-widgets/base",
      "model_module_version": "1.2.0",
      "model_name": "LayoutModel",
      "state": {}
     },
     "23482e7012ba4334b194a4bfe5049095": {
      "model_module": "@jupyter-widgets/base",
      "model_module_version": "1.2.0",
      "model_name": "LayoutModel",
      "state": {}
     },
     "2366c6133e734c529bde460bcbd23827": {
      "model_module": "@jupyter-widgets/controls",
      "model_module_version": "1.5.0",
      "model_name": "IntProgressModel",
      "state": {
       "description": "26.96%",
       "layout": "IPY_MODEL_d740ea261fc7428eb9a9ef07c4afba9f",
       "max": 204,
       "style": "IPY_MODEL_2098b928ec0b441997d5ab3ccecc6be5",
       "value": 55
      }
     },
     "236d20aa6f5745a7a1440bfa5db52599": {
      "model_module": "@jupyter-widgets/base",
      "model_module_version": "1.2.0",
      "model_name": "LayoutModel",
      "state": {}
     },
     "23730d7c7f794ca8ae8d114ab1918e1a": {
      "model_module": "@jupyter-widgets/controls",
      "model_module_version": "1.5.0",
      "model_name": "ProgressStyleModel",
      "state": {
       "description_width": ""
      }
     },
     "23859ba638934ba0b8a8ee421a8c7654": {
      "model_module": "@jupyter-widgets/controls",
      "model_module_version": "1.5.0",
      "model_name": "HBoxModel",
      "state": {
       "children": [
        "IPY_MODEL_b9e8ff4c045d43208c1c99ccaf8e5680",
        "IPY_MODEL_66c5ded82fac48dc8da158057ad1a932"
       ],
       "layout": "IPY_MODEL_2e9525d3dfff4838b9b7d1fdab1b022f"
      }
     },
     "238beef38a1941c89c138fd7324d8fec": {
      "model_module": "@jupyter-widgets/controls",
      "model_module_version": "1.5.0",
      "model_name": "IntProgressModel",
      "state": {
       "bar_style": "success",
       "description": "100.00%",
       "layout": "IPY_MODEL_5529dfdfcb1d47e4a3e39e843397ee7d",
       "max": 64,
       "style": "IPY_MODEL_328a0766fda04ca5b608dfd3f9dbb54d",
       "value": 64
      }
     },
     "2392eac2ff8643c18838734193f567ff": {
      "model_module": "@jupyter-widgets/base",
      "model_module_version": "1.2.0",
      "model_name": "LayoutModel",
      "state": {}
     },
     "240631fe740c4a3eb2c726ae24bb3f27": {
      "model_module": "@jupyter-widgets/controls",
      "model_module_version": "1.5.0",
      "model_name": "LabelModel",
      "state": {
       "layout": "IPY_MODEL_c47ab5cf90a84109a7f990b1bcc62409",
       "style": "IPY_MODEL_e562fb56603f494181e3bd887c715a8c",
       "value": "255 / 255"
      }
     },
     "241f3e387c624a808b05125ca5ab6428": {
      "model_module": "@jupyter-widgets/controls",
      "model_module_version": "1.5.0",
      "model_name": "DescriptionStyleModel",
      "state": {
       "description_width": ""
      }
     },
     "24346beaa7b949dc8061a43eeed1bb90": {
      "model_module": "@jupyter-widgets/controls",
      "model_module_version": "1.5.0",
      "model_name": "DescriptionStyleModel",
      "state": {
       "description_width": ""
      }
     },
     "24484ab031aa4be5b93cf7bccdd94410": {
      "model_module": "@jupyter-widgets/controls",
      "model_module_version": "1.5.0",
      "model_name": "IntProgressModel",
      "state": {
       "bar_style": "success",
       "description": "100.00%",
       "layout": "IPY_MODEL_bcb2064d564843a6949869bab7069c8d",
       "max": 64,
       "style": "IPY_MODEL_2fa44ad504e14700af1cd3dda96c3567",
       "value": 64
      }
     },
     "24556e029e4248c5950ffa61d7b20b58": {
      "model_module": "@jupyter-widgets/base",
      "model_module_version": "1.2.0",
      "model_name": "LayoutModel",
      "state": {}
     },
     "24802e92245e40b3a40cdce497c54636": {
      "model_module": "@jupyter-widgets/controls",
      "model_module_version": "1.5.0",
      "model_name": "VBoxModel",
      "state": {
       "children": [
        "IPY_MODEL_993a4c3328904528a0273d744b6bea42",
        "IPY_MODEL_ed8eadddef954769943a85d4e58576df",
        "IPY_MODEL_23859ba638934ba0b8a8ee421a8c7654",
        "IPY_MODEL_baa552c85ced4067802aafb93ea808e0",
        "IPY_MODEL_d3b36e0dd9fd4c0d826b6228ed41f913",
        "IPY_MODEL_c91aa0e926c046b186388f3e200013aa",
        "IPY_MODEL_5617ab8f4cb94fa5b17190203f2a0cb5",
        "IPY_MODEL_75c0e0ac1d9741ecb20b7167868c3c54",
        "IPY_MODEL_ed1bb9bda8e64e90a28b37c30f57f2fd",
        "IPY_MODEL_1542a11589634d36bf8fb51718c3b0f1",
        "IPY_MODEL_a5f78f6935324d90b71e1bf184ae9bbf",
        "IPY_MODEL_c802ed08257540b99f433dde629c511b",
        "IPY_MODEL_fe57c144a5c84613887ad194b9cc1d87",
        "IPY_MODEL_9a06e74fead14695a0f5d1c1d15f1599",
        "IPY_MODEL_c984df0b937e449ea639c747f53b73f6",
        "IPY_MODEL_accacbf502a74195b2e4f226b9d5dfea"
       ],
       "layout": "IPY_MODEL_96f602034962408db7fc50c80fb8562b"
      }
     },
     "25263ed1c9554c9e9e551a18df9867f0": {
      "model_module": "@jupyter-widgets/base",
      "model_module_version": "1.2.0",
      "model_name": "LayoutModel",
      "state": {}
     },
     "2536fb452e48433bb345aac56dd87b9c": {
      "model_module": "@jupyter-widgets/controls",
      "model_module_version": "1.5.0",
      "model_name": "IntProgressModel",
      "state": {
       "bar_style": "success",
       "description": "100.00%",
       "layout": "IPY_MODEL_0308f8ba72ba42daafba77e0ac8d8339",
       "max": 256,
       "style": "IPY_MODEL_c3f38d4a6d3a4d3e97158a818fddec5e",
       "value": 256
      }
     },
     "25dbe750ea9047f0b19d1a809e93c630": {
      "model_module": "@jupyter-widgets/controls",
      "model_module_version": "1.5.0",
      "model_name": "LabelModel",
      "state": {
       "layout": "IPY_MODEL_5189720f716943f8a8fef6c6083cd2e0",
       "style": "IPY_MODEL_5f83782d9b2c47ecb290f8236d95f3a0",
       "value": "205 / 205"
      }
     },
     "25e6b3f861da4ba497ec6d4c4a8dfe85": {
      "model_module": "@jupyter-widgets/controls",
      "model_module_version": "1.5.0",
      "model_name": "LabelModel",
      "state": {
       "layout": "IPY_MODEL_5a5140b88b2c4ce1ba3e3a4741eb7329",
       "style": "IPY_MODEL_522a6ac01f054de492395788d17dfebd",
       "value": "255 / 255"
      }
     },
     "25f174a4fdde4dfc95fbfea75b47e2a5": {
      "model_module": "@jupyter-widgets/controls",
      "model_module_version": "1.5.0",
      "model_name": "HBoxModel",
      "state": {
       "children": [
        "IPY_MODEL_c9bb8e63e3044eb1aaef9a75c72d8f26",
        "IPY_MODEL_620d3a753ec449dab72815f57c83e91b"
       ],
       "layout": "IPY_MODEL_9eaa1ddabe454529bf519904ad79a506"
      }
     },
     "262f51a4e68c40f19e651c3c034a5ddb": {
      "model_module": "@jupyter-widgets/controls",
      "model_module_version": "1.5.0",
      "model_name": "ProgressStyleModel",
      "state": {
       "description_width": ""
      }
     },
     "264422d9cf2e4453aef5c23d627868e9": {
      "model_module": "@jupyter-widgets/base",
      "model_module_version": "1.2.0",
      "model_name": "LayoutModel",
      "state": {}
     },
     "26e70406fbfb41d981bcd928384404a5": {
      "model_module": "@jupyter-widgets/controls",
      "model_module_version": "1.5.0",
      "model_name": "ProgressStyleModel",
      "state": {
       "description_width": ""
      }
     },
     "2745dd7957384556a08b4db4bdac93d4": {
      "model_module": "@jupyter-widgets/base",
      "model_module_version": "1.2.0",
      "model_name": "LayoutModel",
      "state": {}
     },
     "27460b3225294c04bca1fa6d2c02c532": {
      "model_module": "@jupyter-widgets/controls",
      "model_module_version": "1.5.0",
      "model_name": "DescriptionStyleModel",
      "state": {
       "description_width": ""
      }
     },
     "2776030d3b20461da238ad705ff04a17": {
      "model_module": "@jupyter-widgets/base",
      "model_module_version": "1.2.0",
      "model_name": "LayoutModel",
      "state": {}
     },
     "27a479d714034c159707efa7867e2995": {
      "model_module": "@jupyter-widgets/base",
      "model_module_version": "1.2.0",
      "model_name": "LayoutModel",
      "state": {}
     },
     "27a959b2e3094fc7bfc47772185162b5": {
      "model_module": "@jupyter-widgets/base",
      "model_module_version": "1.2.0",
      "model_name": "LayoutModel",
      "state": {}
     },
     "27d0bd662a104f74a87f8e12553bcf8c": {
      "model_module": "@jupyter-widgets/controls",
      "model_module_version": "1.5.0",
      "model_name": "LabelModel",
      "state": {
       "layout": "IPY_MODEL_0cec8b76a6ab4c1da880d144ea5ad8e6",
       "style": "IPY_MODEL_89d774803acc4fb9897bbf8aa5c484ce",
       "value": "255 / 255"
      }
     },
     "280a84cbec0540d4b107265ce0f7d9f3": {
      "model_module": "@jupyter-widgets/base",
      "model_module_version": "1.2.0",
      "model_name": "LayoutModel",
      "state": {}
     },
     "280ce9deb4064cafaae6951553c9f505": {
      "model_module": "@jupyter-widgets/base",
      "model_module_version": "1.2.0",
      "model_name": "LayoutModel",
      "state": {}
     },
     "2814015306e94ca1b68a21ee481037e8": {
      "model_module": "@jupyter-widgets/base",
      "model_module_version": "1.2.0",
      "model_name": "LayoutModel",
      "state": {}
     },
     "28670d49da0f4f8593760a7289f4b212": {
      "model_module": "@jupyter-widgets/controls",
      "model_module_version": "1.5.0",
      "model_name": "IntProgressModel",
      "state": {
       "description": "1.47%",
       "layout": "IPY_MODEL_0fca143129994c92ab3f990f20490b49",
       "max": 204,
       "style": "IPY_MODEL_d51edf5b2fe44d75a5917befd5b98ef5",
       "value": 3
      }
     },
     "2874f3beb06d4a2480b4b55f7073f11c": {
      "model_module": "@jupyter-widgets/controls",
      "model_module_version": "1.5.0",
      "model_name": "LabelModel",
      "state": {
       "layout": "IPY_MODEL_77411c519306482389fcc847ad902ba2",
       "style": "IPY_MODEL_d7f0cfdc329d4b6890e7bf5aade36376",
       "value": "256 / 256"
      }
     },
     "28de91c3427144bd9292dd7a8ca79b0e": {
      "model_module": "@jupyter-widgets/base",
      "model_module_version": "1.2.0",
      "model_name": "LayoutModel",
      "state": {}
     },
     "292bc637ac02495e84f351707e68c3d6": {
      "model_module": "@jupyter-widgets/controls",
      "model_module_version": "1.5.0",
      "model_name": "ProgressStyleModel",
      "state": {
       "description_width": ""
      }
     },
     "293d0505428e4eaea296632c72b17de7": {
      "model_module": "@jupyter-widgets/base",
      "model_module_version": "1.2.0",
      "model_name": "LayoutModel",
      "state": {}
     },
     "2990dc09b1a64261881c5b204f8ed8a3": {
      "model_module": "@jupyter-widgets/base",
      "model_module_version": "1.2.0",
      "model_name": "LayoutModel",
      "state": {}
     },
     "29c11a5e9c604fbb94e58d3b517e94ba": {
      "model_module": "@jupyter-widgets/base",
      "model_module_version": "1.2.0",
      "model_name": "LayoutModel",
      "state": {}
     },
     "29efee2e1b05494490c7cb238518ad3c": {
      "model_module": "@jupyter-widgets/base",
      "model_module_version": "1.2.0",
      "model_name": "LayoutModel",
      "state": {}
     },
     "2a09a9123eff4af1bad63df9f3470642": {
      "model_module": "@jupyter-widgets/controls",
      "model_module_version": "1.5.0",
      "model_name": "LabelModel",
      "state": {
       "layout": "IPY_MODEL_85b3cb731a9041869b52ce33140c0b99",
       "style": "IPY_MODEL_5569052afd0d409e91db3a81adf27733",
       "value": "0 / 1022"
      }
     },
     "2a13ce5c598348e2b6ede0ea16dd7736": {
      "model_module": "@jupyter-widgets/base",
      "model_module_version": "1.2.0",
      "model_name": "LayoutModel",
      "state": {}
     },
     "2a4b143d68c74d82be2bc96a5144c163": {
      "model_module": "@jupyter-widgets/controls",
      "model_module_version": "1.5.0",
      "model_name": "LabelModel",
      "state": {
       "layout": "IPY_MODEL_6bd31bf4ce4c486f8e6184f7443d6f70",
       "style": "IPY_MODEL_eb3ce1fae8034017a26ba4ad68abdb54",
       "value": "3 / 204"
      }
     },
     "2a5b58fbfea74f628e0e05c06a500be5": {
      "model_module": "@jupyter-widgets/base",
      "model_module_version": "1.2.0",
      "model_name": "LayoutModel",
      "state": {}
     },
     "2a81c055911f4e979a45353f5cacd81b": {
      "model_module": "@jupyter-widgets/controls",
      "model_module_version": "1.5.0",
      "model_name": "ProgressStyleModel",
      "state": {
       "description_width": ""
      }
     },
     "2a85977545ee4138842415659bf25193": {
      "model_module": "@jupyter-widgets/base",
      "model_module_version": "1.2.0",
      "model_name": "LayoutModel",
      "state": {}
     },
     "2ab6f278b8054729a2d2fcb47d879a49": {
      "model_module": "@jupyter-widgets/controls",
      "model_module_version": "1.5.0",
      "model_name": "IntProgressModel",
      "state": {
       "bar_style": "success",
       "description": "100.00%",
       "layout": "IPY_MODEL_7a6a95ff0c174db9968d5ae052ffc84f",
       "max": 63,
       "style": "IPY_MODEL_501ab6a1b3924125ae4269a2f6d2fd41",
       "value": 63
      }
     },
     "2af87f62503a42df8bb104a4597a39cd": {
      "model_module": "@jupyter-widgets/controls",
      "model_module_version": "1.5.0",
      "model_name": "ProgressStyleModel",
      "state": {
       "description_width": ""
      }
     },
     "2b6af61d5d4d434bab5adb6c2ae20f52": {
      "model_module": "@jupyter-widgets/controls",
      "model_module_version": "1.5.0",
      "model_name": "ProgressStyleModel",
      "state": {
       "description_width": ""
      }
     },
     "2becc17c05c143b29ed5c355a34ba5ae": {
      "model_module": "@jupyter-widgets/base",
      "model_module_version": "1.2.0",
      "model_name": "LayoutModel",
      "state": {}
     },
     "2bfc1ddca9324a9caf7f64a8ce329cb5": {
      "model_module": "@jupyter-widgets/controls",
      "model_module_version": "1.5.0",
      "model_name": "LabelModel",
      "state": {
       "layout": "IPY_MODEL_a212f4d220b04841862781f05f406376",
       "style": "IPY_MODEL_241f3e387c624a808b05125ca5ab6428",
       "value": "255 / 255"
      }
     },
     "2c6a5498d5e049deaa0b23c3c15cae41": {
      "model_module": "@jupyter-widgets/controls",
      "model_module_version": "1.5.0",
      "model_name": "ProgressStyleModel",
      "state": {
       "description_width": ""
      }
     },
     "2c6ba623983b4fc69aec124f9e1af801": {
      "model_module": "@jupyter-widgets/controls",
      "model_module_version": "1.5.0",
      "model_name": "LabelModel",
      "state": {
       "layout": "IPY_MODEL_0dfb2178836847d882bb796c11e625e2",
       "style": "IPY_MODEL_723acd5430ee457fb072567e6c56c0e7",
       "value": "205 / 205"
      }
     },
     "2cfed7f8966d4e5aa6f6e95829562be3": {
      "model_module": "@jupyter-widgets/controls",
      "model_module_version": "1.5.0",
      "model_name": "ProgressStyleModel",
      "state": {
       "description_width": ""
      }
     },
     "2d139e678528462ba1b34c5b7eda356b": {
      "model_module": "@jupyter-widgets/controls",
      "model_module_version": "1.5.0",
      "model_name": "VBoxModel",
      "state": {
       "children": [
        "IPY_MODEL_32a6ddbd0f9945aa98a680a26a9e6d89",
        "IPY_MODEL_8c857475ce4c4207b6b7d749d468a580"
       ],
       "layout": "IPY_MODEL_b7f97574044545daaddcba09b9d9f055"
      }
     },
     "2d1d4e760a1c4099bdbfa08dfcffd1f8": {
      "model_module": "@jupyter-widgets/base",
      "model_module_version": "1.2.0",
      "model_name": "LayoutModel",
      "state": {}
     },
     "2d4c118d90e040ef990e13e2af7c2a97": {
      "model_module": "@jupyter-widgets/base",
      "model_module_version": "1.2.0",
      "model_name": "LayoutModel",
      "state": {}
     },
     "2d6d24db2cfb433e9aafc5c752ceaaa7": {
      "model_module": "@jupyter-widgets/base",
      "model_module_version": "1.2.0",
      "model_name": "LayoutModel",
      "state": {}
     },
     "2d8471dd07f0407097467ab488b54637": {
      "model_module": "@jupyter-widgets/base",
      "model_module_version": "1.2.0",
      "model_name": "LayoutModel",
      "state": {}
     },
     "2d89a8fdda164f2b98c6de40d692b833": {
      "model_module": "@jupyter-widgets/controls",
      "model_module_version": "1.5.0",
      "model_name": "DescriptionStyleModel",
      "state": {
       "description_width": ""
      }
     },
     "2d89b37b17ea493893bcf0777046cdab": {
      "model_module": "@jupyter-widgets/base",
      "model_module_version": "1.2.0",
      "model_name": "LayoutModel",
      "state": {}
     },
     "2d9d4a7d3d734bca97c567411a1e4313": {
      "model_module": "@jupyter-widgets/controls",
      "model_module_version": "1.5.0",
      "model_name": "DescriptionStyleModel",
      "state": {
       "description_width": ""
      }
     },
     "2ddb831aa3de4c4cb5f3800ae8995c50": {
      "model_module": "@jupyter-widgets/controls",
      "model_module_version": "1.5.0",
      "model_name": "ProgressStyleModel",
      "state": {
       "description_width": ""
      }
     },
     "2ddf17d09aa24eab87455bf4ac6c5daa": {
      "model_module": "@jupyter-widgets/base",
      "model_module_version": "1.2.0",
      "model_name": "LayoutModel",
      "state": {}
     },
     "2e538b18620d4f12950421b83ed4fc4e": {
      "model_module": "@jupyter-widgets/base",
      "model_module_version": "1.2.0",
      "model_name": "LayoutModel",
      "state": {}
     },
     "2e80b9630dc44699bb37c9392d6c2b48": {
      "model_module": "@jupyter-widgets/controls",
      "model_module_version": "1.5.0",
      "model_name": "ProgressStyleModel",
      "state": {
       "description_width": ""
      }
     },
     "2e9525d3dfff4838b9b7d1fdab1b022f": {
      "model_module": "@jupyter-widgets/base",
      "model_module_version": "1.2.0",
      "model_name": "LayoutModel",
      "state": {}
     },
     "2eaf442463bf4427a6e7eeb4cb835308": {
      "model_module": "@jupyter-widgets/controls",
      "model_module_version": "1.5.0",
      "model_name": "HBoxModel",
      "state": {
       "children": [
        "IPY_MODEL_bfd0591eb99e44928c74fbc385fcdc22",
        "IPY_MODEL_1eef39df09214f14a6561ba28fc9ad81"
       ],
       "layout": "IPY_MODEL_75f2132f56f447eea976f92009ae203a"
      }
     },
     "2eb279c739f04037b912d216b7a4b69e": {
      "model_module": "@jupyter-widgets/controls",
      "model_module_version": "1.5.0",
      "model_name": "LabelModel",
      "state": {
       "layout": "IPY_MODEL_d915621583374157b5e9fb14d595b016",
       "style": "IPY_MODEL_6cfce7d0099f4b8ba6d221b1622b72a7",
       "value": "3 / 204"
      }
     },
     "2ec966cdab20489da4942fbd0ac6267d": {
      "model_module": "@jupyter-widgets/controls",
      "model_module_version": "1.5.0",
      "model_name": "IntProgressModel",
      "state": {
       "bar_style": "success",
       "description": "100.00%",
       "layout": "IPY_MODEL_34f97fd58c4d4debaff02c5b03ed4861",
       "max": 256,
       "style": "IPY_MODEL_be7cb2f903974a08855500261fb3647c",
       "value": 256
      }
     },
     "2f0420db6bc4491c82821a3c177b7090": {
      "model_module": "@jupyter-widgets/controls",
      "model_module_version": "1.5.0",
      "model_name": "ProgressStyleModel",
      "state": {
       "description_width": ""
      }
     },
     "2f5babc9b6674441bf90eaa5df0ad141": {
      "model_module": "@jupyter-widgets/controls",
      "model_module_version": "1.5.0",
      "model_name": "ProgressStyleModel",
      "state": {
       "description_width": ""
      }
     },
     "2f8798dafcc94741a06038578d13ec89": {
      "model_module": "@jupyter-widgets/controls",
      "model_module_version": "1.5.0",
      "model_name": "ProgressStyleModel",
      "state": {
       "description_width": ""
      }
     },
     "2fa44ad504e14700af1cd3dda96c3567": {
      "model_module": "@jupyter-widgets/controls",
      "model_module_version": "1.5.0",
      "model_name": "ProgressStyleModel",
      "state": {
       "description_width": ""
      }
     },
     "302ae07162ed46ee989003440ff64829": {
      "model_module": "@jupyter-widgets/controls",
      "model_module_version": "1.5.0",
      "model_name": "LabelModel",
      "state": {
       "layout": "IPY_MODEL_794ae1e2a4cf4fb8b16190709ba1eb62",
       "style": "IPY_MODEL_db76c0ea6830473a867bda3e6623fd4b",
       "value": "204 / 204"
      }
     },
     "303d2940beea423485a9c5d8b688d4c5": {
      "model_module": "@jupyter-widgets/controls",
      "model_module_version": "1.5.0",
      "model_name": "DescriptionStyleModel",
      "state": {
       "description_width": ""
      }
     },
     "30400642e47d4e6889693a837283bd7c": {
      "model_module": "@jupyter-widgets/controls",
      "model_module_version": "1.5.0",
      "model_name": "ProgressStyleModel",
      "state": {
       "description_width": ""
      }
     },
     "30c1e8e5515243d685923a6bb63183df": {
      "model_module": "@jupyter-widgets/controls",
      "model_module_version": "1.5.0",
      "model_name": "DescriptionStyleModel",
      "state": {
       "description_width": ""
      }
     },
     "3165c74d58194317bf4459e6d43c788a": {
      "model_module": "@jupyter-widgets/controls",
      "model_module_version": "1.5.0",
      "model_name": "LabelModel",
      "state": {
       "layout": "IPY_MODEL_ef25173178f04d03ba2dfeb72776700d",
       "style": "IPY_MODEL_37aa3ff3b8154982876296a1210f5159",
       "value": "64 / 64"
      }
     },
     "31bd5c21486a4240a367ca6308517695": {
      "model_module": "@jupyter-widgets/base",
      "model_module_version": "1.2.0",
      "model_name": "LayoutModel",
      "state": {}
     },
     "31d9b31dc5fb4438b4f13d3bd4a7fa53": {
      "model_module": "@jupyter-widgets/controls",
      "model_module_version": "1.5.0",
      "model_name": "LabelModel",
      "state": {
       "layout": "IPY_MODEL_ab47b90bec2744c8932d778a809d345f",
       "style": "IPY_MODEL_049def39971d45ddad358a174967a4b0",
       "value": "3 / 204"
      }
     },
     "31f23aa520cd400b8b1d91609641575c": {
      "model_module": "@jupyter-widgets/controls",
      "model_module_version": "1.5.0",
      "model_name": "ProgressStyleModel",
      "state": {
       "description_width": ""
      }
     },
     "328a0766fda04ca5b608dfd3f9dbb54d": {
      "model_module": "@jupyter-widgets/controls",
      "model_module_version": "1.5.0",
      "model_name": "ProgressStyleModel",
      "state": {
       "description_width": ""
      }
     },
     "32a6ddbd0f9945aa98a680a26a9e6d89": {
      "model_module": "@jupyter-widgets/controls",
      "model_module_version": "1.5.0",
      "model_name": "HBoxModel",
      "state": {
       "children": [
        "IPY_MODEL_b9f5712465c342e48133a5f28bb4dbf1",
        "IPY_MODEL_717e10ba51704c39805b8cfc23554d1f"
       ],
       "layout": "IPY_MODEL_381b6bb93387406b9cdb86aaf8d9a53b"
      }
     },
     "32e594bdc7d247cab375829c9f1ebab4": {
      "model_module": "@jupyter-widgets/base",
      "model_module_version": "1.2.0",
      "model_name": "LayoutModel",
      "state": {}
     },
     "330ea2fc105c4ff9836457e1e87f288f": {
      "model_module": "@jupyter-widgets/base",
      "model_module_version": "1.2.0",
      "model_name": "LayoutModel",
      "state": {}
     },
     "33145b65ecf84b1f930b3d94703ed7c7": {
      "model_module": "@jupyter-widgets/controls",
      "model_module_version": "1.5.0",
      "model_name": "ProgressStyleModel",
      "state": {
       "description_width": ""
      }
     },
     "331627caa5214940b026322e3415d23f": {
      "model_module": "@jupyter-widgets/controls",
      "model_module_version": "1.5.0",
      "model_name": "LabelModel",
      "state": {
       "layout": "IPY_MODEL_5df26024349745b292df70f943c63e70",
       "style": "IPY_MODEL_57cf5027987348cdbde1cddef6f2bdd1",
       "value": "255 / 255"
      }
     },
     "33a46fd375d34db2994a434da3cac59c": {
      "model_module": "@jupyter-widgets/base",
      "model_module_version": "1.2.0",
      "model_name": "LayoutModel",
      "state": {}
     },
     "33a7f9c7f2444dad80c714b3deb2f7f4": {
      "model_module": "@jupyter-widgets/base",
      "model_module_version": "1.2.0",
      "model_name": "LayoutModel",
      "state": {}
     },
     "33f113effbe34956a2608b0f7ab3efb7": {
      "model_module": "@jupyter-widgets/controls",
      "model_module_version": "1.5.0",
      "model_name": "LabelModel",
      "state": {
       "layout": "IPY_MODEL_2d6d24db2cfb433e9aafc5c752ceaaa7",
       "style": "IPY_MODEL_5bd300803d4c42a19745aa46a045133e",
       "value": "3 / 204"
      }
     },
     "33faa3f492a245b4af5abac05416fb2b": {
      "model_module": "@jupyter-widgets/controls",
      "model_module_version": "1.5.0",
      "model_name": "DescriptionStyleModel",
      "state": {
       "description_width": ""
      }
     },
     "3420ce6075a04a54b88b65548fceee55": {
      "model_module": "@jupyter-widgets/base",
      "model_module_version": "1.2.0",
      "model_name": "LayoutModel",
      "state": {}
     },
     "3452e29e15e94e0c8302f4c1972fa0a7": {
      "model_module": "@jupyter-widgets/controls",
      "model_module_version": "1.5.0",
      "model_name": "DescriptionStyleModel",
      "state": {
       "description_width": ""
      }
     },
     "34aabf11cf774af3a976ac7d09d0a309": {
      "model_module": "@jupyter-widgets/base",
      "model_module_version": "1.2.0",
      "model_name": "LayoutModel",
      "state": {}
     },
     "34ca96ac29974f419abd5559a0a1cc70": {
      "model_module": "@jupyter-widgets/base",
      "model_module_version": "1.2.0",
      "model_name": "LayoutModel",
      "state": {}
     },
     "34f97fd58c4d4debaff02c5b03ed4861": {
      "model_module": "@jupyter-widgets/base",
      "model_module_version": "1.2.0",
      "model_name": "LayoutModel",
      "state": {}
     },
     "35183ea377f84327b73950a27a157e8a": {
      "model_module": "@jupyter-widgets/controls",
      "model_module_version": "1.5.0",
      "model_name": "HBoxModel",
      "state": {
       "children": [
        "IPY_MODEL_4bd81b800f6447c19678ec45c3da5930",
        "IPY_MODEL_e3c68f6276bd4706ac9a3ef26674719a"
       ],
       "layout": "IPY_MODEL_ee1df6f1a8cd4d90ad9879c6aa231113"
      }
     },
     "351ddc453b0d4feb96ef01a62e386943": {
      "model_module": "@jupyter-widgets/controls",
      "model_module_version": "1.5.0",
      "model_name": "DescriptionStyleModel",
      "state": {
       "description_width": ""
      }
     },
     "356740da429e4c4fb99c4d16c5634586": {
      "model_module": "@jupyter-widgets/base",
      "model_module_version": "1.2.0",
      "model_name": "LayoutModel",
      "state": {}
     },
     "3570fb7ca04d44a2b450f2ae78e45a06": {
      "model_module": "@jupyter-widgets/controls",
      "model_module_version": "1.5.0",
      "model_name": "HBoxModel",
      "state": {
       "children": [
        "IPY_MODEL_4fc082d581884c84ae53b4c7efb2ddc4",
        "IPY_MODEL_79b71b5d91e1405487e28c0c6664abb2",
        "IPY_MODEL_df33d9a9e1014e089ef865dacc2ad5b7"
       ],
       "layout": "IPY_MODEL_8fa009d2e85546e396d44d68bfc5266e"
      }
     },
     "3573266457424b3ba579c6bbbeb1c04c": {
      "model_module": "@jupyter-widgets/controls",
      "model_module_version": "1.5.0",
      "model_name": "IntProgressModel",
      "state": {
       "description": "1.47%",
       "layout": "IPY_MODEL_8a9a4abfc67c4a9f97e5adb149814503",
       "max": 204,
       "style": "IPY_MODEL_de99efb5377044349ce0603d19c66d0f",
       "value": 3
      }
     },
     "35c007f3fbdb4675bf67e02873ff9641": {
      "model_module": "@jupyter-widgets/controls",
      "model_module_version": "1.5.0",
      "model_name": "DescriptionStyleModel",
      "state": {
       "description_width": ""
      }
     },
     "35cb8437a34b4a8691e89fc95e6b2cda": {
      "model_module": "@jupyter-widgets/base",
      "model_module_version": "1.2.0",
      "model_name": "LayoutModel",
      "state": {}
     },
     "35f74e6e831349a98db0edd2d45c1d0a": {
      "model_module": "@jupyter-widgets/controls",
      "model_module_version": "1.5.0",
      "model_name": "ProgressStyleModel",
      "state": {
       "description_width": ""
      }
     },
     "3604e94edd1c49b599944ea6cc5634dd": {
      "model_module": "@jupyter-widgets/controls",
      "model_module_version": "1.5.0",
      "model_name": "ProgressStyleModel",
      "state": {
       "description_width": ""
      }
     },
     "362f57f60730454783342e643a1d8d41": {
      "model_module": "@jupyter-widgets/controls",
      "model_module_version": "1.5.0",
      "model_name": "HBoxModel",
      "state": {
       "children": [
        "IPY_MODEL_c75bb901c2474359a6215978391d0744",
        "IPY_MODEL_d8f7032d7d0348559ac02febb3d0c670"
       ],
       "layout": "IPY_MODEL_945b6fef959e4fd1b75af5a6407849d0"
      }
     },
     "363e60476d184983a36f9ea0dc1aa9d4": {
      "model_module": "@jupyter-widgets/base",
      "model_module_version": "1.2.0",
      "model_name": "LayoutModel",
      "state": {}
     },
     "36664733461e420f82c7bf3df78be2c5": {
      "model_module": "@jupyter-widgets/base",
      "model_module_version": "1.2.0",
      "model_name": "LayoutModel",
      "state": {}
     },
     "36e8799bf4dd4f018d8a82c73037592b": {
      "model_module": "@jupyter-widgets/base",
      "model_module_version": "1.2.0",
      "model_name": "LayoutModel",
      "state": {}
     },
     "36ead8374ed0475da8304b40fc9fcddd": {
      "model_module": "@jupyter-widgets/base",
      "model_module_version": "1.2.0",
      "model_name": "LayoutModel",
      "state": {}
     },
     "36f06240469448dc86a11c7299c4ccec": {
      "model_module": "@jupyter-widgets/base",
      "model_module_version": "1.2.0",
      "model_name": "LayoutModel",
      "state": {}
     },
     "37aa3ff3b8154982876296a1210f5159": {
      "model_module": "@jupyter-widgets/controls",
      "model_module_version": "1.5.0",
      "model_name": "DescriptionStyleModel",
      "state": {
       "description_width": ""
      }
     },
     "37bc0c15ff714f34b7ff31980e7fd649": {
      "model_module": "@jupyter-widgets/base",
      "model_module_version": "1.2.0",
      "model_name": "LayoutModel",
      "state": {}
     },
     "37bc5d9800b84abf9da903a592ae4bd5": {
      "model_module": "@jupyter-widgets/controls",
      "model_module_version": "1.5.0",
      "model_name": "IntProgressModel",
      "state": {
       "bar_style": "success",
       "description": "100.00%",
       "layout": "IPY_MODEL_011d56a1d30c420f92db78504f6da937",
       "max": 255,
       "style": "IPY_MODEL_f8aab4190e0e43f6a24c8e8c0e25ad4d",
       "value": 255
      }
     },
     "37da4802431f4b9d9f71b3b8c22f1fb0": {
      "model_module": "@jupyter-widgets/base",
      "model_module_version": "1.2.0",
      "model_name": "LayoutModel",
      "state": {}
     },
     "381b6bb93387406b9cdb86aaf8d9a53b": {
      "model_module": "@jupyter-widgets/base",
      "model_module_version": "1.2.0",
      "model_name": "LayoutModel",
      "state": {}
     },
     "386132ae2c8d4c00a2e06013f7253930": {
      "model_module": "@jupyter-widgets/base",
      "model_module_version": "1.2.0",
      "model_name": "LayoutModel",
      "state": {}
     },
     "3885a368afb644ff987986500ee18fb4": {
      "model_module": "@jupyter-widgets/controls",
      "model_module_version": "1.5.0",
      "model_name": "LabelModel",
      "state": {
       "layout": "IPY_MODEL_b18da80d86cd4dcfb13805288896054a",
       "style": "IPY_MODEL_4c79b414a8ee408b9dcf851f1777a3c0",
       "value": "255 / 255"
      }
     },
     "38e0ff895170429b8d69d61a0a73be5d": {
      "model_module": "@jupyter-widgets/controls",
      "model_module_version": "1.5.0",
      "model_name": "IntProgressModel",
      "state": {
       "bar_style": "success",
       "description": "100.00%",
       "layout": "IPY_MODEL_caddfa37289847afb2451c04711c9c93",
       "max": 205,
       "style": "IPY_MODEL_35f74e6e831349a98db0edd2d45c1d0a",
       "value": 205
      }
     },
     "38ef50b0c54b4fb9829abcde6b63a887": {
      "model_module": "@jupyter-widgets/base",
      "model_module_version": "1.2.0",
      "model_name": "LayoutModel",
      "state": {}
     },
     "3940ddfbaf4845a5bb52c2781d100f1f": {
      "model_module": "@jupyter-widgets/controls",
      "model_module_version": "1.5.0",
      "model_name": "DescriptionStyleModel",
      "state": {
       "description_width": ""
      }
     },
     "395a10d4a450459aada7048430b43314": {
      "model_module": "@jupyter-widgets/controls",
      "model_module_version": "1.5.0",
      "model_name": "ProgressStyleModel",
      "state": {
       "description_width": ""
      }
     },
     "39e57ec553ac4f2f9cd58c4599824f51": {
      "model_module": "@jupyter-widgets/base",
      "model_module_version": "1.2.0",
      "model_name": "LayoutModel",
      "state": {}
     },
     "3a0edf4ff5cc4db182933977a5cb84e8": {
      "model_module": "@jupyter-widgets/base",
      "model_module_version": "1.2.0",
      "model_name": "LayoutModel",
      "state": {}
     },
     "3a14ded8962645579dd393adb974c8f2": {
      "model_module": "@jupyter-widgets/base",
      "model_module_version": "1.2.0",
      "model_name": "LayoutModel",
      "state": {}
     },
     "3a2c08ab748549c9b9a58265f6a7bcdd": {
      "model_module": "@jupyter-widgets/controls",
      "model_module_version": "1.5.0",
      "model_name": "DescriptionStyleModel",
      "state": {
       "description_width": ""
      }
     },
     "3a686f8948e74eed9fa75da97097ba1c": {
      "model_module": "@jupyter-widgets/controls",
      "model_module_version": "1.5.0",
      "model_name": "HBoxModel",
      "state": {
       "children": [
        "IPY_MODEL_fa7697b2aef84ee8a5d6dad80d1415bd",
        "IPY_MODEL_2874f3beb06d4a2480b4b55f7073f11c"
       ],
       "layout": "IPY_MODEL_1d1921fed0184436a993973ccb2aa44f"
      }
     },
     "3a6c6ca94440479b8d0cd743aca135dd": {
      "model_module": "@jupyter-widgets/controls",
      "model_module_version": "1.5.0",
      "model_name": "LabelModel",
      "state": {
       "layout": "IPY_MODEL_50303fb88cab412b916319b586a77009",
       "style": "IPY_MODEL_d327286effcc49f6b997fc5c1a8e1fc0",
       "value": "204 / 204"
      }
     },
     "3aa5c60d47cd4ebd815db460351de935": {
      "model_module": "@jupyter-widgets/controls",
      "model_module_version": "1.5.0",
      "model_name": "ProgressStyleModel",
      "state": {
       "description_width": ""
      }
     },
     "3ab29420f0234558a3128847cfc4de17": {
      "model_module": "@jupyter-widgets/controls",
      "model_module_version": "1.5.0",
      "model_name": "IntProgressModel",
      "state": {
       "description": "1.47%",
       "layout": "IPY_MODEL_ba6a1688653b4be1a41f9afe95743480",
       "max": 204,
       "style": "IPY_MODEL_b031f725b8444670af4468b28ef6ba5c",
       "value": 3
      }
     },
     "3aefe7172da44f2a854ae6729393a253": {
      "model_module": "@jupyter-widgets/base",
      "model_module_version": "1.2.0",
      "model_name": "LayoutModel",
      "state": {}
     },
     "3af6e64abdb8420b9b5fa72d7e4f0109": {
      "model_module": "@jupyter-widgets/controls",
      "model_module_version": "1.5.0",
      "model_name": "ProgressStyleModel",
      "state": {
       "description_width": ""
      }
     },
     "3b66217ce8ce4ad59f27fd2a327d99d6": {
      "model_module": "@jupyter-widgets/controls",
      "model_module_version": "1.5.0",
      "model_name": "DescriptionStyleModel",
      "state": {
       "description_width": ""
      }
     },
     "3c05ebd99a4340548b659549143d3230": {
      "model_module": "@jupyter-widgets/controls",
      "model_module_version": "1.5.0",
      "model_name": "ProgressStyleModel",
      "state": {
       "description_width": ""
      }
     },
     "3c0a7b5bebe24eba917d48f6ed55f2e9": {
      "model_module": "@jupyter-widgets/controls",
      "model_module_version": "1.5.0",
      "model_name": "DescriptionStyleModel",
      "state": {
       "description_width": ""
      }
     },
     "3c31379967ec4220b09931356de3c453": {
      "model_module": "@jupyter-widgets/controls",
      "model_module_version": "1.5.0",
      "model_name": "ProgressStyleModel",
      "state": {
       "description_width": ""
      }
     },
     "3c4cca88e59d438a88f235a551dfa886": {
      "model_module": "@jupyter-widgets/controls",
      "model_module_version": "1.5.0",
      "model_name": "ProgressStyleModel",
      "state": {
       "description_width": ""
      }
     },
     "3cdde3936a1845b5b66d8f38961617b4": {
      "model_module": "@jupyter-widgets/controls",
      "model_module_version": "1.5.0",
      "model_name": "HTMLModel",
      "state": {
       "layout": "IPY_MODEL_27a959b2e3094fc7bfc47772185162b5",
       "style": "IPY_MODEL_c6f69c532c8c4ed8afa4546776432dd5",
       "value": " 1/1 [00:00&lt;00:00,  1.48it/s]"
      }
     },
     "3ce3fa51a4a949118918a7444fa5793d": {
      "model_module": "@jupyter-widgets/controls",
      "model_module_version": "1.5.0",
      "model_name": "DescriptionStyleModel",
      "state": {
       "description_width": ""
      }
     },
     "3cf16af9587046f089fbfb0bdff65f84": {
      "model_module": "@jupyter-widgets/controls",
      "model_module_version": "1.5.0",
      "model_name": "DescriptionStyleModel",
      "state": {
       "description_width": ""
      }
     },
     "3d06e157cc66470c8d341eb3774e625f": {
      "model_module": "@jupyter-widgets/controls",
      "model_module_version": "1.5.0",
      "model_name": "LabelModel",
      "state": {
       "layout": "IPY_MODEL_ce32a8039c014f168cfb65432cb5012a",
       "style": "IPY_MODEL_24346beaa7b949dc8061a43eeed1bb90",
       "value": "3 / 204"
      }
     },
     "3d2dca83910c4bc89847004817774b91": {
      "model_module": "@jupyter-widgets/controls",
      "model_module_version": "1.5.0",
      "model_name": "ProgressStyleModel",
      "state": {
       "description_width": ""
      }
     },
     "3db1fcc545a54b52af2e0f9e5c0c53f8": {
      "model_module": "@jupyter-widgets/base",
      "model_module_version": "1.2.0",
      "model_name": "LayoutModel",
      "state": {}
     },
     "3dcc00c0c30b47068e4da289be88f863": {
      "model_module": "@jupyter-widgets/base",
      "model_module_version": "1.2.0",
      "model_name": "LayoutModel",
      "state": {}
     },
     "3dd2c3464f904797af0a8e0e0f07d438": {
      "model_module": "@jupyter-widgets/base",
      "model_module_version": "1.2.0",
      "model_name": "LayoutModel",
      "state": {}
     },
     "3dde642ea4564c94bff761319dbbee8b": {
      "model_module": "@jupyter-widgets/controls",
      "model_module_version": "1.5.0",
      "model_name": "ProgressStyleModel",
      "state": {
       "description_width": ""
      }
     },
     "3f0f31fc621c4ff4a50f57fd24f0754c": {
      "model_module": "@jupyter-widgets/controls",
      "model_module_version": "1.5.0",
      "model_name": "IntProgressModel",
      "state": {
       "description": "1.47%",
       "layout": "IPY_MODEL_7235c435a8904597b196c5b43732a7fb",
       "max": 204,
       "style": "IPY_MODEL_44e0c5c9ff10468d98770bb4213c4c15",
       "value": 3
      }
     },
     "3f657ff537b54920a45295b4869c6f90": {
      "model_module": "@jupyter-widgets/controls",
      "model_module_version": "1.5.0",
      "model_name": "IntProgressModel",
      "state": {
       "bar_style": "success",
       "description": "100.00%",
       "layout": "IPY_MODEL_c6cf1511e3bb4f4bbe291baef3bf789e",
       "max": 204,
       "style": "IPY_MODEL_fe73e0db9910423bb9e082c647fb54ce",
       "value": 204
      }
     },
     "4004ade1ab604548b55a171fc75e73ae": {
      "model_module": "@jupyter-widgets/base",
      "model_module_version": "1.2.0",
      "model_name": "LayoutModel",
      "state": {}
     },
     "400f724bd2f04d36b33851bfcf460e3b": {
      "model_module": "@jupyter-widgets/controls",
      "model_module_version": "1.5.0",
      "model_name": "LabelModel",
      "state": {
       "layout": "IPY_MODEL_e4d875311f0548d0b023a2b71a8dfb47",
       "style": "IPY_MODEL_1e868590ed33473495e6f3501b06b420",
       "value": "204 / 204"
      }
     },
     "40369446dd7746c2b5bdf77e37197ab1": {
      "model_module": "@jupyter-widgets/controls",
      "model_module_version": "1.5.0",
      "model_name": "LabelModel",
      "state": {
       "layout": "IPY_MODEL_1f8e542a0792436fb2315d699cd72855",
       "style": "IPY_MODEL_01962660588d4c4d863dae9e5f192298",
       "value": "256 / 256"
      }
     },
     "4036db9534874f1b85e65e15e5439bf4": {
      "model_module": "@jupyter-widgets/controls",
      "model_module_version": "1.5.0",
      "model_name": "IntProgressModel",
      "state": {
       "bar_style": "success",
       "description": "100.00%",
       "layout": "IPY_MODEL_293d0505428e4eaea296632c72b17de7",
       "max": 204,
       "style": "IPY_MODEL_8b0e2310d89f460891b6a28c13411f9e",
       "value": 204
      }
     },
     "409599c8adc54c9babcf15bd41c768af": {
      "model_module": "@jupyter-widgets/controls",
      "model_module_version": "1.5.0",
      "model_name": "IntProgressModel",
      "state": {
       "bar_style": "success",
       "description": "100.00%",
       "layout": "IPY_MODEL_800efb750e6c4787b03e7b34c2704a07",
       "max": 255,
       "style": "IPY_MODEL_d386f453b8bf44a394b05c136bdb3a65",
       "value": 255
      }
     },
     "40bedc49e0194cd388af450f45573c0f": {
      "model_module": "@jupyter-widgets/controls",
      "model_module_version": "1.5.0",
      "model_name": "HBoxModel",
      "state": {
       "children": [
        "IPY_MODEL_4267dbdabaeb4ade9cfde0a860c760fd",
        "IPY_MODEL_240631fe740c4a3eb2c726ae24bb3f27"
       ],
       "layout": "IPY_MODEL_b66f195bda844bccbcceebd348077274"
      }
     },
     "40db0235eb944ded80f85392a81f4889": {
      "model_module": "@jupyter-widgets/controls",
      "model_module_version": "1.5.0",
      "model_name": "IntProgressModel",
      "state": {
       "bar_style": "success",
       "description": "100.00%",
       "layout": "IPY_MODEL_32e594bdc7d247cab375829c9f1ebab4",
       "max": 64,
       "style": "IPY_MODEL_08cc1a3eb51e4017b74cc63a9fb61ca8",
       "value": 64
      }
     },
     "40f3538c82944ab5966d1fc086e30679": {
      "model_module": "@jupyter-widgets/controls",
      "model_module_version": "1.5.0",
      "model_name": "ProgressStyleModel",
      "state": {
       "description_width": ""
      }
     },
     "4102d8f2d13c4345bb92b9357e649bb4": {
      "model_module": "@jupyter-widgets/base",
      "model_module_version": "1.2.0",
      "model_name": "LayoutModel",
      "state": {}
     },
     "410442ebecaf43589cabb17d4d80fc62": {
      "model_module": "@jupyter-widgets/controls",
      "model_module_version": "1.5.0",
      "model_name": "LabelModel",
      "state": {
       "layout": "IPY_MODEL_17f397ba6f674b3b8db23af1594bba58",
       "style": "IPY_MODEL_1e5c44cc402e4d2183e0415bbc0ebe12",
       "value": "255 / 255"
      }
     },
     "413e253c70ae430ea3769aa042be058c": {
      "model_module": "@jupyter-widgets/controls",
      "model_module_version": "1.5.0",
      "model_name": "DescriptionStyleModel",
      "state": {
       "description_width": ""
      }
     },
     "418b3e695cd041b587453bc6729f7056": {
      "model_module": "@jupyter-widgets/controls",
      "model_module_version": "1.5.0",
      "model_name": "HBoxModel",
      "state": {
       "children": [
        "IPY_MODEL_829c4c513efb452689139496e273a1a2",
        "IPY_MODEL_1e09029bc61f40418592d6a7e8243e80"
       ],
       "layout": "IPY_MODEL_ae5c1c5a306b4dd6aaa4061ca449481c"
      }
     },
     "41c65ee202364cc583cc1350d292c506": {
      "model_module": "@jupyter-widgets/base",
      "model_module_version": "1.2.0",
      "model_name": "LayoutModel",
      "state": {}
     },
     "421905d0b4374ee08b97e6218c40fe4a": {
      "model_module": "@jupyter-widgets/base",
      "model_module_version": "1.2.0",
      "model_name": "LayoutModel",
      "state": {}
     },
     "422a931956cd4be98c448b734bb663ce": {
      "model_module": "@jupyter-widgets/controls",
      "model_module_version": "1.5.0",
      "model_name": "HBoxModel",
      "state": {
       "children": [
        "IPY_MODEL_b662b01d8a464396afe4bb8b76342525",
        "IPY_MODEL_1998e0ca8f5240ba8c61a5c8c712ca66"
       ],
       "layout": "IPY_MODEL_95bb3a08d0ab4fe4834308b1ec03a844"
      }
     },
     "423eb2b3b6c245549f22976e773ab128": {
      "model_module": "@jupyter-widgets/controls",
      "model_module_version": "1.5.0",
      "model_name": "LabelModel",
      "state": {
       "layout": "IPY_MODEL_f9fd9a18ea5b41f4a9d27a6211297e9d",
       "style": "IPY_MODEL_e6c414ddcedb4b1aa9d85bc7a0fca796",
       "value": "64 / 64"
      }
     },
     "4267dbdabaeb4ade9cfde0a860c760fd": {
      "model_module": "@jupyter-widgets/controls",
      "model_module_version": "1.5.0",
      "model_name": "IntProgressModel",
      "state": {
       "bar_style": "success",
       "description": "100.00%",
       "layout": "IPY_MODEL_dce4d70a289141c29241d02691600f19",
       "max": 255,
       "style": "IPY_MODEL_395a10d4a450459aada7048430b43314",
       "value": 255
      }
     },
     "428699e20b1640ce817303e162fb50f0": {
      "model_module": "@jupyter-widgets/controls",
      "model_module_version": "1.5.0",
      "model_name": "HBoxModel",
      "state": {
       "children": [
        "IPY_MODEL_5cede3d17f7c4d2c854cb97a46e03c10",
        "IPY_MODEL_d435002d12d04c9f9a41c2c73f7b81cb"
       ],
       "layout": "IPY_MODEL_c141f59b025b455383cf666894099df3"
      }
     },
     "4291f968194342a0b028139542ff444d": {
      "model_module": "@jupyter-widgets/controls",
      "model_module_version": "1.5.0",
      "model_name": "LabelModel",
      "state": {
       "layout": "IPY_MODEL_37da4802431f4b9d9f71b3b8c22f1fb0",
       "style": "IPY_MODEL_87e232a894dc4a57bfe6f5e7108822dc",
       "value": "63 / 63"
      }
     },
     "42924398191a4c6e8db124cb8d2c8f27": {
      "model_module": "@jupyter-widgets/controls",
      "model_module_version": "1.5.0",
      "model_name": "IntProgressModel",
      "state": {
       "bar_style": "success",
       "description": "100.00%",
       "layout": "IPY_MODEL_e1880eacd4ef45a580b07337adb7e66b",
       "max": 255,
       "style": "IPY_MODEL_99f0408502b048f1b842879f28629f10",
       "value": 255
      }
     },
     "42f5f294ff954aa9a4692af8cea8b6a6": {
      "model_module": "@jupyter-widgets/base",
      "model_module_version": "1.2.0",
      "model_name": "LayoutModel",
      "state": {}
     },
     "433e117abd6a4be482c1617c775bc86c": {
      "model_module": "@jupyter-widgets/controls",
      "model_module_version": "1.5.0",
      "model_name": "IntProgressModel",
      "state": {
       "description": "1.46%",
       "layout": "IPY_MODEL_34aabf11cf774af3a976ac7d09d0a309",
       "max": 205,
       "style": "IPY_MODEL_23730d7c7f794ca8ae8d114ab1918e1a",
       "value": 3
      }
     },
     "43752e725d7746159a56191195828ddd": {
      "model_module": "@jupyter-widgets/controls",
      "model_module_version": "1.5.0",
      "model_name": "LabelModel",
      "state": {
       "layout": "IPY_MODEL_a1e326f9fed74567af0a6066b512e555",
       "style": "IPY_MODEL_3ce3fa51a4a949118918a7444fa5793d",
       "value": "255 / 255"
      }
     },
     "439f5d9475ca4505b299f2be1b49b481": {
      "model_module": "@jupyter-widgets/controls",
      "model_module_version": "1.5.0",
      "model_name": "IntProgressModel",
      "state": {
       "bar_style": "success",
       "description": "100.00%",
       "layout": "IPY_MODEL_ce5ef64658aa4e9fa5da7524f11b4a6d",
       "max": 204,
       "style": "IPY_MODEL_e401bfaef44f44a3b5b38e9706c23bf9",
       "value": 204
      }
     },
     "43aa54a723314e45a7fce7108e9d192b": {
      "model_module": "@jupyter-widgets/controls",
      "model_module_version": "1.5.0",
      "model_name": "DescriptionStyleModel",
      "state": {
       "description_width": ""
      }
     },
     "43bd21f08a92455a97732620821c3626": {
      "model_module": "@jupyter-widgets/controls",
      "model_module_version": "1.5.0",
      "model_name": "LabelModel",
      "state": {
       "layout": "IPY_MODEL_e4ada2d1a3eb42f1926a41f9d09ba114",
       "style": "IPY_MODEL_ba8de85703b9413f95b40a2780d5dc1d",
       "value": "255 / 255"
      }
     },
     "4464a7dff12f45ce878b76cbfe78fd81": {
      "model_module": "@jupyter-widgets/controls",
      "model_module_version": "1.5.0",
      "model_name": "DescriptionStyleModel",
      "state": {
       "description_width": ""
      }
     },
     "448a26f6039542719b0a3e2d3a49141b": {
      "model_module": "@jupyter-widgets/controls",
      "model_module_version": "1.5.0",
      "model_name": "ProgressStyleModel",
      "state": {
       "description_width": ""
      }
     },
     "44e0c5c9ff10468d98770bb4213c4c15": {
      "model_module": "@jupyter-widgets/controls",
      "model_module_version": "1.5.0",
      "model_name": "ProgressStyleModel",
      "state": {
       "description_width": ""
      }
     },
     "453006cd4fe94319a2170fda02d0ba58": {
      "model_module": "@jupyter-widgets/controls",
      "model_module_version": "1.5.0",
      "model_name": "DescriptionStyleModel",
      "state": {
       "description_width": ""
      }
     },
     "4559641ab730409a8d722f6a07aac273": {
      "model_module": "@jupyter-widgets/controls",
      "model_module_version": "1.5.0",
      "model_name": "ProgressStyleModel",
      "state": {
       "description_width": ""
      }
     },
     "45762c07b8074e3d887cfa76a8ee9f98": {
      "model_module": "@jupyter-widgets/controls",
      "model_module_version": "1.5.0",
      "model_name": "LabelModel",
      "state": {
       "layout": "IPY_MODEL_1e9755bf358d42c8a914da4e595db294",
       "style": "IPY_MODEL_eed6e1dcfad84841b397b3c0c501b64b",
       "value": "204 / 204"
      }
     },
     "4578ea0b3c8642d8932c97730fb0c1ab": {
      "model_module": "@jupyter-widgets/base",
      "model_module_version": "1.2.0",
      "model_name": "LayoutModel",
      "state": {}
     },
     "462d460779db4b59b540340830556066": {
      "model_module": "@jupyter-widgets/controls",
      "model_module_version": "1.5.0",
      "model_name": "HBoxModel",
      "state": {
       "children": [
        "IPY_MODEL_e8213a5693e94e7f8f975a19b53a6ad7",
        "IPY_MODEL_667a3fcc2217433984752352898532e3"
       ],
       "layout": "IPY_MODEL_cf8b4391cd2848c79fbbfcabfca0ab4a"
      }
     },
     "46602645df8e4f378adb6d5dc2897e6f": {
      "model_module": "@jupyter-widgets/base",
      "model_module_version": "1.2.0",
      "model_name": "LayoutModel",
      "state": {}
     },
     "46722c8921ac454e8dca44ec41db7246": {
      "model_module": "@jupyter-widgets/base",
      "model_module_version": "1.2.0",
      "model_name": "LayoutModel",
      "state": {}
     },
     "46f5c5b6caf946d09201850e764c8f85": {
      "model_module": "@jupyter-widgets/controls",
      "model_module_version": "1.5.0",
      "model_name": "DescriptionStyleModel",
      "state": {
       "description_width": ""
      }
     },
     "472291a38d5746879199509623ee5e31": {
      "model_module": "@jupyter-widgets/controls",
      "model_module_version": "1.5.0",
      "model_name": "IntProgressModel",
      "state": {
       "description": "12.75%",
       "layout": "IPY_MODEL_f48a4c0b76c6424ca892854eeb0c1c6f",
       "max": 204,
       "style": "IPY_MODEL_681107207f09481b910d3a2a473eb017",
       "value": 26
      }
     },
     "4726fd8b745e4dd4b750c9c2691cf6af": {
      "model_module": "@jupyter-widgets/controls",
      "model_module_version": "1.5.0",
      "model_name": "ProgressStyleModel",
      "state": {
       "description_width": ""
      }
     },
     "47429d9180a14e98a019a4c02f0980b5": {
      "model_module": "@jupyter-widgets/controls",
      "model_module_version": "1.5.0",
      "model_name": "DescriptionStyleModel",
      "state": {
       "description_width": ""
      }
     },
     "47674e8213e24293835986e6005d5d53": {
      "model_module": "@jupyter-widgets/controls",
      "model_module_version": "1.5.0",
      "model_name": "DescriptionStyleModel",
      "state": {
       "description_width": ""
      }
     },
     "47b11bc73b514790bcec9d0dbced6e6a": {
      "model_module": "@jupyter-widgets/controls",
      "model_module_version": "1.5.0",
      "model_name": "HBoxModel",
      "state": {
       "children": [
        "IPY_MODEL_42924398191a4c6e8db124cb8d2c8f27",
        "IPY_MODEL_9af2da4f452f45d381d0e053ab4b750f"
       ],
       "layout": "IPY_MODEL_aade158380334394a5a85202ced9734b"
      }
     },
     "489c40f8d2554108a8e0861d3d751b00": {
      "model_module": "@jupyter-widgets/controls",
      "model_module_version": "1.5.0",
      "model_name": "LabelModel",
      "state": {
       "layout": "IPY_MODEL_2a13ce5c598348e2b6ede0ea16dd7736",
       "style": "IPY_MODEL_ef356aecd6c44d8a93f3b0542753f2a6",
       "value": "64 / 64"
      }
     },
     "48a1fce8e8924d81b28849e8a72f8c46": {
      "model_module": "@jupyter-widgets/controls",
      "model_module_version": "1.5.0",
      "model_name": "LabelModel",
      "state": {
       "layout": "IPY_MODEL_90cb7f5ef4db4e0593130103b152ac5b",
       "style": "IPY_MODEL_bda4e2a6fe47409a9bf84efa03afac2d",
       "value": "3 / 204"
      }
     },
     "48cea45e651942d5adc881829afb1eb8": {
      "model_module": "@jupyter-widgets/controls",
      "model_module_version": "1.5.0",
      "model_name": "ProgressStyleModel",
      "state": {
       "description_width": ""
      }
     },
     "4911164ded404cd9a8836c7c01492a24": {
      "model_module": "@jupyter-widgets/base",
      "model_module_version": "1.2.0",
      "model_name": "LayoutModel",
      "state": {}
     },
     "49365648e2884ac3998bc667acbea10b": {
      "model_module": "@jupyter-widgets/base",
      "model_module_version": "1.2.0",
      "model_name": "LayoutModel",
      "state": {}
     },
     "49689fd1f56b41a69ecb344ffaac7b17": {
      "model_module": "@jupyter-widgets/controls",
      "model_module_version": "1.5.0",
      "model_name": "LabelModel",
      "state": {
       "layout": "IPY_MODEL_a4da1fd0fac14fb5b97d9f8cf179fe09",
       "style": "IPY_MODEL_0f2a19fb99aa469b99f13f4e69ad8cca",
       "value": "64 / 64"
      }
     },
     "496af21435da4636ba9b15d32e7183c0": {
      "model_module": "@jupyter-widgets/controls",
      "model_module_version": "1.5.0",
      "model_name": "LabelModel",
      "state": {
       "layout": "IPY_MODEL_798a617f4e7d4d14b2832367f3d4e208",
       "style": "IPY_MODEL_83c3450a0da7450f88574f155505be8c",
       "value": "64 / 64"
      }
     },
     "498dabf7dc36476ab30da0f21b93b52f": {
      "model_module": "@jupyter-widgets/controls",
      "model_module_version": "1.5.0",
      "model_name": "LabelModel",
      "state": {
       "layout": "IPY_MODEL_e4809e533bb84e059f310069580a4f8d",
       "style": "IPY_MODEL_f7f6aff898104e588b3d4cfa51a0b942",
       "value": "256 / 256"
      }
     },
     "49a99c99dd3f4f52b8f156e093926aa9": {
      "model_module": "@jupyter-widgets/base",
      "model_module_version": "1.2.0",
      "model_name": "LayoutModel",
      "state": {}
     },
     "4a4bb3fe0e9b4e4d863e08f827367bf4": {
      "model_module": "@jupyter-widgets/controls",
      "model_module_version": "1.5.0",
      "model_name": "DescriptionStyleModel",
      "state": {
       "description_width": ""
      }
     },
     "4adad40a49084de6aa96c13acbb3ae89": {
      "model_module": "@jupyter-widgets/base",
      "model_module_version": "1.2.0",
      "model_name": "LayoutModel",
      "state": {}
     },
     "4b1e27754da8431b8b7c77de431bd1c7": {
      "model_module": "@jupyter-widgets/controls",
      "model_module_version": "1.5.0",
      "model_name": "IntProgressModel",
      "state": {
       "bar_style": "success",
       "description": "100.00%",
       "layout": "IPY_MODEL_cc0be2d44e4b4e1ea1d78de195617c8a",
       "max": 205,
       "style": "IPY_MODEL_cdd613dd0a6740ffb374bdc474b8195b",
       "value": 205
      }
     },
     "4bbca3bee386487cbe9c0a9f9fe3e903": {
      "model_module": "@jupyter-widgets/base",
      "model_module_version": "1.2.0",
      "model_name": "LayoutModel",
      "state": {}
     },
     "4bc594b4e9df44de8c00c9c31254a4f2": {
      "model_module": "@jupyter-widgets/controls",
      "model_module_version": "1.5.0",
      "model_name": "HBoxModel",
      "state": {
       "children": [
        "IPY_MODEL_213a4bf5a5d04ac785a6d54293ed02e5",
        "IPY_MODEL_400f724bd2f04d36b33851bfcf460e3b"
       ],
       "layout": "IPY_MODEL_a90f83f27a7f4c6faaa01750a4ef287c"
      }
     },
     "4bd1a0d18d8447ed9242e654d3d847fc": {
      "model_module": "@jupyter-widgets/controls",
      "model_module_version": "1.5.0",
      "model_name": "LabelModel",
      "state": {
       "layout": "IPY_MODEL_d68897d447584e84897279d759f68634",
       "style": "IPY_MODEL_c9460dee863d49ccbe8cf23fc997a61e",
       "value": "3 / 204"
      }
     },
     "4bd81b800f6447c19678ec45c3da5930": {
      "model_module": "@jupyter-widgets/controls",
      "model_module_version": "1.5.0",
      "model_name": "IntProgressModel",
      "state": {
       "bar_style": "success",
       "description": "100.00%",
       "layout": "IPY_MODEL_33a7f9c7f2444dad80c714b3deb2f7f4",
       "max": 205,
       "style": "IPY_MODEL_3aa5c60d47cd4ebd815db460351de935",
       "value": 205
      }
     },
     "4c3ececfe6c24856bffacc81efa5f14f": {
      "model_module": "@jupyter-widgets/base",
      "model_module_version": "1.2.0",
      "model_name": "LayoutModel",
      "state": {}
     },
     "4c79b414a8ee408b9dcf851f1777a3c0": {
      "model_module": "@jupyter-widgets/controls",
      "model_module_version": "1.5.0",
      "model_name": "DescriptionStyleModel",
      "state": {
       "description_width": ""
      }
     },
     "4c835fb5b9514881a932dc523f46f0cd": {
      "model_module": "@jupyter-widgets/controls",
      "model_module_version": "1.5.0",
      "model_name": "LabelModel",
      "state": {
       "layout": "IPY_MODEL_8c0bb00202414c1f9184aa522667f1b4",
       "style": "IPY_MODEL_1db6a846d25b4d20a4aa4e1b1856e3a1",
       "value": "64 / 64"
      }
     },
     "4c8586d208d8437a8df44fb647eefafd": {
      "model_module": "@jupyter-widgets/controls",
      "model_module_version": "1.5.0",
      "model_name": "LabelModel",
      "state": {
       "layout": "IPY_MODEL_d7a5c81badd841c2918381b3721acf7e",
       "style": "IPY_MODEL_095d0433cb384de18b80fd3144e03222",
       "value": "255 / 255"
      }
     },
     "4cad7c021a6244f09aea02323b556efd": {
      "model_module": "@jupyter-widgets/base",
      "model_module_version": "1.2.0",
      "model_name": "LayoutModel",
      "state": {}
     },
     "4d3f3867b0ca41d1bead1c703a23abf2": {
      "model_module": "@jupyter-widgets/controls",
      "model_module_version": "1.5.0",
      "model_name": "ProgressStyleModel",
      "state": {
       "description_width": ""
      }
     },
     "4dbd7dbcede34c9e9f2afdaad12f7309": {
      "model_module": "@jupyter-widgets/base",
      "model_module_version": "1.2.0",
      "model_name": "LayoutModel",
      "state": {}
     },
     "4e4255cec911444081f21c063349fdc4": {
      "model_module": "@jupyter-widgets/controls",
      "model_module_version": "1.5.0",
      "model_name": "ProgressStyleModel",
      "state": {
       "description_width": ""
      }
     },
     "4e470e25b9a742e59efe8482fdf82b4a": {
      "model_module": "@jupyter-widgets/controls",
      "model_module_version": "1.5.0",
      "model_name": "DescriptionStyleModel",
      "state": {
       "description_width": ""
      }
     },
     "4e8505dc0412480f8def79ebcb4d6143": {
      "model_module": "@jupyter-widgets/base",
      "model_module_version": "1.2.0",
      "model_name": "LayoutModel",
      "state": {}
     },
     "4ea4b3d2337b4f7abf9dfd205981c94e": {
      "model_module": "@jupyter-widgets/base",
      "model_module_version": "1.2.0",
      "model_name": "LayoutModel",
      "state": {}
     },
     "4ecc0b6021684391b1906046990fc7cd": {
      "model_module": "@jupyter-widgets/base",
      "model_module_version": "1.2.0",
      "model_name": "LayoutModel",
      "state": {}
     },
     "4eec237f85bf44aa8616d24f578da7cf": {
      "model_module": "@jupyter-widgets/base",
      "model_module_version": "1.2.0",
      "model_name": "LayoutModel",
      "state": {}
     },
     "4f1c0ac004554a3e91be6bae8f8a9f3e": {
      "model_module": "@jupyter-widgets/controls",
      "model_module_version": "1.5.0",
      "model_name": "DescriptionStyleModel",
      "state": {
       "description_width": ""
      }
     },
     "4f50d14004424ad3bd4f0ec9ca47509d": {
      "model_module": "@jupyter-widgets/base",
      "model_module_version": "1.2.0",
      "model_name": "LayoutModel",
      "state": {}
     },
     "4fa43d7d2676426fb601c5f3b82b6218": {
      "model_module": "@jupyter-widgets/base",
      "model_module_version": "1.2.0",
      "model_name": "LayoutModel",
      "state": {}
     },
     "4fc082d581884c84ae53b4c7efb2ddc4": {
      "model_module": "@jupyter-widgets/controls",
      "model_module_version": "1.5.0",
      "model_name": "HTMLModel",
      "state": {
       "layout": "IPY_MODEL_d1be64afa31e4db49c18ad6fa8f197bc",
       "style": "IPY_MODEL_1491e8ded6134ad7b1816e5c9607ed97",
       "value": "Summarize dataset: 100%"
      }
     },
     "4ff90d1e0e4f4b42a6a3b9c5897b4bfb": {
      "model_module": "@jupyter-widgets/controls",
      "model_module_version": "1.5.0",
      "model_name": "ProgressStyleModel",
      "state": {
       "description_width": ""
      }
     },
     "4ffc8c41ccc744fa87e571e0041147a9": {
      "model_module": "@jupyter-widgets/controls",
      "model_module_version": "1.5.0",
      "model_name": "HBoxModel",
      "state": {
       "children": [
        "IPY_MODEL_be82a10b5d0c4ee2b0e361982508c74d",
        "IPY_MODEL_886f1b48c09c49ca95a92fece9fc0a41"
       ],
       "layout": "IPY_MODEL_0712c8683e1145d79e9ba7265ed49802"
      }
     },
     "501ab6a1b3924125ae4269a2f6d2fd41": {
      "model_module": "@jupyter-widgets/controls",
      "model_module_version": "1.5.0",
      "model_name": "ProgressStyleModel",
      "state": {
       "description_width": ""
      }
     },
     "501e0b6a12a4455aa65b55b02e13ebc2": {
      "model_module": "@jupyter-widgets/controls",
      "model_module_version": "1.5.0",
      "model_name": "HBoxModel",
      "state": {
       "children": [
        "IPY_MODEL_e9c45f2b3bf0414da9d1e0a701230283",
        "IPY_MODEL_a1b51823054842189ee783ee3d391d62"
       ],
       "layout": "IPY_MODEL_dd8d3b150f4843209b761092ef88383a"
      }
     },
     "502601e1b6834cffa7c13194e26be8e4": {
      "model_module": "@jupyter-widgets/controls",
      "model_module_version": "1.5.0",
      "model_name": "ProgressStyleModel",
      "state": {
       "description_width": ""
      }
     },
     "50303fb88cab412b916319b586a77009": {
      "model_module": "@jupyter-widgets/base",
      "model_module_version": "1.2.0",
      "model_name": "LayoutModel",
      "state": {}
     },
     "5047d2fa17404ac680a3de74a46b3a50": {
      "model_module": "@jupyter-widgets/base",
      "model_module_version": "1.2.0",
      "model_name": "LayoutModel",
      "state": {}
     },
     "50b4ae4466cb479488101997285db4d6": {
      "model_module": "@jupyter-widgets/base",
      "model_module_version": "1.2.0",
      "model_name": "LayoutModel",
      "state": {}
     },
     "50c9345e99f44905ac2e64e6f6275d8e": {
      "model_module": "@jupyter-widgets/base",
      "model_module_version": "1.2.0",
      "model_name": "LayoutModel",
      "state": {}
     },
     "50f95c60942f41cfab8a4608a74b147f": {
      "model_module": "@jupyter-widgets/base",
      "model_module_version": "1.2.0",
      "model_name": "LayoutModel",
      "state": {}
     },
     "5112181b60e849038828df038a1012a0": {
      "model_module": "@jupyter-widgets/controls",
      "model_module_version": "1.5.0",
      "model_name": "LabelModel",
      "state": {
       "layout": "IPY_MODEL_0e7e5e89115c4e8db332ae610bbe9e6c",
       "style": "IPY_MODEL_f829f8be1e9d440bb5c9583f169aef66",
       "value": "204 / 204"
      }
     },
     "513fedd0e1cf4227947ed1a083a4bf37": {
      "model_module": "@jupyter-widgets/controls",
      "model_module_version": "1.5.0",
      "model_name": "DescriptionStyleModel",
      "state": {
       "description_width": ""
      }
     },
     "5189720f716943f8a8fef6c6083cd2e0": {
      "model_module": "@jupyter-widgets/base",
      "model_module_version": "1.2.0",
      "model_name": "LayoutModel",
      "state": {}
     },
     "51a9fe6f64ec442c8f890250dca2f544": {
      "model_module": "@jupyter-widgets/controls",
      "model_module_version": "1.5.0",
      "model_name": "ProgressStyleModel",
      "state": {
       "description_width": ""
      }
     },
     "51d1ec07e0aa41e3a1f1d75802774340": {
      "model_module": "@jupyter-widgets/controls",
      "model_module_version": "1.5.0",
      "model_name": "DescriptionStyleModel",
      "state": {
       "description_width": ""
      }
     },
     "520a1f5e5f8541f8b9a153f04730c712": {
      "model_module": "@jupyter-widgets/controls",
      "model_module_version": "1.5.0",
      "model_name": "ProgressStyleModel",
      "state": {
       "description_width": ""
      }
     },
     "522a6ac01f054de492395788d17dfebd": {
      "model_module": "@jupyter-widgets/controls",
      "model_module_version": "1.5.0",
      "model_name": "DescriptionStyleModel",
      "state": {
       "description_width": ""
      }
     },
     "524c09a7519e422c84e5231a08175c58": {
      "model_module": "@jupyter-widgets/controls",
      "model_module_version": "1.5.0",
      "model_name": "ProgressStyleModel",
      "state": {
       "description_width": ""
      }
     },
     "52784db04e574653aefe5a9ace6313fd": {
      "model_module": "@jupyter-widgets/base",
      "model_module_version": "1.2.0",
      "model_name": "LayoutModel",
      "state": {}
     },
     "52902a0c0b704876b5c7bfd8e5cc6d0e": {
      "model_module": "@jupyter-widgets/controls",
      "model_module_version": "1.5.0",
      "model_name": "ProgressStyleModel",
      "state": {
       "description_width": ""
      }
     },
     "52a2c63956ff47b281ad656953ce15be": {
      "model_module": "@jupyter-widgets/controls",
      "model_module_version": "1.5.0",
      "model_name": "HBoxModel",
      "state": {
       "children": [
        "IPY_MODEL_4036db9534874f1b85e65e15e5439bf4",
        "IPY_MODEL_15a862da7cfa4dbdaff690d158e6e7d5"
       ],
       "layout": "IPY_MODEL_60078e1ba88940bd92b45adeaac5e0cb"
      }
     },
     "52a3445ca6ed45358c8ec9ec283c7881": {
      "model_module": "@jupyter-widgets/controls",
      "model_module_version": "1.5.0",
      "model_name": "IntProgressModel",
      "state": {
       "bar_style": "success",
       "description": "100.00%",
       "layout": "IPY_MODEL_3db1fcc545a54b52af2e0f9e5c0c53f8",
       "max": 205,
       "style": "IPY_MODEL_2f5babc9b6674441bf90eaa5df0ad141",
       "value": 205
      }
     },
     "52bc9d803ed541c98f2d699b0d54dadf": {
      "model_module": "@jupyter-widgets/controls",
      "model_module_version": "1.5.0",
      "model_name": "DescriptionStyleModel",
      "state": {
       "description_width": ""
      }
     },
     "52d54d93c670422fa1c047060ce8d095": {
      "model_module": "@jupyter-widgets/base",
      "model_module_version": "1.2.0",
      "model_name": "LayoutModel",
      "state": {}
     },
     "5331d2d724e54c3280a07e08b74c413b": {
      "model_module": "@jupyter-widgets/controls",
      "model_module_version": "1.5.0",
      "model_name": "LabelModel",
      "state": {
       "layout": "IPY_MODEL_280a84cbec0540d4b107265ce0f7d9f3",
       "style": "IPY_MODEL_43aa54a723314e45a7fce7108e9d192b",
       "value": "205 / 205"
      }
     },
     "534834b63b2c4e70801862df34363071": {
      "model_module": "@jupyter-widgets/controls",
      "model_module_version": "1.5.0",
      "model_name": "DescriptionStyleModel",
      "state": {
       "description_width": ""
      }
     },
     "5359a1c3233e476db659e7bcd43501c0": {
      "model_module": "@jupyter-widgets/controls",
      "model_module_version": "1.5.0",
      "model_name": "ProgressStyleModel",
      "state": {
       "description_width": ""
      }
     },
     "536757144a0c44fc950be232dab9d325": {
      "model_module": "@jupyter-widgets/controls",
      "model_module_version": "1.5.0",
      "model_name": "IntProgressModel",
      "state": {
       "bar_style": "success",
       "description": "100.00%",
       "layout": "IPY_MODEL_c056d90651bf40c7a054d2cf96d3d5cd",
       "max": 205,
       "style": "IPY_MODEL_2f8798dafcc94741a06038578d13ec89",
       "value": 205
      }
     },
     "539a3196d1134043bfa0151c4dc05c52": {
      "model_module": "@jupyter-widgets/controls",
      "model_module_version": "1.5.0",
      "model_name": "HBoxModel",
      "state": {
       "children": [
        "IPY_MODEL_dec1af700e56409faddeae358f7d0aa1",
        "IPY_MODEL_715f0b00d9224aa181f9b5fd9f8643e1"
       ],
       "layout": "IPY_MODEL_2d89b37b17ea493893bcf0777046cdab"
      }
     },
     "53d2a3010ddc4b498d4480cdb470979e": {
      "model_module": "@jupyter-widgets/controls",
      "model_module_version": "1.5.0",
      "model_name": "HBoxModel",
      "state": {
       "children": [
        "IPY_MODEL_00092b9d3c23445593ca00fd2c3bf4be",
        "IPY_MODEL_0901b8cd74274b1d8018b97e20b9fcc9"
       ],
       "layout": "IPY_MODEL_917e6a93f9274e8f941800bd1853009d"
      }
     },
     "53e816b9f4cc4a199ebf4d0319fcb613": {
      "model_module": "@jupyter-widgets/controls",
      "model_module_version": "1.5.0",
      "model_name": "HBoxModel",
      "state": {
       "children": [
        "IPY_MODEL_f4fc37d728ad4ccdb30c7d6eddbdb419",
        "IPY_MODEL_84426bb114004764ad1425cda20b07ab"
       ],
       "layout": "IPY_MODEL_1d95607ca03145379cfe190e2befdf75"
      }
     },
     "54814635bb51481b992e07905665402f": {
      "model_module": "@jupyter-widgets/controls",
      "model_module_version": "1.5.0",
      "model_name": "ProgressStyleModel",
      "state": {
       "description_width": ""
      }
     },
     "548a0d06fbcb49c689186ca456cfff84": {
      "model_module": "@jupyter-widgets/controls",
      "model_module_version": "1.5.0",
      "model_name": "LabelModel",
      "state": {
       "layout": "IPY_MODEL_c0f77dce29854a5488c7dd29333b7f9e",
       "style": "IPY_MODEL_3a2c08ab748549c9b9a58265f6a7bcdd",
       "value": "3 / 205"
      }
     },
     "54c197ee706e4973ae5c64f4a380256f": {
      "model_module": "@jupyter-widgets/controls",
      "model_module_version": "1.5.0",
      "model_name": "LabelModel",
      "state": {
       "layout": "IPY_MODEL_ead86bdf3083487e9c914a9f74665084",
       "style": "IPY_MODEL_0624df488ec04e3c8e40f41711b37be2",
       "value": "64 / 64"
      }
     },
     "54f771529c4f4adeb98b60459aa3f678": {
      "model_module": "@jupyter-widgets/base",
      "model_module_version": "1.2.0",
      "model_name": "LayoutModel",
      "state": {}
     },
     "551ecea25c5c44dcbd4e306a0a7a0b25": {
      "model_module": "@jupyter-widgets/base",
      "model_module_version": "1.2.0",
      "model_name": "LayoutModel",
      "state": {}
     },
     "5529dfdfcb1d47e4a3e39e843397ee7d": {
      "model_module": "@jupyter-widgets/base",
      "model_module_version": "1.2.0",
      "model_name": "LayoutModel",
      "state": {}
     },
     "553419d2d2a84a908cba122cad7b79ec": {
      "model_module": "@jupyter-widgets/base",
      "model_module_version": "1.2.0",
      "model_name": "LayoutModel",
      "state": {}
     },
     "553c4cb5181041eba2acca2ee1c9334c": {
      "model_module": "@jupyter-widgets/controls",
      "model_module_version": "1.5.0",
      "model_name": "LabelModel",
      "state": {
       "layout": "IPY_MODEL_e088b7c08239460caf6b1781a3f14572",
       "style": "IPY_MODEL_47429d9180a14e98a019a4c02f0980b5",
       "value": "204 / 204"
      }
     },
     "554eeb68c8b049c295746f82ba797e5c": {
      "model_module": "@jupyter-widgets/base",
      "model_module_version": "1.2.0",
      "model_name": "LayoutModel",
      "state": {}
     },
     "5569052afd0d409e91db3a81adf27733": {
      "model_module": "@jupyter-widgets/controls",
      "model_module_version": "1.5.0",
      "model_name": "DescriptionStyleModel",
      "state": {
       "description_width": ""
      }
     },
     "5595ea5cc67e4d908e6b4bc3e4c77fab": {
      "model_module": "@jupyter-widgets/controls",
      "model_module_version": "1.5.0",
      "model_name": "IntProgressModel",
      "state": {
       "bar_style": "success",
       "description": "100.00%",
       "layout": "IPY_MODEL_741ad8feb95f4ea5969fed435795fe7f",
       "max": 256,
       "style": "IPY_MODEL_3c4cca88e59d438a88f235a551dfa886",
       "value": 256
      }
     },
     "55a67ad1972549f0906b08ab515f4061": {
      "model_module": "@jupyter-widgets/base",
      "model_module_version": "1.2.0",
      "model_name": "LayoutModel",
      "state": {}
     },
     "5612499684724cbaa435225a698a49ff": {
      "model_module": "@jupyter-widgets/controls",
      "model_module_version": "1.5.0",
      "model_name": "DescriptionStyleModel",
      "state": {
       "description_width": ""
      }
     },
     "5617ab8f4cb94fa5b17190203f2a0cb5": {
      "model_module": "@jupyter-widgets/controls",
      "model_module_version": "1.5.0",
      "model_name": "HBoxModel",
      "state": {
       "children": [
        "IPY_MODEL_2366c6133e734c529bde460bcbd23827",
        "IPY_MODEL_cf63acece7e3422989d0e02eaf6bd435"
       ],
       "layout": "IPY_MODEL_2d8471dd07f0407097467ab488b54637"
      }
     },
     "5670a9f6d5ac4a35a870f28a30eac72b": {
      "model_module": "@jupyter-widgets/controls",
      "model_module_version": "1.5.0",
      "model_name": "IntProgressModel",
      "state": {
       "bar_style": "success",
       "description": "100.00%",
       "layout": "IPY_MODEL_38ef50b0c54b4fb9829abcde6b63a887",
       "max": 64,
       "style": "IPY_MODEL_292bc637ac02495e84f351707e68c3d6",
       "value": 64
      }
     },
     "56b9970bf90a41499acba45e8d00a385": {
      "model_module": "@jupyter-widgets/base",
      "model_module_version": "1.2.0",
      "model_name": "LayoutModel",
      "state": {}
     },
     "56bf82a52af64ddd91138128c980f712": {
      "model_module": "@jupyter-widgets/base",
      "model_module_version": "1.2.0",
      "model_name": "LayoutModel",
      "state": {}
     },
     "57152acfa2754383af5aca74b01428bf": {
      "model_module": "@jupyter-widgets/controls",
      "model_module_version": "1.5.0",
      "model_name": "HBoxModel",
      "state": {
       "children": [
        "IPY_MODEL_b36e00ff6af342e886ac3b2adced7114",
        "IPY_MODEL_5a6ccf64615844d6954bce6178c97f20"
       ],
       "layout": "IPY_MODEL_d5572365ac6b45b2b17f80a23a46982a"
      }
     },
     "57cf5027987348cdbde1cddef6f2bdd1": {
      "model_module": "@jupyter-widgets/controls",
      "model_module_version": "1.5.0",
      "model_name": "DescriptionStyleModel",
      "state": {
       "description_width": ""
      }
     },
     "57eb97542f5d4acfbb44b85543f30fd4": {
      "model_module": "@jupyter-widgets/controls",
      "model_module_version": "1.5.0",
      "model_name": "IntProgressModel",
      "state": {
       "bar_style": "success",
       "description": "100.00%",
       "layout": "IPY_MODEL_c5dfbf3adc6a4d5cb543caf06b1ba356",
       "max": 256,
       "style": "IPY_MODEL_51a9fe6f64ec442c8f890250dca2f544",
       "value": 256
      }
     },
     "5834b0128671428a83c6c08c4e30fe71": {
      "model_module": "@jupyter-widgets/controls",
      "model_module_version": "1.5.0",
      "model_name": "IntProgressModel",
      "state": {
       "bar_style": "success",
       "description": "100.00%",
       "layout": "IPY_MODEL_7528f7bab8744f438afaaf21b5c1243f",
       "max": 256,
       "style": "IPY_MODEL_31f23aa520cd400b8b1d91609641575c",
       "value": 256
      }
     },
     "58b04e7c726d453ba7b257858525973f": {
      "model_module": "@jupyter-widgets/controls",
      "model_module_version": "1.5.0",
      "model_name": "HTMLModel",
      "state": {
       "layout": "IPY_MODEL_08f51af4089c4991be5ca9badbdaf380",
       "style": "IPY_MODEL_76ebb6f73e5e47ee993bf8a4bc59c52f",
       "value": "Render HTML: 100%"
      }
     },
     "58c42b7a8abb462c99a77e4163aac136": {
      "model_module": "@jupyter-widgets/base",
      "model_module_version": "1.2.0",
      "model_name": "LayoutModel",
      "state": {}
     },
     "58f25c351b754253a6be4d0ff37ccc3a": {
      "model_module": "@jupyter-widgets/controls",
      "model_module_version": "1.5.0",
      "model_name": "DescriptionStyleModel",
      "state": {
       "description_width": ""
      }
     },
     "58f2f7da4300494682a5ef1709ceddc5": {
      "model_module": "@jupyter-widgets/base",
      "model_module_version": "1.2.0",
      "model_name": "LayoutModel",
      "state": {}
     },
     "5917b0fad7a842a5addf0f41306872a7": {
      "model_module": "@jupyter-widgets/base",
      "model_module_version": "1.2.0",
      "model_name": "LayoutModel",
      "state": {}
     },
     "591a286f6a0444ca87b7febf3c3a4782": {
      "model_module": "@jupyter-widgets/base",
      "model_module_version": "1.2.0",
      "model_name": "LayoutModel",
      "state": {}
     },
     "592ab90a09c54ec088ece000240a6a0e": {
      "model_module": "@jupyter-widgets/base",
      "model_module_version": "1.2.0",
      "model_name": "LayoutModel",
      "state": {}
     },
     "59466672ad5e4633837047ea1656f3e8": {
      "model_module": "@jupyter-widgets/base",
      "model_module_version": "1.2.0",
      "model_name": "LayoutModel",
      "state": {}
     },
     "598246e0bb394c69b9182c8e64b7eb07": {
      "model_module": "@jupyter-widgets/base",
      "model_module_version": "1.2.0",
      "model_name": "LayoutModel",
      "state": {}
     },
     "59a4dabf12634383998948540074f784": {
      "model_module": "@jupyter-widgets/controls",
      "model_module_version": "1.5.0",
      "model_name": "DescriptionStyleModel",
      "state": {
       "description_width": ""
      }
     },
     "59d0b1c208bc41eca8dfdcfcce4bfb50": {
      "model_module": "@jupyter-widgets/controls",
      "model_module_version": "1.5.0",
      "model_name": "LabelModel",
      "state": {
       "layout": "IPY_MODEL_14c1cfe0c56e4d7cbafa4967613cc6ec",
       "style": "IPY_MODEL_4464a7dff12f45ce878b76cbfe78fd81",
       "value": "64 / 64"
      }
     },
     "59f7db5715ff47ab95e609f6cf0bb57c": {
      "model_module": "@jupyter-widgets/controls",
      "model_module_version": "1.5.0",
      "model_name": "HBoxModel",
      "state": {
       "children": [
        "IPY_MODEL_657245528e7a48899ef5396eaf4760f5",
        "IPY_MODEL_8cd5adbeebe540738330645997aed17d"
       ],
       "layout": "IPY_MODEL_bd43f6805e7e40c2bd18d5cac327ecb1"
      }
     },
     "5a5140b88b2c4ce1ba3e3a4741eb7329": {
      "model_module": "@jupyter-widgets/base",
      "model_module_version": "1.2.0",
      "model_name": "LayoutModel",
      "state": {}
     },
     "5a5ad80d9276476f8eb58a2404aca03c": {
      "model_module": "@jupyter-widgets/base",
      "model_module_version": "1.2.0",
      "model_name": "LayoutModel",
      "state": {}
     },
     "5a6ccf64615844d6954bce6178c97f20": {
      "model_module": "@jupyter-widgets/controls",
      "model_module_version": "1.5.0",
      "model_name": "LabelModel",
      "state": {
       "layout": "IPY_MODEL_52784db04e574653aefe5a9ace6313fd",
       "style": "IPY_MODEL_81d61886853444018e9e363dfcf6349d",
       "value": "204 / 204"
      }
     },
     "5ab8ef0a37814355a5b0708597965a65": {
      "model_module": "@jupyter-widgets/base",
      "model_module_version": "1.2.0",
      "model_name": "LayoutModel",
      "state": {}
     },
     "5b2f792778e24152b98f1207610e0ebe": {
      "model_module": "@jupyter-widgets/base",
      "model_module_version": "1.2.0",
      "model_name": "LayoutModel",
      "state": {}
     },
     "5b9571bbc0624336a86b995bc3f54cca": {
      "model_module": "@jupyter-widgets/controls",
      "model_module_version": "1.5.0",
      "model_name": "LabelModel",
      "state": {
       "layout": "IPY_MODEL_993874634dc84346950906ce523d80fc",
       "style": "IPY_MODEL_b28167ce037c4538ae956022f078b611",
       "value": "64 / 64"
      }
     },
     "5bd300803d4c42a19745aa46a045133e": {
      "model_module": "@jupyter-widgets/controls",
      "model_module_version": "1.5.0",
      "model_name": "DescriptionStyleModel",
      "state": {
       "description_width": ""
      }
     },
     "5bdbc5b9b01f429abd77d02e58723d43": {
      "model_module": "@jupyter-widgets/controls",
      "model_module_version": "1.5.0",
      "model_name": "DescriptionStyleModel",
      "state": {
       "description_width": ""
      }
     },
     "5bdcec35c8fe4ef194cc082514e0dadc": {
      "model_module": "@jupyter-widgets/base",
      "model_module_version": "1.2.0",
      "model_name": "LayoutModel",
      "state": {}
     },
     "5bf9316165204b7c9f228cbfbbbb72ce": {
      "model_module": "@jupyter-widgets/controls",
      "model_module_version": "1.5.0",
      "model_name": "HBoxModel",
      "state": {
       "children": [
        "IPY_MODEL_57eb97542f5d4acfbb44b85543f30fd4",
        "IPY_MODEL_c88225347e71473d9f9dc2353aadc894"
       ],
       "layout": "IPY_MODEL_dd03f94701a94cf594ea1ae118d21041"
      }
     },
     "5c355b7d61a9402d97dee60aae631482": {
      "model_module": "@jupyter-widgets/controls",
      "model_module_version": "1.5.0",
      "model_name": "ProgressStyleModel",
      "state": {
       "description_width": ""
      }
     },
     "5c6dbd03d4e14edf814703d6697f85ad": {
      "model_module": "@jupyter-widgets/controls",
      "model_module_version": "1.5.0",
      "model_name": "HBoxModel",
      "state": {
       "children": [
        "IPY_MODEL_c102c7db1c1c43d59fe66e6863b5ed93",
        "IPY_MODEL_0ff64280956f4863ac1e269ae2a318bf"
       ],
       "layout": "IPY_MODEL_52d54d93c670422fa1c047060ce8d095"
      }
     },
     "5ce54845bdd3461d8b0a99263491f212": {
      "model_module": "@jupyter-widgets/base",
      "model_module_version": "1.2.0",
      "model_name": "LayoutModel",
      "state": {}
     },
     "5cede3d17f7c4d2c854cb97a46e03c10": {
      "model_module": "@jupyter-widgets/controls",
      "model_module_version": "1.5.0",
      "model_name": "IntProgressModel",
      "state": {
       "bar_style": "success",
       "description": "100.00%",
       "layout": "IPY_MODEL_0f6e2bd438434146b74f03896a4f5cf4",
       "max": 255,
       "style": "IPY_MODEL_7e0fd1350e6f45ae82cd401031cb739d",
       "value": 255
      }
     },
     "5cfbd56aa073442b9b4038eaf2df6643": {
      "model_module": "@jupyter-widgets/controls",
      "model_module_version": "1.5.0",
      "model_name": "LabelModel",
      "state": {
       "layout": "IPY_MODEL_54f771529c4f4adeb98b60459aa3f678",
       "style": "IPY_MODEL_9f433bed8aaa4dac94c77e8356e94e66",
       "value": "204 / 204"
      }
     },
     "5d3edafa936744b580454173fbcfb496": {
      "model_module": "@jupyter-widgets/controls",
      "model_module_version": "1.5.0",
      "model_name": "ProgressStyleModel",
      "state": {
       "description_width": ""
      }
     },
     "5d468c422fc54097911ca90d63e817e4": {
      "model_module": "@jupyter-widgets/base",
      "model_module_version": "1.2.0",
      "model_name": "LayoutModel",
      "state": {}
     },
     "5d7c0f3162d9444d9858f009fcd66ec6": {
      "model_module": "@jupyter-widgets/controls",
      "model_module_version": "1.5.0",
      "model_name": "ProgressStyleModel",
      "state": {
       "description_width": ""
      }
     },
     "5d9542f194ef427a9e3eafbbc736af30": {
      "model_module": "@jupyter-widgets/controls",
      "model_module_version": "1.5.0",
      "model_name": "IntProgressModel",
      "state": {
       "bar_style": "success",
       "description": "100.00%",
       "layout": "IPY_MODEL_7a8b6fdf200e459881cef8a282eba652",
       "max": 256,
       "style": "IPY_MODEL_e7d826834c6b439791aa87ef44bbc423",
       "value": 256
      }
     },
     "5d99d38bfbf545e28bcd4e73cfde288b": {
      "model_module": "@jupyter-widgets/controls",
      "model_module_version": "1.5.0",
      "model_name": "ProgressStyleModel",
      "state": {
       "description_width": ""
      }
     },
     "5da0f4d70d62479487dc26cee1f447ac": {
      "model_module": "@jupyter-widgets/controls",
      "model_module_version": "1.5.0",
      "model_name": "IntProgressModel",
      "state": {
       "bar_style": "success",
       "description": "100.00%",
       "layout": "IPY_MODEL_4bbca3bee386487cbe9c0a9f9fe3e903",
       "max": 255,
       "style": "IPY_MODEL_3d2dca83910c4bc89847004817774b91",
       "value": 255
      }
     },
     "5db828c42fd74bbca61f2412f6bdb8f3": {
      "model_module": "@jupyter-widgets/controls",
      "model_module_version": "1.5.0",
      "model_name": "IntProgressModel",
      "state": {
       "description": "1.46%",
       "layout": "IPY_MODEL_fa2cc0b807954eb997ecbfc0f8e1961f",
       "max": 205,
       "style": "IPY_MODEL_4ff90d1e0e4f4b42a6a3b9c5897b4bfb",
       "value": 3
      }
     },
     "5dc6697ea04d435d8f169352794fa498": {
      "model_module": "@jupyter-widgets/controls",
      "model_module_version": "1.5.0",
      "model_name": "LabelModel",
      "state": {
       "layout": "IPY_MODEL_37bc0c15ff714f34b7ff31980e7fd649",
       "style": "IPY_MODEL_513fedd0e1cf4227947ed1a083a4bf37",
       "value": "94 / 204"
      }
     },
     "5df26024349745b292df70f943c63e70": {
      "model_module": "@jupyter-widgets/base",
      "model_module_version": "1.2.0",
      "model_name": "LayoutModel",
      "state": {}
     },
     "5e348958f2d74170a096e375f6390420": {
      "model_module": "@jupyter-widgets/base",
      "model_module_version": "1.2.0",
      "model_name": "LayoutModel",
      "state": {}
     },
     "5ebfd507a388420e82ffc501acc5d6ca": {
      "model_module": "@jupyter-widgets/base",
      "model_module_version": "1.2.0",
      "model_name": "LayoutModel",
      "state": {}
     },
     "5f284f5130f440cf91a07bc2bba84695": {
      "model_module": "@jupyter-widgets/base",
      "model_module_version": "1.2.0",
      "model_name": "LayoutModel",
      "state": {}
     },
     "5f471c2581904bcfb2fd4741d4bc0fc6": {
      "model_module": "@jupyter-widgets/base",
      "model_module_version": "1.2.0",
      "model_name": "LayoutModel",
      "state": {}
     },
     "5f83782d9b2c47ecb290f8236d95f3a0": {
      "model_module": "@jupyter-widgets/controls",
      "model_module_version": "1.5.0",
      "model_name": "DescriptionStyleModel",
      "state": {
       "description_width": ""
      }
     },
     "5faef8e9549343e3a3aca1400bf2633e": {
      "model_module": "@jupyter-widgets/controls",
      "model_module_version": "1.5.0",
      "model_name": "ProgressStyleModel",
      "state": {
       "description_width": ""
      }
     },
     "5fd95e4d1c184f119d152167ade214b0": {
      "model_module": "@jupyter-widgets/base",
      "model_module_version": "1.2.0",
      "model_name": "LayoutModel",
      "state": {}
     },
     "5fe99f90236341ea944e84d63673d5c6": {
      "model_module": "@jupyter-widgets/controls",
      "model_module_version": "1.5.0",
      "model_name": "ProgressStyleModel",
      "state": {
       "description_width": ""
      }
     },
     "60078e1ba88940bd92b45adeaac5e0cb": {
      "model_module": "@jupyter-widgets/base",
      "model_module_version": "1.2.0",
      "model_name": "LayoutModel",
      "state": {}
     },
     "605ca9b634104e6aaa67774b92107773": {
      "model_module": "@jupyter-widgets/base",
      "model_module_version": "1.2.0",
      "model_name": "LayoutModel",
      "state": {}
     },
     "6098bfd5281d477f815dd793e447f0ee": {
      "model_module": "@jupyter-widgets/controls",
      "model_module_version": "1.5.0",
      "model_name": "DescriptionStyleModel",
      "state": {
       "description_width": ""
      }
     },
     "60a1fd00bcb849619ad96661b98cc1e3": {
      "model_module": "@jupyter-widgets/controls",
      "model_module_version": "1.5.0",
      "model_name": "HBoxModel",
      "state": {
       "children": [
        "IPY_MODEL_bdcadfe4e97c4c4f8da7a6052a48c422",
        "IPY_MODEL_5b9571bbc0624336a86b995bc3f54cca"
       ],
       "layout": "IPY_MODEL_5a5ad80d9276476f8eb58a2404aca03c"
      }
     },
     "61c05c8cc812425896fe2c3311e9c261": {
      "model_module": "@jupyter-widgets/controls",
      "model_module_version": "1.5.0",
      "model_name": "IntProgressModel",
      "state": {
       "description": "1.47%",
       "layout": "IPY_MODEL_35cb8437a34b4a8691e89fc95e6b2cda",
       "max": 204,
       "style": "IPY_MODEL_ad1ff853b39046738620255ff7c0b0f9",
       "value": 3
      }
     },
     "620d3a753ec449dab72815f57c83e91b": {
      "model_module": "@jupyter-widgets/controls",
      "model_module_version": "1.5.0",
      "model_name": "LabelModel",
      "state": {
       "layout": "IPY_MODEL_f803ff81afcb42e89c80828b76bd2eaf",
       "style": "IPY_MODEL_534834b63b2c4e70801862df34363071",
       "value": "64 / 64"
      }
     },
     "626bf84cda904f999ba98aa856191e72": {
      "model_module": "@jupyter-widgets/base",
      "model_module_version": "1.2.0",
      "model_name": "LayoutModel",
      "state": {}
     },
     "626e99ee33854fea893590a177c077e8": {
      "model_module": "@jupyter-widgets/base",
      "model_module_version": "1.2.0",
      "model_name": "LayoutModel",
      "state": {}
     },
     "6282cd1f07bc41dcab49d426e71548f5": {
      "model_module": "@jupyter-widgets/controls",
      "model_module_version": "1.5.0",
      "model_name": "LabelModel",
      "state": {
       "layout": "IPY_MODEL_b87116607cc549dc81ac3ea204ee2a1a",
       "style": "IPY_MODEL_99c04871b9c44606b1c779bd153b535a",
       "value": "256 / 256"
      }
     },
     "62904e5d9c934cb0a053f1cd93d79b89": {
      "model_module": "@jupyter-widgets/base",
      "model_module_version": "1.2.0",
      "model_name": "LayoutModel",
      "state": {}
     },
     "63ac507581e74746a664cc8d7f598863": {
      "model_module": "@jupyter-widgets/controls",
      "model_module_version": "1.5.0",
      "model_name": "HBoxModel",
      "state": {
       "children": [
        "IPY_MODEL_b44cadeedabe4003915f8e482aed1e70",
        "IPY_MODEL_957c4920daeb490e9c35dd0557ea595b"
       ],
       "layout": "IPY_MODEL_d1955e9ea68f458db610760420dae51d"
      }
     },
     "63c7783dd7c54c67bea22a79873245ba": {
      "model_module": "@jupyter-widgets/controls",
      "model_module_version": "1.5.0",
      "model_name": "LabelModel",
      "state": {
       "layout": "IPY_MODEL_aa0a2e06e3684ad7993a4ea3b1210e77",
       "style": "IPY_MODEL_35c007f3fbdb4675bf67e02873ff9641",
       "value": "255 / 255"
      }
     },
     "640e23ea05954fcdbc6a4a45a2973314": {
      "model_module": "@jupyter-widgets/controls",
      "model_module_version": "1.5.0",
      "model_name": "HBoxModel",
      "state": {
       "children": [
        "IPY_MODEL_022c5e2e44d64f9288986cc21f6d1eb0",
        "IPY_MODEL_020e17c7ccfd47158d876b1328e0ecd6"
       ],
       "layout": "IPY_MODEL_4ecc0b6021684391b1906046990fc7cd"
      }
     },
     "645857a9ba544f869a03282c141433d3": {
      "model_module": "@jupyter-widgets/controls",
      "model_module_version": "1.5.0",
      "model_name": "ProgressStyleModel",
      "state": {
       "description_width": ""
      }
     },
     "646e3baab94446df891ce88f28b7a10e": {
      "model_module": "@jupyter-widgets/base",
      "model_module_version": "1.2.0",
      "model_name": "LayoutModel",
      "state": {}
     },
     "64a03ef5ea3f44d29eabb397152a1d21": {
      "model_module": "@jupyter-widgets/controls",
      "model_module_version": "1.5.0",
      "model_name": "DescriptionStyleModel",
      "state": {
       "description_width": ""
      }
     },
     "65184418e2cf457da6f2e86515955fe4": {
      "model_module": "@jupyter-widgets/base",
      "model_module_version": "1.2.0",
      "model_name": "LayoutModel",
      "state": {}
     },
     "65186ed4e2ad4103b8563e77eb0114c0": {
      "model_module": "@jupyter-widgets/controls",
      "model_module_version": "1.5.0",
      "model_name": "HBoxModel",
      "state": {
       "children": [
        "IPY_MODEL_6c7bd379e78542b2bbca311eef5dedeb",
        "IPY_MODEL_ec646e3ff4f34b6a89fcdbff261c4712"
       ],
       "layout": "IPY_MODEL_69ff0f9ca46f45ba897a05734797e592"
      }
     },
     "652ee911485541309d02131c5e819908": {
      "model_module": "@jupyter-widgets/controls",
      "model_module_version": "1.5.0",
      "model_name": "HBoxModel",
      "state": {
       "children": [
        "IPY_MODEL_f59f177a9cf24a6b8491eccf50020945",
        "IPY_MODEL_3d06e157cc66470c8d341eb3774e625f"
       ],
       "layout": "IPY_MODEL_77cf138aea3a4e98a82bc914b83879f5"
      }
     },
     "65349db844724b7bb28daa89a3d81a7b": {
      "model_module": "@jupyter-widgets/base",
      "model_module_version": "1.2.0",
      "model_name": "LayoutModel",
      "state": {}
     },
     "65371b8a3f374ad78384e69a3b914bff": {
      "model_module": "@jupyter-widgets/controls",
      "model_module_version": "1.5.0",
      "model_name": "HBoxModel",
      "state": {
       "children": [
        "IPY_MODEL_8aa0b55098cd4b8e8445671e2a600c02",
        "IPY_MODEL_206e613a41944c3e95b57ea5b219ba00"
       ],
       "layout": "IPY_MODEL_29efee2e1b05494490c7cb238518ad3c"
      }
     },
     "654a1469d7ba4b46ae1b33575837183a": {
      "model_module": "@jupyter-widgets/controls",
      "model_module_version": "1.5.0",
      "model_name": "ProgressStyleModel",
      "state": {
       "description_width": ""
      }
     },
     "657245528e7a48899ef5396eaf4760f5": {
      "model_module": "@jupyter-widgets/controls",
      "model_module_version": "1.5.0",
      "model_name": "IntProgressModel",
      "state": {
       "description": "1.47%",
       "layout": "IPY_MODEL_de624b9dc9f64728945203b556c46153",
       "max": 204,
       "style": "IPY_MODEL_b5d4b9e157634c74bd931adcfb3e7937",
       "value": 3
      }
     },
     "667a3fcc2217433984752352898532e3": {
      "model_module": "@jupyter-widgets/controls",
      "model_module_version": "1.5.0",
      "model_name": "LabelModel",
      "state": {
       "layout": "IPY_MODEL_fa6eca5e7795482e8ba3a243c7d62e19",
       "style": "IPY_MODEL_0d02a5718b2d4ff28771b01dd8610525",
       "value": "64 / 64"
      }
     },
     "66c5ded82fac48dc8da158057ad1a932": {
      "model_module": "@jupyter-widgets/controls",
      "model_module_version": "1.5.0",
      "model_name": "LabelModel",
      "state": {
       "layout": "IPY_MODEL_8b29701942014322bff1f9958a799b84",
       "style": "IPY_MODEL_b7f26a0014554ffc8ce32012f0adeacb",
       "value": "205 / 205"
      }
     },
     "6715fe5dda2d4153a31ba7334e09ebf5": {
      "model_module": "@jupyter-widgets/controls",
      "model_module_version": "1.5.0",
      "model_name": "HBoxModel",
      "state": {
       "children": [
        "IPY_MODEL_ed30741efdbb4707aa38b0b74fdc6632",
        "IPY_MODEL_1a742b44b8814f73ae66846521009028"
       ],
       "layout": "IPY_MODEL_b5a3e11ae7364b0fb8bdec194e39ed98"
      }
     },
     "676bcadb164344c3bffc08009a1b5c90": {
      "model_module": "@jupyter-widgets/controls",
      "model_module_version": "1.5.0",
      "model_name": "IntProgressModel",
      "state": {
       "bar_style": "success",
       "description": "100.00%",
       "layout": "IPY_MODEL_e61cfa56486b41e5be9f367c4906e85a",
       "max": 256,
       "style": "IPY_MODEL_4726fd8b745e4dd4b750c9c2691cf6af",
       "value": 256
      }
     },
     "677232161cbb43bf9e1c1c9b848d3508": {
      "model_module": "@jupyter-widgets/controls",
      "model_module_version": "1.5.0",
      "model_name": "IntProgressModel",
      "state": {
       "bar_style": "success",
       "description": "100.00%",
       "layout": "IPY_MODEL_b97c6ed4b1ff4ec096cad9f2531edd09",
       "max": 204,
       "style": "IPY_MODEL_bf6d4c6194ec4b31a03fe99c4a15b8ea",
       "value": 204
      }
     },
     "67b27e4c6dc44da2b0f73e7e59a437c2": {
      "model_module": "@jupyter-widgets/base",
      "model_module_version": "1.2.0",
      "model_name": "LayoutModel",
      "state": {}
     },
     "67ff50217f224119a994180dd03b2a3d": {
      "model_module": "@jupyter-widgets/base",
      "model_module_version": "1.2.0",
      "model_name": "LayoutModel",
      "state": {}
     },
     "68095c51301148bab54b1d34ba4bf1a1": {
      "model_module": "@jupyter-widgets/controls",
      "model_module_version": "1.5.0",
      "model_name": "DescriptionStyleModel",
      "state": {
       "description_width": ""
      }
     },
     "680e48f3e15245ad8d868adf1e57771b": {
      "model_module": "@jupyter-widgets/base",
      "model_module_version": "1.2.0",
      "model_name": "LayoutModel",
      "state": {}
     },
     "681107207f09481b910d3a2a473eb017": {
      "model_module": "@jupyter-widgets/controls",
      "model_module_version": "1.5.0",
      "model_name": "ProgressStyleModel",
      "state": {
       "description_width": ""
      }
     },
     "68dffea0273d4100abb86cd75a03e81f": {
      "model_module": "@jupyter-widgets/controls",
      "model_module_version": "1.5.0",
      "model_name": "ProgressStyleModel",
      "state": {
       "description_width": ""
      }
     },
     "68f378822f5a4710bf5c74f1b021c57b": {
      "model_module": "@jupyter-widgets/base",
      "model_module_version": "1.2.0",
      "model_name": "LayoutModel",
      "state": {}
     },
     "6977ce9f042e4358bcdec3a930543bb3": {
      "model_module": "@jupyter-widgets/controls",
      "model_module_version": "1.5.0",
      "model_name": "HBoxModel",
      "state": {
       "children": [
        "IPY_MODEL_37bc5d9800b84abf9da903a592ae4bd5",
        "IPY_MODEL_43bd21f08a92455a97732620821c3626"
       ],
       "layout": "IPY_MODEL_5b2f792778e24152b98f1207610e0ebe"
      }
     },
     "69d1eb81201d43afb384088adba1e105": {
      "model_module": "@jupyter-widgets/controls",
      "model_module_version": "1.5.0",
      "model_name": "IntProgressModel",
      "state": {
       "description": "1.47%",
       "layout": "IPY_MODEL_6ee1399080f64e6d82091cbfafff028b",
       "max": 204,
       "style": "IPY_MODEL_0b355cd295594b139aa2278289e9105d",
       "value": 3
      }
     },
     "69ff0f9ca46f45ba897a05734797e592": {
      "model_module": "@jupyter-widgets/base",
      "model_module_version": "1.2.0",
      "model_name": "LayoutModel",
      "state": {}
     },
     "6a14cc509aa848ba8abeb2dc6d32d09e": {
      "model_module": "@jupyter-widgets/base",
      "model_module_version": "1.2.0",
      "model_name": "LayoutModel",
      "state": {}
     },
     "6a2720b6f4ed4c528c9cfc492c2a5796": {
      "model_module": "@jupyter-widgets/controls",
      "model_module_version": "1.5.0",
      "model_name": "DescriptionStyleModel",
      "state": {
       "description_width": ""
      }
     },
     "6a3adf84f9944aa297cff1c53cba9376": {
      "model_module": "@jupyter-widgets/controls",
      "model_module_version": "1.5.0",
      "model_name": "DescriptionStyleModel",
      "state": {
       "description_width": ""
      }
     },
     "6b9d7021ce3e4bb59375f252474d1e57": {
      "model_module": "@jupyter-widgets/controls",
      "model_module_version": "1.5.0",
      "model_name": "HBoxModel",
      "state": {
       "children": [
        "IPY_MODEL_5670a9f6d5ac4a35a870f28a30eac72b",
        "IPY_MODEL_d5aec11e818a4ca296e67bd1920765b6"
       ],
       "layout": "IPY_MODEL_073af58e979041e68cd0860d736160cb"
      }
     },
     "6bd31bf4ce4c486f8e6184f7443d6f70": {
      "model_module": "@jupyter-widgets/base",
      "model_module_version": "1.2.0",
      "model_name": "LayoutModel",
      "state": {}
     },
     "6bd9d1cdd6744c498ec2d5e622c8b571": {
      "model_module": "@jupyter-widgets/controls",
      "model_module_version": "1.5.0",
      "model_name": "DescriptionStyleModel",
      "state": {
       "description_width": ""
      }
     },
     "6c039d4ccd3c409d9dc587ba92365561": {
      "model_module": "@jupyter-widgets/controls",
      "model_module_version": "1.5.0",
      "model_name": "HBoxModel",
      "state": {
       "children": [
        "IPY_MODEL_eddd5730b2634016817cfbe9e195aa9b",
        "IPY_MODEL_d0cca0a84aa54851828f416c04e8b5a3"
       ],
       "layout": "IPY_MODEL_dd8bbfb4767141b5838c8b833c63abb2"
      }
     },
     "6c26e904d28f44b9842d84f500f9010b": {
      "model_module": "@jupyter-widgets/controls",
      "model_module_version": "1.5.0",
      "model_name": "IntProgressModel",
      "state": {
       "bar_style": "success",
       "description": "100.00%",
       "layout": "IPY_MODEL_f8cb5e2d38544fa1a61a0f808bf68e79",
       "max": 204,
       "style": "IPY_MODEL_7b72db83c0044b88bea20c03e2249528",
       "value": 204
      }
     },
     "6c2f7aa055224d91af88eba4eeb9e556": {
      "model_module": "@jupyter-widgets/base",
      "model_module_version": "1.2.0",
      "model_name": "LayoutModel",
      "state": {}
     },
     "6c2feeacf687486493d7146d3dd7a741": {
      "model_module": "@jupyter-widgets/controls",
      "model_module_version": "1.5.0",
      "model_name": "LabelModel",
      "state": {
       "layout": "IPY_MODEL_0bebfc1c3e7342cc8d463be9ed705b88",
       "style": "IPY_MODEL_ff3a92ac53cb4e38b0f59575f61c019a",
       "value": "256 / 256"
      }
     },
     "6c4cebb1fd25425cae2deec5faa09a96": {
      "model_module": "@jupyter-widgets/controls",
      "model_module_version": "1.5.0",
      "model_name": "ProgressStyleModel",
      "state": {
       "description_width": ""
      }
     },
     "6c61a72a44884a13902f154186f59c20": {
      "model_module": "@jupyter-widgets/controls",
      "model_module_version": "1.5.0",
      "model_name": "HBoxModel",
      "state": {
       "children": [
        "IPY_MODEL_f66f78e3c0a94d508ac3b6e68f5ab8f2",
        "IPY_MODEL_0a38f5c2407745bfb7f14ab59865ae0d"
       ],
       "layout": "IPY_MODEL_07c6c0ce169a4d77b181a88e2922514d"
      }
     },
     "6c7b6178ee984a4bb0ace9189da93241": {
      "model_module": "@jupyter-widgets/controls",
      "model_module_version": "1.5.0",
      "model_name": "HBoxModel",
      "state": {
       "children": [
        "IPY_MODEL_2ec966cdab20489da4942fbd0ac6267d",
        "IPY_MODEL_d425ed0d1b6b4317b6c2cbff7dd8b873"
       ],
       "layout": "IPY_MODEL_ba4e9154875a46ecbc0ab705869a53b5"
      }
     },
     "6c7bd379e78542b2bbca311eef5dedeb": {
      "model_module": "@jupyter-widgets/controls",
      "model_module_version": "1.5.0",
      "model_name": "IntProgressModel",
      "state": {
       "bar_style": "success",
       "description": "100.00%",
       "layout": "IPY_MODEL_c16f9d9883584f9588dcef4179839398",
       "max": 256,
       "style": "IPY_MODEL_4559641ab730409a8d722f6a07aac273",
       "value": 256
      }
     },
     "6ce17b26b3f14cd391370e2b3a06943e": {
      "model_module": "@jupyter-widgets/base",
      "model_module_version": "1.2.0",
      "model_name": "LayoutModel",
      "state": {}
     },
     "6ce2804ac1d04c8f9888fcddf3fff405": {
      "model_module": "@jupyter-widgets/base",
      "model_module_version": "1.2.0",
      "model_name": "LayoutModel",
      "state": {}
     },
     "6cfce7d0099f4b8ba6d221b1622b72a7": {
      "model_module": "@jupyter-widgets/controls",
      "model_module_version": "1.5.0",
      "model_name": "DescriptionStyleModel",
      "state": {
       "description_width": ""
      }
     },
     "6d1ea4123c2f4ef5a8be555bf16dd4e7": {
      "model_module": "@jupyter-widgets/controls",
      "model_module_version": "1.5.0",
      "model_name": "DescriptionStyleModel",
      "state": {
       "description_width": ""
      }
     },
     "6d347a0c36264b028ad46754c03610cf": {
      "model_module": "@jupyter-widgets/base",
      "model_module_version": "1.2.0",
      "model_name": "LayoutModel",
      "state": {}
     },
     "6d64a860bf1b46c786ba1ae8c40afc33": {
      "model_module": "@jupyter-widgets/base",
      "model_module_version": "1.2.0",
      "model_name": "LayoutModel",
      "state": {}
     },
     "6d94c569e2e34362b6979b2287d50a0d": {
      "model_module": "@jupyter-widgets/controls",
      "model_module_version": "1.5.0",
      "model_name": "HBoxModel",
      "state": {
       "children": [
        "IPY_MODEL_cc3dc0ad73264a5aa23876a672d0d8a9",
        "IPY_MODEL_716be9fb761040a0aaa34d343bfe9923"
       ],
       "layout": "IPY_MODEL_abbe711446ad444a8e47f9fbaeffce35"
      }
     },
     "6da5dbc33a6f4e089453f14929461f11": {
      "model_module": "@jupyter-widgets/controls",
      "model_module_version": "1.5.0",
      "model_name": "DescriptionStyleModel",
      "state": {
       "description_width": ""
      }
     },
     "6dc89968039146e8beff96534fb223e4": {
      "model_module": "@jupyter-widgets/controls",
      "model_module_version": "1.5.0",
      "model_name": "DescriptionStyleModel",
      "state": {
       "description_width": ""
      }
     },
     "6e6ae30269f74afcbdc2704222613b88": {
      "model_module": "@jupyter-widgets/base",
      "model_module_version": "1.2.0",
      "model_name": "LayoutModel",
      "state": {}
     },
     "6ee1399080f64e6d82091cbfafff028b": {
      "model_module": "@jupyter-widgets/base",
      "model_module_version": "1.2.0",
      "model_name": "LayoutModel",
      "state": {}
     },
     "6ee19bcc5b9f481a8c0366420d33c291": {
      "model_module": "@jupyter-widgets/controls",
      "model_module_version": "1.5.0",
      "model_name": "LabelModel",
      "state": {
       "layout": "IPY_MODEL_a54d38a0aafc47cda5ea1c0592ddfee0",
       "style": "IPY_MODEL_724836b774c14c4a87429ec0060be6e4",
       "value": "205 / 205"
      }
     },
     "6ef86490ebe743cc88034c9e375d02d9": {
      "model_module": "@jupyter-widgets/controls",
      "model_module_version": "1.5.0",
      "model_name": "HBoxModel",
      "state": {
       "children": [
        "IPY_MODEL_daf7be62f6cc4d7e8d39bd522814cdcf",
        "IPY_MODEL_25e6b3f861da4ba497ec6d4c4a8dfe85"
       ],
       "layout": "IPY_MODEL_d79930d58c374248b427f2d5f9339b61"
      }
     },
     "6f1a581f003d460cad000bb483329cdd": {
      "model_module": "@jupyter-widgets/controls",
      "model_module_version": "1.5.0",
      "model_name": "IntProgressModel",
      "state": {
       "bar_style": "success",
       "description": "100.00%",
       "layout": "IPY_MODEL_95e25f044ff34f3996abd28cf575b84d",
       "max": 205,
       "style": "IPY_MODEL_233b46f212d24e1bb5c6be6e1c7da415",
       "value": 205
      }
     },
     "6f312cde07bf423087330b72518b1ed8": {
      "model_module": "@jupyter-widgets/controls",
      "model_module_version": "1.5.0",
      "model_name": "LabelModel",
      "state": {
       "layout": "IPY_MODEL_e2f6c655c5a849f18504e3c9f3843d4d",
       "style": "IPY_MODEL_64a03ef5ea3f44d29eabb397152a1d21",
       "value": "3 / 204"
      }
     },
     "6f57198cc85f4afe971a96fe6e3fe457": {
      "model_module": "@jupyter-widgets/base",
      "model_module_version": "1.2.0",
      "model_name": "LayoutModel",
      "state": {}
     },
     "6f74d6d20416459db79d47fb21ca896b": {
      "model_module": "@jupyter-widgets/controls",
      "model_module_version": "1.5.0",
      "model_name": "LabelModel",
      "state": {
       "layout": "IPY_MODEL_0af1fe5e31eb4bab8b0f587b1d9c148c",
       "style": "IPY_MODEL_a0f1edc0166b4bf189d039ed0eee11f0",
       "value": "256 / 256"
      }
     },
     "70725c51ed4547dab6b986dee13694ea": {
      "model_module": "@jupyter-widgets/base",
      "model_module_version": "1.2.0",
      "model_name": "LayoutModel",
      "state": {}
     },
     "707b82b63e4748ba91ad8184b72a3bdb": {
      "model_module": "@jupyter-widgets/base",
      "model_module_version": "1.2.0",
      "model_name": "LayoutModel",
      "state": {}
     },
     "70b6697d24d74dc3bab1a93bc2bcec95": {
      "model_module": "@jupyter-widgets/controls",
      "model_module_version": "1.5.0",
      "model_name": "IntProgressModel",
      "state": {
       "bar_style": "success",
       "description": "100.00%",
       "layout": "IPY_MODEL_92be7e68d38047b3b8173a6b48a6aaa9",
       "max": 256,
       "style": "IPY_MODEL_818d645aadd14c4194205d89ff93fb69",
       "value": 256
      }
     },
     "713fd996b9fb4f29988d80e4a16b09e7": {
      "model_module": "@jupyter-widgets/base",
      "model_module_version": "1.2.0",
      "model_name": "LayoutModel",
      "state": {}
     },
     "714b388839ec4f5687f065c5b0dfcd59": {
      "model_module": "@jupyter-widgets/controls",
      "model_module_version": "1.5.0",
      "model_name": "HBoxModel",
      "state": {
       "children": [
        "IPY_MODEL_70b6697d24d74dc3bab1a93bc2bcec95",
        "IPY_MODEL_785ff8bdfe1e4e6cae90a7f256ea13fe"
       ],
       "layout": "IPY_MODEL_25263ed1c9554c9e9e551a18df9867f0"
      }
     },
     "715f0b00d9224aa181f9b5fd9f8643e1": {
      "model_module": "@jupyter-widgets/controls",
      "model_module_version": "1.5.0",
      "model_name": "LabelModel",
      "state": {
       "layout": "IPY_MODEL_922f3d1f0dd745c8bf067d944ad336d9",
       "style": "IPY_MODEL_fb6af273516a42548af15886a1f00b14",
       "value": "3 / 204"
      }
     },
     "716be9fb761040a0aaa34d343bfe9923": {
      "model_module": "@jupyter-widgets/controls",
      "model_module_version": "1.5.0",
      "model_name": "LabelModel",
      "state": {
       "layout": "IPY_MODEL_8f4e4f519a2b45d5aeb255121af76257",
       "style": "IPY_MODEL_86ec2043586e4781b83a5e2021a30ee2",
       "value": "256 / 256"
      }
     },
     "71763e24573c4d9693875f30b32894fe": {
      "model_module": "@jupyter-widgets/controls",
      "model_module_version": "1.5.0",
      "model_name": "IntProgressModel",
      "state": {
       "description": "1.47%",
       "layout": "IPY_MODEL_31bd5c21486a4240a367ca6308517695",
       "max": 204,
       "style": "IPY_MODEL_91abe382ea6f49f49f86ff867adc5c13",
       "value": 3
      }
     },
     "717e10ba51704c39805b8cfc23554d1f": {
      "model_module": "@jupyter-widgets/controls",
      "model_module_version": "1.5.0",
      "model_name": "LabelModel",
      "state": {
       "layout": "IPY_MODEL_58c42b7a8abb462c99a77e4163aac136",
       "style": "IPY_MODEL_c0755735b42349d7a93ea35ab00938ec",
       "value": "0 / 1022"
      }
     },
     "722410d2fa2e4dd99f2689cd809d2b8e": {
      "model_module": "@jupyter-widgets/base",
      "model_module_version": "1.2.0",
      "model_name": "LayoutModel",
      "state": {}
     },
     "7235c435a8904597b196c5b43732a7fb": {
      "model_module": "@jupyter-widgets/base",
      "model_module_version": "1.2.0",
      "model_name": "LayoutModel",
      "state": {}
     },
     "723acd5430ee457fb072567e6c56c0e7": {
      "model_module": "@jupyter-widgets/controls",
      "model_module_version": "1.5.0",
      "model_name": "DescriptionStyleModel",
      "state": {
       "description_width": ""
      }
     },
     "723ffe9cf4ac489b84b6abea93469900": {
      "model_module": "@jupyter-widgets/controls",
      "model_module_version": "1.5.0",
      "model_name": "ProgressStyleModel",
      "state": {
       "description_width": ""
      }
     },
     "724836b774c14c4a87429ec0060be6e4": {
      "model_module": "@jupyter-widgets/controls",
      "model_module_version": "1.5.0",
      "model_name": "DescriptionStyleModel",
      "state": {
       "description_width": ""
      }
     },
     "724b8d5e0434465da8d0e0b01c95c6b6": {
      "model_module": "@jupyter-widgets/controls",
      "model_module_version": "1.5.0",
      "model_name": "IntProgressModel",
      "state": {
       "bar_style": "success",
       "description": "100.00%",
       "layout": "IPY_MODEL_5047d2fa17404ac680a3de74a46b3a50",
       "max": 205,
       "style": "IPY_MODEL_8cc28ce70bb64aa0a4948998e965921e",
       "value": 205
      }
     },
     "728eae14248347028b5581dea5250c41": {
      "model_module": "@jupyter-widgets/base",
      "model_module_version": "1.2.0",
      "model_name": "LayoutModel",
      "state": {}
     },
     "72c19365ba5f4fc699c8465ea5c9a48f": {
      "model_module": "@jupyter-widgets/base",
      "model_module_version": "1.2.0",
      "model_name": "LayoutModel",
      "state": {}
     },
     "735a2912ac154100935b10b099718444": {
      "model_module": "@jupyter-widgets/controls",
      "model_module_version": "1.5.0",
      "model_name": "DescriptionStyleModel",
      "state": {
       "description_width": ""
      }
     },
     "73600f6c8921470e94c4f9fc6264bfdf": {
      "model_module": "@jupyter-widgets/base",
      "model_module_version": "1.2.0",
      "model_name": "LayoutModel",
      "state": {}
     },
     "7392da2be37746a4bd21f309273c7a97": {
      "model_module": "@jupyter-widgets/base",
      "model_module_version": "1.2.0",
      "model_name": "LayoutModel",
      "state": {}
     },
     "73a4b9bc894248109d54c2d1abd9e1db": {
      "model_module": "@jupyter-widgets/base",
      "model_module_version": "1.2.0",
      "model_name": "LayoutModel",
      "state": {}
     },
     "73af1f10717d45558fab1703b5f29c93": {
      "model_module": "@jupyter-widgets/base",
      "model_module_version": "1.2.0",
      "model_name": "LayoutModel",
      "state": {}
     },
     "73b03bfc53a3468b837e184c82ea51ce": {
      "model_module": "@jupyter-widgets/base",
      "model_module_version": "1.2.0",
      "model_name": "LayoutModel",
      "state": {}
     },
     "73c481c6051e4b42896838da1b3ceab2": {
      "model_module": "@jupyter-widgets/base",
      "model_module_version": "1.2.0",
      "model_name": "LayoutModel",
      "state": {}
     },
     "741ad8feb95f4ea5969fed435795fe7f": {
      "model_module": "@jupyter-widgets/base",
      "model_module_version": "1.2.0",
      "model_name": "LayoutModel",
      "state": {}
     },
     "744ae0c0cfff40fca1dee27dda868d59": {
      "model_module": "@jupyter-widgets/controls",
      "model_module_version": "1.5.0",
      "model_name": "DescriptionStyleModel",
      "state": {
       "description_width": ""
      }
     },
     "74747e7b173e4cfb83ee0cbb4eea5b3c": {
      "model_module": "@jupyter-widgets/controls",
      "model_module_version": "1.5.0",
      "model_name": "HBoxModel",
      "state": {
       "children": [
        "IPY_MODEL_5da0f4d70d62479487dc26cee1f447ac",
        "IPY_MODEL_cf55e84345e5437d8c1cde75f8ef1ee3"
       ],
       "layout": "IPY_MODEL_3aefe7172da44f2a854ae6729393a253"
      }
     },
     "748d1009ad2d4950bc2e05bb8ad58c20": {
      "model_module": "@jupyter-widgets/controls",
      "model_module_version": "1.5.0",
      "model_name": "ProgressStyleModel",
      "state": {
       "description_width": ""
      }
     },
     "74af9d06441347f3861bde713cb947e5": {
      "model_module": "@jupyter-widgets/controls",
      "model_module_version": "1.5.0",
      "model_name": "HBoxModel",
      "state": {
       "children": [
        "IPY_MODEL_f493f8fec81d4b4dbdba69220f0c4c44",
        "IPY_MODEL_78968dd79f2a47989dd511da600a2ff0"
       ],
       "layout": "IPY_MODEL_f9f0b424b9fa41e0b8d0f14207b9417f"
      }
     },
     "74de50600c86478da217a9c772085d58": {
      "model_module": "@jupyter-widgets/controls",
      "model_module_version": "1.5.0",
      "model_name": "HBoxModel",
      "state": {
       "children": [
        "IPY_MODEL_12d6cbf444644f9cbbca4f71d7a55174",
        "IPY_MODEL_0b80abb0525a427e953c9afb1a259c90"
       ],
       "layout": "IPY_MODEL_d91943b298c944d5917842ba58edd3d5"
      }
     },
     "74e6aa56c9014d5db421c8678d84edf0": {
      "model_module": "@jupyter-widgets/base",
      "model_module_version": "1.2.0",
      "model_name": "LayoutModel",
      "state": {}
     },
     "74e7ff02dedf495fb8a285c3867bfb3f": {
      "model_module": "@jupyter-widgets/controls",
      "model_module_version": "1.5.0",
      "model_name": "DescriptionStyleModel",
      "state": {
       "description_width": ""
      }
     },
     "74fb355dd21a441d879b68d52f8f4335": {
      "model_module": "@jupyter-widgets/base",
      "model_module_version": "1.2.0",
      "model_name": "LayoutModel",
      "state": {}
     },
     "7528f7bab8744f438afaaf21b5c1243f": {
      "model_module": "@jupyter-widgets/base",
      "model_module_version": "1.2.0",
      "model_name": "LayoutModel",
      "state": {}
     },
     "7548704ebde64c399fcc441c10d3a65c": {
      "model_module": "@jupyter-widgets/base",
      "model_module_version": "1.2.0",
      "model_name": "LayoutModel",
      "state": {}
     },
     "75588aa5bbc64b508d5cd5cd6f57463a": {
      "model_module": "@jupyter-widgets/base",
      "model_module_version": "1.2.0",
      "model_name": "LayoutModel",
      "state": {}
     },
     "759eeeb619ce43f8952eaaa42fe0a956": {
      "model_module": "@jupyter-widgets/controls",
      "model_module_version": "1.5.0",
      "model_name": "LabelModel",
      "state": {
       "layout": "IPY_MODEL_4dbd7dbcede34c9e9f2afdaad12f7309",
       "style": "IPY_MODEL_7fe56f7878ef4df0af012ac21b5304d0",
       "value": "205 / 205"
      }
     },
     "75c0e0ac1d9741ecb20b7167868c3c54": {
      "model_module": "@jupyter-widgets/controls",
      "model_module_version": "1.5.0",
      "model_name": "HBoxModel",
      "state": {
       "children": [
        "IPY_MODEL_f6c9479e2aea47d99dd37bc066bb81f2",
        "IPY_MODEL_ee4c66eff4d34dc0b8cd6894280cf79a"
       ],
       "layout": "IPY_MODEL_50c9345e99f44905ac2e64e6f6275d8e"
      }
     },
     "75f2132f56f447eea976f92009ae203a": {
      "model_module": "@jupyter-widgets/base",
      "model_module_version": "1.2.0",
      "model_name": "LayoutModel",
      "state": {}
     },
     "7612563ae03841a2955b7b79fc2e5019": {
      "model_module": "@jupyter-widgets/controls",
      "model_module_version": "1.5.0",
      "model_name": "VBoxModel",
      "state": {
       "children": [
        "IPY_MODEL_90dc9ec66e8c4db489858d5885b2687c",
        "IPY_MODEL_176362c86b794fa8ad1c58c26110cb7e",
        "IPY_MODEL_d975076ff7db4aeb9fbda049224f6fc5",
        "IPY_MODEL_462d460779db4b59b540340830556066",
        "IPY_MODEL_20c7b5edcf3c4f0ab2d1a7268ffb1e9e",
        "IPY_MODEL_027e704755524b378bd3849851543d63",
        "IPY_MODEL_418b3e695cd041b587453bc6729f7056",
        "IPY_MODEL_60a1fd00bcb849619ad96661b98cc1e3",
        "IPY_MODEL_a4c202b5af564a0fae0efe7c3c99721d",
        "IPY_MODEL_9afa42de47d14cfd8b144f724e43029b",
        "IPY_MODEL_0a17b18a1dc54989a43ea40bc0dd2944",
        "IPY_MODEL_1f1d35d662b542edbdb95415e98e592b",
        "IPY_MODEL_a19df8d1aacb46ae8c0cb9b1e7502570",
        "IPY_MODEL_c2aa851a10ec491ab85481c382d27659",
        "IPY_MODEL_a6834c65dab0461e957582f42c5e1a5a",
        "IPY_MODEL_362f57f60730454783342e643a1d8d41"
       ],
       "layout": "IPY_MODEL_d86c64dc50b84a63b440539a3146b49b"
      }
     },
     "769b3eae4773448ba9489f1459af32cf": {
      "model_module": "@jupyter-widgets/base",
      "model_module_version": "1.2.0",
      "model_name": "LayoutModel",
      "state": {}
     },
     "76c370c3d2f44d15b469ec9070463cd6": {
      "model_module": "@jupyter-widgets/controls",
      "model_module_version": "1.5.0",
      "model_name": "LabelModel",
      "state": {
       "layout": "IPY_MODEL_8b58d6e0324d4335ab193e82831a2398",
       "style": "IPY_MODEL_5bdbc5b9b01f429abd77d02e58723d43",
       "value": "204 / 204"
      }
     },
     "76c4a97b60eb45a58a2f25c6358eca29": {
      "model_module": "@jupyter-widgets/base",
      "model_module_version": "1.2.0",
      "model_name": "LayoutModel",
      "state": {}
     },
     "76ddbcfc5edb453fa521568309593363": {
      "model_module": "@jupyter-widgets/controls",
      "model_module_version": "1.5.0",
      "model_name": "VBoxModel",
      "state": {
       "children": [
        "IPY_MODEL_040883e60fac4e43aaf0ce6baec74159",
        "IPY_MODEL_112745416785437eb97ac6b7b9fdd864",
        "IPY_MODEL_35183ea377f84327b73950a27a157e8a",
        "IPY_MODEL_aaa96a4a69464600820e201300322a85",
        "IPY_MODEL_f8007eaa1bc44771a22d206ddfa61abe",
        "IPY_MODEL_52a2c63956ff47b281ad656953ce15be",
        "IPY_MODEL_cd6398c442a04e6bbb7d63eca238ad8e",
        "IPY_MODEL_63ac507581e74746a664cc8d7f598863",
        "IPY_MODEL_74de50600c86478da217a9c772085d58",
        "IPY_MODEL_bd48b5e3aaf24d87a0161a458b6ca5c2",
        "IPY_MODEL_0c56c49d30ed42978937ee47e667b35e",
        "IPY_MODEL_59f7db5715ff47ab95e609f6cf0bb57c",
        "IPY_MODEL_eadab10c54a44c83857bdad2d74566e0",
        "IPY_MODEL_0c310197603348228926b52ac1907fb2",
        "IPY_MODEL_ba25548af36349b887cd2ccd44458ebc",
        "IPY_MODEL_af4a112eddb04bd091c2c5e19d632bfe"
       ],
       "layout": "IPY_MODEL_330ea2fc105c4ff9836457e1e87f288f"
      }
     },
     "76e619b789dd46a0a4e54ce0a4cd0efc": {
      "model_module": "@jupyter-widgets/base",
      "model_module_version": "1.2.0",
      "model_name": "LayoutModel",
      "state": {}
     },
     "76ebb6f73e5e47ee993bf8a4bc59c52f": {
      "model_module": "@jupyter-widgets/controls",
      "model_module_version": "1.5.0",
      "model_name": "DescriptionStyleModel",
      "state": {
       "description_width": ""
      }
     },
     "772475dd17944f9daa8cef7fd71f78c8": {
      "model_module": "@jupyter-widgets/controls",
      "model_module_version": "1.5.0",
      "model_name": "LabelModel",
      "state": {
       "layout": "IPY_MODEL_a0f3b611e19743d18b6af2d154ff4b41",
       "style": "IPY_MODEL_a66a6ce96e3f444c990c9bfcf45f28db",
       "value": "204 / 204"
      }
     },
     "77411c519306482389fcc847ad902ba2": {
      "model_module": "@jupyter-widgets/base",
      "model_module_version": "1.2.0",
      "model_name": "LayoutModel",
      "state": {}
     },
     "7766b001eb8e41eebb715ad01202d021": {
      "model_module": "@jupyter-widgets/controls",
      "model_module_version": "1.5.0",
      "model_name": "ProgressStyleModel",
      "state": {
       "description_width": ""
      }
     },
     "77816fbf32614d69ae108be9602bdef3": {
      "model_module": "@jupyter-widgets/base",
      "model_module_version": "1.2.0",
      "model_name": "LayoutModel",
      "state": {}
     },
     "77cf138aea3a4e98a82bc914b83879f5": {
      "model_module": "@jupyter-widgets/base",
      "model_module_version": "1.2.0",
      "model_name": "LayoutModel",
      "state": {}
     },
     "77fa77f0d3464d32b69e29d15127061e": {
      "model_module": "@jupyter-widgets/controls",
      "model_module_version": "1.5.0",
      "model_name": "ProgressStyleModel",
      "state": {
       "description_width": ""
      }
     },
     "7824b0220f0646a4a51691ce0d56620e": {
      "model_module": "@jupyter-widgets/base",
      "model_module_version": "1.2.0",
      "model_name": "LayoutModel",
      "state": {}
     },
     "785ff8bdfe1e4e6cae90a7f256ea13fe": {
      "model_module": "@jupyter-widgets/controls",
      "model_module_version": "1.5.0",
      "model_name": "LabelModel",
      "state": {
       "layout": "IPY_MODEL_8403fe8e7dff4af58cda4817ec7d7cf6",
       "style": "IPY_MODEL_e7213e05b3f4452cba0576c7b3115adb",
       "value": "256 / 256"
      }
     },
     "78928a76c2c9422ba03cc499b69c3389": {
      "model_module": "@jupyter-widgets/controls",
      "model_module_version": "1.5.0",
      "model_name": "LabelModel",
      "state": {
       "layout": "IPY_MODEL_00ca1f5827b949879679331ed1b4d191",
       "style": "IPY_MODEL_351ddc453b0d4feb96ef01a62e386943",
       "value": "255 / 255"
      }
     },
     "78968dd79f2a47989dd511da600a2ff0": {
      "model_module": "@jupyter-widgets/controls",
      "model_module_version": "1.5.0",
      "model_name": "LabelModel",
      "state": {
       "layout": "IPY_MODEL_49365648e2884ac3998bc667acbea10b",
       "style": "IPY_MODEL_16c980f626094d87a3893298f18bee39",
       "value": "255 / 255"
      }
     },
     "789a7b43810a461cb9ca6e41efc7a828": {
      "model_module": "@jupyter-widgets/base",
      "model_module_version": "1.2.0",
      "model_name": "LayoutModel",
      "state": {}
     },
     "78a6e7e8f73045e38cb34d7e911f3599": {
      "model_module": "@jupyter-widgets/controls",
      "model_module_version": "1.5.0",
      "model_name": "LabelModel",
      "state": {
       "layout": "IPY_MODEL_bc50ce0e02364b0cb4db0aa733abaa18",
       "style": "IPY_MODEL_3940ddfbaf4845a5bb52c2781d100f1f",
       "value": "64 / 64"
      }
     },
     "78c14b7450594787bb3af2fe0eeef2cb": {
      "model_module": "@jupyter-widgets/base",
      "model_module_version": "1.2.0",
      "model_name": "LayoutModel",
      "state": {}
     },
     "78c9c5ae383d435a90497b4c3949c168": {
      "model_module": "@jupyter-widgets/controls",
      "model_module_version": "1.5.0",
      "model_name": "ProgressStyleModel",
      "state": {
       "description_width": ""
      }
     },
     "79236eccac1e46198b8eadc5699a34ec": {
      "model_module": "@jupyter-widgets/base",
      "model_module_version": "1.2.0",
      "model_name": "LayoutModel",
      "state": {}
     },
     "7938573b75b04b0abe709f6580abf5b7": {
      "model_module": "@jupyter-widgets/controls",
      "model_module_version": "1.5.0",
      "model_name": "IntProgressModel",
      "state": {
       "bar_style": "success",
       "description": "100.00%",
       "layout": "IPY_MODEL_cec2d927b149462190466ce87743abfc",
       "max": 255,
       "style": "IPY_MODEL_645857a9ba544f869a03282c141433d3",
       "value": 255
      }
     },
     "794ae1e2a4cf4fb8b16190709ba1eb62": {
      "model_module": "@jupyter-widgets/base",
      "model_module_version": "1.2.0",
      "model_name": "LayoutModel",
      "state": {}
     },
     "798a617f4e7d4d14b2832367f3d4e208": {
      "model_module": "@jupyter-widgets/base",
      "model_module_version": "1.2.0",
      "model_name": "LayoutModel",
      "state": {}
     },
     "79b71b5d91e1405487e28c0c6664abb2": {
      "model_module": "@jupyter-widgets/controls",
      "model_module_version": "1.5.0",
      "model_name": "FloatProgressModel",
      "state": {
       "bar_style": "success",
       "layout": "IPY_MODEL_707b82b63e4748ba91ad8184b72a3bdb",
       "max": 11,
       "style": "IPY_MODEL_b0dc15a8d1da42c9ab3abaa5a2b5a076",
       "value": 11
      }
     },
     "79e5cebf6f5c46c3918eadb86a965822": {
      "model_module": "@jupyter-widgets/controls",
      "model_module_version": "1.5.0",
      "model_name": "ProgressStyleModel",
      "state": {
       "description_width": ""
      }
     },
     "7a6a95ff0c174db9968d5ae052ffc84f": {
      "model_module": "@jupyter-widgets/base",
      "model_module_version": "1.2.0",
      "model_name": "LayoutModel",
      "state": {}
     },
     "7a8b6fdf200e459881cef8a282eba652": {
      "model_module": "@jupyter-widgets/base",
      "model_module_version": "1.2.0",
      "model_name": "LayoutModel",
      "state": {}
     },
     "7ac0eca5ddc143cf9d0741934a1a4920": {
      "model_module": "@jupyter-widgets/base",
      "model_module_version": "1.2.0",
      "model_name": "LayoutModel",
      "state": {}
     },
     "7acab5a87c554e1093c1ded1a31d7094": {
      "model_module": "@jupyter-widgets/controls",
      "model_module_version": "1.5.0",
      "model_name": "LabelModel",
      "state": {
       "layout": "IPY_MODEL_4eec237f85bf44aa8616d24f578da7cf",
       "style": "IPY_MODEL_a264f4a9235d4ac99757a10307c66a17",
       "value": "205 / 205"
      }
     },
     "7aff816c42fb476482e1f309f5ae9d95": {
      "model_module": "@jupyter-widgets/controls",
      "model_module_version": "1.5.0",
      "model_name": "LabelModel",
      "state": {
       "layout": "IPY_MODEL_36664733461e420f82c7bf3df78be2c5",
       "style": "IPY_MODEL_8d616c7b87284f55a6bc6fb51c30a3af",
       "value": "64 / 64"
      }
     },
     "7b205c29b9764a0da65922325f0bf0fa": {
      "model_module": "@jupyter-widgets/base",
      "model_module_version": "1.2.0",
      "model_name": "LayoutModel",
      "state": {}
     },
     "7b72db83c0044b88bea20c03e2249528": {
      "model_module": "@jupyter-widgets/controls",
      "model_module_version": "1.5.0",
      "model_name": "ProgressStyleModel",
      "state": {
       "description_width": ""
      }
     },
     "7b8e3018e2c54e50869166dbf6a5bc7d": {
      "model_module": "@jupyter-widgets/base",
      "model_module_version": "1.2.0",
      "model_name": "LayoutModel",
      "state": {}
     },
     "7bfa79d15d3748489ccae549fe4b6979": {
      "model_module": "@jupyter-widgets/controls",
      "model_module_version": "1.5.0",
      "model_name": "IntProgressModel",
      "state": {
       "bar_style": "success",
       "description": "100.00%",
       "layout": "IPY_MODEL_626bf84cda904f999ba98aa856191e72",
       "max": 205,
       "style": "IPY_MODEL_7d73ef113edc4b4186c3440310500d7b",
       "value": 205
      }
     },
     "7c14531148b2453c805f35a19101202a": {
      "model_module": "@jupyter-widgets/controls",
      "model_module_version": "1.5.0",
      "model_name": "DescriptionStyleModel",
      "state": {
       "description_width": ""
      }
     },
     "7c848c1ea64c4c578c82d0ca49ef8bf6": {
      "model_module": "@jupyter-widgets/controls",
      "model_module_version": "1.5.0",
      "model_name": "LabelModel",
      "state": {
       "layout": "IPY_MODEL_970ed0fb369543e7a7de300e40dea7df",
       "style": "IPY_MODEL_de766f9c9bbf4a04b71f5c9c08bed767",
       "value": "64 / 64"
      }
     },
     "7d3dc06188ab4d0883e7363103bc3cbd": {
      "model_module": "@jupyter-widgets/controls",
      "model_module_version": "1.5.0",
      "model_name": "LabelModel",
      "state": {
       "layout": "IPY_MODEL_386132ae2c8d4c00a2e06013f7253930",
       "style": "IPY_MODEL_30c1e8e5515243d685923a6bb63183df",
       "value": "205 / 205"
      }
     },
     "7d73ef113edc4b4186c3440310500d7b": {
      "model_module": "@jupyter-widgets/controls",
      "model_module_version": "1.5.0",
      "model_name": "ProgressStyleModel",
      "state": {
       "description_width": ""
      }
     },
     "7d7bc0c8362c472abc91558ea7590cc6": {
      "model_module": "@jupyter-widgets/base",
      "model_module_version": "1.2.0",
      "model_name": "LayoutModel",
      "state": {}
     },
     "7dc14a23a416486ca8bce3e1e4ce2620": {
      "model_module": "@jupyter-widgets/controls",
      "model_module_version": "1.5.0",
      "model_name": "LabelModel",
      "state": {
       "layout": "IPY_MODEL_7f41eb346f254a678291ede7ffd8516f",
       "style": "IPY_MODEL_a34be8d904c2431e927b5d0155d35b1e",
       "value": "255 / 255"
      }
     },
     "7dc7799170c740a1a0389fa5f831311f": {
      "model_module": "@jupyter-widgets/controls",
      "model_module_version": "1.5.0",
      "model_name": "IntProgressModel",
      "state": {
       "bar_style": "success",
       "description": "100.00%",
       "layout": "IPY_MODEL_9c783df329854a1c99664c8b094cda42",
       "max": 204,
       "style": "IPY_MODEL_ec4a34d3c6164c76b48396e6c9024665",
       "value": 204
      }
     },
     "7df4113a9fac433e8ec83de7cb023619": {
      "model_module": "@jupyter-widgets/controls",
      "model_module_version": "1.5.0",
      "model_name": "IntProgressModel",
      "state": {
       "bar_style": "success",
       "description": "100.00%",
       "layout": "IPY_MODEL_a32cf33cbb9f4853b01d1f48ce5d6acd",
       "max": 64,
       "style": "IPY_MODEL_a04e5f8a9c6c4bbd87437cccbfca792b",
       "value": 64
      }
     },
     "7e0fd1350e6f45ae82cd401031cb739d": {
      "model_module": "@jupyter-widgets/controls",
      "model_module_version": "1.5.0",
      "model_name": "ProgressStyleModel",
      "state": {
       "description_width": ""
      }
     },
     "7e3f19d4a95a494b94d4ec963125a31f": {
      "model_module": "@jupyter-widgets/base",
      "model_module_version": "1.2.0",
      "model_name": "LayoutModel",
      "state": {}
     },
     "7e7808695d0c4e96a524ca93d1a07bf2": {
      "model_module": "@jupyter-widgets/base",
      "model_module_version": "1.2.0",
      "model_name": "LayoutModel",
      "state": {}
     },
     "7e9082cfbd5b46ce859b4c8df558bac4": {
      "model_module": "@jupyter-widgets/controls",
      "model_module_version": "1.5.0",
      "model_name": "LabelModel",
      "state": {
       "layout": "IPY_MODEL_d4dd8e31338c4c73b503de5331d95f81",
       "style": "IPY_MODEL_6a2720b6f4ed4c528c9cfc492c2a5796",
       "value": "256 / 256"
      }
     },
     "7eb28466cada4757bd01444eb0912d22": {
      "model_module": "@jupyter-widgets/base",
      "model_module_version": "1.2.0",
      "model_name": "LayoutModel",
      "state": {}
     },
     "7eb5ca8f19894abbafb7fc3a471e66f8": {
      "model_module": "@jupyter-widgets/controls",
      "model_module_version": "1.5.0",
      "model_name": "ProgressStyleModel",
      "state": {
       "description_width": ""
      }
     },
     "7eb64d4d44a24a19be3b98e37d181c06": {
      "model_module": "@jupyter-widgets/base",
      "model_module_version": "1.2.0",
      "model_name": "LayoutModel",
      "state": {}
     },
     "7ee9987c326343e29aa1f9333b8d02c1": {
      "model_module": "@jupyter-widgets/base",
      "model_module_version": "1.2.0",
      "model_name": "LayoutModel",
      "state": {}
     },
     "7ef765c742d7424190bb3a08edc5176e": {
      "model_module": "@jupyter-widgets/controls",
      "model_module_version": "1.5.0",
      "model_name": "LabelModel",
      "state": {
       "layout": "IPY_MODEL_79236eccac1e46198b8eadc5699a34ec",
       "style": "IPY_MODEL_fe344ce9da604952873b854b6f29c547",
       "value": "26 / 204"
      }
     },
     "7f1b972fc86b4bc790474dfc4cc126d1": {
      "model_module": "@jupyter-widgets/controls",
      "model_module_version": "1.5.0",
      "model_name": "HBoxModel",
      "state": {
       "children": [
        "IPY_MODEL_09fcfeef4d7e4e79b8403dac1e260fc0",
        "IPY_MODEL_3885a368afb644ff987986500ee18fb4"
       ],
       "layout": "IPY_MODEL_3420ce6075a04a54b88b65548fceee55"
      }
     },
     "7f41eb346f254a678291ede7ffd8516f": {
      "model_module": "@jupyter-widgets/base",
      "model_module_version": "1.2.0",
      "model_name": "LayoutModel",
      "state": {}
     },
     "7f52be89963c43c4b873bf24c808858d": {
      "model_module": "@jupyter-widgets/controls",
      "model_module_version": "1.5.0",
      "model_name": "HBoxModel",
      "state": {
       "children": [
        "IPY_MODEL_86183cb92eeb4c99aa556cf6dc56310d",
        "IPY_MODEL_b4ef274c49c24d4dad2f9c29e7d77040"
       ],
       "layout": "IPY_MODEL_defa39cb6fa2448c9c84f84595547507"
      }
     },
     "7f5bfa9ccf4b41c3bef729baa13d6033": {
      "model_module": "@jupyter-widgets/base",
      "model_module_version": "1.2.0",
      "model_name": "LayoutModel",
      "state": {}
     },
     "7fcd5fe8a4e34a329bf57d5b57c8ed3f": {
      "model_module": "@jupyter-widgets/base",
      "model_module_version": "1.2.0",
      "model_name": "LayoutModel",
      "state": {}
     },
     "7fe257fe5a224240b0e59aa4c252ef76": {
      "model_module": "@jupyter-widgets/controls",
      "model_module_version": "1.5.0",
      "model_name": "HBoxModel",
      "state": {
       "children": [
        "IPY_MODEL_e23c3e3960b54b17a827cbb6f33a0a99",
        "IPY_MODEL_1371b571a16c4f9eb941c6446dd2dab5"
       ],
       "layout": "IPY_MODEL_f83281cc67234f52b72d1bb9ff249632"
      }
     },
     "7fe56f7878ef4df0af012ac21b5304d0": {
      "model_module": "@jupyter-widgets/controls",
      "model_module_version": "1.5.0",
      "model_name": "DescriptionStyleModel",
      "state": {
       "description_width": ""
      }
     },
     "7ff29739a6294736bbf60678f0c64443": {
      "model_module": "@jupyter-widgets/controls",
      "model_module_version": "1.5.0",
      "model_name": "LabelModel",
      "state": {
       "layout": "IPY_MODEL_4004ade1ab604548b55a171fc75e73ae",
       "style": "IPY_MODEL_d2f44b79416347dfb2cef556e21bf468",
       "value": "3 / 205"
      }
     },
     "7ff7f2eccb4c4474883a2976ee498b96": {
      "model_module": "@jupyter-widgets/controls",
      "model_module_version": "1.5.0",
      "model_name": "DescriptionStyleModel",
      "state": {
       "description_width": ""
      }
     },
     "800efb750e6c4787b03e7b34c2704a07": {
      "model_module": "@jupyter-widgets/base",
      "model_module_version": "1.2.0",
      "model_name": "LayoutModel",
      "state": {}
     },
     "806312246b3f459bbe3ba67c96481137": {
      "model_module": "@jupyter-widgets/base",
      "model_module_version": "1.2.0",
      "model_name": "LayoutModel",
      "state": {}
     },
     "80a4b06984e8414eb3b6e0364c6bcca2": {
      "model_module": "@jupyter-widgets/base",
      "model_module_version": "1.2.0",
      "model_name": "LayoutModel",
      "state": {}
     },
     "8129e3a1ea554c73b0636a2af42e17ab": {
      "model_module": "@jupyter-widgets/base",
      "model_module_version": "1.2.0",
      "model_name": "LayoutModel",
      "state": {}
     },
     "8137037069714c979c90b5cf3870b7d7": {
      "model_module": "@jupyter-widgets/controls",
      "model_module_version": "1.5.0",
      "model_name": "DescriptionStyleModel",
      "state": {
       "description_width": ""
      }
     },
     "818d645aadd14c4194205d89ff93fb69": {
      "model_module": "@jupyter-widgets/controls",
      "model_module_version": "1.5.0",
      "model_name": "ProgressStyleModel",
      "state": {
       "description_width": ""
      }
     },
     "81984a737be549e3b7a808eb80452483": {
      "model_module": "@jupyter-widgets/base",
      "model_module_version": "1.2.0",
      "model_name": "LayoutModel",
      "state": {}
     },
     "81d61886853444018e9e363dfcf6349d": {
      "model_module": "@jupyter-widgets/controls",
      "model_module_version": "1.5.0",
      "model_name": "DescriptionStyleModel",
      "state": {
       "description_width": ""
      }
     },
     "81dabdc41dd64ff4aac29b1710042857": {
      "model_module": "@jupyter-widgets/base",
      "model_module_version": "1.2.0",
      "model_name": "LayoutModel",
      "state": {}
     },
     "81db551de68849f5a0014413e2623c48": {
      "model_module": "@jupyter-widgets/controls",
      "model_module_version": "1.5.0",
      "model_name": "IntProgressModel",
      "state": {
       "bar_style": "success",
       "description": "100.00%",
       "layout": "IPY_MODEL_6c2f7aa055224d91af88eba4eeb9e556",
       "max": 64,
       "style": "IPY_MODEL_da668ebdb15142a5a876c718666ccaef",
       "value": 64
      }
     },
     "81f02795bee2429b94631260137275af": {
      "model_module": "@jupyter-widgets/base",
      "model_module_version": "1.2.0",
      "model_name": "LayoutModel",
      "state": {}
     },
     "82396e2d47e145d9b12de14a736a9409": {
      "model_module": "@jupyter-widgets/base",
      "model_module_version": "1.2.0",
      "model_name": "LayoutModel",
      "state": {}
     },
     "827d1c4f1c184d19ad6eb6f6a844d261": {
      "model_module": "@jupyter-widgets/base",
      "model_module_version": "1.2.0",
      "model_name": "LayoutModel",
      "state": {}
     },
     "828d1e6bce354170b1642a251a995cbe": {
      "model_module": "@jupyter-widgets/controls",
      "model_module_version": "1.5.0",
      "model_name": "HBoxModel",
      "state": {
       "children": [
        "IPY_MODEL_e40e183b48ba4112addce330b2a325eb",
        "IPY_MODEL_4c8586d208d8437a8df44fb647eefafd"
       ],
       "layout": "IPY_MODEL_95c2af85ec664019bbee981e4090da71"
      }
     },
     "829c4c513efb452689139496e273a1a2": {
      "model_module": "@jupyter-widgets/controls",
      "model_module_version": "1.5.0",
      "model_name": "IntProgressModel",
      "state": {
       "bar_style": "success",
       "description": "100.00%",
       "layout": "IPY_MODEL_d7c40e59c4994c50b79eb0b517e23147",
       "max": 64,
       "style": "IPY_MODEL_9571814c00c94c9e8bd553871df05fdb",
       "value": 64
      }
     },
     "82a26183afee44f39581bfeddbfdfeb4": {
      "model_module": "@jupyter-widgets/base",
      "model_module_version": "1.2.0",
      "model_name": "LayoutModel",
      "state": {}
     },
     "82beee94e47a4c5dad00c35ea58efb0d": {
      "model_module": "@jupyter-widgets/controls",
      "model_module_version": "1.5.0",
      "model_name": "HBoxModel",
      "state": {
       "children": [
        "IPY_MODEL_922cbbb4fa2f443eac5fee62d35dfe7b",
        "IPY_MODEL_bce2d3d1de9b4e06b986fcc223a997bc"
       ],
       "layout": "IPY_MODEL_8deb28e3435a41f08e67f12264b02edc"
      }
     },
     "82fcc14f6dc94309a9d8ac04f891f4ec": {
      "model_module": "@jupyter-widgets/controls",
      "model_module_version": "1.5.0",
      "model_name": "HBoxModel",
      "state": {
       "children": [
        "IPY_MODEL_71763e24573c4d9693875f30b32894fe",
        "IPY_MODEL_99665ef6c658422e8e532ba5ccdf4e1b"
       ],
       "layout": "IPY_MODEL_03f3ea48e63b48e0817e6f4b7b786f12"
      }
     },
     "836ac4ff3c6c4d3cbc87016aee35e5ed": {
      "model_module": "@jupyter-widgets/controls",
      "model_module_version": "1.5.0",
      "model_name": "DescriptionStyleModel",
      "state": {
       "description_width": ""
      }
     },
     "83c3450a0da7450f88574f155505be8c": {
      "model_module": "@jupyter-widgets/controls",
      "model_module_version": "1.5.0",
      "model_name": "DescriptionStyleModel",
      "state": {
       "description_width": ""
      }
     },
     "83fe3b151d6f497abc6caec3feeff78e": {
      "model_module": "@jupyter-widgets/controls",
      "model_module_version": "1.5.0",
      "model_name": "ProgressStyleModel",
      "state": {
       "description_width": ""
      }
     },
     "8403fe8e7dff4af58cda4817ec7d7cf6": {
      "model_module": "@jupyter-widgets/base",
      "model_module_version": "1.2.0",
      "model_name": "LayoutModel",
      "state": {}
     },
     "8416c4d9c74f48a2b3bf7a00d072c46a": {
      "model_module": "@jupyter-widgets/controls",
      "model_module_version": "1.5.0",
      "model_name": "IntProgressModel",
      "state": {
       "bar_style": "success",
       "description": "100.00%",
       "layout": "IPY_MODEL_264422d9cf2e4453aef5c23d627868e9",
       "max": 63,
       "style": "IPY_MODEL_97679353f6e946109d189fcb92250f70",
       "value": 63
      }
     },
     "84424ecbf16e4bc18936431cb5eeabe9": {
      "model_module": "@jupyter-widgets/base",
      "model_module_version": "1.2.0",
      "model_name": "LayoutModel",
      "state": {}
     },
     "84426bb114004764ad1425cda20b07ab": {
      "model_module": "@jupyter-widgets/controls",
      "model_module_version": "1.5.0",
      "model_name": "LabelModel",
      "state": {
       "layout": "IPY_MODEL_713fd996b9fb4f29988d80e4a16b09e7",
       "style": "IPY_MODEL_d908421d048048dfb1f208e4edb6ed31",
       "value": "255 / 255"
      }
     },
     "84cb501e46eb4b03bfe61fc07b015784": {
      "model_module": "@jupyter-widgets/controls",
      "model_module_version": "1.5.0",
      "model_name": "DescriptionStyleModel",
      "state": {
       "description_width": ""
      }
     },
     "84df54f404ab4c00a633dfa41f4b361d": {
      "model_module": "@jupyter-widgets/base",
      "model_module_version": "1.2.0",
      "model_name": "LayoutModel",
      "state": {}
     },
     "84eec0d677a64ef4ad72a30232017ab6": {
      "model_module": "@jupyter-widgets/controls",
      "model_module_version": "1.5.0",
      "model_name": "IntProgressModel",
      "state": {
       "bar_style": "success",
       "description": "100.00%",
       "layout": "IPY_MODEL_2341630bfc3b4661a82e71a26f56fac5",
       "max": 64,
       "style": "IPY_MODEL_b33a82ab864943af94b03700e7a4881d",
       "value": 64
      }
     },
     "85690270a14d414e89e6b806503ee528": {
      "model_module": "@jupyter-widgets/controls",
      "model_module_version": "1.5.0",
      "model_name": "ProgressStyleModel",
      "state": {
       "description_width": ""
      }
     },
     "85b3cb731a9041869b52ce33140c0b99": {
      "model_module": "@jupyter-widgets/base",
      "model_module_version": "1.2.0",
      "model_name": "LayoutModel",
      "state": {}
     },
     "86183cb92eeb4c99aa556cf6dc56310d": {
      "model_module": "@jupyter-widgets/controls",
      "model_module_version": "1.5.0",
      "model_name": "IntProgressModel",
      "state": {
       "bar_style": "success",
       "description": "100.00%",
       "layout": "IPY_MODEL_8740bcd6e83f47348d711b1bee43a2ac",
       "max": 64,
       "style": "IPY_MODEL_f56912b585414bd8b734b76f061eef4c",
       "value": 64
      }
     },
     "863e1253200047d4bdf195c932485b95": {
      "model_module": "@jupyter-widgets/base",
      "model_module_version": "1.2.0",
      "model_name": "LayoutModel",
      "state": {}
     },
     "86ec2043586e4781b83a5e2021a30ee2": {
      "model_module": "@jupyter-widgets/controls",
      "model_module_version": "1.5.0",
      "model_name": "DescriptionStyleModel",
      "state": {
       "description_width": ""
      }
     },
     "8740bcd6e83f47348d711b1bee43a2ac": {
      "model_module": "@jupyter-widgets/base",
      "model_module_version": "1.2.0",
      "model_name": "LayoutModel",
      "state": {}
     },
     "87e232a894dc4a57bfe6f5e7108822dc": {
      "model_module": "@jupyter-widgets/controls",
      "model_module_version": "1.5.0",
      "model_name": "DescriptionStyleModel",
      "state": {
       "description_width": ""
      }
     },
     "8808471bf1194de1a78349c1bf80b026": {
      "model_module": "@jupyter-widgets/controls",
      "model_module_version": "1.5.0",
      "model_name": "DescriptionStyleModel",
      "state": {
       "description_width": ""
      }
     },
     "886f1b48c09c49ca95a92fece9fc0a41": {
      "model_module": "@jupyter-widgets/controls",
      "model_module_version": "1.5.0",
      "model_name": "LabelModel",
      "state": {
       "layout": "IPY_MODEL_f628848b5eeb41a0afde17f79274ddec",
       "style": "IPY_MODEL_bdf97f7df24346fba9164f78c497f024",
       "value": "204 / 204"
      }
     },
     "88bafd8fd24c46bca0cfc89ac88f5447": {
      "model_module": "@jupyter-widgets/base",
      "model_module_version": "1.2.0",
      "model_name": "LayoutModel",
      "state": {}
     },
     "88c748834dec4b66aa11c7456d494d2d": {
      "model_module": "@jupyter-widgets/controls",
      "model_module_version": "1.5.0",
      "model_name": "IntProgressModel",
      "state": {
       "bar_style": "success",
       "description": "100.00%",
       "layout": "IPY_MODEL_a6390b87673849fc811154b90c6417c6",
       "max": 204,
       "style": "IPY_MODEL_5d3edafa936744b580454173fbcfb496",
       "value": 204
      }
     },
     "88d04696ed094d1faa07bdf38216281a": {
      "model_module": "@jupyter-widgets/base",
      "model_module_version": "1.2.0",
      "model_name": "LayoutModel",
      "state": {}
     },
     "898474e31b3146a79b7bbd7d23317616": {
      "model_module": "@jupyter-widgets/base",
      "model_module_version": "1.2.0",
      "model_name": "LayoutModel",
      "state": {}
     },
     "89ca6e6dba934c76bc4064958d7491f5": {
      "model_module": "@jupyter-widgets/controls",
      "model_module_version": "1.5.0",
      "model_name": "DescriptionStyleModel",
      "state": {
       "description_width": ""
      }
     },
     "89d774803acc4fb9897bbf8aa5c484ce": {
      "model_module": "@jupyter-widgets/controls",
      "model_module_version": "1.5.0",
      "model_name": "DescriptionStyleModel",
      "state": {
       "description_width": ""
      }
     },
     "89e8f0e826334b20805b4cb7be7fde43": {
      "model_module": "@jupyter-widgets/base",
      "model_module_version": "1.2.0",
      "model_name": "LayoutModel",
      "state": {}
     },
     "89ec13bfe98b413ea4ad5e93efcd5afe": {
      "model_module": "@jupyter-widgets/controls",
      "model_module_version": "1.5.0",
      "model_name": "IntProgressModel",
      "state": {
       "bar_style": "success",
       "description": "100.00%",
       "layout": "IPY_MODEL_f06dccce8d3c4d52885c872111e86db3",
       "max": 204,
       "style": "IPY_MODEL_ce14f5aa765c493f80d1cccc0f9ed370",
       "value": 204
      }
     },
     "8a2023a4c4ed4678b5b590bc36832e43": {
      "model_module": "@jupyter-widgets/controls",
      "model_module_version": "1.5.0",
      "model_name": "HBoxModel",
      "state": {
       "children": [
        "IPY_MODEL_c6f33af10ac8474197c8f7a53d70ab02",
        "IPY_MODEL_78a6e7e8f73045e38cb34d7e911f3599"
       ],
       "layout": "IPY_MODEL_f741cd7b5d5845e1aaed73dcb9d44751"
      }
     },
     "8a9a4abfc67c4a9f97e5adb149814503": {
      "model_module": "@jupyter-widgets/base",
      "model_module_version": "1.2.0",
      "model_name": "LayoutModel",
      "state": {}
     },
     "8aa0b55098cd4b8e8445671e2a600c02": {
      "model_module": "@jupyter-widgets/controls",
      "model_module_version": "1.5.0",
      "model_name": "IntProgressModel",
      "state": {
       "bar_style": "success",
       "description": "100.00%",
       "layout": "IPY_MODEL_21420478b0a9437d98b4cae68bcb2080",
       "max": 205,
       "style": "IPY_MODEL_04249590d425408999c74a1bcfbe4098",
       "value": 205
      }
     },
     "8aa0f1d2b7f6456d96e4ac1e51d9a5cd": {
      "model_module": "@jupyter-widgets/base",
      "model_module_version": "1.2.0",
      "model_name": "LayoutModel",
      "state": {}
     },
     "8aa708fa96c747c08b8b3ac327178ea8": {
      "model_module": "@jupyter-widgets/controls",
      "model_module_version": "1.5.0",
      "model_name": "HTMLModel",
      "state": {
       "layout": "IPY_MODEL_8eb81a450f684a3c8b7027d16408d9d7",
       "style": "IPY_MODEL_6dc89968039146e8beff96534fb223e4",
       "value": " 1/1 [00:00&lt;00:00,  5.55it/s]"
      }
     },
     "8b0e2310d89f460891b6a28c13411f9e": {
      "model_module": "@jupyter-widgets/controls",
      "model_module_version": "1.5.0",
      "model_name": "ProgressStyleModel",
      "state": {
       "description_width": ""
      }
     },
     "8b29701942014322bff1f9958a799b84": {
      "model_module": "@jupyter-widgets/base",
      "model_module_version": "1.2.0",
      "model_name": "LayoutModel",
      "state": {}
     },
     "8b58d6e0324d4335ab193e82831a2398": {
      "model_module": "@jupyter-widgets/base",
      "model_module_version": "1.2.0",
      "model_name": "LayoutModel",
      "state": {}
     },
     "8b74dbde78e845129ea1509aa4a8dc04": {
      "model_module": "@jupyter-widgets/controls",
      "model_module_version": "1.5.0",
      "model_name": "HBoxModel",
      "state": {
       "children": [
        "IPY_MODEL_ad809601821e49a6aae6a284b303c087",
        "IPY_MODEL_c1c7157b5b294aafbb8c07ff9ae60f07"
       ],
       "layout": "IPY_MODEL_73af1f10717d45558fab1703b5f29c93"
      }
     },
     "8ba506d2f1f04fddbfec412e63d491d9": {
      "model_module": "@jupyter-widgets/controls",
      "model_module_version": "1.5.0",
      "model_name": "IntProgressModel",
      "state": {
       "bar_style": "success",
       "description": "100.00%",
       "layout": "IPY_MODEL_df9b19bf1408460990620258dda5d623",
       "max": 256,
       "style": "IPY_MODEL_5c355b7d61a9402d97dee60aae631482",
       "value": 256
      }
     },
     "8c0694ee4cb1436d8290aaa9fbdd0bcf": {
      "model_module": "@jupyter-widgets/controls",
      "model_module_version": "1.5.0",
      "model_name": "ProgressStyleModel",
      "state": {
       "description_width": ""
      }
     },
     "8c0bb00202414c1f9184aa522667f1b4": {
      "model_module": "@jupyter-widgets/base",
      "model_module_version": "1.2.0",
      "model_name": "LayoutModel",
      "state": {}
     },
     "8c1877e750064185801762eb47bdc04b": {
      "model_module": "@jupyter-widgets/base",
      "model_module_version": "1.2.0",
      "model_name": "LayoutModel",
      "state": {}
     },
     "8c30bf42a78a48939587ca95c8f7759c": {
      "model_module": "@jupyter-widgets/controls",
      "model_module_version": "1.5.0",
      "model_name": "HBoxModel",
      "state": {
       "children": [
        "IPY_MODEL_99be2c8bea9246a88127360af07774d0",
        "IPY_MODEL_5cfbd56aa073442b9b4038eaf2df6643"
       ],
       "layout": "IPY_MODEL_7392da2be37746a4bd21f309273c7a97"
      }
     },
     "8c857475ce4c4207b6b7d749d468a580": {
      "model_module": "@jupyter-widgets/controls",
      "model_module_version": "1.5.0",
      "model_name": "HBoxModel",
      "state": {
       "children": [
        "IPY_MODEL_be7e924bf4754d7a9a4389a672e2873e",
        "IPY_MODEL_2a09a9123eff4af1bad63df9f3470642"
       ],
       "layout": "IPY_MODEL_2d1d4e760a1c4099bdbfa08dfcffd1f8"
      }
     },
     "8cb58920abb347f69a8e7e9ea5339cc9": {
      "model_module": "@jupyter-widgets/base",
      "model_module_version": "1.2.0",
      "model_name": "LayoutModel",
      "state": {}
     },
     "8cc28ce70bb64aa0a4948998e965921e": {
      "model_module": "@jupyter-widgets/controls",
      "model_module_version": "1.5.0",
      "model_name": "ProgressStyleModel",
      "state": {
       "description_width": ""
      }
     },
     "8cd5adbeebe540738330645997aed17d": {
      "model_module": "@jupyter-widgets/controls",
      "model_module_version": "1.5.0",
      "model_name": "LabelModel",
      "state": {
       "layout": "IPY_MODEL_9d9175ff8ef44320aeb93a5952fc2f3c",
       "style": "IPY_MODEL_baca0d31573546d397953c75d50bbc42",
       "value": "3 / 204"
      }
     },
     "8d45c6e478274682b7c07dbbbb3d39ae": {
      "model_module": "@jupyter-widgets/base",
      "model_module_version": "1.2.0",
      "model_name": "LayoutModel",
      "state": {}
     },
     "8d616c7b87284f55a6bc6fb51c30a3af": {
      "model_module": "@jupyter-widgets/controls",
      "model_module_version": "1.5.0",
      "model_name": "DescriptionStyleModel",
      "state": {
       "description_width": ""
      }
     },
     "8d6525a001664d7596c9b907ea5d6638": {
      "model_module": "@jupyter-widgets/controls",
      "model_module_version": "1.5.0",
      "model_name": "DescriptionStyleModel",
      "state": {
       "description_width": ""
      }
     },
     "8d6bef9e16c84e1383f956f604d04d32": {
      "model_module": "@jupyter-widgets/controls",
      "model_module_version": "1.5.0",
      "model_name": "IntProgressModel",
      "state": {
       "bar_style": "success",
       "description": "100.00%",
       "layout": "IPY_MODEL_d9212ea8c3854b4cb5aa31d63d9015b6",
       "max": 64,
       "style": "IPY_MODEL_a39bef02508f421089bc0a97e011056e",
       "value": 64
      }
     },
     "8d802cb009624110940ba82de4034fc7": {
      "model_module": "@jupyter-widgets/controls",
      "model_module_version": "1.5.0",
      "model_name": "DescriptionStyleModel",
      "state": {
       "description_width": ""
      }
     },
     "8d8d35740db04dfa9a31dae3c6a8b9ab": {
      "model_module": "@jupyter-widgets/controls",
      "model_module_version": "1.5.0",
      "model_name": "DescriptionStyleModel",
      "state": {
       "description_width": ""
      }
     },
     "8dd68d7fdab849a3b5395e88db659f6e": {
      "model_module": "@jupyter-widgets/controls",
      "model_module_version": "1.5.0",
      "model_name": "HBoxModel",
      "state": {
       "children": [
        "IPY_MODEL_0f60ddfaa0d145d981554edbb1829d6f",
        "IPY_MODEL_45762c07b8074e3d887cfa76a8ee9f98"
       ],
       "layout": "IPY_MODEL_f8865fff75c34d8f8e5fe467e4bd9ce4"
      }
     },
     "8deb28e3435a41f08e67f12264b02edc": {
      "model_module": "@jupyter-widgets/base",
      "model_module_version": "1.2.0",
      "model_name": "LayoutModel",
      "state": {}
     },
     "8df27579b3104fefb2bfc606f3d0b64a": {
      "model_module": "@jupyter-widgets/base",
      "model_module_version": "1.2.0",
      "model_name": "LayoutModel",
      "state": {}
     },
     "8e4312b5c6664f118727a1c7c9a83ad6": {
      "model_module": "@jupyter-widgets/controls",
      "model_module_version": "1.5.0",
      "model_name": "HBoxModel",
      "state": {
       "children": [
        "IPY_MODEL_81db551de68849f5a0014413e2623c48",
        "IPY_MODEL_423eb2b3b6c245549f22976e773ab128"
       ],
       "layout": "IPY_MODEL_dfa98fbf2add45fb803362de298c616d"
      }
     },
     "8e9b928214224f159bd3e4944400949a": {
      "model_module": "@jupyter-widgets/base",
      "model_module_version": "1.2.0",
      "model_name": "LayoutModel",
      "state": {}
     },
     "8ea665ecd7204dc7a9682bc69dd5b9ca": {
      "model_module": "@jupyter-widgets/controls",
      "model_module_version": "1.5.0",
      "model_name": "IntProgressModel",
      "state": {
       "bar_style": "success",
       "description": "100.00%",
       "layout": "IPY_MODEL_8e9b928214224f159bd3e4944400949a",
       "max": 64,
       "style": "IPY_MODEL_06b673b5cb8f4c688f3529f0e90404e0",
       "value": 64
      }
     },
     "8eb81a450f684a3c8b7027d16408d9d7": {
      "model_module": "@jupyter-widgets/base",
      "model_module_version": "1.2.0",
      "model_name": "LayoutModel",
      "state": {}
     },
     "8ee076f759194c0aad615dc3dc48c4bc": {
      "model_module": "@jupyter-widgets/controls",
      "model_module_version": "1.5.0",
      "model_name": "HBoxModel",
      "state": {
       "children": [
        "IPY_MODEL_f40a82057f9c466e9d1896104857efb0",
        "IPY_MODEL_caeaae325d134416b485ee9acccd04be"
       ],
       "layout": "IPY_MODEL_b4b2261169024f479ce9c90b69801adf"
      }
     },
     "8eedce9a6d4c4e80acf9cf96671bc090": {
      "model_module": "@jupyter-widgets/controls",
      "model_module_version": "1.5.0",
      "model_name": "HBoxModel",
      "state": {
       "children": [
        "IPY_MODEL_eb936bfbf2fa44b49b53bce00062b157",
        "IPY_MODEL_cf053cce989d451eac63f20c634ed31b"
       ],
       "layout": "IPY_MODEL_f9b83861e0584d22ba998dc7c8f4c005"
      }
     },
     "8ef7730669174e7f8f6b2c232b6df4ce": {
      "model_module": "@jupyter-widgets/controls",
      "model_module_version": "1.5.0",
      "model_name": "HBoxModel",
      "state": {
       "children": [
        "IPY_MODEL_f3a1706457124365be40f2e0f588a507",
        "IPY_MODEL_5112181b60e849038828df038a1012a0"
       ],
       "layout": "IPY_MODEL_08eaf912ee174412be9fc38e70133261"
      }
     },
     "8f15060dea4348758ebe00691db2afe0": {
      "model_module": "@jupyter-widgets/controls",
      "model_module_version": "1.5.0",
      "model_name": "HBoxModel",
      "state": {
       "children": [
        "IPY_MODEL_f51dbee84d254167aefbb8761a9c008e",
        "IPY_MODEL_dc9484f100e04cf09f0b6abe40b7c8eb"
       ],
       "layout": "IPY_MODEL_36f06240469448dc86a11c7299c4ccec"
      }
     },
     "8f21ce2da4184be08a71c13175c3eb67": {
      "model_module": "@jupyter-widgets/base",
      "model_module_version": "1.2.0",
      "model_name": "LayoutModel",
      "state": {}
     },
     "8f4245427af84e658492a43ff6d5b06b": {
      "model_module": "@jupyter-widgets/base",
      "model_module_version": "1.2.0",
      "model_name": "LayoutModel",
      "state": {}
     },
     "8f4e4f519a2b45d5aeb255121af76257": {
      "model_module": "@jupyter-widgets/base",
      "model_module_version": "1.2.0",
      "model_name": "LayoutModel",
      "state": {}
     },
     "8f545b7300d7458dbdb83f4b8f803657": {
      "model_module": "@jupyter-widgets/controls",
      "model_module_version": "1.5.0",
      "model_name": "ProgressStyleModel",
      "state": {
       "description_width": ""
      }
     },
     "8fa009d2e85546e396d44d68bfc5266e": {
      "model_module": "@jupyter-widgets/base",
      "model_module_version": "1.2.0",
      "model_name": "LayoutModel",
      "state": {}
     },
     "8fbb92532660428eb4edefe2dc8bebe4": {
      "model_module": "@jupyter-widgets/controls",
      "model_module_version": "1.5.0",
      "model_name": "LabelModel",
      "state": {
       "layout": "IPY_MODEL_c6063eb6cfa24678a5cdc95109a9ef27",
       "style": "IPY_MODEL_c2c68b98c6564a9a9c137d749d69428d",
       "value": "64 / 64"
      }
     },
     "8fd4596f5d494272afe01da6b8ee16a7": {
      "model_module": "@jupyter-widgets/controls",
      "model_module_version": "1.5.0",
      "model_name": "IntProgressModel",
      "state": {
       "description": "1.47%",
       "layout": "IPY_MODEL_11275346c63a45cba020120de4bd8aa1",
       "max": 204,
       "style": "IPY_MODEL_bdc6da9731834175bf941b8d4005ea52",
       "value": 3
      }
     },
     "9004858d959344ea8080924b20349c7a": {
      "model_module": "@jupyter-widgets/base",
      "model_module_version": "1.2.0",
      "model_name": "LayoutModel",
      "state": {}
     },
     "903b7de06f7b4b3ead639efde85b938d": {
      "model_module": "@jupyter-widgets/base",
      "model_module_version": "1.2.0",
      "model_name": "LayoutModel",
      "state": {}
     },
     "9041f890dbb9490a92891d61b41c4836": {
      "model_module": "@jupyter-widgets/controls",
      "model_module_version": "1.5.0",
      "model_name": "DescriptionStyleModel",
      "state": {
       "description_width": ""
      }
     },
     "90564fecb39341dca47adc5f489c7ee3": {
      "model_module": "@jupyter-widgets/controls",
      "model_module_version": "1.5.0",
      "model_name": "ProgressStyleModel",
      "state": {
       "description_width": ""
      }
     },
     "90cb7f5ef4db4e0593130103b152ac5b": {
      "model_module": "@jupyter-widgets/base",
      "model_module_version": "1.2.0",
      "model_name": "LayoutModel",
      "state": {}
     },
     "90dc9ec66e8c4db489858d5885b2687c": {
      "model_module": "@jupyter-widgets/controls",
      "model_module_version": "1.5.0",
      "model_name": "HBoxModel",
      "state": {
       "children": [
        "IPY_MODEL_ac29027dec2f4879b788e3ab53e3aa81",
        "IPY_MODEL_3165c74d58194317bf4459e6d43c788a"
       ],
       "layout": "IPY_MODEL_c715127aaff54be8a30b70f079d5d40e"
      }
     },
     "914c87324ef144e2a9a3009d1f891e73": {
      "model_module": "@jupyter-widgets/controls",
      "model_module_version": "1.5.0",
      "model_name": "DescriptionStyleModel",
      "state": {
       "description_width": ""
      }
     },
     "91770ef3768d40d590b7ee94fa2c9c4b": {
      "model_module": "@jupyter-widgets/controls",
      "model_module_version": "1.5.0",
      "model_name": "IntProgressModel",
      "state": {
       "bar_style": "success",
       "description": "100.00%",
       "layout": "IPY_MODEL_1c71f0a5e7ea412a91606b4293b20fff",
       "max": 255,
       "style": "IPY_MODEL_30400642e47d4e6889693a837283bd7c",
       "value": 255
      }
     },
     "917e6a93f9274e8f941800bd1853009d": {
      "model_module": "@jupyter-widgets/base",
      "model_module_version": "1.2.0",
      "model_name": "LayoutModel",
      "state": {}
     },
     "91abe382ea6f49f49f86ff867adc5c13": {
      "model_module": "@jupyter-widgets/controls",
      "model_module_version": "1.5.0",
      "model_name": "ProgressStyleModel",
      "state": {
       "description_width": ""
      }
     },
     "91eee7f5930c4a1c875522b1bf58234d": {
      "model_module": "@jupyter-widgets/controls",
      "model_module_version": "1.5.0",
      "model_name": "LabelModel",
      "state": {
       "layout": "IPY_MODEL_ac6fa8bfb83741e097c97167afb4bbee",
       "style": "IPY_MODEL_8d6525a001664d7596c9b907ea5d6638",
       "value": "204 / 204"
      }
     },
     "920fb0e125fe466081eeed06964e372c": {
      "model_module": "@jupyter-widgets/base",
      "model_module_version": "1.2.0",
      "model_name": "LayoutModel",
      "state": {}
     },
     "92213a4669764a88bfa200924fdc709a": {
      "model_module": "@jupyter-widgets/controls",
      "model_module_version": "1.5.0",
      "model_name": "HBoxModel",
      "state": {
       "children": [
        "IPY_MODEL_91770ef3768d40d590b7ee94fa2c9c4b",
        "IPY_MODEL_43752e725d7746159a56191195828ddd"
       ],
       "layout": "IPY_MODEL_8cb58920abb347f69a8e7e9ea5339cc9"
      }
     },
     "922cbbb4fa2f443eac5fee62d35dfe7b": {
      "model_module": "@jupyter-widgets/controls",
      "model_module_version": "1.5.0",
      "model_name": "IntProgressModel",
      "state": {
       "bar_style": "success",
       "description": "100.00%",
       "layout": "IPY_MODEL_84df54f404ab4c00a633dfa41f4b361d",
       "max": 204,
       "style": "IPY_MODEL_0ed41868532d462191939a93fbc301b8",
       "value": 204
      }
     },
     "922f3d1f0dd745c8bf067d944ad336d9": {
      "model_module": "@jupyter-widgets/base",
      "model_module_version": "1.2.0",
      "model_name": "LayoutModel",
      "state": {}
     },
     "92471df66c814aaeb3d19298152cafaf": {
      "model_module": "@jupyter-widgets/base",
      "model_module_version": "1.2.0",
      "model_name": "LayoutModel",
      "state": {}
     },
     "926c4882cfac479ab7324884d48d881e": {
      "model_module": "@jupyter-widgets/controls",
      "model_module_version": "1.5.0",
      "model_name": "ProgressStyleModel",
      "state": {
       "description_width": ""
      }
     },
     "92895475d28d4c91b1e1bc3b3b97abe8": {
      "model_module": "@jupyter-widgets/controls",
      "model_module_version": "1.5.0",
      "model_name": "ProgressStyleModel",
      "state": {
       "description_width": ""
      }
     },
     "92be7e68d38047b3b8173a6b48a6aaa9": {
      "model_module": "@jupyter-widgets/base",
      "model_module_version": "1.2.0",
      "model_name": "LayoutModel",
      "state": {}
     },
     "935c25c905194c1aa487b08397d38efd": {
      "model_module": "@jupyter-widgets/controls",
      "model_module_version": "1.5.0",
      "model_name": "IntProgressModel",
      "state": {
       "bar_style": "success",
       "description": "100.00%",
       "layout": "IPY_MODEL_ad9c991ce1014a3eb18f8c60eb7da848",
       "max": 256,
       "style": "IPY_MODEL_520a1f5e5f8541f8b9a153f04730c712",
       "value": 256
      }
     },
     "935f5fee8b16487cafe616e42b3889ec": {
      "model_module": "@jupyter-widgets/controls",
      "model_module_version": "1.5.0",
      "model_name": "HBoxModel",
      "state": {
       "children": [
        "IPY_MODEL_58b04e7c726d453ba7b257858525973f",
        "IPY_MODEL_a307ad22b3704c2485d7aab0460fbd4c",
        "IPY_MODEL_8aa708fa96c747c08b8b3ac327178ea8"
       ],
       "layout": "IPY_MODEL_5917b0fad7a842a5addf0f41306872a7"
      }
     },
     "936e7c639e51440ebdfc430f155b7333": {
      "model_module": "@jupyter-widgets/controls",
      "model_module_version": "1.5.0",
      "model_name": "ProgressStyleModel",
      "state": {
       "description_width": ""
      }
     },
     "93f1d488bb0d4c06b5ad587c3f095ff3": {
      "model_module": "@jupyter-widgets/controls",
      "model_module_version": "1.5.0",
      "model_name": "ProgressStyleModel",
      "state": {
       "description_width": ""
      }
     },
     "945b6fef959e4fd1b75af5a6407849d0": {
      "model_module": "@jupyter-widgets/base",
      "model_module_version": "1.2.0",
      "model_name": "LayoutModel",
      "state": {}
     },
     "9463c3d76e7e4c689addd94e2c1466f7": {
      "model_module": "@jupyter-widgets/controls",
      "model_module_version": "1.5.0",
      "model_name": "IntProgressModel",
      "state": {
       "bar_style": "success",
       "description": "100.00%",
       "layout": "IPY_MODEL_cf48a5ad4ec44c57adba18bb4d08df72",
       "max": 204,
       "style": "IPY_MODEL_40f3538c82944ab5966d1fc086e30679",
       "value": 204
      }
     },
     "94a19c7e21614724af9dd519ff2710a5": {
      "model_module": "@jupyter-widgets/controls",
      "model_module_version": "1.5.0",
      "model_name": "ProgressStyleModel",
      "state": {
       "description_width": ""
      }
     },
     "953b314275a1405bb828cb3192c2f050": {
      "model_module": "@jupyter-widgets/controls",
      "model_module_version": "1.5.0",
      "model_name": "DescriptionStyleModel",
      "state": {
       "description_width": ""
      }
     },
     "956d6f9e1484481eb4bc196f4c9517ae": {
      "model_module": "@jupyter-widgets/controls",
      "model_module_version": "1.5.0",
      "model_name": "HBoxModel",
      "state": {
       "children": [
        "IPY_MODEL_1294fe282b09429391911c6b48b47be3",
        "IPY_MODEL_dc7f47f7e1794cdc928cae3fd077c53a"
       ],
       "layout": "IPY_MODEL_24556e029e4248c5950ffa61d7b20b58"
      }
     },
     "9571814c00c94c9e8bd553871df05fdb": {
      "model_module": "@jupyter-widgets/controls",
      "model_module_version": "1.5.0",
      "model_name": "ProgressStyleModel",
      "state": {
       "description_width": ""
      }
     },
     "957c4920daeb490e9c35dd0557ea595b": {
      "model_module": "@jupyter-widgets/controls",
      "model_module_version": "1.5.0",
      "model_name": "LabelModel",
      "state": {
       "layout": "IPY_MODEL_23482e7012ba4334b194a4bfe5049095",
       "style": "IPY_MODEL_47674e8213e24293835986e6005d5d53",
       "value": "126 / 204"
      }
     },
     "95ae0006bfb24ebcb4cc3e8cceb8b18f": {
      "model_module": "@jupyter-widgets/controls",
      "model_module_version": "1.5.0",
      "model_name": "DescriptionStyleModel",
      "state": {
       "description_width": ""
      }
     },
     "95bb3a08d0ab4fe4834308b1ec03a844": {
      "model_module": "@jupyter-widgets/base",
      "model_module_version": "1.2.0",
      "model_name": "LayoutModel",
      "state": {}
     },
     "95c2af85ec664019bbee981e4090da71": {
      "model_module": "@jupyter-widgets/base",
      "model_module_version": "1.2.0",
      "model_name": "LayoutModel",
      "state": {}
     },
     "95e25f044ff34f3996abd28cf575b84d": {
      "model_module": "@jupyter-widgets/base",
      "model_module_version": "1.2.0",
      "model_name": "LayoutModel",
      "state": {}
     },
     "95fe71c31305480198dd2409e12900e5": {
      "model_module": "@jupyter-widgets/controls",
      "model_module_version": "1.5.0",
      "model_name": "LabelModel",
      "state": {
       "layout": "IPY_MODEL_c8fbe3fd2f094ff59bd46dc29fb5a931",
       "style": "IPY_MODEL_8d8d35740db04dfa9a31dae3c6a8b9ab",
       "value": "3 / 204"
      }
     },
     "966953cc176e4952926e2057291137df": {
      "model_module": "@jupyter-widgets/controls",
      "model_module_version": "1.5.0",
      "model_name": "DescriptionStyleModel",
      "state": {
       "description_width": ""
      }
     },
     "96f602034962408db7fc50c80fb8562b": {
      "model_module": "@jupyter-widgets/base",
      "model_module_version": "1.2.0",
      "model_name": "LayoutModel",
      "state": {}
     },
     "970ed0fb369543e7a7de300e40dea7df": {
      "model_module": "@jupyter-widgets/base",
      "model_module_version": "1.2.0",
      "model_name": "LayoutModel",
      "state": {}
     },
     "971e58140eee4788906206a375fd3af4": {
      "model_module": "@jupyter-widgets/controls",
      "model_module_version": "1.5.0",
      "model_name": "DescriptionStyleModel",
      "state": {
       "description_width": ""
      }
     },
     "97679353f6e946109d189fcb92250f70": {
      "model_module": "@jupyter-widgets/controls",
      "model_module_version": "1.5.0",
      "model_name": "ProgressStyleModel",
      "state": {
       "description_width": ""
      }
     },
     "9804edcc5b9149bbb4520859022e397c": {
      "model_module": "@jupyter-widgets/controls",
      "model_module_version": "1.5.0",
      "model_name": "DescriptionStyleModel",
      "state": {
       "description_width": ""
      }
     },
     "983d8e0229104d2e882224782b3fda09": {
      "model_module": "@jupyter-widgets/controls",
      "model_module_version": "1.5.0",
      "model_name": "ProgressStyleModel",
      "state": {
       "description_width": ""
      }
     },
     "984c2a7683f3423890e4979ffa345f94": {
      "model_module": "@jupyter-widgets/controls",
      "model_module_version": "1.5.0",
      "model_name": "LabelModel",
      "state": {
       "layout": "IPY_MODEL_81dabdc41dd64ff4aac29b1710042857",
       "style": "IPY_MODEL_33faa3f492a245b4af5abac05416fb2b",
       "value": "256 / 256"
      }
     },
     "98f9c8454e744970b5572b2a9085bd31": {
      "model_module": "@jupyter-widgets/controls",
      "model_module_version": "1.5.0",
      "model_name": "HBoxModel",
      "state": {
       "children": [
        "IPY_MODEL_ae36e358da584960a1616e7c0ce632ce",
        "IPY_MODEL_331627caa5214940b026322e3415d23f"
       ],
       "layout": "IPY_MODEL_553419d2d2a84a908cba122cad7b79ec"
      }
     },
     "993874634dc84346950906ce523d80fc": {
      "model_module": "@jupyter-widgets/base",
      "model_module_version": "1.2.0",
      "model_name": "LayoutModel",
      "state": {}
     },
     "993a4c3328904528a0273d744b6bea42": {
      "model_module": "@jupyter-widgets/controls",
      "model_module_version": "1.5.0",
      "model_name": "HBoxModel",
      "state": {
       "children": [
        "IPY_MODEL_5db828c42fd74bbca61f2412f6bdb8f3",
        "IPY_MODEL_7ff29739a6294736bbf60678f0c64443"
       ],
       "layout": "IPY_MODEL_13c62f6cb3d44d53a43f966aaba69d03"
      }
     },
     "99665ef6c658422e8e532ba5ccdf4e1b": {
      "model_module": "@jupyter-widgets/controls",
      "model_module_version": "1.5.0",
      "model_name": "LabelModel",
      "state": {
       "layout": "IPY_MODEL_769b3eae4773448ba9489f1459af32cf",
       "style": "IPY_MODEL_b85eb0e3795841c6bacf15d271df0f67",
       "value": "3 / 204"
      }
     },
     "99be2c8bea9246a88127360af07774d0": {
      "model_module": "@jupyter-widgets/controls",
      "model_module_version": "1.5.0",
      "model_name": "IntProgressModel",
      "state": {
       "bar_style": "success",
       "description": "100.00%",
       "layout": "IPY_MODEL_e60ce7b29d0840b694b0159f49ead30d",
       "max": 204,
       "style": "IPY_MODEL_cdb6270f77ba46f6ba60cd0335193489",
       "value": 204
      }
     },
     "99c04871b9c44606b1c779bd153b535a": {
      "model_module": "@jupyter-widgets/controls",
      "model_module_version": "1.5.0",
      "model_name": "DescriptionStyleModel",
      "state": {
       "description_width": ""
      }
     },
     "99f0408502b048f1b842879f28629f10": {
      "model_module": "@jupyter-widgets/controls",
      "model_module_version": "1.5.0",
      "model_name": "ProgressStyleModel",
      "state": {
       "description_width": ""
      }
     },
     "9a06e74fead14695a0f5d1c1d15f1599": {
      "model_module": "@jupyter-widgets/controls",
      "model_module_version": "1.5.0",
      "model_name": "HBoxModel",
      "state": {
       "children": [
        "IPY_MODEL_cb1b995eba6145bb8b23372114e4a9c7",
        "IPY_MODEL_ad16e652da624361b59e2d93f59835b2"
       ],
       "layout": "IPY_MODEL_4e8505dc0412480f8def79ebcb4d6143"
      }
     },
     "9a4bf8e8eacf43b3b2ce240cccb465a9": {
      "model_module": "@jupyter-widgets/controls",
      "model_module_version": "1.5.0",
      "model_name": "HBoxModel",
      "state": {
       "children": [
        "IPY_MODEL_7dc7799170c740a1a0389fa5f831311f",
        "IPY_MODEL_e20ac0f010fe4f27ae403c1eebb6205e"
       ],
       "layout": "IPY_MODEL_072d3baee4a547b6a749321f20c062d7"
      }
     },
     "9af2da4f452f45d381d0e053ab4b750f": {
      "model_module": "@jupyter-widgets/controls",
      "model_module_version": "1.5.0",
      "model_name": "LabelModel",
      "state": {
       "layout": "IPY_MODEL_a594df837b854b04bf52aa21c4135a65",
       "style": "IPY_MODEL_02f3f5849ed94b82b16c3170b994fca3",
       "value": "255 / 255"
      }
     },
     "9afa42de47d14cfd8b144f724e43029b": {
      "model_module": "@jupyter-widgets/controls",
      "model_module_version": "1.5.0",
      "model_name": "HBoxModel",
      "state": {
       "children": [
        "IPY_MODEL_b824b2d02d8f49d3b971caf576aa84bb",
        "IPY_MODEL_0d9e6819a7054ee7aa7b73eef7162fe7"
       ],
       "layout": "IPY_MODEL_2776030d3b20461da238ad705ff04a17"
      }
     },
     "9b087dc13c544fed93f0ccde9fadf929": {
      "model_module": "@jupyter-widgets/controls",
      "model_module_version": "1.5.0",
      "model_name": "ProgressStyleModel",
      "state": {
       "description_width": ""
      }
     },
     "9bf26fd3991340029378fb07fac426e5": {
      "model_module": "@jupyter-widgets/base",
      "model_module_version": "1.2.0",
      "model_name": "LayoutModel",
      "state": {}
     },
     "9bf6e1064ddd4075b5191e04dd820e8f": {
      "model_module": "@jupyter-widgets/controls",
      "model_module_version": "1.5.0",
      "model_name": "LabelModel",
      "state": {
       "layout": "IPY_MODEL_1eadf6a6f36947f4a3d4c8a0fcd29b37",
       "style": "IPY_MODEL_27460b3225294c04bca1fa6d2c02c532",
       "value": "255 / 255"
      }
     },
     "9c783df329854a1c99664c8b094cda42": {
      "model_module": "@jupyter-widgets/base",
      "model_module_version": "1.2.0",
      "model_name": "LayoutModel",
      "state": {}
     },
     "9c8a4ecb587e4c07bee740ad7443dd3d": {
      "model_module": "@jupyter-widgets/controls",
      "model_module_version": "1.5.0",
      "model_name": "IntProgressModel",
      "state": {
       "bar_style": "success",
       "description": "100.00%",
       "layout": "IPY_MODEL_d5cf514ac28f474486d1af77a9a6b0ab",
       "max": 205,
       "style": "IPY_MODEL_caf1a726a6304a88810ff1977c15c394",
       "value": 205
      }
     },
     "9c8be607776d467da33b41333091f538": {
      "model_module": "@jupyter-widgets/controls",
      "model_module_version": "1.5.0",
      "model_name": "DescriptionStyleModel",
      "state": {
       "description_width": ""
      }
     },
     "9ca7df4990d44ee8b8fd4b950e2ca1e6": {
      "model_module": "@jupyter-widgets/base",
      "model_module_version": "1.2.0",
      "model_name": "LayoutModel",
      "state": {}
     },
     "9cf0518a3bd94522a1ea929da6a40157": {
      "model_module": "@jupyter-widgets/base",
      "model_module_version": "1.2.0",
      "model_name": "LayoutModel",
      "state": {}
     },
     "9d9175ff8ef44320aeb93a5952fc2f3c": {
      "model_module": "@jupyter-widgets/base",
      "model_module_version": "1.2.0",
      "model_name": "LayoutModel",
      "state": {}
     },
     "9db45ded02874508b915669fb3f00fca": {
      "model_module": "@jupyter-widgets/base",
      "model_module_version": "1.2.0",
      "model_name": "LayoutModel",
      "state": {}
     },
     "9e35f17a08914b289685978694dac8da": {
      "model_module": "@jupyter-widgets/controls",
      "model_module_version": "1.5.0",
      "model_name": "IntProgressModel",
      "state": {
       "bar_style": "success",
       "description": "100.00%",
       "layout": "IPY_MODEL_5e348958f2d74170a096e375f6390420",
       "max": 256,
       "style": "IPY_MODEL_936e7c639e51440ebdfc430f155b7333",
       "value": 256
      }
     },
     "9e907b4fc48549ddacfc7ca32bd60746": {
      "model_module": "@jupyter-widgets/base",
      "model_module_version": "1.2.0",
      "model_name": "LayoutModel",
      "state": {}
     },
     "9eaa1ddabe454529bf519904ad79a506": {
      "model_module": "@jupyter-widgets/base",
      "model_module_version": "1.2.0",
      "model_name": "LayoutModel",
      "state": {}
     },
     "9f433bed8aaa4dac94c77e8356e94e66": {
      "model_module": "@jupyter-widgets/controls",
      "model_module_version": "1.5.0",
      "model_name": "DescriptionStyleModel",
      "state": {
       "description_width": ""
      }
     },
     "9f5d0948227f403897384c98ce3b7a1d": {
      "model_module": "@jupyter-widgets/controls",
      "model_module_version": "1.5.0",
      "model_name": "LabelModel",
      "state": {
       "layout": "IPY_MODEL_13a4ebe96fc145568ef3e026e05bb655",
       "style": "IPY_MODEL_453006cd4fe94319a2170fda02d0ba58",
       "value": "255 / 255"
      }
     },
     "9f74b31c1313467fb66b5fd5348c16f0": {
      "model_module": "@jupyter-widgets/controls",
      "model_module_version": "1.5.0",
      "model_name": "HBoxModel",
      "state": {
       "children": [
        "IPY_MODEL_f36acb75f40c48629d29160cfe332661",
        "IPY_MODEL_49689fd1f56b41a69ecb344ffaac7b17"
       ],
       "layout": "IPY_MODEL_903b7de06f7b4b3ead639efde85b938d"
      }
     },
     "a04e5f8a9c6c4bbd87437cccbfca792b": {
      "model_module": "@jupyter-widgets/controls",
      "model_module_version": "1.5.0",
      "model_name": "ProgressStyleModel",
      "state": {
       "description_width": ""
      }
     },
     "a0f1edc0166b4bf189d039ed0eee11f0": {
      "model_module": "@jupyter-widgets/controls",
      "model_module_version": "1.5.0",
      "model_name": "DescriptionStyleModel",
      "state": {
       "description_width": ""
      }
     },
     "a0f3b611e19743d18b6af2d154ff4b41": {
      "model_module": "@jupyter-widgets/base",
      "model_module_version": "1.2.0",
      "model_name": "LayoutModel",
      "state": {}
     },
     "a1000eb4969e4231b2671efe76723dea": {
      "model_module": "@jupyter-widgets/controls",
      "model_module_version": "1.5.0",
      "model_name": "DescriptionStyleModel",
      "state": {
       "description_width": ""
      }
     },
     "a12aeb6a26414290bdb32bab18bd621b": {
      "model_module": "@jupyter-widgets/controls",
      "model_module_version": "1.5.0",
      "model_name": "HBoxModel",
      "state": {
       "children": [
        "IPY_MODEL_a63c660646824f88b65e48461a9ee2f8",
        "IPY_MODEL_7c848c1ea64c4c578c82d0ca49ef8bf6"
       ],
       "layout": "IPY_MODEL_84424ecbf16e4bc18936431cb5eeabe9"
      }
     },
     "a19df8d1aacb46ae8c0cb9b1e7502570": {
      "model_module": "@jupyter-widgets/controls",
      "model_module_version": "1.5.0",
      "model_name": "HBoxModel",
      "state": {
       "children": [
        "IPY_MODEL_e398c207ea3842d08091727814257c49",
        "IPY_MODEL_b8547b3db9c34d728cff60b7895260aa"
       ],
       "layout": "IPY_MODEL_2745dd7957384556a08b4db4bdac93d4"
      }
     },
     "a1b51823054842189ee783ee3d391d62": {
      "model_module": "@jupyter-widgets/controls",
      "model_module_version": "1.5.0",
      "model_name": "LabelModel",
      "state": {
       "layout": "IPY_MODEL_3dcc00c0c30b47068e4da289be88f863",
       "style": "IPY_MODEL_163f0070719242428a3e04126f1ceae1",
       "value": "204 / 204"
      }
     },
     "a1e326f9fed74567af0a6066b512e555": {
      "model_module": "@jupyter-widgets/base",
      "model_module_version": "1.2.0",
      "model_name": "LayoutModel",
      "state": {}
     },
     "a1f2cd0aaff64310bae482904e25dbd6": {
      "model_module": "@jupyter-widgets/base",
      "model_module_version": "1.2.0",
      "model_name": "LayoutModel",
      "state": {}
     },
     "a207a794003d4119b3da3fa366868c0a": {
      "model_module": "@jupyter-widgets/controls",
      "model_module_version": "1.5.0",
      "model_name": "HBoxModel",
      "state": {
       "children": [
        "IPY_MODEL_935c25c905194c1aa487b08397d38efd",
        "IPY_MODEL_123b1cac7d814a6b9cdb5d2e6719d99c"
       ],
       "layout": "IPY_MODEL_1d865f7a976346648e459bb519be6872"
      }
     },
     "a212f4d220b04841862781f05f406376": {
      "model_module": "@jupyter-widgets/base",
      "model_module_version": "1.2.0",
      "model_name": "LayoutModel",
      "state": {}
     },
     "a23f4110db914be997e5bd0f9293050e": {
      "model_module": "@jupyter-widgets/controls",
      "model_module_version": "1.5.0",
      "model_name": "ProgressStyleModel",
      "state": {
       "description_width": ""
      }
     },
     "a240f645ab2044d4b6aa9fe93dd8ce42": {
      "model_module": "@jupyter-widgets/controls",
      "model_module_version": "1.5.0",
      "model_name": "IntProgressModel",
      "state": {
       "bar_style": "success",
       "description": "100.00%",
       "layout": "IPY_MODEL_c4517630b2d646fea440ce7c815c2123",
       "max": 256,
       "style": "IPY_MODEL_b279951714ff49a5b7d4d0b9da4f2803",
       "value": 256
      }
     },
     "a25167a57de0485381c9de194d68b3c0": {
      "model_module": "@jupyter-widgets/controls",
      "model_module_version": "1.5.0",
      "model_name": "IntProgressModel",
      "state": {
       "description": "1.47%",
       "layout": "IPY_MODEL_fcdc2d680ff244c7b4d4a634a6702b24",
       "max": 204,
       "style": "IPY_MODEL_a23f4110db914be997e5bd0f9293050e",
       "value": 3
      }
     },
     "a264f4a9235d4ac99757a10307c66a17": {
      "model_module": "@jupyter-widgets/controls",
      "model_module_version": "1.5.0",
      "model_name": "DescriptionStyleModel",
      "state": {
       "description_width": ""
      }
     },
     "a2a2b04cf8a44a6fb73807c9097e4242": {
      "model_module": "@jupyter-widgets/controls",
      "model_module_version": "1.5.0",
      "model_name": "LabelModel",
      "state": {
       "layout": "IPY_MODEL_5ab8ef0a37814355a5b0708597965a65",
       "style": "IPY_MODEL_aa81ce444ed04230b47a7df9d75fabb4",
       "value": "205 / 205"
      }
     },
     "a2d80105e13642409f606749931fa718": {
      "model_module": "@jupyter-widgets/controls",
      "model_module_version": "1.5.0",
      "model_name": "LabelModel",
      "state": {
       "layout": "IPY_MODEL_218fd693538b4db590cbf594635fd677",
       "style": "IPY_MODEL_836ac4ff3c6c4d3cbc87016aee35e5ed",
       "value": "255 / 255"
      }
     },
     "a307ad22b3704c2485d7aab0460fbd4c": {
      "model_module": "@jupyter-widgets/controls",
      "model_module_version": "1.5.0",
      "model_name": "FloatProgressModel",
      "state": {
       "bar_style": "success",
       "layout": "IPY_MODEL_50f95c60942f41cfab8a4608a74b147f",
       "max": 1,
       "style": "IPY_MODEL_ca86d256b5154481abcc570c69e07fea",
       "value": 1
      }
     },
     "a32cf33cbb9f4853b01d1f48ce5d6acd": {
      "model_module": "@jupyter-widgets/base",
      "model_module_version": "1.2.0",
      "model_name": "LayoutModel",
      "state": {}
     },
     "a34be8d904c2431e927b5d0155d35b1e": {
      "model_module": "@jupyter-widgets/controls",
      "model_module_version": "1.5.0",
      "model_name": "DescriptionStyleModel",
      "state": {
       "description_width": ""
      }
     },
     "a359a91d57474b2aab76853a2b61c2fa": {
      "model_module": "@jupyter-widgets/base",
      "model_module_version": "1.2.0",
      "model_name": "LayoutModel",
      "state": {}
     },
     "a39bef02508f421089bc0a97e011056e": {
      "model_module": "@jupyter-widgets/controls",
      "model_module_version": "1.5.0",
      "model_name": "ProgressStyleModel",
      "state": {
       "description_width": ""
      }
     },
     "a41120833ace4b37a95a2b0d85194cf8": {
      "model_module": "@jupyter-widgets/base",
      "model_module_version": "1.2.0",
      "model_name": "LayoutModel",
      "state": {}
     },
     "a423cc77c87342d0b8ea1ed72feecdc2": {
      "model_module": "@jupyter-widgets/controls",
      "model_module_version": "1.5.0",
      "model_name": "HBoxModel",
      "state": {
       "children": [
        "IPY_MODEL_dd282eae4b2b4886800c70efb740ae84",
        "IPY_MODEL_759eeeb619ce43f8952eaaa42fe0a956"
       ],
       "layout": "IPY_MODEL_646e3baab94446df891ce88f28b7a10e"
      }
     },
     "a48ba33a1d4f48218ca35270fa4c5416": {
      "model_module": "@jupyter-widgets/controls",
      "model_module_version": "1.5.0",
      "model_name": "DescriptionStyleModel",
      "state": {
       "description_width": ""
      }
     },
     "a4c13c7e75114184b412701196b682af": {
      "model_module": "@jupyter-widgets/controls",
      "model_module_version": "1.5.0",
      "model_name": "ProgressStyleModel",
      "state": {
       "description_width": ""
      }
     },
     "a4c202b5af564a0fae0efe7c3c99721d": {
      "model_module": "@jupyter-widgets/controls",
      "model_module_version": "1.5.0",
      "model_name": "HBoxModel",
      "state": {
       "children": [
        "IPY_MODEL_84eec0d677a64ef4ad72a30232017ab6",
        "IPY_MODEL_54c197ee706e4973ae5c64f4a380256f"
       ],
       "layout": "IPY_MODEL_ae48201052f4454cb17526cc4f701603"
      }
     },
     "a4da1fd0fac14fb5b97d9f8cf179fe09": {
      "model_module": "@jupyter-widgets/base",
      "model_module_version": "1.2.0",
      "model_name": "LayoutModel",
      "state": {}
     },
     "a5057bf0dbe24d569a6c21d345126428": {
      "model_module": "@jupyter-widgets/base",
      "model_module_version": "1.2.0",
      "model_name": "LayoutModel",
      "state": {}
     },
     "a54d38a0aafc47cda5ea1c0592ddfee0": {
      "model_module": "@jupyter-widgets/base",
      "model_module_version": "1.2.0",
      "model_name": "LayoutModel",
      "state": {}
     },
     "a57b8052d9fa4ec3b43d5488bdf71a91": {
      "model_module": "@jupyter-widgets/controls",
      "model_module_version": "1.5.0",
      "model_name": "ProgressStyleModel",
      "state": {
       "description_width": ""
      }
     },
     "a594df837b854b04bf52aa21c4135a65": {
      "model_module": "@jupyter-widgets/base",
      "model_module_version": "1.2.0",
      "model_name": "LayoutModel",
      "state": {}
     },
     "a596324811e44d0184ace32a5d59f3e7": {
      "model_module": "@jupyter-widgets/controls",
      "model_module_version": "1.5.0",
      "model_name": "IntProgressModel",
      "state": {
       "bar_style": "success",
       "description": "100.00%",
       "layout": "IPY_MODEL_2a5b58fbfea74f628e0e05c06a500be5",
       "max": 64,
       "style": "IPY_MODEL_09f80c39eaf6404894de47f7755a5060",
       "value": 64
      }
     },
     "a5af5a6d1b094fa0b00760bd09f478ca": {
      "model_module": "@jupyter-widgets/controls",
      "model_module_version": "1.5.0",
      "model_name": "HBoxModel",
      "state": {
       "children": [
        "IPY_MODEL_724b8d5e0434465da8d0e0b01c95c6b6",
        "IPY_MODEL_25dbe750ea9047f0b19d1a809e93c630"
       ],
       "layout": "IPY_MODEL_0153f9d4f6fe4b3aa0709944527e7bd5"
      }
     },
     "a5f78f6935324d90b71e1bf184ae9bbf": {
      "model_module": "@jupyter-widgets/controls",
      "model_module_version": "1.5.0",
      "model_name": "HBoxModel",
      "state": {
       "children": [
        "IPY_MODEL_6c26e904d28f44b9842d84f500f9010b",
        "IPY_MODEL_302ae07162ed46ee989003440ff64829"
       ],
       "layout": "IPY_MODEL_626e99ee33854fea893590a177c077e8"
      }
     },
     "a6390b87673849fc811154b90c6417c6": {
      "model_module": "@jupyter-widgets/base",
      "model_module_version": "1.2.0",
      "model_name": "LayoutModel",
      "state": {}
     },
     "a63c660646824f88b65e48461a9ee2f8": {
      "model_module": "@jupyter-widgets/controls",
      "model_module_version": "1.5.0",
      "model_name": "IntProgressModel",
      "state": {
       "bar_style": "success",
       "description": "100.00%",
       "layout": "IPY_MODEL_f426ac1e5e454e3a9d0f331ff3e6c189",
       "max": 64,
       "style": "IPY_MODEL_f4bb0f9da2b04a71b07fc5a80cfbc571",
       "value": 64
      }
     },
     "a66a6ce96e3f444c990c9bfcf45f28db": {
      "model_module": "@jupyter-widgets/controls",
      "model_module_version": "1.5.0",
      "model_name": "DescriptionStyleModel",
      "state": {
       "description_width": ""
      }
     },
     "a6834c65dab0461e957582f42c5e1a5a": {
      "model_module": "@jupyter-widgets/controls",
      "model_module_version": "1.5.0",
      "model_name": "HBoxModel",
      "state": {
       "children": [
        "IPY_MODEL_2ab6f278b8054729a2d2fcb47d879a49",
        "IPY_MODEL_4291f968194342a0b028139542ff444d"
       ],
       "layout": "IPY_MODEL_7e7808695d0c4e96a524ca93d1a07bf2"
      }
     },
     "a69bf780c989407ea41f6edc3a5c4e73": {
      "model_module": "@jupyter-widgets/base",
      "model_module_version": "1.2.0",
      "model_name": "LayoutModel",
      "state": {}
     },
     "a6f98fefabd149a6acd2a314b8bb5597": {
      "model_module": "@jupyter-widgets/controls",
      "model_module_version": "1.5.0",
      "model_name": "IntProgressModel",
      "state": {
       "bar_style": "success",
       "description": "100.00%",
       "layout": "IPY_MODEL_6d347a0c36264b028ad46754c03610cf",
       "max": 205,
       "style": "IPY_MODEL_5359a1c3233e476db659e7bcd43501c0",
       "value": 205
      }
     },
     "a709e25c4a0146ad869b03604714653a": {
      "model_module": "@jupyter-widgets/base",
      "model_module_version": "1.2.0",
      "model_name": "LayoutModel",
      "state": {}
     },
     "a748824754cd472196f4dd4ff481fd07": {
      "model_module": "@jupyter-widgets/controls",
      "model_module_version": "1.5.0",
      "model_name": "HBoxModel",
      "state": {
       "children": [
        "IPY_MODEL_16007d9c334e4752bebdfa6fb6aa4236",
        "IPY_MODEL_9f5d0948227f403897384c98ce3b7a1d"
       ],
       "layout": "IPY_MODEL_7ee9987c326343e29aa1f9333b8d02c1"
      }
     },
     "a7a9bc4b630f419d89ea27e44e7c8b8b": {
      "model_module": "@jupyter-widgets/controls",
      "model_module_version": "1.5.0",
      "model_name": "ProgressStyleModel",
      "state": {
       "description_width": ""
      }
     },
     "a7bf486603124f3aa033d554efc0bc86": {
      "model_module": "@jupyter-widgets/controls",
      "model_module_version": "1.5.0",
      "model_name": "DescriptionStyleModel",
      "state": {
       "description_width": ""
      }
     },
     "a7c0b964b5bd4d35bf95cd6016807541": {
      "model_module": "@jupyter-widgets/controls",
      "model_module_version": "1.5.0",
      "model_name": "LabelModel",
      "state": {
       "layout": "IPY_MODEL_bddaa70271a44907899ee1a668f08953",
       "style": "IPY_MODEL_c433e1bb61b443fba330231809047de4",
       "value": "204 / 204"
      }
     },
     "a7c3ea9b5cb74a1d8abad80518c3705d": {
      "model_module": "@jupyter-widgets/base",
      "model_module_version": "1.2.0",
      "model_name": "LayoutModel",
      "state": {}
     },
     "a8375653227845138cc2bfd6dbf79c1f": {
      "model_module": "@jupyter-widgets/base",
      "model_module_version": "1.2.0",
      "model_name": "LayoutModel",
      "state": {}
     },
     "a84d7046bc9d4cb0bf5bb9e7a3b24be1": {
      "model_module": "@jupyter-widgets/controls",
      "model_module_version": "1.5.0",
      "model_name": "IntProgressModel",
      "state": {
       "description": "50.98%",
       "layout": "IPY_MODEL_7fcd5fe8a4e34a329bf57d5b57c8ed3f",
       "max": 204,
       "style": "IPY_MODEL_5d99d38bfbf545e28bcd4e73cfde288b",
       "value": 104
      }
     },
     "a851b9e7801b4733b3f693786bff18b3": {
      "model_module": "@jupyter-widgets/base",
      "model_module_version": "1.2.0",
      "model_name": "LayoutModel",
      "state": {}
     },
     "a8545918616e4edea0711ce6d1815bdd": {
      "model_module": "@jupyter-widgets/controls",
      "model_module_version": "1.5.0",
      "model_name": "IntProgressModel",
      "state": {
       "bar_style": "success",
       "description": "100.00%",
       "layout": "IPY_MODEL_88d04696ed094d1faa07bdf38216281a",
       "max": 256,
       "style": "IPY_MODEL_77fa77f0d3464d32b69e29d15127061e",
       "value": 256
      }
     },
     "a8ad2c70b3b8422f8d7019fe3e4352ac": {
      "model_module": "@jupyter-widgets/controls",
      "model_module_version": "1.5.0",
      "model_name": "LabelModel",
      "state": {
       "layout": "IPY_MODEL_b69bba6795444c3c9a5b4fb73d44e7be",
       "style": "IPY_MODEL_dcbc0583f1594ebaa35dbddc33c7f89e",
       "value": "3 / 204"
      }
     },
     "a8b9243f50f745848900ca59a4b2a15b": {
      "model_module": "@jupyter-widgets/base",
      "model_module_version": "1.2.0",
      "model_name": "LayoutModel",
      "state": {}
     },
     "a8f2448c60644bd2a47249f3cc2f16bd": {
      "model_module": "@jupyter-widgets/base",
      "model_module_version": "1.2.0",
      "model_name": "LayoutModel",
      "state": {}
     },
     "a90f83f27a7f4c6faaa01750a4ef287c": {
      "model_module": "@jupyter-widgets/base",
      "model_module_version": "1.2.0",
      "model_name": "LayoutModel",
      "state": {}
     },
     "a9385a03b25243d5b4c07eedc177e391": {
      "model_module": "@jupyter-widgets/base",
      "model_module_version": "1.2.0",
      "model_name": "LayoutModel",
      "state": {}
     },
     "a980933369764a59b7f011213d41760d": {
      "model_module": "@jupyter-widgets/controls",
      "model_module_version": "1.5.0",
      "model_name": "LabelModel",
      "state": {
       "layout": "IPY_MODEL_7f5bfa9ccf4b41c3bef729baa13d6033",
       "style": "IPY_MODEL_f4f4334ebadd4717b6f732e3471bb7e0",
       "value": "64 / 64"
      }
     },
     "aa00915a5099452da1048c31f0693f52": {
      "model_module": "@jupyter-widgets/base",
      "model_module_version": "1.2.0",
      "model_name": "LayoutModel",
      "state": {}
     },
     "aa0a2e06e3684ad7993a4ea3b1210e77": {
      "model_module": "@jupyter-widgets/base",
      "model_module_version": "1.2.0",
      "model_name": "LayoutModel",
      "state": {}
     },
     "aa45a6b6880646d093ca000a0433cf31": {
      "model_module": "@jupyter-widgets/controls",
      "model_module_version": "1.5.0",
      "model_name": "VBoxModel",
      "state": {
       "children": [
        "IPY_MODEL_0b2b7c49ba3f488a9ec40699df46c259",
        "IPY_MODEL_ea718225baf142289b262d2203499848",
        "IPY_MODEL_d2c771cbef71447784b0454165d002db",
        "IPY_MODEL_6c7b6178ee984a4bb0ace9189da93241",
        "IPY_MODEL_5bf9316165204b7c9f228cbfbbbb72ce",
        "IPY_MODEL_c453b7d32bb145928db5bda4725f1d04",
        "IPY_MODEL_8ee076f759194c0aad615dc3dc48c4bc",
        "IPY_MODEL_428699e20b1640ce817303e162fb50f0",
        "IPY_MODEL_c37b78daebf643838116164cdb527dae",
        "IPY_MODEL_0c12b98f42044277b16eff4d87731bf1",
        "IPY_MODEL_74747e7b173e4cfb83ee0cbb4eea5b3c",
        "IPY_MODEL_828d1e6bce354170b1642a251a995cbe",
        "IPY_MODEL_956d6f9e1484481eb4bc196f4c9517ae",
        "IPY_MODEL_a748824754cd472196f4dd4ff481fd07",
        "IPY_MODEL_98f9c8454e744970b5572b2a9085bd31",
        "IPY_MODEL_d6fbbe7aa3684e008906ee69be3e9434"
       ],
       "layout": "IPY_MODEL_f2d2f461ff5a42668f3449fd2ae025e3"
      }
     },
     "aa7ba226e0e4458ea4f14a993f777dc7": {
      "model_module": "@jupyter-widgets/controls",
      "model_module_version": "1.5.0",
      "model_name": "IntProgressModel",
      "state": {
       "bar_style": "success",
       "description": "100.00%",
       "layout": "IPY_MODEL_7eb64d4d44a24a19be3b98e37d181c06",
       "max": 255,
       "style": "IPY_MODEL_0b27ec6f93644324b3a4730249a76535",
       "value": 255
      }
     },
     "aa81ce444ed04230b47a7df9d75fabb4": {
      "model_module": "@jupyter-widgets/controls",
      "model_module_version": "1.5.0",
      "model_name": "DescriptionStyleModel",
      "state": {
       "description_width": ""
      }
     },
     "aa98c002a6244931a3c2351780748bae": {
      "model_module": "@jupyter-widgets/controls",
      "model_module_version": "1.5.0",
      "model_name": "HBoxModel",
      "state": {
       "children": [
        "IPY_MODEL_a596324811e44d0184ace32a5d59f3e7",
        "IPY_MODEL_59d0b1c208bc41eca8dfdcfcce4bfb50"
       ],
       "layout": "IPY_MODEL_6a14cc509aa848ba8abeb2dc6d32d09e"
      }
     },
     "aaa3daf082294dcdbfe9673773725d7d": {
      "model_module": "@jupyter-widgets/controls",
      "model_module_version": "1.5.0",
      "model_name": "IntProgressModel",
      "state": {
       "bar_style": "success",
       "description": "100.00%",
       "layout": "IPY_MODEL_a8375653227845138cc2bfd6dbf79c1f",
       "max": 204,
       "style": "IPY_MODEL_e10525f20b974aea9f1a49611b3f699d",
       "value": 204
      }
     },
     "aaa96a4a69464600820e201300322a85": {
      "model_module": "@jupyter-widgets/controls",
      "model_module_version": "1.5.0",
      "model_name": "HBoxModel",
      "state": {
       "children": [
        "IPY_MODEL_22b754ac90c84393adf25ba7ce574c29",
        "IPY_MODEL_7acab5a87c554e1093c1ded1a31d7094"
       ],
       "layout": "IPY_MODEL_7b8e3018e2c54e50869166dbf6a5bc7d"
      }
     },
     "aade158380334394a5a85202ced9734b": {
      "model_module": "@jupyter-widgets/base",
      "model_module_version": "1.2.0",
      "model_name": "LayoutModel",
      "state": {}
     },
     "aae410afcd9840e8846859f594fe1f3a": {
      "model_module": "@jupyter-widgets/controls",
      "model_module_version": "1.5.0",
      "model_name": "IntProgressModel",
      "state": {
       "bar_style": "success",
       "description": "100.00%",
       "layout": "IPY_MODEL_827d1c4f1c184d19ad6eb6f6a844d261",
       "max": 64,
       "style": "IPY_MODEL_2ddb831aa3de4c4cb5f3800ae8995c50",
       "value": 64
      }
     },
     "ab0c816ebd8040fdad74860bb600657e": {
      "model_module": "@jupyter-widgets/base",
      "model_module_version": "1.2.0",
      "model_name": "LayoutModel",
      "state": {}
     },
     "ab2fcf64deeb4107b3ff1202a8106e58": {
      "model_module": "@jupyter-widgets/base",
      "model_module_version": "1.2.0",
      "model_name": "LayoutModel",
      "state": {}
     },
     "ab47b90bec2744c8932d778a809d345f": {
      "model_module": "@jupyter-widgets/base",
      "model_module_version": "1.2.0",
      "model_name": "LayoutModel",
      "state": {}
     },
     "abb1305469854f419463dcea1768e961": {
      "model_module": "@jupyter-widgets/base",
      "model_module_version": "1.2.0",
      "model_name": "LayoutModel",
      "state": {}
     },
     "abb6b8ecfb5d42d6b331188aaae85e2a": {
      "model_module": "@jupyter-widgets/controls",
      "model_module_version": "1.5.0",
      "model_name": "LabelModel",
      "state": {
       "layout": "IPY_MODEL_a69bf780c989407ea41f6edc3a5c4e73",
       "style": "IPY_MODEL_febb9dc322ef4b0788d93d704fbbaeb4",
       "value": "204 / 204"
      }
     },
     "abbe711446ad444a8e47f9fbaeffce35": {
      "model_module": "@jupyter-widgets/base",
      "model_module_version": "1.2.0",
      "model_name": "LayoutModel",
      "state": {}
     },
     "abfedf0cd2ac4fddb95b6577dfdd029b": {
      "model_module": "@jupyter-widgets/controls",
      "model_module_version": "1.5.0",
      "model_name": "DescriptionStyleModel",
      "state": {
       "description_width": ""
      }
     },
     "ac29027dec2f4879b788e3ab53e3aa81": {
      "model_module": "@jupyter-widgets/controls",
      "model_module_version": "1.5.0",
      "model_name": "IntProgressModel",
      "state": {
       "bar_style": "success",
       "description": "100.00%",
       "layout": "IPY_MODEL_a709e25c4a0146ad869b03604714653a",
       "max": 64,
       "style": "IPY_MODEL_3af6e64abdb8420b9b5fa72d7e4f0109",
       "value": 64
      }
     },
     "ac6fa8bfb83741e097c97167afb4bbee": {
      "model_module": "@jupyter-widgets/base",
      "model_module_version": "1.2.0",
      "model_name": "LayoutModel",
      "state": {}
     },
     "acb8731d097e46b48fa7bf61f29e9d80": {
      "model_module": "@jupyter-widgets/controls",
      "model_module_version": "1.5.0",
      "model_name": "HBoxModel",
      "state": {
       "children": [
        "IPY_MODEL_f9788699a1b84080acb5cfdc9a1bf48c",
        "IPY_MODEL_2eb279c739f04037b912d216b7a4b69e"
       ],
       "layout": "IPY_MODEL_06e50aee938c47d499bf8c7be0e7f9b9"
      }
     },
     "accacbf502a74195b2e4f226b9d5dfea": {
      "model_module": "@jupyter-widgets/controls",
      "model_module_version": "1.5.0",
      "model_name": "HBoxModel",
      "state": {
       "children": [
        "IPY_MODEL_a25167a57de0485381c9de194d68b3c0",
        "IPY_MODEL_6f312cde07bf423087330b72518b1ed8"
       ],
       "layout": "IPY_MODEL_46722c8921ac454e8dca44ec41db7246"
      }
     },
     "ace8f58f6ecd4183872c531cedc6314b": {
      "model_module": "@jupyter-widgets/base",
      "model_module_version": "1.2.0",
      "model_name": "LayoutModel",
      "state": {}
     },
     "ad16e652da624361b59e2d93f59835b2": {
      "model_module": "@jupyter-widgets/controls",
      "model_module_version": "1.5.0",
      "model_name": "LabelModel",
      "state": {
       "layout": "IPY_MODEL_f9e202266de545b4a1fd1a4fb6b21429",
       "style": "IPY_MODEL_0b1b8258b09f4ea48c7635ef3839fd40",
       "value": "3 / 204"
      }
     },
     "ad1ff853b39046738620255ff7c0b0f9": {
      "model_module": "@jupyter-widgets/controls",
      "model_module_version": "1.5.0",
      "model_name": "ProgressStyleModel",
      "state": {
       "description_width": ""
      }
     },
     "ad306b1cdbe84b2589342de3d8ba0028": {
      "model_module": "@jupyter-widgets/base",
      "model_module_version": "1.2.0",
      "model_name": "LayoutModel",
      "state": {}
     },
     "ad5355fc336e4a0bb9b64bb181f12b46": {
      "model_module": "@jupyter-widgets/base",
      "model_module_version": "1.2.0",
      "model_name": "LayoutModel",
      "state": {}
     },
     "ad809601821e49a6aae6a284b303c087": {
      "model_module": "@jupyter-widgets/controls",
      "model_module_version": "1.5.0",
      "model_name": "IntProgressModel",
      "state": {
       "bar_style": "success",
       "description": "100.00%",
       "layout": "IPY_MODEL_e881511f015f484b8c834b3d690e2f38",
       "max": 205,
       "style": "IPY_MODEL_cb0fda0b931645fb91f0eff86dd98b29",
       "value": 205
      }
     },
     "ad98bb0c0c9e41789059fa20cb88ec97": {
      "model_module": "@jupyter-widgets/base",
      "model_module_version": "1.2.0",
      "model_name": "LayoutModel",
      "state": {}
     },
     "ad9aa38284934a19b08701fcbc28c4db": {
      "model_module": "@jupyter-widgets/controls",
      "model_module_version": "1.5.0",
      "model_name": "ProgressStyleModel",
      "state": {
       "description_width": ""
      }
     },
     "ad9c991ce1014a3eb18f8c60eb7da848": {
      "model_module": "@jupyter-widgets/base",
      "model_module_version": "1.2.0",
      "model_name": "LayoutModel",
      "state": {}
     },
     "add83d2e7db54720bed82bc8d93beb79": {
      "model_module": "@jupyter-widgets/base",
      "model_module_version": "1.2.0",
      "model_name": "LayoutModel",
      "state": {}
     },
     "adf279ca47774ffea831aac8164140c8": {
      "model_module": "@jupyter-widgets/controls",
      "model_module_version": "1.5.0",
      "model_name": "ProgressStyleModel",
      "state": {
       "description_width": ""
      }
     },
     "ae36e358da584960a1616e7c0ce632ce": {
      "model_module": "@jupyter-widgets/controls",
      "model_module_version": "1.5.0",
      "model_name": "IntProgressModel",
      "state": {
       "bar_style": "success",
       "description": "100.00%",
       "layout": "IPY_MODEL_a8f2448c60644bd2a47249f3cc2f16bd",
       "max": 255,
       "style": "IPY_MODEL_4e4255cec911444081f21c063349fdc4",
       "value": 255
      }
     },
     "ae48201052f4454cb17526cc4f701603": {
      "model_module": "@jupyter-widgets/base",
      "model_module_version": "1.2.0",
      "model_name": "LayoutModel",
      "state": {}
     },
     "ae5c1c5a306b4dd6aaa4061ca449481c": {
      "model_module": "@jupyter-widgets/base",
      "model_module_version": "1.2.0",
      "model_name": "LayoutModel",
      "state": {}
     },
     "af398c3e8efe46d1ba9353a966744c3c": {
      "model_module": "@jupyter-widgets/controls",
      "model_module_version": "1.5.0",
      "model_name": "LabelModel",
      "state": {
       "layout": "IPY_MODEL_f3cadf785abe4833ad060a15568d4804",
       "style": "IPY_MODEL_3cf16af9587046f089fbfb0bdff65f84",
       "value": "204 / 204"
      }
     },
     "af4a112eddb04bd091c2c5e19d632bfe": {
      "model_module": "@jupyter-widgets/controls",
      "model_module_version": "1.5.0",
      "model_name": "HBoxModel",
      "state": {
       "children": [
        "IPY_MODEL_2093f6441a21491093d52c77fa2bc0fa",
        "IPY_MODEL_e6d1a786b1fc451288574da0fa989da7"
       ],
       "layout": "IPY_MODEL_02e95cd1753e44d3a65b048e5780828e"
      }
     },
     "b027da25c4d14ae0948efd531aab2040": {
      "model_module": "@jupyter-widgets/controls",
      "model_module_version": "1.5.0",
      "model_name": "ProgressStyleModel",
      "state": {
       "description_width": ""
      }
     },
     "b031f725b8444670af4468b28ef6ba5c": {
      "model_module": "@jupyter-widgets/controls",
      "model_module_version": "1.5.0",
      "model_name": "ProgressStyleModel",
      "state": {
       "description_width": ""
      }
     },
     "b089825c67544f2daf7e1a0519e2cfc7": {
      "model_module": "@jupyter-widgets/base",
      "model_module_version": "1.2.0",
      "model_name": "LayoutModel",
      "state": {}
     },
     "b0a186c78dc9452b90c04245015cdf37": {
      "model_module": "@jupyter-widgets/base",
      "model_module_version": "1.2.0",
      "model_name": "LayoutModel",
      "state": {}
     },
     "b0dc15a8d1da42c9ab3abaa5a2b5a076": {
      "model_module": "@jupyter-widgets/controls",
      "model_module_version": "1.5.0",
      "model_name": "ProgressStyleModel",
      "state": {
       "description_width": ""
      }
     },
     "b18da80d86cd4dcfb13805288896054a": {
      "model_module": "@jupyter-widgets/base",
      "model_module_version": "1.2.0",
      "model_name": "LayoutModel",
      "state": {}
     },
     "b216fed234a640349355f4e095c4a7d2": {
      "model_module": "@jupyter-widgets/base",
      "model_module_version": "1.2.0",
      "model_name": "LayoutModel",
      "state": {}
     },
     "b279951714ff49a5b7d4d0b9da4f2803": {
      "model_module": "@jupyter-widgets/controls",
      "model_module_version": "1.5.0",
      "model_name": "ProgressStyleModel",
      "state": {
       "description_width": ""
      }
     },
     "b28167ce037c4538ae956022f078b611": {
      "model_module": "@jupyter-widgets/controls",
      "model_module_version": "1.5.0",
      "model_name": "DescriptionStyleModel",
      "state": {
       "description_width": ""
      }
     },
     "b2dc3e1b2331424aa1019457fc0c98ec": {
      "model_module": "@jupyter-widgets/base",
      "model_module_version": "1.2.0",
      "model_name": "LayoutModel",
      "state": {}
     },
     "b2ec2a2ad0c54c948b9de75a64c52637": {
      "model_module": "@jupyter-widgets/base",
      "model_module_version": "1.2.0",
      "model_name": "LayoutModel",
      "state": {}
     },
     "b33a82ab864943af94b03700e7a4881d": {
      "model_module": "@jupyter-widgets/controls",
      "model_module_version": "1.5.0",
      "model_name": "ProgressStyleModel",
      "state": {
       "description_width": ""
      }
     },
     "b36e00ff6af342e886ac3b2adced7114": {
      "model_module": "@jupyter-widgets/controls",
      "model_module_version": "1.5.0",
      "model_name": "IntProgressModel",
      "state": {
       "bar_style": "success",
       "description": "100.00%",
       "layout": "IPY_MODEL_5f284f5130f440cf91a07bc2bba84695",
       "max": 204,
       "style": "IPY_MODEL_eaa81dac42ff4067acdd27e421426230",
       "value": 204
      }
     },
     "b3c85808a2fa4532acc48e12a1177f1c": {
      "model_module": "@jupyter-widgets/controls",
      "model_module_version": "1.5.0",
      "model_name": "IntProgressModel",
      "state": {
       "bar_style": "success",
       "description": "100.00%",
       "layout": "IPY_MODEL_9bf26fd3991340029378fb07fac426e5",
       "max": 204,
       "style": "IPY_MODEL_6c4cebb1fd25425cae2deec5faa09a96",
       "value": 204
      }
     },
     "b44cadeedabe4003915f8e482aed1e70": {
      "model_module": "@jupyter-widgets/controls",
      "model_module_version": "1.5.0",
      "model_name": "IntProgressModel",
      "state": {
       "description": "61.76%",
       "layout": "IPY_MODEL_ccdab8e3d2fe41ce8537522c76cc49cf",
       "max": 204,
       "style": "IPY_MODEL_1d49bf83147a49f3ad9b6a7efffe5704",
       "value": 126
      }
     },
     "b471405d86ad4fcfab2a22297f5df83e": {
      "model_module": "@jupyter-widgets/base",
      "model_module_version": "1.2.0",
      "model_name": "LayoutModel",
      "state": {}
     },
     "b4b2261169024f479ce9c90b69801adf": {
      "model_module": "@jupyter-widgets/base",
      "model_module_version": "1.2.0",
      "model_name": "LayoutModel",
      "state": {}
     },
     "b4ef274c49c24d4dad2f9c29e7d77040": {
      "model_module": "@jupyter-widgets/controls",
      "model_module_version": "1.5.0",
      "model_name": "LabelModel",
      "state": {
       "layout": "IPY_MODEL_236d20aa6f5745a7a1440bfa5db52599",
       "style": "IPY_MODEL_735a2912ac154100935b10b099718444",
       "value": "64 / 64"
      }
     },
     "b4f3baa6145a47f298fa45a7de574a2f": {
      "model_module": "@jupyter-widgets/controls",
      "model_module_version": "1.5.0",
      "model_name": "DescriptionStyleModel",
      "state": {
       "description_width": ""
      }
     },
     "b57216f3a9d142e7bfe0734e1ef8fcc9": {
      "model_module": "@jupyter-widgets/base",
      "model_module_version": "1.2.0",
      "model_name": "LayoutModel",
      "state": {}
     },
     "b5a3e11ae7364b0fb8bdec194e39ed98": {
      "model_module": "@jupyter-widgets/base",
      "model_module_version": "1.2.0",
      "model_name": "LayoutModel",
      "state": {}
     },
     "b5d4b9e157634c74bd931adcfb3e7937": {
      "model_module": "@jupyter-widgets/controls",
      "model_module_version": "1.5.0",
      "model_name": "ProgressStyleModel",
      "state": {
       "description_width": ""
      }
     },
     "b5e5af04ae3349739981d38e145fe21c": {
      "model_module": "@jupyter-widgets/base",
      "model_module_version": "1.2.0",
      "model_name": "LayoutModel",
      "state": {}
     },
     "b622ba05e6c946faacf472962d17ee3e": {
      "model_module": "@jupyter-widgets/controls",
      "model_module_version": "1.5.0",
      "model_name": "VBoxModel",
      "state": {
       "children": [
        "IPY_MODEL_3a686f8948e74eed9fa75da97097ba1c",
        "IPY_MODEL_65186ed4e2ad4103b8563e77eb0114c0",
        "IPY_MODEL_bc761ced14c441cf8fb161f820d6edc8",
        "IPY_MODEL_a207a794003d4119b3da3fa366868c0a",
        "IPY_MODEL_640e23ea05954fcdbc6a4a45a2973314",
        "IPY_MODEL_d093454b81714cb9989785b475cf3007",
        "IPY_MODEL_f385817f79214b28b969e41e2ddc5650",
        "IPY_MODEL_e1cb7cee12244be48361b63162514a25",
        "IPY_MODEL_6977ce9f042e4358bcdec3a930543bb3",
        "IPY_MODEL_1bec477b5ca5403ba194427f26b29920",
        "IPY_MODEL_7f1b972fc86b4bc790474dfc4cc126d1",
        "IPY_MODEL_92213a4669764a88bfa200924fdc709a",
        "IPY_MODEL_40bedc49e0194cd388af450f45573c0f",
        "IPY_MODEL_74af9d06441347f3861bde713cb947e5",
        "IPY_MODEL_0cc730f80fce45cf9adbd30fa9b1965a",
        "IPY_MODEL_d510b58cc0b04475944ae22fde34617e"
       ],
       "layout": "IPY_MODEL_81f02795bee2429b94631260137275af"
      }
     },
     "b624a8933fd9487daa3e82090192a9cb": {
      "model_module": "@jupyter-widgets/controls",
      "model_module_version": "1.5.0",
      "model_name": "IntProgressModel",
      "state": {
       "description": "1.46%",
       "layout": "IPY_MODEL_75588aa5bbc64b508d5cd5cd6f57463a",
       "max": 205,
       "style": "IPY_MODEL_2af87f62503a42df8bb104a4597a39cd",
       "value": 3
      }
     },
     "b64010dd626d420f87ad2819c28a8db8": {
      "model_module": "@jupyter-widgets/base",
      "model_module_version": "1.2.0",
      "model_name": "LayoutModel",
      "state": {}
     },
     "b662b01d8a464396afe4bb8b76342525": {
      "model_module": "@jupyter-widgets/controls",
      "model_module_version": "1.5.0",
      "model_name": "IntProgressModel",
      "state": {
       "bar_style": "success",
       "description": "100.00%",
       "layout": "IPY_MODEL_4102d8f2d13c4345bb92b9357e649bb4",
       "max": 204,
       "style": "IPY_MODEL_d99dbaa3e0024f9b834b981265f489d5",
       "value": 204
      }
     },
     "b66f195bda844bccbcceebd348077274": {
      "model_module": "@jupyter-widgets/base",
      "model_module_version": "1.2.0",
      "model_name": "LayoutModel",
      "state": {}
     },
     "b68f8614de884c70898958be975656ab": {
      "model_module": "@jupyter-widgets/base",
      "model_module_version": "1.2.0",
      "model_name": "LayoutModel",
      "state": {}
     },
     "b698d95f101c46419ba64d34c1598d0e": {
      "model_module": "@jupyter-widgets/base",
      "model_module_version": "1.2.0",
      "model_name": "LayoutModel",
      "state": {}
     },
     "b69bba6795444c3c9a5b4fb73d44e7be": {
      "model_module": "@jupyter-widgets/base",
      "model_module_version": "1.2.0",
      "model_name": "LayoutModel",
      "state": {}
     },
     "b6c0615483ff4ff996f61b84c07210d1": {
      "model_module": "@jupyter-widgets/controls",
      "model_module_version": "1.5.0",
      "model_name": "DescriptionStyleModel",
      "state": {
       "description_width": ""
      }
     },
     "b6faccf0aa7c4e02b420dc017236815f": {
      "model_module": "@jupyter-widgets/controls",
      "model_module_version": "1.5.0",
      "model_name": "ProgressStyleModel",
      "state": {
       "description_width": ""
      }
     },
     "b73c67a2ae024fbfadfccbc432996b61": {
      "model_module": "@jupyter-widgets/controls",
      "model_module_version": "1.5.0",
      "model_name": "ProgressStyleModel",
      "state": {
       "description_width": ""
      }
     },
     "b760d19a6179441cae184c73d4e2565a": {
      "model_module": "@jupyter-widgets/base",
      "model_module_version": "1.2.0",
      "model_name": "LayoutModel",
      "state": {}
     },
     "b7f26a0014554ffc8ce32012f0adeacb": {
      "model_module": "@jupyter-widgets/controls",
      "model_module_version": "1.5.0",
      "model_name": "DescriptionStyleModel",
      "state": {
       "description_width": ""
      }
     },
     "b7f97574044545daaddcba09b9d9f055": {
      "model_module": "@jupyter-widgets/base",
      "model_module_version": "1.2.0",
      "model_name": "LayoutModel",
      "state": {}
     },
     "b824b2d02d8f49d3b971caf576aa84bb": {
      "model_module": "@jupyter-widgets/controls",
      "model_module_version": "1.5.0",
      "model_name": "IntProgressModel",
      "state": {
       "bar_style": "success",
       "description": "100.00%",
       "layout": "IPY_MODEL_d23b8ff19fee4280ab8d04ab7988a523",
       "max": 64,
       "style": "IPY_MODEL_a57b8052d9fa4ec3b43d5488bdf71a91",
       "value": 64
      }
     },
     "b8547b3db9c34d728cff60b7895260aa": {
      "model_module": "@jupyter-widgets/controls",
      "model_module_version": "1.5.0",
      "model_name": "LabelModel",
      "state": {
       "layout": "IPY_MODEL_7548704ebde64c399fcc441c10d3a65c",
       "style": "IPY_MODEL_7c14531148b2453c805f35a19101202a",
       "value": "64 / 64"
      }
     },
     "b85eb0e3795841c6bacf15d271df0f67": {
      "model_module": "@jupyter-widgets/controls",
      "model_module_version": "1.5.0",
      "model_name": "DescriptionStyleModel",
      "state": {
       "description_width": ""
      }
     },
     "b87116607cc549dc81ac3ea204ee2a1a": {
      "model_module": "@jupyter-widgets/base",
      "model_module_version": "1.2.0",
      "model_name": "LayoutModel",
      "state": {}
     },
     "b93262bf690645bbb940a3492ebcacda": {
      "model_module": "@jupyter-widgets/controls",
      "model_module_version": "1.5.0",
      "model_name": "HBoxModel",
      "state": {
       "children": [
        "IPY_MODEL_a84d7046bc9d4cb0bf5bb9e7a3b24be1",
        "IPY_MODEL_0f54a7461ffa449aaf65b608c8181be3"
       ],
       "layout": "IPY_MODEL_a8b9243f50f745848900ca59a4b2a15b"
      }
     },
     "b9679e122a564e4fb0b1e2b686cf9e4a": {
      "model_module": "@jupyter-widgets/base",
      "model_module_version": "1.2.0",
      "model_name": "LayoutModel",
      "state": {}
     },
     "b967edd2d6ea4b719aefe5879db1b4fd": {
      "model_module": "@jupyter-widgets/controls",
      "model_module_version": "1.5.0",
      "model_name": "LabelModel",
      "state": {
       "layout": "IPY_MODEL_fb6aeb7b7ade4f82827349f0f22ffa76",
       "style": "IPY_MODEL_95ae0006bfb24ebcb4cc3e8cceb8b18f",
       "value": "64 / 64"
      }
     },
     "b97c6ed4b1ff4ec096cad9f2531edd09": {
      "model_module": "@jupyter-widgets/base",
      "model_module_version": "1.2.0",
      "model_name": "LayoutModel",
      "state": {}
     },
     "b99e1de9a83e4a7a8fa3526b527a2c6c": {
      "model_module": "@jupyter-widgets/controls",
      "model_module_version": "1.5.0",
      "model_name": "LabelModel",
      "state": {
       "layout": "IPY_MODEL_5bdcec35c8fe4ef194cc082514e0dadc",
       "style": "IPY_MODEL_7ff7f2eccb4c4474883a2976ee498b96",
       "value": "256 / 256"
      }
     },
     "b9a4118c4c1d46e7851a3d5a0711698c": {
      "model_module": "@jupyter-widgets/controls",
      "model_module_version": "1.5.0",
      "model_name": "VBoxModel",
      "state": {
       "children": [
        "IPY_MODEL_e85acddd8c964c77852870ed92ba8639",
        "IPY_MODEL_714b388839ec4f5687f065c5b0dfcd59",
        "IPY_MODEL_c82a17a794d641d682ca2447d46c74c8",
        "IPY_MODEL_09fa685960084408928358ea036ca78f",
        "IPY_MODEL_db45f99fad8648708cbcee54698f5609",
        "IPY_MODEL_6d94c569e2e34362b6979b2287d50a0d",
        "IPY_MODEL_0fd3712685004818a4406f1f5004dce7",
        "IPY_MODEL_47b11bc73b514790bcec9d0dbced6e6a",
        "IPY_MODEL_e7e58a261ec34281addc792b49c4757b",
        "IPY_MODEL_e2d24ab57e644f09b4be4deb4e0cb41b",
        "IPY_MODEL_6715fe5dda2d4153a31ba7334e09ebf5",
        "IPY_MODEL_53e816b9f4cc4a199ebf4d0319fcb613",
        "IPY_MODEL_6ef86490ebe743cc88034c9e375d02d9",
        "IPY_MODEL_fc27bc7cd0154411a50a05191e3be4ff",
        "IPY_MODEL_128fe77feee54b82a023e00aa81e13b5",
        "IPY_MODEL_8eedce9a6d4c4e80acf9cf96671bc090"
       ],
       "layout": "IPY_MODEL_67ff50217f224119a994180dd03b2a3d"
      }
     },
     "b9cef77bfc134adbaead24f396cd208a": {
      "model_module": "@jupyter-widgets/base",
      "model_module_version": "1.2.0",
      "model_name": "LayoutModel",
      "state": {}
     },
     "b9e8ff4c045d43208c1c99ccaf8e5680": {
      "model_module": "@jupyter-widgets/controls",
      "model_module_version": "1.5.0",
      "model_name": "IntProgressModel",
      "state": {
       "bar_style": "success",
       "description": "100.00%",
       "layout": "IPY_MODEL_fad49632a39b429091cff4e531c133ce",
       "max": 205,
       "style": "IPY_MODEL_723ffe9cf4ac489b84b6abea93469900",
       "value": 205
      }
     },
     "b9f5712465c342e48133a5f28bb4dbf1": {
      "model_module": "@jupyter-widgets/controls",
      "model_module_version": "1.5.0",
      "model_name": "IntProgressModel",
      "state": {
       "bar_style": "danger",
       "description": "0.00%",
       "layout": "IPY_MODEL_b2ec2a2ad0c54c948b9de75a64c52637",
       "max": 1022,
       "style": "IPY_MODEL_2f0420db6bc4491c82821a3c177b7090"
      }
     },
     "ba25548af36349b887cd2ccd44458ebc": {
      "model_module": "@jupyter-widgets/controls",
      "model_module_version": "1.5.0",
      "model_name": "HBoxModel",
      "state": {
       "children": [
        "IPY_MODEL_472291a38d5746879199509623ee5e31",
        "IPY_MODEL_7ef765c742d7424190bb3a08edc5176e"
       ],
       "layout": "IPY_MODEL_e6f02ad370ab46589ac0ee435808aaaa"
      }
     },
     "ba4e9154875a46ecbc0ab705869a53b5": {
      "model_module": "@jupyter-widgets/base",
      "model_module_version": "1.2.0",
      "model_name": "LayoutModel",
      "state": {}
     },
     "ba6a1688653b4be1a41f9afe95743480": {
      "model_module": "@jupyter-widgets/base",
      "model_module_version": "1.2.0",
      "model_name": "LayoutModel",
      "state": {}
     },
     "ba8de85703b9413f95b40a2780d5dc1d": {
      "model_module": "@jupyter-widgets/controls",
      "model_module_version": "1.5.0",
      "model_name": "DescriptionStyleModel",
      "state": {
       "description_width": ""
      }
     },
     "baa4eecdf7c944299000f1a559a4cb3b": {
      "model_module": "@jupyter-widgets/base",
      "model_module_version": "1.2.0",
      "model_name": "LayoutModel",
      "state": {}
     },
     "baa552c85ced4067802aafb93ea808e0": {
      "model_module": "@jupyter-widgets/controls",
      "model_module_version": "1.5.0",
      "model_name": "HBoxModel",
      "state": {
       "children": [
        "IPY_MODEL_207138735e734ac792387e48c0757d35",
        "IPY_MODEL_d85c627c6b7b405a9f913efea0c865f7"
       ],
       "layout": "IPY_MODEL_f265c140fd3b466db881b4bd6a27ba59"
      }
     },
     "baca0d31573546d397953c75d50bbc42": {
      "model_module": "@jupyter-widgets/controls",
      "model_module_version": "1.5.0",
      "model_name": "DescriptionStyleModel",
      "state": {
       "description_width": ""
      }
     },
     "bacadb955c90412d903b978ea2970ad4": {
      "model_module": "@jupyter-widgets/controls",
      "model_module_version": "1.5.0",
      "model_name": "IntProgressModel",
      "state": {
       "bar_style": "success",
       "description": "100.00%",
       "layout": "IPY_MODEL_abb1305469854f419463dcea1768e961",
       "max": 255,
       "style": "IPY_MODEL_dd6444dbacbe45dda93fba7adf831af3",
       "value": 255
      }
     },
     "bb21b4546cdb4aa794021aada47509ac": {
      "model_module": "@jupyter-widgets/controls",
      "model_module_version": "1.5.0",
      "model_name": "IntProgressModel",
      "state": {
       "bar_style": "success",
       "description": "100.00%",
       "layout": "IPY_MODEL_82a26183afee44f39581bfeddbfdfeb4",
       "max": 204,
       "style": "IPY_MODEL_8c0694ee4cb1436d8290aaa9fbdd0bcf",
       "value": 204
      }
     },
     "bb27fcfe04e44b98a9e6d81e22d34422": {
      "model_module": "@jupyter-widgets/base",
      "model_module_version": "1.2.0",
      "model_name": "LayoutModel",
      "state": {}
     },
     "bc0363558e1648019054f71357590a3b": {
      "model_module": "@jupyter-widgets/controls",
      "model_module_version": "1.5.0",
      "model_name": "IntProgressModel",
      "state": {
       "description": "1.47%",
       "layout": "IPY_MODEL_789a7b43810a461cb9ca6e41efc7a828",
       "max": 204,
       "style": "IPY_MODEL_983d8e0229104d2e882224782b3fda09",
       "value": 3
      }
     },
     "bc1ade3cb2b34449a7795ec1e7b83d39": {
      "model_module": "@jupyter-widgets/base",
      "model_module_version": "1.2.0",
      "model_name": "LayoutModel",
      "state": {}
     },
     "bc50ce0e02364b0cb4db0aa733abaa18": {
      "model_module": "@jupyter-widgets/base",
      "model_module_version": "1.2.0",
      "model_name": "LayoutModel",
      "state": {}
     },
     "bc6eb6d016cb49b7bd4b0700b2d2672f": {
      "model_module": "@jupyter-widgets/base",
      "model_module_version": "1.2.0",
      "model_name": "LayoutModel",
      "state": {}
     },
     "bc761ced14c441cf8fb161f820d6edc8": {
      "model_module": "@jupyter-widgets/controls",
      "model_module_version": "1.5.0",
      "model_name": "HBoxModel",
      "state": {
       "children": [
        "IPY_MODEL_5834b0128671428a83c6c08c4e30fe71",
        "IPY_MODEL_6f74d6d20416459db79d47fb21ca896b"
       ],
       "layout": "IPY_MODEL_73c481c6051e4b42896838da1b3ceab2"
      }
     },
     "bcb2064d564843a6949869bab7069c8d": {
      "model_module": "@jupyter-widgets/base",
      "model_module_version": "1.2.0",
      "model_name": "LayoutModel",
      "state": {}
     },
     "bce2d3d1de9b4e06b986fcc223a997bc": {
      "model_module": "@jupyter-widgets/controls",
      "model_module_version": "1.5.0",
      "model_name": "LabelModel",
      "state": {
       "layout": "IPY_MODEL_3dd2c3464f904797af0a8e0e0f07d438",
       "style": "IPY_MODEL_dde6513d63634f25aaf6401ab1f4dd32",
       "value": "204 / 204"
      }
     },
     "bd2476e6808e4e09a8917ce6eaf3d8fc": {
      "model_module": "@jupyter-widgets/controls",
      "model_module_version": "1.5.0",
      "model_name": "FloatProgressModel",
      "state": {
       "bar_style": "success",
       "layout": "IPY_MODEL_598246e0bb394c69b9182c8e64b7eb07",
       "max": 1,
       "style": "IPY_MODEL_e9d65da5f6bf4dffac336fcb3517c444",
       "value": 1
      }
     },
     "bd43f6805e7e40c2bd18d5cac327ecb1": {
      "model_module": "@jupyter-widgets/base",
      "model_module_version": "1.2.0",
      "model_name": "LayoutModel",
      "state": {}
     },
     "bd48b5e3aaf24d87a0161a458b6ca5c2": {
      "model_module": "@jupyter-widgets/controls",
      "model_module_version": "1.5.0",
      "model_name": "HBoxModel",
      "state": {
       "children": [
        "IPY_MODEL_1ec862e8abc946a4a2a95c9441c39df9",
        "IPY_MODEL_a7c0b964b5bd4d35bf95cd6016807541"
       ],
       "layout": "IPY_MODEL_2becc17c05c143b29ed5c355a34ba5ae"
      }
     },
     "bd645694d1eb44a89dc07a189511bef7": {
      "model_module": "@jupyter-widgets/controls",
      "model_module_version": "1.5.0",
      "model_name": "LabelModel",
      "state": {
       "layout": "IPY_MODEL_39e57ec553ac4f2f9cd58c4599824f51",
       "style": "IPY_MODEL_6bd9d1cdd6744c498ec2d5e622c8b571",
       "value": "255 / 255"
      }
     },
     "bda4e2a6fe47409a9bf84efa03afac2d": {
      "model_module": "@jupyter-widgets/controls",
      "model_module_version": "1.5.0",
      "model_name": "DescriptionStyleModel",
      "state": {
       "description_width": ""
      }
     },
     "bdc6da9731834175bf941b8d4005ea52": {
      "model_module": "@jupyter-widgets/controls",
      "model_module_version": "1.5.0",
      "model_name": "ProgressStyleModel",
      "state": {
       "description_width": ""
      }
     },
     "bdcadfe4e97c4c4f8da7a6052a48c422": {
      "model_module": "@jupyter-widgets/controls",
      "model_module_version": "1.5.0",
      "model_name": "IntProgressModel",
      "state": {
       "bar_style": "success",
       "description": "100.00%",
       "layout": "IPY_MODEL_c2f4687ae7264964a1e93683f4ec6f1b",
       "max": 64,
       "style": "IPY_MODEL_3c05ebd99a4340548b659549143d3230",
       "value": 64
      }
     },
     "bddaa70271a44907899ee1a668f08953": {
      "model_module": "@jupyter-widgets/base",
      "model_module_version": "1.2.0",
      "model_name": "LayoutModel",
      "state": {}
     },
     "bdf97f7df24346fba9164f78c497f024": {
      "model_module": "@jupyter-widgets/controls",
      "model_module_version": "1.5.0",
      "model_name": "DescriptionStyleModel",
      "state": {
       "description_width": ""
      }
     },
     "be0eb0d1873e421cabdc2ea05a9dcade": {
      "model_module": "@jupyter-widgets/controls",
      "model_module_version": "1.5.0",
      "model_name": "ProgressStyleModel",
      "state": {
       "description_width": ""
      }
     },
     "be7cb2f903974a08855500261fb3647c": {
      "model_module": "@jupyter-widgets/controls",
      "model_module_version": "1.5.0",
      "model_name": "ProgressStyleModel",
      "state": {
       "description_width": ""
      }
     },
     "be7e924bf4754d7a9a4389a672e2873e": {
      "model_module": "@jupyter-widgets/controls",
      "model_module_version": "1.5.0",
      "model_name": "IntProgressModel",
      "state": {
       "bar_style": "danger",
       "description": "0.00%",
       "layout": "IPY_MODEL_c6944d39611c4c57aa8e3e7507f43875",
       "max": 1022,
       "style": "IPY_MODEL_de63ace1df73491180745b022472fdb2"
      }
     },
     "be82a10b5d0c4ee2b0e361982508c74d": {
      "model_module": "@jupyter-widgets/controls",
      "model_module_version": "1.5.0",
      "model_name": "IntProgressModel",
      "state": {
       "bar_style": "success",
       "description": "100.00%",
       "layout": "IPY_MODEL_f9f902629ac04aaf94030ce8441889ed",
       "max": 204,
       "style": "IPY_MODEL_2c6a5498d5e049deaa0b23c3c15cae41",
       "value": 204
      }
     },
     "beae3e3e4be94ec799af0cff8951da23": {
      "model_module": "@jupyter-widgets/base",
      "model_module_version": "1.2.0",
      "model_name": "LayoutModel",
      "state": {}
     },
     "bf00407da1bf43de93961b94eb020a74": {
      "model_module": "@jupyter-widgets/controls",
      "model_module_version": "1.5.0",
      "model_name": "LabelModel",
      "state": {
       "layout": "IPY_MODEL_8aa0f1d2b7f6456d96e4ac1e51d9a5cd",
       "style": "IPY_MODEL_953b314275a1405bb828cb3192c2f050",
       "value": "3 / 204"
      }
     },
     "bf0adc1d3ba14a44ba210863c3b1c8f5": {
      "model_module": "@jupyter-widgets/controls",
      "model_module_version": "1.5.0",
      "model_name": "HBoxModel",
      "state": {
       "children": [
        "IPY_MODEL_1989aabfc2ad4541bd67c39681d14de5",
        "IPY_MODEL_f206d6eea7d4492b8b2155234789ce46"
       ],
       "layout": "IPY_MODEL_e585cb91549b41e3985dfcd14dcd3f37"
      }
     },
     "bf6d4c6194ec4b31a03fe99c4a15b8ea": {
      "model_module": "@jupyter-widgets/controls",
      "model_module_version": "1.5.0",
      "model_name": "ProgressStyleModel",
      "state": {
       "description_width": ""
      }
     },
     "bfa22bbd5dd94cb89e1f627080d84b43": {
      "model_module": "@jupyter-widgets/controls",
      "model_module_version": "1.5.0",
      "model_name": "DescriptionStyleModel",
      "state": {
       "description_width": ""
      }
     },
     "bfd0591eb99e44928c74fbc385fcdc22": {
      "model_module": "@jupyter-widgets/controls",
      "model_module_version": "1.5.0",
      "model_name": "IntProgressModel",
      "state": {
       "bar_style": "success",
       "description": "100.00%",
       "layout": "IPY_MODEL_11f1d15833544fa3925bfc98911e44ef",
       "max": 205,
       "style": "IPY_MODEL_92895475d28d4c91b1e1bc3b3b97abe8",
       "value": 205
      }
     },
     "c000f5da51aa4b6285fade8db42e4cf9": {
      "model_module": "@jupyter-widgets/base",
      "model_module_version": "1.2.0",
      "model_name": "LayoutModel",
      "state": {}
     },
     "c0286dfa1d584d3fb0621cc860a93d91": {
      "model_module": "@jupyter-widgets/controls",
      "model_module_version": "1.5.0",
      "model_name": "IntProgressModel",
      "state": {
       "description": "1.47%",
       "layout": "IPY_MODEL_82396e2d47e145d9b12de14a736a9409",
       "max": 204,
       "style": "IPY_MODEL_dbb4c881cffb4ee296a2cf6531d4c612",
       "value": 3
      }
     },
     "c056d90651bf40c7a054d2cf96d3d5cd": {
      "model_module": "@jupyter-widgets/base",
      "model_module_version": "1.2.0",
      "model_name": "LayoutModel",
      "state": {}
     },
     "c0755735b42349d7a93ea35ab00938ec": {
      "model_module": "@jupyter-widgets/controls",
      "model_module_version": "1.5.0",
      "model_name": "DescriptionStyleModel",
      "state": {
       "description_width": ""
      }
     },
     "c0f77dce29854a5488c7dd29333b7f9e": {
      "model_module": "@jupyter-widgets/base",
      "model_module_version": "1.2.0",
      "model_name": "LayoutModel",
      "state": {}
     },
     "c0ffff39687b4916971d5baf5bf2ff16": {
      "model_module": "@jupyter-widgets/base",
      "model_module_version": "1.2.0",
      "model_name": "LayoutModel",
      "state": {}
     },
     "c102c7db1c1c43d59fe66e6863b5ed93": {
      "model_module": "@jupyter-widgets/controls",
      "model_module_version": "1.5.0",
      "model_name": "IntProgressModel",
      "state": {
       "bar_style": "success",
       "description": "100.00%",
       "layout": "IPY_MODEL_b089825c67544f2daf7e1a0519e2cfc7",
       "max": 204,
       "style": "IPY_MODEL_3dde642ea4564c94bff761319dbbee8b",
       "value": 204
      }
     },
     "c141f59b025b455383cf666894099df3": {
      "model_module": "@jupyter-widgets/base",
      "model_module_version": "1.2.0",
      "model_name": "LayoutModel",
      "state": {}
     },
     "c1623276c8974062b92cdbdb081a8d70": {
      "model_module": "@jupyter-widgets/controls",
      "model_module_version": "1.5.0",
      "model_name": "LabelModel",
      "state": {
       "layout": "IPY_MODEL_a9385a03b25243d5b4c07eedc177e391",
       "style": "IPY_MODEL_8808471bf1194de1a78349c1bf80b026",
       "value": "204 / 204"
      }
     },
     "c16d1dc671f64d29b9031093fe09f939": {
      "model_module": "@jupyter-widgets/base",
      "model_module_version": "1.2.0",
      "model_name": "LayoutModel",
      "state": {}
     },
     "c16f9d9883584f9588dcef4179839398": {
      "model_module": "@jupyter-widgets/base",
      "model_module_version": "1.2.0",
      "model_name": "LayoutModel",
      "state": {}
     },
     "c1c7157b5b294aafbb8c07ff9ae60f07": {
      "model_module": "@jupyter-widgets/controls",
      "model_module_version": "1.5.0",
      "model_name": "LabelModel",
      "state": {
       "layout": "IPY_MODEL_421905d0b4374ee08b97e6218c40fe4a",
       "style": "IPY_MODEL_c994ed817b84438a8f94a1f3d95f875b",
       "value": "205 / 205"
      }
     },
     "c1cef15cccc747e7823bd0b703d5774e": {
      "model_module": "@jupyter-widgets/controls",
      "model_module_version": "1.5.0",
      "model_name": "LabelModel",
      "state": {
       "layout": "IPY_MODEL_ccbe90a3880047a496c850b9601c68dd",
       "style": "IPY_MODEL_e4da9352a7f24bc3ad1b5f07381a77a7",
       "value": "255 / 255"
      }
     },
     "c2aa851a10ec491ab85481c382d27659": {
      "model_module": "@jupyter-widgets/controls",
      "model_module_version": "1.5.0",
      "model_name": "HBoxModel",
      "state": {
       "children": [
        "IPY_MODEL_dae9ad1175ff4c9392c74822ad12d609",
        "IPY_MODEL_b967edd2d6ea4b719aefe5879db1b4fd"
       ],
       "layout": "IPY_MODEL_ee67f38afa364ea1b700bc56cae162cf"
      }
     },
     "c2c68b98c6564a9a9c137d749d69428d": {
      "model_module": "@jupyter-widgets/controls",
      "model_module_version": "1.5.0",
      "model_name": "DescriptionStyleModel",
      "state": {
       "description_width": ""
      }
     },
     "c2f4687ae7264964a1e93683f4ec6f1b": {
      "model_module": "@jupyter-widgets/base",
      "model_module_version": "1.2.0",
      "model_name": "LayoutModel",
      "state": {}
     },
     "c37b78daebf643838116164cdb527dae": {
      "model_module": "@jupyter-widgets/controls",
      "model_module_version": "1.5.0",
      "model_name": "HBoxModel",
      "state": {
       "children": [
        "IPY_MODEL_029204754b584c5d825490c29c9d9581",
        "IPY_MODEL_fdbef8cf2c3c4a7e8081cc467890b54b"
       ],
       "layout": "IPY_MODEL_06c7cfae635842009e69907db5d1eff6"
      }
     },
     "c3f38d4a6d3a4d3e97158a818fddec5e": {
      "model_module": "@jupyter-widgets/controls",
      "model_module_version": "1.5.0",
      "model_name": "ProgressStyleModel",
      "state": {
       "description_width": ""
      }
     },
     "c3fdae55823142a28e44d19643e2d5d4": {
      "model_module": "@jupyter-widgets/controls",
      "model_module_version": "1.5.0",
      "model_name": "LabelModel",
      "state": {
       "layout": "IPY_MODEL_17a307785a324093bb9ad9de3c801f86",
       "style": "IPY_MODEL_0a5d60cd49c84cc68cbf8221f21f0283",
       "value": "64 / 64"
      }
     },
     "c433e1bb61b443fba330231809047de4": {
      "model_module": "@jupyter-widgets/controls",
      "model_module_version": "1.5.0",
      "model_name": "DescriptionStyleModel",
      "state": {
       "description_width": ""
      }
     },
     "c4517630b2d646fea440ce7c815c2123": {
      "model_module": "@jupyter-widgets/base",
      "model_module_version": "1.2.0",
      "model_name": "LayoutModel",
      "state": {}
     },
     "c453b7d32bb145928db5bda4725f1d04": {
      "model_module": "@jupyter-widgets/controls",
      "model_module_version": "1.5.0",
      "model_name": "HBoxModel",
      "state": {
       "children": [
        "IPY_MODEL_a240f645ab2044d4b6aa9fe93dd8ce42",
        "IPY_MODEL_085a78ea78a549f69eb91c811406b566"
       ],
       "layout": "IPY_MODEL_7e3f19d4a95a494b94d4ec963125a31f"
      }
     },
     "c47ab5cf90a84109a7f990b1bcc62409": {
      "model_module": "@jupyter-widgets/base",
      "model_module_version": "1.2.0",
      "model_name": "LayoutModel",
      "state": {}
     },
     "c59ff18a40474f82a86cc92bc7fb7e64": {
      "model_module": "@jupyter-widgets/controls",
      "model_module_version": "1.5.0",
      "model_name": "ProgressStyleModel",
      "state": {
       "description_width": ""
      }
     },
     "c5dfbf3adc6a4d5cb543caf06b1ba356": {
      "model_module": "@jupyter-widgets/base",
      "model_module_version": "1.2.0",
      "model_name": "LayoutModel",
      "state": {}
     },
     "c6063eb6cfa24678a5cdc95109a9ef27": {
      "model_module": "@jupyter-widgets/base",
      "model_module_version": "1.2.0",
      "model_name": "LayoutModel",
      "state": {}
     },
     "c61b619820bc43578f05e74758baae23": {
      "model_module": "@jupyter-widgets/controls",
      "model_module_version": "1.5.0",
      "model_name": "IntProgressModel",
      "state": {
       "bar_style": "success",
       "description": "100.00%",
       "layout": "IPY_MODEL_ab0c816ebd8040fdad74860bb600657e",
       "max": 256,
       "style": "IPY_MODEL_d552e358734242cdb48699b5be68ac22",
       "value": 256
      }
     },
     "c63ea263128040368e2dba400e9ee838": {
      "model_module": "@jupyter-widgets/base",
      "model_module_version": "1.2.0",
      "model_name": "LayoutModel",
      "state": {}
     },
     "c673e4916f3f449f9fc24cf9a6d7056b": {
      "model_module": "@jupyter-widgets/controls",
      "model_module_version": "1.5.0",
      "model_name": "DescriptionStyleModel",
      "state": {
       "description_width": ""
      }
     },
     "c694194d70864ca7b0066190a4b56a8c": {
      "model_module": "@jupyter-widgets/base",
      "model_module_version": "1.2.0",
      "model_name": "LayoutModel",
      "state": {}
     },
     "c6944d39611c4c57aa8e3e7507f43875": {
      "model_module": "@jupyter-widgets/base",
      "model_module_version": "1.2.0",
      "model_name": "LayoutModel",
      "state": {}
     },
     "c6cf1511e3bb4f4bbe291baef3bf789e": {
      "model_module": "@jupyter-widgets/base",
      "model_module_version": "1.2.0",
      "model_name": "LayoutModel",
      "state": {}
     },
     "c6f33af10ac8474197c8f7a53d70ab02": {
      "model_module": "@jupyter-widgets/controls",
      "model_module_version": "1.5.0",
      "model_name": "IntProgressModel",
      "state": {
       "bar_style": "success",
       "description": "100.00%",
       "layout": "IPY_MODEL_e30fc45644a74a95aacc918896ca09ae",
       "max": 64,
       "style": "IPY_MODEL_fae7eb175e604e3db1b269b211e2bf32",
       "value": 64
      }
     },
     "c6f69c532c8c4ed8afa4546776432dd5": {
      "model_module": "@jupyter-widgets/controls",
      "model_module_version": "1.5.0",
      "model_name": "DescriptionStyleModel",
      "state": {
       "description_width": ""
      }
     },
     "c6fb67ae0081451282dfc37147a226f9": {
      "model_module": "@jupyter-widgets/base",
      "model_module_version": "1.2.0",
      "model_name": "LayoutModel",
      "state": {}
     },
     "c715127aaff54be8a30b70f079d5d40e": {
      "model_module": "@jupyter-widgets/base",
      "model_module_version": "1.2.0",
      "model_name": "LayoutModel",
      "state": {}
     },
     "c71d3fa545564d6b8482dd0ba501f0e7": {
      "model_module": "@jupyter-widgets/controls",
      "model_module_version": "1.5.0",
      "model_name": "HBoxModel",
      "state": {
       "children": [
        "IPY_MODEL_677232161cbb43bf9e1c1c9b848d3508",
        "IPY_MODEL_91eee7f5930c4a1c875522b1bf58234d"
       ],
       "layout": "IPY_MODEL_ace8f58f6ecd4183872c531cedc6314b"
      }
     },
     "c75bb901c2474359a6215978391d0744": {
      "model_module": "@jupyter-widgets/controls",
      "model_module_version": "1.5.0",
      "model_name": "IntProgressModel",
      "state": {
       "bar_style": "success",
       "description": "100.00%",
       "layout": "IPY_MODEL_722410d2fa2e4dd99f2689cd809d2b8e",
       "max": 63,
       "style": "IPY_MODEL_eedefa7bde334fb79426edffef40a3e1",
       "value": 63
      }
     },
     "c7aade54128941428f61ab8ac2fe712e": {
      "model_module": "@jupyter-widgets/controls",
      "model_module_version": "1.5.0",
      "model_name": "ProgressStyleModel",
      "state": {
       "description_width": ""
      }
     },
     "c802ed08257540b99f433dde629c511b": {
      "model_module": "@jupyter-widgets/controls",
      "model_module_version": "1.5.0",
      "model_name": "HBoxModel",
      "state": {
       "children": [
        "IPY_MODEL_bc0363558e1648019054f71357590a3b",
        "IPY_MODEL_bf00407da1bf43de93961b94eb020a74"
       ],
       "layout": "IPY_MODEL_73600f6c8921470e94c4f9fc6264bfdf"
      }
     },
     "c82a17a794d641d682ca2447d46c74c8": {
      "model_module": "@jupyter-widgets/controls",
      "model_module_version": "1.5.0",
      "model_name": "HBoxModel",
      "state": {
       "children": [
        "IPY_MODEL_a8545918616e4edea0711ce6d1815bdd",
        "IPY_MODEL_21768e5614114a51a5c29adc5c897b93"
       ],
       "layout": "IPY_MODEL_01aa5b21744b4cf9a6ac11454ddc19da"
      }
     },
     "c861162257e441eab086c9e81012bc53": {
      "model_module": "@jupyter-widgets/controls",
      "model_module_version": "1.5.0",
      "model_name": "LabelModel",
      "state": {
       "layout": "IPY_MODEL_08977563c9154400b76d0357c0082794",
       "style": "IPY_MODEL_4f1c0ac004554a3e91be6bae8f8a9f3e",
       "value": "205 / 205"
      }
     },
     "c8776ef67c3941d185390a857d9e4893": {
      "model_module": "@jupyter-widgets/base",
      "model_module_version": "1.2.0",
      "model_name": "LayoutModel",
      "state": {}
     },
     "c88225347e71473d9f9dc2353aadc894": {
      "model_module": "@jupyter-widgets/controls",
      "model_module_version": "1.5.0",
      "model_name": "LabelModel",
      "state": {
       "layout": "IPY_MODEL_62904e5d9c934cb0a053f1cd93d79b89",
       "style": "IPY_MODEL_a1000eb4969e4231b2671efe76723dea",
       "value": "256 / 256"
      }
     },
     "c8fbe3fd2f094ff59bd46dc29fb5a931": {
      "model_module": "@jupyter-widgets/base",
      "model_module_version": "1.2.0",
      "model_name": "LayoutModel",
      "state": {}
     },
     "c91aa0e926c046b186388f3e200013aa": {
      "model_module": "@jupyter-widgets/controls",
      "model_module_version": "1.5.0",
      "model_name": "HBoxModel",
      "state": {
       "children": [
        "IPY_MODEL_9463c3d76e7e4c689addd94e2c1466f7",
        "IPY_MODEL_dffdc57d26ea4dc99a1515d461369bdd"
       ],
       "layout": "IPY_MODEL_c694194d70864ca7b0066190a4b56a8c"
      }
     },
     "c9460dee863d49ccbe8cf23fc997a61e": {
      "model_module": "@jupyter-widgets/controls",
      "model_module_version": "1.5.0",
      "model_name": "DescriptionStyleModel",
      "state": {
       "description_width": ""
      }
     },
     "c984df0b937e449ea639c747f53b73f6": {
      "model_module": "@jupyter-widgets/controls",
      "model_module_version": "1.5.0",
      "model_name": "HBoxModel",
      "state": {
       "children": [
        "IPY_MODEL_3f0f31fc621c4ff4a50f57fd24f0754c",
        "IPY_MODEL_95fe71c31305480198dd2409e12900e5"
       ],
       "layout": "IPY_MODEL_f051acc55d3c4ec89c24c95f15c12ba2"
      }
     },
     "c9852b7ff7d14b40998c2d0e494fc075": {
      "model_module": "@jupyter-widgets/controls",
      "model_module_version": "1.5.0",
      "model_name": "HBoxModel",
      "state": {
       "children": [
        "IPY_MODEL_8fd4596f5d494272afe01da6b8ee16a7",
        "IPY_MODEL_d2a6d88c536a43b1b16c1f8f96114d4d"
       ],
       "layout": "IPY_MODEL_b68f8614de884c70898958be975656ab"
      }
     },
     "c994ed817b84438a8f94a1f3d95f875b": {
      "model_module": "@jupyter-widgets/controls",
      "model_module_version": "1.5.0",
      "model_name": "DescriptionStyleModel",
      "state": {
       "description_width": ""
      }
     },
     "c9bb8e63e3044eb1aaef9a75c72d8f26": {
      "model_module": "@jupyter-widgets/controls",
      "model_module_version": "1.5.0",
      "model_name": "IntProgressModel",
      "state": {
       "bar_style": "success",
       "description": "100.00%",
       "layout": "IPY_MODEL_9cf0518a3bd94522a1ea929da6a40157",
       "max": 64,
       "style": "IPY_MODEL_2a81c055911f4e979a45353f5cacd81b",
       "value": 64
      }
     },
     "c9d106f404bd415c954468e269bf0edc": {
      "model_module": "@jupyter-widgets/controls",
      "model_module_version": "1.5.0",
      "model_name": "ProgressStyleModel",
      "state": {
       "description_width": ""
      }
     },
     "c9f8cd878b314bfd98c1ea48c8df68f6": {
      "model_module": "@jupyter-widgets/base",
      "model_module_version": "1.2.0",
      "model_name": "LayoutModel",
      "state": {}
     },
     "ca8649f6a1d1497fb7c3e272f8a94fe5": {
      "model_module": "@jupyter-widgets/controls",
      "model_module_version": "1.5.0",
      "model_name": "ProgressStyleModel",
      "state": {
       "description_width": ""
      }
     },
     "ca86d256b5154481abcc570c69e07fea": {
      "model_module": "@jupyter-widgets/controls",
      "model_module_version": "1.5.0",
      "model_name": "ProgressStyleModel",
      "state": {
       "description_width": ""
      }
     },
     "caddfa37289847afb2451c04711c9c93": {
      "model_module": "@jupyter-widgets/base",
      "model_module_version": "1.2.0",
      "model_name": "LayoutModel",
      "state": {}
     },
     "caeaae325d134416b485ee9acccd04be": {
      "model_module": "@jupyter-widgets/controls",
      "model_module_version": "1.5.0",
      "model_name": "LabelModel",
      "state": {
       "layout": "IPY_MODEL_e0f090d4c6ea467d8412fd366535cba3",
       "style": "IPY_MODEL_6098bfd5281d477f815dd793e447f0ee",
       "value": "256 / 256"
      }
     },
     "caf1a726a6304a88810ff1977c15c394": {
      "model_module": "@jupyter-widgets/controls",
      "model_module_version": "1.5.0",
      "model_name": "ProgressStyleModel",
      "state": {
       "description_width": ""
      }
     },
     "cb0fda0b931645fb91f0eff86dd98b29": {
      "model_module": "@jupyter-widgets/controls",
      "model_module_version": "1.5.0",
      "model_name": "ProgressStyleModel",
      "state": {
       "description_width": ""
      }
     },
     "cb1b995eba6145bb8b23372114e4a9c7": {
      "model_module": "@jupyter-widgets/controls",
      "model_module_version": "1.5.0",
      "model_name": "IntProgressModel",
      "state": {
       "description": "1.47%",
       "layout": "IPY_MODEL_0b025ebf6e0d48d0aa5ffef3e6173061",
       "max": 204,
       "style": "IPY_MODEL_18cb4a151da1436db50bf4a6b8a34094",
       "value": 3
      }
     },
     "cb2a838c30734b35a53afc4517d8a6ab": {
      "model_module": "@jupyter-widgets/base",
      "model_module_version": "1.2.0",
      "model_name": "LayoutModel",
      "state": {}
     },
     "cbb5f94461324e5f9e46add9ef1066b3": {
      "model_module": "@jupyter-widgets/base",
      "model_module_version": "1.2.0",
      "model_name": "LayoutModel",
      "state": {}
     },
     "cbdf7589e02f455288c90431feb66987": {
      "model_module": "@jupyter-widgets/controls",
      "model_module_version": "1.5.0",
      "model_name": "IntProgressModel",
      "state": {
       "bar_style": "success",
       "description": "100.00%",
       "layout": "IPY_MODEL_fc9b5d0dba98467ebdfa269127f47365",
       "max": 255,
       "style": "IPY_MODEL_3604e94edd1c49b599944ea6cc5634dd",
       "value": 255
      }
     },
     "cbfbdce7a2ec4b588affa9eec257b8c8": {
      "model_module": "@jupyter-widgets/controls",
      "model_module_version": "1.5.0",
      "model_name": "IntProgressModel",
      "state": {
       "bar_style": "success",
       "description": "100.00%",
       "layout": "IPY_MODEL_65349db844724b7bb28daa89a3d81a7b",
       "max": 64,
       "style": "IPY_MODEL_be0eb0d1873e421cabdc2ea05a9dcade",
       "value": 64
      }
     },
     "cc0be2d44e4b4e1ea1d78de195617c8a": {
      "model_module": "@jupyter-widgets/base",
      "model_module_version": "1.2.0",
      "model_name": "LayoutModel",
      "state": {}
     },
     "cc151aff483243078b2e8df81549eef5": {
      "model_module": "@jupyter-widgets/base",
      "model_module_version": "1.2.0",
      "model_name": "LayoutModel",
      "state": {}
     },
     "cc3dc0ad73264a5aa23876a672d0d8a9": {
      "model_module": "@jupyter-widgets/controls",
      "model_module_version": "1.5.0",
      "model_name": "IntProgressModel",
      "state": {
       "bar_style": "success",
       "description": "100.00%",
       "layout": "IPY_MODEL_b64010dd626d420f87ad2819c28a8db8",
       "max": 256,
       "style": "IPY_MODEL_f70ad17996ea4b01bc62df2209a1b06b",
       "value": 256
      }
     },
     "ccbe90a3880047a496c850b9601c68dd": {
      "model_module": "@jupyter-widgets/base",
      "model_module_version": "1.2.0",
      "model_name": "LayoutModel",
      "state": {}
     },
     "ccc3d0df35284c84937a854611d309b0": {
      "model_module": "@jupyter-widgets/base",
      "model_module_version": "1.2.0",
      "model_name": "LayoutModel",
      "state": {}
     },
     "ccdab8e3d2fe41ce8537522c76cc49cf": {
      "model_module": "@jupyter-widgets/base",
      "model_module_version": "1.2.0",
      "model_name": "LayoutModel",
      "state": {}
     },
     "cd6398c442a04e6bbb7d63eca238ad8e": {
      "model_module": "@jupyter-widgets/controls",
      "model_module_version": "1.5.0",
      "model_name": "HBoxModel",
      "state": {
       "children": [
        "IPY_MODEL_3573266457424b3ba579c6bbbeb1c04c",
        "IPY_MODEL_33f113effbe34956a2608b0f7ab3efb7"
       ],
       "layout": "IPY_MODEL_8f21ce2da4184be08a71c13175c3eb67"
      }
     },
     "cdb6270f77ba46f6ba60cd0335193489": {
      "model_module": "@jupyter-widgets/controls",
      "model_module_version": "1.5.0",
      "model_name": "ProgressStyleModel",
      "state": {
       "description_width": ""
      }
     },
     "cdd613dd0a6740ffb374bdc474b8195b": {
      "model_module": "@jupyter-widgets/controls",
      "model_module_version": "1.5.0",
      "model_name": "ProgressStyleModel",
      "state": {
       "description_width": ""
      }
     },
     "ce14f5aa765c493f80d1cccc0f9ed370": {
      "model_module": "@jupyter-widgets/controls",
      "model_module_version": "1.5.0",
      "model_name": "ProgressStyleModel",
      "state": {
       "description_width": ""
      }
     },
     "ce32a8039c014f168cfb65432cb5012a": {
      "model_module": "@jupyter-widgets/base",
      "model_module_version": "1.2.0",
      "model_name": "LayoutModel",
      "state": {}
     },
     "ce5b60bf580a48eda07e8ed175cda215": {
      "model_module": "@jupyter-widgets/base",
      "model_module_version": "1.2.0",
      "model_name": "LayoutModel",
      "state": {}
     },
     "ce5ef64658aa4e9fa5da7524f11b4a6d": {
      "model_module": "@jupyter-widgets/base",
      "model_module_version": "1.2.0",
      "model_name": "LayoutModel",
      "state": {}
     },
     "ceb18e3c79364561b4f93c8fb1612b02": {
      "model_module": "@jupyter-widgets/controls",
      "model_module_version": "1.5.0",
      "model_name": "IntProgressModel",
      "state": {
       "bar_style": "success",
       "description": "100.00%",
       "layout": "IPY_MODEL_f22b930d1fbf481eb981b20481874755",
       "max": 255,
       "style": "IPY_MODEL_262f51a4e68c40f19e651c3c034a5ddb",
       "value": 255
      }
     },
     "cec2d927b149462190466ce87743abfc": {
      "model_module": "@jupyter-widgets/base",
      "model_module_version": "1.2.0",
      "model_name": "LayoutModel",
      "state": {}
     },
     "cf053cce989d451eac63f20c634ed31b": {
      "model_module": "@jupyter-widgets/controls",
      "model_module_version": "1.5.0",
      "model_name": "LabelModel",
      "state": {
       "layout": "IPY_MODEL_7b205c29b9764a0da65922325f0bf0fa",
       "style": "IPY_MODEL_8137037069714c979c90b5cf3870b7d7",
       "value": "255 / 255"
      }
     },
     "cf417e183964431e92b01796fe833fef": {
      "model_module": "@jupyter-widgets/controls",
      "model_module_version": "1.5.0",
      "model_name": "DescriptionStyleModel",
      "state": {
       "description_width": ""
      }
     },
     "cf48a5ad4ec44c57adba18bb4d08df72": {
      "model_module": "@jupyter-widgets/base",
      "model_module_version": "1.2.0",
      "model_name": "LayoutModel",
      "state": {}
     },
     "cf55e84345e5437d8c1cde75f8ef1ee3": {
      "model_module": "@jupyter-widgets/controls",
      "model_module_version": "1.5.0",
      "model_name": "LabelModel",
      "state": {
       "layout": "IPY_MODEL_77816fbf32614d69ae108be9602bdef3",
       "style": "IPY_MODEL_abfedf0cd2ac4fddb95b6577dfdd029b",
       "value": "255 / 255"
      }
     },
     "cf63acece7e3422989d0e02eaf6bd435": {
      "model_module": "@jupyter-widgets/controls",
      "model_module_version": "1.5.0",
      "model_name": "LabelModel",
      "state": {
       "layout": "IPY_MODEL_ec44d6c1a40a4e78956b875c5b2c9631",
       "style": "IPY_MODEL_15b00329791e4b0cb9ef85a7d4642158",
       "value": "55 / 204"
      }
     },
     "cf6d6ecc7e57456995b562a59caf42f1": {
      "model_module": "@jupyter-widgets/controls",
      "model_module_version": "1.5.0",
      "model_name": "ProgressStyleModel",
      "state": {
       "description_width": ""
      }
     },
     "cf8b4391cd2848c79fbbfcabfca0ab4a": {
      "model_module": "@jupyter-widgets/base",
      "model_module_version": "1.2.0",
      "model_name": "LayoutModel",
      "state": {}
     },
     "cffcbc59552247c1b68fd275026a7126": {
      "model_module": "@jupyter-widgets/controls",
      "model_module_version": "1.5.0",
      "model_name": "IntProgressModel",
      "state": {
       "bar_style": "success",
       "description": "100.00%",
       "layout": "IPY_MODEL_7d7bc0c8362c472abc91558ea7590cc6",
       "max": 64,
       "style": "IPY_MODEL_d3b3a2c812d24bf681145c4b14fedbc1",
       "value": 64
      }
     },
     "d00f6c8d864c4f17970b3fa6aa3b01d9": {
      "model_module": "@jupyter-widgets/controls",
      "model_module_version": "1.5.0",
      "model_name": "LabelModel",
      "state": {
       "layout": "IPY_MODEL_34ca96ac29974f419abd5559a0a1cc70",
       "style": "IPY_MODEL_5612499684724cbaa435225a698a49ff",
       "value": "204 / 204"
      }
     },
     "d093454b81714cb9989785b475cf3007": {
      "model_module": "@jupyter-widgets/controls",
      "model_module_version": "1.5.0",
      "model_name": "HBoxModel",
      "state": {
       "children": [
        "IPY_MODEL_1678eda241204544b176791c97e98e78",
        "IPY_MODEL_b99e1de9a83e4a7a8fa3526b527a2c6c"
       ],
       "layout": "IPY_MODEL_2d4c118d90e040ef990e13e2af7c2a97"
      }
     },
     "d0a269a4f9ee4bbc816afec0d6e84176": {
      "model_module": "@jupyter-widgets/controls",
      "model_module_version": "1.5.0",
      "model_name": "ProgressStyleModel",
      "state": {
       "description_width": ""
      }
     },
     "d0cca0a84aa54851828f416c04e8b5a3": {
      "model_module": "@jupyter-widgets/controls",
      "model_module_version": "1.5.0",
      "model_name": "LabelModel",
      "state": {
       "layout": "IPY_MODEL_a1f2cd0aaff64310bae482904e25dbd6",
       "style": "IPY_MODEL_d4ba9818600e41c7a9c2ed79414da44d",
       "value": "205 / 205"
      }
     },
     "d0f48d62568747bfbade395638f0f4d3": {
      "model_module": "@jupyter-widgets/controls",
      "model_module_version": "1.5.0",
      "model_name": "HBoxModel",
      "state": {
       "children": [
        "IPY_MODEL_cbfbdce7a2ec4b588affa9eec257b8c8",
        "IPY_MODEL_489c40f8d2554108a8e0861d3d751b00"
       ],
       "layout": "IPY_MODEL_b5e5af04ae3349739981d38e145fe21c"
      }
     },
     "d162d93382644792b9dbfed802e99389": {
      "model_module": "@jupyter-widgets/controls",
      "model_module_version": "1.5.0",
      "model_name": "DescriptionStyleModel",
      "state": {
       "description_width": ""
      }
     },
     "d1955e9ea68f458db610760420dae51d": {
      "model_module": "@jupyter-widgets/base",
      "model_module_version": "1.2.0",
      "model_name": "LayoutModel",
      "state": {}
     },
     "d1be64afa31e4db49c18ad6fa8f197bc": {
      "model_module": "@jupyter-widgets/base",
      "model_module_version": "1.2.0",
      "model_name": "LayoutModel",
      "state": {}
     },
     "d1eaec1535f54e17abbe42f507da739f": {
      "model_module": "@jupyter-widgets/base",
      "model_module_version": "1.2.0",
      "model_name": "LayoutModel",
      "state": {}
     },
     "d23b8ff19fee4280ab8d04ab7988a523": {
      "model_module": "@jupyter-widgets/base",
      "model_module_version": "1.2.0",
      "model_name": "LayoutModel",
      "state": {}
     },
     "d2866738a63c4db3931d74cb482bb463": {
      "model_module": "@jupyter-widgets/base",
      "model_module_version": "1.2.0",
      "model_name": "LayoutModel",
      "state": {}
     },
     "d2a6d88c536a43b1b16c1f8f96114d4d": {
      "model_module": "@jupyter-widgets/controls",
      "model_module_version": "1.5.0",
      "model_name": "LabelModel",
      "state": {
       "layout": "IPY_MODEL_b57216f3a9d142e7bfe0734e1ef8fcc9",
       "style": "IPY_MODEL_84cb501e46eb4b03bfe61fc07b015784",
       "value": "3 / 204"
      }
     },
     "d2c771cbef71447784b0454165d002db": {
      "model_module": "@jupyter-widgets/controls",
      "model_module_version": "1.5.0",
      "model_name": "HBoxModel",
      "state": {
       "children": [
        "IPY_MODEL_5d9542f194ef427a9e3eafbbc736af30",
        "IPY_MODEL_dfde9c050beb4af9a87061a0b9471275"
       ],
       "layout": "IPY_MODEL_d84d9484ff394374ad2e9b0617723aff"
      }
     },
     "d2f44b79416347dfb2cef556e21bf468": {
      "model_module": "@jupyter-widgets/controls",
      "model_module_version": "1.5.0",
      "model_name": "DescriptionStyleModel",
      "state": {
       "description_width": ""
      }
     },
     "d327286effcc49f6b997fc5c1a8e1fc0": {
      "model_module": "@jupyter-widgets/controls",
      "model_module_version": "1.5.0",
      "model_name": "DescriptionStyleModel",
      "state": {
       "description_width": ""
      }
     },
     "d386f453b8bf44a394b05c136bdb3a65": {
      "model_module": "@jupyter-widgets/controls",
      "model_module_version": "1.5.0",
      "model_name": "ProgressStyleModel",
      "state": {
       "description_width": ""
      }
     },
     "d3b36e0dd9fd4c0d826b6228ed41f913": {
      "model_module": "@jupyter-widgets/controls",
      "model_module_version": "1.5.0",
      "model_name": "HBoxModel",
      "state": {
       "children": [
        "IPY_MODEL_4b1e27754da8431b8b7c77de431bd1c7",
        "IPY_MODEL_a2a2b04cf8a44a6fb73807c9097e4242"
       ],
       "layout": "IPY_MODEL_cbb5f94461324e5f9e46add9ef1066b3"
      }
     },
     "d3b3a2c812d24bf681145c4b14fedbc1": {
      "model_module": "@jupyter-widgets/controls",
      "model_module_version": "1.5.0",
      "model_name": "ProgressStyleModel",
      "state": {
       "description_width": ""
      }
     },
     "d3dae55068514138aa7ccb05d6f1d83a": {
      "model_module": "@jupyter-widgets/controls",
      "model_module_version": "1.5.0",
      "model_name": "HBoxModel",
      "state": {
       "children": [
        "IPY_MODEL_12a578e84314471cbb2fb0cde4e3f84e",
        "IPY_MODEL_2c6ba623983b4fc69aec124f9e1af801"
       ],
       "layout": "IPY_MODEL_4adad40a49084de6aa96c13acbb3ae89"
      }
     },
     "d425ed0d1b6b4317b6c2cbff7dd8b873": {
      "model_module": "@jupyter-widgets/controls",
      "model_module_version": "1.5.0",
      "model_name": "LabelModel",
      "state": {
       "layout": "IPY_MODEL_7ac0eca5ddc143cf9d0741934a1a4920",
       "style": "IPY_MODEL_2d9d4a7d3d734bca97c567411a1e4313",
       "value": "256 / 256"
      }
     },
     "d435002d12d04c9f9a41c2c73f7b81cb": {
      "model_module": "@jupyter-widgets/controls",
      "model_module_version": "1.5.0",
      "model_name": "LabelModel",
      "state": {
       "layout": "IPY_MODEL_22f56dfe420a463facc0b48351b30b8a",
       "style": "IPY_MODEL_4a4bb3fe0e9b4e4d863e08f827367bf4",
       "value": "255 / 255"
      }
     },
     "d4ba9818600e41c7a9c2ed79414da44d": {
      "model_module": "@jupyter-widgets/controls",
      "model_module_version": "1.5.0",
      "model_name": "DescriptionStyleModel",
      "state": {
       "description_width": ""
      }
     },
     "d4dd8e31338c4c73b503de5331d95f81": {
      "model_module": "@jupyter-widgets/base",
      "model_module_version": "1.2.0",
      "model_name": "LayoutModel",
      "state": {}
     },
     "d510b58cc0b04475944ae22fde34617e": {
      "model_module": "@jupyter-widgets/controls",
      "model_module_version": "1.5.0",
      "model_name": "HBoxModel",
      "state": {
       "children": [
        "IPY_MODEL_409599c8adc54c9babcf15bd41c768af",
        "IPY_MODEL_9bf6e1064ddd4075b5191e04dd820e8f"
       ],
       "layout": "IPY_MODEL_e7eb3e4fa8c44a968c08f08e60d0e808"
      }
     },
     "d51edf5b2fe44d75a5917befd5b98ef5": {
      "model_module": "@jupyter-widgets/controls",
      "model_module_version": "1.5.0",
      "model_name": "ProgressStyleModel",
      "state": {
       "description_width": ""
      }
     },
     "d552e358734242cdb48699b5be68ac22": {
      "model_module": "@jupyter-widgets/controls",
      "model_module_version": "1.5.0",
      "model_name": "ProgressStyleModel",
      "state": {
       "description_width": ""
      }
     },
     "d5572365ac6b45b2b17f80a23a46982a": {
      "model_module": "@jupyter-widgets/base",
      "model_module_version": "1.2.0",
      "model_name": "LayoutModel",
      "state": {}
     },
     "d5aec11e818a4ca296e67bd1920765b6": {
      "model_module": "@jupyter-widgets/controls",
      "model_module_version": "1.5.0",
      "model_name": "LabelModel",
      "state": {
       "layout": "IPY_MODEL_76c4a97b60eb45a58a2f25c6358eca29",
       "style": "IPY_MODEL_9804edcc5b9149bbb4520859022e397c",
       "value": "64 / 64"
      }
     },
     "d5cf514ac28f474486d1af77a9a6b0ab": {
      "model_module": "@jupyter-widgets/base",
      "model_module_version": "1.2.0",
      "model_name": "LayoutModel",
      "state": {}
     },
     "d62743d42660407486ce3b696a5782ab": {
      "model_module": "@jupyter-widgets/controls",
      "model_module_version": "1.5.0",
      "model_name": "HBoxModel",
      "state": {
       "children": [
        "IPY_MODEL_52a3445ca6ed45358c8ec9ec283c7881",
        "IPY_MODEL_6ee19bcc5b9f481a8c0366420d33c291"
       ],
       "layout": "IPY_MODEL_9ca7df4990d44ee8b8fd4b950e2ca1e6"
      }
     },
     "d68897d447584e84897279d759f68634": {
      "model_module": "@jupyter-widgets/base",
      "model_module_version": "1.2.0",
      "model_name": "LayoutModel",
      "state": {}
     },
     "d6fbbe7aa3684e008906ee69be3e9434": {
      "model_module": "@jupyter-widgets/controls",
      "model_module_version": "1.5.0",
      "model_name": "HBoxModel",
      "state": {
       "children": [
        "IPY_MODEL_bacadb955c90412d903b978ea2970ad4",
        "IPY_MODEL_78928a76c2c9422ba03cc499b69c3389"
       ],
       "layout": "IPY_MODEL_56bf82a52af64ddd91138128c980f712"
      }
     },
     "d7011fdda73e468eb90c840ef4b2a4a7": {
      "model_module": "@jupyter-widgets/controls",
      "model_module_version": "1.5.0",
      "model_name": "LabelModel",
      "state": {
       "layout": "IPY_MODEL_46602645df8e4f378adb6d5dc2897e6f",
       "style": "IPY_MODEL_966953cc176e4952926e2057291137df",
       "value": "204 / 204"
      }
     },
     "d740ea261fc7428eb9a9ef07c4afba9f": {
      "model_module": "@jupyter-widgets/base",
      "model_module_version": "1.2.0",
      "model_name": "LayoutModel",
      "state": {}
     },
     "d79930d58c374248b427f2d5f9339b61": {
      "model_module": "@jupyter-widgets/base",
      "model_module_version": "1.2.0",
      "model_name": "LayoutModel",
      "state": {}
     },
     "d7a5c81badd841c2918381b3721acf7e": {
      "model_module": "@jupyter-widgets/base",
      "model_module_version": "1.2.0",
      "model_name": "LayoutModel",
      "state": {}
     },
     "d7c40e59c4994c50b79eb0b517e23147": {
      "model_module": "@jupyter-widgets/base",
      "model_module_version": "1.2.0",
      "model_name": "LayoutModel",
      "state": {}
     },
     "d7df9471069b4f4c92d1ee94b7de8a30": {
      "model_module": "@jupyter-widgets/controls",
      "model_module_version": "1.5.0",
      "model_name": "DescriptionStyleModel",
      "state": {
       "description_width": ""
      }
     },
     "d7f0cfdc329d4b6890e7bf5aade36376": {
      "model_module": "@jupyter-widgets/controls",
      "model_module_version": "1.5.0",
      "model_name": "DescriptionStyleModel",
      "state": {
       "description_width": ""
      }
     },
     "d84d9484ff394374ad2e9b0617723aff": {
      "model_module": "@jupyter-widgets/base",
      "model_module_version": "1.2.0",
      "model_name": "LayoutModel",
      "state": {}
     },
     "d85c627c6b7b405a9f913efea0c865f7": {
      "model_module": "@jupyter-widgets/controls",
      "model_module_version": "1.5.0",
      "model_name": "LabelModel",
      "state": {
       "layout": "IPY_MODEL_add83d2e7db54720bed82bc8d93beb79",
       "style": "IPY_MODEL_68095c51301148bab54b1d34ba4bf1a1",
       "value": "205 / 205"
      }
     },
     "d86c64dc50b84a63b440539a3146b49b": {
      "model_module": "@jupyter-widgets/base",
      "model_module_version": "1.2.0",
      "model_name": "LayoutModel",
      "state": {}
     },
     "d8f7032d7d0348559ac02febb3d0c670": {
      "model_module": "@jupyter-widgets/controls",
      "model_module_version": "1.5.0",
      "model_name": "LabelModel",
      "state": {
       "layout": "IPY_MODEL_f9ec89021f8a4528a880573b93b461ae",
       "style": "IPY_MODEL_038fb759dc6e488fa548beeca50e53e7",
       "value": "63 / 63"
      }
     },
     "d908421d048048dfb1f208e4edb6ed31": {
      "model_module": "@jupyter-widgets/controls",
      "model_module_version": "1.5.0",
      "model_name": "DescriptionStyleModel",
      "state": {
       "description_width": ""
      }
     },
     "d9149a3088f04094b80a8c5873836238": {
      "model_module": "@jupyter-widgets/controls",
      "model_module_version": "1.5.0",
      "model_name": "HBoxModel",
      "state": {
       "children": [
        "IPY_MODEL_06e05377831541fdb412026b8d6fb248",
        "IPY_MODEL_5dc6697ea04d435d8f169352794fa498"
       ],
       "layout": "IPY_MODEL_356740da429e4c4fb99c4d16c5634586"
      }
     },
     "d915621583374157b5e9fb14d595b016": {
      "model_module": "@jupyter-widgets/base",
      "model_module_version": "1.2.0",
      "model_name": "LayoutModel",
      "state": {}
     },
     "d91943b298c944d5917842ba58edd3d5": {
      "model_module": "@jupyter-widgets/base",
      "model_module_version": "1.2.0",
      "model_name": "LayoutModel",
      "state": {}
     },
     "d9212ea8c3854b4cb5aa31d63d9015b6": {
      "model_module": "@jupyter-widgets/base",
      "model_module_version": "1.2.0",
      "model_name": "LayoutModel",
      "state": {}
     },
     "d937b958b1794680a2842b2001d5167e": {
      "model_module": "@jupyter-widgets/controls",
      "model_module_version": "1.5.0",
      "model_name": "ProgressStyleModel",
      "state": {
       "description_width": ""
      }
     },
     "d975076ff7db4aeb9fbda049224f6fc5": {
      "model_module": "@jupyter-widgets/controls",
      "model_module_version": "1.5.0",
      "model_name": "HBoxModel",
      "state": {
       "children": [
        "IPY_MODEL_8ea665ecd7204dc7a9682bc69dd5b9ca",
        "IPY_MODEL_1020100c40c5438fb089e9124e5699d5"
       ],
       "layout": "IPY_MODEL_806312246b3f459bbe3ba67c96481137"
      }
     },
     "d99dbaa3e0024f9b834b981265f489d5": {
      "model_module": "@jupyter-widgets/controls",
      "model_module_version": "1.5.0",
      "model_name": "ProgressStyleModel",
      "state": {
       "description_width": ""
      }
     },
     "da359785f37e4b84bf0e87a3338b0671": {
      "model_module": "@jupyter-widgets/controls",
      "model_module_version": "1.5.0",
      "model_name": "LabelModel",
      "state": {
       "layout": "IPY_MODEL_09efbd6e4cc24b9e9d8fdaf45ef31536",
       "style": "IPY_MODEL_c673e4916f3f449f9fc24cf9a6d7056b",
       "value": "64 / 64"
      }
     },
     "da668ebdb15142a5a876c718666ccaef": {
      "model_module": "@jupyter-widgets/controls",
      "model_module_version": "1.5.0",
      "model_name": "ProgressStyleModel",
      "state": {
       "description_width": ""
      }
     },
     "dae9ad1175ff4c9392c74822ad12d609": {
      "model_module": "@jupyter-widgets/controls",
      "model_module_version": "1.5.0",
      "model_name": "IntProgressModel",
      "state": {
       "bar_style": "success",
       "description": "100.00%",
       "layout": "IPY_MODEL_2e538b18620d4f12950421b83ed4fc4e",
       "max": 64,
       "style": "IPY_MODEL_d937b958b1794680a2842b2001d5167e",
       "value": 64
      }
     },
     "daf7be62f6cc4d7e8d39bd522814cdcf": {
      "model_module": "@jupyter-widgets/controls",
      "model_module_version": "1.5.0",
      "model_name": "IntProgressModel",
      "state": {
       "bar_style": "success",
       "description": "100.00%",
       "layout": "IPY_MODEL_70725c51ed4547dab6b986dee13694ea",
       "max": 255,
       "style": "IPY_MODEL_7eb5ca8f19894abbafb7fc3a471e66f8",
       "value": 255
      }
     },
     "db0572908169402dbe43c52f2d33fd7b": {
      "model_module": "@jupyter-widgets/controls",
      "model_module_version": "1.5.0",
      "model_name": "HBoxModel",
      "state": {
       "children": [
        "IPY_MODEL_28670d49da0f4f8593760a7289f4b212",
        "IPY_MODEL_dda20a1c76914c488b16f2d9b76f9d64"
       ],
       "layout": "IPY_MODEL_50b4ae4466cb479488101997285db4d6"
      }
     },
     "db14260665f844bab1c8862b383d2aee": {
      "model_module": "@jupyter-widgets/base",
      "model_module_version": "1.2.0",
      "model_name": "LayoutModel",
      "state": {}
     },
     "db45f99fad8648708cbcee54698f5609": {
      "model_module": "@jupyter-widgets/controls",
      "model_module_version": "1.5.0",
      "model_name": "HBoxModel",
      "state": {
       "children": [
        "IPY_MODEL_9e35f17a08914b289685978694dac8da",
        "IPY_MODEL_6c2feeacf687486493d7146d3dd7a741"
       ],
       "layout": "IPY_MODEL_b9cef77bfc134adbaead24f396cd208a"
      }
     },
     "db6822567152410da5f6684727da00f0": {
      "model_module": "@jupyter-widgets/controls",
      "model_module_version": "1.5.0",
      "model_name": "DescriptionStyleModel",
      "state": {
       "description_width": ""
      }
     },
     "db76c0ea6830473a867bda3e6623fd4b": {
      "model_module": "@jupyter-widgets/controls",
      "model_module_version": "1.5.0",
      "model_name": "DescriptionStyleModel",
      "state": {
       "description_width": ""
      }
     },
     "dbb4c881cffb4ee296a2cf6531d4c612": {
      "model_module": "@jupyter-widgets/controls",
      "model_module_version": "1.5.0",
      "model_name": "ProgressStyleModel",
      "state": {
       "description_width": ""
      }
     },
     "dbdbb88862964d1187511b8785c4e862": {
      "model_module": "@jupyter-widgets/controls",
      "model_module_version": "1.5.0",
      "model_name": "IntProgressModel",
      "state": {
       "description": "1.47%",
       "layout": "IPY_MODEL_fe1a36fdb01a4620a33c33a1d0ec1bad",
       "max": 204,
       "style": "IPY_MODEL_b73c67a2ae024fbfadfccbc432996b61",
       "value": 3
      }
     },
     "dc7f47f7e1794cdc928cae3fd077c53a": {
      "model_module": "@jupyter-widgets/controls",
      "model_module_version": "1.5.0",
      "model_name": "LabelModel",
      "state": {
       "layout": "IPY_MODEL_b760d19a6179441cae184c73d4e2565a",
       "style": "IPY_MODEL_51d1ec07e0aa41e3a1f1d75802774340",
       "value": "255 / 255"
      }
     },
     "dc9484f100e04cf09f0b6abe40b7c8eb": {
      "model_module": "@jupyter-widgets/controls",
      "model_module_version": "1.5.0",
      "model_name": "LabelModel",
      "state": {
       "layout": "IPY_MODEL_ed6b5ab545554137b740807fe146c013",
       "style": "IPY_MODEL_9c8be607776d467da33b41333091f538",
       "value": "204 / 204"
      }
     },
     "dcbc0583f1594ebaa35dbddc33c7f89e": {
      "model_module": "@jupyter-widgets/controls",
      "model_module_version": "1.5.0",
      "model_name": "DescriptionStyleModel",
      "state": {
       "description_width": ""
      }
     },
     "dce4d70a289141c29241d02691600f19": {
      "model_module": "@jupyter-widgets/base",
      "model_module_version": "1.2.0",
      "model_name": "LayoutModel",
      "state": {}
     },
     "dd03f94701a94cf594ea1ae118d21041": {
      "model_module": "@jupyter-widgets/base",
      "model_module_version": "1.2.0",
      "model_name": "LayoutModel",
      "state": {}
     },
     "dd282eae4b2b4886800c70efb740ae84": {
      "model_module": "@jupyter-widgets/controls",
      "model_module_version": "1.5.0",
      "model_name": "IntProgressModel",
      "state": {
       "bar_style": "success",
       "description": "100.00%",
       "layout": "IPY_MODEL_b2dc3e1b2331424aa1019457fc0c98ec",
       "max": 205,
       "style": "IPY_MODEL_9b087dc13c544fed93f0ccde9fadf929",
       "value": 205
      }
     },
     "dd6444dbacbe45dda93fba7adf831af3": {
      "model_module": "@jupyter-widgets/controls",
      "model_module_version": "1.5.0",
      "model_name": "ProgressStyleModel",
      "state": {
       "description_width": ""
      }
     },
     "dd8bbfb4767141b5838c8b833c63abb2": {
      "model_module": "@jupyter-widgets/base",
      "model_module_version": "1.2.0",
      "model_name": "LayoutModel",
      "state": {}
     },
     "dd8d3b150f4843209b761092ef88383a": {
      "model_module": "@jupyter-widgets/base",
      "model_module_version": "1.2.0",
      "model_name": "LayoutModel",
      "state": {}
     },
     "dda20a1c76914c488b16f2d9b76f9d64": {
      "model_module": "@jupyter-widgets/controls",
      "model_module_version": "1.5.0",
      "model_name": "LabelModel",
      "state": {
       "layout": "IPY_MODEL_ee4378539a5741e495bb128849df6150",
       "style": "IPY_MODEL_59a4dabf12634383998948540074f784",
       "value": "3 / 204"
      }
     },
     "dde6513d63634f25aaf6401ab1f4dd32": {
      "model_module": "@jupyter-widgets/controls",
      "model_module_version": "1.5.0",
      "model_name": "DescriptionStyleModel",
      "state": {
       "description_width": ""
      }
     },
     "de624b9dc9f64728945203b556c46153": {
      "model_module": "@jupyter-widgets/base",
      "model_module_version": "1.2.0",
      "model_name": "LayoutModel",
      "state": {}
     },
     "de63ace1df73491180745b022472fdb2": {
      "model_module": "@jupyter-widgets/controls",
      "model_module_version": "1.5.0",
      "model_name": "ProgressStyleModel",
      "state": {
       "description_width": ""
      }
     },
     "de766f9c9bbf4a04b71f5c9c08bed767": {
      "model_module": "@jupyter-widgets/controls",
      "model_module_version": "1.5.0",
      "model_name": "DescriptionStyleModel",
      "state": {
       "description_width": ""
      }
     },
     "de99efb5377044349ce0603d19c66d0f": {
      "model_module": "@jupyter-widgets/controls",
      "model_module_version": "1.5.0",
      "model_name": "ProgressStyleModel",
      "state": {
       "description_width": ""
      }
     },
     "dec1af700e56409faddeae358f7d0aa1": {
      "model_module": "@jupyter-widgets/controls",
      "model_module_version": "1.5.0",
      "model_name": "IntProgressModel",
      "state": {
       "description": "1.47%",
       "layout": "IPY_MODEL_8d45c6e478274682b7c07dbbbb3d39ae",
       "max": 204,
       "style": "IPY_MODEL_4d3f3867b0ca41d1bead1c703a23abf2",
       "value": 3
      }
     },
     "ded63cf9df824b7a9bfbf3631e233bc5": {
      "model_module": "@jupyter-widgets/base",
      "model_module_version": "1.2.0",
      "model_name": "LayoutModel",
      "state": {}
     },
     "dedcac877fe44e4ab86846ebf150dd51": {
      "model_module": "@jupyter-widgets/controls",
      "model_module_version": "1.5.0",
      "model_name": "LabelModel",
      "state": {
       "layout": "IPY_MODEL_126f5c4ce34f461fafa7bab745ef6574",
       "style": "IPY_MODEL_6a3adf84f9944aa297cff1c53cba9376",
       "value": "3 / 205"
      }
     },
     "defa39cb6fa2448c9c84f84595547507": {
      "model_module": "@jupyter-widgets/base",
      "model_module_version": "1.2.0",
      "model_name": "LayoutModel",
      "state": {}
     },
     "df33d9a9e1014e089ef865dacc2ad5b7": {
      "model_module": "@jupyter-widgets/controls",
      "model_module_version": "1.5.0",
      "model_name": "HTMLModel",
      "state": {
       "layout": "IPY_MODEL_e25fe9ce288a420ab73ba42a96fe5c2d",
       "style": "IPY_MODEL_db6822567152410da5f6684727da00f0",
       "value": " 11/11 [00:00&lt;00:00, 30.92it/s, Completed]"
      }
     },
     "df9b19bf1408460990620258dda5d623": {
      "model_module": "@jupyter-widgets/base",
      "model_module_version": "1.2.0",
      "model_name": "LayoutModel",
      "state": {}
     },
     "dfa98fbf2add45fb803362de298c616d": {
      "model_module": "@jupyter-widgets/base",
      "model_module_version": "1.2.0",
      "model_name": "LayoutModel",
      "state": {}
     },
     "dfde9c050beb4af9a87061a0b9471275": {
      "model_module": "@jupyter-widgets/controls",
      "model_module_version": "1.5.0",
      "model_name": "LabelModel",
      "state": {
       "layout": "IPY_MODEL_76e619b789dd46a0a4e54ce0a4cd0efc",
       "style": "IPY_MODEL_f78f1d912f2a4ac8938b11f393a8f015",
       "value": "256 / 256"
      }
     },
     "dffdc57d26ea4dc99a1515d461369bdd": {
      "model_module": "@jupyter-widgets/controls",
      "model_module_version": "1.5.0",
      "model_name": "LabelModel",
      "state": {
       "layout": "IPY_MODEL_07ac6559ac3d42c2a77ba5450800ffe3",
       "style": "IPY_MODEL_914c87324ef144e2a9a3009d1f891e73",
       "value": "204 / 204"
      }
     },
     "e0045ff1f32546a7848025d577ce0867": {
      "model_module": "@jupyter-widgets/controls",
      "model_module_version": "1.5.0",
      "model_name": "DescriptionStyleModel",
      "state": {
       "description_width": ""
      }
     },
     "e088b7c08239460caf6b1781a3f14572": {
      "model_module": "@jupyter-widgets/base",
      "model_module_version": "1.2.0",
      "model_name": "LayoutModel",
      "state": {}
     },
     "e0f090d4c6ea467d8412fd366535cba3": {
      "model_module": "@jupyter-widgets/base",
      "model_module_version": "1.2.0",
      "model_name": "LayoutModel",
      "state": {}
     },
     "e10525f20b974aea9f1a49611b3f699d": {
      "model_module": "@jupyter-widgets/controls",
      "model_module_version": "1.5.0",
      "model_name": "ProgressStyleModel",
      "state": {
       "description_width": ""
      }
     },
     "e1880eacd4ef45a580b07337adb7e66b": {
      "model_module": "@jupyter-widgets/base",
      "model_module_version": "1.2.0",
      "model_name": "LayoutModel",
      "state": {}
     },
     "e18963ac974f4ea8bf316552b17cda5b": {
      "model_module": "@jupyter-widgets/controls",
      "model_module_version": "1.5.0",
      "model_name": "LabelModel",
      "state": {
       "layout": "IPY_MODEL_67b27e4c6dc44da2b0f73e7e59a437c2",
       "style": "IPY_MODEL_a48ba33a1d4f48218ca35270fa4c5416",
       "value": "3 / 204"
      }
     },
     "e1cb7cee12244be48361b63162514a25": {
      "model_module": "@jupyter-widgets/controls",
      "model_module_version": "1.5.0",
      "model_name": "HBoxModel",
      "state": {
       "children": [
        "IPY_MODEL_fc6ec914afe243db8599050ae991e40a",
        "IPY_MODEL_7dc14a23a416486ca8bce3e1e4ce2620"
       ],
       "layout": "IPY_MODEL_2ddf17d09aa24eab87455bf4ac6c5daa"
      }
     },
     "e20ac0f010fe4f27ae403c1eebb6205e": {
      "model_module": "@jupyter-widgets/controls",
      "model_module_version": "1.5.0",
      "model_name": "LabelModel",
      "state": {
       "layout": "IPY_MODEL_b471405d86ad4fcfab2a22297f5df83e",
       "style": "IPY_MODEL_bfa22bbd5dd94cb89e1f627080d84b43",
       "value": "204 / 204"
      }
     },
     "e23c3e3960b54b17a827cbb6f33a0a99": {
      "model_module": "@jupyter-widgets/controls",
      "model_module_version": "1.5.0",
      "model_name": "IntProgressModel",
      "state": {
       "bar_style": "success",
       "description": "100.00%",
       "layout": "IPY_MODEL_2990dc09b1a64261881c5b204f8ed8a3",
       "max": 63,
       "style": "IPY_MODEL_f92b4a6046754d44a90b0bfd6dbbcc4c",
       "value": 63
      }
     },
     "e25fe9ce288a420ab73ba42a96fe5c2d": {
      "model_module": "@jupyter-widgets/base",
      "model_module_version": "1.2.0",
      "model_name": "LayoutModel",
      "state": {}
     },
     "e271685e3d9a4f55b03158b85016521d": {
      "model_module": "@jupyter-widgets/controls",
      "model_module_version": "1.5.0",
      "model_name": "HBoxModel",
      "state": {
       "children": [
        "IPY_MODEL_b3c85808a2fa4532acc48e12a1177f1c",
        "IPY_MODEL_3a6c6ca94440479b8d0cd743aca135dd"
       ],
       "layout": "IPY_MODEL_12dcb34cf3b44482b0531dbde744ecda"
      }
     },
     "e2d24ab57e644f09b4be4deb4e0cb41b": {
      "model_module": "@jupyter-widgets/controls",
      "model_module_version": "1.5.0",
      "model_name": "HBoxModel",
      "state": {
       "children": [
        "IPY_MODEL_7938573b75b04b0abe709f6580abf5b7",
        "IPY_MODEL_bd645694d1eb44a89dc07a189511bef7"
       ],
       "layout": "IPY_MODEL_551ecea25c5c44dcbd4e306a0a7a0b25"
      }
     },
     "e2f6c655c5a849f18504e3c9f3843d4d": {
      "model_module": "@jupyter-widgets/base",
      "model_module_version": "1.2.0",
      "model_name": "LayoutModel",
      "state": {}
     },
     "e30fc45644a74a95aacc918896ca09ae": {
      "model_module": "@jupyter-widgets/base",
      "model_module_version": "1.2.0",
      "model_name": "LayoutModel",
      "state": {}
     },
     "e33e2bd8c48c4508b6d9cf4b86adf2ba": {
      "model_module": "@jupyter-widgets/controls",
      "model_module_version": "1.5.0",
      "model_name": "IntProgressModel",
      "state": {
       "description": "1.46%",
       "layout": "IPY_MODEL_c9f8cd878b314bfd98c1ea48c8df68f6",
       "max": 205,
       "style": "IPY_MODEL_654a1469d7ba4b46ae1b33575837183a",
       "value": 3
      }
     },
     "e398c207ea3842d08091727814257c49": {
      "model_module": "@jupyter-widgets/controls",
      "model_module_version": "1.5.0",
      "model_name": "IntProgressModel",
      "state": {
       "bar_style": "success",
       "description": "100.00%",
       "layout": "IPY_MODEL_3a0edf4ff5cc4db182933977a5cb84e8",
       "max": 64,
       "style": "IPY_MODEL_90564fecb39341dca47adc5f489c7ee3",
       "value": 64
      }
     },
     "e3c68f6276bd4706ac9a3ef26674719a": {
      "model_module": "@jupyter-widgets/controls",
      "model_module_version": "1.5.0",
      "model_name": "LabelModel",
      "state": {
       "layout": "IPY_MODEL_c63ea263128040368e2dba400e9ee838",
       "style": "IPY_MODEL_3452e29e15e94e0c8302f4c1972fa0a7",
       "value": "205 / 205"
      }
     },
     "e3e0059b848e40478161fdfa54a07613": {
      "model_module": "@jupyter-widgets/controls",
      "model_module_version": "1.5.0",
      "model_name": "LabelModel",
      "state": {
       "layout": "IPY_MODEL_81984a737be549e3b7a808eb80452483",
       "style": "IPY_MODEL_b6c0615483ff4ff996f61b84c07210d1",
       "value": "256 / 256"
      }
     },
     "e3e10a85284a41b3bfc840400f105373": {
      "model_module": "@jupyter-widgets/controls",
      "model_module_version": "1.5.0",
      "model_name": "LabelModel",
      "state": {
       "layout": "IPY_MODEL_f7138d9552f34bf183e288e7224fcdfd",
       "style": "IPY_MODEL_46f5c5b6caf946d09201850e764c8f85",
       "value": "64 / 64"
      }
     },
     "e401bfaef44f44a3b5b38e9706c23bf9": {
      "model_module": "@jupyter-widgets/controls",
      "model_module_version": "1.5.0",
      "model_name": "ProgressStyleModel",
      "state": {
       "description_width": ""
      }
     },
     "e40e183b48ba4112addce330b2a325eb": {
      "model_module": "@jupyter-widgets/controls",
      "model_module_version": "1.5.0",
      "model_name": "IntProgressModel",
      "state": {
       "bar_style": "success",
       "description": "100.00%",
       "layout": "IPY_MODEL_db14260665f844bab1c8862b383d2aee",
       "max": 255,
       "style": "IPY_MODEL_48cea45e651942d5adc881829afb1eb8",
       "value": 255
      }
     },
     "e41395369830444894c409deb9973c75": {
      "model_module": "@jupyter-widgets/controls",
      "model_module_version": "1.5.0",
      "model_name": "HBoxModel",
      "state": {
       "children": [
        "IPY_MODEL_536757144a0c44fc950be232dab9d325",
        "IPY_MODEL_7d3dc06188ab4d0883e7363103bc3cbd"
       ],
       "layout": "IPY_MODEL_8f4245427af84e658492a43ff6d5b06b"
      }
     },
     "e4393cba2cd848a188e17539a330ff9c": {
      "model_module": "@jupyter-widgets/controls",
      "model_module_version": "1.5.0",
      "model_name": "DescriptionStyleModel",
      "state": {
       "description_width": ""
      }
     },
     "e4809e533bb84e059f310069580a4f8d": {
      "model_module": "@jupyter-widgets/base",
      "model_module_version": "1.2.0",
      "model_name": "LayoutModel",
      "state": {}
     },
     "e49eea85e370444d9760a5546f10f395": {
      "model_module": "@jupyter-widgets/controls",
      "model_module_version": "1.5.0",
      "model_name": "LabelModel",
      "state": {
       "layout": "IPY_MODEL_863e1253200047d4bdf195c932485b95",
       "style": "IPY_MODEL_0ebb9025b3264617993f1d31e13c8be6",
       "value": "205 / 205"
      }
     },
     "e4ada2d1a3eb42f1926a41f9d09ba114": {
      "model_module": "@jupyter-widgets/base",
      "model_module_version": "1.2.0",
      "model_name": "LayoutModel",
      "state": {}
     },
     "e4d875311f0548d0b023a2b71a8dfb47": {
      "model_module": "@jupyter-widgets/base",
      "model_module_version": "1.2.0",
      "model_name": "LayoutModel",
      "state": {}
     },
     "e4da9352a7f24bc3ad1b5f07381a77a7": {
      "model_module": "@jupyter-widgets/controls",
      "model_module_version": "1.5.0",
      "model_name": "DescriptionStyleModel",
      "state": {
       "description_width": ""
      }
     },
     "e5266a89ac7e482dbdbf6b4e8c1d3047": {
      "model_module": "@jupyter-widgets/base",
      "model_module_version": "1.2.0",
      "model_name": "LayoutModel",
      "state": {}
     },
     "e562fb56603f494181e3bd887c715a8c": {
      "model_module": "@jupyter-widgets/controls",
      "model_module_version": "1.5.0",
      "model_name": "DescriptionStyleModel",
      "state": {
       "description_width": ""
      }
     },
     "e585cb91549b41e3985dfcd14dcd3f37": {
      "model_module": "@jupyter-widgets/base",
      "model_module_version": "1.2.0",
      "model_name": "LayoutModel",
      "state": {}
     },
     "e5f98ebda3ef445daf023e96f84145b5": {
      "model_module": "@jupyter-widgets/controls",
      "model_module_version": "1.5.0",
      "model_name": "ProgressStyleModel",
      "state": {
       "description_width": ""
      }
     },
     "e6049916904c4480a74bca2b787b0ce4": {
      "model_module": "@jupyter-widgets/controls",
      "model_module_version": "1.5.0",
      "model_name": "DescriptionStyleModel",
      "state": {
       "description_width": ""
      }
     },
     "e60ce7b29d0840b694b0159f49ead30d": {
      "model_module": "@jupyter-widgets/base",
      "model_module_version": "1.2.0",
      "model_name": "LayoutModel",
      "state": {}
     },
     "e61cfa56486b41e5be9f367c4906e85a": {
      "model_module": "@jupyter-widgets/base",
      "model_module_version": "1.2.0",
      "model_name": "LayoutModel",
      "state": {}
     },
     "e6c0297af21b47a29fad71fe6446d678": {
      "model_module": "@jupyter-widgets/controls",
      "model_module_version": "1.5.0",
      "model_name": "VBoxModel",
      "state": {
       "children": [
        "IPY_MODEL_6c039d4ccd3c409d9dc587ba92365561",
        "IPY_MODEL_2eaf442463bf4427a6e7eeb4cb835308",
        "IPY_MODEL_e41395369830444894c409deb9973c75",
        "IPY_MODEL_d62743d42660407486ce3b696a5782ab",
        "IPY_MODEL_d3dae55068514138aa7ccb05d6f1d83a",
        "IPY_MODEL_e271685e3d9a4f55b03158b85016521d",
        "IPY_MODEL_eda9e07da02c4836a3928bd429efb955",
        "IPY_MODEL_5c6dbd03d4e14edf814703d6697f85ad",
        "IPY_MODEL_c71d3fa545564d6b8482dd0ba501f0e7",
        "IPY_MODEL_8ef7730669174e7f8f6b2c232b6df4ce",
        "IPY_MODEL_9a4bf8e8eacf43b3b2ce240cccb465a9",
        "IPY_MODEL_422a931956cd4be98c448b734bb663ce",
        "IPY_MODEL_f42425571dc74c858673cb426e4d2082",
        "IPY_MODEL_eae08005dbd34e4e9cc03af5bdab5908",
        "IPY_MODEL_8c30bf42a78a48939587ca95c8f7759c",
        "IPY_MODEL_57152acfa2754383af5aca74b01428bf"
       ],
       "layout": "IPY_MODEL_f52e34bc6e014e5e8d895fb65ab121f7"
      }
     },
     "e6c414ddcedb4b1aa9d85bc7a0fca796": {
      "model_module": "@jupyter-widgets/controls",
      "model_module_version": "1.5.0",
      "model_name": "DescriptionStyleModel",
      "state": {
       "description_width": ""
      }
     },
     "e6d1a786b1fc451288574da0fa989da7": {
      "model_module": "@jupyter-widgets/controls",
      "model_module_version": "1.5.0",
      "model_name": "LabelModel",
      "state": {
       "layout": "IPY_MODEL_b0a186c78dc9452b90c04245015cdf37",
       "style": "IPY_MODEL_52bc9d803ed541c98f2d699b0d54dadf",
       "value": "3 / 204"
      }
     },
     "e6f02ad370ab46589ac0ee435808aaaa": {
      "model_module": "@jupyter-widgets/base",
      "model_module_version": "1.2.0",
      "model_name": "LayoutModel",
      "state": {}
     },
     "e7213e05b3f4452cba0576c7b3115adb": {
      "model_module": "@jupyter-widgets/controls",
      "model_module_version": "1.5.0",
      "model_name": "DescriptionStyleModel",
      "state": {
       "description_width": ""
      }
     },
     "e775a4f825b74ff2b275bfda39f5de21": {
      "model_module": "@jupyter-widgets/controls",
      "model_module_version": "1.5.0",
      "model_name": "HBoxModel",
      "state": {
       "children": [
        "IPY_MODEL_e33e2bd8c48c4508b6d9cf4b86adf2ba",
        "IPY_MODEL_548a0d06fbcb49c689186ca456cfff84"
       ],
       "layout": "IPY_MODEL_a359a91d57474b2aab76853a2b61c2fa"
      }
     },
     "e7d826834c6b439791aa87ef44bbc423": {
      "model_module": "@jupyter-widgets/controls",
      "model_module_version": "1.5.0",
      "model_name": "ProgressStyleModel",
      "state": {
       "description_width": ""
      }
     },
     "e7e58a261ec34281addc792b49c4757b": {
      "model_module": "@jupyter-widgets/controls",
      "model_module_version": "1.5.0",
      "model_name": "HBoxModel",
      "state": {
       "children": [
        "IPY_MODEL_1e45e07a06f842eea14613085b2524b9",
        "IPY_MODEL_410442ebecaf43589cabb17d4d80fc62"
       ],
       "layout": "IPY_MODEL_33a46fd375d34db2994a434da3cac59c"
      }
     },
     "e7eb3e4fa8c44a968c08f08e60d0e808": {
      "model_module": "@jupyter-widgets/base",
      "model_module_version": "1.2.0",
      "model_name": "LayoutModel",
      "state": {}
     },
     "e8213a5693e94e7f8f975a19b53a6ad7": {
      "model_module": "@jupyter-widgets/controls",
      "model_module_version": "1.5.0",
      "model_name": "IntProgressModel",
      "state": {
       "bar_style": "success",
       "description": "100.00%",
       "layout": "IPY_MODEL_728eae14248347028b5581dea5250c41",
       "max": 64,
       "style": "IPY_MODEL_b027da25c4d14ae0948efd531aab2040",
       "value": 64
      }
     },
     "e85acddd8c964c77852870ed92ba8639": {
      "model_module": "@jupyter-widgets/controls",
      "model_module_version": "1.5.0",
      "model_name": "HBoxModel",
      "state": {
       "children": [
        "IPY_MODEL_c61b619820bc43578f05e74758baae23",
        "IPY_MODEL_984c2a7683f3423890e4979ffa345f94"
       ],
       "layout": "IPY_MODEL_1486173fe43448e6940d3ea3a790643b"
      }
     },
     "e881511f015f484b8c834b3d690e2f38": {
      "model_module": "@jupyter-widgets/base",
      "model_module_version": "1.2.0",
      "model_name": "LayoutModel",
      "state": {}
     },
     "e9c45f2b3bf0414da9d1e0a701230283": {
      "model_module": "@jupyter-widgets/controls",
      "model_module_version": "1.5.0",
      "model_name": "IntProgressModel",
      "state": {
       "bar_style": "success",
       "description": "100.00%",
       "layout": "IPY_MODEL_363e60476d184983a36f9ea0dc1aa9d4",
       "max": 204,
       "style": "IPY_MODEL_f9485e265cb9430682f7fc1d3b6eab0a",
       "value": 204
      }
     },
     "e9d4c668b1894d88886c6d7e8ae74106": {
      "model_module": "@jupyter-widgets/controls",
      "model_module_version": "1.5.0",
      "model_name": "DescriptionStyleModel",
      "state": {
       "description_width": ""
      }
     },
     "e9d65da5f6bf4dffac336fcb3517c444": {
      "model_module": "@jupyter-widgets/controls",
      "model_module_version": "1.5.0",
      "model_name": "ProgressStyleModel",
      "state": {
       "description_width": ""
      }
     },
     "ea4d1104dbc444d1859f2a03afd51531": {
      "model_module": "@jupyter-widgets/base",
      "model_module_version": "1.2.0",
      "model_name": "LayoutModel",
      "state": {}
     },
     "ea718225baf142289b262d2203499848": {
      "model_module": "@jupyter-widgets/controls",
      "model_module_version": "1.5.0",
      "model_name": "HBoxModel",
      "state": {
       "children": [
        "IPY_MODEL_676bcadb164344c3bffc08009a1b5c90",
        "IPY_MODEL_40369446dd7746c2b5bdf77e37197ab1"
       ],
       "layout": "IPY_MODEL_5fd95e4d1c184f119d152167ade214b0"
      }
     },
     "eaa81dac42ff4067acdd27e421426230": {
      "model_module": "@jupyter-widgets/controls",
      "model_module_version": "1.5.0",
      "model_name": "ProgressStyleModel",
      "state": {
       "description_width": ""
      }
     },
     "ead86bdf3083487e9c914a9f74665084": {
      "model_module": "@jupyter-widgets/base",
      "model_module_version": "1.2.0",
      "model_name": "LayoutModel",
      "state": {}
     },
     "eadab10c54a44c83857bdad2d74566e0": {
      "model_module": "@jupyter-widgets/controls",
      "model_module_version": "1.5.0",
      "model_name": "HBoxModel",
      "state": {
       "children": [
        "IPY_MODEL_61c05c8cc812425896fe2c3311e9c261",
        "IPY_MODEL_48a1fce8e8924d81b28849e8a72f8c46"
       ],
       "layout": "IPY_MODEL_920fb0e125fe466081eeed06964e372c"
      }
     },
     "eae08005dbd34e4e9cc03af5bdab5908": {
      "model_module": "@jupyter-widgets/controls",
      "model_module_version": "1.5.0",
      "model_name": "HBoxModel",
      "state": {
       "children": [
        "IPY_MODEL_3f657ff537b54920a45295b4869c6f90",
        "IPY_MODEL_abb6b8ecfb5d42d6b331188aaae85e2a"
       ],
       "layout": "IPY_MODEL_55a67ad1972549f0906b08ab515f4061"
      }
     },
     "eb3ce1fae8034017a26ba4ad68abdb54": {
      "model_module": "@jupyter-widgets/controls",
      "model_module_version": "1.5.0",
      "model_name": "DescriptionStyleModel",
      "state": {
       "description_width": ""
      }
     },
     "eb936bfbf2fa44b49b53bce00062b157": {
      "model_module": "@jupyter-widgets/controls",
      "model_module_version": "1.5.0",
      "model_name": "IntProgressModel",
      "state": {
       "bar_style": "success",
       "description": "100.00%",
       "layout": "IPY_MODEL_00d0f52b10b64801a0bf9f1eaee7034b",
       "max": 255,
       "style": "IPY_MODEL_93f1d488bb0d4c06b5ad587c3f095ff3",
       "value": 255
      }
     },
     "ec44d6c1a40a4e78956b875c5b2c9631": {
      "model_module": "@jupyter-widgets/base",
      "model_module_version": "1.2.0",
      "model_name": "LayoutModel",
      "state": {}
     },
     "ec4a34d3c6164c76b48396e6c9024665": {
      "model_module": "@jupyter-widgets/controls",
      "model_module_version": "1.5.0",
      "model_name": "ProgressStyleModel",
      "state": {
       "description_width": ""
      }
     },
     "ec646e3ff4f34b6a89fcdbff261c4712": {
      "model_module": "@jupyter-widgets/controls",
      "model_module_version": "1.5.0",
      "model_name": "LabelModel",
      "state": {
       "layout": "IPY_MODEL_04aa3249c85d472697b12854be5400d8",
       "style": "IPY_MODEL_2d89a8fdda164f2b98c6de40d692b833",
       "value": "256 / 256"
      }
     },
     "eca742a782d14d1ebcc40ff8fe1c5063": {
      "model_module": "@jupyter-widgets/controls",
      "model_module_version": "1.5.0",
      "model_name": "DescriptionStyleModel",
      "state": {
       "description_width": ""
      }
     },
     "ed1bb9bda8e64e90a28b37c30f57f2fd": {
      "model_module": "@jupyter-widgets/controls",
      "model_module_version": "1.5.0",
      "model_name": "HBoxModel",
      "state": {
       "children": [
        "IPY_MODEL_0c1e260619ea4d35a02b87604c7bc39d",
        "IPY_MODEL_af398c3e8efe46d1ba9353a966744c3c"
       ],
       "layout": "IPY_MODEL_36e8799bf4dd4f018d8a82c73037592b"
      }
     },
     "ed30741efdbb4707aa38b0b74fdc6632": {
      "model_module": "@jupyter-widgets/controls",
      "model_module_version": "1.5.0",
      "model_name": "IntProgressModel",
      "state": {
       "bar_style": "success",
       "description": "100.00%",
       "layout": "IPY_MODEL_5ebfd507a388420e82ffc501acc5d6ca",
       "max": 255,
       "style": "IPY_MODEL_f1a36214c5b54050bb0a47ee8c97416b",
       "value": 255
      }
     },
     "ed6b5ab545554137b740807fe146c013": {
      "model_module": "@jupyter-widgets/base",
      "model_module_version": "1.2.0",
      "model_name": "LayoutModel",
      "state": {}
     },
     "ed7278e7c550487bb7ecd69b26bcd452": {
      "model_module": "@jupyter-widgets/controls",
      "model_module_version": "1.5.0",
      "model_name": "ProgressStyleModel",
      "state": {
       "description_width": ""
      }
     },
     "ed8eadddef954769943a85d4e58576df": {
      "model_module": "@jupyter-widgets/controls",
      "model_module_version": "1.5.0",
      "model_name": "HBoxModel",
      "state": {
       "children": [
        "IPY_MODEL_433e117abd6a4be482c1617c775bc86c",
        "IPY_MODEL_04c00233bda742339f95f8719762af77"
       ],
       "layout": "IPY_MODEL_4578ea0b3c8642d8932c97730fb0c1ab"
      }
     },
     "eda9e07da02c4836a3928bd429efb955": {
      "model_module": "@jupyter-widgets/controls",
      "model_module_version": "1.5.0",
      "model_name": "HBoxModel",
      "state": {
       "children": [
        "IPY_MODEL_88c748834dec4b66aa11c7456d494d2d",
        "IPY_MODEL_d7011fdda73e468eb90c840ef4b2a4a7"
       ],
       "layout": "IPY_MODEL_16d75e2a5c1b4fabb99e3511b235822b"
      }
     },
     "eddd5730b2634016817cfbe9e195aa9b": {
      "model_module": "@jupyter-widgets/controls",
      "model_module_version": "1.5.0",
      "model_name": "IntProgressModel",
      "state": {
       "bar_style": "success",
       "description": "100.00%",
       "layout": "IPY_MODEL_fea98b2dde1c4638acf3c66e6baed079",
       "max": 205,
       "style": "IPY_MODEL_1eb261547b0f46fb99267199cc8d41dd",
       "value": 205
      }
     },
     "ee17c4da2b3e44d7b0a285e12da46849": {
      "model_module": "@jupyter-widgets/controls",
      "model_module_version": "1.5.0",
      "model_name": "VBoxModel",
      "state": {
       "children": [
        "IPY_MODEL_d0f48d62568747bfbade395638f0f4d3",
        "IPY_MODEL_25f174a4fdde4dfc95fbfea75b47e2a5",
        "IPY_MODEL_7f52be89963c43c4b873bf24c808858d",
        "IPY_MODEL_aa98c002a6244931a3c2351780748bae",
        "IPY_MODEL_f36d375f8e7a4f0a9436bb7387455443",
        "IPY_MODEL_a12aeb6a26414290bdb32bab18bd621b",
        "IPY_MODEL_fa34fc5c879949c2a3a07a8c3746e34f",
        "IPY_MODEL_9f74b31c1313467fb66b5fd5348c16f0",
        "IPY_MODEL_102ff49b390c4301b4b7df295d765cdb",
        "IPY_MODEL_6b9d7021ce3e4bb59375f252474d1e57",
        "IPY_MODEL_6c61a72a44884a13902f154186f59c20",
        "IPY_MODEL_8a2023a4c4ed4678b5b590bc36832e43",
        "IPY_MODEL_fea83f28b55e4285b8e5ccd25a61498e",
        "IPY_MODEL_8e4312b5c6664f118727a1c7c9a83ad6",
        "IPY_MODEL_7fe257fe5a224240b0e59aa4c252ef76",
        "IPY_MODEL_ff562109c2a24ee1a52404c5400c5ca1"
       ],
       "layout": "IPY_MODEL_6ce2804ac1d04c8f9888fcddf3fff405"
      }
     },
     "ee1df6f1a8cd4d90ad9879c6aa231113": {
      "model_module": "@jupyter-widgets/base",
      "model_module_version": "1.2.0",
      "model_name": "LayoutModel",
      "state": {}
     },
     "ee4378539a5741e495bb128849df6150": {
      "model_module": "@jupyter-widgets/base",
      "model_module_version": "1.2.0",
      "model_name": "LayoutModel",
      "state": {}
     },
     "ee4c66eff4d34dc0b8cd6894280cf79a": {
      "model_module": "@jupyter-widgets/controls",
      "model_module_version": "1.5.0",
      "model_name": "LabelModel",
      "state": {
       "layout": "IPY_MODEL_b698d95f101c46419ba64d34c1598d0e",
       "style": "IPY_MODEL_f5038b7f78d244b39fd60fe51796dbc1",
       "value": "3 / 204"
      }
     },
     "ee67f38afa364ea1b700bc56cae162cf": {
      "model_module": "@jupyter-widgets/base",
      "model_module_version": "1.2.0",
      "model_name": "LayoutModel",
      "state": {}
     },
     "eed6e1dcfad84841b397b3c0c501b64b": {
      "model_module": "@jupyter-widgets/controls",
      "model_module_version": "1.5.0",
      "model_name": "DescriptionStyleModel",
      "state": {
       "description_width": ""
      }
     },
     "eedefa7bde334fb79426edffef40a3e1": {
      "model_module": "@jupyter-widgets/controls",
      "model_module_version": "1.5.0",
      "model_name": "ProgressStyleModel",
      "state": {
       "description_width": ""
      }
     },
     "ef25173178f04d03ba2dfeb72776700d": {
      "model_module": "@jupyter-widgets/base",
      "model_module_version": "1.2.0",
      "model_name": "LayoutModel",
      "state": {}
     },
     "ef356aecd6c44d8a93f3b0542753f2a6": {
      "model_module": "@jupyter-widgets/controls",
      "model_module_version": "1.5.0",
      "model_name": "DescriptionStyleModel",
      "state": {
       "description_width": ""
      }
     },
     "efab5da809fd4e3d86c923049c5d3f6f": {
      "model_module": "@jupyter-widgets/base",
      "model_module_version": "1.2.0",
      "model_name": "LayoutModel",
      "state": {}
     },
     "f051acc55d3c4ec89c24c95f15c12ba2": {
      "model_module": "@jupyter-widgets/base",
      "model_module_version": "1.2.0",
      "model_name": "LayoutModel",
      "state": {}
     },
     "f06dccce8d3c4d52885c872111e86db3": {
      "model_module": "@jupyter-widgets/base",
      "model_module_version": "1.2.0",
      "model_name": "LayoutModel",
      "state": {}
     },
     "f0ec3d27e2864ab985419b8474cbee73": {
      "model_module": "@jupyter-widgets/controls",
      "model_module_version": "1.5.0",
      "model_name": "LabelModel",
      "state": {
       "layout": "IPY_MODEL_591a286f6a0444ca87b7febf3c3a4782",
       "style": "IPY_MODEL_e6049916904c4480a74bca2b787b0ce4",
       "value": "3 / 204"
      }
     },
     "f13a6a5154da4b44975060ebe6e12402": {
      "model_module": "@jupyter-widgets/base",
      "model_module_version": "1.2.0",
      "model_name": "LayoutModel",
      "state": {}
     },
     "f1a36214c5b54050bb0a47ee8c97416b": {
      "model_module": "@jupyter-widgets/controls",
      "model_module_version": "1.5.0",
      "model_name": "ProgressStyleModel",
      "state": {
       "description_width": ""
      }
     },
     "f1fa4a02f1e9450c9314962b0c50a2c7": {
      "model_module": "@jupyter-widgets/base",
      "model_module_version": "1.2.0",
      "model_name": "LayoutModel",
      "state": {}
     },
     "f206d6eea7d4492b8b2155234789ce46": {
      "model_module": "@jupyter-widgets/controls",
      "model_module_version": "1.5.0",
      "model_name": "LabelModel",
      "state": {
       "layout": "IPY_MODEL_ad5355fc336e4a0bb9b64bb181f12b46",
       "style": "IPY_MODEL_b4f3baa6145a47f298fa45a7de574a2f",
       "value": "120 / 204"
      }
     },
     "f22b930d1fbf481eb981b20481874755": {
      "model_module": "@jupyter-widgets/base",
      "model_module_version": "1.2.0",
      "model_name": "LayoutModel",
      "state": {}
     },
     "f265c140fd3b466db881b4bd6a27ba59": {
      "model_module": "@jupyter-widgets/base",
      "model_module_version": "1.2.0",
      "model_name": "LayoutModel",
      "state": {}
     },
     "f2b9135728aa48819d8288d5598f2a7b": {
      "model_module": "@jupyter-widgets/controls",
      "model_module_version": "1.5.0",
      "model_name": "HBoxModel",
      "state": {
       "children": [
        "IPY_MODEL_3ab29420f0234558a3128847cfc4de17",
        "IPY_MODEL_4bd1a0d18d8447ed9242e654d3d847fc"
       ],
       "layout": "IPY_MODEL_6d64a860bf1b46c786ba1ae8c40afc33"
      }
     },
     "f2d2f461ff5a42668f3449fd2ae025e3": {
      "model_module": "@jupyter-widgets/base",
      "model_module_version": "1.2.0",
      "model_name": "LayoutModel",
      "state": {}
     },
     "f30d439f7dc74da2ba4bdd643ceb5d48": {
      "model_module": "@jupyter-widgets/base",
      "model_module_version": "1.2.0",
      "model_name": "LayoutModel",
      "state": {}
     },
     "f36acb75f40c48629d29160cfe332661": {
      "model_module": "@jupyter-widgets/controls",
      "model_module_version": "1.5.0",
      "model_name": "IntProgressModel",
      "state": {
       "bar_style": "success",
       "description": "100.00%",
       "layout": "IPY_MODEL_42f5f294ff954aa9a4692af8cea8b6a6",
       "max": 64,
       "style": "IPY_MODEL_83fe3b151d6f497abc6caec3feeff78e",
       "value": 64
      }
     },
     "f36d375f8e7a4f0a9436bb7387455443": {
      "model_module": "@jupyter-widgets/controls",
      "model_module_version": "1.5.0",
      "model_name": "HBoxModel",
      "state": {
       "children": [
        "IPY_MODEL_24484ab031aa4be5b93cf7bccdd94410",
        "IPY_MODEL_8fbb92532660428eb4edefe2dc8bebe4"
       ],
       "layout": "IPY_MODEL_efab5da809fd4e3d86c923049c5d3f6f"
      }
     },
     "f385817f79214b28b969e41e2ddc5650": {
      "model_module": "@jupyter-widgets/controls",
      "model_module_version": "1.5.0",
      "model_name": "HBoxModel",
      "state": {
       "children": [
        "IPY_MODEL_8ba506d2f1f04fddbfec412e63d491d9",
        "IPY_MODEL_e3e0059b848e40478161fdfa54a07613"
       ],
       "layout": "IPY_MODEL_ab2fcf64deeb4107b3ff1202a8106e58"
      }
     },
     "f3a1706457124365be40f2e0f588a507": {
      "model_module": "@jupyter-widgets/controls",
      "model_module_version": "1.5.0",
      "model_name": "IntProgressModel",
      "state": {
       "bar_style": "success",
       "description": "100.00%",
       "layout": "IPY_MODEL_bc6eb6d016cb49b7bd4b0700b2d2672f",
       "max": 204,
       "style": "IPY_MODEL_c9d106f404bd415c954468e269bf0edc",
       "value": 204
      }
     },
     "f3cadf785abe4833ad060a15568d4804": {
      "model_module": "@jupyter-widgets/base",
      "model_module_version": "1.2.0",
      "model_name": "LayoutModel",
      "state": {}
     },
     "f3d73019071244d9a2e2516f45b0adbf": {
      "model_module": "@jupyter-widgets/controls",
      "model_module_version": "1.5.0",
      "model_name": "ProgressStyleModel",
      "state": {
       "description_width": ""
      }
     },
     "f3edaa4681c4461f84de4258c18a4995": {
      "model_module": "@jupyter-widgets/controls",
      "model_module_version": "1.5.0",
      "model_name": "IntProgressModel",
      "state": {
       "bar_style": "success",
       "description": "100.00%",
       "layout": "IPY_MODEL_fbb72981f8cc4722a3f4836bc439e6e6",
       "max": 255,
       "style": "IPY_MODEL_2b6af61d5d4d434bab5adb6c2ae20f52",
       "value": 255
      }
     },
     "f40a82057f9c466e9d1896104857efb0": {
      "model_module": "@jupyter-widgets/controls",
      "model_module_version": "1.5.0",
      "model_name": "IntProgressModel",
      "state": {
       "bar_style": "success",
       "description": "100.00%",
       "layout": "IPY_MODEL_1071b0b0ff9d4856b79e7716f7711bd5",
       "max": 256,
       "style": "IPY_MODEL_85690270a14d414e89e6b806503ee528",
       "value": 256
      }
     },
     "f42425571dc74c858673cb426e4d2082": {
      "model_module": "@jupyter-widgets/controls",
      "model_module_version": "1.5.0",
      "model_name": "HBoxModel",
      "state": {
       "children": [
        "IPY_MODEL_0345fe5f963d4ecab63e309f9cfecc69",
        "IPY_MODEL_76c370c3d2f44d15b469ec9070463cd6"
       ],
       "layout": "IPY_MODEL_04d2f55d66ce463b928bf150bf2d8735"
      }
     },
     "f426ac1e5e454e3a9d0f331ff3e6c189": {
      "model_module": "@jupyter-widgets/base",
      "model_module_version": "1.2.0",
      "model_name": "LayoutModel",
      "state": {}
     },
     "f4313784bef1419895e7a8e268af4db4": {
      "model_module": "@jupyter-widgets/base",
      "model_module_version": "1.2.0",
      "model_name": "LayoutModel",
      "state": {}
     },
     "f478237abafa4c42acedc6e8ac8d41ba": {
      "model_module": "@jupyter-widgets/controls",
      "model_module_version": "1.5.0",
      "model_name": "DescriptionStyleModel",
      "state": {
       "description_width": ""
      }
     },
     "f48a4c0b76c6424ca892854eeb0c1c6f": {
      "model_module": "@jupyter-widgets/base",
      "model_module_version": "1.2.0",
      "model_name": "LayoutModel",
      "state": {}
     },
     "f493f8fec81d4b4dbdba69220f0c4c44": {
      "model_module": "@jupyter-widgets/controls",
      "model_module_version": "1.5.0",
      "model_name": "IntProgressModel",
      "state": {
       "bar_style": "success",
       "description": "100.00%",
       "layout": "IPY_MODEL_fe03ca74ce6a4e96a20f7e6050802b6a",
       "max": 255,
       "style": "IPY_MODEL_502601e1b6834cffa7c13194e26be8e4",
       "value": 255
      }
     },
     "f4b89d9dd02748cd9c5cfa36490ebf38": {
      "model_module": "@jupyter-widgets/controls",
      "model_module_version": "1.5.0",
      "model_name": "HBoxModel",
      "state": {
       "children": [
        "IPY_MODEL_38e0ff895170429b8d69d61a0a73be5d",
        "IPY_MODEL_5331d2d724e54c3280a07e08b74c413b"
       ],
       "layout": "IPY_MODEL_1a62cc32d4cd46c39a00b7927182fe71"
      }
     },
     "f4bb0f9da2b04a71b07fc5a80cfbc571": {
      "model_module": "@jupyter-widgets/controls",
      "model_module_version": "1.5.0",
      "model_name": "ProgressStyleModel",
      "state": {
       "description_width": ""
      }
     },
     "f4f4334ebadd4717b6f732e3471bb7e0": {
      "model_module": "@jupyter-widgets/controls",
      "model_module_version": "1.5.0",
      "model_name": "DescriptionStyleModel",
      "state": {
       "description_width": ""
      }
     },
     "f4fc37d728ad4ccdb30c7d6eddbdb419": {
      "model_module": "@jupyter-widgets/controls",
      "model_module_version": "1.5.0",
      "model_name": "IntProgressModel",
      "state": {
       "bar_style": "success",
       "description": "100.00%",
       "layout": "IPY_MODEL_13748789877c4fc781e73c56e03d2ff8",
       "max": 255,
       "style": "IPY_MODEL_5d7c0f3162d9444d9858f009fcd66ec6",
       "value": 255
      }
     },
     "f4feac18f7c847e6a8a4df9f64e5f243": {
      "model_module": "@jupyter-widgets/controls",
      "model_module_version": "1.5.0",
      "model_name": "LabelModel",
      "state": {
       "layout": "IPY_MODEL_5f471c2581904bcfb2fd4741d4bc0fc6",
       "style": "IPY_MODEL_f810f37a694d4a16917230848149633d",
       "value": "205 / 205"
      }
     },
     "f5038b7f78d244b39fd60fe51796dbc1": {
      "model_module": "@jupyter-widgets/controls",
      "model_module_version": "1.5.0",
      "model_name": "DescriptionStyleModel",
      "state": {
       "description_width": ""
      }
     },
     "f518de522c1e446f999d7dde89805f41": {
      "model_module": "@jupyter-widgets/base",
      "model_module_version": "1.2.0",
      "model_name": "LayoutModel",
      "state": {}
     },
     "f51dbee84d254167aefbb8761a9c008e": {
      "model_module": "@jupyter-widgets/controls",
      "model_module_version": "1.5.0",
      "model_name": "IntProgressModel",
      "state": {
       "bar_style": "success",
       "description": "100.00%",
       "layout": "IPY_MODEL_00e7132499ff40fab8c655c55d16230e",
       "max": 204,
       "style": "IPY_MODEL_01e223bff80a4f8fa9a641811216d2a4",
       "value": 204
      }
     },
     "f52e34bc6e014e5e8d895fb65ab121f7": {
      "model_module": "@jupyter-widgets/base",
      "model_module_version": "1.2.0",
      "model_name": "LayoutModel",
      "state": {}
     },
     "f56912b585414bd8b734b76f061eef4c": {
      "model_module": "@jupyter-widgets/controls",
      "model_module_version": "1.5.0",
      "model_name": "ProgressStyleModel",
      "state": {
       "description_width": ""
      }
     },
     "f5835854199b47c0ae7fc3e611c1fb7f": {
      "model_module": "@jupyter-widgets/controls",
      "model_module_version": "1.5.0",
      "model_name": "HBoxModel",
      "state": {
       "children": [
        "IPY_MODEL_fc74dd9fca184d56bad02b54194317c9",
        "IPY_MODEL_bd2476e6808e4e09a8917ce6eaf3d8fc",
        "IPY_MODEL_3cdde3936a1845b5b66d8f38961617b4"
       ],
       "layout": "IPY_MODEL_4911164ded404cd9a8836c7c01492a24"
      }
     },
     "f58a9c56350a45e9b2e68d6e2d8b5b51": {
      "model_module": "@jupyter-widgets/controls",
      "model_module_version": "1.5.0",
      "model_name": "DescriptionStyleModel",
      "state": {
       "description_width": ""
      }
     },
     "f59f177a9cf24a6b8491eccf50020945": {
      "model_module": "@jupyter-widgets/controls",
      "model_module_version": "1.5.0",
      "model_name": "IntProgressModel",
      "state": {
       "description": "1.47%",
       "layout": "IPY_MODEL_6ce17b26b3f14cd391370e2b3a06943e",
       "max": 204,
       "style": "IPY_MODEL_448a26f6039542719b0a3e2d3a49141b",
       "value": 3
      }
     },
     "f628848b5eeb41a0afde17f79274ddec": {
      "model_module": "@jupyter-widgets/base",
      "model_module_version": "1.2.0",
      "model_name": "LayoutModel",
      "state": {}
     },
     "f66f78e3c0a94d508ac3b6e68f5ab8f2": {
      "model_module": "@jupyter-widgets/controls",
      "model_module_version": "1.5.0",
      "model_name": "IntProgressModel",
      "state": {
       "bar_style": "success",
       "description": "100.00%",
       "layout": "IPY_MODEL_27a479d714034c159707efa7867e2995",
       "max": 64,
       "style": "IPY_MODEL_3c31379967ec4220b09931356de3c453",
       "value": 64
      }
     },
     "f6c9479e2aea47d99dd37bc066bb81f2": {
      "model_module": "@jupyter-widgets/controls",
      "model_module_version": "1.5.0",
      "model_name": "IntProgressModel",
      "state": {
       "description": "1.47%",
       "layout": "IPY_MODEL_e5266a89ac7e482dbdbf6b4e8c1d3047",
       "max": 204,
       "style": "IPY_MODEL_adf279ca47774ffea831aac8164140c8",
       "value": 3
      }
     },
     "f6d41d57536249edb66940bf7c1c52be": {
      "model_module": "@jupyter-widgets/controls",
      "model_module_version": "1.5.0",
      "model_name": "VBoxModel",
      "state": {
       "children": [
        "IPY_MODEL_f4b89d9dd02748cd9c5cfa36490ebf38",
        "IPY_MODEL_e775a4f825b74ff2b275bfda39f5de21",
        "IPY_MODEL_fdb8ae9cf4644420b1ebb986d396a992",
        "IPY_MODEL_8b74dbde78e845129ea1509aa4a8dc04",
        "IPY_MODEL_fcb095eb29f8440aae0143bb678e4253",
        "IPY_MODEL_4bc594b4e9df44de8c00c9c31254a4f2",
        "IPY_MODEL_fdc77c5c7a534df782d40617d0fccf20",
        "IPY_MODEL_82fcc14f6dc94309a9d8ac04f891f4ec",
        "IPY_MODEL_0ba2654e428e46d68a005df4ed88d458",
        "IPY_MODEL_82beee94e47a4c5dad00c35ea58efb0d",
        "IPY_MODEL_0dec99354ee94a0a974eb2b46ed9a6c4",
        "IPY_MODEL_db0572908169402dbe43c52f2d33fd7b",
        "IPY_MODEL_acb8731d097e46b48fa7bf61f29e9d80",
        "IPY_MODEL_bf0adc1d3ba14a44ba210863c3b1c8f5",
        "IPY_MODEL_c9852b7ff7d14b40998c2d0e494fc075",
        "IPY_MODEL_4ffc8c41ccc744fa87e571e0041147a9"
       ],
       "layout": "IPY_MODEL_7824b0220f0646a4a51691ce0d56620e"
      }
     },
     "f70ad17996ea4b01bc62df2209a1b06b": {
      "model_module": "@jupyter-widgets/controls",
      "model_module_version": "1.5.0",
      "model_name": "ProgressStyleModel",
      "state": {
       "description_width": ""
      }
     },
     "f7138d9552f34bf183e288e7224fcdfd": {
      "model_module": "@jupyter-widgets/base",
      "model_module_version": "1.2.0",
      "model_name": "LayoutModel",
      "state": {}
     },
     "f7201a2e9c1346c19a9c02c51286fefd": {
      "model_module": "@jupyter-widgets/base",
      "model_module_version": "1.2.0",
      "model_name": "LayoutModel",
      "state": {}
     },
     "f741cd7b5d5845e1aaed73dcb9d44751": {
      "model_module": "@jupyter-widgets/base",
      "model_module_version": "1.2.0",
      "model_name": "LayoutModel",
      "state": {}
     },
     "f78f1d912f2a4ac8938b11f393a8f015": {
      "model_module": "@jupyter-widgets/controls",
      "model_module_version": "1.5.0",
      "model_name": "DescriptionStyleModel",
      "state": {
       "description_width": ""
      }
     },
     "f7f6aff898104e588b3d4cfa51a0b942": {
      "model_module": "@jupyter-widgets/controls",
      "model_module_version": "1.5.0",
      "model_name": "DescriptionStyleModel",
      "state": {
       "description_width": ""
      }
     },
     "f8007eaa1bc44771a22d206ddfa61abe": {
      "model_module": "@jupyter-widgets/controls",
      "model_module_version": "1.5.0",
      "model_name": "HBoxModel",
      "state": {
       "children": [
        "IPY_MODEL_203b5132ee294969bd0ca7e3adde4708",
        "IPY_MODEL_0500ecbc24934bebb543b6154fc9427b"
       ],
       "layout": "IPY_MODEL_c8776ef67c3941d185390a857d9e4893"
      }
     },
     "f803ff81afcb42e89c80828b76bd2eaf": {
      "model_module": "@jupyter-widgets/base",
      "model_module_version": "1.2.0",
      "model_name": "LayoutModel",
      "state": {}
     },
     "f810f37a694d4a16917230848149633d": {
      "model_module": "@jupyter-widgets/controls",
      "model_module_version": "1.5.0",
      "model_name": "DescriptionStyleModel",
      "state": {
       "description_width": ""
      }
     },
     "f822ca1ab39d4158832b1d7e806c393c": {
      "model_module": "@jupyter-widgets/controls",
      "model_module_version": "1.5.0",
      "model_name": "LabelModel",
      "state": {
       "layout": "IPY_MODEL_cb2a838c30734b35a53afc4517d8a6ab",
       "style": "IPY_MODEL_74e7ff02dedf495fb8a285c3867bfb3f",
       "value": "63 / 63"
      }
     },
     "f829f8be1e9d440bb5c9583f169aef66": {
      "model_module": "@jupyter-widgets/controls",
      "model_module_version": "1.5.0",
      "model_name": "DescriptionStyleModel",
      "state": {
       "description_width": ""
      }
     },
     "f83281cc67234f52b72d1bb9ff249632": {
      "model_module": "@jupyter-widgets/base",
      "model_module_version": "1.2.0",
      "model_name": "LayoutModel",
      "state": {}
     },
     "f8865fff75c34d8f8e5fe467e4bd9ce4": {
      "model_module": "@jupyter-widgets/base",
      "model_module_version": "1.2.0",
      "model_name": "LayoutModel",
      "state": {}
     },
     "f8aab4190e0e43f6a24c8e8c0e25ad4d": {
      "model_module": "@jupyter-widgets/controls",
      "model_module_version": "1.5.0",
      "model_name": "ProgressStyleModel",
      "state": {
       "description_width": ""
      }
     },
     "f8cb5e2d38544fa1a61a0f808bf68e79": {
      "model_module": "@jupyter-widgets/base",
      "model_module_version": "1.2.0",
      "model_name": "LayoutModel",
      "state": {}
     },
     "f92b4a6046754d44a90b0bfd6dbbcc4c": {
      "model_module": "@jupyter-widgets/controls",
      "model_module_version": "1.5.0",
      "model_name": "ProgressStyleModel",
      "state": {
       "description_width": ""
      }
     },
     "f9485e265cb9430682f7fc1d3b6eab0a": {
      "model_module": "@jupyter-widgets/controls",
      "model_module_version": "1.5.0",
      "model_name": "ProgressStyleModel",
      "state": {
       "description_width": ""
      }
     },
     "f9788699a1b84080acb5cfdc9a1bf48c": {
      "model_module": "@jupyter-widgets/controls",
      "model_module_version": "1.5.0",
      "model_name": "IntProgressModel",
      "state": {
       "description": "1.47%",
       "layout": "IPY_MODEL_ea4d1104dbc444d1859f2a03afd51531",
       "max": 204,
       "style": "IPY_MODEL_94a19c7e21614724af9dd519ff2710a5",
       "value": 3
      }
     },
     "f9b83861e0584d22ba998dc7c8f4c005": {
      "model_module": "@jupyter-widgets/base",
      "model_module_version": "1.2.0",
      "model_name": "LayoutModel",
      "state": {}
     },
     "f9e202266de545b4a1fd1a4fb6b21429": {
      "model_module": "@jupyter-widgets/base",
      "model_module_version": "1.2.0",
      "model_name": "LayoutModel",
      "state": {}
     },
     "f9ec89021f8a4528a880573b93b461ae": {
      "model_module": "@jupyter-widgets/base",
      "model_module_version": "1.2.0",
      "model_name": "LayoutModel",
      "state": {}
     },
     "f9f0b424b9fa41e0b8d0f14207b9417f": {
      "model_module": "@jupyter-widgets/base",
      "model_module_version": "1.2.0",
      "model_name": "LayoutModel",
      "state": {}
     },
     "f9f902629ac04aaf94030ce8441889ed": {
      "model_module": "@jupyter-widgets/base",
      "model_module_version": "1.2.0",
      "model_name": "LayoutModel",
      "state": {}
     },
     "f9fd9a18ea5b41f4a9d27a6211297e9d": {
      "model_module": "@jupyter-widgets/base",
      "model_module_version": "1.2.0",
      "model_name": "LayoutModel",
      "state": {}
     },
     "fa2cc0b807954eb997ecbfc0f8e1961f": {
      "model_module": "@jupyter-widgets/base",
      "model_module_version": "1.2.0",
      "model_name": "LayoutModel",
      "state": {}
     },
     "fa34fc5c879949c2a3a07a8c3746e34f": {
      "model_module": "@jupyter-widgets/controls",
      "model_module_version": "1.5.0",
      "model_name": "HBoxModel",
      "state": {
       "children": [
        "IPY_MODEL_40db0235eb944ded80f85392a81f4889",
        "IPY_MODEL_496af21435da4636ba9b15d32e7183c0"
       ],
       "layout": "IPY_MODEL_f7201a2e9c1346c19a9c02c51286fefd"
      }
     },
     "fa6eca5e7795482e8ba3a243c7d62e19": {
      "model_module": "@jupyter-widgets/base",
      "model_module_version": "1.2.0",
      "model_name": "LayoutModel",
      "state": {}
     },
     "fa7697b2aef84ee8a5d6dad80d1415bd": {
      "model_module": "@jupyter-widgets/controls",
      "model_module_version": "1.5.0",
      "model_name": "IntProgressModel",
      "state": {
       "bar_style": "success",
       "description": "100.00%",
       "layout": "IPY_MODEL_baa4eecdf7c944299000f1a559a4cb3b",
       "max": 256,
       "style": "IPY_MODEL_5fe99f90236341ea944e84d63673d5c6",
       "value": 256
      }
     },
     "fad49632a39b429091cff4e531c133ce": {
      "model_module": "@jupyter-widgets/base",
      "model_module_version": "1.2.0",
      "model_name": "LayoutModel",
      "state": {}
     },
     "fae7eb175e604e3db1b269b211e2bf32": {
      "model_module": "@jupyter-widgets/controls",
      "model_module_version": "1.5.0",
      "model_name": "ProgressStyleModel",
      "state": {
       "description_width": ""
      }
     },
     "fb6aeb7b7ade4f82827349f0f22ffa76": {
      "model_module": "@jupyter-widgets/base",
      "model_module_version": "1.2.0",
      "model_name": "LayoutModel",
      "state": {}
     },
     "fb6af273516a42548af15886a1f00b14": {
      "model_module": "@jupyter-widgets/controls",
      "model_module_version": "1.5.0",
      "model_name": "DescriptionStyleModel",
      "state": {
       "description_width": ""
      }
     },
     "fbb72981f8cc4722a3f4836bc439e6e6": {
      "model_module": "@jupyter-widgets/base",
      "model_module_version": "1.2.0",
      "model_name": "LayoutModel",
      "state": {}
     },
     "fc27bc7cd0154411a50a05191e3be4ff": {
      "model_module": "@jupyter-widgets/controls",
      "model_module_version": "1.5.0",
      "model_name": "HBoxModel",
      "state": {
       "children": [
        "IPY_MODEL_f3edaa4681c4461f84de4258c18a4995",
        "IPY_MODEL_2bfc1ddca9324a9caf7f64a8ce329cb5"
       ],
       "layout": "IPY_MODEL_4fa43d7d2676426fb601c5f3b82b6218"
      }
     },
     "fc6ec914afe243db8599050ae991e40a": {
      "model_module": "@jupyter-widgets/controls",
      "model_module_version": "1.5.0",
      "model_name": "IntProgressModel",
      "state": {
       "bar_style": "success",
       "description": "100.00%",
       "layout": "IPY_MODEL_73a4b9bc894248109d54c2d1abd9e1db",
       "max": 255,
       "style": "IPY_MODEL_c59ff18a40474f82a86cc92bc7fb7e64",
       "value": 255
      }
     },
     "fc74dd9fca184d56bad02b54194317c9": {
      "model_module": "@jupyter-widgets/controls",
      "model_module_version": "1.5.0",
      "model_name": "HTMLModel",
      "state": {
       "layout": "IPY_MODEL_5ce54845bdd3461d8b0a99263491f212",
       "style": "IPY_MODEL_f58a9c56350a45e9b2e68d6e2d8b5b51",
       "value": "Generate report structure: 100%"
      }
     },
     "fc9b5d0dba98467ebdfa269127f47365": {
      "model_module": "@jupyter-widgets/base",
      "model_module_version": "1.2.0",
      "model_name": "LayoutModel",
      "state": {}
     },
     "fcaa683e811a4b1dbd5197ef68e45768": {
      "model_module": "@jupyter-widgets/controls",
      "model_module_version": "1.5.0",
      "model_name": "IntProgressModel",
      "state": {
       "bar_style": "success",
       "description": "100.00%",
       "layout": "IPY_MODEL_f1fa4a02f1e9450c9314962b0c50a2c7",
       "max": 255,
       "style": "IPY_MODEL_33145b65ecf84b1f930b3d94703ed7c7",
       "value": 255
      }
     },
     "fcb095eb29f8440aae0143bb678e4253": {
      "model_module": "@jupyter-widgets/controls",
      "model_module_version": "1.5.0",
      "model_name": "HBoxModel",
      "state": {
       "children": [
        "IPY_MODEL_9c8a4ecb587e4c07bee740ad7443dd3d",
        "IPY_MODEL_e49eea85e370444d9760a5546f10f395"
       ],
       "layout": "IPY_MODEL_5d468c422fc54097911ca90d63e817e4"
      }
     },
     "fcdc2d680ff244c7b4d4a634a6702b24": {
      "model_module": "@jupyter-widgets/base",
      "model_module_version": "1.2.0",
      "model_name": "LayoutModel",
      "state": {}
     },
     "fdb8ae9cf4644420b1ebb986d396a992": {
      "model_module": "@jupyter-widgets/controls",
      "model_module_version": "1.5.0",
      "model_name": "HBoxModel",
      "state": {
       "children": [
        "IPY_MODEL_a6f98fefabd149a6acd2a314b8bb5597",
        "IPY_MODEL_f4feac18f7c847e6a8a4df9f64e5f243"
       ],
       "layout": "IPY_MODEL_2a85977545ee4138842415659bf25193"
      }
     },
     "fdbef8cf2c3c4a7e8081cc467890b54b": {
      "model_module": "@jupyter-widgets/controls",
      "model_module_version": "1.5.0",
      "model_name": "LabelModel",
      "state": {
       "layout": "IPY_MODEL_bc1ade3cb2b34449a7795ec1e7b83d39",
       "style": "IPY_MODEL_8d802cb009624110940ba82de4034fc7",
       "value": "255 / 255"
      }
     },
     "fdc77c5c7a534df782d40617d0fccf20": {
      "model_module": "@jupyter-widgets/controls",
      "model_module_version": "1.5.0",
      "model_name": "HBoxModel",
      "state": {
       "children": [
        "IPY_MODEL_11c30bade82b4be9bbb862ac97897e11",
        "IPY_MODEL_f0ec3d27e2864ab985419b8474cbee73"
       ],
       "layout": "IPY_MODEL_beae3e3e4be94ec799af0cff8951da23"
      }
     },
     "fe03ca74ce6a4e96a20f7e6050802b6a": {
      "model_module": "@jupyter-widgets/base",
      "model_module_version": "1.2.0",
      "model_name": "LayoutModel",
      "state": {}
     },
     "fe1a36fdb01a4620a33c33a1d0ec1bad": {
      "model_module": "@jupyter-widgets/base",
      "model_module_version": "1.2.0",
      "model_name": "LayoutModel",
      "state": {}
     },
     "fe1ac5cc8d3b48899fba3fa670f37f33": {
      "model_module": "@jupyter-widgets/controls",
      "model_module_version": "1.5.0",
      "model_name": "HBoxModel",
      "state": {
       "children": [
        "IPY_MODEL_7bfa79d15d3748489ccae549fe4b6979",
        "IPY_MODEL_c861162257e441eab086c9e81012bc53"
       ],
       "layout": "IPY_MODEL_3a14ded8962645579dd393adb974c8f2"
      }
     },
     "fe344ce9da604952873b854b6f29c547": {
      "model_module": "@jupyter-widgets/controls",
      "model_module_version": "1.5.0",
      "model_name": "DescriptionStyleModel",
      "state": {
       "description_width": ""
      }
     },
     "fe57c144a5c84613887ad194b9cc1d87": {
      "model_module": "@jupyter-widgets/controls",
      "model_module_version": "1.5.0",
      "model_name": "HBoxModel",
      "state": {
       "children": [
        "IPY_MODEL_69d1eb81201d43afb384088adba1e105",
        "IPY_MODEL_31d9b31dc5fb4438b4f13d3bd4a7fa53"
       ],
       "layout": "IPY_MODEL_f4313784bef1419895e7a8e268af4db4"
      }
     },
     "fe675f884a0d4eabb98fcc7b6b007687": {
      "model_module": "@jupyter-widgets/base",
      "model_module_version": "1.2.0",
      "model_name": "LayoutModel",
      "state": {}
     },
     "fe73e0db9910423bb9e082c647fb54ce": {
      "model_module": "@jupyter-widgets/controls",
      "model_module_version": "1.5.0",
      "model_name": "ProgressStyleModel",
      "state": {
       "description_width": ""
      }
     },
     "fea83f28b55e4285b8e5ccd25a61498e": {
      "model_module": "@jupyter-widgets/controls",
      "model_module_version": "1.5.0",
      "model_name": "HBoxModel",
      "state": {
       "children": [
        "IPY_MODEL_7df4113a9fac433e8ec83de7cb023619",
        "IPY_MODEL_da359785f37e4b84bf0e87a3338b0671"
       ],
       "layout": "IPY_MODEL_8df27579b3104fefb2bfc606f3d0b64a"
      }
     },
     "fea98b2dde1c4638acf3c66e6baed079": {
      "model_module": "@jupyter-widgets/base",
      "model_module_version": "1.2.0",
      "model_name": "LayoutModel",
      "state": {}
     },
     "febb9dc322ef4b0788d93d704fbbaeb4": {
      "model_module": "@jupyter-widgets/controls",
      "model_module_version": "1.5.0",
      "model_name": "DescriptionStyleModel",
      "state": {
       "description_width": ""
      }
     },
     "ff3a92ac53cb4e38b0f59575f61c019a": {
      "model_module": "@jupyter-widgets/controls",
      "model_module_version": "1.5.0",
      "model_name": "DescriptionStyleModel",
      "state": {
       "description_width": ""
      }
     },
     "ff562109c2a24ee1a52404c5400c5ca1": {
      "model_module": "@jupyter-widgets/controls",
      "model_module_version": "1.5.0",
      "model_name": "HBoxModel",
      "state": {
       "children": [
        "IPY_MODEL_8416c4d9c74f48a2b3bf7a00d072c46a",
        "IPY_MODEL_f822ca1ab39d4158832b1d7e806c393c"
       ],
       "layout": "IPY_MODEL_36ead8374ed0475da8304b40fc9fcddd"
      }
     }
    },
    "version_major": 2,
    "version_minor": 0
   }
  }
 },
 "nbformat": 4,
 "nbformat_minor": 4
}
